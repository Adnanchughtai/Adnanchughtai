{
 "cells": [
  {
   "cell_type": "code",
   "execution_count": 1,
   "id": "43ef886c",
   "metadata": {
    "_cell_guid": "b1076dfc-b9ad-4769-8c92-a6c4dae69d19",
    "_uuid": "8f2839f25d086af736a60e9eeb907d3b93b6e0e5",
    "execution": {
     "iopub.execute_input": "2023-11-10T06:02:36.440751Z",
     "iopub.status.busy": "2023-11-10T06:02:36.439912Z",
     "iopub.status.idle": "2023-11-10T06:02:37.330467Z",
     "shell.execute_reply": "2023-11-10T06:02:37.329334Z"
    },
    "papermill": {
     "duration": 0.921273,
     "end_time": "2023-11-10T06:02:37.333099",
     "exception": false,
     "start_time": "2023-11-10T06:02:36.411826",
     "status": "completed"
    },
    "tags": []
   },
   "outputs": [
    {
     "name": "stdout",
     "output_type": "stream",
     "text": [
      "/kaggle/input/google-play-store-data/googleplaystore.csv\n"
     ]
    }
   ],
   "source": [
    "# This Python 3 environment comes with many helpful analytics libraries installed\n",
    "# It is defined by the kaggle/python Docker image: https://github.com/kaggle/docker-python\n",
    "# For example, here's several helpful packages to load\n",
    "\n",
    "import numpy as np # linear algebra\n",
    "import pandas as pd # data processing, CSV file I/O (e.g. pd.read_csv)\n",
    "\n",
    "# Input data files are available in the read-only \"../input/\" directory\n",
    "# For example, running this (by clicking run or pressing Shift+Enter) will list all files under the input directory\n",
    "\n",
    "import os\n",
    "for dirname, _, filenames in os.walk('/kaggle/input'):\n",
    "    for filename in filenames:\n",
    "        print(os.path.join(dirname, filename))\n",
    "\n",
    "# You can write up to 20GB to the current directory (/kaggle/working/) that gets preserved as output when you create a version using \"Save & Run All\" \n",
    "# You can also write temporary files to /kaggle/temp/, but they won't be saved outside of the current session"
   ]
  },
  {
   "cell_type": "markdown",
   "id": "04268ba1",
   "metadata": {
    "papermill": {
     "duration": 0.026347,
     "end_time": "2023-11-10T06:02:37.385091",
     "exception": false,
     "start_time": "2023-11-10T06:02:37.358744",
     "status": "completed"
    },
    "tags": []
   },
   "source": [
    "<div style=\"border-radius:10px; padding: 15px; background-color: #f2f7f6; font-size:100%; text-align:left\">\n",
    "\n",
    "<h2 align=\"left\"><font color=#501ee6>About Author:</font></h2>\n",
    "\n",
    "<a><span style='color:#501ee6; font-size:15px'>**Name :** |</span><span style='color:#01181c; font-size:15px'> Muhammad Adnan (Pakistan)</span></a> \\\n",
    "<a><span style='color:#501ee6; font-size:15px'>**Profession :** |</span><span style='color:#01181c; font-size:15px'>  Data Scientist</span></a>\\\n",
    "<a><span style='color:#501ee6; font-size:15px'>**Data :** |</span><span style='color:#01181c; font-size:15px'>  Google Play store</span></a>\\\n",
    "<a><span style='color:#501ee6; font-size:15px'>**Date :** |</span><span style='color:#01181c; font-size:15px'>  08-Novermber, 2023</span></a>"
   ]
  },
  {
   "cell_type": "markdown",
   "id": "a218a54c",
   "metadata": {
    "papermill": {
     "duration": 0.025692,
     "end_time": "2023-11-10T06:02:37.436313",
     "exception": false,
     "start_time": "2023-11-10T06:02:37.410621",
     "status": "completed"
    },
    "tags": []
   },
   "source": [
    "<img src='https://logos-world.net/wp-content/uploads/2020/11/Google-Play-Logo-2015-2016.png' width=400px>"
   ]
  },
  {
   "cell_type": "markdown",
   "id": "4f25151e",
   "metadata": {
    "papermill": {
     "duration": 0.025044,
     "end_time": "2023-11-10T06:02:37.487670",
     "exception": false,
     "start_time": "2023-11-10T06:02:37.462626",
     "status": "completed"
    },
    "tags": []
   },
   "source": [
    "<div style=\"border-radius:10px; padding: 15px; background-color: #f2f7f6; font-size:100%; text-align:left\">\n",
    "\n",
    "<h2 align=\"left\"><font color=#cc0a27>About data:</font></h2>\n",
    "\n",
    "<a><span style='color:#cc0a27; font-size:15px'>**App :** |</span><span style='color:#01181c; font-size:15px'> The name of the apps (Different)</span></a> \\\n",
    "<a><span style='color:#cc0a27; font-size:15px'>**Category :** |</span><span style='color:#01181c; font-size:15px'>  The category of the app (e.g; Education, Entertainment, Life style etc.</span></a>\\\n",
    "<a><span style='color:#cc0a27; font-size:15px'>**Rating :** |</span><span style='color:#01181c; font-size:15px'>   The rating has a range from (0-5)</span></a>\\\n",
    "<a><span style='color:#cc0a27; font-size:15px'>**Reviews :** |</span><span style='color:#01181c; font-size:15px'>  The number of reviews of the app</span></a>\\\n",
    "<a><span style='color:#cc0a27; font-size:15px'>**Size :**  |</span><span style='color:#01181c; font-size:15px'>  The size of the app in (kb/Mb)</span></a>\\\n",
    "<a><span style='color:#cc0a27; font-size:15px'>**Install :** |</span><span style='color:#01181c; font-size:15px'>   The number of installs of the app</span></a>\\\n",
    "<a><span style='color:#cc0a27; font-size:15px'>**Type :**  |</span><span style='color:#01181c; font-size:15px'>  The type of the app (Free/Paid)</span></a>\\\n",
    "<a><span style='color:#cc0a27; font-size:15px'>**Price :**  |</span><span style='color:#01181c; font-size:15px'>  The price of the app (Free/Paid)</span></a>\\\n",
    "<a><span style='color:#cc0a27; font-size:15px'>**Content Rating :** |</span><span style='color:#01181c; font-size:15px'>  The different individual categories</span></a>\\\n",
    "<a><span style='color:#cc0a27; font-size:15px'>**Genres:**  |</span><span style='color:#01181c; font-size:15px'>   The genre of the app</span></a>\\\n",
    "<a><span style='color:#cc0a27; font-size:15px'>**Last Updated :**  |</span><span style='color:#01181c; font-size:15px'>  The date when the app was last updated</span></a>\\\n",
    "<a><span style='color:#cc0a27; font-size:15px'>**Current Ver :** |</span><span style='color:#01181c; font-size:15px'>  The current version of the app</span></a> \\\n",
    "<a><span style='color:#cc0a27; font-size:15px'>**Android Ver :**  |</span><span style='color:#01181c; font-size:15px'>  The minimum Android version required to run the app</span></a>"
   ]
  },
  {
   "cell_type": "markdown",
   "id": "fc6cb89e",
   "metadata": {
    "papermill": {
     "duration": 0.02512,
     "end_time": "2023-11-10T06:02:37.538122",
     "exception": false,
     "start_time": "2023-11-10T06:02:37.513002",
     "status": "completed"
    },
    "tags": []
   },
   "source": [
    "<div style=\"border-radius:10px; padding: 15px; background-color: #f2f7f6; font-size:100%; text-align:left\">\n",
    "\n",
    "<h2 align=\"left\"><font color=#501ee6>Google Play Store:</font></h2>\n",
    "\n",
    "<a><span style='color:#501ee6; font-size:15px'>**About the Data :** |</span><span style='color:#01181c; font-size:15px'> While many public datasets (on Kaggle and the like) provide Apple App Store data, there are not many counterpart datasets available for Google Play Store apps anywhere on the web. On digging deeper, I found out that iTunes App Store page deploys a nicely indexed appendix-like structure to allow for simple and easy web scraping. On the other hand, Google Play Store uses sophisticated modern-day techniques (like dynamic page load) using JQuery making scraping more challenging.</span></a> "
   ]
  },
  {
   "cell_type": "markdown",
   "id": "61bff889",
   "metadata": {
    "papermill": {
     "duration": 0.024942,
     "end_time": "2023-11-10T06:02:37.588473",
     "exception": false,
     "start_time": "2023-11-10T06:02:37.563531",
     "status": "completed"
    },
    "tags": []
   },
   "source": [
    "<div style=\"border-radius:10px; padding: 15px; background-color: #f2f7f6; font-size:100%; text-align:left\">\n",
    "\n",
    "<h3 align=\"left\"><font color=#501ee6>Data Handling steps:</font></h3>\n",
    "\n",
    "<a><span></span><span style='color:#01181c; font-size:15px'> <ul>\n",
    "    <li>Data Loading</li>\n",
    "     <li>Data Exploration</li>\n",
    "     <li>Data Wrangling</li>\n",
    "     <li>Data visualization</li>\n",
    "    <li>Data questioning & Visualization</li></ul></span></a> "
   ]
  },
  {
   "cell_type": "markdown",
   "id": "1902c531",
   "metadata": {
    "papermill": {
     "duration": 0.024801,
     "end_time": "2023-11-10T06:02:37.639564",
     "exception": false,
     "start_time": "2023-11-10T06:02:37.614763",
     "status": "completed"
    },
    "tags": []
   },
   "source": [
    "<a id=\"load_dataset\"></a>\n",
    "# <b><span style='color:#cc0a27'>Step 1 |</span><span style='color:#0aaccc'> Loading the Libraries</span></b>"
   ]
  },
  {
   "cell_type": "code",
   "execution_count": 2,
   "id": "5bdd1613",
   "metadata": {
    "execution": {
     "iopub.execute_input": "2023-11-10T06:02:37.691574Z",
     "iopub.status.busy": "2023-11-10T06:02:37.691028Z",
     "iopub.status.idle": "2023-11-10T06:02:40.381358Z",
     "shell.execute_reply": "2023-11-10T06:02:40.380344Z"
    },
    "papermill": {
     "duration": 2.71978,
     "end_time": "2023-11-10T06:02:40.384309",
     "exception": false,
     "start_time": "2023-11-10T06:02:37.664529",
     "status": "completed"
    },
    "tags": []
   },
   "outputs": [],
   "source": [
    "# Load the libraries\n",
    "import pandas as pd\n",
    "import seaborn as sns\n",
    "import matplotlib.pyplot as plt\n",
    "import numpy as np\n",
    "import plotly.express as px\n",
    "import plotly.graph_objects as go\n",
    "%matplotlib inline"
   ]
  },
  {
   "cell_type": "markdown",
   "id": "7e88d8b4",
   "metadata": {
    "papermill": {
     "duration": 0.02519,
     "end_time": "2023-11-10T06:02:40.498161",
     "exception": false,
     "start_time": "2023-11-10T06:02:40.472971",
     "status": "completed"
    },
    "tags": []
   },
   "source": [
    "<div style=\"border-radius:10px; padding: 15px; background-color: #f2f7f6; font-size:100%; text-align:left\">\n",
    "\n",
    "<h3 align=\"left\"><font color=#501ee6>Data Loading, Exploration & Cleaning :</font></h3>\n",
    "\n",
    "<a><span></span><span style='color:#01181c; font-size:15px'> <ul>\n",
    "    <li>Load the csv file with the pandas</li>\n",
    "     <li>Creating the dataframe and understanding the data present in the dataset using pandas</li>\n",
    "     <li>Dealing with the missing data, outliers and the incorrect records</li>\n",
    "     <li>Remove Duplicates rows</li></ul></span></a> "
   ]
  },
  {
   "cell_type": "code",
   "execution_count": 3,
   "id": "f535e73f",
   "metadata": {
    "execution": {
     "iopub.execute_input": "2023-11-10T06:02:40.551889Z",
     "iopub.status.busy": "2023-11-10T06:02:40.551263Z",
     "iopub.status.idle": "2023-11-10T06:02:40.664863Z",
     "shell.execute_reply": "2023-11-10T06:02:40.663272Z"
    },
    "papermill": {
     "duration": 0.143529,
     "end_time": "2023-11-10T06:02:40.667568",
     "exception": false,
     "start_time": "2023-11-10T06:02:40.524039",
     "status": "completed"
    },
    "tags": []
   },
   "outputs": [
    {
     "data": {
      "text/html": [
       "<div>\n",
       "<style scoped>\n",
       "    .dataframe tbody tr th:only-of-type {\n",
       "        vertical-align: middle;\n",
       "    }\n",
       "\n",
       "    .dataframe tbody tr th {\n",
       "        vertical-align: top;\n",
       "    }\n",
       "\n",
       "    .dataframe thead th {\n",
       "        text-align: right;\n",
       "    }\n",
       "</style>\n",
       "<table border=\"1\" class=\"dataframe\">\n",
       "  <thead>\n",
       "    <tr style=\"text-align: right;\">\n",
       "      <th></th>\n",
       "      <th>App</th>\n",
       "      <th>Category</th>\n",
       "      <th>Rating</th>\n",
       "      <th>Reviews</th>\n",
       "      <th>Size</th>\n",
       "      <th>Installs</th>\n",
       "      <th>Type</th>\n",
       "      <th>Price</th>\n",
       "      <th>Content Rating</th>\n",
       "      <th>Genres</th>\n",
       "      <th>Last Updated</th>\n",
       "      <th>Current Ver</th>\n",
       "      <th>Android Ver</th>\n",
       "    </tr>\n",
       "  </thead>\n",
       "  <tbody>\n",
       "    <tr>\n",
       "      <th>0</th>\n",
       "      <td>Photo Editor &amp; Candy Camera &amp; Grid &amp; ScrapBook</td>\n",
       "      <td>ART_AND_DESIGN</td>\n",
       "      <td>4.1</td>\n",
       "      <td>159</td>\n",
       "      <td>19M</td>\n",
       "      <td>10,000+</td>\n",
       "      <td>Free</td>\n",
       "      <td>0</td>\n",
       "      <td>Everyone</td>\n",
       "      <td>Art &amp; Design</td>\n",
       "      <td>January 7, 2018</td>\n",
       "      <td>1.0.0</td>\n",
       "      <td>4.0.3 and up</td>\n",
       "    </tr>\n",
       "    <tr>\n",
       "      <th>1</th>\n",
       "      <td>Coloring book moana</td>\n",
       "      <td>ART_AND_DESIGN</td>\n",
       "      <td>3.9</td>\n",
       "      <td>967</td>\n",
       "      <td>14M</td>\n",
       "      <td>500,000+</td>\n",
       "      <td>Free</td>\n",
       "      <td>0</td>\n",
       "      <td>Everyone</td>\n",
       "      <td>Art &amp; Design;Pretend Play</td>\n",
       "      <td>January 15, 2018</td>\n",
       "      <td>2.0.0</td>\n",
       "      <td>4.0.3 and up</td>\n",
       "    </tr>\n",
       "    <tr>\n",
       "      <th>2</th>\n",
       "      <td>U Launcher Lite – FREE Live Cool Themes, Hide ...</td>\n",
       "      <td>ART_AND_DESIGN</td>\n",
       "      <td>4.7</td>\n",
       "      <td>87510</td>\n",
       "      <td>8.7M</td>\n",
       "      <td>5,000,000+</td>\n",
       "      <td>Free</td>\n",
       "      <td>0</td>\n",
       "      <td>Everyone</td>\n",
       "      <td>Art &amp; Design</td>\n",
       "      <td>August 1, 2018</td>\n",
       "      <td>1.2.4</td>\n",
       "      <td>4.0.3 and up</td>\n",
       "    </tr>\n",
       "  </tbody>\n",
       "</table>\n",
       "</div>"
      ],
      "text/plain": [
       "                                                 App        Category  Rating  \\\n",
       "0     Photo Editor & Candy Camera & Grid & ScrapBook  ART_AND_DESIGN     4.1   \n",
       "1                                Coloring book moana  ART_AND_DESIGN     3.9   \n",
       "2  U Launcher Lite – FREE Live Cool Themes, Hide ...  ART_AND_DESIGN     4.7   \n",
       "\n",
       "   Reviews  Size    Installs  Type Price Content Rating  \\\n",
       "0      159   19M     10,000+  Free     0       Everyone   \n",
       "1      967   14M    500,000+  Free     0       Everyone   \n",
       "2    87510  8.7M  5,000,000+  Free     0       Everyone   \n",
       "\n",
       "                      Genres      Last Updated Current Ver   Android Ver  \n",
       "0               Art & Design   January 7, 2018       1.0.0  4.0.3 and up  \n",
       "1  Art & Design;Pretend Play  January 15, 2018       2.0.0  4.0.3 and up  \n",
       "2               Art & Design    August 1, 2018       1.2.4  4.0.3 and up  "
      ]
     },
     "execution_count": 3,
     "metadata": {},
     "output_type": "execute_result"
    }
   ],
   "source": [
    "df = pd.read_csv(\"/kaggle/input/google-play-store-data/googleplaystore.csv\")\n",
    "df.head(3)"
   ]
  },
  {
   "cell_type": "markdown",
   "id": "abf1adfa",
   "metadata": {
    "papermill": {
     "duration": 0.02676,
     "end_time": "2023-11-10T06:02:40.720631",
     "exception": false,
     "start_time": "2023-11-10T06:02:40.693871",
     "status": "completed"
    },
    "tags": []
   },
   "source": [
    "<div style=\"border-radius:10px; padding: 15px; background-color: #f2f7f6; font-size:100%; text-align:left\">\n",
    "\n",
    "<h2 align=\"left\"><font color=#cc0a27>Data Columns and Rows:</font></h2>\n",
    "\n",
    "<a><span style='color:#cc0a27; font-size:15px'>**App :** |</span><span style='color:#01181c; font-size:15px'> The name of the apps (Different)</span></a> \n",
    "<a><span style='color:#cc0a27; font-size:15px'>**Category :** |</span><span style='color:#01181c; font-size:15px'>  The category of the app (e.g; Education, Entertainment, Life style etc.</span></a>\n",
    "<a><span style='color:#cc0a27; font-size:15px'>**Rating :** |</span><span style='color:#01181c; font-size:15px'>   The rating has a range from (0-5)</span></a>\n",
    "<a><span style='color:#cc0a27; font-size:15px'>**Reviews :** |</span><span style='color:#01181c; font-size:15px'>  The number of reviews of the app</span></a>\n",
    "<a><span style='color:#cc0a27; font-size:15px'>**Size :**  |</span><span style='color:#01181c; font-size:15px'>  The size of the app in (kb/Mb)</span></a>\n",
    "<a><span style='color:#cc0a27; font-size:15px'>**Install :** |</span><span style='color:#01181c; font-size:15px'>   The number of installs of the app</span></a>\n",
    "<a><span style='color:#cc0a27; font-size:15px'>**Type :**  |</span><span style='color:#01181c; font-size:15px'>  The type of the app (Free/Paid)</span></a>\n",
    "<a><span style='color:#cc0a27; font-size:15px'>**Price :**  |</span><span style='color:#01181c; font-size:15px'>  The price of the app (Free/Paid)</span></a>\n",
    "<a><span style='color:#cc0a27; font-size:15px'>**Content Rating :** |</span><span style='color:#01181c; font-size:15px'>  The different individual categories</span></a>\n",
    "<a><span style='color:#cc0a27; font-size:15px'>**Genres:**  |</span><span style='color:#01181c; font-size:15px'>   The genre of the app</span></a>\n",
    "<a><span style='color:#cc0a27; font-size:15px'>**Last Updated :**  |</span><span style='color:#01181c; font-size:15px'>  The date when the app was last updated</span></a>\n",
    "<a><span style='color:#cc0a27; font-size:15px'>**Current Ver :** |</span><span style='color:#01181c; font-size:15px'>  The current version of the app</span></a> \n",
    "<a><span style='color:#cc0a27; font-size:15px'>**Android Ver :**  |</span><span style='color:#01181c; font-size:15px'>  The minimum Android version required to run the app</span></a>"
   ]
  },
  {
   "cell_type": "markdown",
   "id": "aa3a7d92",
   "metadata": {
    "papermill": {
     "duration": 0.025566,
     "end_time": "2023-11-10T06:02:40.772214",
     "exception": false,
     "start_time": "2023-11-10T06:02:40.746648",
     "status": "completed"
    },
    "tags": []
   },
   "source": [
    "<div style=\"border-radius:10px; padding: 15px; background-color: #f2f7f6; font-size:100%; text-align:left\">\n",
    "\n",
    "<h2 align=\"left\"><font color=#501ee6>Important things to know:</font></h2>\n",
    "\n",
    "<a><span style='color:#501ee6; font-size:15px'>**Rows vs Columns :** |</span><span style='color:#01181c; font-size:15px'> To show all the columns and rows then follow the below code</span></a> \n",
    "\n",
    "<a><span style='color:#501ee6; font-size:15px'>**Warnings :** |</span><span style='color:#01181c; font-size:15px'> To ingor all the warning or hide them</span></a> "
   ]
  },
  {
   "cell_type": "code",
   "execution_count": 4,
   "id": "7b1d6595",
   "metadata": {
    "execution": {
     "iopub.execute_input": "2023-11-10T06:02:40.825727Z",
     "iopub.status.busy": "2023-11-10T06:02:40.825273Z",
     "iopub.status.idle": "2023-11-10T06:02:40.830758Z",
     "shell.execute_reply": "2023-11-10T06:02:40.829969Z"
    },
    "papermill": {
     "duration": 0.034884,
     "end_time": "2023-11-10T06:02:40.832953",
     "exception": false,
     "start_time": "2023-11-10T06:02:40.798069",
     "status": "completed"
    },
    "tags": []
   },
   "outputs": [],
   "source": [
    "# set options to be maximum for rows and columns\n",
    "pd.set_option('display.max_columns', None)\n",
    "pd.set_option('display.max_rows', None)\n",
    "\n",
    "# Hide all warnings\n",
    "import warnings\n",
    "warnings.filterwarnings(\"ignore\")   "
   ]
  },
  {
   "cell_type": "markdown",
   "id": "24d79f34",
   "metadata": {
    "papermill": {
     "duration": 0.025547,
     "end_time": "2023-11-10T06:02:40.884511",
     "exception": false,
     "start_time": "2023-11-10T06:02:40.858964",
     "status": "completed"
    },
    "tags": []
   },
   "source": [
    "<div style=\"border-radius:10px; padding: 15px; background-color: #f2f7f6; font-size:100%; text-align:left\">\n",
    "\n",
    "<h2 align=\"left\"><font color=#501ee6>Data Exploration:</font></h2>\n",
    "\n",
    "<a><span style='color:#501ee6; font-size:15px'>**Columns names:** |</span><span style='color:#01181c; font-size:15px'> To print all the column names</span></a> \\\n",
    "<a><span style='color:#501ee6; font-size:15px'>**Column & Rows Number:** |</span><span style='color:#01181c; font-size:15px'> To show how many rows and columns in the dataset</span></a> \\\n",
    "<a><span style='color:#501ee6; font-size:15px'>**Data Duplicates:** |</span><span style='color:#01181c; font-size:15px'> To show how many duplicates rows in the dataset are</span></a> \\\n",
    "<a><span style='color:#501ee6; font-size:15px'>**Data Information:** |</span><span style='color:#01181c; font-size:15px'> To show how many columns are, and their types</span></a> \\\n",
    "<a><span style='color:#501ee6; font-size:15px'>**Data Summary:** |</span><span style='color:#01181c; font-size:15px'> This will show the mean, median, quartiles, but for numericals colmns only</span></a> \n",
    "\n"
   ]
  },
  {
   "cell_type": "code",
   "execution_count": 5,
   "id": "0d6b8036",
   "metadata": {
    "execution": {
     "iopub.execute_input": "2023-11-10T06:02:40.941553Z",
     "iopub.status.busy": "2023-11-10T06:02:40.940792Z",
     "iopub.status.idle": "2023-11-10T06:02:40.946783Z",
     "shell.execute_reply": "2023-11-10T06:02:40.945655Z"
    },
    "papermill": {
     "duration": 0.036526,
     "end_time": "2023-11-10T06:02:40.949192",
     "exception": false,
     "start_time": "2023-11-10T06:02:40.912666",
     "status": "completed"
    },
    "tags": []
   },
   "outputs": [
    {
     "name": "stdout",
     "output_type": "stream",
     "text": [
      "Show all the column names:, Index(['App', 'Category', 'Rating', 'Reviews', 'Size', 'Installs', 'Type',\n",
      "       'Price', 'Content Rating', 'Genres', 'Last Updated', 'Current Ver',\n",
      "       'Android Ver'],\n",
      "      dtype='object')\n"
     ]
    }
   ],
   "source": [
    "print(f\"Show all the column names:, {df.columns}\")"
   ]
  },
  {
   "cell_type": "code",
   "execution_count": 6,
   "id": "2703f700",
   "metadata": {
    "execution": {
     "iopub.execute_input": "2023-11-10T06:02:41.004978Z",
     "iopub.status.busy": "2023-11-10T06:02:41.003732Z",
     "iopub.status.idle": "2023-11-10T06:02:41.010029Z",
     "shell.execute_reply": "2023-11-10T06:02:41.008840Z"
    },
    "papermill": {
     "duration": 0.036805,
     "end_time": "2023-11-10T06:02:41.012292",
     "exception": false,
     "start_time": "2023-11-10T06:02:40.975487",
     "status": "completed"
    },
    "tags": []
   },
   "outputs": [
    {
     "name": "stdout",
     "output_type": "stream",
     "text": [
      "The number of rows are 10840, & The number of columns are 13\n"
     ]
    }
   ],
   "source": [
    "print(f\"The number of rows are {df.shape[0]}, & The number of columns are {df.shape[1]}\")"
   ]
  },
  {
   "cell_type": "markdown",
   "id": "a52315b0",
   "metadata": {
    "papermill": {
     "duration": 0.026365,
     "end_time": "2023-11-10T06:02:41.065176",
     "exception": false,
     "start_time": "2023-11-10T06:02:41.038811",
     "status": "completed"
    },
    "tags": []
   },
   "source": [
    "<div style=\"border-radius:10px; padding: 15px; background-color: #f2f7f6; font-size:100%; text-align:left\">\n",
    "\n",
    "<h3 align=\"left\"><font color=#501ee6>Data Exploration & Cleaning:</font></h3>\n",
    "\n",
    "<a><span></span><span style='color:#01181c; font-size:15px'> <ul>\n",
    "    <li>It's crucial to remove them to make sure we understand the data properly.</li>\n",
    "     <li>If you keep duplicates in your data, it can mess up your understanding and analysis.</li>\n",
    "     <li>Duplicates can make things like averages, middle values, and spread look wrong, and they might make some data appear more important than it really is.</li>\n",
    "     <li>So, it's really important to get rid of duplicates to make sure your data analysis is accurate and trustworthy.\n",
    "</li></ul></span></a> "
   ]
  },
  {
   "cell_type": "code",
   "execution_count": 7,
   "id": "e9726e4a",
   "metadata": {
    "execution": {
     "iopub.execute_input": "2023-11-10T06:02:41.120338Z",
     "iopub.status.busy": "2023-11-10T06:02:41.119918Z",
     "iopub.status.idle": "2023-11-10T06:02:41.157489Z",
     "shell.execute_reply": "2023-11-10T06:02:41.156645Z"
    },
    "papermill": {
     "duration": 0.067782,
     "end_time": "2023-11-10T06:02:41.160033",
     "exception": false,
     "start_time": "2023-11-10T06:02:41.092251",
     "status": "completed"
    },
    "tags": []
   },
   "outputs": [
    {
     "data": {
      "text/plain": [
       "483"
      ]
     },
     "execution_count": 7,
     "metadata": {},
     "output_type": "execute_result"
    }
   ],
   "source": [
    "# find duplicate if any\n",
    "df.duplicated().sum()"
   ]
  },
  {
   "cell_type": "markdown",
   "id": "09b4bca5",
   "metadata": {
    "papermill": {
     "duration": 0.026144,
     "end_time": "2023-11-10T06:02:41.212781",
     "exception": false,
     "start_time": "2023-11-10T06:02:41.186637",
     "status": "completed"
    },
    "tags": []
   },
   "source": [
    "<div style=\"border-radius:10px; padding: 15px; background-color: #f2f7f6; font-size:100%; text-align:left\">\n",
    "\n",
    "<h4 align=\"left\"><font color=#501ee6>Explain:</font></h4>\n",
    "<a><span></span><span style='color:#01181c; font-size:15px'> <ul>\n",
    "    <li>We get over all 483 duplicates in the dataset are, So, we will remove these duplicates values.</li>"
   ]
  },
  {
   "cell_type": "code",
   "execution_count": 8,
   "id": "3f44f6a7",
   "metadata": {
    "execution": {
     "iopub.execute_input": "2023-11-10T06:02:41.270319Z",
     "iopub.status.busy": "2023-11-10T06:02:41.269194Z",
     "iopub.status.idle": "2023-11-10T06:02:41.299076Z",
     "shell.execute_reply": "2023-11-10T06:02:41.297894Z"
    },
    "papermill": {
     "duration": 0.0618,
     "end_time": "2023-11-10T06:02:41.301790",
     "exception": false,
     "start_time": "2023-11-10T06:02:41.239990",
     "status": "completed"
    },
    "tags": []
   },
   "outputs": [],
   "source": [
    "# remove the duplicate values\n",
    "df.drop_duplicates(inplace=True)"
   ]
  },
  {
   "cell_type": "code",
   "execution_count": 9,
   "id": "774f6e46",
   "metadata": {
    "execution": {
     "iopub.execute_input": "2023-11-10T06:02:41.356527Z",
     "iopub.status.busy": "2023-11-10T06:02:41.356128Z",
     "iopub.status.idle": "2023-11-10T06:02:41.361943Z",
     "shell.execute_reply": "2023-11-10T06:02:41.360783Z"
    },
    "papermill": {
     "duration": 0.036192,
     "end_time": "2023-11-10T06:02:41.364353",
     "exception": false,
     "start_time": "2023-11-10T06:02:41.328161",
     "status": "completed"
    },
    "tags": []
   },
   "outputs": [
    {
     "name": "stdout",
     "output_type": "stream",
     "text": [
      "The number of rows in the dataseta are 10357 & columns are:13\n"
     ]
    }
   ],
   "source": [
    "# print the number of rows and columns after removing the duplicates\n",
    "print(F\"The number of rows in the dataseta are {df.shape[0]} & columns are:{df.shape[1]}\")"
   ]
  },
  {
   "cell_type": "markdown",
   "id": "d94d6c23",
   "metadata": {
    "papermill": {
     "duration": 0.025999,
     "end_time": "2023-11-10T06:02:41.417130",
     "exception": false,
     "start_time": "2023-11-10T06:02:41.391131",
     "status": "completed"
    },
    "tags": []
   },
   "source": [
    "<div style=\"border-radius:10px; padding: 15px; background-color: #f2f7f6; font-size:100%; text-align:left\">\n",
    "\n",
    "<h4 align=\"left\"><font color=#501ee6>Explain:</font></h4>\n",
    "<a><span></span><span style='color:#01181c; font-size:15px'> <ul>\n",
    "    <li>Check the data shape after removing all the duplicates. We get <b>10357 rows</b> & <b>13 columns</b> Now our data is clean from all the duplicates. now we can do further exploration</li>"
   ]
  },
  {
   "cell_type": "markdown",
   "id": "03f00f12",
   "metadata": {
    "papermill": {
     "duration": 0.025962,
     "end_time": "2023-11-10T06:02:41.470054",
     "exception": false,
     "start_time": "2023-11-10T06:02:41.444092",
     "status": "completed"
    },
    "tags": []
   },
   "source": [
    "<div style=\"border-radius:10px; padding: 15px; background-color: #f2f7f6; font-size:100%; text-align:left\">\n",
    "\n",
    "<h4 align=\"left\"><font color=#501ee6>Data information:</font></h4>\n",
    "<a><span></span><span style='color:#01181c; font-size:15px'> <ul>\n",
    "    <li>This will give us the information regarding the dataset</li>"
   ]
  },
  {
   "cell_type": "code",
   "execution_count": 10,
   "id": "78585401",
   "metadata": {
    "execution": {
     "iopub.execute_input": "2023-11-10T06:02:41.525068Z",
     "iopub.status.busy": "2023-11-10T06:02:41.524359Z",
     "iopub.status.idle": "2023-11-10T06:02:41.555112Z",
     "shell.execute_reply": "2023-11-10T06:02:41.553764Z"
    },
    "papermill": {
     "duration": 0.061257,
     "end_time": "2023-11-10T06:02:41.557709",
     "exception": false,
     "start_time": "2023-11-10T06:02:41.496452",
     "status": "completed"
    },
    "tags": []
   },
   "outputs": [
    {
     "name": "stdout",
     "output_type": "stream",
     "text": [
      "<class 'pandas.core.frame.DataFrame'>\n",
      "Index: 10357 entries, 0 to 10839\n",
      "Data columns (total 13 columns):\n",
      " #   Column          Non-Null Count  Dtype  \n",
      "---  ------          --------------  -----  \n",
      " 0   App             10357 non-null  object \n",
      " 1   Category        10357 non-null  object \n",
      " 2   Rating          8892 non-null   float64\n",
      " 3   Reviews         10357 non-null  int64  \n",
      " 4   Size            10357 non-null  object \n",
      " 5   Installs        10357 non-null  object \n",
      " 6   Type            10356 non-null  object \n",
      " 7   Price           10357 non-null  object \n",
      " 8   Content Rating  10357 non-null  object \n",
      " 9   Genres          10357 non-null  object \n",
      " 10  Last Updated    10357 non-null  object \n",
      " 11  Current Ver     10349 non-null  object \n",
      " 12  Android Ver     10355 non-null  object \n",
      "dtypes: float64(1), int64(1), object(11)\n",
      "memory usage: 1.1+ MB\n"
     ]
    }
   ],
   "source": [
    "df.info()"
   ]
  },
  {
   "cell_type": "code",
   "execution_count": 11,
   "id": "19a7ef92",
   "metadata": {
    "execution": {
     "iopub.execute_input": "2023-11-10T06:02:41.613171Z",
     "iopub.status.busy": "2023-11-10T06:02:41.612752Z",
     "iopub.status.idle": "2023-11-10T06:02:41.632856Z",
     "shell.execute_reply": "2023-11-10T06:02:41.631742Z"
    },
    "papermill": {
     "duration": 0.050734,
     "end_time": "2023-11-10T06:02:41.635282",
     "exception": false,
     "start_time": "2023-11-10T06:02:41.584548",
     "status": "completed"
    },
    "tags": []
   },
   "outputs": [
    {
     "data": {
      "text/html": [
       "<div>\n",
       "<style scoped>\n",
       "    .dataframe tbody tr th:only-of-type {\n",
       "        vertical-align: middle;\n",
       "    }\n",
       "\n",
       "    .dataframe tbody tr th {\n",
       "        vertical-align: top;\n",
       "    }\n",
       "\n",
       "    .dataframe thead th {\n",
       "        text-align: right;\n",
       "    }\n",
       "</style>\n",
       "<table border=\"1\" class=\"dataframe\">\n",
       "  <thead>\n",
       "    <tr style=\"text-align: right;\">\n",
       "      <th></th>\n",
       "      <th>Rating</th>\n",
       "      <th>Reviews</th>\n",
       "    </tr>\n",
       "  </thead>\n",
       "  <tbody>\n",
       "    <tr>\n",
       "      <th>count</th>\n",
       "      <td>8892.000000</td>\n",
       "      <td>1.035700e+04</td>\n",
       "    </tr>\n",
       "    <tr>\n",
       "      <th>mean</th>\n",
       "      <td>4.187877</td>\n",
       "      <td>4.059046e+05</td>\n",
       "    </tr>\n",
       "    <tr>\n",
       "      <th>std</th>\n",
       "      <td>0.522377</td>\n",
       "      <td>2.696778e+06</td>\n",
       "    </tr>\n",
       "    <tr>\n",
       "      <th>min</th>\n",
       "      <td>1.000000</td>\n",
       "      <td>0.000000e+00</td>\n",
       "    </tr>\n",
       "    <tr>\n",
       "      <th>25%</th>\n",
       "      <td>4.000000</td>\n",
       "      <td>3.200000e+01</td>\n",
       "    </tr>\n",
       "    <tr>\n",
       "      <th>50%</th>\n",
       "      <td>4.300000</td>\n",
       "      <td>1.680000e+03</td>\n",
       "    </tr>\n",
       "    <tr>\n",
       "      <th>75%</th>\n",
       "      <td>4.500000</td>\n",
       "      <td>4.641600e+04</td>\n",
       "    </tr>\n",
       "    <tr>\n",
       "      <th>max</th>\n",
       "      <td>5.000000</td>\n",
       "      <td>7.815831e+07</td>\n",
       "    </tr>\n",
       "  </tbody>\n",
       "</table>\n",
       "</div>"
      ],
      "text/plain": [
       "            Rating       Reviews\n",
       "count  8892.000000  1.035700e+04\n",
       "mean      4.187877  4.059046e+05\n",
       "std       0.522377  2.696778e+06\n",
       "min       1.000000  0.000000e+00\n",
       "25%       4.000000  3.200000e+01\n",
       "50%       4.300000  1.680000e+03\n",
       "75%       4.500000  4.641600e+04\n",
       "max       5.000000  7.815831e+07"
      ]
     },
     "execution_count": 11,
     "metadata": {},
     "output_type": "execute_result"
    }
   ],
   "source": [
    "df.describe()"
   ]
  },
  {
   "cell_type": "markdown",
   "id": "e5842874",
   "metadata": {
    "papermill": {
     "duration": 0.026779,
     "end_time": "2023-11-10T06:02:41.688894",
     "exception": false,
     "start_time": "2023-11-10T06:02:41.662115",
     "status": "completed"
    },
    "tags": []
   },
   "source": [
    "<div style=\"border-radius:10px; padding: 15px; background-color: #f2f7f6; font-size:100%; text-align:left\">\n",
    "\n",
    "<h4 align=\"left\"><font color=#501ee6>Explanation:</font></h4>\n",
    "<a><span></span><span style='color:#01181c; font-size:15px'> <ul>\n",
    "<li>If you see in the dataset there are many column with numeric values e.g., Size, Installs, Price,etc but they show as object, the reason is that they have some symbols inside which made them object instead of numeric. So, we will convert these columns into numeric ones and will check the data summary again.</li>\n",
    "<a><span></span><span style='color:#01181c; font-size:15px'> <ul>\n",
    "<li>We will convert first <b>Size</b>, <b>Installs</b>, & <b>Price</b> respectively.</li>"
   ]
  },
  {
   "cell_type": "markdown",
   "id": "470d3310",
   "metadata": {
    "papermill": {
     "duration": 0.026695,
     "end_time": "2023-11-10T06:02:41.742674",
     "exception": false,
     "start_time": "2023-11-10T06:02:41.715979",
     "status": "completed"
    },
    "tags": []
   },
   "source": [
    "<div style=\"border-radius:10px; padding: 15px; background-color: #f2f7f6; font-size:100%; text-align:left\">\n",
    "\n",
    "<h2 align=\"left\"><font color=#501ee6>Size Column Wrangling:</font></h2>"
   ]
  },
  {
   "cell_type": "code",
   "execution_count": 12,
   "id": "688b18b7",
   "metadata": {
    "execution": {
     "iopub.execute_input": "2023-11-10T06:02:41.799339Z",
     "iopub.status.busy": "2023-11-10T06:02:41.798626Z",
     "iopub.status.idle": "2023-11-10T06:02:41.805949Z",
     "shell.execute_reply": "2023-11-10T06:02:41.805040Z"
    },
    "papermill": {
     "duration": 0.038799,
     "end_time": "2023-11-10T06:02:41.808454",
     "exception": false,
     "start_time": "2023-11-10T06:02:41.769655",
     "status": "completed"
    },
    "tags": []
   },
   "outputs": [
    {
     "name": "stdout",
     "output_type": "stream",
     "text": [
      "['Varies with device' '5.7M' '33M' '8.6M' '1.9M' '21M' '1.5M' '4.2M'\n",
      " '9.2M']\n"
     ]
    }
   ],
   "source": [
    "sample_size = 10\n",
    "sampled_data = df.sample(n=sample_size)\n",
    "\n",
    "# Extract and display all unique values from the \"Size\" column\n",
    "unique_sizes = sampled_data['Size'].unique()\n",
    "print(unique_sizes)\n"
   ]
  },
  {
   "cell_type": "markdown",
   "id": "6dabb409",
   "metadata": {
    "papermill": {
     "duration": 0.026936,
     "end_time": "2023-11-10T06:02:41.862951",
     "exception": false,
     "start_time": "2023-11-10T06:02:41.836015",
     "status": "completed"
    },
    "tags": []
   },
   "source": [
    "<div style=\"border-radius:10px; padding: 15px; background-color: #f2f7f6; font-size:100%; text-align:left\">\n",
    "\n",
    "<h4 align=\"left\"><font color=#501ee6>Explanation:</font></h4>\n",
    "<a><span></span><span style='color:#01181c; font-size:15px'> <ul>\n",
    "    <li>If you see there are three types of values insides <B>\"Size\"</B> column, <b>\"varies with device\"</b>,<b>\"M\"</b>,& <b>\"k\"</b> .</li>\n"
   ]
  },
  {
   "cell_type": "code",
   "execution_count": 13,
   "id": "c6dd4669",
   "metadata": {
    "execution": {
     "iopub.execute_input": "2023-11-10T06:02:41.918367Z",
     "iopub.status.busy": "2023-11-10T06:02:41.917940Z",
     "iopub.status.idle": "2023-11-10T06:02:41.939349Z",
     "shell.execute_reply": "2023-11-10T06:02:41.938188Z"
    },
    "papermill": {
     "duration": 0.051892,
     "end_time": "2023-11-10T06:02:41.941754",
     "exception": false,
     "start_time": "2023-11-10T06:02:41.889862",
     "status": "completed"
    },
    "tags": []
   },
   "outputs": [
    {
     "data": {
      "text/plain": [
       "App                  0\n",
       "Category             0\n",
       "Rating            1465\n",
       "Reviews              0\n",
       "Size                 0\n",
       "Installs             0\n",
       "Type                 1\n",
       "Price                0\n",
       "Content Rating       0\n",
       "Genres               0\n",
       "Last Updated         0\n",
       "Current Ver          8\n",
       "Android Ver          2\n",
       "dtype: int64"
      ]
     },
     "execution_count": 13,
     "metadata": {},
     "output_type": "execute_result"
    }
   ],
   "source": [
    "# Check missing values in \"Size\" column\n",
    "df.isnull().sum()"
   ]
  },
  {
   "cell_type": "markdown",
   "id": "811ce692",
   "metadata": {
    "papermill": {
     "duration": 0.026659,
     "end_time": "2023-11-10T06:02:41.995620",
     "exception": false,
     "start_time": "2023-11-10T06:02:41.968961",
     "status": "completed"
    },
    "tags": []
   },
   "source": [
    "<div style=\"border-radius:10px; padding: 15px; background-color: #f2f7f6; font-size:100%; text-align:left\">\n",
    "\n",
    "<h4 align=\"left\"><font color=#501ee6>Explanation:</font></h4>\n",
    "    <a><span></span><span style='color:#01181c; font-size:15px'> <ul>\n",
    "    <li>No missing values were found in  <B>\"Size\"</B> column,so we are good to go.</li>\n",
    "     <li>But first we need to check how many values each category has in Size column.?</li>\n",
    "    </ul></span></a> \n"
   ]
  },
  {
   "cell_type": "code",
   "execution_count": 14,
   "id": "14f65b95",
   "metadata": {
    "execution": {
     "iopub.execute_input": "2023-11-10T06:02:42.051501Z",
     "iopub.status.busy": "2023-11-10T06:02:42.051052Z",
     "iopub.status.idle": "2023-11-10T06:02:42.085279Z",
     "shell.execute_reply": "2023-11-10T06:02:42.084400Z"
    },
    "papermill": {
     "duration": 0.065471,
     "end_time": "2023-11-10T06:02:42.088170",
     "exception": false,
     "start_time": "2023-11-10T06:02:42.022699",
     "status": "completed"
    },
    "scrolled": true,
    "tags": []
   },
   "outputs": [
    {
     "name": "stdout",
     "output_type": "stream",
     "text": [
      "How many rows with 'M': 8516\n",
      "How many rows with 'k': 315\n",
      "'Varies with device': 1526\n"
     ]
    }
   ],
   "source": [
    "# Count rows with 'M' in the column\n",
    "print(f\"How many rows with 'M': {df['Size'].loc[df['Size'].str.contains('M')].value_counts().sum()}\")\n",
    "\n",
    "# Count rows with 'k' in the column\n",
    "print(f\"How many rows with 'k': {df['Size'].loc[df['Size'].str.contains('k')].value_counts().sum()}\")\n",
    "\n",
    "# Count rows with 'Varies with device' in the column\n",
    "print(f\"'Varies with device': {df['Size'].loc[df['Size'].str.contains('Varies with device')].value_counts().sum()}\")\n"
   ]
  },
  {
   "cell_type": "markdown",
   "id": "d17499c6",
   "metadata": {
    "papermill": {
     "duration": 0.026994,
     "end_time": "2023-11-10T06:02:42.142397",
     "exception": false,
     "start_time": "2023-11-10T06:02:42.115403",
     "status": "completed"
    },
    "tags": []
   },
   "source": [
    "<div style=\"border-radius:10px; padding: 15px; background-color: #f2f7f6; font-size:100%; text-align:left\">\n",
    "\n",
    "<h4 align=\"left\"><font color=#501ee6>Explanation:</font></h4>\n",
    "    <a><span></span><span style='color:#01181c; font-size:15px'> <ul>\n",
    "        <li><b>\"M\"</b> has <b>8516</b> values</li>\n",
    "        <li><b>\"k\"</b> has <b>315</b> values</li>\n",
    "        <li><b>\"Varies with device\"</b> has <b>1526</b> values</li>\n",
    "    </ul></span></a> \n",
    "<div style=\"border-radius:10px; padding: 15px; background-color: #f2f7f6; font-size:100%; text-align:left\">\n",
    "\n",
    "<h4 align=\"left\"><font color=#501ee6>Size column strategy to clarify the column:</font></h4>\n",
    "    <li>Firstly convert the whole <b>Size</b> column into bytes</li>\n",
    "    <li>Check the column convert into bytes?</li>\n",
    "    <li>Rename the <b>Size</b> column into <b>Size_in_Mb</b></li>\n",
    "      <li>drop the  <b>Size</b> column from the data</b></li>\n",
    "    </ul></span></a> "
   ]
  },
  {
   "cell_type": "code",
   "execution_count": 15,
   "id": "55ba7d37",
   "metadata": {
    "execution": {
     "iopub.execute_input": "2023-11-10T06:02:42.199450Z",
     "iopub.status.busy": "2023-11-10T06:02:42.199041Z",
     "iopub.status.idle": "2023-11-10T06:02:42.206258Z",
     "shell.execute_reply": "2023-11-10T06:02:42.204966Z"
    },
    "papermill": {
     "duration": 0.038399,
     "end_time": "2023-11-10T06:02:42.208704",
     "exception": false,
     "start_time": "2023-11-10T06:02:42.170305",
     "status": "completed"
    },
    "tags": []
   },
   "outputs": [],
   "source": [
    "# convert the whole \"Size\" column into bytes\n",
    "\n",
    "# Lets define a function\n",
    "def convert_size(size):\n",
    "    if isinstance(size, str):\n",
    "        if 'k' in size:\n",
    "            return float(size.replace('k', \"\"))*1024\n",
    "        elif 'M' in size:\n",
    "            return float(size.replace('M', \"\")) *1024 *1024\n",
    "        elif 'Varies with device' in size:\n",
    "            return np.nan\n",
    "    return size"
   ]
  },
  {
   "cell_type": "code",
   "execution_count": 16,
   "id": "12743d56",
   "metadata": {
    "execution": {
     "iopub.execute_input": "2023-11-10T06:02:42.265003Z",
     "iopub.status.busy": "2023-11-10T06:02:42.264586Z",
     "iopub.status.idle": "2023-11-10T06:02:42.285975Z",
     "shell.execute_reply": "2023-11-10T06:02:42.284524Z"
    },
    "papermill": {
     "duration": 0.05223,
     "end_time": "2023-11-10T06:02:42.288271",
     "exception": false,
     "start_time": "2023-11-10T06:02:42.236041",
     "status": "completed"
    },
    "tags": []
   },
   "outputs": [],
   "source": [
    "# lets apply this function\n",
    "df['Size'] = df['Size'].apply(convert_size)"
   ]
  },
  {
   "cell_type": "code",
   "execution_count": 17,
   "id": "4ac50c49",
   "metadata": {
    "execution": {
     "iopub.execute_input": "2023-11-10T06:02:42.346076Z",
     "iopub.status.busy": "2023-11-10T06:02:42.345666Z",
     "iopub.status.idle": "2023-11-10T06:02:42.357237Z",
     "shell.execute_reply": "2023-11-10T06:02:42.356012Z"
    },
    "papermill": {
     "duration": 0.043822,
     "end_time": "2023-11-10T06:02:42.359947",
     "exception": false,
     "start_time": "2023-11-10T06:02:42.316125",
     "status": "completed"
    },
    "tags": []
   },
   "outputs": [],
   "source": [
    "# now make a new column that contain the \"size in MB'\n",
    "df['Size_in_Mb'] = df['Size'].apply(lambda x: x/(1024*1024))"
   ]
  },
  {
   "cell_type": "code",
   "execution_count": 18,
   "id": "c1487175",
   "metadata": {
    "execution": {
     "iopub.execute_input": "2023-11-10T06:02:42.420730Z",
     "iopub.status.busy": "2023-11-10T06:02:42.420336Z",
     "iopub.status.idle": "2023-11-10T06:02:42.440465Z",
     "shell.execute_reply": "2023-11-10T06:02:42.439514Z"
    },
    "papermill": {
     "duration": 0.054252,
     "end_time": "2023-11-10T06:02:42.442769",
     "exception": false,
     "start_time": "2023-11-10T06:02:42.388517",
     "status": "completed"
    },
    "tags": []
   },
   "outputs": [
    {
     "data": {
      "text/html": [
       "<div>\n",
       "<style scoped>\n",
       "    .dataframe tbody tr th:only-of-type {\n",
       "        vertical-align: middle;\n",
       "    }\n",
       "\n",
       "    .dataframe tbody tr th {\n",
       "        vertical-align: top;\n",
       "    }\n",
       "\n",
       "    .dataframe thead th {\n",
       "        text-align: right;\n",
       "    }\n",
       "</style>\n",
       "<table border=\"1\" class=\"dataframe\">\n",
       "  <thead>\n",
       "    <tr style=\"text-align: right;\">\n",
       "      <th></th>\n",
       "      <th>App</th>\n",
       "      <th>Category</th>\n",
       "      <th>Rating</th>\n",
       "      <th>Reviews</th>\n",
       "      <th>Installs</th>\n",
       "      <th>Type</th>\n",
       "      <th>Price</th>\n",
       "      <th>Content Rating</th>\n",
       "      <th>Genres</th>\n",
       "      <th>Last Updated</th>\n",
       "      <th>Current Ver</th>\n",
       "      <th>Android Ver</th>\n",
       "      <th>Size_in_Mb</th>\n",
       "    </tr>\n",
       "  </thead>\n",
       "  <tbody>\n",
       "    <tr>\n",
       "      <th>0</th>\n",
       "      <td>Photo Editor &amp; Candy Camera &amp; Grid &amp; ScrapBook</td>\n",
       "      <td>ART_AND_DESIGN</td>\n",
       "      <td>4.1</td>\n",
       "      <td>159</td>\n",
       "      <td>10,000+</td>\n",
       "      <td>Free</td>\n",
       "      <td>0</td>\n",
       "      <td>Everyone</td>\n",
       "      <td>Art &amp; Design</td>\n",
       "      <td>January 7, 2018</td>\n",
       "      <td>1.0.0</td>\n",
       "      <td>4.0.3 and up</td>\n",
       "      <td>19.0</td>\n",
       "    </tr>\n",
       "    <tr>\n",
       "      <th>1</th>\n",
       "      <td>Coloring book moana</td>\n",
       "      <td>ART_AND_DESIGN</td>\n",
       "      <td>3.9</td>\n",
       "      <td>967</td>\n",
       "      <td>500,000+</td>\n",
       "      <td>Free</td>\n",
       "      <td>0</td>\n",
       "      <td>Everyone</td>\n",
       "      <td>Art &amp; Design;Pretend Play</td>\n",
       "      <td>January 15, 2018</td>\n",
       "      <td>2.0.0</td>\n",
       "      <td>4.0.3 and up</td>\n",
       "      <td>14.0</td>\n",
       "    </tr>\n",
       "    <tr>\n",
       "      <th>2</th>\n",
       "      <td>U Launcher Lite – FREE Live Cool Themes, Hide ...</td>\n",
       "      <td>ART_AND_DESIGN</td>\n",
       "      <td>4.7</td>\n",
       "      <td>87510</td>\n",
       "      <td>5,000,000+</td>\n",
       "      <td>Free</td>\n",
       "      <td>0</td>\n",
       "      <td>Everyone</td>\n",
       "      <td>Art &amp; Design</td>\n",
       "      <td>August 1, 2018</td>\n",
       "      <td>1.2.4</td>\n",
       "      <td>4.0.3 and up</td>\n",
       "      <td>8.7</td>\n",
       "    </tr>\n",
       "  </tbody>\n",
       "</table>\n",
       "</div>"
      ],
      "text/plain": [
       "                                                 App        Category  Rating  \\\n",
       "0     Photo Editor & Candy Camera & Grid & ScrapBook  ART_AND_DESIGN     4.1   \n",
       "1                                Coloring book moana  ART_AND_DESIGN     3.9   \n",
       "2  U Launcher Lite – FREE Live Cool Themes, Hide ...  ART_AND_DESIGN     4.7   \n",
       "\n",
       "   Reviews    Installs  Type Price Content Rating                     Genres  \\\n",
       "0      159     10,000+  Free     0       Everyone               Art & Design   \n",
       "1      967    500,000+  Free     0       Everyone  Art & Design;Pretend Play   \n",
       "2    87510  5,000,000+  Free     0       Everyone               Art & Design   \n",
       "\n",
       "       Last Updated Current Ver   Android Ver  Size_in_Mb  \n",
       "0   January 7, 2018       1.0.0  4.0.3 and up        19.0  \n",
       "1  January 15, 2018       2.0.0  4.0.3 and up        14.0  \n",
       "2    August 1, 2018       1.2.4  4.0.3 and up         8.7  "
      ]
     },
     "execution_count": 18,
     "metadata": {},
     "output_type": "execute_result"
    }
   ],
   "source": [
    "# drop the \"size_in_bytes\" column\n",
    "df = df.drop(\"Size\", axis=1)\n",
    "df.head(3)"
   ]
  },
  {
   "cell_type": "markdown",
   "id": "8d72314a",
   "metadata": {
    "papermill": {
     "duration": 0.027246,
     "end_time": "2023-11-10T06:02:42.497800",
     "exception": false,
     "start_time": "2023-11-10T06:02:42.470554",
     "status": "completed"
    },
    "tags": []
   },
   "source": [
    "<div style=\"border-radius:10px; padding: 15px; background-color: #f2f7f6; font-size:100%; text-align:left\">\n",
    "\n",
    "<h4 align=\"left\"><font color=#501ee6>Column Install Wrangling:</font></h4>\n",
    "    <a><span></span><span style='color:#01181c; font-size:15px'> <ul>\n",
    "        <li>Check how many values with each installs</li>\n",
    "        <li>Calculate, min, max & mean</li>\n",
    "        <li>Making a new column called 'Installs_category' which will have the category of the installs</li>\n",
    "        <li>Lets counts how may each category has</li>\n",
    "        <li>Remove \"+\", \",\" and convert them into Integer</li>\n",
    "        <li>Check again to confirm</li>\n",
    "    </ul></span></a> "
   ]
  },
  {
   "cell_type": "code",
   "execution_count": 19,
   "id": "f7304c82",
   "metadata": {
    "execution": {
     "iopub.execute_input": "2023-11-10T06:02:42.554931Z",
     "iopub.status.busy": "2023-11-10T06:02:42.554506Z",
     "iopub.status.idle": "2023-11-10T06:02:42.564730Z",
     "shell.execute_reply": "2023-11-10T06:02:42.563377Z"
    },
    "papermill": {
     "duration": 0.041811,
     "end_time": "2023-11-10T06:02:42.567151",
     "exception": false,
     "start_time": "2023-11-10T06:02:42.525340",
     "status": "completed"
    },
    "tags": []
   },
   "outputs": [
    {
     "data": {
      "text/plain": [
       "Installs\n",
       "1,000,000+        1488\n",
       "10,000,000+       1132\n",
       "100,000+          1129\n",
       "10,000+           1033\n",
       "1,000+             890\n",
       "100+               710\n",
       "5,000,000+         683\n",
       "500,000+           517\n",
       "50,000+            474\n",
       "5,000+             469\n",
       "10+                385\n",
       "100,000,000+       369\n",
       "500+               328\n",
       "50,000,000+        272\n",
       "50+                204\n",
       "5+                  82\n",
       "1+                  67\n",
       "500,000,000+        61\n",
       "1,000,000,000+      49\n",
       "0+                  14\n",
       "0                    1\n",
       "Name: count, dtype: int64"
      ]
     },
     "execution_count": 19,
     "metadata": {},
     "output_type": "execute_result"
    }
   ],
   "source": [
    "df['Installs'].value_counts()"
   ]
  },
  {
   "cell_type": "code",
   "execution_count": 20,
   "id": "87567ce6",
   "metadata": {
    "execution": {
     "iopub.execute_input": "2023-11-10T06:02:42.624937Z",
     "iopub.status.busy": "2023-11-10T06:02:42.624559Z",
     "iopub.status.idle": "2023-11-10T06:02:42.634088Z",
     "shell.execute_reply": "2023-11-10T06:02:42.632779Z"
    },
    "papermill": {
     "duration": 0.042506,
     "end_time": "2023-11-10T06:02:42.637259",
     "exception": false,
     "start_time": "2023-11-10T06:02:42.594753",
     "status": "completed"
    },
    "tags": []
   },
   "outputs": [
    {
     "name": "stdout",
     "output_type": "stream",
     "text": [
      "Min Installs are 0\n",
      "Max Installs are 500,000,000+\n"
     ]
    }
   ],
   "source": [
    "# Check Min and maximun no of installs\n",
    "print(f\"Min Installs are {df['Installs'].min()}\")\n",
    "print(f\"Max Installs are {df['Installs'].max()}\")"
   ]
  },
  {
   "cell_type": "code",
   "execution_count": 21,
   "id": "d6373904",
   "metadata": {
    "execution": {
     "iopub.execute_input": "2023-11-10T06:02:42.695015Z",
     "iopub.status.busy": "2023-11-10T06:02:42.694593Z",
     "iopub.status.idle": "2023-11-10T06:02:42.728390Z",
     "shell.execute_reply": "2023-11-10T06:02:42.726941Z"
    },
    "papermill": {
     "duration": 0.065999,
     "end_time": "2023-11-10T06:02:42.730995",
     "exception": false,
     "start_time": "2023-11-10T06:02:42.664996",
     "status": "completed"
    },
    "tags": []
   },
   "outputs": [
    {
     "name": "stdout",
     "output_type": "stream",
     "text": [
      "Install column type is int64\n"
     ]
    }
   ],
   "source": [
    "# remove '+' sign\n",
    "df['Installs'] = df['Installs'].apply(lambda x: x.replace('+', \"\") if '+' in str(x) else x)\n",
    "# remove ',' sign\n",
    "df['Installs'] = df['Installs'].apply(lambda x: x.replace(',', \"\") if ',' in str(x) else x)\n",
    "# convert 'Install' column into int\n",
    "df['Installs'] = df['Installs'].apply(lambda x: int(x))\n",
    "# print install column type\n",
    "print(f\"Install column type is {df['Installs'].dtype}\")"
   ]
  },
  {
   "cell_type": "code",
   "execution_count": 22,
   "id": "1e998fcd",
   "metadata": {
    "execution": {
     "iopub.execute_input": "2023-11-10T06:02:42.789314Z",
     "iopub.status.busy": "2023-11-10T06:02:42.788901Z",
     "iopub.status.idle": "2023-11-10T06:02:42.800118Z",
     "shell.execute_reply": "2023-11-10T06:02:42.798888Z"
    },
    "papermill": {
     "duration": 0.043191,
     "end_time": "2023-11-10T06:02:42.802518",
     "exception": false,
     "start_time": "2023-11-10T06:02:42.759327",
     "status": "completed"
    },
    "tags": []
   },
   "outputs": [],
   "source": [
    "# making a new column called 'Installs_category' which will have the category of the installs\n",
    "bins = [-1, 0, 10, 1000, 10000, 100000, 1000000, 10000000, 10000000000]\n",
    "labels = ['None', 'Extremely Low', 'Minimal', 'Medium', 'Above Medium', \n",
    "          'Significant', 'Exceptionally High', 'Outstanding']\n",
    "df['Install_category'] = pd.cut(df['Installs'], bins=bins, labels=labels)"
   ]
  },
  {
   "cell_type": "code",
   "execution_count": 23,
   "id": "9cab4eff",
   "metadata": {
    "execution": {
     "iopub.execute_input": "2023-11-10T06:02:42.860801Z",
     "iopub.status.busy": "2023-11-10T06:02:42.860354Z",
     "iopub.status.idle": "2023-11-10T06:02:42.869665Z",
     "shell.execute_reply": "2023-11-10T06:02:42.868610Z"
    },
    "papermill": {
     "duration": 0.041557,
     "end_time": "2023-11-10T06:02:42.871947",
     "exception": false,
     "start_time": "2023-11-10T06:02:42.830390",
     "status": "completed"
    },
    "tags": []
   },
   "outputs": [
    {
     "data": {
      "text/plain": [
       "Installs\n",
       "1000000       1488\n",
       "10000000      1132\n",
       "100000        1129\n",
       "10000         1033\n",
       "1000           890\n",
       "100            710\n",
       "5000000        683\n",
       "500000         517\n",
       "50000          474\n",
       "5000           469\n",
       "10             385\n",
       "100000000      369\n",
       "500            328\n",
       "50000000       272\n",
       "50             204\n",
       "5               82\n",
       "1               67\n",
       "500000000       61\n",
       "1000000000      49\n",
       "0               15\n",
       "Name: count, dtype: int64"
      ]
     },
     "execution_count": 23,
     "metadata": {},
     "output_type": "execute_result"
    }
   ],
   "source": [
    "# check to cofirm\n",
    "df['Installs'].value_counts()"
   ]
  },
  {
   "cell_type": "code",
   "execution_count": 24,
   "id": "92453765",
   "metadata": {
    "execution": {
     "iopub.execute_input": "2023-11-10T06:02:42.930044Z",
     "iopub.status.busy": "2023-11-10T06:02:42.929609Z",
     "iopub.status.idle": "2023-11-10T06:02:42.939683Z",
     "shell.execute_reply": "2023-11-10T06:02:42.938503Z"
    },
    "papermill": {
     "duration": 0.04208,
     "end_time": "2023-11-10T06:02:42.942243",
     "exception": false,
     "start_time": "2023-11-10T06:02:42.900163",
     "status": "completed"
    },
    "tags": []
   },
   "outputs": [
    {
     "data": {
      "text/plain": [
       "Install_category\n",
       "Minimal               2132\n",
       "Significant           2005\n",
       "Exceptionally High    1815\n",
       "Above Medium          1603\n",
       "Medium                1502\n",
       "Outstanding            751\n",
       "Extremely Low          534\n",
       "None                    15\n",
       "Name: count, dtype: int64"
      ]
     },
     "execution_count": 24,
     "metadata": {},
     "output_type": "execute_result"
    }
   ],
   "source": [
    "# check to cofirm how many installs per category\n",
    "df['Install_category'].value_counts()"
   ]
  },
  {
   "cell_type": "markdown",
   "id": "0e5d7299",
   "metadata": {
    "papermill": {
     "duration": 0.02805,
     "end_time": "2023-11-10T06:02:42.998923",
     "exception": false,
     "start_time": "2023-11-10T06:02:42.970873",
     "status": "completed"
    },
    "tags": []
   },
   "source": [
    "<div style=\"border-radius:10px; padding: 15px; background-color: #f2f7f6; font-size:100%; text-align:left\">\n",
    "\n",
    "<h4 align=\"left\"><font color=#501ee6>Explanation:</font></h4>\n",
    "    <a><span></span><span style='color:#01181c; font-size:15px'> <ul>\n",
    "        <li>Check how many values with <b>dollar</b> sign</li>\n",
    "        <li>Lets counts the number of values in the \"Price\" column which contains 0 but doesnt contain <b>dollar</b> sign </li>\n",
    "        <li>Remove the <b>dollar</b> sign</li>\n",
    "        <li>Convert the column into float</li>\n",
    "        <li>Check min, max and mean price</li>\n",
    "        <li>Check again data summary</li>\n",
    "    </ul></span></a> "
   ]
  },
  {
   "cell_type": "code",
   "execution_count": 25,
   "id": "f97e221d",
   "metadata": {
    "execution": {
     "iopub.execute_input": "2023-11-10T06:02:43.058089Z",
     "iopub.status.busy": "2023-11-10T06:02:43.057313Z",
     "iopub.status.idle": "2023-11-10T06:02:43.067980Z",
     "shell.execute_reply": "2023-11-10T06:02:43.066758Z"
    },
    "papermill": {
     "duration": 0.042862,
     "end_time": "2023-11-10T06:02:43.070335",
     "exception": false,
     "start_time": "2023-11-10T06:02:43.027473",
     "status": "completed"
    },
    "tags": []
   },
   "outputs": [
    {
     "data": {
      "text/plain": [
       "Price\n",
       "0        9592\n",
       "$0.99     146\n",
       "$2.99     125\n",
       "$1.99      73\n",
       "$4.99      70\n",
       "Name: count, dtype: int64"
      ]
     },
     "execution_count": 25,
     "metadata": {},
     "output_type": "execute_result"
    }
   ],
   "source": [
    "df['Price'].value_counts().head(5)"
   ]
  },
  {
   "cell_type": "code",
   "execution_count": 26,
   "id": "7f7e9ba1",
   "metadata": {
    "execution": {
     "iopub.execute_input": "2023-11-10T06:02:43.129148Z",
     "iopub.status.busy": "2023-11-10T06:02:43.128513Z",
     "iopub.status.idle": "2023-11-10T06:02:43.145003Z",
     "shell.execute_reply": "2023-11-10T06:02:43.143811Z"
    },
    "papermill": {
     "duration": 0.048651,
     "end_time": "2023-11-10T06:02:43.147338",
     "exception": false,
     "start_time": "2023-11-10T06:02:43.098687",
     "status": "completed"
    },
    "tags": []
   },
   "outputs": [
    {
     "data": {
      "text/plain": [
       "765"
      ]
     },
     "execution_count": 26,
     "metadata": {},
     "output_type": "execute_result"
    }
   ],
   "source": [
    "# First see how many values have $ sign\n",
    "df['Price'].loc[df['Price'].str.contains('\\$')].value_counts().sum()"
   ]
  },
  {
   "cell_type": "code",
   "execution_count": 27,
   "id": "470227ef",
   "metadata": {
    "execution": {
     "iopub.execute_input": "2023-11-10T06:02:43.208199Z",
     "iopub.status.busy": "2023-11-10T06:02:43.207535Z",
     "iopub.status.idle": "2023-11-10T06:02:43.233004Z",
     "shell.execute_reply": "2023-11-10T06:02:43.231840Z"
    },
    "papermill": {
     "duration": 0.058768,
     "end_time": "2023-11-10T06:02:43.235427",
     "exception": false,
     "start_time": "2023-11-10T06:02:43.176659",
     "status": "completed"
    },
    "tags": []
   },
   "outputs": [
    {
     "data": {
      "text/plain": [
       "9592"
      ]
     },
     "execution_count": 27,
     "metadata": {},
     "output_type": "execute_result"
    }
   ],
   "source": [
    "# Lets counts the number of values in the \"Price\" column which contains 0 but doesnt contain $ sign\n",
    "df['Price'].loc[(df['Price'].str.contains('0')) & (~df['Price'].str.contains('\\$'))].value_counts().sum()"
   ]
  },
  {
   "cell_type": "code",
   "execution_count": 28,
   "id": "2bcf2bc8",
   "metadata": {
    "execution": {
     "iopub.execute_input": "2023-11-10T06:02:43.298349Z",
     "iopub.status.busy": "2023-11-10T06:02:43.297646Z",
     "iopub.status.idle": "2023-11-10T06:02:43.319790Z",
     "shell.execute_reply": "2023-11-10T06:02:43.318609Z"
    },
    "papermill": {
     "duration": 0.057673,
     "end_time": "2023-11-10T06:02:43.322248",
     "exception": false,
     "start_time": "2023-11-10T06:02:43.264575",
     "status": "completed"
    },
    "tags": []
   },
   "outputs": [
    {
     "data": {
      "text/plain": [
       "Price\n",
       "0.00    9592\n",
       "0.99     146\n",
       "2.99     125\n",
       "1.99      73\n",
       "4.99      70\n",
       "Name: count, dtype: int64"
      ]
     },
     "execution_count": 28,
     "metadata": {},
     "output_type": "execute_result"
    }
   ],
   "source": [
    "# now we will remove the $ sign where it exists\n",
    "df['Price'] = df['Price'].apply(lambda x: x.replace('$', \"\") if '$' in str(x) else x)\n",
    "# Now we will convert the price column into float\n",
    "df['Price'] = df['Price'].apply(lambda x: float(x))\n",
    "df['Price'].value_counts().head(5)"
   ]
  },
  {
   "cell_type": "code",
   "execution_count": 29,
   "id": "e73268d7",
   "metadata": {
    "execution": {
     "iopub.execute_input": "2023-11-10T06:02:43.383445Z",
     "iopub.status.busy": "2023-11-10T06:02:43.382187Z",
     "iopub.status.idle": "2023-11-10T06:02:43.390062Z",
     "shell.execute_reply": "2023-11-10T06:02:43.388780Z"
    },
    "papermill": {
     "duration": 0.04066,
     "end_time": "2023-11-10T06:02:43.392625",
     "exception": false,
     "start_time": "2023-11-10T06:02:43.351965",
     "status": "completed"
    },
    "tags": []
   },
   "outputs": [
    {
     "name": "stdout",
     "output_type": "stream",
     "text": [
      "Min price is 0.0\n",
      "Max price is 400.0\n",
      "Average price is 1.030800424833446\n"
     ]
    }
   ],
   "source": [
    "# using f string print min, max and mean prices of the app\n",
    "print(f\"Min price is {df['Price'].min()}\")\n",
    "print(f\"Max price is {df['Price'].max()}\")\n",
    "print(f\"Average price is {df['Price'].mean()}\")"
   ]
  },
  {
   "cell_type": "code",
   "execution_count": 30,
   "id": "2a2e155e",
   "metadata": {
    "execution": {
     "iopub.execute_input": "2023-11-10T06:02:43.453325Z",
     "iopub.status.busy": "2023-11-10T06:02:43.452639Z",
     "iopub.status.idle": "2023-11-10T06:02:43.484294Z",
     "shell.execute_reply": "2023-11-10T06:02:43.482921Z"
    },
    "papermill": {
     "duration": 0.064694,
     "end_time": "2023-11-10T06:02:43.486701",
     "exception": false,
     "start_time": "2023-11-10T06:02:43.422007",
     "status": "completed"
    },
    "tags": []
   },
   "outputs": [
    {
     "data": {
      "text/html": [
       "<div>\n",
       "<style scoped>\n",
       "    .dataframe tbody tr th:only-of-type {\n",
       "        vertical-align: middle;\n",
       "    }\n",
       "\n",
       "    .dataframe tbody tr th {\n",
       "        vertical-align: top;\n",
       "    }\n",
       "\n",
       "    .dataframe thead th {\n",
       "        text-align: right;\n",
       "    }\n",
       "</style>\n",
       "<table border=\"1\" class=\"dataframe\">\n",
       "  <thead>\n",
       "    <tr style=\"text-align: right;\">\n",
       "      <th></th>\n",
       "      <th>Rating</th>\n",
       "      <th>Reviews</th>\n",
       "      <th>Installs</th>\n",
       "      <th>Price</th>\n",
       "      <th>Size_in_Mb</th>\n",
       "    </tr>\n",
       "  </thead>\n",
       "  <tbody>\n",
       "    <tr>\n",
       "      <th>count</th>\n",
       "      <td>8892.000000</td>\n",
       "      <td>1.035700e+04</td>\n",
       "      <td>1.035700e+04</td>\n",
       "      <td>10357.000000</td>\n",
       "      <td>8831.000000</td>\n",
       "    </tr>\n",
       "    <tr>\n",
       "      <th>mean</th>\n",
       "      <td>4.187877</td>\n",
       "      <td>4.059046e+05</td>\n",
       "      <td>1.415776e+07</td>\n",
       "      <td>1.030800</td>\n",
       "      <td>21.287413</td>\n",
       "    </tr>\n",
       "    <tr>\n",
       "      <th>std</th>\n",
       "      <td>0.522377</td>\n",
       "      <td>2.696778e+06</td>\n",
       "      <td>8.023955e+07</td>\n",
       "      <td>16.278625</td>\n",
       "      <td>22.540591</td>\n",
       "    </tr>\n",
       "    <tr>\n",
       "      <th>min</th>\n",
       "      <td>1.000000</td>\n",
       "      <td>0.000000e+00</td>\n",
       "      <td>0.000000e+00</td>\n",
       "      <td>0.000000</td>\n",
       "      <td>0.008301</td>\n",
       "    </tr>\n",
       "    <tr>\n",
       "      <th>25%</th>\n",
       "      <td>4.000000</td>\n",
       "      <td>3.200000e+01</td>\n",
       "      <td>1.000000e+03</td>\n",
       "      <td>0.000000</td>\n",
       "      <td>4.700000</td>\n",
       "    </tr>\n",
       "    <tr>\n",
       "      <th>50%</th>\n",
       "      <td>4.300000</td>\n",
       "      <td>1.680000e+03</td>\n",
       "      <td>1.000000e+05</td>\n",
       "      <td>0.000000</td>\n",
       "      <td>13.000000</td>\n",
       "    </tr>\n",
       "    <tr>\n",
       "      <th>75%</th>\n",
       "      <td>4.500000</td>\n",
       "      <td>4.641600e+04</td>\n",
       "      <td>1.000000e+06</td>\n",
       "      <td>0.000000</td>\n",
       "      <td>29.000000</td>\n",
       "    </tr>\n",
       "    <tr>\n",
       "      <th>max</th>\n",
       "      <td>5.000000</td>\n",
       "      <td>7.815831e+07</td>\n",
       "      <td>1.000000e+09</td>\n",
       "      <td>400.000000</td>\n",
       "      <td>100.000000</td>\n",
       "    </tr>\n",
       "  </tbody>\n",
       "</table>\n",
       "</div>"
      ],
      "text/plain": [
       "            Rating       Reviews      Installs         Price   Size_in_Mb\n",
       "count  8892.000000  1.035700e+04  1.035700e+04  10357.000000  8831.000000\n",
       "mean      4.187877  4.059046e+05  1.415776e+07      1.030800    21.287413\n",
       "std       0.522377  2.696778e+06  8.023955e+07     16.278625    22.540591\n",
       "min       1.000000  0.000000e+00  0.000000e+00      0.000000     0.008301\n",
       "25%       4.000000  3.200000e+01  1.000000e+03      0.000000     4.700000\n",
       "50%       4.300000  1.680000e+03  1.000000e+05      0.000000    13.000000\n",
       "75%       4.500000  4.641600e+04  1.000000e+06      0.000000    29.000000\n",
       "max       5.000000  7.815831e+07  1.000000e+09    400.000000   100.000000"
      ]
     },
     "execution_count": 30,
     "metadata": {},
     "output_type": "execute_result"
    }
   ],
   "source": [
    "# check data summary\n",
    "df.describe()"
   ]
  },
  {
   "cell_type": "markdown",
   "id": "07ff99e6",
   "metadata": {
    "papermill": {
     "duration": 0.029155,
     "end_time": "2023-11-10T06:02:43.546114",
     "exception": false,
     "start_time": "2023-11-10T06:02:43.516959",
     "status": "completed"
    },
    "tags": []
   },
   "source": [
    "<div style=\"border-radius:10px; padding: 15px; background-color: #f2f7f6; font-size:100%; text-align:left\">\n",
    "\n",
    "<h4 align=\"left\"><font color=#501ee6>Explanation:</font></h4>\n",
    "    <a><span></span><span style='color:#01181c; font-size:15px'> <ul>\n",
    "        <li>Now see five column is showing before only two were showing. see above</li>"
   ]
  },
  {
   "cell_type": "markdown",
   "id": "3f9e2511",
   "metadata": {
    "papermill": {
     "duration": 0.029105,
     "end_time": "2023-11-10T06:02:43.606161",
     "exception": false,
     "start_time": "2023-11-10T06:02:43.577056",
     "status": "completed"
    },
    "tags": []
   },
   "source": [
    "<a id=\"load_dataset\"></a>\n",
    "# <b><span style='color:#cc0a27'>Step: 2 |</span><span style='color:#0aaccc'> Dealing missing values</span></b>\n",
    "<a><span></span><span style='color:#01181c; font-size:15px'> <ul>\n",
    "        <li>Addressing missing values constitutes a critical aspect of the data wrangling process, as it is indispensable for obtaining accurate insights from the dataset.</li>"
   ]
  },
  {
   "cell_type": "code",
   "execution_count": 31,
   "id": "64a07394",
   "metadata": {
    "execution": {
     "iopub.execute_input": "2023-11-10T06:02:43.666844Z",
     "iopub.status.busy": "2023-11-10T06:02:43.665998Z",
     "iopub.status.idle": "2023-11-10T06:02:43.702681Z",
     "shell.execute_reply": "2023-11-10T06:02:43.701850Z"
    },
    "papermill": {
     "duration": 0.069565,
     "end_time": "2023-11-10T06:02:43.705073",
     "exception": false,
     "start_time": "2023-11-10T06:02:43.635508",
     "status": "completed"
    },
    "tags": []
   },
   "outputs": [
    {
     "data": {
      "text/html": [
       "<div>\n",
       "<style scoped>\n",
       "    .dataframe tbody tr th:only-of-type {\n",
       "        vertical-align: middle;\n",
       "    }\n",
       "\n",
       "    .dataframe tbody tr th {\n",
       "        vertical-align: top;\n",
       "    }\n",
       "\n",
       "    .dataframe thead th {\n",
       "        text-align: right;\n",
       "    }\n",
       "</style>\n",
       "<table border=\"1\" class=\"dataframe\">\n",
       "  <thead>\n",
       "    <tr style=\"text-align: right;\">\n",
       "      <th></th>\n",
       "      <th>Null Values</th>\n",
       "      <th>Percentage Null Values</th>\n",
       "    </tr>\n",
       "  </thead>\n",
       "  <tbody>\n",
       "    <tr>\n",
       "      <th>Size_in_Mb</th>\n",
       "      <td>1526</td>\n",
       "      <td>14.733996</td>\n",
       "    </tr>\n",
       "    <tr>\n",
       "      <th>Rating</th>\n",
       "      <td>1465</td>\n",
       "      <td>14.145023</td>\n",
       "    </tr>\n",
       "    <tr>\n",
       "      <th>Current Ver</th>\n",
       "      <td>8</td>\n",
       "      <td>0.077242</td>\n",
       "    </tr>\n",
       "    <tr>\n",
       "      <th>Android Ver</th>\n",
       "      <td>2</td>\n",
       "      <td>0.019311</td>\n",
       "    </tr>\n",
       "    <tr>\n",
       "      <th>Type</th>\n",
       "      <td>1</td>\n",
       "      <td>0.009655</td>\n",
       "    </tr>\n",
       "    <tr>\n",
       "      <th>App</th>\n",
       "      <td>0</td>\n",
       "      <td>0.000000</td>\n",
       "    </tr>\n",
       "    <tr>\n",
       "      <th>Category</th>\n",
       "      <td>0</td>\n",
       "      <td>0.000000</td>\n",
       "    </tr>\n",
       "    <tr>\n",
       "      <th>Reviews</th>\n",
       "      <td>0</td>\n",
       "      <td>0.000000</td>\n",
       "    </tr>\n",
       "    <tr>\n",
       "      <th>Installs</th>\n",
       "      <td>0</td>\n",
       "      <td>0.000000</td>\n",
       "    </tr>\n",
       "    <tr>\n",
       "      <th>Price</th>\n",
       "      <td>0</td>\n",
       "      <td>0.000000</td>\n",
       "    </tr>\n",
       "    <tr>\n",
       "      <th>Content Rating</th>\n",
       "      <td>0</td>\n",
       "      <td>0.000000</td>\n",
       "    </tr>\n",
       "    <tr>\n",
       "      <th>Genres</th>\n",
       "      <td>0</td>\n",
       "      <td>0.000000</td>\n",
       "    </tr>\n",
       "    <tr>\n",
       "      <th>Last Updated</th>\n",
       "      <td>0</td>\n",
       "      <td>0.000000</td>\n",
       "    </tr>\n",
       "    <tr>\n",
       "      <th>Install_category</th>\n",
       "      <td>0</td>\n",
       "      <td>0.000000</td>\n",
       "    </tr>\n",
       "  </tbody>\n",
       "</table>\n",
       "</div>"
      ],
      "text/plain": [
       "                  Null Values  Percentage Null Values\n",
       "Size_in_Mb               1526               14.733996\n",
       "Rating                   1465               14.145023\n",
       "Current Ver                 8                0.077242\n",
       "Android Ver                 2                0.019311\n",
       "Type                        1                0.009655\n",
       "App                         0                0.000000\n",
       "Category                    0                0.000000\n",
       "Reviews                     0                0.000000\n",
       "Installs                    0                0.000000\n",
       "Price                       0                0.000000\n",
       "Content Rating              0                0.000000\n",
       "Genres                      0                0.000000\n",
       "Last Updated                0                0.000000\n",
       "Install_category            0                0.000000"
      ]
     },
     "execution_count": 31,
     "metadata": {},
     "output_type": "execute_result"
    }
   ],
   "source": [
    "# check missing values\n",
    "Missing = pd.DataFrame({'Null Values' : df.isna().sum().sort_values(ascending=False), \n",
    "                        'Percentage Null Values' : (df.isna().sum().sort_values(ascending=False)) / \n",
    "                        (df.shape[0]) * (100)})\n",
    "Missing"
   ]
  },
  {
   "cell_type": "code",
   "execution_count": 32,
   "id": "fb605bfd",
   "metadata": {
    "execution": {
     "iopub.execute_input": "2023-11-10T06:02:43.770924Z",
     "iopub.status.busy": "2023-11-10T06:02:43.770139Z",
     "iopub.status.idle": "2023-11-10T06:02:43.798261Z",
     "shell.execute_reply": "2023-11-10T06:02:43.797083Z"
    },
    "papermill": {
     "duration": 0.063306,
     "end_time": "2023-11-10T06:02:43.801171",
     "exception": false,
     "start_time": "2023-11-10T06:02:43.737865",
     "status": "completed"
    },
    "tags": []
   },
   "outputs": [
    {
     "name": "stdout",
     "output_type": "stream",
     "text": [
      "The total number of missing values are in data is 3002\n",
      "The total number of missing values % in data is 28.985227382446656\n"
     ]
    }
   ],
   "source": [
    "# Totla missing values in the whole data\n",
    "print(f\"The total number of missing values are in data is {(df.isnull().sum().sum())}\")\n",
    "# And there percentage\n",
    "print(f\"The total number of missing values % in data is {(df.isnull().sum().sum()/len(df)*100)}\")"
   ]
  },
  {
   "cell_type": "markdown",
   "id": "024711e3",
   "metadata": {
    "papermill": {
     "duration": 0.029632,
     "end_time": "2023-11-10T06:02:43.861639",
     "exception": false,
     "start_time": "2023-11-10T06:02:43.832007",
     "status": "completed"
    },
    "tags": []
   },
   "source": [
    "<div style=\"border-radius:10px; padding: 15px; background-color: #f2f7f6; font-size:100%; text-align:left\">\n",
    "\n",
    "<h3 align=\"left\"><font color=#501ee6>Observation:</font></h3>\n",
    "    <a><span></span><span style='color:#01181c; font-size:15px'> <ul>\n",
    "        <li>As we can see that in our whole data there are 3002, which is 28.98% of the whole data, The most missing values were observed in the `size_in_Mb` and `Rating' column with 1526 (14.73%), & 1465 (14.14%), respectively. While the lowest was observed in `current Ver`, `Android Ver` & `Type` with 8 (0.07%), 2 (0.01%) & 1 (0.009%) respectively.</li>\n",
    "        <li>So we will remove the missing values form the `Current Ver`, `Android Ver` & `Type` because they have very less missing values and we can expect it will not affect on the actual data</li>"
   ]
  },
  {
   "cell_type": "code",
   "execution_count": 33,
   "id": "00646dd4",
   "metadata": {
    "execution": {
     "iopub.execute_input": "2023-11-10T06:02:43.923989Z",
     "iopub.status.busy": "2023-11-10T06:02:43.923205Z",
     "iopub.status.idle": "2023-11-10T06:02:43.928850Z",
     "shell.execute_reply": "2023-11-10T06:02:43.927647Z"
    },
    "papermill": {
     "duration": 0.040653,
     "end_time": "2023-11-10T06:02:43.932377",
     "exception": false,
     "start_time": "2023-11-10T06:02:43.891724",
     "status": "completed"
    },
    "tags": []
   },
   "outputs": [
    {
     "name": "stdout",
     "output_type": "stream",
     "text": [
      "The length of the df before removing the null values: 10357\n"
     ]
    }
   ],
   "source": [
    "# length before removing the null values\n",
    "print(f\"The length of the df before removing the null values: {len(df)}\")"
   ]
  },
  {
   "cell_type": "code",
   "execution_count": 34,
   "id": "83f042ab",
   "metadata": {
    "execution": {
     "iopub.execute_input": "2023-11-10T06:02:43.994627Z",
     "iopub.status.busy": "2023-11-10T06:02:43.993566Z",
     "iopub.status.idle": "2023-11-10T06:02:44.007713Z",
     "shell.execute_reply": "2023-11-10T06:02:44.006480Z"
    },
    "papermill": {
     "duration": 0.048084,
     "end_time": "2023-11-10T06:02:44.010433",
     "exception": false,
     "start_time": "2023-11-10T06:02:43.962349",
     "status": "completed"
    },
    "tags": []
   },
   "outputs": [],
   "source": [
    "# remove the rows having null values in the 'current ver', 'Android ver', & 'Type'.\n",
    "df.dropna(subset=['Current Ver', 'Android Ver', 'Type'], inplace=True)"
   ]
  },
  {
   "cell_type": "code",
   "execution_count": 35,
   "id": "d3ee125e",
   "metadata": {
    "execution": {
     "iopub.execute_input": "2023-11-10T06:02:44.071818Z",
     "iopub.status.busy": "2023-11-10T06:02:44.071389Z",
     "iopub.status.idle": "2023-11-10T06:02:44.077853Z",
     "shell.execute_reply": "2023-11-10T06:02:44.076327Z"
    },
    "papermill": {
     "duration": 0.040045,
     "end_time": "2023-11-10T06:02:44.080292",
     "exception": false,
     "start_time": "2023-11-10T06:02:44.040247",
     "status": "completed"
    },
    "tags": []
   },
   "outputs": [
    {
     "name": "stdout",
     "output_type": "stream",
     "text": [
      "The length of the df after removing the null values: 10346\n"
     ]
    }
   ],
   "source": [
    "# length after removing the null values\n",
    "print(f\"The length of the df after removing the null values: {len(df)}\")"
   ]
  },
  {
   "cell_type": "markdown",
   "id": "8e3af873",
   "metadata": {
    "papermill": {
     "duration": 0.029971,
     "end_time": "2023-11-10T06:02:44.140223",
     "exception": false,
     "start_time": "2023-11-10T06:02:44.110252",
     "status": "completed"
    },
    "tags": []
   },
   "source": [
    "<div style=\"border-radius:10px; padding: 15px; background-color: #f2f7f6; font-size:100%; text-align:left;width:800px\">\n",
    "\n",
    "<h3 align=\"left\"><font color=#501ee6>Explain:</font></h3>\n",
    "    <a><span></span><span style='color:#01181c; font-size:15px'> <ul>\n",
    "        <li>So in total we have removed 11 missing values from <b>Current Ver</b>, <b>Android Ver</b> & <b>Type</b> columns </li>"
   ]
  },
  {
   "cell_type": "code",
   "execution_count": 36,
   "id": "b1876fa1",
   "metadata": {
    "execution": {
     "iopub.execute_input": "2023-11-10T06:02:44.203488Z",
     "iopub.status.busy": "2023-11-10T06:02:44.202406Z",
     "iopub.status.idle": "2023-11-10T06:02:46.208340Z",
     "shell.execute_reply": "2023-11-10T06:02:46.207284Z"
    },
    "papermill": {
     "duration": 2.040176,
     "end_time": "2023-11-10T06:02:46.210713",
     "exception": false,
     "start_time": "2023-11-10T06:02:44.170537",
     "status": "completed"
    },
    "tags": []
   },
   "outputs": [
    {
     "data": {
      "text/html": [
       "        <script type=\"text/javascript\">\n",
       "        window.PlotlyConfig = {MathJaxConfig: 'local'};\n",
       "        if (window.MathJax && window.MathJax.Hub && window.MathJax.Hub.Config) {window.MathJax.Hub.Config({SVG: {font: \"STIX-Web\"}});}\n",
       "        if (typeof require !== 'undefined') {\n",
       "        require.undef(\"plotly\");\n",
       "        requirejs.config({\n",
       "            paths: {\n",
       "                'plotly': ['https://cdn.plot.ly/plotly-2.24.1.min']\n",
       "            }\n",
       "        });\n",
       "        require(['plotly'], function(Plotly) {\n",
       "            window._Plotly = Plotly;\n",
       "        });\n",
       "        }\n",
       "        </script>\n",
       "        "
      ]
     },
     "metadata": {},
     "output_type": "display_data"
    },
    {
     "data": {
      "text/html": [
       "<div>                            <div id=\"f8ca6e96-244a-4256-823c-a8141f1acf6f\" class=\"plotly-graph-div\" style=\"height:400px; width:650px;\"></div>            <script type=\"text/javascript\">                require([\"plotly\"], function(Plotly) {                    window.PLOTLYENV=window.PLOTLYENV || {};                                    if (document.getElementById(\"f8ca6e96-244a-4256-823c-a8141f1acf6f\")) {                    Plotly.newPlot(                        \"f8ca6e96-244a-4256-823c-a8141f1acf6f\",                        [{\"alignmentgroup\":\"True\",\"hovertemplate\":\"x=%{x}\\u003cbr\\u003ey=%{y}\\u003cextra\\u003e\\u003c\\u002fextra\\u003e\",\"legendgroup\":\"\",\"marker\":{\"color\":\"#636efa\",\"pattern\":{\"shape\":\"\"}},\"name\":\"\",\"offsetgroup\":\"\",\"orientation\":\"v\",\"showlegend\":false,\"textposition\":\"auto\",\"x\":[\"App\",\"Category\",\"Rating\",\"Reviews\",\"Installs\",\"Type\",\"Price\",\"Content Rating\",\"Genres\",\"Last Updated\",\"Current Ver\",\"Android Ver\",\"Size_in_Mb\",\"Install_category\"],\"xaxis\":\"x\",\"y\":[0,0,1460,0,0,0,0,0,0,0,0,0,1525,0],\"yaxis\":\"y\",\"type\":\"bar\"}],                        {\"template\":{\"data\":{\"histogram2dcontour\":[{\"type\":\"histogram2dcontour\",\"colorbar\":{\"outlinewidth\":0,\"ticks\":\"\"},\"colorscale\":[[0.0,\"#0d0887\"],[0.1111111111111111,\"#46039f\"],[0.2222222222222222,\"#7201a8\"],[0.3333333333333333,\"#9c179e\"],[0.4444444444444444,\"#bd3786\"],[0.5555555555555556,\"#d8576b\"],[0.6666666666666666,\"#ed7953\"],[0.7777777777777778,\"#fb9f3a\"],[0.8888888888888888,\"#fdca26\"],[1.0,\"#f0f921\"]]}],\"choropleth\":[{\"type\":\"choropleth\",\"colorbar\":{\"outlinewidth\":0,\"ticks\":\"\"}}],\"histogram2d\":[{\"type\":\"histogram2d\",\"colorbar\":{\"outlinewidth\":0,\"ticks\":\"\"},\"colorscale\":[[0.0,\"#0d0887\"],[0.1111111111111111,\"#46039f\"],[0.2222222222222222,\"#7201a8\"],[0.3333333333333333,\"#9c179e\"],[0.4444444444444444,\"#bd3786\"],[0.5555555555555556,\"#d8576b\"],[0.6666666666666666,\"#ed7953\"],[0.7777777777777778,\"#fb9f3a\"],[0.8888888888888888,\"#fdca26\"],[1.0,\"#f0f921\"]]}],\"heatmap\":[{\"type\":\"heatmap\",\"colorbar\":{\"outlinewidth\":0,\"ticks\":\"\"},\"colorscale\":[[0.0,\"#0d0887\"],[0.1111111111111111,\"#46039f\"],[0.2222222222222222,\"#7201a8\"],[0.3333333333333333,\"#9c179e\"],[0.4444444444444444,\"#bd3786\"],[0.5555555555555556,\"#d8576b\"],[0.6666666666666666,\"#ed7953\"],[0.7777777777777778,\"#fb9f3a\"],[0.8888888888888888,\"#fdca26\"],[1.0,\"#f0f921\"]]}],\"heatmapgl\":[{\"type\":\"heatmapgl\",\"colorbar\":{\"outlinewidth\":0,\"ticks\":\"\"},\"colorscale\":[[0.0,\"#0d0887\"],[0.1111111111111111,\"#46039f\"],[0.2222222222222222,\"#7201a8\"],[0.3333333333333333,\"#9c179e\"],[0.4444444444444444,\"#bd3786\"],[0.5555555555555556,\"#d8576b\"],[0.6666666666666666,\"#ed7953\"],[0.7777777777777778,\"#fb9f3a\"],[0.8888888888888888,\"#fdca26\"],[1.0,\"#f0f921\"]]}],\"contourcarpet\":[{\"type\":\"contourcarpet\",\"colorbar\":{\"outlinewidth\":0,\"ticks\":\"\"}}],\"contour\":[{\"type\":\"contour\",\"colorbar\":{\"outlinewidth\":0,\"ticks\":\"\"},\"colorscale\":[[0.0,\"#0d0887\"],[0.1111111111111111,\"#46039f\"],[0.2222222222222222,\"#7201a8\"],[0.3333333333333333,\"#9c179e\"],[0.4444444444444444,\"#bd3786\"],[0.5555555555555556,\"#d8576b\"],[0.6666666666666666,\"#ed7953\"],[0.7777777777777778,\"#fb9f3a\"],[0.8888888888888888,\"#fdca26\"],[1.0,\"#f0f921\"]]}],\"surface\":[{\"type\":\"surface\",\"colorbar\":{\"outlinewidth\":0,\"ticks\":\"\"},\"colorscale\":[[0.0,\"#0d0887\"],[0.1111111111111111,\"#46039f\"],[0.2222222222222222,\"#7201a8\"],[0.3333333333333333,\"#9c179e\"],[0.4444444444444444,\"#bd3786\"],[0.5555555555555556,\"#d8576b\"],[0.6666666666666666,\"#ed7953\"],[0.7777777777777778,\"#fb9f3a\"],[0.8888888888888888,\"#fdca26\"],[1.0,\"#f0f921\"]]}],\"mesh3d\":[{\"type\":\"mesh3d\",\"colorbar\":{\"outlinewidth\":0,\"ticks\":\"\"}}],\"scatter\":[{\"fillpattern\":{\"fillmode\":\"overlay\",\"size\":10,\"solidity\":0.2},\"type\":\"scatter\"}],\"parcoords\":[{\"type\":\"parcoords\",\"line\":{\"colorbar\":{\"outlinewidth\":0,\"ticks\":\"\"}}}],\"scatterpolargl\":[{\"type\":\"scatterpolargl\",\"marker\":{\"colorbar\":{\"outlinewidth\":0,\"ticks\":\"\"}}}],\"bar\":[{\"error_x\":{\"color\":\"#2a3f5f\"},\"error_y\":{\"color\":\"#2a3f5f\"},\"marker\":{\"line\":{\"color\":\"#E5ECF6\",\"width\":0.5},\"pattern\":{\"fillmode\":\"overlay\",\"size\":10,\"solidity\":0.2}},\"type\":\"bar\"}],\"scattergeo\":[{\"type\":\"scattergeo\",\"marker\":{\"colorbar\":{\"outlinewidth\":0,\"ticks\":\"\"}}}],\"scatterpolar\":[{\"type\":\"scatterpolar\",\"marker\":{\"colorbar\":{\"outlinewidth\":0,\"ticks\":\"\"}}}],\"histogram\":[{\"marker\":{\"pattern\":{\"fillmode\":\"overlay\",\"size\":10,\"solidity\":0.2}},\"type\":\"histogram\"}],\"scattergl\":[{\"type\":\"scattergl\",\"marker\":{\"colorbar\":{\"outlinewidth\":0,\"ticks\":\"\"}}}],\"scatter3d\":[{\"type\":\"scatter3d\",\"line\":{\"colorbar\":{\"outlinewidth\":0,\"ticks\":\"\"}},\"marker\":{\"colorbar\":{\"outlinewidth\":0,\"ticks\":\"\"}}}],\"scattermapbox\":[{\"type\":\"scattermapbox\",\"marker\":{\"colorbar\":{\"outlinewidth\":0,\"ticks\":\"\"}}}],\"scatterternary\":[{\"type\":\"scatterternary\",\"marker\":{\"colorbar\":{\"outlinewidth\":0,\"ticks\":\"\"}}}],\"scattercarpet\":[{\"type\":\"scattercarpet\",\"marker\":{\"colorbar\":{\"outlinewidth\":0,\"ticks\":\"\"}}}],\"carpet\":[{\"aaxis\":{\"endlinecolor\":\"#2a3f5f\",\"gridcolor\":\"white\",\"linecolor\":\"white\",\"minorgridcolor\":\"white\",\"startlinecolor\":\"#2a3f5f\"},\"baxis\":{\"endlinecolor\":\"#2a3f5f\",\"gridcolor\":\"white\",\"linecolor\":\"white\",\"minorgridcolor\":\"white\",\"startlinecolor\":\"#2a3f5f\"},\"type\":\"carpet\"}],\"table\":[{\"cells\":{\"fill\":{\"color\":\"#EBF0F8\"},\"line\":{\"color\":\"white\"}},\"header\":{\"fill\":{\"color\":\"#C8D4E3\"},\"line\":{\"color\":\"white\"}},\"type\":\"table\"}],\"barpolar\":[{\"marker\":{\"line\":{\"color\":\"#E5ECF6\",\"width\":0.5},\"pattern\":{\"fillmode\":\"overlay\",\"size\":10,\"solidity\":0.2}},\"type\":\"barpolar\"}],\"pie\":[{\"automargin\":true,\"type\":\"pie\"}]},\"layout\":{\"autotypenumbers\":\"strict\",\"colorway\":[\"#636efa\",\"#EF553B\",\"#00cc96\",\"#ab63fa\",\"#FFA15A\",\"#19d3f3\",\"#FF6692\",\"#B6E880\",\"#FF97FF\",\"#FECB52\"],\"font\":{\"color\":\"#2a3f5f\"},\"hovermode\":\"closest\",\"hoverlabel\":{\"align\":\"left\"},\"paper_bgcolor\":\"white\",\"plot_bgcolor\":\"#E5ECF6\",\"polar\":{\"bgcolor\":\"#E5ECF6\",\"angularaxis\":{\"gridcolor\":\"white\",\"linecolor\":\"white\",\"ticks\":\"\"},\"radialaxis\":{\"gridcolor\":\"white\",\"linecolor\":\"white\",\"ticks\":\"\"}},\"ternary\":{\"bgcolor\":\"#E5ECF6\",\"aaxis\":{\"gridcolor\":\"white\",\"linecolor\":\"white\",\"ticks\":\"\"},\"baxis\":{\"gridcolor\":\"white\",\"linecolor\":\"white\",\"ticks\":\"\"},\"caxis\":{\"gridcolor\":\"white\",\"linecolor\":\"white\",\"ticks\":\"\"}},\"coloraxis\":{\"colorbar\":{\"outlinewidth\":0,\"ticks\":\"\"}},\"colorscale\":{\"sequential\":[[0.0,\"#0d0887\"],[0.1111111111111111,\"#46039f\"],[0.2222222222222222,\"#7201a8\"],[0.3333333333333333,\"#9c179e\"],[0.4444444444444444,\"#bd3786\"],[0.5555555555555556,\"#d8576b\"],[0.6666666666666666,\"#ed7953\"],[0.7777777777777778,\"#fb9f3a\"],[0.8888888888888888,\"#fdca26\"],[1.0,\"#f0f921\"]],\"sequentialminus\":[[0.0,\"#0d0887\"],[0.1111111111111111,\"#46039f\"],[0.2222222222222222,\"#7201a8\"],[0.3333333333333333,\"#9c179e\"],[0.4444444444444444,\"#bd3786\"],[0.5555555555555556,\"#d8576b\"],[0.6666666666666666,\"#ed7953\"],[0.7777777777777778,\"#fb9f3a\"],[0.8888888888888888,\"#fdca26\"],[1.0,\"#f0f921\"]],\"diverging\":[[0,\"#8e0152\"],[0.1,\"#c51b7d\"],[0.2,\"#de77ae\"],[0.3,\"#f1b6da\"],[0.4,\"#fde0ef\"],[0.5,\"#f7f7f7\"],[0.6,\"#e6f5d0\"],[0.7,\"#b8e186\"],[0.8,\"#7fbc41\"],[0.9,\"#4d9221\"],[1,\"#276419\"]]},\"xaxis\":{\"gridcolor\":\"white\",\"linecolor\":\"white\",\"ticks\":\"\",\"title\":{\"standoff\":15},\"zerolinecolor\":\"white\",\"automargin\":true,\"zerolinewidth\":2},\"yaxis\":{\"gridcolor\":\"white\",\"linecolor\":\"white\",\"ticks\":\"\",\"title\":{\"standoff\":15},\"zerolinecolor\":\"white\",\"automargin\":true,\"zerolinewidth\":2},\"scene\":{\"xaxis\":{\"backgroundcolor\":\"#E5ECF6\",\"gridcolor\":\"white\",\"linecolor\":\"white\",\"showbackground\":true,\"ticks\":\"\",\"zerolinecolor\":\"white\",\"gridwidth\":2},\"yaxis\":{\"backgroundcolor\":\"#E5ECF6\",\"gridcolor\":\"white\",\"linecolor\":\"white\",\"showbackground\":true,\"ticks\":\"\",\"zerolinecolor\":\"white\",\"gridwidth\":2},\"zaxis\":{\"backgroundcolor\":\"#E5ECF6\",\"gridcolor\":\"white\",\"linecolor\":\"white\",\"showbackground\":true,\"ticks\":\"\",\"zerolinecolor\":\"white\",\"gridwidth\":2}},\"shapedefaults\":{\"line\":{\"color\":\"#2a3f5f\"}},\"annotationdefaults\":{\"arrowcolor\":\"#2a3f5f\",\"arrowhead\":0,\"arrowwidth\":1},\"geo\":{\"bgcolor\":\"white\",\"landcolor\":\"#E5ECF6\",\"subunitcolor\":\"white\",\"showland\":true,\"showlakes\":true,\"lakecolor\":\"white\"},\"title\":{\"x\":0.05},\"mapbox\":{\"style\":\"light\"}}},\"xaxis\":{\"anchor\":\"y\",\"domain\":[0.0,1.0],\"title\":{\"text\":\"x\"},\"tickangle\":-90},\"yaxis\":{\"anchor\":\"x\",\"domain\":[0.0,1.0],\"title\":{\"text\":\"y\"}},\"legend\":{\"tracegroupgap\":0},\"margin\":{\"t\":60},\"barmode\":\"relative\",\"width\":650,\"height\":400},                        {\"responsive\": true}                    ).then(function(){\n",
       "                            \n",
       "var gd = document.getElementById('f8ca6e96-244a-4256-823c-a8141f1acf6f');\n",
       "var x = new MutationObserver(function (mutations, observer) {{\n",
       "        var display = window.getComputedStyle(gd).display;\n",
       "        if (!display || display === 'none') {{\n",
       "            console.log([gd, 'removed!']);\n",
       "            Plotly.purge(gd);\n",
       "            observer.disconnect();\n",
       "        }}\n",
       "}});\n",
       "\n",
       "// Listen for the removal of the full notebook cells\n",
       "var notebookContainer = gd.closest('#notebook-container');\n",
       "if (notebookContainer) {{\n",
       "    x.observe(notebookContainer, {childList: true});\n",
       "}}\n",
       "\n",
       "// Listen for the clearing of the current output cell\n",
       "var outputEl = gd.closest('.output');\n",
       "if (outputEl) {{\n",
       "    x.observe(outputEl, {childList: true});\n",
       "}}\n",
       "\n",
       "                        })                };                });            </script>        </div>"
      ]
     },
     "metadata": {},
     "output_type": "display_data"
    }
   ],
   "source": [
    "# make missing values plot by using plotly\n",
    "import plotly.express as px\n",
    "fig = px.bar(x=df.isnull().mean().index, y=df.isnull().sum().values)\n",
    "fig.update_layout(width=650, height=400, xaxis_tickangle = -90)\n",
    "fig.show()"
   ]
  },
  {
   "cell_type": "code",
   "execution_count": 37,
   "id": "40491003",
   "metadata": {
    "execution": {
     "iopub.execute_input": "2023-11-10T06:02:46.273718Z",
     "iopub.status.busy": "2023-11-10T06:02:46.273095Z",
     "iopub.status.idle": "2023-11-10T06:02:46.311149Z",
     "shell.execute_reply": "2023-11-10T06:02:46.310004Z"
    },
    "papermill": {
     "duration": 0.072378,
     "end_time": "2023-11-10T06:02:46.313881",
     "exception": false,
     "start_time": "2023-11-10T06:02:46.241503",
     "status": "completed"
    },
    "tags": []
   },
   "outputs": [
    {
     "data": {
      "text/html": [
       "<div>\n",
       "<style scoped>\n",
       "    .dataframe tbody tr th:only-of-type {\n",
       "        vertical-align: middle;\n",
       "    }\n",
       "\n",
       "    .dataframe tbody tr th {\n",
       "        vertical-align: top;\n",
       "    }\n",
       "\n",
       "    .dataframe thead th {\n",
       "        text-align: right;\n",
       "    }\n",
       "</style>\n",
       "<table border=\"1\" class=\"dataframe\">\n",
       "  <thead>\n",
       "    <tr style=\"text-align: right;\">\n",
       "      <th></th>\n",
       "      <th>Null Values</th>\n",
       "      <th>Percentage Null Values</th>\n",
       "    </tr>\n",
       "  </thead>\n",
       "  <tbody>\n",
       "    <tr>\n",
       "      <th>Size_in_Mb</th>\n",
       "      <td>1525</td>\n",
       "      <td>14.739996</td>\n",
       "    </tr>\n",
       "    <tr>\n",
       "      <th>Rating</th>\n",
       "      <td>1460</td>\n",
       "      <td>14.111734</td>\n",
       "    </tr>\n",
       "    <tr>\n",
       "      <th>App</th>\n",
       "      <td>0</td>\n",
       "      <td>0.000000</td>\n",
       "    </tr>\n",
       "    <tr>\n",
       "      <th>Category</th>\n",
       "      <td>0</td>\n",
       "      <td>0.000000</td>\n",
       "    </tr>\n",
       "    <tr>\n",
       "      <th>Reviews</th>\n",
       "      <td>0</td>\n",
       "      <td>0.000000</td>\n",
       "    </tr>\n",
       "    <tr>\n",
       "      <th>Installs</th>\n",
       "      <td>0</td>\n",
       "      <td>0.000000</td>\n",
       "    </tr>\n",
       "    <tr>\n",
       "      <th>Type</th>\n",
       "      <td>0</td>\n",
       "      <td>0.000000</td>\n",
       "    </tr>\n",
       "    <tr>\n",
       "      <th>Price</th>\n",
       "      <td>0</td>\n",
       "      <td>0.000000</td>\n",
       "    </tr>\n",
       "    <tr>\n",
       "      <th>Content Rating</th>\n",
       "      <td>0</td>\n",
       "      <td>0.000000</td>\n",
       "    </tr>\n",
       "    <tr>\n",
       "      <th>Genres</th>\n",
       "      <td>0</td>\n",
       "      <td>0.000000</td>\n",
       "    </tr>\n",
       "    <tr>\n",
       "      <th>Last Updated</th>\n",
       "      <td>0</td>\n",
       "      <td>0.000000</td>\n",
       "    </tr>\n",
       "    <tr>\n",
       "      <th>Current Ver</th>\n",
       "      <td>0</td>\n",
       "      <td>0.000000</td>\n",
       "    </tr>\n",
       "    <tr>\n",
       "      <th>Android Ver</th>\n",
       "      <td>0</td>\n",
       "      <td>0.000000</td>\n",
       "    </tr>\n",
       "    <tr>\n",
       "      <th>Install_category</th>\n",
       "      <td>0</td>\n",
       "      <td>0.000000</td>\n",
       "    </tr>\n",
       "  </tbody>\n",
       "</table>\n",
       "</div>"
      ],
      "text/plain": [
       "                  Null Values  Percentage Null Values\n",
       "Size_in_Mb               1525               14.739996\n",
       "Rating                   1460               14.111734\n",
       "App                         0                0.000000\n",
       "Category                    0                0.000000\n",
       "Reviews                     0                0.000000\n",
       "Installs                    0                0.000000\n",
       "Type                        0                0.000000\n",
       "Price                       0                0.000000\n",
       "Content Rating              0                0.000000\n",
       "Genres                      0                0.000000\n",
       "Last Updated                0                0.000000\n",
       "Current Ver                 0                0.000000\n",
       "Android Ver                 0                0.000000\n",
       "Install_category            0                0.000000"
      ]
     },
     "execution_count": 37,
     "metadata": {},
     "output_type": "execute_result"
    }
   ],
   "source": [
    "# check missing values\n",
    "Missing = pd.DataFrame({'Null Values' : df.isna().sum().sort_values(ascending=False), \n",
    "                        'Percentage Null Values' : (df.isna().sum().sort_values(ascending=False)) \n",
    "                        / (df.shape[0]) * (100)})\n",
    "Missing"
   ]
  },
  {
   "cell_type": "markdown",
   "id": "fed9910b",
   "metadata": {
    "papermill": {
     "duration": 0.030383,
     "end_time": "2023-11-10T06:02:46.375404",
     "exception": false,
     "start_time": "2023-11-10T06:02:46.345021",
     "status": "completed"
    },
    "tags": []
   },
   "source": [
    "<div style=\"border-radius:10px; padding: 15px; background-color: #f2f7f6; font-size:100%; text-align:left;width:800px\">\n",
    "\n",
    "<h3 align=\"left\"><font color=#501ee6>Correlation observation:</font></h3>\n",
    "    <a><span></span><span style='color:#01181c; font-size:15px'> <ul>\n",
    "        <li>Currently, within our dataset, the sole columns that still bear missing values are 'Rating' and 'Size_in_Mb.' \n",
    "\n",
    "Regarding the 'Rating' column, we must exercise vigilance in addressing its missing values due to its direct linkage with the 'Installs' column, an essential factor in our dataset.\n",
    "\n",
    "Conversely, in the 'Size' columns, we have successfully managed the 'Varies with device' values by converting them into null values. At this juncture, there is no immediate necessity for imputation in these columns, as each app's size is notably distinct, rendering it impractical to predict with a high degree of accuracy.</li>"
   ]
  },
  {
   "cell_type": "code",
   "execution_count": 38,
   "id": "0b7c0a60",
   "metadata": {
    "execution": {
     "iopub.execute_input": "2023-11-10T06:02:46.438754Z",
     "iopub.status.busy": "2023-11-10T06:02:46.438314Z",
     "iopub.status.idle": "2023-11-10T06:02:46.490932Z",
     "shell.execute_reply": "2023-11-10T06:02:46.489516Z"
    },
    "papermill": {
     "duration": 0.087577,
     "end_time": "2023-11-10T06:02:46.493621",
     "exception": false,
     "start_time": "2023-11-10T06:02:46.406044",
     "status": "completed"
    },
    "tags": []
   },
   "outputs": [
    {
     "data": {
      "text/html": [
       "<div>                            <div id=\"75d1a527-5ea6-40cf-8e71-525c5f606729\" class=\"plotly-graph-div\" style=\"height:450px; width:650px;\"></div>            <script type=\"text/javascript\">                require([\"plotly\"], function(Plotly) {                    window.PLOTLYENV=window.PLOTLYENV || {};                                    if (document.getElementById(\"75d1a527-5ea6-40cf-8e71-525c5f606729\")) {                    Plotly.newPlot(                        \"75d1a527-5ea6-40cf-8e71-525c5f606729\",                        [{\"colorbar\":{\"title\":{\"text\":\"Correlation\"}},\"colorscale\":[[0.0,\"rgb(255,255,217)\"],[0.125,\"rgb(237,248,177)\"],[0.25,\"rgb(199,233,180)\"],[0.375,\"rgb(127,205,187)\"],[0.5,\"rgb(65,182,196)\"],[0.625,\"rgb(29,145,192)\"],[0.75,\"rgb(34,94,168)\"],[0.875,\"rgb(37,52,148)\"],[1.0,\"rgb(8,29,88)\"]],\"x\":[\"Rating\",\"Reviews\",\"Installs\",\"Price\",\"Size_in_Mb\"],\"y\":[\"Rating\",\"Reviews\",\"Installs\",\"Price\",\"Size_in_Mb\"],\"z\":[[1.0,0.06872388127364115,0.050869065673168574,-0.02237113127797279,0.08187391552054679],[0.06872388127364115,1.0,0.634987392557796,-0.009424130877035518,0.23785312128155953],[0.050869065673168574,0.634987392557796,1.0,-0.0111550618112121,0.16880485342823748],[-0.02237113127797279,-0.009424130877035518,-0.0111550618112121,1.0,-0.023820198134800737],[0.08187391552054679,0.23785312128155953,0.16880485342823748,-0.023820198134800737,1.0]],\"type\":\"heatmap\"}],                        {\"template\":{\"data\":{\"histogram2dcontour\":[{\"type\":\"histogram2dcontour\",\"colorbar\":{\"outlinewidth\":0,\"ticks\":\"\"},\"colorscale\":[[0.0,\"#0d0887\"],[0.1111111111111111,\"#46039f\"],[0.2222222222222222,\"#7201a8\"],[0.3333333333333333,\"#9c179e\"],[0.4444444444444444,\"#bd3786\"],[0.5555555555555556,\"#d8576b\"],[0.6666666666666666,\"#ed7953\"],[0.7777777777777778,\"#fb9f3a\"],[0.8888888888888888,\"#fdca26\"],[1.0,\"#f0f921\"]]}],\"choropleth\":[{\"type\":\"choropleth\",\"colorbar\":{\"outlinewidth\":0,\"ticks\":\"\"}}],\"histogram2d\":[{\"type\":\"histogram2d\",\"colorbar\":{\"outlinewidth\":0,\"ticks\":\"\"},\"colorscale\":[[0.0,\"#0d0887\"],[0.1111111111111111,\"#46039f\"],[0.2222222222222222,\"#7201a8\"],[0.3333333333333333,\"#9c179e\"],[0.4444444444444444,\"#bd3786\"],[0.5555555555555556,\"#d8576b\"],[0.6666666666666666,\"#ed7953\"],[0.7777777777777778,\"#fb9f3a\"],[0.8888888888888888,\"#fdca26\"],[1.0,\"#f0f921\"]]}],\"heatmap\":[{\"type\":\"heatmap\",\"colorbar\":{\"outlinewidth\":0,\"ticks\":\"\"},\"colorscale\":[[0.0,\"#0d0887\"],[0.1111111111111111,\"#46039f\"],[0.2222222222222222,\"#7201a8\"],[0.3333333333333333,\"#9c179e\"],[0.4444444444444444,\"#bd3786\"],[0.5555555555555556,\"#d8576b\"],[0.6666666666666666,\"#ed7953\"],[0.7777777777777778,\"#fb9f3a\"],[0.8888888888888888,\"#fdca26\"],[1.0,\"#f0f921\"]]}],\"heatmapgl\":[{\"type\":\"heatmapgl\",\"colorbar\":{\"outlinewidth\":0,\"ticks\":\"\"},\"colorscale\":[[0.0,\"#0d0887\"],[0.1111111111111111,\"#46039f\"],[0.2222222222222222,\"#7201a8\"],[0.3333333333333333,\"#9c179e\"],[0.4444444444444444,\"#bd3786\"],[0.5555555555555556,\"#d8576b\"],[0.6666666666666666,\"#ed7953\"],[0.7777777777777778,\"#fb9f3a\"],[0.8888888888888888,\"#fdca26\"],[1.0,\"#f0f921\"]]}],\"contourcarpet\":[{\"type\":\"contourcarpet\",\"colorbar\":{\"outlinewidth\":0,\"ticks\":\"\"}}],\"contour\":[{\"type\":\"contour\",\"colorbar\":{\"outlinewidth\":0,\"ticks\":\"\"},\"colorscale\":[[0.0,\"#0d0887\"],[0.1111111111111111,\"#46039f\"],[0.2222222222222222,\"#7201a8\"],[0.3333333333333333,\"#9c179e\"],[0.4444444444444444,\"#bd3786\"],[0.5555555555555556,\"#d8576b\"],[0.6666666666666666,\"#ed7953\"],[0.7777777777777778,\"#fb9f3a\"],[0.8888888888888888,\"#fdca26\"],[1.0,\"#f0f921\"]]}],\"surface\":[{\"type\":\"surface\",\"colorbar\":{\"outlinewidth\":0,\"ticks\":\"\"},\"colorscale\":[[0.0,\"#0d0887\"],[0.1111111111111111,\"#46039f\"],[0.2222222222222222,\"#7201a8\"],[0.3333333333333333,\"#9c179e\"],[0.4444444444444444,\"#bd3786\"],[0.5555555555555556,\"#d8576b\"],[0.6666666666666666,\"#ed7953\"],[0.7777777777777778,\"#fb9f3a\"],[0.8888888888888888,\"#fdca26\"],[1.0,\"#f0f921\"]]}],\"mesh3d\":[{\"type\":\"mesh3d\",\"colorbar\":{\"outlinewidth\":0,\"ticks\":\"\"}}],\"scatter\":[{\"fillpattern\":{\"fillmode\":\"overlay\",\"size\":10,\"solidity\":0.2},\"type\":\"scatter\"}],\"parcoords\":[{\"type\":\"parcoords\",\"line\":{\"colorbar\":{\"outlinewidth\":0,\"ticks\":\"\"}}}],\"scatterpolargl\":[{\"type\":\"scatterpolargl\",\"marker\":{\"colorbar\":{\"outlinewidth\":0,\"ticks\":\"\"}}}],\"bar\":[{\"error_x\":{\"color\":\"#2a3f5f\"},\"error_y\":{\"color\":\"#2a3f5f\"},\"marker\":{\"line\":{\"color\":\"#E5ECF6\",\"width\":0.5},\"pattern\":{\"fillmode\":\"overlay\",\"size\":10,\"solidity\":0.2}},\"type\":\"bar\"}],\"scattergeo\":[{\"type\":\"scattergeo\",\"marker\":{\"colorbar\":{\"outlinewidth\":0,\"ticks\":\"\"}}}],\"scatterpolar\":[{\"type\":\"scatterpolar\",\"marker\":{\"colorbar\":{\"outlinewidth\":0,\"ticks\":\"\"}}}],\"histogram\":[{\"marker\":{\"pattern\":{\"fillmode\":\"overlay\",\"size\":10,\"solidity\":0.2}},\"type\":\"histogram\"}],\"scattergl\":[{\"type\":\"scattergl\",\"marker\":{\"colorbar\":{\"outlinewidth\":0,\"ticks\":\"\"}}}],\"scatter3d\":[{\"type\":\"scatter3d\",\"line\":{\"colorbar\":{\"outlinewidth\":0,\"ticks\":\"\"}},\"marker\":{\"colorbar\":{\"outlinewidth\":0,\"ticks\":\"\"}}}],\"scattermapbox\":[{\"type\":\"scattermapbox\",\"marker\":{\"colorbar\":{\"outlinewidth\":0,\"ticks\":\"\"}}}],\"scatterternary\":[{\"type\":\"scatterternary\",\"marker\":{\"colorbar\":{\"outlinewidth\":0,\"ticks\":\"\"}}}],\"scattercarpet\":[{\"type\":\"scattercarpet\",\"marker\":{\"colorbar\":{\"outlinewidth\":0,\"ticks\":\"\"}}}],\"carpet\":[{\"aaxis\":{\"endlinecolor\":\"#2a3f5f\",\"gridcolor\":\"white\",\"linecolor\":\"white\",\"minorgridcolor\":\"white\",\"startlinecolor\":\"#2a3f5f\"},\"baxis\":{\"endlinecolor\":\"#2a3f5f\",\"gridcolor\":\"white\",\"linecolor\":\"white\",\"minorgridcolor\":\"white\",\"startlinecolor\":\"#2a3f5f\"},\"type\":\"carpet\"}],\"table\":[{\"cells\":{\"fill\":{\"color\":\"#EBF0F8\"},\"line\":{\"color\":\"white\"}},\"header\":{\"fill\":{\"color\":\"#C8D4E3\"},\"line\":{\"color\":\"white\"}},\"type\":\"table\"}],\"barpolar\":[{\"marker\":{\"line\":{\"color\":\"#E5ECF6\",\"width\":0.5},\"pattern\":{\"fillmode\":\"overlay\",\"size\":10,\"solidity\":0.2}},\"type\":\"barpolar\"}],\"pie\":[{\"automargin\":true,\"type\":\"pie\"}]},\"layout\":{\"autotypenumbers\":\"strict\",\"colorway\":[\"#636efa\",\"#EF553B\",\"#00cc96\",\"#ab63fa\",\"#FFA15A\",\"#19d3f3\",\"#FF6692\",\"#B6E880\",\"#FF97FF\",\"#FECB52\"],\"font\":{\"color\":\"#2a3f5f\"},\"hovermode\":\"closest\",\"hoverlabel\":{\"align\":\"left\"},\"paper_bgcolor\":\"white\",\"plot_bgcolor\":\"#E5ECF6\",\"polar\":{\"bgcolor\":\"#E5ECF6\",\"angularaxis\":{\"gridcolor\":\"white\",\"linecolor\":\"white\",\"ticks\":\"\"},\"radialaxis\":{\"gridcolor\":\"white\",\"linecolor\":\"white\",\"ticks\":\"\"}},\"ternary\":{\"bgcolor\":\"#E5ECF6\",\"aaxis\":{\"gridcolor\":\"white\",\"linecolor\":\"white\",\"ticks\":\"\"},\"baxis\":{\"gridcolor\":\"white\",\"linecolor\":\"white\",\"ticks\":\"\"},\"caxis\":{\"gridcolor\":\"white\",\"linecolor\":\"white\",\"ticks\":\"\"}},\"coloraxis\":{\"colorbar\":{\"outlinewidth\":0,\"ticks\":\"\"}},\"colorscale\":{\"sequential\":[[0.0,\"#0d0887\"],[0.1111111111111111,\"#46039f\"],[0.2222222222222222,\"#7201a8\"],[0.3333333333333333,\"#9c179e\"],[0.4444444444444444,\"#bd3786\"],[0.5555555555555556,\"#d8576b\"],[0.6666666666666666,\"#ed7953\"],[0.7777777777777778,\"#fb9f3a\"],[0.8888888888888888,\"#fdca26\"],[1.0,\"#f0f921\"]],\"sequentialminus\":[[0.0,\"#0d0887\"],[0.1111111111111111,\"#46039f\"],[0.2222222222222222,\"#7201a8\"],[0.3333333333333333,\"#9c179e\"],[0.4444444444444444,\"#bd3786\"],[0.5555555555555556,\"#d8576b\"],[0.6666666666666666,\"#ed7953\"],[0.7777777777777778,\"#fb9f3a\"],[0.8888888888888888,\"#fdca26\"],[1.0,\"#f0f921\"]],\"diverging\":[[0,\"#8e0152\"],[0.1,\"#c51b7d\"],[0.2,\"#de77ae\"],[0.3,\"#f1b6da\"],[0.4,\"#fde0ef\"],[0.5,\"#f7f7f7\"],[0.6,\"#e6f5d0\"],[0.7,\"#b8e186\"],[0.8,\"#7fbc41\"],[0.9,\"#4d9221\"],[1,\"#276419\"]]},\"xaxis\":{\"gridcolor\":\"white\",\"linecolor\":\"white\",\"ticks\":\"\",\"title\":{\"standoff\":15},\"zerolinecolor\":\"white\",\"automargin\":true,\"zerolinewidth\":2},\"yaxis\":{\"gridcolor\":\"white\",\"linecolor\":\"white\",\"ticks\":\"\",\"title\":{\"standoff\":15},\"zerolinecolor\":\"white\",\"automargin\":true,\"zerolinewidth\":2},\"scene\":{\"xaxis\":{\"backgroundcolor\":\"#E5ECF6\",\"gridcolor\":\"white\",\"linecolor\":\"white\",\"showbackground\":true,\"ticks\":\"\",\"zerolinecolor\":\"white\",\"gridwidth\":2},\"yaxis\":{\"backgroundcolor\":\"#E5ECF6\",\"gridcolor\":\"white\",\"linecolor\":\"white\",\"showbackground\":true,\"ticks\":\"\",\"zerolinecolor\":\"white\",\"gridwidth\":2},\"zaxis\":{\"backgroundcolor\":\"#E5ECF6\",\"gridcolor\":\"white\",\"linecolor\":\"white\",\"showbackground\":true,\"ticks\":\"\",\"zerolinecolor\":\"white\",\"gridwidth\":2}},\"shapedefaults\":{\"line\":{\"color\":\"#2a3f5f\"}},\"annotationdefaults\":{\"arrowcolor\":\"#2a3f5f\",\"arrowhead\":0,\"arrowwidth\":1},\"geo\":{\"bgcolor\":\"white\",\"landcolor\":\"#E5ECF6\",\"subunitcolor\":\"white\",\"showland\":true,\"showlakes\":true,\"lakecolor\":\"white\"},\"title\":{\"x\":0.05},\"mapbox\":{\"style\":\"light\"}}},\"title\":{\"text\":\"Correlation Heatmap\"},\"width\":650,\"height\":450,\"annotations\":[{\"showarrow\":false,\"text\":\"1.0\",\"x\":\"Rating\",\"y\":\"Rating\"},{\"showarrow\":false,\"text\":\"0.07\",\"x\":\"Rating\",\"y\":\"Reviews\"},{\"showarrow\":false,\"text\":\"0.05\",\"x\":\"Rating\",\"y\":\"Installs\"},{\"showarrow\":false,\"text\":\"-0.02\",\"x\":\"Rating\",\"y\":\"Price\"},{\"showarrow\":false,\"text\":\"0.08\",\"x\":\"Rating\",\"y\":\"Size_in_Mb\"},{\"showarrow\":false,\"text\":\"0.07\",\"x\":\"Reviews\",\"y\":\"Rating\"},{\"showarrow\":false,\"text\":\"1.0\",\"x\":\"Reviews\",\"y\":\"Reviews\"},{\"showarrow\":false,\"text\":\"0.63\",\"x\":\"Reviews\",\"y\":\"Installs\"},{\"showarrow\":false,\"text\":\"-0.01\",\"x\":\"Reviews\",\"y\":\"Price\"},{\"showarrow\":false,\"text\":\"0.24\",\"x\":\"Reviews\",\"y\":\"Size_in_Mb\"},{\"showarrow\":false,\"text\":\"0.05\",\"x\":\"Installs\",\"y\":\"Rating\"},{\"showarrow\":false,\"text\":\"0.63\",\"x\":\"Installs\",\"y\":\"Reviews\"},{\"showarrow\":false,\"text\":\"1.0\",\"x\":\"Installs\",\"y\":\"Installs\"},{\"showarrow\":false,\"text\":\"-0.01\",\"x\":\"Installs\",\"y\":\"Price\"},{\"showarrow\":false,\"text\":\"0.17\",\"x\":\"Installs\",\"y\":\"Size_in_Mb\"},{\"showarrow\":false,\"text\":\"-0.02\",\"x\":\"Price\",\"y\":\"Rating\"},{\"showarrow\":false,\"text\":\"-0.01\",\"x\":\"Price\",\"y\":\"Reviews\"},{\"showarrow\":false,\"text\":\"-0.01\",\"x\":\"Price\",\"y\":\"Installs\"},{\"showarrow\":false,\"text\":\"1.0\",\"x\":\"Price\",\"y\":\"Price\"},{\"showarrow\":false,\"text\":\"-0.02\",\"x\":\"Price\",\"y\":\"Size_in_Mb\"},{\"showarrow\":false,\"text\":\"0.08\",\"x\":\"Size_in_Mb\",\"y\":\"Rating\"},{\"showarrow\":false,\"text\":\"0.24\",\"x\":\"Size_in_Mb\",\"y\":\"Reviews\"},{\"showarrow\":false,\"text\":\"0.17\",\"x\":\"Size_in_Mb\",\"y\":\"Installs\"},{\"showarrow\":false,\"text\":\"-0.02\",\"x\":\"Size_in_Mb\",\"y\":\"Price\"},{\"showarrow\":false,\"text\":\"1.0\",\"x\":\"Size_in_Mb\",\"y\":\"Size_in_Mb\"}]},                        {\"responsive\": true}                    ).then(function(){\n",
       "                            \n",
       "var gd = document.getElementById('75d1a527-5ea6-40cf-8e71-525c5f606729');\n",
       "var x = new MutationObserver(function (mutations, observer) {{\n",
       "        var display = window.getComputedStyle(gd).display;\n",
       "        if (!display || display === 'none') {{\n",
       "            console.log([gd, 'removed!']);\n",
       "            Plotly.purge(gd);\n",
       "            observer.disconnect();\n",
       "        }}\n",
       "}});\n",
       "\n",
       "// Listen for the removal of the full notebook cells\n",
       "var notebookContainer = gd.closest('#notebook-container');\n",
       "if (notebookContainer) {{\n",
       "    x.observe(notebookContainer, {childList: true});\n",
       "}}\n",
       "\n",
       "// Listen for the clearing of the current output cell\n",
       "var outputEl = gd.closest('.output');\n",
       "if (outputEl) {{\n",
       "    x.observe(outputEl, {childList: true});\n",
       "}}\n",
       "\n",
       "                        })                };                });            </script>        </div>"
      ]
     },
     "metadata": {},
     "output_type": "display_data"
    }
   ],
   "source": [
    "import plotly.graph_objects as go\n",
    "import numpy as np\n",
    "\n",
    "# Make a correlation matrix on numeric columns\n",
    "numeric_cols = [\"Rating\", \"Reviews\", \"Installs\", \"Price\", \"Size_in_Mb\"]\n",
    "correlation_matrix = df[numeric_cols].corr()\n",
    "\n",
    "# Create a custom text for annotating the heatmap\n",
    "text_values = np.around(correlation_matrix.values, decimals=2)\n",
    "\n",
    "fig = go.Figure(data=go.Heatmap(\n",
    "    z=correlation_matrix,\n",
    "    x=numeric_cols,\n",
    "    y=numeric_cols,\n",
    "    colorscale=\"YlGnBu\",\n",
    "    colorbar=dict(title=\"Correlation\"),\n",
    "))\n",
    "\n",
    "# Add text annotations to the heatmap\n",
    "annotations = []\n",
    "for i in range(len(numeric_cols)):\n",
    "    for j in range(len(numeric_cols)):\n",
    "        annotations.append(\n",
    "            go.layout.Annotation(\n",
    "                x=numeric_cols[i],\n",
    "                y=numeric_cols[j],\n",
    "                text=str(text_values[j][i]),\n",
    "                showarrow=False,\n",
    "            )\n",
    "        )\n",
    "\n",
    "fig.update_layout(\n",
    "    title=\"Correlation Heatmap\",\n",
    "    width=650,\n",
    "    height=450,\n",
    "    annotations=annotations,\n",
    ")\n",
    "\n",
    "fig.show()\n"
   ]
  },
  {
   "cell_type": "markdown",
   "id": "97ae18e3",
   "metadata": {
    "papermill": {
     "duration": 0.031703,
     "end_time": "2023-11-10T06:02:46.556744",
     "exception": false,
     "start_time": "2023-11-10T06:02:46.525041",
     "status": "completed"
    },
    "tags": []
   },
   "source": [
    "<div style=\"border-radius:10px; padding: 15px; background-color: #f2f7f6; font-size:100%; text-align:left;width:800px\">\n",
    "\n",
    "<h3 align=\"left\"><font color=#501ee6>Correlation observation:</font></h3>\n",
    "    <a><span></span><span style='color:#01181c; font-size:15px'> <ul>\n",
    "        <li>In the presented correlation matrix plot, the diversity of values is visually distinguished through a spectrum of colors, each bearing its own significance. The spectrum, ranging from lighter to darker hues, imparts a nuanced representation of the correlation levels. Specifically, lighter colors denote lower correlations, while the darker shades signify higher correlations.\n",
    "\n",
    "In the context of correlation, the concept of lower and higher correlation pertains to the degree of association between two variables. Lower correlation implies that when one variable increases, the other exhibits only a marginal increase or change. Conversely, higher correlation implies that an increase in one variable is strongly linked to a corresponding increase in the other.\n",
    "\n",
    "Remarkably, within our correlation matrix plot, a noteworthy correlation value emerges, standing at 0.63. This correlation pertains to the relationship between the \"Rating\" and \"Installs\" columns, signifying a substantial and positive association between these variables..</li>"
   ]
  },
  {
   "cell_type": "code",
   "execution_count": 39,
   "id": "f7633a04",
   "metadata": {
    "execution": {
     "iopub.execute_input": "2023-11-10T06:02:46.621041Z",
     "iopub.status.busy": "2023-11-10T06:02:46.620364Z",
     "iopub.status.idle": "2023-11-10T06:02:46.636491Z",
     "shell.execute_reply": "2023-11-10T06:02:46.635054Z"
    },
    "papermill": {
     "duration": 0.050994,
     "end_time": "2023-11-10T06:02:46.638847",
     "exception": false,
     "start_time": "2023-11-10T06:02:46.587853",
     "status": "completed"
    },
    "tags": []
   },
   "outputs": [
    {
     "data": {
      "text/html": [
       "<div>\n",
       "<style scoped>\n",
       "    .dataframe tbody tr th:only-of-type {\n",
       "        vertical-align: middle;\n",
       "    }\n",
       "\n",
       "    .dataframe tbody tr th {\n",
       "        vertical-align: top;\n",
       "    }\n",
       "\n",
       "    .dataframe thead th {\n",
       "        text-align: right;\n",
       "    }\n",
       "</style>\n",
       "<table border=\"1\" class=\"dataframe\">\n",
       "  <thead>\n",
       "    <tr style=\"text-align: right;\">\n",
       "      <th></th>\n",
       "      <th>Rating</th>\n",
       "      <th>Reviews</th>\n",
       "      <th>Installs</th>\n",
       "      <th>Price</th>\n",
       "      <th>Size_in_Mb</th>\n",
       "    </tr>\n",
       "  </thead>\n",
       "  <tbody>\n",
       "    <tr>\n",
       "      <th>Rating</th>\n",
       "      <td>1.000000</td>\n",
       "      <td>0.068724</td>\n",
       "      <td>0.050869</td>\n",
       "      <td>-0.022371</td>\n",
       "      <td>0.081874</td>\n",
       "    </tr>\n",
       "    <tr>\n",
       "      <th>Reviews</th>\n",
       "      <td>0.068724</td>\n",
       "      <td>1.000000</td>\n",
       "      <td>0.634987</td>\n",
       "      <td>-0.009424</td>\n",
       "      <td>0.237853</td>\n",
       "    </tr>\n",
       "    <tr>\n",
       "      <th>Installs</th>\n",
       "      <td>0.050869</td>\n",
       "      <td>0.634987</td>\n",
       "      <td>1.000000</td>\n",
       "      <td>-0.011155</td>\n",
       "      <td>0.168805</td>\n",
       "    </tr>\n",
       "    <tr>\n",
       "      <th>Price</th>\n",
       "      <td>-0.022371</td>\n",
       "      <td>-0.009424</td>\n",
       "      <td>-0.011155</td>\n",
       "      <td>1.000000</td>\n",
       "      <td>-0.023820</td>\n",
       "    </tr>\n",
       "    <tr>\n",
       "      <th>Size_in_Mb</th>\n",
       "      <td>0.081874</td>\n",
       "      <td>0.237853</td>\n",
       "      <td>0.168805</td>\n",
       "      <td>-0.023820</td>\n",
       "      <td>1.000000</td>\n",
       "    </tr>\n",
       "  </tbody>\n",
       "</table>\n",
       "</div>"
      ],
      "text/plain": [
       "              Rating   Reviews  Installs     Price  Size_in_Mb\n",
       "Rating      1.000000  0.068724  0.050869 -0.022371    0.081874\n",
       "Reviews     0.068724  1.000000  0.634987 -0.009424    0.237853\n",
       "Installs    0.050869  0.634987  1.000000 -0.011155    0.168805\n",
       "Price      -0.022371 -0.009424 -0.011155  1.000000   -0.023820\n",
       "Size_in_Mb  0.081874  0.237853  0.168805 -0.023820    1.000000"
      ]
     },
     "execution_count": 39,
     "metadata": {},
     "output_type": "execute_result"
    }
   ],
   "source": [
    "# we can calculate the correlation matrix by using pandas\n",
    "df[numeric_cols].corr()"
   ]
  },
  {
   "cell_type": "markdown",
   "id": "02132e15",
   "metadata": {
    "papermill": {
     "duration": 0.03156,
     "end_time": "2023-11-10T06:02:46.701614",
     "exception": false,
     "start_time": "2023-11-10T06:02:46.670054",
     "status": "completed"
    },
    "tags": []
   },
   "source": [
    "## Install category with rating"
   ]
  },
  {
   "cell_type": "code",
   "execution_count": 40,
   "id": "ea10f709",
   "metadata": {
    "execution": {
     "iopub.execute_input": "2023-11-10T06:02:46.766355Z",
     "iopub.status.busy": "2023-11-10T06:02:46.765900Z",
     "iopub.status.idle": "2023-11-10T06:02:46.785219Z",
     "shell.execute_reply": "2023-11-10T06:02:46.784301Z"
    },
    "papermill": {
     "duration": 0.054061,
     "end_time": "2023-11-10T06:02:46.787439",
     "exception": false,
     "start_time": "2023-11-10T06:02:46.733378",
     "status": "completed"
    },
    "tags": []
   },
   "outputs": [
    {
     "data": {
      "text/plain": [
       "Size_in_Mb          1525\n",
       "Rating              1460\n",
       "App                    0\n",
       "Category               0\n",
       "Reviews                0\n",
       "Installs               0\n",
       "Type                   0\n",
       "Price                  0\n",
       "Content Rating         0\n",
       "Genres                 0\n",
       "Last Updated           0\n",
       "Current Ver            0\n",
       "Android Ver            0\n",
       "Install_category       0\n",
       "dtype: int64"
      ]
     },
     "execution_count": 40,
     "metadata": {},
     "output_type": "execute_result"
    }
   ],
   "source": [
    "df.isnull().sum().sort_values(ascending=False)"
   ]
  },
  {
   "cell_type": "code",
   "execution_count": 41,
   "id": "027fe482",
   "metadata": {
    "execution": {
     "iopub.execute_input": "2023-11-10T06:02:46.852229Z",
     "iopub.status.busy": "2023-11-10T06:02:46.851395Z",
     "iopub.status.idle": "2023-11-10T06:02:46.861449Z",
     "shell.execute_reply": "2023-11-10T06:02:46.860381Z"
    },
    "papermill": {
     "duration": 0.044822,
     "end_time": "2023-11-10T06:02:46.863684",
     "exception": false,
     "start_time": "2023-11-10T06:02:46.818862",
     "status": "completed"
    },
    "tags": []
   },
   "outputs": [
    {
     "data": {
      "text/plain": [
       "Install_category\n",
       "Minimal               874\n",
       "Extremely Low         452\n",
       "Medium                 86\n",
       "Above Medium           31\n",
       "None                   14\n",
       "Significant             3\n",
       "Exceptionally High      0\n",
       "Outstanding             0\n",
       "Name: count, dtype: int64"
      ]
     },
     "execution_count": 41,
     "metadata": {},
     "output_type": "execute_result"
    }
   ],
   "source": [
    "# in which Install_category the Rating has NaN values\n",
    "df['Install_category'].loc[df['Rating'].isnull()].value_counts()"
   ]
  },
  {
   "cell_type": "code",
   "execution_count": 42,
   "id": "f8e98a6c",
   "metadata": {
    "execution": {
     "iopub.execute_input": "2023-11-10T06:02:46.928532Z",
     "iopub.status.busy": "2023-11-10T06:02:46.927753Z",
     "iopub.status.idle": "2023-11-10T06:02:46.971442Z",
     "shell.execute_reply": "2023-11-10T06:02:46.970342Z"
    },
    "papermill": {
     "duration": 0.078912,
     "end_time": "2023-11-10T06:02:46.974013",
     "exception": false,
     "start_time": "2023-11-10T06:02:46.895101",
     "status": "completed"
    },
    "tags": []
   },
   "outputs": [
    {
     "data": {
      "text/html": [
       "<div>\n",
       "<style scoped>\n",
       "    .dataframe tbody tr th:only-of-type {\n",
       "        vertical-align: middle;\n",
       "    }\n",
       "\n",
       "    .dataframe tbody tr th {\n",
       "        vertical-align: top;\n",
       "    }\n",
       "\n",
       "    .dataframe thead th {\n",
       "        text-align: right;\n",
       "    }\n",
       "</style>\n",
       "<table border=\"1\" class=\"dataframe\">\n",
       "  <thead>\n",
       "    <tr style=\"text-align: right;\">\n",
       "      <th></th>\n",
       "      <th>count</th>\n",
       "      <th>mean</th>\n",
       "      <th>std</th>\n",
       "      <th>min</th>\n",
       "      <th>25%</th>\n",
       "      <th>50%</th>\n",
       "      <th>75%</th>\n",
       "      <th>max</th>\n",
       "    </tr>\n",
       "    <tr>\n",
       "      <th>Install_category</th>\n",
       "      <th></th>\n",
       "      <th></th>\n",
       "      <th></th>\n",
       "      <th></th>\n",
       "      <th></th>\n",
       "      <th></th>\n",
       "      <th></th>\n",
       "      <th></th>\n",
       "    </tr>\n",
       "  </thead>\n",
       "  <tbody>\n",
       "    <tr>\n",
       "      <th>None</th>\n",
       "      <td>0.0</td>\n",
       "      <td>NaN</td>\n",
       "      <td>NaN</td>\n",
       "      <td>NaN</td>\n",
       "      <td>NaN</td>\n",
       "      <td>NaN</td>\n",
       "      <td>NaN</td>\n",
       "      <td>NaN</td>\n",
       "    </tr>\n",
       "    <tr>\n",
       "      <th>Extremely Low</th>\n",
       "      <td>81.0</td>\n",
       "      <td>4.637037</td>\n",
       "      <td>0.845199</td>\n",
       "      <td>1.0</td>\n",
       "      <td>4.8</td>\n",
       "      <td>5.0</td>\n",
       "      <td>5.0</td>\n",
       "      <td>5.0</td>\n",
       "    </tr>\n",
       "    <tr>\n",
       "      <th>Minimal</th>\n",
       "      <td>1255.0</td>\n",
       "      <td>4.170040</td>\n",
       "      <td>0.829420</td>\n",
       "      <td>1.0</td>\n",
       "      <td>3.8</td>\n",
       "      <td>4.4</td>\n",
       "      <td>4.8</td>\n",
       "      <td>5.0</td>\n",
       "    </tr>\n",
       "    <tr>\n",
       "      <th>Medium</th>\n",
       "      <td>1413.0</td>\n",
       "      <td>4.031352</td>\n",
       "      <td>0.605581</td>\n",
       "      <td>1.4</td>\n",
       "      <td>3.8</td>\n",
       "      <td>4.2</td>\n",
       "      <td>4.5</td>\n",
       "      <td>5.0</td>\n",
       "    </tr>\n",
       "    <tr>\n",
       "      <th>Above Medium</th>\n",
       "      <td>1571.0</td>\n",
       "      <td>4.094653</td>\n",
       "      <td>0.504221</td>\n",
       "      <td>1.6</td>\n",
       "      <td>3.9</td>\n",
       "      <td>4.2</td>\n",
       "      <td>4.5</td>\n",
       "      <td>4.9</td>\n",
       "    </tr>\n",
       "    <tr>\n",
       "      <th>Significant</th>\n",
       "      <td>2000.0</td>\n",
       "      <td>4.207100</td>\n",
       "      <td>0.378591</td>\n",
       "      <td>1.8</td>\n",
       "      <td>4.0</td>\n",
       "      <td>4.3</td>\n",
       "      <td>4.5</td>\n",
       "      <td>4.9</td>\n",
       "    </tr>\n",
       "    <tr>\n",
       "      <th>Exceptionally High</th>\n",
       "      <td>1815.0</td>\n",
       "      <td>4.285675</td>\n",
       "      <td>0.301071</td>\n",
       "      <td>2.0</td>\n",
       "      <td>4.1</td>\n",
       "      <td>4.3</td>\n",
       "      <td>4.5</td>\n",
       "      <td>4.9</td>\n",
       "    </tr>\n",
       "    <tr>\n",
       "      <th>Outstanding</th>\n",
       "      <td>751.0</td>\n",
       "      <td>4.372170</td>\n",
       "      <td>0.195374</td>\n",
       "      <td>3.1</td>\n",
       "      <td>4.3</td>\n",
       "      <td>4.4</td>\n",
       "      <td>4.5</td>\n",
       "      <td>4.8</td>\n",
       "    </tr>\n",
       "  </tbody>\n",
       "</table>\n",
       "</div>"
      ],
      "text/plain": [
       "                     count      mean       std  min  25%  50%  75%  max\n",
       "Install_category                                                       \n",
       "None                   0.0       NaN       NaN  NaN  NaN  NaN  NaN  NaN\n",
       "Extremely Low         81.0  4.637037  0.845199  1.0  4.8  5.0  5.0  5.0\n",
       "Minimal             1255.0  4.170040  0.829420  1.0  3.8  4.4  4.8  5.0\n",
       "Medium              1413.0  4.031352  0.605581  1.4  3.8  4.2  4.5  5.0\n",
       "Above Medium        1571.0  4.094653  0.504221  1.6  3.9  4.2  4.5  4.9\n",
       "Significant         2000.0  4.207100  0.378591  1.8  4.0  4.3  4.5  4.9\n",
       "Exceptionally High  1815.0  4.285675  0.301071  2.0  4.1  4.3  4.5  4.9\n",
       "Outstanding          751.0  4.372170  0.195374  3.1  4.3  4.4  4.5  4.8"
      ]
     },
     "execution_count": 42,
     "metadata": {},
     "output_type": "execute_result"
    }
   ],
   "source": [
    "# use groupby function to find the trend of rating in each install_category\n",
    "df.groupby('Install_category')['Rating'].describe()"
   ]
  },
  {
   "cell_type": "markdown",
   "id": "afa5dfc4",
   "metadata": {
    "papermill": {
     "duration": 0.031463,
     "end_time": "2023-11-10T06:02:47.037145",
     "exception": false,
     "start_time": "2023-11-10T06:02:47.005682",
     "status": "completed"
    },
    "tags": []
   },
   "source": [
    "<div style=\"border-radius:10px; padding: 15px; background-color: #f2f7f6; font-size:100%; text-align:left;width:800px\">\n",
    "\n",
    "<h3 align=\"left\"><font color=#501ee6>Observation:</font></h3>\n",
    "    <a><span></span><span style='color:#01181c; font-size:15px'> <ul>\n",
    "        <li>The tabulated representation above, juxtaposing 'Install_category' against the 'Rating' column, reveals the presence of missing values within our defined categories in the 'Install_category' column. Remarkably, the 'Install_category' column itself initially does not exhibit any null values. However, upon amalgamation with the 'Rating' column, the emergence of numerous null values becomes evident within our newly created categories.\n",
    "\n",
    "To address this, we can effectively eliminate these null values by replacing them with the mean rating values corresponding to each distinct 'Install_category.' This corrective step is now poised for implementation.</li>"
   ]
  },
  {
   "cell_type": "code",
   "execution_count": 43,
   "id": "7bfa69db",
   "metadata": {
    "execution": {
     "iopub.execute_input": "2023-11-10T06:02:47.102471Z",
     "iopub.status.busy": "2023-11-10T06:02:47.102078Z",
     "iopub.status.idle": "2023-11-10T06:02:47.113155Z",
     "shell.execute_reply": "2023-11-10T06:02:47.112077Z"
    },
    "papermill": {
     "duration": 0.046546,
     "end_time": "2023-11-10T06:02:47.115696",
     "exception": false,
     "start_time": "2023-11-10T06:02:47.069150",
     "status": "completed"
    },
    "tags": []
   },
   "outputs": [],
   "source": [
    "Install_cat_mean = df.groupby('Install_category')['Rating'].transform('mean')\n",
    "\n",
    "# Replace missing values with category mean values\n",
    "df['Rating'].fillna(Install_cat_mean, inplace=True)"
   ]
  },
  {
   "cell_type": "code",
   "execution_count": 44,
   "id": "3378d156",
   "metadata": {
    "execution": {
     "iopub.execute_input": "2023-11-10T06:02:47.181576Z",
     "iopub.status.busy": "2023-11-10T06:02:47.181162Z",
     "iopub.status.idle": "2023-11-10T06:02:47.187050Z",
     "shell.execute_reply": "2023-11-10T06:02:47.185772Z"
    },
    "papermill": {
     "duration": 0.041446,
     "end_time": "2023-11-10T06:02:47.189383",
     "exception": false,
     "start_time": "2023-11-10T06:02:47.147937",
     "status": "completed"
    },
    "tags": []
   },
   "outputs": [],
   "source": [
    "# Replace NaN values in 'Install_Category' column with 'no' with 0\n",
    "df['Rating'].fillna(0, inplace=True)"
   ]
  },
  {
   "cell_type": "code",
   "execution_count": 45,
   "id": "5e9f0c02",
   "metadata": {
    "execution": {
     "iopub.execute_input": "2023-11-10T06:02:47.254843Z",
     "iopub.status.busy": "2023-11-10T06:02:47.254434Z",
     "iopub.status.idle": "2023-11-10T06:02:47.295060Z",
     "shell.execute_reply": "2023-11-10T06:02:47.294204Z"
    },
    "papermill": {
     "duration": 0.076398,
     "end_time": "2023-11-10T06:02:47.297491",
     "exception": false,
     "start_time": "2023-11-10T06:02:47.221093",
     "status": "completed"
    },
    "tags": []
   },
   "outputs": [
    {
     "data": {
      "text/html": [
       "<div>\n",
       "<style scoped>\n",
       "    .dataframe tbody tr th:only-of-type {\n",
       "        vertical-align: middle;\n",
       "    }\n",
       "\n",
       "    .dataframe tbody tr th {\n",
       "        vertical-align: top;\n",
       "    }\n",
       "\n",
       "    .dataframe thead th {\n",
       "        text-align: right;\n",
       "    }\n",
       "</style>\n",
       "<table border=\"1\" class=\"dataframe\">\n",
       "  <thead>\n",
       "    <tr style=\"text-align: right;\">\n",
       "      <th></th>\n",
       "      <th>count</th>\n",
       "      <th>mean</th>\n",
       "      <th>std</th>\n",
       "      <th>min</th>\n",
       "      <th>25%</th>\n",
       "      <th>50%</th>\n",
       "      <th>75%</th>\n",
       "      <th>max</th>\n",
       "    </tr>\n",
       "    <tr>\n",
       "      <th>Install_category</th>\n",
       "      <th></th>\n",
       "      <th></th>\n",
       "      <th></th>\n",
       "      <th></th>\n",
       "      <th></th>\n",
       "      <th></th>\n",
       "      <th></th>\n",
       "      <th></th>\n",
       "    </tr>\n",
       "  </thead>\n",
       "  <tbody>\n",
       "    <tr>\n",
       "      <th>None</th>\n",
       "      <td>14.0</td>\n",
       "      <td>0.000000</td>\n",
       "      <td>0.000000</td>\n",
       "      <td>0.0</td>\n",
       "      <td>0.000000</td>\n",
       "      <td>0.000000</td>\n",
       "      <td>0.000000</td>\n",
       "      <td>0.0</td>\n",
       "    </tr>\n",
       "    <tr>\n",
       "      <th>Extremely Low</th>\n",
       "      <td>533.0</td>\n",
       "      <td>4.637037</td>\n",
       "      <td>0.327754</td>\n",
       "      <td>1.0</td>\n",
       "      <td>4.637037</td>\n",
       "      <td>4.637037</td>\n",
       "      <td>4.637037</td>\n",
       "      <td>5.0</td>\n",
       "    </tr>\n",
       "    <tr>\n",
       "      <th>Minimal</th>\n",
       "      <td>2129.0</td>\n",
       "      <td>4.170040</td>\n",
       "      <td>0.636704</td>\n",
       "      <td>1.0</td>\n",
       "      <td>4.170040</td>\n",
       "      <td>4.170040</td>\n",
       "      <td>4.500000</td>\n",
       "      <td>5.0</td>\n",
       "    </tr>\n",
       "    <tr>\n",
       "      <th>Medium</th>\n",
       "      <td>1499.0</td>\n",
       "      <td>4.031352</td>\n",
       "      <td>0.587941</td>\n",
       "      <td>1.4</td>\n",
       "      <td>3.800000</td>\n",
       "      <td>4.100000</td>\n",
       "      <td>4.400000</td>\n",
       "      <td>5.0</td>\n",
       "    </tr>\n",
       "    <tr>\n",
       "      <th>Above Medium</th>\n",
       "      <td>1602.0</td>\n",
       "      <td>4.094653</td>\n",
       "      <td>0.499316</td>\n",
       "      <td>1.6</td>\n",
       "      <td>3.900000</td>\n",
       "      <td>4.200000</td>\n",
       "      <td>4.400000</td>\n",
       "      <td>4.9</td>\n",
       "    </tr>\n",
       "    <tr>\n",
       "      <th>Significant</th>\n",
       "      <td>2003.0</td>\n",
       "      <td>4.207100</td>\n",
       "      <td>0.378307</td>\n",
       "      <td>1.8</td>\n",
       "      <td>4.000000</td>\n",
       "      <td>4.300000</td>\n",
       "      <td>4.500000</td>\n",
       "      <td>4.9</td>\n",
       "    </tr>\n",
       "    <tr>\n",
       "      <th>Exceptionally High</th>\n",
       "      <td>1815.0</td>\n",
       "      <td>4.285675</td>\n",
       "      <td>0.301071</td>\n",
       "      <td>2.0</td>\n",
       "      <td>4.100000</td>\n",
       "      <td>4.300000</td>\n",
       "      <td>4.500000</td>\n",
       "      <td>4.9</td>\n",
       "    </tr>\n",
       "    <tr>\n",
       "      <th>Outstanding</th>\n",
       "      <td>751.0</td>\n",
       "      <td>4.372170</td>\n",
       "      <td>0.195374</td>\n",
       "      <td>3.1</td>\n",
       "      <td>4.300000</td>\n",
       "      <td>4.400000</td>\n",
       "      <td>4.500000</td>\n",
       "      <td>4.8</td>\n",
       "    </tr>\n",
       "  </tbody>\n",
       "</table>\n",
       "</div>"
      ],
      "text/plain": [
       "                     count      mean       std  min       25%       50%  \\\n",
       "Install_category                                                          \n",
       "None                  14.0  0.000000  0.000000  0.0  0.000000  0.000000   \n",
       "Extremely Low        533.0  4.637037  0.327754  1.0  4.637037  4.637037   \n",
       "Minimal             2129.0  4.170040  0.636704  1.0  4.170040  4.170040   \n",
       "Medium              1499.0  4.031352  0.587941  1.4  3.800000  4.100000   \n",
       "Above Medium        1602.0  4.094653  0.499316  1.6  3.900000  4.200000   \n",
       "Significant         2003.0  4.207100  0.378307  1.8  4.000000  4.300000   \n",
       "Exceptionally High  1815.0  4.285675  0.301071  2.0  4.100000  4.300000   \n",
       "Outstanding          751.0  4.372170  0.195374  3.1  4.300000  4.400000   \n",
       "\n",
       "                         75%  max  \n",
       "Install_category                   \n",
       "None                0.000000  0.0  \n",
       "Extremely Low       4.637037  5.0  \n",
       "Minimal             4.500000  5.0  \n",
       "Medium              4.400000  5.0  \n",
       "Above Medium        4.400000  4.9  \n",
       "Significant         4.500000  4.9  \n",
       "Exceptionally High  4.500000  4.9  \n",
       "Outstanding         4.500000  4.8  "
      ]
     },
     "execution_count": 45,
     "metadata": {},
     "output_type": "execute_result"
    }
   ],
   "source": [
    "# use groupby function to find the trend of rating in each install_category\n",
    "df.groupby('Install_category')['Rating'].describe()"
   ]
  },
  {
   "cell_type": "code",
   "execution_count": 46,
   "id": "d3fa08d0",
   "metadata": {
    "execution": {
     "iopub.execute_input": "2023-11-10T06:02:47.364870Z",
     "iopub.status.busy": "2023-11-10T06:02:47.364443Z",
     "iopub.status.idle": "2023-11-10T06:02:47.374342Z",
     "shell.execute_reply": "2023-11-10T06:02:47.373257Z"
    },
    "papermill": {
     "duration": 0.046341,
     "end_time": "2023-11-10T06:02:47.376694",
     "exception": false,
     "start_time": "2023-11-10T06:02:47.330353",
     "status": "completed"
    },
    "tags": []
   },
   "outputs": [
    {
     "data": {
      "text/plain": [
       "Install_category\n",
       "None                  0\n",
       "Extremely Low         0\n",
       "Minimal               0\n",
       "Medium                0\n",
       "Above Medium          0\n",
       "Significant           0\n",
       "Exceptionally High    0\n",
       "Outstanding           0\n",
       "Name: count, dtype: int64"
      ]
     },
     "execution_count": 46,
     "metadata": {},
     "output_type": "execute_result"
    }
   ],
   "source": [
    "# Check again to see whether missing impute with mean or not?\n",
    "df['Install_category'].loc[df['Rating'].isnull()].value_counts()"
   ]
  },
  {
   "cell_type": "code",
   "execution_count": 47,
   "id": "f831de30",
   "metadata": {
    "execution": {
     "iopub.execute_input": "2023-11-10T06:02:47.443672Z",
     "iopub.status.busy": "2023-11-10T06:02:47.443233Z",
     "iopub.status.idle": "2023-11-10T06:02:47.461511Z",
     "shell.execute_reply": "2023-11-10T06:02:47.460641Z"
    },
    "papermill": {
     "duration": 0.054829,
     "end_time": "2023-11-10T06:02:47.463723",
     "exception": false,
     "start_time": "2023-11-10T06:02:47.408894",
     "status": "completed"
    },
    "tags": []
   },
   "outputs": [
    {
     "data": {
      "text/plain": [
       "Size_in_Mb          1525\n",
       "App                    0\n",
       "Category               0\n",
       "Rating                 0\n",
       "Reviews                0\n",
       "Installs               0\n",
       "Type                   0\n",
       "Price                  0\n",
       "Content Rating         0\n",
       "Genres                 0\n",
       "Last Updated           0\n",
       "Current Ver            0\n",
       "Android Ver            0\n",
       "Install_category       0\n",
       "dtype: int64"
      ]
     },
     "execution_count": 47,
     "metadata": {},
     "output_type": "execute_result"
    }
   ],
   "source": [
    "df.isnull().sum().sort_values(ascending=False)"
   ]
  },
  {
   "cell_type": "markdown",
   "id": "8c2dd4ef",
   "metadata": {
    "papermill": {
     "duration": 0.031988,
     "end_time": "2023-11-10T06:02:47.527947",
     "exception": false,
     "start_time": "2023-11-10T06:02:47.495959",
     "status": "completed"
    },
    "tags": []
   },
   "source": [
    "<div style=\"border-radius:10px; padding: 15px; background-color: #f2f7f6; font-size:100%; text-align:left;width:800px\">\n",
    "\n",
    "<h3 align=\"left\"><font color=#501ee6>Observation:</font></h3>\n",
    "    <a><span></span><span style='color:#01181c; font-size:15px'> <ul>\n",
    "        <li>Now all the missing values in each <b>Install_category</b> is impute with the mean of the Rating.And Rating column is also filled with the mean of each Install_category column. Now still we have a size_in_Mb column which we can't impute with anything because every app has its specific size. So we can keep as it is.</li>"
   ]
  },
  {
   "cell_type": "markdown",
   "id": "b326cee5",
   "metadata": {
    "papermill": {
     "duration": 0.032084,
     "end_time": "2023-11-10T06:02:47.592288",
     "exception": false,
     "start_time": "2023-11-10T06:02:47.560204",
     "status": "completed"
    },
    "tags": []
   },
   "source": [
    "<a id=\"load_dataset\"></a>\n",
    "# <b><span style='color:#cc0a27'>Step: 3 |</span><span style='color:#0aaccc'> Data Visualization</span></b>\n",
    "<a><span></span><span style='color:#01181c; font-size:20px'> <ul>\n",
    "        <li>Let's create some questions and then try to answer them with the help of visualization</li>"
   ]
  },
  {
   "cell_type": "markdown",
   "id": "2fc8b76a",
   "metadata": {
    "papermill": {
     "duration": 0.032631,
     "end_time": "2023-11-10T06:02:47.656955",
     "exception": false,
     "start_time": "2023-11-10T06:02:47.624324",
     "status": "completed"
    },
    "tags": []
   },
   "source": [
    "<div style=\"border-radius:10px; padding: 15px; background-color: #f2f7f6; font-size:100%; text-align:left;width:800px\">\n",
    "\n",
    "<h4 align=\"left\"><font color=#501ee6>Questions:</font></h4>\n",
    "    <li><b>Question -1:</b> What is the rating of each category by Install?</li>\n",
    "    <li><b>Question -2:</b> Show top-10 categories which has the highest number of apps</li>\n",
    "    <li><b>Question -3:</b> Show top-10 categories which has the highest number of Installs</li>\n",
    "    <li><b>Question -4:</b> Show top-10 categories which has the highest number of Reviews</li>\n",
    "    <li><b>Question -5:</b> Show top-10 categories which has the highest number of Rating</li>\n",
    "    <li><b>Question -6:</b> Show top-10 categories which has the big size In MB</li>\n",
    "    <li><b>Question -7:</b> Show top-10 categories which has the higher price</li>\n",
    "<h4 align=\"left\"><font color=#501ee6>Questions by Content Rating:</font></h4>\n",
    "    <li><b>Question -8:</b> What is the rating of each category by Install?</li>\n",
    "    <li><b>Question -9:</b> What is the rating of each category by Install?</li>\n",
    "    <li><b>Question -10:</b> What is the rating of each category by Install?</li>\n",
    "    <li><b>Question -11:</b> What is the rating of each category by Install?</li>\n",
    "    <li><b>Question -12:</b> What is the rating of each category by Install?</li>\n",
    "    <li><b>Question -13:</b> What is the rating of each category by Install?</li>\n",
    "    <li><b>Question -14:</b> What is the rating of each category by Install?</li>\n",
    "    <li><b>Question -15:</b> What is the rating of each category by Install?</li>\n",
    "    <li><b>Question -16:</b> What is the rating of each category by Install?</li>\n",
    "  "
   ]
  },
  {
   "cell_type": "code",
   "execution_count": 48,
   "id": "de19b1ad",
   "metadata": {
    "execution": {
     "iopub.execute_input": "2023-11-10T06:02:47.724503Z",
     "iopub.status.busy": "2023-11-10T06:02:47.723758Z",
     "iopub.status.idle": "2023-11-10T06:02:47.923292Z",
     "shell.execute_reply": "2023-11-10T06:02:47.922486Z"
    },
    "papermill": {
     "duration": 0.241482,
     "end_time": "2023-11-10T06:02:47.931043",
     "exception": false,
     "start_time": "2023-11-10T06:02:47.689561",
     "status": "completed"
    },
    "tags": []
   },
   "outputs": [
    {
     "data": {
      "text/html": [
       "<div>                            <div id=\"490a5002-dbd0-460f-9088-dbe15dae6211\" class=\"plotly-graph-div\" style=\"height:450px; width:650px;\"></div>            <script type=\"text/javascript\">                require([\"plotly\"], function(Plotly) {                    window.PLOTLYENV=window.PLOTLYENV || {};                                    if (document.getElementById(\"490a5002-dbd0-460f-9088-dbe15dae6211\")) {                    Plotly.newPlot(                        \"490a5002-dbd0-460f-9088-dbe15dae6211\",                        [{\"alignmentgroup\":\"True\",\"hovertemplate\":\"Install_category=%{x}\\u003cbr\\u003ey=%{y}\\u003cextra\\u003e\\u003c\\u002fextra\\u003e\",\"legendgroup\":\"Extremely Low\",\"marker\":{\"color\":\"#EF553B\"},\"name\":\"Extremely Low\",\"notched\":false,\"offsetgroup\":\"Extremely Low\",\"orientation\":\"v\",\"showlegend\":true,\"x\":[\"Extremely Low\",\"Extremely Low\",\"Extremely Low\",\"Extremely Low\",\"Extremely Low\",\"Extremely Low\",\"Extremely Low\",\"Extremely Low\",\"Extremely Low\",\"Extremely Low\",\"Extremely Low\",\"Extremely Low\",\"Extremely Low\",\"Extremely Low\",\"Extremely Low\",\"Extremely Low\",\"Extremely Low\",\"Extremely Low\",\"Extremely Low\",\"Extremely Low\",\"Extremely Low\",\"Extremely Low\",\"Extremely Low\",\"Extremely Low\",\"Extremely Low\",\"Extremely Low\",\"Extremely Low\",\"Extremely Low\",\"Extremely Low\",\"Extremely Low\",\"Extremely Low\",\"Extremely Low\",\"Extremely Low\",\"Extremely Low\",\"Extremely Low\",\"Extremely Low\",\"Extremely Low\",\"Extremely Low\",\"Extremely Low\",\"Extremely Low\",\"Extremely Low\",\"Extremely Low\",\"Extremely Low\",\"Extremely Low\",\"Extremely Low\",\"Extremely Low\",\"Extremely Low\",\"Extremely Low\",\"Extremely Low\",\"Extremely Low\",\"Extremely Low\",\"Extremely Low\",\"Extremely Low\",\"Extremely Low\",\"Extremely Low\",\"Extremely Low\",\"Extremely Low\",\"Extremely Low\",\"Extremely Low\",\"Extremely Low\",\"Extremely Low\",\"Extremely Low\",\"Extremely Low\",\"Extremely Low\",\"Extremely Low\",\"Extremely Low\",\"Extremely Low\",\"Extremely Low\",\"Extremely Low\",\"Extremely Low\",\"Extremely Low\",\"Extremely Low\",\"Extremely Low\",\"Extremely Low\",\"Extremely Low\",\"Extremely Low\",\"Extremely Low\",\"Extremely Low\",\"Extremely Low\",\"Extremely Low\",\"Extremely Low\",\"Extremely Low\",\"Extremely Low\",\"Extremely Low\",\"Extremely Low\",\"Extremely Low\",\"Extremely Low\",\"Extremely Low\",\"Extremely Low\",\"Extremely Low\",\"Extremely Low\",\"Extremely Low\",\"Extremely Low\",\"Extremely Low\",\"Extremely Low\",\"Extremely Low\",\"Extremely Low\",\"Extremely Low\",\"Extremely Low\",\"Extremely Low\",\"Extremely Low\",\"Extremely Low\",\"Extremely Low\",\"Extremely Low\",\"Extremely Low\",\"Extremely Low\",\"Extremely Low\",\"Extremely Low\",\"Extremely Low\",\"Extremely Low\",\"Extremely Low\",\"Extremely Low\",\"Extremely Low\",\"Extremely Low\",\"Extremely Low\",\"Extremely Low\",\"Extremely Low\",\"Extremely Low\",\"Extremely Low\",\"Extremely Low\",\"Extremely Low\",\"Extremely Low\",\"Extremely Low\",\"Extremely Low\",\"Extremely Low\",\"Extremely Low\",\"Extremely Low\",\"Extremely Low\",\"Extremely Low\",\"Extremely Low\",\"Extremely Low\",\"Extremely Low\",\"Extremely Low\",\"Extremely Low\",\"Extremely Low\",\"Extremely Low\",\"Extremely Low\",\"Extremely Low\",\"Extremely Low\",\"Extremely Low\",\"Extremely Low\",\"Extremely Low\",\"Extremely Low\",\"Extremely Low\",\"Extremely Low\",\"Extremely Low\",\"Extremely Low\",\"Extremely Low\",\"Extremely Low\",\"Extremely Low\",\"Extremely Low\",\"Extremely Low\",\"Extremely Low\",\"Extremely Low\",\"Extremely Low\",\"Extremely Low\",\"Extremely Low\",\"Extremely Low\",\"Extremely Low\",\"Extremely Low\",\"Extremely Low\",\"Extremely Low\",\"Extremely Low\",\"Extremely Low\",\"Extremely Low\",\"Extremely Low\",\"Extremely Low\",\"Extremely Low\",\"Extremely Low\",\"Extremely Low\",\"Extremely Low\",\"Extremely Low\",\"Extremely Low\",\"Extremely Low\",\"Extremely Low\",\"Extremely Low\",\"Extremely Low\",\"Extremely Low\",\"Extremely Low\",\"Extremely Low\",\"Extremely Low\",\"Extremely Low\",\"Extremely Low\",\"Extremely Low\",\"Extremely Low\",\"Extremely Low\",\"Extremely Low\",\"Extremely Low\",\"Extremely Low\",\"Extremely Low\",\"Extremely Low\",\"Extremely Low\",\"Extremely Low\",\"Extremely Low\",\"Extremely Low\",\"Extremely Low\",\"Extremely Low\",\"Extremely Low\",\"Extremely Low\",\"Extremely Low\",\"Extremely Low\",\"Extremely Low\",\"Extremely Low\",\"Extremely Low\",\"Extremely Low\",\"Extremely Low\",\"Extremely Low\",\"Extremely Low\",\"Extremely Low\",\"Extremely Low\",\"Extremely Low\",\"Extremely Low\",\"Extremely Low\",\"Extremely Low\",\"Extremely Low\",\"Extremely Low\",\"Extremely Low\",\"Extremely Low\",\"Extremely Low\",\"Extremely Low\",\"Extremely Low\",\"Extremely Low\",\"Extremely Low\",\"Extremely Low\",\"Extremely Low\",\"Extremely Low\",\"Extremely Low\",\"Extremely Low\",\"Extremely Low\",\"Extremely Low\",\"Extremely Low\",\"Extremely Low\",\"Extremely Low\",\"Extremely Low\",\"Extremely Low\",\"Extremely Low\",\"Extremely Low\",\"Extremely Low\",\"Extremely Low\",\"Extremely Low\",\"Extremely Low\",\"Extremely Low\",\"Extremely Low\",\"Extremely Low\",\"Extremely Low\",\"Extremely Low\",\"Extremely Low\",\"Extremely Low\",\"Extremely Low\",\"Extremely Low\",\"Extremely Low\",\"Extremely Low\",\"Extremely Low\",\"Extremely Low\",\"Extremely Low\",\"Extremely Low\",\"Extremely Low\",\"Extremely Low\",\"Extremely Low\",\"Extremely Low\",\"Extremely Low\",\"Extremely Low\",\"Extremely Low\",\"Extremely Low\",\"Extremely Low\",\"Extremely Low\",\"Extremely Low\",\"Extremely Low\",\"Extremely Low\",\"Extremely Low\",\"Extremely Low\",\"Extremely Low\",\"Extremely Low\",\"Extremely Low\",\"Extremely Low\",\"Extremely Low\",\"Extremely Low\",\"Extremely Low\",\"Extremely Low\",\"Extremely Low\",\"Extremely Low\",\"Extremely Low\",\"Extremely Low\",\"Extremely Low\",\"Extremely Low\",\"Extremely Low\",\"Extremely Low\",\"Extremely Low\",\"Extremely Low\",\"Extremely Low\",\"Extremely Low\",\"Extremely Low\",\"Extremely Low\",\"Extremely Low\",\"Extremely Low\",\"Extremely Low\",\"Extremely Low\",\"Extremely Low\",\"Extremely Low\",\"Extremely Low\",\"Extremely Low\",\"Extremely Low\",\"Extremely Low\",\"Extremely Low\",\"Extremely Low\",\"Extremely Low\",\"Extremely Low\",\"Extremely Low\",\"Extremely Low\",\"Extremely Low\",\"Extremely Low\",\"Extremely Low\",\"Extremely Low\",\"Extremely Low\",\"Extremely Low\",\"Extremely Low\",\"Extremely Low\",\"Extremely Low\",\"Extremely Low\",\"Extremely Low\",\"Extremely Low\",\"Extremely Low\",\"Extremely Low\",\"Extremely Low\",\"Extremely Low\",\"Extremely Low\",\"Extremely Low\",\"Extremely Low\",\"Extremely Low\",\"Extremely Low\",\"Extremely Low\",\"Extremely Low\",\"Extremely Low\",\"Extremely Low\",\"Extremely Low\",\"Extremely Low\",\"Extremely Low\",\"Extremely Low\",\"Extremely Low\",\"Extremely Low\",\"Extremely Low\",\"Extremely Low\",\"Extremely Low\",\"Extremely Low\",\"Extremely Low\",\"Extremely Low\",\"Extremely Low\",\"Extremely Low\",\"Extremely Low\",\"Extremely Low\",\"Extremely Low\",\"Extremely Low\",\"Extremely Low\",\"Extremely Low\",\"Extremely Low\",\"Extremely Low\",\"Extremely Low\",\"Extremely Low\",\"Extremely Low\",\"Extremely Low\",\"Extremely Low\",\"Extremely Low\",\"Extremely Low\",\"Extremely Low\",\"Extremely Low\",\"Extremely Low\",\"Extremely Low\",\"Extremely Low\",\"Extremely Low\",\"Extremely Low\",\"Extremely Low\",\"Extremely Low\",\"Extremely Low\",\"Extremely Low\",\"Extremely Low\",\"Extremely Low\",\"Extremely Low\",\"Extremely Low\",\"Extremely Low\",\"Extremely Low\",\"Extremely Low\",\"Extremely Low\",\"Extremely Low\",\"Extremely Low\",\"Extremely Low\",\"Extremely Low\",\"Extremely Low\",\"Extremely Low\",\"Extremely Low\",\"Extremely Low\",\"Extremely Low\",\"Extremely Low\",\"Extremely Low\",\"Extremely Low\",\"Extremely Low\",\"Extremely Low\",\"Extremely Low\",\"Extremely Low\",\"Extremely Low\",\"Extremely Low\",\"Extremely Low\",\"Extremely Low\",\"Extremely Low\",\"Extremely Low\",\"Extremely Low\",\"Extremely Low\",\"Extremely Low\",\"Extremely Low\",\"Extremely Low\",\"Extremely Low\",\"Extremely Low\",\"Extremely Low\",\"Extremely Low\",\"Extremely Low\",\"Extremely Low\",\"Extremely Low\",\"Extremely Low\",\"Extremely Low\",\"Extremely Low\",\"Extremely Low\",\"Extremely Low\",\"Extremely Low\",\"Extremely Low\",\"Extremely Low\",\"Extremely Low\",\"Extremely Low\",\"Extremely Low\",\"Extremely Low\",\"Extremely Low\",\"Extremely Low\",\"Extremely Low\",\"Extremely Low\",\"Extremely Low\",\"Extremely Low\",\"Extremely Low\",\"Extremely Low\",\"Extremely Low\",\"Extremely Low\",\"Extremely Low\",\"Extremely Low\",\"Extremely Low\",\"Extremely Low\",\"Extremely Low\",\"Extremely Low\",\"Extremely Low\",\"Extremely Low\",\"Extremely Low\",\"Extremely Low\",\"Extremely Low\",\"Extremely Low\",\"Extremely Low\",\"Extremely Low\",\"Extremely Low\",\"Extremely Low\",\"Extremely Low\",\"Extremely Low\",\"Extremely Low\",\"Extremely Low\",\"Extremely Low\",\"Extremely Low\",\"Extremely Low\",\"Extremely Low\",\"Extremely Low\",\"Extremely Low\",\"Extremely Low\",\"Extremely Low\",\"Extremely Low\",\"Extremely Low\",\"Extremely Low\",\"Extremely Low\",\"Extremely Low\",\"Extremely Low\",\"Extremely Low\",\"Extremely Low\",\"Extremely Low\",\"Extremely Low\",\"Extremely Low\",\"Extremely Low\",\"Extremely Low\",\"Extremely Low\",\"Extremely Low\",\"Extremely Low\",\"Extremely Low\",\"Extremely Low\",\"Extremely Low\",\"Extremely Low\",\"Extremely Low\",\"Extremely Low\",\"Extremely Low\",\"Extremely Low\",\"Extremely Low\",\"Extremely Low\",\"Extremely Low\",\"Extremely Low\",\"Extremely Low\",\"Extremely Low\",\"Extremely Low\",\"Extremely Low\",\"Extremely Low\",\"Extremely Low\",\"Extremely Low\",\"Extremely Low\",\"Extremely Low\",\"Extremely Low\",\"Extremely Low\",\"Extremely Low\",\"Extremely Low\",\"Extremely Low\",\"Extremely Low\",\"Extremely Low\",\"Extremely Low\",\"Extremely Low\",\"Extremely Low\",\"Extremely Low\",\"Extremely Low\",\"Extremely Low\",\"Extremely Low\",\"Extremely Low\",\"Extremely Low\",\"Extremely Low\",\"Extremely Low\",\"Extremely Low\",\"Extremely Low\",\"Extremely Low\",\"Extremely Low\",\"Extremely Low\",\"Extremely Low\",\"Extremely Low\",\"Extremely Low\",\"Extremely Low\",\"Extremely Low\",\"Extremely Low\",\"Extremely Low\"],\"x0\":\" \",\"xaxis\":\"x\",\"y\":[0.0,null,null,null,0.3010299956639812,null,null,null,0.0,null,null,null,null,null,null,null,null,null,null,null,null,0.0,null,0.6020599913279624,null,null,0.6020599913279624,0.47712125471966244,0.3010299956639812,0.0,null,null,null,null,0.0,0.6989700043360189,null,null,null,0.0,null,0.0,0.0,null,0.0,null,0.3010299956639812,null,0.0,null,null,null,null,null,0.3010299956639812,null,0.6989700043360189,null,0.0,null,null,null,null,0.6020599913279624,null,0.0,null,0.3010299956639812,null,null,null,null,null,null,null,0.6989700043360189,null,null,null,null,null,0.9542425094393249,0.0,null,null,0.3010299956639812,null,null,null,null,0.0,null,null,null,null,0.47712125471966244,null,0.0,0.0,0.6020599913279624,null,0.0,null,0.0,null,null,null,null,0.0,null,null,0.3010299956639812,null,0.3010299956639812,null,null,null,null,null,null,null,0.0,0.9030899869919435,null,null,0.3010299956639812,null,0.0,null,0.3010299956639812,null,0.0,0.7781512503836436,null,null,0.0,null,0.0,null,0.0,1.0,0.0,0.0,null,null,null,0.3010299956639812,0.3010299956639812,null,null,null,null,0.47712125471966244,null,null,null,null,null,null,0.47712125471966244,0.47712125471966244,0.0,null,null,null,0.6020599913279624,null,null,0.47712125471966244,0.3010299956639812,null,null,null,0.3010299956639812,null,0.3010299956639812,0.0,1.041392685158225,null,null,0.3010299956639812,null,null,null,null,null,0.8450980400142568,0.0,0.47712125471966244,null,null,null,0.47712125471966244,null,0.8450980400142568,0.0,null,null,0.0,null,null,0.0,0.9030899869919435,null,0.3010299956639812,null,null,null,null,0.6020599913279624,0.0,0.0,0.3010299956639812,null,0.6020599913279624,null,null,null,null,null,0.0,0.0,0.0,0.0,0.0,0.6989700043360189,0.6989700043360189,0.0,null,null,null,null,null,null,null,null,null,null,null,null,0.3010299956639812,null,0.9030899869919435,null,null,null,null,null,0.0,null,null,null,null,null,1.041392685158225,null,null,0.0,null,null,0.9030899869919435,0.47712125471966244,0.0,0.47712125471966244,null,null,null,null,0.47712125471966244,0.6020599913279624,0.0,null,null,0.3010299956639812,0.0,0.0,null,null,0.0,0.0,null,null,0.6020599913279624,0.3010299956639812,null,null,null,null,null,0.0,0.8450980400142568,0.3010299956639812,null,null,null,0.0,null,null,null,null,null,null,null,null,null,null,0.3010299956639812,null,0.0,0.0,0.3010299956639812,null,null,null,null,0.3010299956639812,null,null,null,0.0,null,0.0,0.0,0.0,null,0.3010299956639812,0.0,null,null,null,null,null,0.47712125471966244,null,0.0,null,0.6989700043360189,null,0.0,null,null,0.3010299956639812,null,null,null,null,null,null,null,1.3010299956639813,0.0,null,0.8450980400142568,null,null,null,null,null,0.0,null,0.3010299956639812,0.0,0.0,0.0,null,null,null,null,0.0,0.0,null,null,null,null,0.8450980400142568,0.3010299956639812,null,null,0.3010299956639812,1.146128035678238,null,null,0.47712125471966244,0.0,null,null,0.0,null,null,0.3010299956639812,null,null,null,null,0.0,null,0.0,null,0.0,null,null,0.6989700043360189,null,null,null,null,0.3010299956639812,null,null,null,0.3010299956639812,null,0.0,0.0,0.3010299956639812,0.0,0.3010299956639812,null,null,null,0.0,null,0.0,null,0.0,null,null,null,null,0.9542425094393249,null,null,0.7781512503836436,0.47712125471966244,null,null,0.0,0.47712125471966244,null,null,null,0.3010299956639812,null,0.0,null,null,null,null,null,0.6989700043360189,null,0.0,null,null,null,0.0,null,null,0.0,null,null,null,null,0.3010299956639812,0.0,0.3010299956639812,0.0,null,null,null,null,0.3010299956639812,0.0,null,null,0.0,0.3010299956639812,0.3010299956639812,0.3010299956639812,null,0.0,null,null,null,0.3010299956639812,null,null,null,0.0,null,0.0,null,0.47712125471966244,null,0.0,null,null,null,0.47712125471966244,0.3010299956639812,null,null,null,null,null,null,0.0,0.0,null,null,null,null,0.0,0.0,0.0,null,0.3010299956639812,null,null,null,0.3010299956639812,null,null,0.0,null,null,0.0,null,null,0.0,0.0,null,null],\"y0\":\" \",\"yaxis\":\"y\",\"type\":\"box\"},{\"alignmentgroup\":\"True\",\"hovertemplate\":\"Install_category=%{x}\\u003cbr\\u003ey=%{y}\\u003cextra\\u003e\\u003c\\u002fextra\\u003e\",\"legendgroup\":\"Minimal\",\"marker\":{\"color\":\"#00cc96\"},\"name\":\"Minimal\",\"notched\":false,\"offsetgroup\":\"Minimal\",\"orientation\":\"v\",\"showlegend\":true,\"x\":[\"Minimal\",\"Minimal\",\"Minimal\",\"Minimal\",\"Minimal\",\"Minimal\",\"Minimal\",\"Minimal\",\"Minimal\",\"Minimal\",\"Minimal\",\"Minimal\",\"Minimal\",\"Minimal\",\"Minimal\",\"Minimal\",\"Minimal\",\"Minimal\",\"Minimal\",\"Minimal\",\"Minimal\",\"Minimal\",\"Minimal\",\"Minimal\",\"Minimal\",\"Minimal\",\"Minimal\",\"Minimal\",\"Minimal\",\"Minimal\",\"Minimal\",\"Minimal\",\"Minimal\",\"Minimal\",\"Minimal\",\"Minimal\",\"Minimal\",\"Minimal\",\"Minimal\",\"Minimal\",\"Minimal\",\"Minimal\",\"Minimal\",\"Minimal\",\"Minimal\",\"Minimal\",\"Minimal\",\"Minimal\",\"Minimal\",\"Minimal\",\"Minimal\",\"Minimal\",\"Minimal\",\"Minimal\",\"Minimal\",\"Minimal\",\"Minimal\",\"Minimal\",\"Minimal\",\"Minimal\",\"Minimal\",\"Minimal\",\"Minimal\",\"Minimal\",\"Minimal\",\"Minimal\",\"Minimal\",\"Minimal\",\"Minimal\",\"Minimal\",\"Minimal\",\"Minimal\",\"Minimal\",\"Minimal\",\"Minimal\",\"Minimal\",\"Minimal\",\"Minimal\",\"Minimal\",\"Minimal\",\"Minimal\",\"Minimal\",\"Minimal\",\"Minimal\",\"Minimal\",\"Minimal\",\"Minimal\",\"Minimal\",\"Minimal\",\"Minimal\",\"Minimal\",\"Minimal\",\"Minimal\",\"Minimal\",\"Minimal\",\"Minimal\",\"Minimal\",\"Minimal\",\"Minimal\",\"Minimal\",\"Minimal\",\"Minimal\",\"Minimal\",\"Minimal\",\"Minimal\",\"Minimal\",\"Minimal\",\"Minimal\",\"Minimal\",\"Minimal\",\"Minimal\",\"Minimal\",\"Minimal\",\"Minimal\",\"Minimal\",\"Minimal\",\"Minimal\",\"Minimal\",\"Minimal\",\"Minimal\",\"Minimal\",\"Minimal\",\"Minimal\",\"Minimal\",\"Minimal\",\"Minimal\",\"Minimal\",\"Minimal\",\"Minimal\",\"Minimal\",\"Minimal\",\"Minimal\",\"Minimal\",\"Minimal\",\"Minimal\",\"Minimal\",\"Minimal\",\"Minimal\",\"Minimal\",\"Minimal\",\"Minimal\",\"Minimal\",\"Minimal\",\"Minimal\",\"Minimal\",\"Minimal\",\"Minimal\",\"Minimal\",\"Minimal\",\"Minimal\",\"Minimal\",\"Minimal\",\"Minimal\",\"Minimal\",\"Minimal\",\"Minimal\",\"Minimal\",\"Minimal\",\"Minimal\",\"Minimal\",\"Minimal\",\"Minimal\",\"Minimal\",\"Minimal\",\"Minimal\",\"Minimal\",\"Minimal\",\"Minimal\",\"Minimal\",\"Minimal\",\"Minimal\",\"Minimal\",\"Minimal\",\"Minimal\",\"Minimal\",\"Minimal\",\"Minimal\",\"Minimal\",\"Minimal\",\"Minimal\",\"Minimal\",\"Minimal\",\"Minimal\",\"Minimal\",\"Minimal\",\"Minimal\",\"Minimal\",\"Minimal\",\"Minimal\",\"Minimal\",\"Minimal\",\"Minimal\",\"Minimal\",\"Minimal\",\"Minimal\",\"Minimal\",\"Minimal\",\"Minimal\",\"Minimal\",\"Minimal\",\"Minimal\",\"Minimal\",\"Minimal\",\"Minimal\",\"Minimal\",\"Minimal\",\"Minimal\",\"Minimal\",\"Minimal\",\"Minimal\",\"Minimal\",\"Minimal\",\"Minimal\",\"Minimal\",\"Minimal\",\"Minimal\",\"Minimal\",\"Minimal\",\"Minimal\",\"Minimal\",\"Minimal\",\"Minimal\",\"Minimal\",\"Minimal\",\"Minimal\",\"Minimal\",\"Minimal\",\"Minimal\",\"Minimal\",\"Minimal\",\"Minimal\",\"Minimal\",\"Minimal\",\"Minimal\",\"Minimal\",\"Minimal\",\"Minimal\",\"Minimal\",\"Minimal\",\"Minimal\",\"Minimal\",\"Minimal\",\"Minimal\",\"Minimal\",\"Minimal\",\"Minimal\",\"Minimal\",\"Minimal\",\"Minimal\",\"Minimal\",\"Minimal\",\"Minimal\",\"Minimal\",\"Minimal\",\"Minimal\",\"Minimal\",\"Minimal\",\"Minimal\",\"Minimal\",\"Minimal\",\"Minimal\",\"Minimal\",\"Minimal\",\"Minimal\",\"Minimal\",\"Minimal\",\"Minimal\",\"Minimal\",\"Minimal\",\"Minimal\",\"Minimal\",\"Minimal\",\"Minimal\",\"Minimal\",\"Minimal\",\"Minimal\",\"Minimal\",\"Minimal\",\"Minimal\",\"Minimal\",\"Minimal\",\"Minimal\",\"Minimal\",\"Minimal\",\"Minimal\",\"Minimal\",\"Minimal\",\"Minimal\",\"Minimal\",\"Minimal\",\"Minimal\",\"Minimal\",\"Minimal\",\"Minimal\",\"Minimal\",\"Minimal\",\"Minimal\",\"Minimal\",\"Minimal\",\"Minimal\",\"Minimal\",\"Minimal\",\"Minimal\",\"Minimal\",\"Minimal\",\"Minimal\",\"Minimal\",\"Minimal\",\"Minimal\",\"Minimal\",\"Minimal\",\"Minimal\",\"Minimal\",\"Minimal\",\"Minimal\",\"Minimal\",\"Minimal\",\"Minimal\",\"Minimal\",\"Minimal\",\"Minimal\",\"Minimal\",\"Minimal\",\"Minimal\",\"Minimal\",\"Minimal\",\"Minimal\",\"Minimal\",\"Minimal\",\"Minimal\",\"Minimal\",\"Minimal\",\"Minimal\",\"Minimal\",\"Minimal\",\"Minimal\",\"Minimal\",\"Minimal\",\"Minimal\",\"Minimal\",\"Minimal\",\"Minimal\",\"Minimal\",\"Minimal\",\"Minimal\",\"Minimal\",\"Minimal\",\"Minimal\",\"Minimal\",\"Minimal\",\"Minimal\",\"Minimal\",\"Minimal\",\"Minimal\",\"Minimal\",\"Minimal\",\"Minimal\",\"Minimal\",\"Minimal\",\"Minimal\",\"Minimal\",\"Minimal\",\"Minimal\",\"Minimal\",\"Minimal\",\"Minimal\",\"Minimal\",\"Minimal\",\"Minimal\",\"Minimal\",\"Minimal\",\"Minimal\",\"Minimal\",\"Minimal\",\"Minimal\",\"Minimal\",\"Minimal\",\"Minimal\",\"Minimal\",\"Minimal\",\"Minimal\",\"Minimal\",\"Minimal\",\"Minimal\",\"Minimal\",\"Minimal\",\"Minimal\",\"Minimal\",\"Minimal\",\"Minimal\",\"Minimal\",\"Minimal\",\"Minimal\",\"Minimal\",\"Minimal\",\"Minimal\",\"Minimal\",\"Minimal\",\"Minimal\",\"Minimal\",\"Minimal\",\"Minimal\",\"Minimal\",\"Minimal\",\"Minimal\",\"Minimal\",\"Minimal\",\"Minimal\",\"Minimal\",\"Minimal\",\"Minimal\",\"Minimal\",\"Minimal\",\"Minimal\",\"Minimal\",\"Minimal\",\"Minimal\",\"Minimal\",\"Minimal\",\"Minimal\",\"Minimal\",\"Minimal\",\"Minimal\",\"Minimal\",\"Minimal\",\"Minimal\",\"Minimal\",\"Minimal\",\"Minimal\",\"Minimal\",\"Minimal\",\"Minimal\",\"Minimal\",\"Minimal\",\"Minimal\",\"Minimal\",\"Minimal\",\"Minimal\",\"Minimal\",\"Minimal\",\"Minimal\",\"Minimal\",\"Minimal\",\"Minimal\",\"Minimal\",\"Minimal\",\"Minimal\",\"Minimal\",\"Minimal\",\"Minimal\",\"Minimal\",\"Minimal\",\"Minimal\",\"Minimal\",\"Minimal\",\"Minimal\",\"Minimal\",\"Minimal\",\"Minimal\",\"Minimal\",\"Minimal\",\"Minimal\",\"Minimal\",\"Minimal\",\"Minimal\",\"Minimal\",\"Minimal\",\"Minimal\",\"Minimal\",\"Minimal\",\"Minimal\",\"Minimal\",\"Minimal\",\"Minimal\",\"Minimal\",\"Minimal\",\"Minimal\",\"Minimal\",\"Minimal\",\"Minimal\",\"Minimal\",\"Minimal\",\"Minimal\",\"Minimal\",\"Minimal\",\"Minimal\",\"Minimal\",\"Minimal\",\"Minimal\",\"Minimal\",\"Minimal\",\"Minimal\",\"Minimal\",\"Minimal\",\"Minimal\",\"Minimal\",\"Minimal\",\"Minimal\",\"Minimal\",\"Minimal\",\"Minimal\",\"Minimal\",\"Minimal\",\"Minimal\",\"Minimal\",\"Minimal\",\"Minimal\",\"Minimal\",\"Minimal\",\"Minimal\",\"Minimal\",\"Minimal\",\"Minimal\",\"Minimal\",\"Minimal\",\"Minimal\",\"Minimal\",\"Minimal\",\"Minimal\",\"Minimal\",\"Minimal\",\"Minimal\",\"Minimal\",\"Minimal\",\"Minimal\",\"Minimal\",\"Minimal\",\"Minimal\",\"Minimal\",\"Minimal\",\"Minimal\",\"Minimal\",\"Minimal\",\"Minimal\",\"Minimal\",\"Minimal\",\"Minimal\",\"Minimal\",\"Minimal\",\"Minimal\",\"Minimal\",\"Minimal\",\"Minimal\",\"Minimal\",\"Minimal\",\"Minimal\",\"Minimal\",\"Minimal\",\"Minimal\",\"Minimal\",\"Minimal\",\"Minimal\",\"Minimal\",\"Minimal\",\"Minimal\",\"Minimal\",\"Minimal\",\"Minimal\",\"Minimal\",\"Minimal\",\"Minimal\",\"Minimal\",\"Minimal\",\"Minimal\",\"Minimal\",\"Minimal\",\"Minimal\",\"Minimal\",\"Minimal\",\"Minimal\",\"Minimal\",\"Minimal\",\"Minimal\",\"Minimal\",\"Minimal\",\"Minimal\",\"Minimal\",\"Minimal\",\"Minimal\",\"Minimal\",\"Minimal\",\"Minimal\",\"Minimal\",\"Minimal\",\"Minimal\",\"Minimal\",\"Minimal\",\"Minimal\",\"Minimal\",\"Minimal\",\"Minimal\",\"Minimal\",\"Minimal\",\"Minimal\",\"Minimal\",\"Minimal\",\"Minimal\",\"Minimal\",\"Minimal\",\"Minimal\",\"Minimal\",\"Minimal\",\"Minimal\",\"Minimal\",\"Minimal\",\"Minimal\",\"Minimal\",\"Minimal\",\"Minimal\",\"Minimal\",\"Minimal\",\"Minimal\",\"Minimal\",\"Minimal\",\"Minimal\",\"Minimal\",\"Minimal\",\"Minimal\",\"Minimal\",\"Minimal\",\"Minimal\",\"Minimal\",\"Minimal\",\"Minimal\",\"Minimal\",\"Minimal\",\"Minimal\",\"Minimal\",\"Minimal\",\"Minimal\",\"Minimal\",\"Minimal\",\"Minimal\",\"Minimal\",\"Minimal\",\"Minimal\",\"Minimal\",\"Minimal\",\"Minimal\",\"Minimal\",\"Minimal\",\"Minimal\",\"Minimal\",\"Minimal\",\"Minimal\",\"Minimal\",\"Minimal\",\"Minimal\",\"Minimal\",\"Minimal\",\"Minimal\",\"Minimal\",\"Minimal\",\"Minimal\",\"Minimal\",\"Minimal\",\"Minimal\",\"Minimal\",\"Minimal\",\"Minimal\",\"Minimal\",\"Minimal\",\"Minimal\",\"Minimal\",\"Minimal\",\"Minimal\",\"Minimal\",\"Minimal\",\"Minimal\",\"Minimal\",\"Minimal\",\"Minimal\",\"Minimal\",\"Minimal\",\"Minimal\",\"Minimal\",\"Minimal\",\"Minimal\",\"Minimal\",\"Minimal\",\"Minimal\",\"Minimal\",\"Minimal\",\"Minimal\",\"Minimal\",\"Minimal\",\"Minimal\",\"Minimal\",\"Minimal\",\"Minimal\",\"Minimal\",\"Minimal\",\"Minimal\",\"Minimal\",\"Minimal\",\"Minimal\",\"Minimal\",\"Minimal\",\"Minimal\",\"Minimal\",\"Minimal\",\"Minimal\",\"Minimal\",\"Minimal\",\"Minimal\",\"Minimal\",\"Minimal\",\"Minimal\",\"Minimal\",\"Minimal\",\"Minimal\",\"Minimal\",\"Minimal\",\"Minimal\",\"Minimal\",\"Minimal\",\"Minimal\",\"Minimal\",\"Minimal\",\"Minimal\",\"Minimal\",\"Minimal\",\"Minimal\",\"Minimal\",\"Minimal\",\"Minimal\",\"Minimal\",\"Minimal\",\"Minimal\",\"Minimal\",\"Minimal\",\"Minimal\",\"Minimal\",\"Minimal\",\"Minimal\",\"Minimal\",\"Minimal\",\"Minimal\",\"Minimal\",\"Minimal\",\"Minimal\",\"Minimal\",\"Minimal\",\"Minimal\",\"Minimal\",\"Minimal\",\"Minimal\",\"Minimal\",\"Minimal\",\"Minimal\",\"Minimal\",\"Minimal\",\"Minimal\",\"Minimal\",\"Minimal\",\"Minimal\",\"Minimal\",\"Minimal\",\"Minimal\",\"Minimal\",\"Minimal\",\"Minimal\",\"Minimal\",\"Minimal\",\"Minimal\",\"Minimal\",\"Minimal\",\"Minimal\",\"Minimal\",\"Minimal\",\"Minimal\",\"Minimal\",\"Minimal\",\"Minimal\",\"Minimal\",\"Minimal\",\"Minimal\",\"Minimal\",\"Minimal\",\"Minimal\",\"Minimal\",\"Minimal\",\"Minimal\",\"Minimal\",\"Minimal\",\"Minimal\",\"Minimal\",\"Minimal\",\"Minimal\",\"Minimal\",\"Minimal\",\"Minimal\",\"Minimal\",\"Minimal\",\"Minimal\",\"Minimal\",\"Minimal\",\"Minimal\",\"Minimal\",\"Minimal\",\"Minimal\",\"Minimal\",\"Minimal\",\"Minimal\",\"Minimal\",\"Minimal\",\"Minimal\",\"Minimal\",\"Minimal\",\"Minimal\",\"Minimal\",\"Minimal\",\"Minimal\",\"Minimal\",\"Minimal\",\"Minimal\",\"Minimal\",\"Minimal\",\"Minimal\",\"Minimal\",\"Minimal\",\"Minimal\",\"Minimal\",\"Minimal\",\"Minimal\",\"Minimal\",\"Minimal\",\"Minimal\",\"Minimal\",\"Minimal\",\"Minimal\",\"Minimal\",\"Minimal\",\"Minimal\",\"Minimal\",\"Minimal\",\"Minimal\",\"Minimal\",\"Minimal\",\"Minimal\",\"Minimal\",\"Minimal\",\"Minimal\",\"Minimal\",\"Minimal\",\"Minimal\",\"Minimal\",\"Minimal\",\"Minimal\",\"Minimal\",\"Minimal\",\"Minimal\",\"Minimal\",\"Minimal\",\"Minimal\",\"Minimal\",\"Minimal\",\"Minimal\",\"Minimal\",\"Minimal\",\"Minimal\",\"Minimal\",\"Minimal\",\"Minimal\",\"Minimal\",\"Minimal\",\"Minimal\",\"Minimal\",\"Minimal\",\"Minimal\",\"Minimal\",\"Minimal\",\"Minimal\",\"Minimal\",\"Minimal\",\"Minimal\",\"Minimal\",\"Minimal\",\"Minimal\",\"Minimal\",\"Minimal\",\"Minimal\",\"Minimal\",\"Minimal\",\"Minimal\",\"Minimal\",\"Minimal\",\"Minimal\",\"Minimal\",\"Minimal\",\"Minimal\",\"Minimal\",\"Minimal\",\"Minimal\",\"Minimal\",\"Minimal\",\"Minimal\",\"Minimal\",\"Minimal\",\"Minimal\",\"Minimal\",\"Minimal\",\"Minimal\",\"Minimal\",\"Minimal\",\"Minimal\",\"Minimal\",\"Minimal\",\"Minimal\",\"Minimal\",\"Minimal\",\"Minimal\",\"Minimal\",\"Minimal\",\"Minimal\",\"Minimal\",\"Minimal\",\"Minimal\",\"Minimal\",\"Minimal\",\"Minimal\",\"Minimal\",\"Minimal\",\"Minimal\",\"Minimal\",\"Minimal\",\"Minimal\",\"Minimal\",\"Minimal\",\"Minimal\",\"Minimal\",\"Minimal\",\"Minimal\",\"Minimal\",\"Minimal\",\"Minimal\",\"Minimal\",\"Minimal\",\"Minimal\",\"Minimal\",\"Minimal\",\"Minimal\",\"Minimal\",\"Minimal\",\"Minimal\",\"Minimal\",\"Minimal\",\"Minimal\",\"Minimal\",\"Minimal\",\"Minimal\",\"Minimal\",\"Minimal\",\"Minimal\",\"Minimal\",\"Minimal\",\"Minimal\",\"Minimal\",\"Minimal\",\"Minimal\",\"Minimal\",\"Minimal\",\"Minimal\",\"Minimal\",\"Minimal\",\"Minimal\",\"Minimal\",\"Minimal\",\"Minimal\",\"Minimal\",\"Minimal\",\"Minimal\",\"Minimal\",\"Minimal\",\"Minimal\",\"Minimal\",\"Minimal\",\"Minimal\",\"Minimal\",\"Minimal\",\"Minimal\",\"Minimal\",\"Minimal\",\"Minimal\",\"Minimal\",\"Minimal\",\"Minimal\",\"Minimal\",\"Minimal\",\"Minimal\",\"Minimal\",\"Minimal\",\"Minimal\",\"Minimal\",\"Minimal\",\"Minimal\",\"Minimal\",\"Minimal\",\"Minimal\",\"Minimal\",\"Minimal\",\"Minimal\",\"Minimal\",\"Minimal\",\"Minimal\",\"Minimal\",\"Minimal\",\"Minimal\",\"Minimal\",\"Minimal\",\"Minimal\",\"Minimal\",\"Minimal\",\"Minimal\",\"Minimal\",\"Minimal\",\"Minimal\",\"Minimal\",\"Minimal\",\"Minimal\",\"Minimal\",\"Minimal\",\"Minimal\",\"Minimal\",\"Minimal\",\"Minimal\",\"Minimal\",\"Minimal\",\"Minimal\",\"Minimal\",\"Minimal\",\"Minimal\",\"Minimal\",\"Minimal\",\"Minimal\",\"Minimal\",\"Minimal\",\"Minimal\",\"Minimal\",\"Minimal\",\"Minimal\",\"Minimal\",\"Minimal\",\"Minimal\",\"Minimal\",\"Minimal\",\"Minimal\",\"Minimal\",\"Minimal\",\"Minimal\",\"Minimal\",\"Minimal\",\"Minimal\",\"Minimal\",\"Minimal\",\"Minimal\",\"Minimal\",\"Minimal\",\"Minimal\",\"Minimal\",\"Minimal\",\"Minimal\",\"Minimal\",\"Minimal\",\"Minimal\",\"Minimal\",\"Minimal\",\"Minimal\",\"Minimal\",\"Minimal\",\"Minimal\",\"Minimal\",\"Minimal\",\"Minimal\",\"Minimal\",\"Minimal\",\"Minimal\",\"Minimal\",\"Minimal\",\"Minimal\",\"Minimal\",\"Minimal\",\"Minimal\",\"Minimal\",\"Minimal\",\"Minimal\",\"Minimal\",\"Minimal\",\"Minimal\",\"Minimal\",\"Minimal\",\"Minimal\",\"Minimal\",\"Minimal\",\"Minimal\",\"Minimal\",\"Minimal\",\"Minimal\",\"Minimal\",\"Minimal\",\"Minimal\",\"Minimal\",\"Minimal\",\"Minimal\",\"Minimal\",\"Minimal\",\"Minimal\",\"Minimal\",\"Minimal\",\"Minimal\",\"Minimal\",\"Minimal\",\"Minimal\",\"Minimal\",\"Minimal\",\"Minimal\",\"Minimal\",\"Minimal\",\"Minimal\",\"Minimal\",\"Minimal\",\"Minimal\",\"Minimal\",\"Minimal\",\"Minimal\",\"Minimal\",\"Minimal\",\"Minimal\",\"Minimal\",\"Minimal\",\"Minimal\",\"Minimal\",\"Minimal\",\"Minimal\",\"Minimal\",\"Minimal\",\"Minimal\",\"Minimal\",\"Minimal\",\"Minimal\",\"Minimal\",\"Minimal\",\"Minimal\",\"Minimal\",\"Minimal\",\"Minimal\",\"Minimal\",\"Minimal\",\"Minimal\",\"Minimal\",\"Minimal\",\"Minimal\",\"Minimal\",\"Minimal\",\"Minimal\",\"Minimal\",\"Minimal\",\"Minimal\",\"Minimal\",\"Minimal\",\"Minimal\",\"Minimal\",\"Minimal\",\"Minimal\",\"Minimal\",\"Minimal\",\"Minimal\",\"Minimal\",\"Minimal\",\"Minimal\",\"Minimal\",\"Minimal\",\"Minimal\",\"Minimal\",\"Minimal\",\"Minimal\",\"Minimal\",\"Minimal\",\"Minimal\",\"Minimal\",\"Minimal\",\"Minimal\",\"Minimal\",\"Minimal\",\"Minimal\",\"Minimal\",\"Minimal\",\"Minimal\",\"Minimal\",\"Minimal\",\"Minimal\",\"Minimal\",\"Minimal\",\"Minimal\",\"Minimal\",\"Minimal\",\"Minimal\",\"Minimal\",\"Minimal\",\"Minimal\",\"Minimal\",\"Minimal\",\"Minimal\",\"Minimal\",\"Minimal\",\"Minimal\",\"Minimal\",\"Minimal\",\"Minimal\",\"Minimal\",\"Minimal\",\"Minimal\",\"Minimal\",\"Minimal\",\"Minimal\",\"Minimal\",\"Minimal\",\"Minimal\",\"Minimal\",\"Minimal\",\"Minimal\",\"Minimal\",\"Minimal\",\"Minimal\",\"Minimal\",\"Minimal\",\"Minimal\",\"Minimal\",\"Minimal\",\"Minimal\",\"Minimal\",\"Minimal\",\"Minimal\",\"Minimal\",\"Minimal\",\"Minimal\",\"Minimal\",\"Minimal\",\"Minimal\",\"Minimal\",\"Minimal\",\"Minimal\",\"Minimal\",\"Minimal\",\"Minimal\",\"Minimal\",\"Minimal\",\"Minimal\",\"Minimal\",\"Minimal\",\"Minimal\",\"Minimal\",\"Minimal\",\"Minimal\",\"Minimal\",\"Minimal\",\"Minimal\",\"Minimal\",\"Minimal\",\"Minimal\",\"Minimal\",\"Minimal\",\"Minimal\",\"Minimal\",\"Minimal\",\"Minimal\",\"Minimal\",\"Minimal\",\"Minimal\",\"Minimal\",\"Minimal\",\"Minimal\",\"Minimal\",\"Minimal\",\"Minimal\",\"Minimal\",\"Minimal\",\"Minimal\",\"Minimal\",\"Minimal\",\"Minimal\",\"Minimal\",\"Minimal\",\"Minimal\",\"Minimal\",\"Minimal\",\"Minimal\",\"Minimal\",\"Minimal\",\"Minimal\",\"Minimal\",\"Minimal\",\"Minimal\",\"Minimal\",\"Minimal\",\"Minimal\",\"Minimal\",\"Minimal\",\"Minimal\",\"Minimal\",\"Minimal\",\"Minimal\",\"Minimal\",\"Minimal\",\"Minimal\",\"Minimal\",\"Minimal\",\"Minimal\",\"Minimal\",\"Minimal\",\"Minimal\",\"Minimal\",\"Minimal\",\"Minimal\",\"Minimal\",\"Minimal\",\"Minimal\",\"Minimal\",\"Minimal\",\"Minimal\",\"Minimal\",\"Minimal\",\"Minimal\",\"Minimal\",\"Minimal\",\"Minimal\",\"Minimal\",\"Minimal\",\"Minimal\",\"Minimal\",\"Minimal\",\"Minimal\",\"Minimal\",\"Minimal\",\"Minimal\",\"Minimal\",\"Minimal\",\"Minimal\",\"Minimal\",\"Minimal\",\"Minimal\",\"Minimal\",\"Minimal\",\"Minimal\",\"Minimal\",\"Minimal\",\"Minimal\",\"Minimal\",\"Minimal\",\"Minimal\",\"Minimal\",\"Minimal\",\"Minimal\",\"Minimal\",\"Minimal\",\"Minimal\",\"Minimal\",\"Minimal\",\"Minimal\",\"Minimal\",\"Minimal\",\"Minimal\",\"Minimal\",\"Minimal\",\"Minimal\",\"Minimal\",\"Minimal\",\"Minimal\",\"Minimal\",\"Minimal\",\"Minimal\",\"Minimal\",\"Minimal\",\"Minimal\",\"Minimal\",\"Minimal\",\"Minimal\",\"Minimal\",\"Minimal\",\"Minimal\",\"Minimal\",\"Minimal\",\"Minimal\",\"Minimal\",\"Minimal\",\"Minimal\",\"Minimal\",\"Minimal\",\"Minimal\",\"Minimal\",\"Minimal\",\"Minimal\",\"Minimal\",\"Minimal\",\"Minimal\",\"Minimal\",\"Minimal\",\"Minimal\",\"Minimal\",\"Minimal\",\"Minimal\",\"Minimal\",\"Minimal\",\"Minimal\",\"Minimal\",\"Minimal\",\"Minimal\",\"Minimal\",\"Minimal\",\"Minimal\",\"Minimal\",\"Minimal\",\"Minimal\",\"Minimal\",\"Minimal\",\"Minimal\",\"Minimal\",\"Minimal\",\"Minimal\",\"Minimal\",\"Minimal\",\"Minimal\",\"Minimal\",\"Minimal\",\"Minimal\",\"Minimal\",\"Minimal\",\"Minimal\",\"Minimal\",\"Minimal\",\"Minimal\",\"Minimal\",\"Minimal\",\"Minimal\",\"Minimal\",\"Minimal\",\"Minimal\",\"Minimal\",\"Minimal\",\"Minimal\",\"Minimal\",\"Minimal\",\"Minimal\",\"Minimal\",\"Minimal\",\"Minimal\",\"Minimal\",\"Minimal\",\"Minimal\",\"Minimal\",\"Minimal\",\"Minimal\",\"Minimal\",\"Minimal\",\"Minimal\",\"Minimal\",\"Minimal\",\"Minimal\",\"Minimal\",\"Minimal\",\"Minimal\",\"Minimal\",\"Minimal\",\"Minimal\",\"Minimal\",\"Minimal\",\"Minimal\",\"Minimal\",\"Minimal\",\"Minimal\",\"Minimal\",\"Minimal\",\"Minimal\",\"Minimal\",\"Minimal\",\"Minimal\",\"Minimal\",\"Minimal\",\"Minimal\",\"Minimal\",\"Minimal\",\"Minimal\",\"Minimal\",\"Minimal\",\"Minimal\",\"Minimal\",\"Minimal\",\"Minimal\",\"Minimal\",\"Minimal\",\"Minimal\",\"Minimal\",\"Minimal\",\"Minimal\",\"Minimal\",\"Minimal\",\"Minimal\",\"Minimal\",\"Minimal\",\"Minimal\",\"Minimal\",\"Minimal\",\"Minimal\",\"Minimal\",\"Minimal\",\"Minimal\",\"Minimal\",\"Minimal\",\"Minimal\",\"Minimal\",\"Minimal\",\"Minimal\",\"Minimal\",\"Minimal\",\"Minimal\",\"Minimal\",\"Minimal\",\"Minimal\",\"Minimal\",\"Minimal\",\"Minimal\",\"Minimal\",\"Minimal\",\"Minimal\",\"Minimal\",\"Minimal\",\"Minimal\",\"Minimal\",\"Minimal\",\"Minimal\",\"Minimal\",\"Minimal\",\"Minimal\",\"Minimal\",\"Minimal\",\"Minimal\",\"Minimal\",\"Minimal\",\"Minimal\",\"Minimal\",\"Minimal\",\"Minimal\",\"Minimal\",\"Minimal\",\"Minimal\",\"Minimal\",\"Minimal\",\"Minimal\",\"Minimal\",\"Minimal\",\"Minimal\",\"Minimal\",\"Minimal\",\"Minimal\",\"Minimal\",\"Minimal\",\"Minimal\",\"Minimal\",\"Minimal\",\"Minimal\",\"Minimal\",\"Minimal\",\"Minimal\",\"Minimal\",\"Minimal\",\"Minimal\",\"Minimal\",\"Minimal\",\"Minimal\",\"Minimal\",\"Minimal\",\"Minimal\",\"Minimal\",\"Minimal\",\"Minimal\",\"Minimal\",\"Minimal\",\"Minimal\",\"Minimal\",\"Minimal\",\"Minimal\",\"Minimal\",\"Minimal\",\"Minimal\",\"Minimal\",\"Minimal\",\"Minimal\",\"Minimal\",\"Minimal\",\"Minimal\",\"Minimal\",\"Minimal\",\"Minimal\",\"Minimal\",\"Minimal\",\"Minimal\",\"Minimal\",\"Minimal\",\"Minimal\",\"Minimal\",\"Minimal\",\"Minimal\",\"Minimal\",\"Minimal\",\"Minimal\",\"Minimal\",\"Minimal\",\"Minimal\",\"Minimal\",\"Minimal\",\"Minimal\",\"Minimal\",\"Minimal\",\"Minimal\",\"Minimal\",\"Minimal\",\"Minimal\",\"Minimal\",\"Minimal\",\"Minimal\",\"Minimal\",\"Minimal\",\"Minimal\",\"Minimal\",\"Minimal\",\"Minimal\",\"Minimal\",\"Minimal\",\"Minimal\",\"Minimal\",\"Minimal\",\"Minimal\",\"Minimal\",\"Minimal\",\"Minimal\",\"Minimal\",\"Minimal\",\"Minimal\",\"Minimal\",\"Minimal\",\"Minimal\",\"Minimal\",\"Minimal\",\"Minimal\",\"Minimal\",\"Minimal\",\"Minimal\",\"Minimal\",\"Minimal\",\"Minimal\",\"Minimal\",\"Minimal\",\"Minimal\",\"Minimal\",\"Minimal\",\"Minimal\",\"Minimal\",\"Minimal\",\"Minimal\",\"Minimal\",\"Minimal\",\"Minimal\",\"Minimal\",\"Minimal\",\"Minimal\",\"Minimal\",\"Minimal\",\"Minimal\",\"Minimal\",\"Minimal\",\"Minimal\",\"Minimal\",\"Minimal\",\"Minimal\",\"Minimal\",\"Minimal\",\"Minimal\",\"Minimal\",\"Minimal\",\"Minimal\",\"Minimal\",\"Minimal\",\"Minimal\",\"Minimal\",\"Minimal\",\"Minimal\",\"Minimal\",\"Minimal\",\"Minimal\",\"Minimal\",\"Minimal\",\"Minimal\",\"Minimal\",\"Minimal\",\"Minimal\",\"Minimal\",\"Minimal\",\"Minimal\",\"Minimal\",\"Minimal\",\"Minimal\",\"Minimal\",\"Minimal\",\"Minimal\",\"Minimal\",\"Minimal\",\"Minimal\",\"Minimal\",\"Minimal\",\"Minimal\",\"Minimal\",\"Minimal\",\"Minimal\",\"Minimal\",\"Minimal\",\"Minimal\",\"Minimal\",\"Minimal\",\"Minimal\",\"Minimal\",\"Minimal\",\"Minimal\",\"Minimal\",\"Minimal\",\"Minimal\",\"Minimal\",\"Minimal\",\"Minimal\",\"Minimal\",\"Minimal\",\"Minimal\",\"Minimal\",\"Minimal\",\"Minimal\",\"Minimal\",\"Minimal\",\"Minimal\",\"Minimal\",\"Minimal\",\"Minimal\",\"Minimal\",\"Minimal\",\"Minimal\",\"Minimal\",\"Minimal\",\"Minimal\",\"Minimal\",\"Minimal\",\"Minimal\",\"Minimal\",\"Minimal\",\"Minimal\",\"Minimal\",\"Minimal\",\"Minimal\",\"Minimal\",\"Minimal\",\"Minimal\",\"Minimal\",\"Minimal\",\"Minimal\",\"Minimal\",\"Minimal\",\"Minimal\",\"Minimal\",\"Minimal\",\"Minimal\",\"Minimal\",\"Minimal\",\"Minimal\",\"Minimal\",\"Minimal\",\"Minimal\",\"Minimal\",\"Minimal\",\"Minimal\",\"Minimal\",\"Minimal\",\"Minimal\",\"Minimal\",\"Minimal\",\"Minimal\",\"Minimal\",\"Minimal\",\"Minimal\",\"Minimal\",\"Minimal\",\"Minimal\",\"Minimal\",\"Minimal\",\"Minimal\",\"Minimal\",\"Minimal\",\"Minimal\",\"Minimal\",\"Minimal\",\"Minimal\",\"Minimal\",\"Minimal\",\"Minimal\",\"Minimal\",\"Minimal\",\"Minimal\",\"Minimal\",\"Minimal\",\"Minimal\",\"Minimal\",\"Minimal\",\"Minimal\",\"Minimal\",\"Minimal\",\"Minimal\",\"Minimal\",\"Minimal\",\"Minimal\",\"Minimal\",\"Minimal\",\"Minimal\",\"Minimal\",\"Minimal\",\"Minimal\",\"Minimal\",\"Minimal\",\"Minimal\",\"Minimal\",\"Minimal\",\"Minimal\",\"Minimal\",\"Minimal\",\"Minimal\",\"Minimal\",\"Minimal\",\"Minimal\",\"Minimal\",\"Minimal\",\"Minimal\",\"Minimal\",\"Minimal\",\"Minimal\",\"Minimal\",\"Minimal\",\"Minimal\",\"Minimal\",\"Minimal\",\"Minimal\",\"Minimal\",\"Minimal\",\"Minimal\",\"Minimal\",\"Minimal\",\"Minimal\",\"Minimal\",\"Minimal\",\"Minimal\",\"Minimal\",\"Minimal\",\"Minimal\",\"Minimal\",\"Minimal\",\"Minimal\",\"Minimal\",\"Minimal\",\"Minimal\",\"Minimal\",\"Minimal\",\"Minimal\",\"Minimal\",\"Minimal\",\"Minimal\",\"Minimal\",\"Minimal\",\"Minimal\",\"Minimal\",\"Minimal\",\"Minimal\",\"Minimal\",\"Minimal\",\"Minimal\",\"Minimal\",\"Minimal\",\"Minimal\",\"Minimal\",\"Minimal\",\"Minimal\",\"Minimal\",\"Minimal\",\"Minimal\",\"Minimal\",\"Minimal\",\"Minimal\",\"Minimal\",\"Minimal\",\"Minimal\",\"Minimal\",\"Minimal\",\"Minimal\",\"Minimal\",\"Minimal\",\"Minimal\",\"Minimal\",\"Minimal\",\"Minimal\",\"Minimal\",\"Minimal\",\"Minimal\",\"Minimal\",\"Minimal\",\"Minimal\",\"Minimal\",\"Minimal\",\"Minimal\",\"Minimal\",\"Minimal\",\"Minimal\",\"Minimal\",\"Minimal\",\"Minimal\",\"Minimal\",\"Minimal\",\"Minimal\",\"Minimal\",\"Minimal\",\"Minimal\",\"Minimal\",\"Minimal\",\"Minimal\",\"Minimal\",\"Minimal\",\"Minimal\",\"Minimal\",\"Minimal\",\"Minimal\",\"Minimal\",\"Minimal\",\"Minimal\",\"Minimal\",\"Minimal\",\"Minimal\",\"Minimal\",\"Minimal\",\"Minimal\",\"Minimal\",\"Minimal\",\"Minimal\",\"Minimal\",\"Minimal\",\"Minimal\",\"Minimal\",\"Minimal\",\"Minimal\",\"Minimal\",\"Minimal\",\"Minimal\",\"Minimal\",\"Minimal\",\"Minimal\",\"Minimal\",\"Minimal\",\"Minimal\",\"Minimal\",\"Minimal\",\"Minimal\",\"Minimal\",\"Minimal\",\"Minimal\",\"Minimal\",\"Minimal\",\"Minimal\",\"Minimal\",\"Minimal\",\"Minimal\",\"Minimal\",\"Minimal\",\"Minimal\",\"Minimal\",\"Minimal\",\"Minimal\",\"Minimal\",\"Minimal\",\"Minimal\",\"Minimal\",\"Minimal\",\"Minimal\",\"Minimal\",\"Minimal\",\"Minimal\",\"Minimal\",\"Minimal\",\"Minimal\",\"Minimal\",\"Minimal\",\"Minimal\",\"Minimal\",\"Minimal\",\"Minimal\",\"Minimal\",\"Minimal\",\"Minimal\",\"Minimal\",\"Minimal\",\"Minimal\",\"Minimal\",\"Minimal\",\"Minimal\",\"Minimal\",\"Minimal\",\"Minimal\",\"Minimal\",\"Minimal\",\"Minimal\",\"Minimal\",\"Minimal\",\"Minimal\",\"Minimal\",\"Minimal\",\"Minimal\",\"Minimal\",\"Minimal\",\"Minimal\",\"Minimal\",\"Minimal\",\"Minimal\",\"Minimal\",\"Minimal\",\"Minimal\",\"Minimal\",\"Minimal\",\"Minimal\",\"Minimal\",\"Minimal\",\"Minimal\",\"Minimal\",\"Minimal\",\"Minimal\",\"Minimal\",\"Minimal\",\"Minimal\",\"Minimal\",\"Minimal\",\"Minimal\",\"Minimal\",\"Minimal\",\"Minimal\",\"Minimal\",\"Minimal\",\"Minimal\",\"Minimal\",\"Minimal\",\"Minimal\",\"Minimal\",\"Minimal\",\"Minimal\",\"Minimal\",\"Minimal\",\"Minimal\",\"Minimal\",\"Minimal\",\"Minimal\",\"Minimal\",\"Minimal\",\"Minimal\",\"Minimal\",\"Minimal\",\"Minimal\",\"Minimal\",\"Minimal\",\"Minimal\",\"Minimal\",\"Minimal\",\"Minimal\",\"Minimal\",\"Minimal\",\"Minimal\",\"Minimal\",\"Minimal\",\"Minimal\",\"Minimal\",\"Minimal\",\"Minimal\",\"Minimal\",\"Minimal\",\"Minimal\",\"Minimal\",\"Minimal\",\"Minimal\",\"Minimal\",\"Minimal\",\"Minimal\",\"Minimal\",\"Minimal\",\"Minimal\",\"Minimal\",\"Minimal\",\"Minimal\",\"Minimal\",\"Minimal\",\"Minimal\",\"Minimal\",\"Minimal\",\"Minimal\",\"Minimal\",\"Minimal\",\"Minimal\",\"Minimal\",\"Minimal\",\"Minimal\",\"Minimal\",\"Minimal\",\"Minimal\",\"Minimal\",\"Minimal\",\"Minimal\",\"Minimal\",\"Minimal\",\"Minimal\",\"Minimal\",\"Minimal\",\"Minimal\",\"Minimal\",\"Minimal\",\"Minimal\",\"Minimal\",\"Minimal\",\"Minimal\",\"Minimal\",\"Minimal\",\"Minimal\",\"Minimal\",\"Minimal\"],\"x0\":\" \",\"xaxis\":\"x\",\"y\":[1.1760912590556813,1.7558748556724915,null,null,0.6020599913279624,0.3010299956639812,0.9030899869919435,1.5440680443502757,1.4471580313422192,0.7781512503836436,0.47712125471966244,0.47712125471966244,0.6989700043360189,0.47712125471966244,1.9242792860618816,0.3010299956639812,1.3010299956639813,0.3010299956639812,0.3010299956639812,0.0,null,null,0.0,0.47712125471966244,null,null,1.380211241711606,1.3617278360175928,0.6989700043360189,1.255272505103306,0.7781512503836436,0.0,0.6989700043360189,null,null,null,0.0,1.041392685158225,0.6020599913279624,1.146128035678238,2.0170333392987803,1.146128035678238,0.47712125471966244,2.0791812460476247,1.380211241711606,0.7781512503836436,1.3222192947339193,0.6989700043360189,1.380211241711606,1.041392685158225,1.3222192947339193,1.8388490907372552,1.4771212547196624,0.7781512503836436,0.6020599913279624,0.6020599913279624,1.2041199826559248,0.47712125471966244,1.1139433523068367,1.0791812460476249,0.0,1.6901960800285136,0.6989700043360189,1.4471580313422192,2.3979400086720375,0.0,0.8450980400142568,0.6989700043360189,1.6812412373755872,1.414973347970818,0.9030899869919435,0.3010299956639812,2.294466226161593,1.7853298350107671,1.4771212547196624,1.9867717342662448,1.5797835966168101,0.6020599913279624,1.5797835966168101,2.2671717284030137,1.863322860120456,1.9637878273455553,1.0791812460476249,1.1760912590556813,2.59659709562646,1.8976270912904414,1.1760912590556813,0.47712125471966244,0.47712125471966244,1.7075701760979363,2.0170333392987803,0.9030899869919435,1.6532125137753437,0.3010299956639812,1.0,2.1931245983544616,2.250420002308894,1.3979400086720377,0.47712125471966244,1.3979400086720377,0.9542425094393249,1.8692317197309762,0.47712125471966244,1.0791812460476249,1.2304489213782739,1.5185139398778875,null,1.6127838567197355,1.0791812460476249,1.806179973983887,1.041392685158225,0.6020599913279624,2.330413773349191,1.1760912590556813,1.3222192947339193,1.0,1.9542425094393248,1.2304489213782739,2.0492180226701815,0.7781512503836436,2.1367205671564067,0.3010299956639812,0.9542425094393249,0.47712125471966244,0.3010299956639812,1.3010299956639813,null,0.7781512503836436,0.3010299956639812,null,null,null,null,null,1.3979400086720377,0.47712125471966244,0.0,0.3010299956639812,0.47712125471966244,0.3010299956639812,0.3010299956639812,0.47712125471966244,1.0,null,null,1.146128035678238,0.6989700043360189,null,null,1.0,1.041392685158225,null,1.380211241711606,1.0,0.3010299956639812,0.7781512503836436,0.7781512503836436,0.8450980400142568,0.0,1.0,1.2304489213782739,0.0,1.5314789170422551,null,0.3010299956639812,0.8450980400142568,1.919078092376074,1.0791812460476249,1.380211241711606,0.9030899869919435,1.6127838567197355,0.3010299956639812,1.4771212547196624,1.9444826721501687,1.380211241711606,1.7403626894942439,1.863322860120456,0.7781512503836436,1.6127838567197355,1.7708520116421442,1.7242758696007892,0.6989700043360189,1.0,1.3979400086720377,1.5185139398778875,1.4771212547196624,0.7781512503836436,0.9542425094393249,1.1139433523068367,0.7781512503836436,1.2304489213782739,0.3010299956639812,0.6020599913279624,0.8450980400142568,0.9030899869919435,1.5563025007672873,1.4471580313422192,0.7781512503836436,1.4471580313422192,1.2304489213782739,null,0.8450980400142568,0.6020599913279624,1.146128035678238,1.2041199826559248,1.591064607026499,1.4471580313422192,1.3222192947339193,0.3010299956639812,1.7403626894942439,null,1.591064607026499,1.2304489213782739,2.2648178230095364,2.615950051656401,2.123851640967086,2.2278867046136734,2.1903316981702914,0.6020599913279624,0.7781512503836436,1.5797835966168101,1.462397997898956,0.6020599913279624,1.1139433523068367,1.5440680443502757,0.6989700043360189,0.9030899869919435,0.6989700043360189,1.0791812460476249,1.1139433523068367,0.0,1.2041199826559248,0.47712125471966244,1.380211241711606,1.0791812460476249,1.3222192947339193,null,1.6127838567197355,0.6020599913279624,1.7781512503836436,1.3010299956639813,0.3010299956639812,0.9030899869919435,1.591064607026499,0.3010299956639812,2.130333768495006,0.6989700043360189,0.6020599913279624,0.7781512503836436,0.7781512503836436,0.0,1.2304489213782739,2.1583624920952498,1.3979400086720377,0.6989700043360189,0.3010299956639812,1.6720978579357175,1.9542425094393248,1.146128035678238,1.6812412373755872,2.1172712956557644,1.5314789170422551,0.3010299956639812,2.7737864449811935,1.041392685158225,1.5797835966168101,2.173186268412274,0.47712125471966244,1.7781512503836436,2.303196057420489,1.380211241711606,1.0,0.9542425094393249,0.47712125471966244,0.47712125471966244,1.3222192947339193,0.9542425094393249,1.505149978319906,2.113943352306837,2.0,0.8450980400142568,1.2041199826559248,1.8195439355418688,1.4771212547196624,1.2787536009528289,1.806179973983887,1.146128035678238,null,1.146128035678238,0.0,1.8864907251724818,0.6989700043360189,1.0791812460476249,1.7075701760979363,0.6989700043360189,0.3010299956639812,1.1139433523068367,null,0.47712125471966244,0.7781512503836436,0.8450980400142568,1.662757831681574,null,0.7781512503836436,0.47712125471966244,1.9444826721501687,null,null,0.3010299956639812,0.8450980400142568,0.0,0.8450980400142568,null,null,0.6989700043360189,0.47712125471966244,1.1139433523068367,0.47712125471966244,null,null,0.47712125471966244,0.0,0.47712125471966244,null,null,0.0,null,0.47712125471966244,1.4771212547196624,0.47712125471966244,0.47712125471966244,null,null,0.7781512503836436,1.0791812460476249,null,null,0.6989700043360189,null,0.0,null,0.0,null,0.0,0.6020599913279624,0.8450980400142568,0.47712125471966244,0.6989700043360189,0.6020599913279624,0.0,null,0.3010299956639812,null,1.0,0.6020599913279624,0.0,0.47712125471966244,null,null,0.3010299956639812,0.47712125471966244,null,null,1.041392685158225,0.0,null,0.6989700043360189,null,null,1.7075701760979363,1.6334684555795866,1.6020599913279625,1.3424226808222062,0.9030899869919435,1.505149978319906,1.414973347970818,1.3010299956639813,0.47712125471966244,0.47712125471966244,0.47712125471966244,1.3010299956639813,null,null,1.6334684555795866,1.8512583487190752,null,1.6434526764861874,null,1.4913616938342726,1.0791812460476249,0.3010299956639812,0.9542425094393249,0.9030899869919435,1.3424226808222062,0.0,1.255272505103306,0.0,0.6989700043360189,0.3010299956639812,1.3222192947339193,null,null,0.6989700043360189,1.255272505103306,0.0,0.6020599913279624,null,0.9542425094393249,0.3010299956639812,1.3222192947339193,0.8450980400142568,0.0,0.7781512503836436,0.0,0.8450980400142568,null,1.3979400086720377,0.3010299956639812,0.6989700043360189,0.47712125471966244,0.6020599913279624,0.3010299956639812,1.3617278360175928,1.6720978579357175,1.2787536009528289,1.6127838567197355,1.968482948553935,2.1271047983648077,2.110589710299249,2.3283796034387376,1.5563025007672873,0.9542425094393249,null,1.7853298350107671,0.47712125471966244,null,1.3979400086720377,0.6989700043360189,0.47712125471966244,0.8450980400142568,0.6989700043360189,1.845098040014257,1.0,0.6020599913279624,0.6989700043360189,0.8450980400142568,null,1.4471580313422192,1.041392685158225,1.7558748556724915,0.6020599913279624,1.3979400086720377,1.2304489213782739,1.3010299956639813,1.2304489213782739,1.3010299956639813,null,1.4471580313422192,1.4471580313422192,1.2304489213782739,1.4771212547196624,null,1.2041199826559248,1.6812412373755872,0.0,1.9444826721501687,1.146128035678238,0.3010299956639812,null,0.6020599913279624,0.7781512503836436,1.5440680443502757,1.6334684555795866,1.041392685158225,0.6020599913279624,0.9542425094393249,1.380211241711606,null,0.6020599913279624,1.146128035678238,0.47712125471966244,0.3010299956639812,0.9542425094393249,1.041392685158225,1.6020599913279625,0.3010299956639812,0.9542425094393249,0.6020599913279624,0.0,1.3222192947339193,0.6989700043360189,0.7781512503836436,0.0,2.103803720955957,0.0,0.0,1.255272505103306,1.462397997898956,0.9030899869919435,0.0,0.0,0.3010299956639812,0.0,1.7242758696007892,1.7242758696007892,0.0,0.6989700043360189,1.0,1.0791812460476249,0.7781512503836436,0.8450980400142568,null,0.9542425094393249,0.3010299956639812,1.041392685158225,1.0791812460476249,0.6020599913279624,1.568201724066995,0.7781512503836436,0.47712125471966244,2.6848453616444123,1.6127838567197355,1.414973347970818,1.845098040014257,1.2304489213782739,0.47712125471966244,1.6434526764861874,1.0791812460476249,1.4771212547196624,1.2041199826559248,1.1139433523068367,0.9542425094393249,1.1139433523068367,1.6020599913279625,1.4913616938342726,1.3617278360175928,1.5563025007672873,0.7781512503836436,null,1.4913616938342726,0.47712125471966244,1.1139433523068367,1.4313637641589874,0.9030899869919435,0.47712125471966244,1.7403626894942439,1.3979400086720377,1.041392685158225,1.4913616938342726,1.3222192947339193,0.6989700043360189,null,0.9030899869919435,0.6020599913279624,0.8450980400142568,2.05307844348342,null,0.0,0.6989700043360189,0.9030899869919435,1.3010299956639813,0.8450980400142568,0.0,1.3010299956639813,0.8450980400142568,0.0,1.146128035678238,0.0,0.47712125471966244,0.6020599913279624,0.47712125471966244,0.6020599913279624,0.6989700043360189,null,1.4771212547196624,0.9542425094393249,2.089905111439398,1.968482948553935,1.2041199826559248,0.6989700043360189,1.6901960800285136,1.6127838567197355,0.3010299956639812,1.0791812460476249,0.3010299956639812,1.1760912590556813,0.8450980400142568,1.1139433523068367,1.3010299956639813,2.8959747323590648,1.6434526764861874,1.255272505103306,0.3010299956639812,1.505149978319906,1.2787536009528289,2.0211892990699383,0.6989700043360189,1.2787536009528289,0.47712125471966244,0.6020599913279624,0.7781512503836436,null,0.47712125471966244,0.9030899869919435,0.47712125471966244,0.8450980400142568,0.6020599913279624,1.3424226808222062,1.9395192526186185,1.041392685158225,0.7781512503836436,1.2304489213782739,1.6127838567197355,0.7781512503836436,1.2041199826559248,0.6020599913279624,0.6989700043360189,null,0.0,0.6989700043360189,null,null,1.2041199826559248,0.6020599913279624,1.505149978319906,2.0453229787866576,0.8450980400142568,0.9030899869919435,0.47712125471966244,1.1139433523068367,0.6020599913279624,1.9493900066449128,0.7781512503836436,0.47712125471966244,0.9030899869919435,0.7781512503836436,2.012837224705172,null,1.4471580313422192,0.3010299956639812,1.6720978579357175,0.0,0.8450980400142568,0.3010299956639812,0.7781512503836436,0.3010299956639812,1.414973347970818,1.4313637641589874,1.041392685158225,1.041392685158225,null,0.8450980400142568,1.3617278360175928,1.380211241711606,1.6232492903979006,1.0791812460476249,0.8450980400142568,1.1139433523068367,1.0,1.2787536009528289,0.47712125471966244,0.47712125471966244,0.47712125471966244,1.3424226808222062,1.3617278360175928,0.47712125471966244,0.3010299956639812,0.6989700043360189,0.8450980400142568,1.0791812460476249,1.2304489213782739,1.1139433523068367,1.5797835966168101,1.2041199826559248,0.0,0.0,0.0,0.0,null,0.47712125471966244,1.7403626894942439,0.3010299956639812,0.47712125471966244,1.2304489213782739,0.6020599913279624,0.7781512503836436,0.0,1.1139433523068367,0.0,0.0,0.6020599913279624,1.3010299956639813,1.6127838567197355,0.7781512503836436,1.2787536009528289,1.591064607026499,0.6020599913279624,0.9542425094393249,1.462397997898956,0.9030899869919435,0.0,0.0,1.0,0.6020599913279624,0.9542425094393249,1.6532125137753437,1.3222192947339193,0.6020599913279624,0.0,1.1760912590556813,1.255272505103306,0.6020599913279624,1.1760912590556813,0.0,0.47712125471966244,1.3617278360175928,2.093421685162235,1.3222192947339193,null,1.5185139398778875,1.1139433523068367,0.0,1.9242792860618816,1.919078092376074,0.0,0.3010299956639812,1.4471580313422192,0.7781512503836436,0.3010299956639812,0.7781512503836436,0.7781512503836436,0.47712125471966244,1.6232492903979006,0.0,0.7781512503836436,0.8450980400142568,0.47712125471966244,0.3010299956639812,0.8450980400142568,0.0,2.0681858617461617,null,1.7708520116421442,2.2121876044039577,null,0.3010299956639812,1.5314789170422551,0.6020599913279624,1.380211241711606,0.3010299956639812,0.8450980400142568,1.3617278360175928,1.4313637641589874,null,1.1760912590556813,1.255272505103306,2.1583624920952498,1.919078092376074,1.4913616938342726,0.3010299956639812,1.6127838567197355,1.1139433523068367,0.0,0.47712125471966244,0.47712125471966244,0.7781512503836436,0.6020599913279624,1.041392685158225,1.0,1.255272505103306,0.9542425094393249,null,1.7160033436347992,1.4771212547196624,1.0791812460476249,0.47712125471966244,0.0,null,1.0791812460476249,0.6020599913279624,1.4913616938342726,1.5314789170422551,1.041392685158225,1.414973347970818,2.711807229041191,1.505149978319906,0.6989700043360189,0.0,null,1.255272505103306,null,null,1.6127838567197355,1.2304489213782739,0.8450980400142568,0.47712125471966244,0.9542425094393249,0.3010299956639812,null,0.3010299956639812,0.3010299956639812,null,0.47712125471966244,0.47712125471966244,null,null,null,0.0,null,1.6020599913279625,0.0,1.2041199826559248,1.462397997898956,0.6020599913279624,null,1.6334684555795866,1.2787536009528289,1.4771212547196624,null,1.3617278360175928,null,0.9542425094393249,1.1760912590556813,0.0,1.146128035678238,0.6989700043360189,0.0,0.47712125471966244,1.2041199826559248,0.6020599913279624,null,1.0,1.0,1.0,0.7781512503836436,0.9542425094393249,1.7403626894942439,null,1.6720978579357175,1.3424226808222062,2.399673721481038,1.380211241711606,null,1.0791812460476249,0.3010299956639812,1.146128035678238,1.414973347970818,1.3424226808222062,0.6020599913279624,null,0.47712125471966244,1.2041199826559248,0.3010299956639812,1.3010299956639813,0.47712125471966244,0.6989700043360189,0.3010299956639812,null,0.47712125471966244,1.0,2.0,1.5797835966168101,1.8388490907372552,0.0,0.9030899869919435,1.5797835966168101,null,0.6020599913279624,1.041392685158225,0.6020599913279624,0.6020599913279624,1.4471580313422192,0.47712125471966244,0.3010299956639812,1.3617278360175928,1.4913616938342726,0.47712125471966244,1.146128035678238,2.075546961392531,1.146128035678238,0.47712125471966244,0.47712125471966244,0.0,0.0,null,0.6989700043360189,1.4471580313422192,null,0.9030899869919435,null,0.3010299956639812,1.0,null,null,0.7781512503836436,0.9542425094393249,0.0,null,1.2304489213782739,0.47712125471966244,null,1.1760912590556813,null,2.423245873936808,2.0492180226701815,1.845098040014257,0.3010299956639812,1.6812412373755872,null,1.2041199826559248,null,0.3010299956639812,null,0.6020599913279624,0.9030899869919435,1.041392685158225,0.8450980400142568,1.8388490907372552,0.0,1.2304489213782739,0.6020599913279624,null,0.47712125471966244,1.3222192947339193,null,0.47712125471966244,0.3010299956639812,0.6020599913279624,0.0,0.9030899869919435,0.6020599913279624,null,1.041392685158225,0.47712125471966244,0.6989700043360189,1.0791812460476249,0.47712125471966244,0.6989700043360189,2.1172712956557644,1.3424226808222062,2.8609366207000937,0.0,0.9030899869919435,0.6020599913279624,1.0791812460476249,0.8450980400142568,1.1760912590556813,1.5185139398778875,0.0,0.6989700043360189,0.6989700043360189,1.7781512503836436,0.6020599913279624,1.0791812460476249,1.806179973983887,1.8750612633917,1.3424226808222062,1.3010299956639813,1.146128035678238,1.662757831681574,1.3617278360175928,0.6020599913279624,null,0.47712125471966244,1.3222192947339193,0.9542425094393249,0.0,1.2041199826559248,1.7323937598229686,0.8450980400142568,0.6989700043360189,1.0791812460476249,null,0.6989700043360189,0.6989700043360189,0.7781512503836436,1.4771212547196624,1.2787536009528289,0.47712125471966244,null,1.146128035678238,null,0.7781512503836436,1.7558748556724915,1.1139433523068367,1.414973347970818,0.47712125471966244,0.6989700043360189,1.041392685158225,0.3010299956639812,1.414973347970818,0.8450980400142568,0.0,null,0.6989700043360189,0.47712125471966244,1.146128035678238,1.041392685158225,0.6989700043360189,0.0,0.7781512503836436,0.3010299956639812,1.7160033436347992,0.9030899869919435,1.0,0.3010299956639812,0.3010299956639812,1.2304489213782739,0.9030899869919435,0.7781512503836436,0.0,0.6989700043360189,1.845098040014257,1.0791812460476249,0.47712125471966244,null,1.3222192947339193,0.3010299956639812,0.6989700043360189,0.0,0.0,1.792391689498254,0.47712125471966244,1.0791812460476249,null,null,0.0,0.0,1.4471580313422192,0.8450980400142568,1.6532125137753437,0.0,1.3424226808222062,0.8450980400142568,null,2.5599066250361124,0.3010299956639812,null,1.0,null,0.0,null,0.3010299956639812,null,0.0,null,1.7558748556724915,2.2013971243204513,0.6020599913279624,1.041392685158225,0.6989700043360189,2.2430380486862944,0.8450980400142568,0.3010299956639812,0.6989700043360189,1.041392685158225,null,0.6989700043360189,0.6020599913279624,0.3010299956639812,1.3979400086720377,0.3010299956639812,0.0,0.3010299956639812,1.2787536009528289,1.2041199826559248,0.47712125471966244,null,0.6020599913279624,0.3010299956639812,0.7781512503836436,0.6020599913279624,1.2787536009528289,0.6020599913279624,0.0,null,0.7781512503836436,1.0,null,0.9542425094393249,0.6020599913279624,1.0791812460476249,1.0791812460476249,1.1139433523068367,1.1760912590556813,0.0,0.7781512503836436,0.3010299956639812,0.3010299956639812,1.0,1.041392685158225,0.9030899869919435,1.146128035678238,1.5314789170422551,null,0.7781512503836436,0.3010299956639812,null,0.6020599913279624,0.0,1.1139433523068367,1.146128035678238,null,null,0.9030899869919435,0.8450980400142568,null,1.4471580313422192,0.7781512503836436,1.4913616938342726,1.1760912590556813,1.9444826721501687,2.2121876044039577,0.3010299956639812,1.0,1.7323937598229686,1.0,1.8195439355418688,0.6989700043360189,1.5563025007672873,1.7781512503836436,0.6020599913279624,0.8450980400142568,0.0,1.3010299956639813,0.0,null,0.0,1.4913616938342726,null,0.6020599913279624,0.3010299956639812,0.0,1.146128035678238,2.0043213737826426,1.2787536009528289,0.6020599913279624,0.9542425094393249,1.2041199826559248,1.1760912590556813,null,1.2041199826559248,0.3010299956639812,0.8450980400142568,0.6989700043360189,0.47712125471966244,0.6989700043360189,0.6989700043360189,0.6989700043360189,1.0791812460476249,0.6989700043360189,0.7781512503836436,0.6020599913279624,0.47712125471966244,null,null,0.9030899869919435,0.9030899869919435,1.380211241711606,1.0,null,0.47712125471966244,0.8450980400142568,0.47712125471966244,0.47712125471966244,1.1139433523068367,1.7853298350107671,0.8450980400142568,1.6720978579357175,0.6989700043360189,0.8450980400142568,1.5563025007672873,0.9030899869919435,1.2787536009528289,0.6020599913279624,0.3010299956639812,0.3010299956639812,0.47712125471966244,0.7781512503836436,0.9030899869919435,1.0791812460476249,0.6989700043360189,0.0,0.9542425094393249,1.0791812460476249,0.9030899869919435,2.3138672203691533,0.9542425094393249,0.6989700043360189,1.5797835966168101,1.2041199826559248,null,2.2013971243204513,1.3617278360175928,1.0791812460476249,null,1.6127838567197355,1.3617278360175928,1.5185139398778875,1.2787536009528289,0.8450980400142568,1.3010299956639813,1.5797835966168101,0.7781512503836436,1.845098040014257,null,1.1139433523068367,1.5314789170422551,0.6020599913279624,0.6020599913279624,0.6989700043360189,1.7481880270062005,0.47712125471966244,0.6989700043360189,0.8450980400142568,0.0,2.093421685162235,0.9030899869919435,0.3010299956639812,1.568201724066995,0.8450980400142568,1.0,null,1.5563025007672873,0.47712125471966244,0.9030899869919435,null,1.0,1.7403626894942439,null,1.2304489213782739,1.462397997898956,0.9030899869919435,null,0.6020599913279624,1.6232492903979006,1.1139433523068367,1.9138138523837167,1.7403626894942439,1.2041199826559248,0.6020599913279624,1.5314789170422551,1.0,0.8450980400142568,0.47712125471966244,0.8450980400142568,0.6989700043360189,1.0791812460476249,1.146128035678238,0.7781512503836436,0.0,1.3979400086720377,1.414973347970818,0.6989700043360189,1.1139433523068367,1.7160033436347992,1.2041199826559248,1.6334684555795866,0.0,0.3010299956639812,0.7781512503836436,0.8450980400142568,0.7781512503836436,1.1139433523068367,0.8450980400142568,0.47712125471966244,0.7781512503836436,0.6989700043360189,0.3010299956639812,0.0,null,1.4471580313422192,0.7781512503836436,0.0,0.6020599913279624,1.2787536009528289,0.3010299956639812,null,0.3010299956639812,1.5440680443502757,0.6020599913279624,0.0,0.47712125471966244,0.3010299956639812,1.0791812460476249,null,1.6812412373755872,0.3010299956639812,0.6020599913279624,1.146128035678238,2.3873898263387296,1.3424226808222062,1.6232492903979006,0.7781512503836436,1.0,1.146128035678238,0.6989700043360189,0.9542425094393249,1.0791812460476249,0.47712125471966244,0.3010299956639812,0.47712125471966244,0.3010299956639812,1.0791812460476249,0.0,1.9731278535996986,1.1760912590556813,0.6020599913279624,1.8976270912904414,1.255272505103306,1.2787536009528289,1.0,1.0791812460476249,1.1139433523068367,1.3222192947339193,1.041392685158225,0.6020599913279624,0.7781512503836436,0.3010299956639812,0.47712125471966244,0.6020599913279624,0.47712125471966244,1.0791812460476249,0.0,null,null,0.0,0.3010299956639812,1.2787536009528289,0.0,null,2.2329961103921536,0.6020599913279624,0.0,1.2304489213782739,1.4313637641589874,1.6720978579357175,0.0,0.0,0.9030899869919435,1.591064607026499,0.6020599913279624,0.6020599913279624,1.7558748556724915,0.47712125471966244,0.3010299956639812,1.4771212547196624,0.3010299956639812,0.47712125471966244,1.2304489213782739,null,1.041392685158225,2.2227164711475833,1.5797835966168101,2.1172712956557644,1.0791812460476249,0.8450980400142568,0.6020599913279624,1.146128035678238,0.7781512503836436,1.9344984512435677,1.0,null,1.2787536009528289,0.9542425094393249,1.568201724066995,0.8450980400142568,0.6020599913279624,0.47712125471966244,1.845098040014257,1.2304489213782739,0.0,0.6989700043360189,0.6989700043360189,1.3222192947339193,1.5185139398778875,1.1139433523068367,null,0.9542425094393249,2.0681858617461617,1.5185139398778875,0.47712125471966244,1.041392685158225,1.3010299956639813,1.662757831681574,1.3424226808222062,0.0,0.0,0.47712125471966244,null,0.8450980400142568,0.6020599913279624,0.0,0.9542425094393249,1.380211241711606,0.0,0.9030899869919435,0.8450980400142568,0.3010299956639812,0.3010299956639812,1.462397997898956,1.380211241711606,0.3010299956639812,1.2304489213782739,null,0.3010299956639812,0.9542425094393249,0.6989700043360189,null,0.3010299956639812,0.3010299956639812,1.255272505103306,1.0791812460476249,0.7781512503836436,0.6989700043360189,1.146128035678238,1.2787536009528289,1.7708520116421442,0.6020599913279624,1.0,1.0791812460476249,1.4313637641589874,0.0,1.6334684555795866,0.7781512503836436,null,0.3010299956639812,0.9030899869919435,0.6020599913279624,0.0,0.0,0.47712125471966244,0.6020599913279624,0.0,0.9030899869919435,0.7781512503836436,null,1.1139433523068367,1.3617278360175928,0.47712125471966244,1.3222192947339193,1.4771212547196624,1.0,1.6232492903979006,0.9542425094393249,2.4983105537896004,0.9542425094393249,0.6020599913279624,1.3222192947339193,0.3010299956639812,1.6901960800285136,null,1.1139433523068367,1.8129133566428555,null,0.9030899869919435,0.0,0.47712125471966244,1.0791812460476249,1.041392685158225,1.255272505103306,1.6434526764861874,1.7075701760979363,1.6989700043360187,1.041392685158225,1.4313637641589874,0.8450980400142568,0.7781512503836436,1.041392685158225,0.3010299956639812,1.0,0.6989700043360189,0.47712125471966244,null,0.47712125471966244,0.6020599913279624,null,0.0,0.47712125471966244,1.7481880270062005,1.255272505103306,null,0.6020599913279624,0.0,null,1.0791812460476249,0.6020599913279624,null,2.113943352306837,1.0791812460476249,0.3010299956639812,1.2041199826559248,0.0,1.2787536009528289,1.5797835966168101,1.6232492903979006,0.47712125471966244,0.47712125471966244,0.7781512503836436,0.0,1.9242792860618816,1.7323937598229686,1.255272505103306,1.8808135922807914,1.3424226808222062,0.3010299956639812,1.146128035678238,1.3222192947339193,1.1760912590556813,0.47712125471966244,0.6989700043360189,null,1.1139433523068367,1.5440680443502757,0.47712125471966244,0.3010299956639812,1.0791812460476249,0.9542425094393249,0.6989700043360189,0.0,0.6020599913279624,null,0.9542425094393249,0.3010299956639812,0.7781512503836436,0.3010299956639812,1.591064607026499,1.0,0.47712125471966244,0.9030899869919435,1.3979400086720377,0.6020599913279624,1.0,0.7781512503836436,1.255272505103306,0.0,1.1139433523068367,1.6434526764861874,1.255272505103306,1.4313637641589874,1.380211241711606,2.3138672203691533,0.0,1.2041199826559248,1.462397997898956,1.2304489213782739,0.0,0.6989700043360189,1.0,0.47712125471966244,1.3222192947339193,0.0,1.1139433523068367,0.9030899869919435,0.7781512503836436,1.041392685158225,null,0.6989700043360189,0.3010299956639812,0.3010299956639812,1.146128035678238,null,1.3979400086720377,null,0.9542425094393249,1.5797835966168101,1.7481880270062005,1.041392685158225,0.9542425094393249,0.7781512503836436,0.6989700043360189,0.0,0.7781512503836436,1.0,0.9542425094393249,null,1.1139433523068367,0.9542425094393249,0.0,0.8450980400142568,0.0,0.3010299956639812,null,1.3424226808222062,1.662757831681574,1.4313637641589874,1.2041199826559248,1.2304489213782739,1.4471580313422192,0.6020599913279624,0.0,0.7781512503836436,0.6020599913279624,0.6989700043360189,0.6989700043360189,1.1139433523068367,0.7781512503836436,0.6989700043360189,0.9030899869919435,0.9542425094393249,0.7781512503836436,0.47712125471966244,1.568201724066995,0.0,0.9030899869919435,0.9030899869919435,0.0,0.6020599913279624,0.9030899869919435,1.7558748556724915,0.7781512503836436,1.380211241711606,0.6020599913279624,0.3010299956639812,0.9030899869919435,1.414973347970818,1.2304489213782739,1.6020599913279625,1.2041199826559248,1.414973347970818,1.2041199826559248,1.4771212547196624,1.0791812460476249,1.5185139398778875,0.7781512503836436,null,0.9030899869919435,0.7781512503836436,0.6020599913279624,0.9542425094393249,1.041392685158225,0.47712125471966244,1.380211241711606,0.3010299956639812,0.0,0.9030899869919435,2.2013971243204513,1.6720978579357175,0.8450980400142568,1.3010299956639813,1.1139433523068367,0.47712125471966244,null,0.9542425094393249,0.3010299956639812,1.146128035678238,1.0791812460476249,0.0,1.792391689498254,0.3010299956639812,0.7781512503836436,0.6989700043360189,null,0.3010299956639812,0.0,0.9030899869919435,0.47712125471966244,null,0.8450980400142568,0.6989700043360189,0.8450980400142568,1.1139433523068367,1.3617278360175928,0.8450980400142568,1.2041199826559248,1.2304489213782739,0.8450980400142568,1.3617278360175928,null,1.414973347970818,0.3010299956639812,1.1139433523068367,0.3010299956639812,0.6989700043360189,0.9030899869919435,0.3010299956639812,1.2304489213782739,0.3010299956639812,0.6989700043360189,0.47712125471966244,1.1760912590556813,null,0.6020599913279624,1.2787536009528289,1.041392685158225,0.6020599913279624,1.4313637641589874,0.47712125471966244,0.9030899869919435,1.3979400086720377,0.0,0.6020599913279624,0.47712125471966244,0.0,0.47712125471966244,1.7481880270062005,1.462397997898956,1.6020599913279625,null,0.0,1.2304489213782739,0.3010299956639812,0.47712125471966244,1.3010299956639813,0.6020599913279624,1.0,1.1139433523068367,1.255272505103306,null,0.0,0.0,0.3010299956639812,0.3010299956639812,0.6020599913279624,null,0.9542425094393249,0.9030899869919435,null,1.1760912590556813,1.5314789170422551,1.0,0.6020599913279624,1.0,0.47712125471966244,1.5185139398778875,1.0,0.9542425094393249,0.0,2.155336037465062,1.6812412373755872,1.9542425094393248,0.47712125471966244,0.9030899869919435,1.255272505103306,1.2787536009528289,0.7781512503836436,1.4471580313422192,0.0,0.0,1.6232492903979006,1.6334684555795866,0.3010299956639812,1.041392685158225,null,0.47712125471966244,0.3010299956639812,0.6020599913279624,0.6020599913279624,1.2304489213782739,0.6989700043360189,1.0791812460476249,1.5440680443502757,2.3010299956639813,1.1139433523068367,1.1139433523068367,0.9030899869919435,null,null,0.0,1.1760912590556813,null,null,null,0.6020599913279624,0.0,0.0,1.146128035678238,0.3010299956639812,0.6020599913279624,0.47712125471966244,0.9542425094393249,0.6020599913279624,2.1583624920952498,null,null,0.3010299956639812,1.255272505103306,null,0.6020599913279624,0.47712125471966244,0.9542425094393249,1.041392685158225,1.146128035678238,null,1.1139433523068367,1.041392685158225,1.3010299956639813,1.8976270912904414,0.8450980400142568,0.47712125471966244,0.3010299956639812,1.3979400086720377,1.3617278360175928,1.0791812460476249,1.7323937598229686,0.8450980400142568,null,0.7781512503836436,0.9542425094393249,1.2787536009528289,0.0,1.041392685158225,1.380211241711606,1.2787536009528289,0.6020599913279624,0.0,1.0,0.47712125471966244,0.7781512503836436,1.7634279935629373,1.5185139398778875,0.8450980400142568,1.591064607026499,1.5563025007672873,1.462397997898956,1.9444826721501687,0.47712125471966244,1.4313637641589874,0.9030899869919435,0.6020599913279624,0.8450980400142568,1.1139433523068367,1.2787536009528289,2.1492191126553797,0.9542425094393249,1.2787536009528289,0.47712125471966244,1.8260748027008264,1.0,1.1139433523068367,1.041392685158225,1.0,1.380211241711606,null,1.3979400086720377,0.8450980400142568,0.3010299956639812,0.8450980400142568,1.1760912590556813,0.6989700043360189,0.0,null,0.3010299956639812,0.3010299956639812,0.0,1.4913616938342726,0.47712125471966244,1.8920946026904804,1.3222192947339193,0.0,0.47712125471966244,0.3010299956639812,0.0,0.3010299956639812,1.3979400086720377,0.8450980400142568,1.414973347970818,1.662757831681574,0.9030899869919435,2.0211892990699383,0.9030899869919435,1.146128035678238,0.9542425094393249,1.8750612633917,1.414973347970818,1.1139433523068367,1.462397997898956,1.1139433523068367,0.7781512503836436,0.3010299956639812,1.041392685158225,1.9294189257142929,1.146128035678238,0.3010299956639812,0.3010299956639812,null,0.0,0.0,0.6989700043360189,0.7781512503836436,1.5185139398778875,0.0,0.9030899869919435,1.1760912590556813,1.3222192947339193,1.1760912590556813,null,0.6989700043360189,1.041392685158225,null,0.6989700043360189,0.0,null,1.6434526764861874,null,0.47712125471966244,0.8450980400142568,0.3010299956639812,1.1760912590556813,1.505149978319906,0.3010299956639812,1.1139433523068367,0.6020599913279624,0.0,0.9542425094393249,1.3010299956639813,0.7781512503836436,null,0.8450980400142568,0.3010299956639812,1.146128035678238,1.8388490907372552,1.5185139398778875,1.2787536009528289,1.505149978319906,0.8450980400142568,1.6020599913279625,0.8450980400142568,1.2304489213782739,null,1.5440680443502757,0.7781512503836436,0.3010299956639812,1.4913616938342726,0.6020599913279624,1.568201724066995,0.3010299956639812,0.7781512503836436,0.7781512503836436,0.3010299956639812,1.414973347970818,null,0.6020599913279624,0.3010299956639812,1.7242758696007892,0.9542425094393249,1.0,2.2430380486862944,1.3010299956639813,1.2041199826559248,1.0791812460476249,2.0170333392987803,1.1760912590556813,0.8450980400142568,0.3010299956639812,0.47712125471966244,1.0791812460476249,0.9542425094393249,0.3010299956639812,1.2787536009528289,null,0.3010299956639812,null,0.3010299956639812,0.3010299956639812,0.47712125471966244,0.3010299956639812,1.3979400086720377,0.3010299956639812,0.3010299956639812,0.47712125471966244,0.8450980400142568,0.6020599913279624,null,1.3424226808222062,1.0,null,0.3010299956639812,null,0.47712125471966244,0.3010299956639812,0.0,2.1492191126553797,null,0.47712125471966244,0.9542425094393249,1.7403626894942439,0.47712125471966244,0.0,0.7781512503836436,0.3010299956639812,0.9542425094393249,0.9542425094393249,0.6020599913279624,1.1139433523068367,1.0,0.6989700043360189,1.4771212547196624,0.9542425094393249,1.4313637641589874,0.6020599913279624,0.6020599913279624,1.146128035678238,0.6020599913279624,1.6020599913279625,0.6020599913279624,0.3010299956639812,0.47712125471966244,1.1139433523068367,1.3424226808222062,0.6989700043360189,0.0,null,2.0492180226701815,2.303196057420489,1.505149978319906,1.9294189257142929,1.1760912590556813,1.568201724066995,0.6020599913279624,0.0,1.505149978319906,0.3010299956639812,1.1760912590556813,1.0,1.505149978319906,null,null,0.3010299956639812,0.0,0.3010299956639812,0.47712125471966244,0.3010299956639812,1.0791812460476249,0.0,0.9542425094393249,0.6989700043360189,0.6020599913279624,0.3010299956639812,0.7781512503836436,0.0,0.3010299956639812,2.075546961392531,0.3010299956639812,1.5563025007672873,1.7781512503836436,1.0,1.4771212547196624,1.462397997898956,1.041392685158225,0.8450980400142568,0.47712125471966244,0.6989700043360189,1.6020599913279625,1.5563025007672873,0.7781512503836436,1.0,null,1.5185139398778875,1.146128035678238,0.6989700043360189,0.0,0.47712125471966244,null,0.0,0.8450980400142568,2.250420002308894,0.6989700043360189,0.47712125471966244,0.9030899869919435,0.6020599913279624,1.146128035678238,null,1.0791812460476249,0.6020599913279624,1.146128035678238,0.6020599913279624,0.9030899869919435,0.7781512503836436,0.9542425094393249,0.7781512503836436,1.2787536009528289,0.6989700043360189,1.2787536009528289,null,0.0,null,0.6989700043360189,0.0,0.3010299956639812,1.0,0.6020599913279624,0.8450980400142568,0.6989700043360189,0.3010299956639812,0.3010299956639812,0.8450980400142568,null,1.4913616938342726,1.146128035678238,0.9030899869919435,null,1.2304489213782739,null,0.47712125471966244,1.505149978319906,1.2041199826559248,0.0,0.9542425094393249,1.5797835966168101,1.380211241711606,1.2304489213782739,1.5440680443502757,0.6989700043360189,0.9030899869919435,0.0,1.2304489213782739,null,1.2304489213782739,0.0,1.1139433523068367,null,1.7160033436347992,0.47712125471966244,0.0,0.3010299956639812,1.2787536009528289,0.6020599913279624,1.9030899869919435,0.3010299956639812,1.3424226808222062,0.7781512503836436,0.0,0.8450980400142568,1.6434526764861874,0.8450980400142568,0.6020599913279624,0.47712125471966244,2.0569048513364727],\"y0\":\" \",\"yaxis\":\"y\",\"type\":\"box\"},{\"alignmentgroup\":\"True\",\"hovertemplate\":\"Install_category=%{x}\\u003cbr\\u003ey=%{y}\\u003cextra\\u003e\\u003c\\u002fextra\\u003e\",\"legendgroup\":\"Medium\",\"marker\":{\"color\":\"#ab63fa\"},\"name\":\"Medium\",\"notched\":false,\"offsetgroup\":\"Medium\",\"orientation\":\"v\",\"showlegend\":true,\"x\":[\"Medium\",\"Medium\",\"Medium\",\"Medium\",\"Medium\",\"Medium\",\"Medium\",\"Medium\",\"Medium\",\"Medium\",\"Medium\",\"Medium\",\"Medium\",\"Medium\",\"Medium\",\"Medium\",\"Medium\",\"Medium\",\"Medium\",\"Medium\",\"Medium\",\"Medium\",\"Medium\",\"Medium\",\"Medium\",\"Medium\",\"Medium\",\"Medium\",\"Medium\",\"Medium\",\"Medium\",\"Medium\",\"Medium\",\"Medium\",\"Medium\",\"Medium\",\"Medium\",\"Medium\",\"Medium\",\"Medium\",\"Medium\",\"Medium\",\"Medium\",\"Medium\",\"Medium\",\"Medium\",\"Medium\",\"Medium\",\"Medium\",\"Medium\",\"Medium\",\"Medium\",\"Medium\",\"Medium\",\"Medium\",\"Medium\",\"Medium\",\"Medium\",\"Medium\",\"Medium\",\"Medium\",\"Medium\",\"Medium\",\"Medium\",\"Medium\",\"Medium\",\"Medium\",\"Medium\",\"Medium\",\"Medium\",\"Medium\",\"Medium\",\"Medium\",\"Medium\",\"Medium\",\"Medium\",\"Medium\",\"Medium\",\"Medium\",\"Medium\",\"Medium\",\"Medium\",\"Medium\",\"Medium\",\"Medium\",\"Medium\",\"Medium\",\"Medium\",\"Medium\",\"Medium\",\"Medium\",\"Medium\",\"Medium\",\"Medium\",\"Medium\",\"Medium\",\"Medium\",\"Medium\",\"Medium\",\"Medium\",\"Medium\",\"Medium\",\"Medium\",\"Medium\",\"Medium\",\"Medium\",\"Medium\",\"Medium\",\"Medium\",\"Medium\",\"Medium\",\"Medium\",\"Medium\",\"Medium\",\"Medium\",\"Medium\",\"Medium\",\"Medium\",\"Medium\",\"Medium\",\"Medium\",\"Medium\",\"Medium\",\"Medium\",\"Medium\",\"Medium\",\"Medium\",\"Medium\",\"Medium\",\"Medium\",\"Medium\",\"Medium\",\"Medium\",\"Medium\",\"Medium\",\"Medium\",\"Medium\",\"Medium\",\"Medium\",\"Medium\",\"Medium\",\"Medium\",\"Medium\",\"Medium\",\"Medium\",\"Medium\",\"Medium\",\"Medium\",\"Medium\",\"Medium\",\"Medium\",\"Medium\",\"Medium\",\"Medium\",\"Medium\",\"Medium\",\"Medium\",\"Medium\",\"Medium\",\"Medium\",\"Medium\",\"Medium\",\"Medium\",\"Medium\",\"Medium\",\"Medium\",\"Medium\",\"Medium\",\"Medium\",\"Medium\",\"Medium\",\"Medium\",\"Medium\",\"Medium\",\"Medium\",\"Medium\",\"Medium\",\"Medium\",\"Medium\",\"Medium\",\"Medium\",\"Medium\",\"Medium\",\"Medium\",\"Medium\",\"Medium\",\"Medium\",\"Medium\",\"Medium\",\"Medium\",\"Medium\",\"Medium\",\"Medium\",\"Medium\",\"Medium\",\"Medium\",\"Medium\",\"Medium\",\"Medium\",\"Medium\",\"Medium\",\"Medium\",\"Medium\",\"Medium\",\"Medium\",\"Medium\",\"Medium\",\"Medium\",\"Medium\",\"Medium\",\"Medium\",\"Medium\",\"Medium\",\"Medium\",\"Medium\",\"Medium\",\"Medium\",\"Medium\",\"Medium\",\"Medium\",\"Medium\",\"Medium\",\"Medium\",\"Medium\",\"Medium\",\"Medium\",\"Medium\",\"Medium\",\"Medium\",\"Medium\",\"Medium\",\"Medium\",\"Medium\",\"Medium\",\"Medium\",\"Medium\",\"Medium\",\"Medium\",\"Medium\",\"Medium\",\"Medium\",\"Medium\",\"Medium\",\"Medium\",\"Medium\",\"Medium\",\"Medium\",\"Medium\",\"Medium\",\"Medium\",\"Medium\",\"Medium\",\"Medium\",\"Medium\",\"Medium\",\"Medium\",\"Medium\",\"Medium\",\"Medium\",\"Medium\",\"Medium\",\"Medium\",\"Medium\",\"Medium\",\"Medium\",\"Medium\",\"Medium\",\"Medium\",\"Medium\",\"Medium\",\"Medium\",\"Medium\",\"Medium\",\"Medium\",\"Medium\",\"Medium\",\"Medium\",\"Medium\",\"Medium\",\"Medium\",\"Medium\",\"Medium\",\"Medium\",\"Medium\",\"Medium\",\"Medium\",\"Medium\",\"Medium\",\"Medium\",\"Medium\",\"Medium\",\"Medium\",\"Medium\",\"Medium\",\"Medium\",\"Medium\",\"Medium\",\"Medium\",\"Medium\",\"Medium\",\"Medium\",\"Medium\",\"Medium\",\"Medium\",\"Medium\",\"Medium\",\"Medium\",\"Medium\",\"Medium\",\"Medium\",\"Medium\",\"Medium\",\"Medium\",\"Medium\",\"Medium\",\"Medium\",\"Medium\",\"Medium\",\"Medium\",\"Medium\",\"Medium\",\"Medium\",\"Medium\",\"Medium\",\"Medium\",\"Medium\",\"Medium\",\"Medium\",\"Medium\",\"Medium\",\"Medium\",\"Medium\",\"Medium\",\"Medium\",\"Medium\",\"Medium\",\"Medium\",\"Medium\",\"Medium\",\"Medium\",\"Medium\",\"Medium\",\"Medium\",\"Medium\",\"Medium\",\"Medium\",\"Medium\",\"Medium\",\"Medium\",\"Medium\",\"Medium\",\"Medium\",\"Medium\",\"Medium\",\"Medium\",\"Medium\",\"Medium\",\"Medium\",\"Medium\",\"Medium\",\"Medium\",\"Medium\",\"Medium\",\"Medium\",\"Medium\",\"Medium\",\"Medium\",\"Medium\",\"Medium\",\"Medium\",\"Medium\",\"Medium\",\"Medium\",\"Medium\",\"Medium\",\"Medium\",\"Medium\",\"Medium\",\"Medium\",\"Medium\",\"Medium\",\"Medium\",\"Medium\",\"Medium\",\"Medium\",\"Medium\",\"Medium\",\"Medium\",\"Medium\",\"Medium\",\"Medium\",\"Medium\",\"Medium\",\"Medium\",\"Medium\",\"Medium\",\"Medium\",\"Medium\",\"Medium\",\"Medium\",\"Medium\",\"Medium\",\"Medium\",\"Medium\",\"Medium\",\"Medium\",\"Medium\",\"Medium\",\"Medium\",\"Medium\",\"Medium\",\"Medium\",\"Medium\",\"Medium\",\"Medium\",\"Medium\",\"Medium\",\"Medium\",\"Medium\",\"Medium\",\"Medium\",\"Medium\",\"Medium\",\"Medium\",\"Medium\",\"Medium\",\"Medium\",\"Medium\",\"Medium\",\"Medium\",\"Medium\",\"Medium\",\"Medium\",\"Medium\",\"Medium\",\"Medium\",\"Medium\",\"Medium\",\"Medium\",\"Medium\",\"Medium\",\"Medium\",\"Medium\",\"Medium\",\"Medium\",\"Medium\",\"Medium\",\"Medium\",\"Medium\",\"Medium\",\"Medium\",\"Medium\",\"Medium\",\"Medium\",\"Medium\",\"Medium\",\"Medium\",\"Medium\",\"Medium\",\"Medium\",\"Medium\",\"Medium\",\"Medium\",\"Medium\",\"Medium\",\"Medium\",\"Medium\",\"Medium\",\"Medium\",\"Medium\",\"Medium\",\"Medium\",\"Medium\",\"Medium\",\"Medium\",\"Medium\",\"Medium\",\"Medium\",\"Medium\",\"Medium\",\"Medium\",\"Medium\",\"Medium\",\"Medium\",\"Medium\",\"Medium\",\"Medium\",\"Medium\",\"Medium\",\"Medium\",\"Medium\",\"Medium\",\"Medium\",\"Medium\",\"Medium\",\"Medium\",\"Medium\",\"Medium\",\"Medium\",\"Medium\",\"Medium\",\"Medium\",\"Medium\",\"Medium\",\"Medium\",\"Medium\",\"Medium\",\"Medium\",\"Medium\",\"Medium\",\"Medium\",\"Medium\",\"Medium\",\"Medium\",\"Medium\",\"Medium\",\"Medium\",\"Medium\",\"Medium\",\"Medium\",\"Medium\",\"Medium\",\"Medium\",\"Medium\",\"Medium\",\"Medium\",\"Medium\",\"Medium\",\"Medium\",\"Medium\",\"Medium\",\"Medium\",\"Medium\",\"Medium\",\"Medium\",\"Medium\",\"Medium\",\"Medium\",\"Medium\",\"Medium\",\"Medium\",\"Medium\",\"Medium\",\"Medium\",\"Medium\",\"Medium\",\"Medium\",\"Medium\",\"Medium\",\"Medium\",\"Medium\",\"Medium\",\"Medium\",\"Medium\",\"Medium\",\"Medium\",\"Medium\",\"Medium\",\"Medium\",\"Medium\",\"Medium\",\"Medium\",\"Medium\",\"Medium\",\"Medium\",\"Medium\",\"Medium\",\"Medium\",\"Medium\",\"Medium\",\"Medium\",\"Medium\",\"Medium\",\"Medium\",\"Medium\",\"Medium\",\"Medium\",\"Medium\",\"Medium\",\"Medium\",\"Medium\",\"Medium\",\"Medium\",\"Medium\",\"Medium\",\"Medium\",\"Medium\",\"Medium\",\"Medium\",\"Medium\",\"Medium\",\"Medium\",\"Medium\",\"Medium\",\"Medium\",\"Medium\",\"Medium\",\"Medium\",\"Medium\",\"Medium\",\"Medium\",\"Medium\",\"Medium\",\"Medium\",\"Medium\",\"Medium\",\"Medium\",\"Medium\",\"Medium\",\"Medium\",\"Medium\",\"Medium\",\"Medium\",\"Medium\",\"Medium\",\"Medium\",\"Medium\",\"Medium\",\"Medium\",\"Medium\",\"Medium\",\"Medium\",\"Medium\",\"Medium\",\"Medium\",\"Medium\",\"Medium\",\"Medium\",\"Medium\",\"Medium\",\"Medium\",\"Medium\",\"Medium\",\"Medium\",\"Medium\",\"Medium\",\"Medium\",\"Medium\",\"Medium\",\"Medium\",\"Medium\",\"Medium\",\"Medium\",\"Medium\",\"Medium\",\"Medium\",\"Medium\",\"Medium\",\"Medium\",\"Medium\",\"Medium\",\"Medium\",\"Medium\",\"Medium\",\"Medium\",\"Medium\",\"Medium\",\"Medium\",\"Medium\",\"Medium\",\"Medium\",\"Medium\",\"Medium\",\"Medium\",\"Medium\",\"Medium\",\"Medium\",\"Medium\",\"Medium\",\"Medium\",\"Medium\",\"Medium\",\"Medium\",\"Medium\",\"Medium\",\"Medium\",\"Medium\",\"Medium\",\"Medium\",\"Medium\",\"Medium\",\"Medium\",\"Medium\",\"Medium\",\"Medium\",\"Medium\",\"Medium\",\"Medium\",\"Medium\",\"Medium\",\"Medium\",\"Medium\",\"Medium\",\"Medium\",\"Medium\",\"Medium\",\"Medium\",\"Medium\",\"Medium\",\"Medium\",\"Medium\",\"Medium\",\"Medium\",\"Medium\",\"Medium\",\"Medium\",\"Medium\",\"Medium\",\"Medium\",\"Medium\",\"Medium\",\"Medium\",\"Medium\",\"Medium\",\"Medium\",\"Medium\",\"Medium\",\"Medium\",\"Medium\",\"Medium\",\"Medium\",\"Medium\",\"Medium\",\"Medium\",\"Medium\",\"Medium\",\"Medium\",\"Medium\",\"Medium\",\"Medium\",\"Medium\",\"Medium\",\"Medium\",\"Medium\",\"Medium\",\"Medium\",\"Medium\",\"Medium\",\"Medium\",\"Medium\",\"Medium\",\"Medium\",\"Medium\",\"Medium\",\"Medium\",\"Medium\",\"Medium\",\"Medium\",\"Medium\",\"Medium\",\"Medium\",\"Medium\",\"Medium\",\"Medium\",\"Medium\",\"Medium\",\"Medium\",\"Medium\",\"Medium\",\"Medium\",\"Medium\",\"Medium\",\"Medium\",\"Medium\",\"Medium\",\"Medium\",\"Medium\",\"Medium\",\"Medium\",\"Medium\",\"Medium\",\"Medium\",\"Medium\",\"Medium\",\"Medium\",\"Medium\",\"Medium\",\"Medium\",\"Medium\",\"Medium\",\"Medium\",\"Medium\",\"Medium\",\"Medium\",\"Medium\",\"Medium\",\"Medium\",\"Medium\",\"Medium\",\"Medium\",\"Medium\",\"Medium\",\"Medium\",\"Medium\",\"Medium\",\"Medium\",\"Medium\",\"Medium\",\"Medium\",\"Medium\",\"Medium\",\"Medium\",\"Medium\",\"Medium\",\"Medium\",\"Medium\",\"Medium\",\"Medium\",\"Medium\",\"Medium\",\"Medium\",\"Medium\",\"Medium\",\"Medium\",\"Medium\",\"Medium\",\"Medium\",\"Medium\",\"Medium\",\"Medium\",\"Medium\",\"Medium\",\"Medium\",\"Medium\",\"Medium\",\"Medium\",\"Medium\",\"Medium\",\"Medium\",\"Medium\",\"Medium\",\"Medium\",\"Medium\",\"Medium\",\"Medium\",\"Medium\",\"Medium\",\"Medium\",\"Medium\",\"Medium\",\"Medium\",\"Medium\",\"Medium\",\"Medium\",\"Medium\",\"Medium\",\"Medium\",\"Medium\",\"Medium\",\"Medium\",\"Medium\",\"Medium\",\"Medium\",\"Medium\",\"Medium\",\"Medium\",\"Medium\",\"Medium\",\"Medium\",\"Medium\",\"Medium\",\"Medium\",\"Medium\",\"Medium\",\"Medium\",\"Medium\",\"Medium\",\"Medium\",\"Medium\",\"Medium\",\"Medium\",\"Medium\",\"Medium\",\"Medium\",\"Medium\",\"Medium\",\"Medium\",\"Medium\",\"Medium\",\"Medium\",\"Medium\",\"Medium\",\"Medium\",\"Medium\",\"Medium\",\"Medium\",\"Medium\",\"Medium\",\"Medium\",\"Medium\",\"Medium\",\"Medium\",\"Medium\",\"Medium\",\"Medium\",\"Medium\",\"Medium\",\"Medium\",\"Medium\",\"Medium\",\"Medium\",\"Medium\",\"Medium\",\"Medium\",\"Medium\",\"Medium\",\"Medium\",\"Medium\",\"Medium\",\"Medium\",\"Medium\",\"Medium\",\"Medium\",\"Medium\",\"Medium\",\"Medium\",\"Medium\",\"Medium\",\"Medium\",\"Medium\",\"Medium\",\"Medium\",\"Medium\",\"Medium\",\"Medium\",\"Medium\",\"Medium\",\"Medium\",\"Medium\",\"Medium\",\"Medium\",\"Medium\",\"Medium\",\"Medium\",\"Medium\",\"Medium\",\"Medium\",\"Medium\",\"Medium\",\"Medium\",\"Medium\",\"Medium\",\"Medium\",\"Medium\",\"Medium\",\"Medium\",\"Medium\",\"Medium\",\"Medium\",\"Medium\",\"Medium\",\"Medium\",\"Medium\",\"Medium\",\"Medium\",\"Medium\",\"Medium\",\"Medium\",\"Medium\",\"Medium\",\"Medium\",\"Medium\",\"Medium\",\"Medium\",\"Medium\",\"Medium\",\"Medium\",\"Medium\",\"Medium\",\"Medium\",\"Medium\",\"Medium\",\"Medium\",\"Medium\",\"Medium\",\"Medium\",\"Medium\",\"Medium\",\"Medium\",\"Medium\",\"Medium\",\"Medium\",\"Medium\",\"Medium\",\"Medium\",\"Medium\",\"Medium\",\"Medium\",\"Medium\",\"Medium\",\"Medium\",\"Medium\",\"Medium\",\"Medium\",\"Medium\",\"Medium\",\"Medium\",\"Medium\",\"Medium\",\"Medium\",\"Medium\",\"Medium\",\"Medium\",\"Medium\",\"Medium\",\"Medium\",\"Medium\",\"Medium\",\"Medium\",\"Medium\",\"Medium\",\"Medium\",\"Medium\",\"Medium\",\"Medium\",\"Medium\",\"Medium\",\"Medium\",\"Medium\",\"Medium\",\"Medium\",\"Medium\",\"Medium\",\"Medium\",\"Medium\",\"Medium\",\"Medium\",\"Medium\",\"Medium\",\"Medium\",\"Medium\",\"Medium\",\"Medium\",\"Medium\",\"Medium\",\"Medium\",\"Medium\",\"Medium\",\"Medium\",\"Medium\",\"Medium\",\"Medium\",\"Medium\",\"Medium\",\"Medium\",\"Medium\",\"Medium\",\"Medium\",\"Medium\",\"Medium\",\"Medium\",\"Medium\",\"Medium\",\"Medium\",\"Medium\",\"Medium\",\"Medium\",\"Medium\",\"Medium\",\"Medium\",\"Medium\",\"Medium\",\"Medium\",\"Medium\",\"Medium\",\"Medium\",\"Medium\",\"Medium\",\"Medium\",\"Medium\",\"Medium\",\"Medium\",\"Medium\",\"Medium\",\"Medium\",\"Medium\",\"Medium\",\"Medium\",\"Medium\",\"Medium\",\"Medium\",\"Medium\",\"Medium\",\"Medium\",\"Medium\",\"Medium\",\"Medium\",\"Medium\",\"Medium\",\"Medium\",\"Medium\",\"Medium\",\"Medium\",\"Medium\",\"Medium\",\"Medium\",\"Medium\",\"Medium\",\"Medium\",\"Medium\",\"Medium\",\"Medium\",\"Medium\",\"Medium\",\"Medium\",\"Medium\",\"Medium\",\"Medium\",\"Medium\",\"Medium\",\"Medium\",\"Medium\",\"Medium\",\"Medium\",\"Medium\",\"Medium\",\"Medium\",\"Medium\",\"Medium\",\"Medium\",\"Medium\",\"Medium\",\"Medium\",\"Medium\",\"Medium\",\"Medium\",\"Medium\",\"Medium\",\"Medium\",\"Medium\",\"Medium\",\"Medium\",\"Medium\",\"Medium\",\"Medium\",\"Medium\",\"Medium\",\"Medium\",\"Medium\",\"Medium\",\"Medium\",\"Medium\",\"Medium\",\"Medium\",\"Medium\",\"Medium\",\"Medium\",\"Medium\",\"Medium\",\"Medium\",\"Medium\",\"Medium\",\"Medium\",\"Medium\",\"Medium\",\"Medium\",\"Medium\",\"Medium\",\"Medium\",\"Medium\",\"Medium\",\"Medium\",\"Medium\",\"Medium\",\"Medium\",\"Medium\",\"Medium\",\"Medium\",\"Medium\",\"Medium\",\"Medium\",\"Medium\",\"Medium\",\"Medium\",\"Medium\",\"Medium\",\"Medium\",\"Medium\",\"Medium\",\"Medium\",\"Medium\",\"Medium\",\"Medium\",\"Medium\",\"Medium\",\"Medium\",\"Medium\",\"Medium\",\"Medium\",\"Medium\",\"Medium\",\"Medium\",\"Medium\",\"Medium\",\"Medium\",\"Medium\",\"Medium\",\"Medium\",\"Medium\",\"Medium\",\"Medium\",\"Medium\",\"Medium\",\"Medium\",\"Medium\",\"Medium\",\"Medium\",\"Medium\",\"Medium\",\"Medium\",\"Medium\",\"Medium\",\"Medium\",\"Medium\",\"Medium\",\"Medium\",\"Medium\",\"Medium\",\"Medium\",\"Medium\",\"Medium\",\"Medium\",\"Medium\",\"Medium\",\"Medium\",\"Medium\",\"Medium\",\"Medium\",\"Medium\",\"Medium\",\"Medium\",\"Medium\",\"Medium\",\"Medium\",\"Medium\",\"Medium\",\"Medium\",\"Medium\",\"Medium\",\"Medium\",\"Medium\",\"Medium\",\"Medium\",\"Medium\",\"Medium\",\"Medium\",\"Medium\",\"Medium\",\"Medium\",\"Medium\",\"Medium\",\"Medium\",\"Medium\",\"Medium\",\"Medium\",\"Medium\",\"Medium\",\"Medium\",\"Medium\",\"Medium\",\"Medium\",\"Medium\",\"Medium\",\"Medium\",\"Medium\",\"Medium\",\"Medium\",\"Medium\",\"Medium\",\"Medium\",\"Medium\",\"Medium\",\"Medium\",\"Medium\",\"Medium\",\"Medium\",\"Medium\",\"Medium\",\"Medium\",\"Medium\",\"Medium\",\"Medium\",\"Medium\",\"Medium\",\"Medium\",\"Medium\",\"Medium\",\"Medium\",\"Medium\",\"Medium\",\"Medium\",\"Medium\",\"Medium\",\"Medium\",\"Medium\",\"Medium\",\"Medium\",\"Medium\",\"Medium\",\"Medium\",\"Medium\",\"Medium\",\"Medium\",\"Medium\",\"Medium\",\"Medium\",\"Medium\",\"Medium\",\"Medium\",\"Medium\",\"Medium\",\"Medium\",\"Medium\",\"Medium\",\"Medium\",\"Medium\",\"Medium\",\"Medium\",\"Medium\",\"Medium\",\"Medium\",\"Medium\",\"Medium\",\"Medium\",\"Medium\",\"Medium\",\"Medium\",\"Medium\",\"Medium\",\"Medium\",\"Medium\",\"Medium\",\"Medium\",\"Medium\",\"Medium\",\"Medium\",\"Medium\",\"Medium\",\"Medium\",\"Medium\",\"Medium\",\"Medium\",\"Medium\",\"Medium\",\"Medium\",\"Medium\",\"Medium\",\"Medium\",\"Medium\",\"Medium\",\"Medium\",\"Medium\",\"Medium\",\"Medium\",\"Medium\",\"Medium\",\"Medium\",\"Medium\",\"Medium\",\"Medium\",\"Medium\",\"Medium\",\"Medium\",\"Medium\",\"Medium\",\"Medium\",\"Medium\",\"Medium\",\"Medium\",\"Medium\",\"Medium\",\"Medium\",\"Medium\",\"Medium\",\"Medium\",\"Medium\",\"Medium\",\"Medium\",\"Medium\",\"Medium\",\"Medium\",\"Medium\",\"Medium\",\"Medium\",\"Medium\",\"Medium\",\"Medium\",\"Medium\",\"Medium\",\"Medium\",\"Medium\",\"Medium\",\"Medium\",\"Medium\",\"Medium\",\"Medium\",\"Medium\",\"Medium\",\"Medium\",\"Medium\",\"Medium\",\"Medium\",\"Medium\",\"Medium\",\"Medium\",\"Medium\",\"Medium\",\"Medium\",\"Medium\",\"Medium\",\"Medium\",\"Medium\",\"Medium\",\"Medium\",\"Medium\",\"Medium\",\"Medium\",\"Medium\",\"Medium\",\"Medium\",\"Medium\",\"Medium\",\"Medium\",\"Medium\",\"Medium\",\"Medium\",\"Medium\",\"Medium\",\"Medium\",\"Medium\",\"Medium\",\"Medium\",\"Medium\",\"Medium\",\"Medium\",\"Medium\",\"Medium\",\"Medium\",\"Medium\",\"Medium\",\"Medium\",\"Medium\",\"Medium\",\"Medium\",\"Medium\",\"Medium\",\"Medium\",\"Medium\",\"Medium\",\"Medium\",\"Medium\",\"Medium\",\"Medium\",\"Medium\",\"Medium\",\"Medium\",\"Medium\",\"Medium\",\"Medium\",\"Medium\",\"Medium\",\"Medium\",\"Medium\",\"Medium\",\"Medium\",\"Medium\",\"Medium\",\"Medium\",\"Medium\",\"Medium\",\"Medium\",\"Medium\",\"Medium\",\"Medium\",\"Medium\",\"Medium\",\"Medium\",\"Medium\",\"Medium\",\"Medium\",\"Medium\",\"Medium\",\"Medium\",\"Medium\",\"Medium\",\"Medium\",\"Medium\",\"Medium\",\"Medium\",\"Medium\",\"Medium\",\"Medium\",\"Medium\",\"Medium\",\"Medium\",\"Medium\",\"Medium\",\"Medium\",\"Medium\"],\"x0\":\" \",\"xaxis\":\"x\",\"y\":[2.2013971243204513,2.08278537031645,1.4313637641589874,2.2833012287035497,2.1335389083702174,2.5477747053878224,2.1986570869544226,2.0681858617461617,1.414973347970818,2.727541257028556,2.469822015978163,2.0170333392987803,1.5563025007672873,1.4771212547196624,2.1271047983648077,1.8692317197309762,1.5797835966168101,2.2648178230095364,0.9542425094393249,1.8864907251724818,1.5440680443502757,1.255272505103306,1.4771212547196624,1.8195439355418688,1.792391689498254,2.2068258760318495,2.615950051656401,2.4800069429571505,2.6414741105040993,1.863322860120456,1.591064607026499,2.1583624920952498,2.8790958795000727,2.060697840353612,2.0969100130080562,1.3222192947339193,3.5558196830611912,2.406540180433955,3.1889284837608534,2.824125833916549,2.0211892990699383,1.9030899869919435,2.8680563618230415,2.5276299008713385,3.189209489582306,2.173186268412274,2.296665190261531,2.155336037465062,2.3384564936046046,2.3729120029701067,3.1975562131535367,2.271841606536499,1.7708520116421442,2.0969100130080562,2.2671717284030137,2.041392685158225,2.8898617212581885,1.146128035678238,2.0043213737826426,2.8981764834976764,2.6794278966121188,1.8388490907372552,2.1986570869544226,1.7242758696007892,0.9030899869919435,2.482873583608754,2.8169038393756605,2.380211241711606,2.6334684555795866,2.846337112129805,2.481442628502305,2.909020854211156,1.568201724066995,1.99563519459755,1.662757831681574,1.041392685158225,2.4099331233312946,2.984077033902831,1.9138138523837167,2.292256071356476,3.3281756614383227,3.0111473607757975,2.2405492482825995,1.0791812460476249,2.0569048513364727,1.0,2.100370545117563,1.0,1.7634279935629373,1.414973347970818,1.7323937598229686,2.041392685158225,2.113943352306837,1.3979400086720377,1.3010299956639813,0.7781512503836436,1.4913616938342726,2.9943171526696366,2.5563025007672873,1.5185139398778875,1.806179973983887,1.9822712330395684,2.2278867046136734,2.187520720836463,2.931457870689005,2.7481880270062002,2.330413773349191,2.3944516808262164,3.34143452457814,3.2081725266671217,2.5550944485783194,2.582063362911709,2.403120521175818,2.761927838420529,2.110589710299249,1.7993405494535817,2.3344537511509307,2.2329961103921536,1.6532125137753437,2.8555191556678,2.298853076409707,2.3138672203691533,1.5440680443502757,1.8864907251724818,2.330413773349191,1.9030899869919435,2.760422483423212,2.225309281725863,2.2121876044039577,2.503790683057181,2.123851640967086,2.5538830266438746,2.8609366207000937,2.6919651027673606,2.7958800173440754,1.8195439355418688,1.3424226808222062,1.4313637641589874,1.6720978579357175,0.8450980400142568,1.6532125137753437,1.7323937598229686,2.439332693830263,3.334252642334231,1.9242792860618816,1.863322860120456,1.5185139398778875,2.294466226161593,1.5797835966168101,2.45178643552429,2.6627578316815743,2.7101173651118162,2.225309281725863,1.9138138523837167,1.9637878273455553,1.919078092376074,0.47712125471966244,1.4471580313422192,1.6434526764861874,2.093421685162235,2.2121876044039577,1.6434526764861874,1.3010299956639813,1.7481880270062005,1.4313637641589874,1.7993405494535817,2.089905111439398,2.0863598306747484,1.414973347970818,2.0863598306747484,1.2304489213782739,1.8129133566428555,1.4471580313422192,1.2787536009528289,3.220108088040055,2.0043213737826426,2.7315887651867388,3.2016701796465816,2.944975908412048,1.9344984512435677,1.8808135922807914,1.5314789170422551,1.4913616938342726,1.591064607026499,1.5563025007672873,1.6434526764861874,2.2095150145426308,1.99563519459755,1.7993405494535817,1.8388490907372552,1.568201724066995,1.7781512503836436,1.5314789170422551,1.591064607026499,2.950364854376123,3.1007150865730817,2.5440680443502757,2.863322860120456,3.117602691690084,2.2405492482825995,2.2013971243204513,1.6989700043360187,2.1903316981702914,2.4638929889859074,1.2787536009528289,3.184975190698261,2.745855195173729,2.8363241157067516,2.6981005456233897,2.8494194137968996,2.037426497940624,1.6334684555795866,1.8864907251724818,2.113943352306837,1.4313637641589874,2.48572142648158,1.5563025007672873,3.000867721531227,2.1398790864012365,1.3010299956639813,3.114610984232173,1.7558748556724915,1.5797835966168101,1.6334684555795866,1.7634279935629373,1.7075701760979363,2.103803720955957,3.0145205387579237,2.0791812460476247,1.9822712330395684,1.9493900066449128,2.406540180433955,2.3636119798921444,2.2648178230095364,2.089905111439398,2.161368002234975,1.662757831681574,1.6989700043360187,1.5797835966168101,2.330413773349191,3.6136304349252404,2.100370545117563,1.8260748027008264,2.24551266781415,2.2095150145426308,1.8692317197309762,2.2671717284030137,2.784617292632875,2.214843848047698,1.9912260756924949,2.9703468762300935,3.204933522354145,1.6334684555795866,1.7781512503836436,1.2787536009528289,1.6232492903979006,2.2013971243204513,1.806179973983887,1.5440680443502757,2.56702636615906,2.4216039268698313,2.846955325019824,2.3729120029701067,1.9242792860618816,2.296665190261531,1.4771212547196624,2.8561244442423,1.5797835966168101,2.439332693830263,2.305351369446624,2.1522883443830563,2.747411807886423,2.0086001717619175,2.2764618041732443,2.1072099696478683,2.741939077729199,2.403120521175818,2.56702636615906,2.4955443375464483,2.66838591669,2.965201701025912,2.8188854145940097,1.9030899869919435,2.225309281725863,2.615950051656401,3.1687920203141817,2.5490032620257876,2.9661417327390325,1.6532125137753437,2.510545010206612,3.052693941924968,1.5440680443502757,2.3283796034387376,1.7242758696007892,2.167317334748176,2.2278867046136734,1.7853298350107671,2.7007037171450192,2.214843848047698,1.255272505103306,2.155336037465062,1.380211241711606,1.505149978319906,2.1931245983544616,2.123851640967086,2.0569048513364727,1.2304489213782739,2.6627578316815743,2.2013971243204513,1.8750612633917,1.7323937598229686,1.041392685158225,1.2304489213782739,2.413299764081252,2.2278867046136734,1.6812412373755872,1.3617278360175928,1.9542425094393248,1.8750612633917,2.9836262871245345,2.012837224705172,3.248218561190075,2.164352855784437,2.093421685162235,3.166726055580052,3.036628895362161,1.9138138523837167,2.75815462196739,2.093421685162235,2.143014800254095,1.8512583487190752,1.414973347970818,2.3891660843645326,2.322219294733919,1.919078092376074,2.670245853074124,1.7160033436347992,2.3820170425748683,4.010681493131443,1.3010299956639813,1.968482948553935,2.093421685162235,2.4653828514484184,1.9395192526186185,3.3003780648707024,2.103803720955957,2.4899584794248346,3.2219355998280053,2.932473764677153,1.7075701760979363,1.462397997898956,2.0211892990699383,1.380211241711606,1.8750612633917,2.6919651027673606,1.8129133566428555,2.5415792439465807,3.189209489582306,2.9036325160842376,3.084933574936716,2.100370545117563,2.401400540781544,2.2068258760318495,1.7481880270062005,1.9444826721501687,2.161368002234975,2.48572142648158,1.99563519459755,2.1522883443830563,3.2357808703275603,2.255272505103306,2.123851640967086,1.505149978319906,2.0453229787866576,1.9822712330395684,2.7993405494535817,2.7267272090265724,2.8992731873176036,2.3502480183341627,1.8512583487190752,1.6127838567197355,2.167317334748176,1.7781512503836436,1.6812412373755872,1.4313637641589874,1.041392685158225,2.100370545117563,1.9242792860618816,2.220108088040055,1.6532125137753437,2.2121876044039577,3.7512020945883533,3.473632926873841,3.4778444763387584,3.2489536154957075,2.0293837776852097,2.503790683057181,2.0718820073061255,2.3096301674258988,2.6599162000698504,1.7993405494535817,2.81424759573192,2.037426497940624,2.5538830266438746,2.905256048748451,2.7267272090265724,2.419955748489758,2.0791812460476247,2.745855195173729,2.287801729930226,2.3180633349627615,2.322219294733919,2.1335389083702174,2.8609366207000937,1.4771212547196624,1.968482948553935,0.9030899869919435,1.8750612633917,1.3010299956639813,2.0569048513364727,2.214843848047698,2.2671717284030137,1.9294189257142929,1.3010299956639813,2.7944880466591697,1.2787536009528289,1.8325089127062364,1.806179973983887,2.574031267727719,1.5185139398778875,2.72916478969277,1.4771212547196624,1.8808135922807914,1.9493900066449128,1.8195439355418688,1.6020599913279625,1.4313637641589874,1.9867717342662448,0.9030899869919435,null,1.9590413923210936,2.403120521175818,1.9493900066449128,3.588047496986083,2.130333768495006,2.1271047983648077,1.6812412373755872,2.8656960599160706,1.568201724066995,2.2174839442139063,1.9590413923210936,1.7323937598229686,1.3222192947339193,0.9542425094393249,1.8512583487190752,2.661812685537261,1.8512583487190752,2.3384564936046046,2.298853076409707,3.1271047983648077,3.162862993321926,2.932473764677153,2.6138418218760693,2.673941998634088,2.661812685537261,2.303196057420489,2.3364597338485296,2.7993405494535817,1.591064607026499,2.255272505103306,1.8325089127062364,2.100370545117563,2.514547752660286,1.3979400086720377,1.505149978319906,2.4800069429571505,2.439332693830263,1.3424226808222062,2.0681858617461617,2.2479732663618064,2.27415784926368,1.3424226808222062,1.2787536009528289,1.6532125137753437,1.3617278360175928,2.7101173651118162,1.7403626894942439,1.9444826721501687,1.3222192947339193,2.1398790864012365,1.9395192526186185,2.0211892990699383,1.462397997898956,1.568201724066995,1.2787536009528289,2.423245873936808,1.3222192947339193,2.7481880270062002,2.404833716619938,2.1072099696478683,2.3242824552976926,2.6127838567197355,1.919078092376074,2.1172712956557644,1.7242758696007892,1.3979400086720377,2.6711728427150834,1.3424226808222062,2.184691430817599,1.462397997898956,2.184691430817599,2.4533183400470375,2.0569048513364727,3.606488850442648,1.845098040014257,2.6434526764861874,2.833147111912785,1.9867717342662448,1.7634279935629373,2.6972293427597176,1.7558748556724915,1.2304489213782739,1.2304489213782739,1.4313637641589874,2.5440680443502757,2.4683473304121573,1.5797835966168101,2.3324384599156054,1.3979400086720377,2.2329961103921536,1.3424226808222062,1.9542425094393248,2.413299764081252,1.8920946026904804,1.9912260756924949,1.4313637641589874,1.9590413923210936,1.9138138523837167,0.9030899869919435,1.7160033436347992,2.0569048513364727,2.45484486000851,1.7323937598229686,2.3873898263387296,2.484299839346786,2.1492191126553797,1.3222192947339193,1.7160033436347992,1.2304489213782739,1.7481880270062005,1.9731278535996986,1.8512583487190752,1.9138138523837167,1.041392685158225,2.0453229787866576,2.812244696800369,1.8573324964312685,2.6893088591236203,1.3617278360175928,1.4313637641589874,2.060697840353612,1.9867717342662448,1.7781512503836436,2.3560258571931225,1.380211241711606,2.12057393120585,2.6655809910179533,2.2095150145426308,1.380211241711606,2.303196057420489,2.0,2.45484486000851,1.6334684555795866,2.037426497940624,1.8129133566428555,2.0492180226701815,2.100370545117563,2.103803720955957,2.1271047983648077,1.9395192526186185,1.3424226808222062,2.292256071356476,1.3010299956639813,2.481442628502305,1.3617278360175928,1.8195439355418688,1.505149978319906,2.45484486000851,2.2576785748691846,2.8305886686851442,1.414973347970818,2.2355284469075487,1.0,1.4313637641589874,2.320146286111054,2.582063362911709,2.0791812460476247,1.2304489213782739,2.285557309007774,1.3222192947339193,1.6532125137753437,2.4608978427565478,2.7323937598229686,2.392696953259666,2.294466226161593,1.0791812460476249,1.8388490907372552,1.462397997898956,2.012837224705172,1.7993405494535817,1.462397997898956,0.8450980400142568,2.7481880270062002,1.8920946026904804,1.8260748027008264,2.164352855784437,3.2669369111591733,1.7993405494535817,1.591064607026499,1.505149978319906,1.2304489213782739,2.6148972160331345,1.8573324964312685,1.806179973983887,2.808210972924222,2.3384564936046046,2.439332693830263,1.6989700043360187,1.806179973983887,1.9030899869919435,3.158060793936605,3.215901813204032,2.5899496013257077,2.1492191126553797,2.456366033129043,1.7242758696007892,1.462397997898956,1.9731278535996986,1.7634279935629373,1.9590413923210936,2.255272505103306,1.2041199826559248,1.6334684555795866,1.8195439355418688,1.8808135922807914,1.8864907251724818,2.450249108319361,2.5276299008713385,1.6532125137753437,1.0791812460476249,1.8388490907372552,2.699837725867246,1.3010299956639813,1.041392685158225,2.012837224705172,2.5118833609788744,2.9863237770507656,1.2304489213782739,1.2787536009528289,2.967547976218862,1.5185139398778875,2.3944516808262164,2.739572344450092,2.4885507165004443,2.4424797690644486,1.4771212547196624,2.0969100130080562,2.478566495593843,2.204119982655925,2.1760912590556813,2.0,2.0253058652647704,2.346352974450639,2.7895807121644256,2.6180480967120925,2.482873583608754,3.428620672671939,2.0969100130080562,2.361727836017593,2.550228353055094,2.278753600952829,1.7160033436347992,1.9912260756924949,2.931966114728173,2.4608978427565478,2.4265112613645754,2.4456042032735974,2.292256071356476,1.8920946026904804,2.8188854145940097,2.7937903846908188,2.515873843711679,1.7242758696007892,1.8920946026904804,2.1522883443830563,1.6532125137753437,1.8573324964312685,1.8512583487190752,1.9344984512435677,2.164352855784437,1.6532125137753437,2.0791812460476247,1.4771212547196624,1.6989700043360187,2.1172712956557644,1.3222192947339193,1.7993405494535817,2.710963118995276,1.8195439355418688,2.2405492482825995,1.919078092376074,1.7242758696007892,1.6989700043360187,1.8129133566428555,1.863322860120456,2.214843848047698,2.1818435879447726,2.041392685158225,1.8388490907372552,2.2695129442179165,1.3979400086720377,2.406540180433955,2.4899584794248346,1.9590413923210936,1.6720978579357175,1.845098040014257,1.662757831681574,2.2810333672477277,1.414973347970818,1.255272505103306,1.6334684555795866,1.2041199826559248,1.255272505103306,null,1.8864907251724818,1.662757831681574,1.6127838567197355,2.615950051656401,2.73559889969818,3.1099158630237933,1.9444826721501687,3.151676230847048,1.6901960800285136,2.037426497940624,2.1931245983544616,1.6532125137753437,1.6812412373755872,2.225309281725863,1.7323937598229686,1.7481880270062005,2.478566495593843,2.9278834103307068,1.8512583487190752,2.1398790864012365,1.505149978319906,1.7323937598229686,1.505149978319906,1.9030899869919435,0.9030899869919435,1.5185139398778875,2.130333768495006,1.8260748027008264,1.5563025007672873,3.1344958558346736,1.5314789170422551,1.568201724066995,1.7558748556724915,2.4683473304121573,2.673941998634088,2.376576957056512,1.792391689498254,1.6989700043360187,2.737987326333431,2.848189116991399,1.6812412373755872,1.9822712330395684,1.8260748027008264,1.806179973983887,1.7558748556724915,1.6127838567197355,1.6127838567197355,1.8750612633917,2.1172712956557644,2.503790683057181,2.0791812460476247,1.6232492903979006,2.0043213737826426,1.919078092376074,1.2787536009528289,2.2405492482825995,2.597695185925512,1.6127838567197355,2.4756711883244296,2.0569048513364727,2.9180303367848803,2.4183012913197452,1.8388490907372552,1.8573324964312685,1.5563025007672873,1.4913616938342726,2.093421685162235,2.4638929889859074,1.5797835966168101,1.9590413923210936,2.0170333392987803,1.591064607026499,1.8692317197309762,1.7481880270062005,2.484299839346786,1.9493900066449128,1.9822712330395684,2.296665190261531,1.2304489213782739,1.6434526764861874,1.568201724066995,3.811373897053893,0.8450980400142568,2.4183012913197452,1.4313637641589874,2.1903316981702914,1.8976270912904414,2.278753600952829,3.228400358703005,3.0580462303952816,1.2041199826559248,2.27415784926368,1.8129133566428555,1.9444826721501687,2.089905111439398,2.0681858617461617,1.8129133566428555,1.6901960800285136,2.230448921378274,1.7323937598229686,2.0644579892269186,2.161368002234975,1.7708520116421442,1.8388490907372552,1.8260748027008264,2.4983105537896004,2.3242824552976926,1.0791812460476249,2.3283796034387376,1.6532125137753437,1.3979400086720377,1.792391689498254,1.4913616938342726,3.2166935991697545,3.2893659515200318,1.5440680443502757,1.806179973983887,2.03342375548695,2.656098202012832,1.6532125137753437,2.3710678622717363,1.3222192947339193,2.161368002234975,2.3443922736851106,1.8808135922807914,2.404833716619938,1.9084850188786497,2.3873898263387296,2.4683473304121573,2.0718820073061255,1.8388490907372552,1.4771212547196624,1.4471580313422192,2.0170333392987803,1.5314789170422551,2.0,2.075546961392531,1.6812412373755872,2.0791812460476247,1.380211241711606,1.6127838567197355,1.8260748027008264,2.322219294733919,3.1760912590556813,1.2787536009528289,1.462397997898956,1.2041199826559248,2.571708831808688,2.496929648073215,1.0,3.3727279408855955,1.7160033436347992,3.297760511099134,1.9294189257142929,2.807535028068853,2.6148972160331345,3.591509808994654,3.083860800866573,2.298853076409707,2.2430380486862944,2.8506462351830666,2.2013971243204513,1.9395192526186185,1.8864907251724818,1.3222192947339193,2.571708831808688,2.225309281725863,2.505149978319906,2.514547752660286,2.401400540781544,1.8129133566428555,2.3384564936046046,2.1367205671564067,2.255272505103306,2.399673721481038,2.1072099696478683,1.3424226808222062,1.9294189257142929,2.383815365980431,2.271841606536499,2.0644579892269186,1.8920946026904804,1.6532125137753437,1.1760912590556813,1.380211241711606,2.2833012287035497,2.1271047983648077,2.346352974450639,2.8488047010518036,2.3384564936046046,2.509202522331103,1.8325089127062364,2.305351369446624,3.49220145139254,2.3404441148401185,2.2600713879850747,2.0569048513364727,2.748962861256161,1.7160033436347992,1.6720978579357175,2.5276299008713385,2.0969100130080562,1.5185139398778875,1.99563519459755,2.3242824552976926,1.8750612633917,2.444044795918076,2.0969100130080562,2.3180633349627615,2.2095150145426308,2.204119982655925,2.6344772701607315,2.392696953259666,1.9294189257142929,1.0,1.5563025007672873,1.792391689498254,1.6127838567197355,1.3424226808222062,1.255272505103306,1.6020599913279625,2.2695129442179165,2.4983105537896004,1.255272505103306,1.9242792860618816,1.9344984512435677,1.5440680443502757,2.5403294747908736,2.930949031167523,2.469822015978163,3.3754807146185724,2.403120521175818,3.090258052931316,2.315970345456918,2.3636119798921444,2.496929648073215,2.0681858617461617,2.4082399653118496,2.509202522331103,2.292256071356476,2.037426497940624,2.5352941200427703,2.694605198933569,2.3283796034387376,1.9444826721501687,1.6812412373755872,2.05307844348342,1.568201724066995,1.3979400086720377,2.307496037913213,1.9030899869919435,1.3979400086720377,1.8750612633917,1.1139433523068367,2.0569048513364727,1.4913616938342726,2.6190933306267428,2.0569048513364727,1.5314789170422551,0.6020599913279624,2.0969100130080562,1.7323937598229686,1.0791812460476249,1.380211241711606,1.7323937598229686,2.220108088040055,2.423245873936808,2.5327543789924976,2.403120521175818,1.4313637641589874,1.6812412373755872,1.792391689498254,1.6901960800285136,2.2430380486862944,1.7993405494535817,1.6720978579357175,1.6232492903979006,2.167317334748176,2.012837224705172,2.7134905430939424,2.815577748324267,2.6424645202421213,2.2810333672477277,2.2600713879850747,1.7558748556724915,2.0492180226701815,2.3541084391474008,2.330413773349191,2.6720978579357175,1.7781512503836436,2.1367205671564067,2.0681858617461617,1.9395192526186185,1.4771212547196624,3.215108581053093,3.0610753236297916,2.884228769632604,1.7160033436347992,1.3617278360175928,1.4913616938342726,2.307496037913213,2.9159272116971158,2.161368002234975,2.187520720836463,2.661812685537261,2.2528530309798933,2.423245873936808,2.08278537031645,2.0,1.806179973983887,1.568201724066995,1.3222192947339193,1.8920946026904804,1.462397997898956,2.979548374704095,2.971739590887778,2.3961993470957363,1.5314789170422551,1.5797835966168101,2.1072099696478683,2.204119982655925,1.8920946026904804,1.7708520116421442,1.2041199826559248,2.530199698203082,1.9030899869919435,3.246498580795801,2.287801729930226,1.4771212547196624,2.6720978579357175,1.5797835966168101,1.591064607026499,2.290034611362518,2.6866362692622934,1.7634279935629373,2.0863598306747484,2.734799829588847,1.7242758696007892,2.1789769472931693,2.225309281725863,1.9084850188786497,1.8325089127062364,1.8195439355418688,2.632457292184724,2.7450747915820575,2.2833012287035497,2.7259116322950483,2.093421685162235,2.3096301674258988,1.9294189257142929,1.3617278360175928,2.123851640967086,2.2479732663618064,1.9542425094393248,2.45178643552429,1.7403626894942439,1.3979400086720377,0.47712125471966244,1.7323937598229686,2.6532125137753435,1.1760912590556813,1.7075701760979363,1.806179973983887,1.505149978319906,2.629409599102719,1.8920946026904804,1.7853298350107671,2.7032913781186614,1.462397997898956,1.9493900066449128,2.220108088040055,1.9867717342662448,1.255272505103306,1.8260748027008264,1.591064607026499,1.6812412373755872,1.9444826721501687,1.6901960800285136,1.7481880270062005,1.3979400086720377,1.968482948553935,2.08278537031645,1.5797835966168101,1.591064607026499,1.9590413923210936,2.12057393120585,1.6232492903979006,2.12057393120585,1.6127838567197355,3.2203696324513946,2.7902851640332416,3.4109458586877746,1.1760912590556813,2.8494194137968996,1.9395192526186185,2.423245873936808,2.164352855784437,2.4265112613645754,2.2624510897304293,2.632457292184724,1.8325089127062364,3.1513698502474603,2.103803720955957,2.678518379040114,2.041392685158225,2.6981005456233897,2.093421685162235,1.3424226808222062,2.0644579892269186,1.5797835966168101,1.9344984512435677,1.0791812460476249,2.1986570869544226,1.99563519459755,1.9867717342662448,1.9637878273455553,1.8260748027008264,1.3617278360175928,2.886490725172482,1.6127838567197355,1.9084850188786497,2.220108088040055,1.8195439355418688,1.3010299956639813,1.5185139398778875,1.6434526764861874,2.507855871695831,null,1.3979400086720377,2.0086001717619175,2.4742162640762553,2.294466226161593,1.568201724066995,2.1903316981702914,1.5440680443502757,1.8129133566428555,2.2329961103921536,2.6190933306267428,null,2.741939077729199,2.060697840353612,2.44870631990508,2.6522463410033232,1.8260748027008264,2.2600713879850747,1.146128035678238,1.3617278360175928,2.103803720955957,1.5185139398778875,1.7075701760979363,1.806179973983887,1.5440680443502757,1.662757831681574,2.1172712956557644,2.2355284469075487,1.4771212547196624,2.1818435879447726,3.246252312299322,2.374748346010104,2.2227164711475833,2.4608978427565478,2.807535028068853,1.7708520116421442,2.271841606536499,1.919078092376074,2.164352855784437,2.1172712956557644,2.376576957056512,1.5797835966168101,2.0969100130080562,2.6201360549737576,2.0569048513364727,2.428134794028789,2.27415784926368,2.7958800173440754,1.0,2.7634279935629373,3.0689276116820716,1.9867717342662448,1.3617278360175928,0.8450980400142568,1.568201724066995,1.4471580313422192,1.4471580313422192,2.3344537511509307,1.2041199826559248,2.7972675408307164,1.863322860120456,1.0,1.6812412373755872,1.6532125137753437,2.2095150145426308,1.9138138523837167,1.8808135922807914,2.3180633349627615,1.9493900066449128,1.2787536009528289,2.1760912590556813,2.4456042032735974,2.428134794028789,1.5563025007672873,2.3096301674258988,1.8976270912904414,3.7759015788916743,1.7634279935629373,2.4927603890268375,2.7032913781186614,2.0211892990699383,1.9590413923210936,2.4082399653118496,2.060697840353612,1.8920946026904804,1.6334684555795866,2.1072099696478683,2.369215857410143,1.845098040014257,1.7708520116421442,2.3242824552976926,2.164352855784437,1.6901960800285136,1.3010299956639813,1.8573324964312685,1.9294189257142929,2.0453229787866576,3.5258219521566625,1.9777236052888478,null,1.4771212547196624,2.0043213737826426,2.499687082618404,1.7160033436347992,2.8603380065709936,2.0293837776852097,0.47712125471966244,2.0863598306747484,1.9138138523837167,1.0,1.041392685158225,2.8756399370041685,2.509202522331103,2.3443922736851106,2.4955443375464483,1.3222192947339193,1.9777236052888478,2.6190933306267428,2.0086001717619175,1.7323937598229686,2.6570558528571038,2.3961993470957363,2.3560258571931225,1.8692317197309762,1.7403626894942439,2.2380461031287955,2.462397997898956,1.7160033436347992,1.041392685158225,1.3010299956639813,1.7323937598229686,1.7075701760979363,2.0791812460476247,1.7634279935629373,1.414973347970818,1.8920946026904804,2.3961993470957363,1.380211241711606,2.57978359661681,2.6414741105040993,2.436162647040756,1.591064607026499,1.6720978579357175,1.5185139398778875,2.6473829701146196,1.7781512503836436,1.845098040014257,1.9395192526186185,1.8325089127062364,1.9912260756924949,2.376576957056512,2.290034611362518,1.6434526764861874,2.0253058652647704,2.2576785748691846,1.9444826721501687,1.4771212547196624,1.8195439355418688,3.123851640967086,2.423245873936808,3.4872798164430687,2.9542425094393248,3.037426497940624,2.225309281725863,2.3483048630481607,1.0,2.4099331233312946,2.214843848047698,2.1398790864012365,2.113943352306837,1.505149978319906,1.3424226808222062,1.6020599913279625,1.4913616938342726,1.9395192526186185,1.568201724066995,2.3384564936046046,3.1228709228644354,2.3783979009481375,2.346352974450639,2.0644579892269186,2.204119982655925,1.8512583487190752,1.919078092376074,2.0293837776852097,1.6901960800285136,1.7075701760979363,1.1760912590556813,2.3873898263387296,1.9344984512435677,2.4149733479708178,1.5563025007672873,1.7075701760979363,1.6901960800285136,1.7403626894942439,1.5185139398778875,1.662757831681574,1.5185139398778875,2.08278537031645,2.330413773349191,1.4313637641589874,1.6020599913279625,1.3010299956639813,1.7242758696007892,2.03342375548695,2.4149733479708178,1.2787536009528289,1.6434526764861874,1.7853298350107671,2.315970345456918,2.534026106056135,2.582063362911709,2.8260748027008264,2.204119982655925,1.5797835966168101,2.9885589568786157,2.603144372620182,2.290034611362518,2.3324384599156054,1.968482948553935,1.7558748556724915,2.2810333672477277,2.1583624920952498,2.1818435879447726,2.0170333392987803,2.3344537511509307,2.837588438235511,2.220108088040055,1.7242758696007892,2.2278867046136734,2.0,2.0211892990699383,1.8808135922807914,1.6232492903979006,1.9637878273455553,2.2528530309798933,1.2304489213782739,1.255272505103306,2.2624510897304293,1.7634279935629373,2.0253058652647704,1.380211241711606,1.792391689498254,1.7160033436347992,2.292256071356476,2.113943352306837,2.187520720836463,2.214843848047698,3.089198366805149,2.303196057420489,1.6020599913279625,1.5797835966168101,2.03342375548695,2.3654879848909,2.392696953259666,2.788875115775417,2.6273658565927325,2.294466226161593,2.682145076373832,2.187520720836463,1.9867717342662448,2.1522883443830563,1.591064607026499,2.060697840353612,2.0492180226701815,1.6901960800285136,2.1072099696478683,1.8920946026904804,2.0293837776852097,1.6020599913279625,1.9344984512435677,2.037426497940624,2.271841606536499,3.1522883443830567,1.8260748027008264,3.0831441431430524,2.3909351071033793,1.9395192526186185,1.3979400086720377,2.164352855784437,1.4313637641589874,2.0644579892269186,1.2304489213782739,2.8169038393756605,1.845098040014257,2.0,2.531478917042255,1.8129133566428555,2.155336037465062,1.9637878273455553,1.9030899869919435,1.8808135922807914,1.041392685158225,1.6127838567197355,2.225309281725863,1.8750612633917,1.7242758696007892,2.100370545117563,2.123851640967086,1.9867717342662448,1.9395192526186185,2.1583624920952498,1.9493900066449128,1.7993405494535817,2.305351369446624,2.123851640967086,2.123851640967086,2.2576785748691846,1.6434526764861874,2.143014800254095,2.155336037465062,2.2013971243204513,2.1072099696478683,3.0051805125037805,1.4471580313422192,1.7781512503836436,2.250420002308894,2.292256071356476,1.9822712330395684,1.6812412373755872,2.089905111439398,2.5237464668115646,1.7634279935629373,2.972665592266111,2.130333768495006,2.401400540781544,3.1476763242410986,2.2405492482825995,2.2671717284030137,1.3010299956639813,1.9822712330395684,1.7160033436347992,1.8260748027008264,2.0681858617461617,2.4638929889859074,2.780317312140151,1.5797835966168101,1.5797835966168101],\"y0\":\" \",\"yaxis\":\"y\",\"type\":\"box\"},{\"alignmentgroup\":\"True\",\"hovertemplate\":\"Install_category=%{x}\\u003cbr\\u003ey=%{y}\\u003cextra\\u003e\\u003c\\u002fextra\\u003e\",\"legendgroup\":\"Above Medium\",\"marker\":{\"color\":\"#FFA15A\"},\"name\":\"Above Medium\",\"notched\":false,\"offsetgroup\":\"Above Medium\",\"orientation\":\"v\",\"showlegend\":true,\"x\":[\"Above Medium\",\"Above Medium\",\"Above Medium\",\"Above Medium\",\"Above Medium\",\"Above Medium\",\"Above Medium\",\"Above Medium\",\"Above Medium\",\"Above Medium\",\"Above Medium\",\"Above Medium\",\"Above Medium\",\"Above Medium\",\"Above Medium\",\"Above Medium\",\"Above Medium\",\"Above Medium\",\"Above Medium\",\"Above Medium\",\"Above Medium\",\"Above Medium\",\"Above Medium\",\"Above Medium\",\"Above Medium\",\"Above Medium\",\"Above Medium\",\"Above Medium\",\"Above Medium\",\"Above Medium\",\"Above Medium\",\"Above Medium\",\"Above Medium\",\"Above Medium\",\"Above Medium\",\"Above Medium\",\"Above Medium\",\"Above Medium\",\"Above Medium\",\"Above Medium\",\"Above Medium\",\"Above Medium\",\"Above Medium\",\"Above Medium\",\"Above Medium\",\"Above Medium\",\"Above Medium\",\"Above Medium\",\"Above Medium\",\"Above Medium\",\"Above Medium\",\"Above Medium\",\"Above Medium\",\"Above Medium\",\"Above Medium\",\"Above Medium\",\"Above Medium\",\"Above Medium\",\"Above Medium\",\"Above Medium\",\"Above Medium\",\"Above Medium\",\"Above Medium\",\"Above Medium\",\"Above Medium\",\"Above Medium\",\"Above Medium\",\"Above Medium\",\"Above Medium\",\"Above Medium\",\"Above Medium\",\"Above Medium\",\"Above Medium\",\"Above Medium\",\"Above Medium\",\"Above Medium\",\"Above Medium\",\"Above Medium\",\"Above Medium\",\"Above Medium\",\"Above Medium\",\"Above Medium\",\"Above Medium\",\"Above Medium\",\"Above Medium\",\"Above Medium\",\"Above Medium\",\"Above Medium\",\"Above Medium\",\"Above Medium\",\"Above Medium\",\"Above Medium\",\"Above Medium\",\"Above Medium\",\"Above Medium\",\"Above Medium\",\"Above Medium\",\"Above Medium\",\"Above Medium\",\"Above Medium\",\"Above Medium\",\"Above Medium\",\"Above Medium\",\"Above Medium\",\"Above Medium\",\"Above Medium\",\"Above Medium\",\"Above Medium\",\"Above Medium\",\"Above Medium\",\"Above Medium\",\"Above Medium\",\"Above Medium\",\"Above Medium\",\"Above Medium\",\"Above Medium\",\"Above Medium\",\"Above Medium\",\"Above Medium\",\"Above Medium\",\"Above Medium\",\"Above Medium\",\"Above Medium\",\"Above Medium\",\"Above Medium\",\"Above Medium\",\"Above Medium\",\"Above Medium\",\"Above Medium\",\"Above Medium\",\"Above Medium\",\"Above Medium\",\"Above Medium\",\"Above Medium\",\"Above Medium\",\"Above Medium\",\"Above Medium\",\"Above Medium\",\"Above Medium\",\"Above Medium\",\"Above Medium\",\"Above Medium\",\"Above Medium\",\"Above Medium\",\"Above Medium\",\"Above Medium\",\"Above Medium\",\"Above Medium\",\"Above Medium\",\"Above Medium\",\"Above Medium\",\"Above Medium\",\"Above Medium\",\"Above Medium\",\"Above Medium\",\"Above Medium\",\"Above Medium\",\"Above Medium\",\"Above Medium\",\"Above Medium\",\"Above Medium\",\"Above Medium\",\"Above Medium\",\"Above Medium\",\"Above Medium\",\"Above Medium\",\"Above Medium\",\"Above Medium\",\"Above Medium\",\"Above Medium\",\"Above Medium\",\"Above Medium\",\"Above Medium\",\"Above Medium\",\"Above Medium\",\"Above Medium\",\"Above Medium\",\"Above Medium\",\"Above Medium\",\"Above Medium\",\"Above Medium\",\"Above Medium\",\"Above Medium\",\"Above Medium\",\"Above Medium\",\"Above Medium\",\"Above Medium\",\"Above Medium\",\"Above Medium\",\"Above Medium\",\"Above Medium\",\"Above Medium\",\"Above Medium\",\"Above Medium\",\"Above Medium\",\"Above Medium\",\"Above Medium\",\"Above Medium\",\"Above Medium\",\"Above Medium\",\"Above Medium\",\"Above Medium\",\"Above Medium\",\"Above Medium\",\"Above Medium\",\"Above Medium\",\"Above Medium\",\"Above Medium\",\"Above Medium\",\"Above Medium\",\"Above Medium\",\"Above Medium\",\"Above Medium\",\"Above Medium\",\"Above Medium\",\"Above Medium\",\"Above Medium\",\"Above Medium\",\"Above Medium\",\"Above Medium\",\"Above Medium\",\"Above Medium\",\"Above Medium\",\"Above Medium\",\"Above Medium\",\"Above Medium\",\"Above Medium\",\"Above Medium\",\"Above Medium\",\"Above Medium\",\"Above Medium\",\"Above Medium\",\"Above Medium\",\"Above Medium\",\"Above Medium\",\"Above Medium\",\"Above Medium\",\"Above Medium\",\"Above Medium\",\"Above Medium\",\"Above Medium\",\"Above Medium\",\"Above Medium\",\"Above Medium\",\"Above Medium\",\"Above Medium\",\"Above Medium\",\"Above Medium\",\"Above Medium\",\"Above Medium\",\"Above Medium\",\"Above Medium\",\"Above Medium\",\"Above Medium\",\"Above Medium\",\"Above Medium\",\"Above Medium\",\"Above Medium\",\"Above Medium\",\"Above Medium\",\"Above Medium\",\"Above Medium\",\"Above Medium\",\"Above Medium\",\"Above Medium\",\"Above Medium\",\"Above Medium\",\"Above Medium\",\"Above Medium\",\"Above Medium\",\"Above Medium\",\"Above Medium\",\"Above Medium\",\"Above Medium\",\"Above Medium\",\"Above Medium\",\"Above Medium\",\"Above Medium\",\"Above Medium\",\"Above Medium\",\"Above Medium\",\"Above Medium\",\"Above Medium\",\"Above Medium\",\"Above Medium\",\"Above Medium\",\"Above Medium\",\"Above Medium\",\"Above Medium\",\"Above Medium\",\"Above Medium\",\"Above Medium\",\"Above Medium\",\"Above Medium\",\"Above Medium\",\"Above Medium\",\"Above Medium\",\"Above Medium\",\"Above Medium\",\"Above Medium\",\"Above Medium\",\"Above Medium\",\"Above Medium\",\"Above Medium\",\"Above Medium\",\"Above Medium\",\"Above Medium\",\"Above Medium\",\"Above Medium\",\"Above Medium\",\"Above Medium\",\"Above Medium\",\"Above Medium\",\"Above Medium\",\"Above Medium\",\"Above Medium\",\"Above Medium\",\"Above Medium\",\"Above Medium\",\"Above Medium\",\"Above Medium\",\"Above Medium\",\"Above Medium\",\"Above Medium\",\"Above Medium\",\"Above Medium\",\"Above Medium\",\"Above Medium\",\"Above Medium\",\"Above Medium\",\"Above Medium\",\"Above Medium\",\"Above Medium\",\"Above Medium\",\"Above Medium\",\"Above Medium\",\"Above Medium\",\"Above Medium\",\"Above Medium\",\"Above Medium\",\"Above Medium\",\"Above Medium\",\"Above Medium\",\"Above Medium\",\"Above Medium\",\"Above Medium\",\"Above Medium\",\"Above Medium\",\"Above Medium\",\"Above Medium\",\"Above Medium\",\"Above Medium\",\"Above Medium\",\"Above Medium\",\"Above Medium\",\"Above Medium\",\"Above Medium\",\"Above Medium\",\"Above Medium\",\"Above Medium\",\"Above Medium\",\"Above Medium\",\"Above Medium\",\"Above Medium\",\"Above Medium\",\"Above Medium\",\"Above Medium\",\"Above Medium\",\"Above Medium\",\"Above Medium\",\"Above Medium\",\"Above Medium\",\"Above Medium\",\"Above Medium\",\"Above Medium\",\"Above Medium\",\"Above Medium\",\"Above Medium\",\"Above Medium\",\"Above Medium\",\"Above Medium\",\"Above Medium\",\"Above Medium\",\"Above Medium\",\"Above Medium\",\"Above Medium\",\"Above Medium\",\"Above Medium\",\"Above Medium\",\"Above Medium\",\"Above Medium\",\"Above Medium\",\"Above Medium\",\"Above Medium\",\"Above Medium\",\"Above Medium\",\"Above Medium\",\"Above Medium\",\"Above Medium\",\"Above Medium\",\"Above Medium\",\"Above Medium\",\"Above Medium\",\"Above Medium\",\"Above Medium\",\"Above Medium\",\"Above Medium\",\"Above Medium\",\"Above Medium\",\"Above Medium\",\"Above Medium\",\"Above Medium\",\"Above Medium\",\"Above Medium\",\"Above Medium\",\"Above Medium\",\"Above Medium\",\"Above Medium\",\"Above Medium\",\"Above Medium\",\"Above Medium\",\"Above Medium\",\"Above Medium\",\"Above Medium\",\"Above Medium\",\"Above Medium\",\"Above Medium\",\"Above Medium\",\"Above Medium\",\"Above Medium\",\"Above Medium\",\"Above Medium\",\"Above Medium\",\"Above Medium\",\"Above Medium\",\"Above Medium\",\"Above Medium\",\"Above Medium\",\"Above Medium\",\"Above Medium\",\"Above Medium\",\"Above Medium\",\"Above Medium\",\"Above Medium\",\"Above Medium\",\"Above Medium\",\"Above Medium\",\"Above Medium\",\"Above Medium\",\"Above Medium\",\"Above Medium\",\"Above Medium\",\"Above Medium\",\"Above Medium\",\"Above Medium\",\"Above Medium\",\"Above Medium\",\"Above Medium\",\"Above Medium\",\"Above Medium\",\"Above Medium\",\"Above Medium\",\"Above Medium\",\"Above Medium\",\"Above Medium\",\"Above Medium\",\"Above Medium\",\"Above Medium\",\"Above Medium\",\"Above Medium\",\"Above Medium\",\"Above Medium\",\"Above Medium\",\"Above Medium\",\"Above Medium\",\"Above Medium\",\"Above Medium\",\"Above Medium\",\"Above Medium\",\"Above Medium\",\"Above Medium\",\"Above Medium\",\"Above Medium\",\"Above Medium\",\"Above Medium\",\"Above Medium\",\"Above Medium\",\"Above Medium\",\"Above Medium\",\"Above Medium\",\"Above Medium\",\"Above Medium\",\"Above Medium\",\"Above Medium\",\"Above Medium\",\"Above Medium\",\"Above Medium\",\"Above Medium\",\"Above Medium\",\"Above Medium\",\"Above Medium\",\"Above Medium\",\"Above Medium\",\"Above Medium\",\"Above Medium\",\"Above Medium\",\"Above Medium\",\"Above Medium\",\"Above Medium\",\"Above Medium\",\"Above Medium\",\"Above Medium\",\"Above Medium\",\"Above Medium\",\"Above Medium\",\"Above Medium\",\"Above Medium\",\"Above Medium\",\"Above Medium\",\"Above Medium\",\"Above Medium\",\"Above Medium\",\"Above Medium\",\"Above Medium\",\"Above Medium\",\"Above Medium\",\"Above Medium\",\"Above Medium\",\"Above Medium\",\"Above Medium\",\"Above Medium\",\"Above Medium\",\"Above Medium\",\"Above Medium\",\"Above Medium\",\"Above Medium\",\"Above Medium\",\"Above Medium\",\"Above Medium\",\"Above Medium\",\"Above Medium\",\"Above Medium\",\"Above Medium\",\"Above Medium\",\"Above Medium\",\"Above Medium\",\"Above Medium\",\"Above Medium\",\"Above Medium\",\"Above Medium\",\"Above Medium\",\"Above Medium\",\"Above Medium\",\"Above Medium\",\"Above Medium\",\"Above Medium\",\"Above Medium\",\"Above Medium\",\"Above Medium\",\"Above Medium\",\"Above Medium\",\"Above Medium\",\"Above Medium\",\"Above Medium\",\"Above Medium\",\"Above Medium\",\"Above Medium\",\"Above Medium\",\"Above Medium\",\"Above Medium\",\"Above Medium\",\"Above Medium\",\"Above Medium\",\"Above Medium\",\"Above Medium\",\"Above Medium\",\"Above Medium\",\"Above Medium\",\"Above Medium\",\"Above Medium\",\"Above Medium\",\"Above Medium\",\"Above Medium\",\"Above Medium\",\"Above Medium\",\"Above Medium\",\"Above Medium\",\"Above Medium\",\"Above Medium\",\"Above Medium\",\"Above Medium\",\"Above Medium\",\"Above Medium\",\"Above Medium\",\"Above Medium\",\"Above Medium\",\"Above Medium\",\"Above Medium\",\"Above Medium\",\"Above Medium\",\"Above Medium\",\"Above Medium\",\"Above Medium\",\"Above Medium\",\"Above Medium\",\"Above Medium\",\"Above Medium\",\"Above Medium\",\"Above Medium\",\"Above Medium\",\"Above Medium\",\"Above Medium\",\"Above Medium\",\"Above Medium\",\"Above Medium\",\"Above Medium\",\"Above Medium\",\"Above Medium\",\"Above Medium\",\"Above Medium\",\"Above Medium\",\"Above Medium\",\"Above Medium\",\"Above Medium\",\"Above Medium\",\"Above Medium\",\"Above Medium\",\"Above Medium\",\"Above Medium\",\"Above Medium\",\"Above Medium\",\"Above Medium\",\"Above Medium\",\"Above Medium\",\"Above Medium\",\"Above Medium\",\"Above Medium\",\"Above Medium\",\"Above Medium\",\"Above Medium\",\"Above Medium\",\"Above Medium\",\"Above Medium\",\"Above Medium\",\"Above Medium\",\"Above Medium\",\"Above Medium\",\"Above Medium\",\"Above Medium\",\"Above Medium\",\"Above Medium\",\"Above Medium\",\"Above Medium\",\"Above Medium\",\"Above Medium\",\"Above Medium\",\"Above Medium\",\"Above Medium\",\"Above Medium\",\"Above Medium\",\"Above Medium\",\"Above Medium\",\"Above Medium\",\"Above Medium\",\"Above Medium\",\"Above Medium\",\"Above Medium\",\"Above Medium\",\"Above Medium\",\"Above Medium\",\"Above Medium\",\"Above Medium\",\"Above Medium\",\"Above Medium\",\"Above Medium\",\"Above Medium\",\"Above Medium\",\"Above Medium\",\"Above Medium\",\"Above Medium\",\"Above Medium\",\"Above Medium\",\"Above Medium\",\"Above Medium\",\"Above Medium\",\"Above Medium\",\"Above Medium\",\"Above Medium\",\"Above Medium\",\"Above Medium\",\"Above Medium\",\"Above Medium\",\"Above Medium\",\"Above Medium\",\"Above Medium\",\"Above Medium\",\"Above Medium\",\"Above Medium\",\"Above Medium\",\"Above Medium\",\"Above Medium\",\"Above Medium\",\"Above Medium\",\"Above Medium\",\"Above Medium\",\"Above Medium\",\"Above Medium\",\"Above Medium\",\"Above Medium\",\"Above Medium\",\"Above Medium\",\"Above Medium\",\"Above Medium\",\"Above Medium\",\"Above Medium\",\"Above Medium\",\"Above Medium\",\"Above Medium\",\"Above Medium\",\"Above Medium\",\"Above Medium\",\"Above Medium\",\"Above Medium\",\"Above Medium\",\"Above Medium\",\"Above Medium\",\"Above Medium\",\"Above Medium\",\"Above Medium\",\"Above Medium\",\"Above Medium\",\"Above Medium\",\"Above Medium\",\"Above Medium\",\"Above Medium\",\"Above Medium\",\"Above Medium\",\"Above Medium\",\"Above Medium\",\"Above Medium\",\"Above Medium\",\"Above Medium\",\"Above Medium\",\"Above Medium\",\"Above Medium\",\"Above Medium\",\"Above Medium\",\"Above Medium\",\"Above Medium\",\"Above Medium\",\"Above Medium\",\"Above Medium\",\"Above Medium\",\"Above Medium\",\"Above Medium\",\"Above Medium\",\"Above Medium\",\"Above Medium\",\"Above Medium\",\"Above Medium\",\"Above Medium\",\"Above Medium\",\"Above Medium\",\"Above Medium\",\"Above Medium\",\"Above Medium\",\"Above Medium\",\"Above Medium\",\"Above Medium\",\"Above Medium\",\"Above Medium\",\"Above Medium\",\"Above Medium\",\"Above Medium\",\"Above Medium\",\"Above Medium\",\"Above Medium\",\"Above Medium\",\"Above Medium\",\"Above Medium\",\"Above Medium\",\"Above Medium\",\"Above Medium\",\"Above Medium\",\"Above Medium\",\"Above Medium\",\"Above Medium\",\"Above Medium\",\"Above Medium\",\"Above Medium\",\"Above Medium\",\"Above Medium\",\"Above Medium\",\"Above Medium\",\"Above Medium\",\"Above Medium\",\"Above Medium\",\"Above Medium\",\"Above Medium\",\"Above Medium\",\"Above Medium\",\"Above Medium\",\"Above Medium\",\"Above Medium\",\"Above Medium\",\"Above Medium\",\"Above Medium\",\"Above Medium\",\"Above Medium\",\"Above Medium\",\"Above Medium\",\"Above Medium\",\"Above Medium\",\"Above Medium\",\"Above Medium\",\"Above Medium\",\"Above Medium\",\"Above Medium\",\"Above Medium\",\"Above Medium\",\"Above Medium\",\"Above Medium\",\"Above Medium\",\"Above Medium\",\"Above Medium\",\"Above Medium\",\"Above Medium\",\"Above Medium\",\"Above Medium\",\"Above Medium\",\"Above Medium\",\"Above Medium\",\"Above Medium\",\"Above Medium\",\"Above Medium\",\"Above Medium\",\"Above Medium\",\"Above Medium\",\"Above Medium\",\"Above Medium\",\"Above Medium\",\"Above Medium\",\"Above Medium\",\"Above Medium\",\"Above Medium\",\"Above Medium\",\"Above Medium\",\"Above Medium\",\"Above Medium\",\"Above Medium\",\"Above Medium\",\"Above Medium\",\"Above Medium\",\"Above Medium\",\"Above Medium\",\"Above Medium\",\"Above Medium\",\"Above Medium\",\"Above Medium\",\"Above Medium\",\"Above Medium\",\"Above Medium\",\"Above Medium\",\"Above Medium\",\"Above Medium\",\"Above Medium\",\"Above Medium\",\"Above Medium\",\"Above Medium\",\"Above Medium\",\"Above Medium\",\"Above Medium\",\"Above Medium\",\"Above Medium\",\"Above Medium\",\"Above Medium\",\"Above Medium\",\"Above Medium\",\"Above Medium\",\"Above Medium\",\"Above Medium\",\"Above Medium\",\"Above Medium\",\"Above Medium\",\"Above Medium\",\"Above Medium\",\"Above Medium\",\"Above Medium\",\"Above Medium\",\"Above Medium\",\"Above Medium\",\"Above Medium\",\"Above Medium\",\"Above Medium\",\"Above Medium\",\"Above Medium\",\"Above Medium\",\"Above Medium\",\"Above Medium\",\"Above Medium\",\"Above Medium\",\"Above Medium\",\"Above Medium\",\"Above Medium\",\"Above Medium\",\"Above Medium\",\"Above Medium\",\"Above Medium\",\"Above Medium\",\"Above Medium\",\"Above Medium\",\"Above Medium\",\"Above Medium\",\"Above Medium\",\"Above Medium\",\"Above Medium\",\"Above Medium\",\"Above Medium\",\"Above Medium\",\"Above Medium\",\"Above Medium\",\"Above Medium\",\"Above Medium\",\"Above Medium\",\"Above Medium\",\"Above Medium\",\"Above Medium\",\"Above Medium\",\"Above Medium\",\"Above Medium\",\"Above Medium\",\"Above Medium\",\"Above Medium\",\"Above Medium\",\"Above Medium\",\"Above Medium\",\"Above Medium\",\"Above Medium\",\"Above Medium\",\"Above Medium\",\"Above Medium\",\"Above Medium\",\"Above Medium\",\"Above Medium\",\"Above Medium\",\"Above Medium\",\"Above Medium\",\"Above Medium\",\"Above Medium\",\"Above Medium\",\"Above Medium\",\"Above Medium\",\"Above Medium\",\"Above Medium\",\"Above Medium\",\"Above Medium\",\"Above Medium\",\"Above Medium\",\"Above Medium\",\"Above Medium\",\"Above Medium\",\"Above Medium\",\"Above Medium\",\"Above Medium\",\"Above Medium\",\"Above Medium\",\"Above Medium\",\"Above Medium\",\"Above Medium\",\"Above Medium\",\"Above Medium\",\"Above Medium\",\"Above Medium\",\"Above Medium\",\"Above Medium\",\"Above Medium\",\"Above Medium\",\"Above Medium\",\"Above Medium\",\"Above Medium\",\"Above Medium\",\"Above Medium\",\"Above Medium\",\"Above Medium\",\"Above Medium\",\"Above Medium\",\"Above Medium\",\"Above Medium\",\"Above Medium\",\"Above Medium\",\"Above Medium\",\"Above Medium\",\"Above Medium\",\"Above Medium\",\"Above Medium\",\"Above Medium\",\"Above Medium\",\"Above Medium\",\"Above Medium\",\"Above Medium\",\"Above Medium\",\"Above Medium\",\"Above Medium\",\"Above Medium\",\"Above Medium\",\"Above Medium\",\"Above Medium\",\"Above Medium\",\"Above Medium\",\"Above Medium\",\"Above Medium\",\"Above Medium\",\"Above Medium\",\"Above Medium\",\"Above Medium\",\"Above Medium\",\"Above Medium\",\"Above Medium\",\"Above Medium\",\"Above Medium\",\"Above Medium\",\"Above Medium\",\"Above Medium\",\"Above Medium\",\"Above Medium\",\"Above Medium\",\"Above Medium\",\"Above Medium\",\"Above Medium\",\"Above Medium\",\"Above Medium\",\"Above Medium\",\"Above Medium\",\"Above Medium\",\"Above Medium\",\"Above Medium\",\"Above Medium\",\"Above Medium\",\"Above Medium\",\"Above Medium\",\"Above Medium\",\"Above Medium\",\"Above Medium\",\"Above Medium\",\"Above Medium\",\"Above Medium\",\"Above Medium\",\"Above Medium\",\"Above Medium\",\"Above Medium\",\"Above Medium\",\"Above Medium\",\"Above Medium\",\"Above Medium\",\"Above Medium\",\"Above Medium\",\"Above Medium\",\"Above Medium\",\"Above Medium\",\"Above Medium\",\"Above Medium\",\"Above Medium\",\"Above Medium\",\"Above Medium\",\"Above Medium\",\"Above Medium\",\"Above Medium\",\"Above Medium\",\"Above Medium\",\"Above Medium\",\"Above Medium\",\"Above Medium\",\"Above Medium\",\"Above Medium\",\"Above Medium\",\"Above Medium\",\"Above Medium\",\"Above Medium\",\"Above Medium\",\"Above Medium\",\"Above Medium\",\"Above Medium\",\"Above Medium\",\"Above Medium\",\"Above Medium\",\"Above Medium\",\"Above Medium\",\"Above Medium\",\"Above Medium\",\"Above Medium\",\"Above Medium\",\"Above Medium\",\"Above Medium\",\"Above Medium\",\"Above Medium\",\"Above Medium\",\"Above Medium\",\"Above Medium\",\"Above Medium\",\"Above Medium\",\"Above Medium\",\"Above Medium\",\"Above Medium\",\"Above Medium\",\"Above Medium\",\"Above Medium\",\"Above Medium\",\"Above Medium\",\"Above Medium\",\"Above Medium\",\"Above Medium\",\"Above Medium\",\"Above Medium\",\"Above Medium\",\"Above Medium\",\"Above Medium\",\"Above Medium\",\"Above Medium\",\"Above Medium\",\"Above Medium\",\"Above Medium\",\"Above Medium\",\"Above Medium\",\"Above Medium\",\"Above Medium\",\"Above Medium\",\"Above Medium\",\"Above Medium\",\"Above Medium\",\"Above Medium\",\"Above Medium\",\"Above Medium\",\"Above Medium\",\"Above Medium\",\"Above Medium\",\"Above Medium\",\"Above Medium\",\"Above Medium\",\"Above Medium\",\"Above Medium\",\"Above Medium\",\"Above Medium\",\"Above Medium\",\"Above Medium\",\"Above Medium\",\"Above Medium\",\"Above Medium\",\"Above Medium\",\"Above Medium\",\"Above Medium\",\"Above Medium\",\"Above Medium\",\"Above Medium\",\"Above Medium\",\"Above Medium\",\"Above Medium\",\"Above Medium\",\"Above Medium\",\"Above Medium\",\"Above Medium\",\"Above Medium\",\"Above Medium\",\"Above Medium\",\"Above Medium\",\"Above Medium\",\"Above Medium\",\"Above Medium\",\"Above Medium\",\"Above Medium\",\"Above Medium\",\"Above Medium\",\"Above Medium\",\"Above Medium\",\"Above Medium\",\"Above Medium\",\"Above Medium\",\"Above Medium\",\"Above Medium\",\"Above Medium\",\"Above Medium\",\"Above Medium\",\"Above Medium\",\"Above Medium\",\"Above Medium\",\"Above Medium\",\"Above Medium\",\"Above Medium\",\"Above Medium\",\"Above Medium\",\"Above Medium\",\"Above Medium\",\"Above Medium\",\"Above Medium\",\"Above Medium\",\"Above Medium\",\"Above Medium\",\"Above Medium\",\"Above Medium\",\"Above Medium\",\"Above Medium\",\"Above Medium\",\"Above Medium\",\"Above Medium\",\"Above Medium\",\"Above Medium\",\"Above Medium\",\"Above Medium\",\"Above Medium\",\"Above Medium\",\"Above Medium\",\"Above Medium\",\"Above Medium\",\"Above Medium\",\"Above Medium\",\"Above Medium\",\"Above Medium\",\"Above Medium\",\"Above Medium\",\"Above Medium\",\"Above Medium\",\"Above Medium\",\"Above Medium\",\"Above Medium\",\"Above Medium\",\"Above Medium\",\"Above Medium\",\"Above Medium\",\"Above Medium\",\"Above Medium\",\"Above Medium\",\"Above Medium\",\"Above Medium\",\"Above Medium\",\"Above Medium\",\"Above Medium\",\"Above Medium\",\"Above Medium\",\"Above Medium\",\"Above Medium\",\"Above Medium\",\"Above Medium\",\"Above Medium\",\"Above Medium\",\"Above Medium\",\"Above Medium\",\"Above Medium\",\"Above Medium\",\"Above Medium\",\"Above Medium\",\"Above Medium\",\"Above Medium\",\"Above Medium\",\"Above Medium\",\"Above Medium\",\"Above Medium\",\"Above Medium\",\"Above Medium\",\"Above Medium\",\"Above Medium\",\"Above Medium\",\"Above Medium\",\"Above Medium\",\"Above Medium\",\"Above Medium\",\"Above Medium\",\"Above Medium\",\"Above Medium\",\"Above Medium\",\"Above Medium\",\"Above Medium\",\"Above Medium\",\"Above Medium\",\"Above Medium\",\"Above Medium\",\"Above Medium\",\"Above Medium\",\"Above Medium\",\"Above Medium\",\"Above Medium\",\"Above Medium\",\"Above Medium\",\"Above Medium\",\"Above Medium\",\"Above Medium\",\"Above Medium\",\"Above Medium\",\"Above Medium\",\"Above Medium\",\"Above Medium\",\"Above Medium\",\"Above Medium\",\"Above Medium\",\"Above Medium\",\"Above Medium\",\"Above Medium\",\"Above Medium\",\"Above Medium\",\"Above Medium\",\"Above Medium\",\"Above Medium\",\"Above Medium\",\"Above Medium\",\"Above Medium\",\"Above Medium\",\"Above Medium\",\"Above Medium\",\"Above Medium\",\"Above Medium\",\"Above Medium\",\"Above Medium\",\"Above Medium\",\"Above Medium\",\"Above Medium\",\"Above Medium\",\"Above Medium\",\"Above Medium\",\"Above Medium\",\"Above Medium\",\"Above Medium\",\"Above Medium\",\"Above Medium\",\"Above Medium\",\"Above Medium\",\"Above Medium\",\"Above Medium\",\"Above Medium\",\"Above Medium\",\"Above Medium\",\"Above Medium\",\"Above Medium\",\"Above Medium\",\"Above Medium\",\"Above Medium\",\"Above Medium\",\"Above Medium\",\"Above Medium\",\"Above Medium\",\"Above Medium\",\"Above Medium\",\"Above Medium\",\"Above Medium\",\"Above Medium\",\"Above Medium\",\"Above Medium\",\"Above Medium\",\"Above Medium\",\"Above Medium\",\"Above Medium\",\"Above Medium\",\"Above Medium\",\"Above Medium\",\"Above Medium\",\"Above Medium\",\"Above Medium\",\"Above Medium\",\"Above Medium\",\"Above Medium\",\"Above Medium\",\"Above Medium\",\"Above Medium\",\"Above Medium\",\"Above Medium\",\"Above Medium\",\"Above Medium\",\"Above Medium\",\"Above Medium\",\"Above Medium\",\"Above Medium\",\"Above Medium\",\"Above Medium\",\"Above Medium\",\"Above Medium\",\"Above Medium\",\"Above Medium\",\"Above Medium\",\"Above Medium\",\"Above Medium\",\"Above Medium\",\"Above Medium\",\"Above Medium\",\"Above Medium\",\"Above Medium\",\"Above Medium\",\"Above Medium\",\"Above Medium\",\"Above Medium\",\"Above Medium\",\"Above Medium\",\"Above Medium\",\"Above Medium\",\"Above Medium\",\"Above Medium\",\"Above Medium\",\"Above Medium\",\"Above Medium\",\"Above Medium\",\"Above Medium\",\"Above Medium\",\"Above Medium\",\"Above Medium\",\"Above Medium\",\"Above Medium\",\"Above Medium\",\"Above Medium\",\"Above Medium\",\"Above Medium\",\"Above Medium\",\"Above Medium\",\"Above Medium\",\"Above Medium\",\"Above Medium\",\"Above Medium\",\"Above Medium\",\"Above Medium\",\"Above Medium\",\"Above Medium\",\"Above Medium\",\"Above Medium\",\"Above Medium\",\"Above Medium\",\"Above Medium\",\"Above Medium\",\"Above Medium\",\"Above Medium\",\"Above Medium\",\"Above Medium\",\"Above Medium\",\"Above Medium\",\"Above Medium\",\"Above Medium\",\"Above Medium\",\"Above Medium\",\"Above Medium\",\"Above Medium\",\"Above Medium\",\"Above Medium\",\"Above Medium\",\"Above Medium\",\"Above Medium\",\"Above Medium\",\"Above Medium\",\"Above Medium\",\"Above Medium\",\"Above Medium\",\"Above Medium\",\"Above Medium\",\"Above Medium\",\"Above Medium\",\"Above Medium\",\"Above Medium\",\"Above Medium\",\"Above Medium\",\"Above Medium\",\"Above Medium\",\"Above Medium\",\"Above Medium\",\"Above Medium\",\"Above Medium\",\"Above Medium\",\"Above Medium\",\"Above Medium\",\"Above Medium\",\"Above Medium\",\"Above Medium\",\"Above Medium\",\"Above Medium\",\"Above Medium\",\"Above Medium\",\"Above Medium\",\"Above Medium\",\"Above Medium\",\"Above Medium\",\"Above Medium\",\"Above Medium\",\"Above Medium\",\"Above Medium\",\"Above Medium\",\"Above Medium\",\"Above Medium\",\"Above Medium\",\"Above Medium\",\"Above Medium\",\"Above Medium\",\"Above Medium\",\"Above Medium\",\"Above Medium\",\"Above Medium\",\"Above Medium\",\"Above Medium\",\"Above Medium\",\"Above Medium\",\"Above Medium\",\"Above Medium\",\"Above Medium\",\"Above Medium\",\"Above Medium\",\"Above Medium\",\"Above Medium\",\"Above Medium\",\"Above Medium\",\"Above Medium\",\"Above Medium\",\"Above Medium\",\"Above Medium\",\"Above Medium\",\"Above Medium\",\"Above Medium\",\"Above Medium\",\"Above Medium\",\"Above Medium\",\"Above Medium\",\"Above Medium\",\"Above Medium\",\"Above Medium\",\"Above Medium\",\"Above Medium\",\"Above Medium\",\"Above Medium\",\"Above Medium\",\"Above Medium\",\"Above Medium\",\"Above Medium\",\"Above Medium\",\"Above Medium\",\"Above Medium\",\"Above Medium\",\"Above Medium\",\"Above Medium\",\"Above Medium\",\"Above Medium\",\"Above Medium\",\"Above Medium\",\"Above Medium\",\"Above Medium\",\"Above Medium\",\"Above Medium\",\"Above Medium\",\"Above Medium\",\"Above Medium\",\"Above Medium\",\"Above Medium\",\"Above Medium\",\"Above Medium\",\"Above Medium\",\"Above Medium\",\"Above Medium\",\"Above Medium\",\"Above Medium\",\"Above Medium\",\"Above Medium\",\"Above Medium\",\"Above Medium\",\"Above Medium\",\"Above Medium\",\"Above Medium\",\"Above Medium\",\"Above Medium\",\"Above Medium\",\"Above Medium\",\"Above Medium\",\"Above Medium\",\"Above Medium\",\"Above Medium\",\"Above Medium\",\"Above Medium\",\"Above Medium\",\"Above Medium\",\"Above Medium\",\"Above Medium\",\"Above Medium\",\"Above Medium\",\"Above Medium\",\"Above Medium\",\"Above Medium\",\"Above Medium\",\"Above Medium\",\"Above Medium\",\"Above Medium\",\"Above Medium\",\"Above Medium\",\"Above Medium\",\"Above Medium\",\"Above Medium\",\"Above Medium\",\"Above Medium\",\"Above Medium\",\"Above Medium\",\"Above Medium\",\"Above Medium\",\"Above Medium\",\"Above Medium\",\"Above Medium\",\"Above Medium\",\"Above Medium\",\"Above Medium\",\"Above Medium\",\"Above Medium\",\"Above Medium\",\"Above Medium\",\"Above Medium\",\"Above Medium\",\"Above Medium\"],\"x0\":\" \",\"xaxis\":\"x\",\"y\":[2.9854264740830017,2.2227164711475833,2.250420002308894,3.636086515103073,3.1812717715594614,2.6532125137753435,2.815577748324267,1.7853298350107671,2.0718820073061255,2.307496037913213,2.3483048630481607,3.0492180226701815,2.3560258571931225,3.7019994748896368,3.0064660422492318,2.751279103983342,2.24551266781415,3.343605508104172,3.0293837776852097,1.9294189257142929,2.926856708949692,2.5646660642520893,2.4533183400470375,2.110589710299249,2.733999286538387,4.020319840357309,2.9057958803678687,2.110589710299249,3.1470576710283598,3.598899887063883,3.8906445362952478,3.3857849588433355,3.784617292632875,2.278753600952829,2.5514499979728753,2.866877814337499,2.294466226161593,2.8674674878590514,2.997386384397313,2.1522883443830563,2.1398790864012365,2.5415792439465807,2.3979400086720375,3.8965262174895554,3.5583485087616196,3.1099158630237933,3.060697840353612,3.6403820447095683,2.984077033902831,2.7788744720027396,2.271841606536499,2.2600713879850747,1.8750612633917,2.075546961392531,2.815577748324267,2.561101383649056,2.6748611407378116,2.4099331233312946,3.2688119037397803,3.6510840892430116,2.621176281775035,2.934498451243568,3.893817223967463,2.7218106152125467,3.1212314551496214,3.225309281725863,3.4375920322539613,0.3010299956639812,2.0569048513364727,3.6057358938767465,3.0881360887005513,2.9148718175400505,3.6193020758756083,0.9542425094393249,4.05850194342965,4.01262635095405,2.4712917110589387,3.255754786643044,3.1408221801093106,3.3244882333076564,3.488409688903198,3.7634279935629373,2.795184589682424,3.2203696324513946,2.4885507165004443,2.7126497016272113,2.921166050637739,3.0043213737826426,3.3386556655787003,3.160168292958512,2.496929648073215,2.4456042032735974,3.123851640967086,3.2245330626060857,3.0025979807199086,3.6897526961391565,3.4681995860726125,4.26119147205037,3.4075608494863627,3.622731965164719,3.0633333589517497,3.3153404766272883,3.3008127941181167,3.401228167498113,3.059184617631371,2.979092900638326,2.9304395947667,2.3263358609287517,3.712986233594383,3.287577809078705,2.4424797690644486,2.916453948549925,3.038620161949703,3.344785122632661,2.3820170425748683,2.7283537820212285,3.7062055418819706,2.92272545799326,3.665674780993893,3.158060793936605,2.930949031167523,2.965201701025912,2.7299742856995555,3.024895960107485,2.951337518795918,3.711975854351756,2.870403905279027,2.979548374704095,3.4082399653118496,3.7133225049870275,3.726156466172755,3.4055171069763763,2.8898617212581885,1.7853298350107671,3.1806992012960347,2.6263403673750423,2.5538830266438746,4.133921940423772,4.2641564367458855,2.439332693830263,3.5672616923538745,3.373463721632369,3.2477278329097232,2.8785217955012063,3.59802407233419,2.499687082618404,2.807535028068853,3.024485667699167,3.3573630306151427,2.3138672203691533,3.51067903103221,2.921686475483602,3.40226138245468,2.9180303367848803,3.0930713063760633,3.1476763242410986,3.3176455432211585,3.547528576459782,3.422589839851482,3.4214393902200495,3.1792644643390253,3.0141003215196207,3.3877456596088638,2.69284691927723,2.9036325160842376,2.864511081058392,3.268577971882843,3.197280558125619,3.795045370421125,3.5764565324056203,3.577721524509021,3.3330440298234874,2.75815462196739,3.4898179083014504,3.5881596163830918,2.6665179805548807,2.8639173769578603,2.6589648426644352,3.505149978319906,3.7663384752512874,2.821513528404773,3.0273496077747564,3.2907022432878543,3.6332664111554247,2.0,2.6009728956867484,2.45178643552429,4.090046322457356,3.913177833990468,3.888235673270567,2.935003151453655,3.9376181793938234,3.117602691690084,3.3832766504076504,3.022840610876528,3.5558196830611912,3.875871190727366,2.8536982117761744,3.2837533833325265,2.8356905714924254,3.577491799837225,3.040602340114073,3.4620983811351556,3.5171958979499744,1.9777236052888478,3.4324882557705063,1.7853298350107671,3.1455071714096627,2.8639173769578603,2.6570558528571038,3.0969100130080562,2.7450747915820575,4.068445618354351,3.0322157032979815,3.29269900304393,2.444044795918076,3.1031192535457137,2.6665179805548807,3.2833012287035497,3.885926339801431,3.5746099413401873,2.8488047010518036,2.808885867359812,2.298853076409707,3.3161800988934527,3.459392487759231,3.9366142619752114,2.4756711883244296,3.3236645356081,3.2062860444124324,3.46014581749175,4.060924369689481,3.1099158630237933,4.290991232025503,3.7402837196818792,2.4265112613645754,2.7944880466591697,3.4858633295973345,3.532117116248804,2.3364597338485296,3.121887985103681,3.3925210899319325,3.2581581933407944,3.666705136119899,3.500648063371912,3.157456768134226,3.5467893516312583,2.4578818967339924,3.631545227834309,2.6910814921229687,2.204119982655925,3.881897973573011,2.436162647040756,3.3517963068970236,2.9079485216122722,3.1696744340588068,2.711807229041191,1.9084850188786497,3.3195224490654542,3.479143247978613,2.965201701025912,2.6875289612146345,2.7315887651867388,3.1658376246901283,2.968015713993642,2.8937617620579434,3.4634450317704277,2.637489729512511,2.6138418218760693,2.374748346010104,3.41161970596323,2.5599066250361124,1.9590413923210936,3.231214647962601,2.919601023784111,2.6009728956867484,2.0086001717619175,3.1027766148834415,2.7788744720027396,3.3473300153169503,3.0281644194244697,3.2545480771089736,3.5375672571526753,3.2195845262142546,3.7166709755601355,3.4933186082321015,2.342422680822206,3.185542154854375,3.5951654147902294,2.951337518795918,3.3100557377508912,3.6461095219788477,3.5245259366263757,3.312811826212088,3.765594055319445,4.270003000105059,4.299332935762522,4.324673350189245,3.86993541064686,4.2582780152430315,4.033222646670249,4.1140769608240895,4.582142938379449,3.9728505558472302,2.842609239610562,2.747411807886423,2.8356905714924254,2.635483746814912,3.6239725120169965,2.6954816764901977,2.204119982655925,4.084111351940677,2.374748346010104,3.610234175334389,2.1172712956557644,2.0569048513364727,1.8129133566428555,2.444044795918076,2.8639173769578603,3.99370069482035,3.5221833176186865,3.4861469968065726,3.509740015570382,2.4409090820652177,2.9439888750737717,3.050379756261458,2.7528164311882715,2.621176281775035,3.0644579892269186,3.0178677189635055,3.530967681571915,3.0549958615291417,3.46553155697355,3.185542154854375,3.133858125203335,3.6239725120169965,2.3729120029701067,2.3979400086720375,3.302330928684399,3.894149846767922,3.7913397039651393,3.5801263254115825,3.2643455070500926,2.4983105537896004,3.2420442393695508,2.656098202012832,4.029789470831855,2.845098040014257,2.9609461957338317,2.7015679850559273,2.6884198220027105,2.278753600952829,3.780677274433368,3.635282637998212,1.8920946026904804,2.8129133566428557,3.543819805142658,3.484584529282843,3.2422929049829308,3.2268575702887237,2.7234556720351857,3.142389466118836,2.7573960287930244,3.4699692094999595,4.191590726379211,3.7420177471401384,3.323870606540509,2.61066016308988,2.4345689040341987,3.685920792194535,3.1099158630237933,3.6337713460825554,3.1889284837608534,2.5352941200427703,3.6135247028536526,2.6954816764901977,3.3040594662175993,2.75815462196739,2.5185139398778875,2.725094521081469,2.7944880466591697,2.403120521175818,3.5781806096277777,1.8195439355418688,2.4653828514484184,3.1470576710283598,3.0791812460476247,2.5728716022004803,3.628695382714023,3.5654936298688624,3.3121773564397787,3.2198463860243605,3.534026106056135,3.1925674533365456,3.3756636139608855,3.5886078047426864,3.12057393120585,2.9339931638312424,4.109409790546366,4.212720154417842,3.255754786643044,3.296884475538547,2.3384564936046046,2.9777236052888476,3.2211533219547053,3.143327129992046,2.8432327780980096,3.785756799962643,3.4795753101749884,2.876217840591642,2.9666109866819346,3.305351369446624,2.9020028913507296,3.265996370495079,3.2796669440484556,3.5298151966446305,2.5575072019056577,3.7246853882373596,2.9956351945975497,4.062544381346465,3.4687902620996107,2.4082399653118496,3.402777069610347,2.630427875025024,4.307774068517087,3.2065560440990297,2.949390006644913,3.092018470752797,1.7708520116421442,2.093421685162235,3.1522883443830567,2.90687353472207,3.219322508419337,3.236537261488694,2.5998830720736876,3.4514794051248616,4.609637089632301,2.9907826918031377,4.430058922470643,3.8356905714924254,3.1501421618485588,1.8260748027008264,2.0293837776852097,2.747411807886423,3.5116160205691376,3.000867721531227,2.6972293427597176,2.2121876044039577,2.278753600952829,2.6665179805548807,2.8555191556678,3.875350696579289,2.5428254269591797,2.503790683057181,3.8239955911559678,3.287801729930226,3.010723865391773,2.392696953259666,2.9867717342662448,3.184123354239671,3.3310221710418286,4.242864296140707,2.8020892578817325,2.6020599913279625,3.084576277934331,2.9903388547876015,3.3201462861110542,3.5199591807520685,3.1398790864012365,3.7856856682809013,3.566319621524811,2.81424759573192,3.5660837841679958,3.463743721247059,3.093421685162235,3.2273724422896364,3.4847268042986617,2.9030899869919438,2.824776462475546,3.469527479187014,1.919078092376074,2.45178643552429,2.403120521175818,2.5428254269591797,3.665017825412473,3.4608978427565478,2.9410142437055695,3.0856472882968564,3.3778524190067545,2.783903579272735,2.575187844927661,3.4394905903896835,2.655138434811382,3.6143698395482886,2.661812685537261,3.12057393120585,2.6972293427597176,2.978180516937414,4.1469338345627635,4.184719815150271,2.8692317197309762,3.219322508419337,4.182100659893949,3.1690863574870227,3.5958267770732233,2.330413773349191,3.4129642719966626,3.048053173115609,2.7831886910752575,3.0969100130080562,3.812579155409047,3.734559821579476,2.2624510897304293,3.31492005599242,3.5630061870617937,3.6144753660903954,3.673020907128896,2.734799829588847,2.890421018800914,2.6180480967120925,2.7134905430939424,3.292256071356476,3.2518814545525276,2.79309160017658,2.0293837776852097,2.833147111912785,3.617000341120899,3.3376588910261424,2.530199698203082,2.9014583213961123,2.462397997898956,3.24551266781415,3.0737183503461227,3.607025878434786,3.2911467617318855,3.0273496077747564,4.279826581794015,3.8073997127594854,3.3712526291249394,3.6338722626583326,2.48572142648158,3.754118894225413,3.4720246977002813,3.4551495211798278,3.2390490931401916,1.9294189257142929,2.6981005456233897,2.7752462597402365,3.079904467666721,2.481442628502305,2.954724790979063,2.6020599913279625,3.447623097760286,4.191367165737557,3.404491617758686,2.9822712330395684,2.792391689498254,2.9122220565324155,3.552668216112193,2.4653828514484184,2.0253058652647704,3.7914801160200007,3.598243191653623,3.668012971641832,2.311753861055754,3.230193378869046,2.866877814337499,2.826722520168992,2.437750562820388,2.146128035678238,3.0569048513364727,3.3136563466180315,2.7701152947871015,2.161368002234975,3.3066394410242617,2.3344537511509307,3.065206128054312,2.8573324964312685,3.1720188094245563,2.832508912706236,3.30362797638389,2.8175653695597807,4.324426510141732,3.5613399414589013,3.866700756042499,2.974971994298069,3.2676409823459154,3.754501229386917,2.7101173651118162,3.8857568810692675,4.708148849710405,3.466125870418199,3.2187979981117376,3.229425847920695,2.797959643737196,2.7481880270062002,2.5237464668115646,3.2600713879850747,4.2549828788959045,3.296884475538547,3.024074987307426,2.9304395947667,2.6414741105040993,2.8943160626844384,2.519827993775719,2.816241299991783,3.0711452904510828,2.754348335711019,2.8524799936368566,2.296665190261531,3.646893624167745,4.057057208637422,2.957128197676813,3.004751155591001,2.9489017609702137,2.7067177823367587,2.3820170425748683,3.3248994970523134,2.733999286538387,3.380030247967831,2.7649229846498886,4.2020521689120605,3.5162708827293403,3.398981066658131,2.6532125137753435,3.3909351071033793,3.2415464805965484,2.7701152947871015,3.330819466495837,3.388633969351789,2.311753861055754,3.7599698575543075,3.0666985504229953,3.2844307338445193,2.1522883443830563,3.6242820958356683,3.688241795977712,2.710963118995276,3.2340108175871793,2.767897616018091,2.9618954736678504,2.942008053022313,4.26979304386123,3.3344537511509307,3.7707047682157793,3.645520514905874,3.298197867109815,2.6074550232146687,3.5994463757252757,3.2187979981117376,3.931305281421673,3.2116544005531824,3.5919545550467356,3.323252100171687,3.4625477288026643,2.6570558528571038,3.7078255683322316,2.7218106152125467,3.3153404766272883,2.7299742856995555,2.673941998634088,2.60422605308447,2.611723308007342,2.558708570533166,3.483301952358167,2.526339277389844,2.583198773968623,3.017450729510536,2.576341350205793,2.651278013998144,2.9148718175400505,2.5477747053878224,3.161368002234975,3.1132746924643504,2.075546961392531,2.5211380837040362,2.7528164311882715,3.031408464251624,2.3180633349627615,3.526597709103452,2.848189116991399,4.402140967292468,3.939319531078238,4.028245816572474,2.9995654882259823,3.5121505369220305,2.5010592622177517,3.1917303933628562,3.2619761913978125,2.4983105537896004,3.1280760126687155,4.304878117698279,2.6665179805548807,3.3366598234544202,3.843419665204918,2.9822712330395684,3.721150843749684,3.659821158055705,2.857935264719429,3.249442961442582,3.1513698502474603,3.8443528963108933,3.4129642719966626,2.9666109866819346,3.6588695922019623,3.8285310066451013,2.469822015978163,3.4670158184384356,2.808885867359812,3.3005954838899636,3.036628895362161,3.227629649571009,2.4082399653118496,2.6866362692622934,2.977266212427293,2.530199698203082,3.555940437818511,3.295786940251609,2.651278013998144,3.3195224490654542,2.7234556720351857,3.27669152884504,3.1482940974347455,3.4734869700645685,3.1942367487238292,3.829303772831025,4.276300924570774,3.0132586652835167,2.537819095073274,2.7671558660821804,2.507855871695831,2.45178643552429,2.904715545278681,2.4800069429571505,3.1109262422664203,3.9979103673467433,3.3653007486379876,3.8258154449852038,3.4239009185284166,2.9907826918031377,3.8522359394118872,2.88024177589548,3.2496874278053016,2.714329759745233,3.079543007402906,3.509740015570382,3.549861188471943,3.2711443179490782,3.6609602917760835,3.118264726089479,3.1740598077250253,3.6567687792660166,3.903307079964174,3.4099331233312946,3.3144992279731516,3.8541845438336066,4.28350475654383,3.0051805125037805,3.7155855518931964,3.090258052931316,3.159266331093494,2.835056101720116,2.829946695941636,2.6794278966121188,2.383815365980431,4.0049229492965255,null,3.6724673130680823,2.9532763366673045,2.957128197676813,2.9355072658247128,4.280350693046006,2.0718820073061255,3.1344958558346736,3.204662511748219,3.1316186643491255,null,3.061452479087193,2.8692317197309762,3.408748606184244,3.640878778701618,2.9827233876685453,3.1482940974347455,2.651278013998144,3.313234291694724,2.7259116322950483,3.419625360887743,3.4340896384178907,3.3384564936046046,4.208495102429837,2.7752462597402365,3.295786940251609,4.327685809541024,3.4299136977637543,4.444918753773256,3.7298934039632377,2.8221680793680175,2.3263358609287517,3.0737183503461227,2.7944880466591697,3.3861421089308186,3.2617385473525378,2.8819549713396007,2.1072099696478683,2.941511432634403,2.8432327780980096,2.8000293592441343,2.7902851640332416,3.1565491513317814,2.8457180179666586,2.399673721481038,2.2405492482825995,2.1760912590556813,2.3979400086720375,null,3.2198463860243605,2.8603380065709936,3.334051440346892,3.887504774235378,2.3961993470957363,2.6848453616444123,2.305351369446624,3.2895889525425965,2.4683473304121573,2.6919651027673606,3.317854489331469,3.861175835513029,3.7927417858347487,3.0629578340845103,3.4483971034577676,4.394013663157313,3.657629431388952,2.9656719712201065,2.7551122663950713,2.6434526764861874,1.8388490907372552,2.4638929889859074,3.470410490975931,3.1818435879447726,3.3677285460869766,2.48572142648158,2.586587304671755,2.423245873936808,2.5646660642520893,2.173186268412274,2.3541084391474008,3.1734776434529945,2.77232170672292,2.838849090737255,2.3560258571931225,2.4578818967339924,3.561935763313781,2.9355072658247128,3.1535099893008374,2.6919651027673606,3.921322243583822,4.433529825915495,3.7944880466591697,2.7315887651867388,3.652826302561005,3.0927206446840994,2.311753861055754,2.6757783416740852,2.1522883443830563,3.5246557123577773,2.9925535178321354,2.7267272090265724,2.9854264740830017,3.643057683751453,3.9751099896861612,2.9232440186302764,3.448087666692341,3.8783494222177755,3.491781775584166,3.6364878963533656,3.1986570869544226,3.401400540781544,2.1492191126553797,2.4183012913197452,2.4082399653118496,2.6314437690131722,3.188084373714938,3.5213996281153754,2.6503075231319366,3.6743098889414774,2.60959440922522,3.030599721965951,2.7067177823367587,2.296665190261531,2.4409090820652177,2.841359470454855,4.303217663573669,4.018700498666243,3.3047058982127653,3.636888906983799,3.2121876044039577,4.0317315399458264,3.9828137621318627,3.735758537443739,3.484157424365381,2.9380190974762104,3.912487761332324,3.909235003368307,3.6049816296074315,2.829303772831025,3.312811826212088,2.3404441148401185,2.7611758131557314,3.870403905279027,3.70372115992702,3.2598326990634834,3.6126779183165016,2.3541084391474008,2.7895807121644256,2.5327543789924976,2.617000341120899,2.9804578922761,3.1670217957902564,3.315130317183602,3.0666985504229953,2.9041743682841634,3.2268575702887237,3.3888114134735234,2.727541257028556,2.8020892578817325,2.6483600109809315,3.4173055832445254,3.5287881917748964,3.1649473726218416,3.9252605095194353,3.623766000133931,3.193958978019187,3.278982116865443,3.7834032811225633,3.119915410257991,2.6954816764901977,2.505149978319906,2.9020028913507296,2.8937617620579434,3.1818435879447726,3.432969290874406,2.2833012287035497,3.2739267801005254,2.82020145948564,2.960470777534299,2.775974331129369,2.7267272090265724,2.3979400086720375,4.527127013839176,2.6884198220027105,3.5211380837040362,2.4653828514484184,2.1958996524092336,2.7126497016272113,3.4868553552769432,4.212640313534833,2.383815365980431,3.0425755124401905,2.9339931638312424,2.3654879848909,3.768268016451548,3.315550534421905,3.279210512601395,3.4371160930480786,3.0068937079479006,3.12057393120585,3.0670708560453703,3.743979865241843,3.66133934000604,2.3384564936046046,2.429752280002408,4.059941888061955,3.277609214304091,4.293141483450931,2.5224442335063197,2.870403905279027,3.5685537120494426,1.9867717342662448,2.640481436970422,2.803457115648414,2.1986570869544226,2.296665190261531,2.843855422623161,4.008515007631455,3.696967640744023,4.296314103353241,2.6020599913279625,3.4344092075875,2.5224442335063197,2.5171958979499744,3.4531653925258574,3.3113299523037933,3.1386184338994925,3.040602340114073,2.311753861055754,2.741151598851785,2.7101173651118162,3.4126285205443754,2.9965116721541785,2.998695158311656,3.3047058982127653,2.8847953639489807,3.106870544478654,2.4899584794248346,3.1696744340588068,2.3283796034387376,2.885926339801431,2.4608978427565478,3.322219294733919,3.3877456596088638,3.2960066693136723,2.484299839346786,3.925982100327103,2.866877814337499,2.6242820958356683,2.7442929831226763,2.7573960287930244,2.837588438235511,3.3209766773428235,2.561101383649056,2.954724790979063,2.582063362911709,2.103803720955957,3.1166077439882485,2.9618954736678504,2.717670503002262,2.320146286111054,3.0034605321095067,3.53567380342575,3.428620672671939,3.6922298357727557,3.6902847025126295,3.3287872003545345,2.4668676203541096,3.8641549560020256,2.469822015978163,3.4387005329007363,3.497758718287268,3.405346360175709,3.019116290447073,4.251905770472128,2.432969290874406,3.692670699156369,2.6919651027673606,3.7410727723733213,3.210318519826232,3.4148062795010126,3.3220124385824006,3.009450895798694,2.965201701025912,2.315970345456918,2.5440680443502757,2.561101383649056,3.527758752520972,2.3443922736851106,3.13481437032046,2.749736315569061,3.150756439860309,3.335858911319818,3.3944516808262164,3.1099158630237933,4.032376971209936,2.8494194137968996,4.3766134508577945,3.523876475638131,2.9258275746247424,3.6008640363098396,2.503790683057181,3.2725377773752373,2.6972293427597176,3.0595634179012676,2.82020145948564,1.8808135922807914,3.1017470739463664,2.3909351071033793,2.977266212427293,2.24551266781415,2.9934362304976116,3.5869247081448203,4.31096930425081,3.3546845539547285,4.688010252991739,2.888179493918325,3.6135247028536526,2.7641761323903307,3.905148001856016,2.6232492903979003,2.9836262871245345,3.0595634179012676,1.806179973983887,3.4282968139828798,3.6634182122526795,2.3729120029701067,3.00774777800074,3.406199423663313,3.458033192496506,4.283459536376994,3.0187004986662433,2.8937617620579434,4.450818553829668,3.6582022533870147,2.6981005456233897,3.9433955765089546,2.59659709562646,2.8419848045901137,3.419955748489758,3.677241845946654,3.5784099703312355,2.4727564493172123,3.335858911319818,3.383815365980431,2.637489729512511,3.0081741840064264,3.402433346219312,3.3669829759778507,2.816241299991783,2.6364878963533656,3.6942541120252783,3.0064660422492318,2.8937617620579434,2.3242824552976926,3.5122840632818537,2.6627578316815743,2.6483600109809315,2.754348335711019,2.537819095073274,2.727541257028556,2.432969290874406,3.913336925932623,2.8407332346118066,3.792951708250132,2.681241237375587,3.563599728881531,2.9057958803678687,2.864511081058392,3.29928933408768,2.9647309210536292,3.6324572921847245,2.673941998634088,2.950364854376123,2.7958800173440754,2.886490725172482,3.5990092398233435,2.5728716022004803,2.143014800254095,3.362293937964231,2.6893088591236203,2.6263403673750423,2.919601023784111,2.3873898263387296,2.8543060418010806,2.7730546933642626,2.8692317197309762,3.8449118739121406,2.998259338423699,3.4073909044707316,2.5646660642520893,3.7062055418819706,3.5949447366950835,2.812244696800369,3.1571544399062814,3.654465333520146,2.428134794028789,3.0557604646877348,3.151982395457474,2.6424645202421213,2.912753303671323,2.499687082618404,2.5877109650189114,4.226625678595805,1.968482948553935,3.3521825181113627,3.180125875164054,3.0751818546186915,3.4474681309497557,2.5998830720736876,3.2405492482825995,3.137354111370733,3.59802407233419,3.3756636139608855,3.346548558548474,4.19736327300672,4.093421685162235,3.3916407034923877,2.478566495593843,2.3729120029701067,3.521530341278711,3.4077307280263356,3.074084689028244,2.41161970596323,3.1583624920952498,4.2331992415847735,3.5324995860946626,2.824776462475546,3.273695587930092,3.5474054596674898,3.05307844348342,3.749968083509403,3.171433900943008,3.569958818096594,2.989004615698537,3.7800291273373383,2.900913067737669,3.3038437748886547,3.466125870418199,3.2116544005531824,2.406540180433955,3.1420764610732848,2.833147111912785,2.821513528404773,3.3244882333076564,2.850033257689769,2.929929560084588,3.813247300897605,2.8041394323353503,2.7730546933642626,2.9041743682841634,3.1212314551496214,2.9740509027928774,2.204119982655925,3.312811826212088,2.8998205024270964,2.9566485792052033,2.9138138523837167,4.0745238879349515,2.8494194137968996,3.686278678067201,3.4638929889859074,3.3079237036118814,2.7752462597402365,3.030599721965951,3.800717078282385,3.7867514221455614,3.667359546183087,3.647480773173676,2.82020145948564,3.901403826825252,2.837588438235511,3.36078268987328,3.110589710299249,3.003029470553618,3.0472748673841794,2.8959747323590648,2.2430380486862944,2.8943160626844384,3.1082266563749283,2.7944880466591697,2.4668676203541096,3.6824158616773586,2.841359470454855,2.8020892578817325,2.1172712956557644,2.823474229170301,2.4800069429571505,2.870403905279027,2.526339277389844,3.892762234615817,3.984932166067412,3.5260806918020298,3.281260687055013,4.051152522447381,3.926856708949692,2.287801729930226,4.130076332517164,2.4345689040341987,3.373279893277496,3.2143138974243994,2.6444385894678386,3.2111205412580492,3.0056094453602804,3.3637999454791094,3.3836358683618797,3.531095546870028,3.5538830266438746,3.080987046910887,3.037824750588342,3.5711262770843115,3.132579847659737,3.3109056293761414,2.403120521175818,3.1975562131535367,2.5658478186735176,null,3.47158505418519,2.885361220031512,2.8000293592441343,3.636287252098513,3.7945577512547617,2.225309281725863,3.6854730197227594,3.7138264243805246,2.9708116108725178,2.938519725176492,4.14770723378041,3.151982395457474,3.66228551572213,3.530199698203082,2.6989700043360187,4.372893600271661,2.4409090820652177,2.4955443375464483,2.496929648073215,2.506505032404872,2.423245873936808,2.506505032404872,2.496929648073215,2.741151598851785,2.3483048630481607,2.0718820073061255,2.582063362911709,3.182414652434554,3.5816083660320577,2.630427875025024,3.1082266563749283,2.9552065375419416,2.9258275746247424,2.586587304671755,3.5282737771670436,3.504470862494419,2.803457115648414,3.2773799746672547,2.376576957056512,2.3324384599156054,2.59659709562646,2.9863237770507656,2.800717078282385,3.0737183503461227,3.448242412634439,3.3651134316275773,2.6884198220027105,3.313445370426414,2.6599162000698504,3.0927206446840994,2.519827993775719,2.997386384397313,3.557025722386383,3.0253058652647704,3.6522463410033232,3.299942900022767,2.6127838567197355,3.727622577969137,2.1903316981702914,3.0457140589408676,3.2496874278053016,2.739572344450092,3.535167485114944,3.2380461031287955,2.801403710017355,3.207095540419218,2.2648178230095364,3.5770319856260313,2.760422483423212,3.614264287358705,2.6053050461411096,2.6954816764901977,2.278753600952829,3.3443922736851106,3.0941215958405612,2.6384892569546374,2.8020892578817325,2.507855871695831,2.9459607035775686,3.816042340921997,3.5770319856260313,3.5961570809161723,3.922673567858554,3.177824971864682,3.403635189790548,3.2741578492636796,3.2092468487533736,2.7788744720027396,3.1119342763326814,3.0153597554092144,3.843170464519898,3.3517963068970236,2.82020145948564,3.6264430253312945,2.320146286111054,2.5634810853944106,2.7442929831226763,2.380211241711606,2.546542663478131,3.496376054012401,2.6693168805661123,3.7481104674949837,2.2810333672477277,3.292477593667784,1.5440680443502757,2.9283958522567137,3.193958978019187,2.7745169657285498,3.787672964687493,2.9242792860618816,3.3866772839608377,2.3443922736851106,3.562768543016519,3.666705136119899,null,3.281941933440825,3.62879748556671,2.921166050637739,3.404149249209695,4.2707254067824545,3.4658288153574364,3.3226327116922234,3.788380515319563,3.468495024507069,3.1728946977521764,3.8516863154424277,3.119585774961784,4.7564535292849595,3.1806992012960347,2.4265112613645754,4.042299807413626,3.723537761532057,3.903849338096681,3.41161970596323,2.7151673578484576,3.218010042984363,2.496929648073215,2.632457292184724,2.5118833609788744,2.991226075692495,2.187520720836463,2.330413773349191,2.711807229041191,3.05307844348342,2.3909351071033793,3.280805928393667,2.456366033129043,2.429752280002408,3.092018470752797,3.768416088216332,2.444044795918076,2.9731278535996988,2.7101173651118162,2.974971994298069,2.6627578316815743,3.1911714557285586,3.1149444157125847,3.273464272621346,2.7551122663950713,2.4800069429571505,1.9777236052888478,2.9339931638312424,2.9907826918031377,3.577721524509021,3.2352758766870524,2.6627578316815743,2.837588438235511,2.863322860120456,2.7450747915820575,2.645422269349092,3.2706788361447066,2.5538830266438746,2.782472624166286,2.967547976218862,2.900913067737669,3.653309012938479,2.949877704036875,2.930949031167523,3.0856472882968564,3.407900540142635,3.3688445068258215,3.1812717715594614,3.450557009418329,3.3469394626989906,3.0136796972911926,4.138365863678996,3.2600713879850747,3.978317496746751,2.862131379313037,3.3010299956639813,2.866877814337499,3.038620161949703,2.7067177823367587,3.360593413565249,3.9867269593312185,3.4224256763712044,2.5575072019056577,3.4305587695227575,3.0382226383687185,3.1903316981702914,3.9490971251129157,2.110589710299249,3.738304793074105,2.45484486000851,2.6963563887333324,3.8717480189918714,2.971275848738105,3.339848783037637,2.4471580313422194,3.1058506743851435,3.1646502159342966,2.7965743332104296,2.89707700320942,3.567731962548069,2.7267272090265724,2.4578818967339924,3.3823773034681137,3.5033820634737327,2.7745169657285498,3.1522883443830567,3.0835026198302673,2.8512583487190755,3.805908455074197,2.637489729512511,2.870403905279027,3.4838724542226736,2.2600713879850747,3.9825425823029432,3.092018470752797,2.6473829701146196,3.0253058652647704,3.584331224367531,3.279894980011638,3.2427898094786767,2.8813846567705728,2.9003671286564705,3.305136318943639,4.2009325358991925,3.5245259366263757,3.229681842317676,3.1835545336188615,3.7539658658651605,3.700270937356437,3.364926033789976,2.9916690073799486,2.8756399370041685,2.8627275283179747,3.6388884247050757,3.1652443261253107,3.003029470553618,3.5686709780098966,3.187238619831479,2.0969100130080562,3.4742162640762553,3.0265332645232967,3.3068537486930087,3.3857849588433355,3.4649364291217326,2.942008053022313,3.3783979009481375,2.680335513414563,2.8394780473741985,3.2332500095411003,2.5390760987927767,3.0178677189635055,2.12057393120585,2.741939077729199,2.582063362911709,3.3161800988934527,3.3988077302032647,2.2600713879850747,3.1809855807867304,4.103803720955957,3.1631613749770184,2.9400181550076634,3.1705550585212086,2.7649229846498886,2.930949031167523,2.1702617153949575,3.1264561134318045,2.8228216453031045,2.8825245379548803,3.1947917577219247,3.083860800866573,2.6981005456233897,3.5211380837040362,4.059184617631371,3.3207692283386865,4.050573076755148,3.343802333161655,3.031408464251624,3.2823955047425257,3.540454613671412,3.0588054866759067,2.812244696800369,2.346352974450639,2.6127838567197355,3.514282047860378,3.4032921451582543,2.625312450961674,2.9647309210536292,2.7937903846908188,2.655138434811382,2.9003671286564705,2.606381365110605,2.531478917042255,2.6580113966571126,2.4727564493172123,2.5658478186735176,3.0149403497929366,3.1095785469043866,3.8656368876996288,3.3087777736647213,3.735758537443739,1.9822712330395684,2.8948696567452523,2.9469432706978256,2.944975908412048,3.0773679052841567],\"y0\":\" \",\"yaxis\":\"y\",\"type\":\"box\"},{\"alignmentgroup\":\"True\",\"hovertemplate\":\"Install_category=%{x}\\u003cbr\\u003ey=%{y}\\u003cextra\\u003e\\u003c\\u002fextra\\u003e\",\"legendgroup\":\"Significant\",\"marker\":{\"color\":\"#19d3f3\"},\"name\":\"Significant\",\"notched\":false,\"offsetgroup\":\"Significant\",\"orientation\":\"v\",\"showlegend\":true,\"x\":[\"Significant\",\"Significant\",\"Significant\",\"Significant\",\"Significant\",\"Significant\",\"Significant\",\"Significant\",\"Significant\",\"Significant\",\"Significant\",\"Significant\",\"Significant\",\"Significant\",\"Significant\",\"Significant\",\"Significant\",\"Significant\",\"Significant\",\"Significant\",\"Significant\",\"Significant\",\"Significant\",\"Significant\",\"Significant\",\"Significant\",\"Significant\",\"Significant\",\"Significant\",\"Significant\",\"Significant\",\"Significant\",\"Significant\",\"Significant\",\"Significant\",\"Significant\",\"Significant\",\"Significant\",\"Significant\",\"Significant\",\"Significant\",\"Significant\",\"Significant\",\"Significant\",\"Significant\",\"Significant\",\"Significant\",\"Significant\",\"Significant\",\"Significant\",\"Significant\",\"Significant\",\"Significant\",\"Significant\",\"Significant\",\"Significant\",\"Significant\",\"Significant\",\"Significant\",\"Significant\",\"Significant\",\"Significant\",\"Significant\",\"Significant\",\"Significant\",\"Significant\",\"Significant\",\"Significant\",\"Significant\",\"Significant\",\"Significant\",\"Significant\",\"Significant\",\"Significant\",\"Significant\",\"Significant\",\"Significant\",\"Significant\",\"Significant\",\"Significant\",\"Significant\",\"Significant\",\"Significant\",\"Significant\",\"Significant\",\"Significant\",\"Significant\",\"Significant\",\"Significant\",\"Significant\",\"Significant\",\"Significant\",\"Significant\",\"Significant\",\"Significant\",\"Significant\",\"Significant\",\"Significant\",\"Significant\",\"Significant\",\"Significant\",\"Significant\",\"Significant\",\"Significant\",\"Significant\",\"Significant\",\"Significant\",\"Significant\",\"Significant\",\"Significant\",\"Significant\",\"Significant\",\"Significant\",\"Significant\",\"Significant\",\"Significant\",\"Significant\",\"Significant\",\"Significant\",\"Significant\",\"Significant\",\"Significant\",\"Significant\",\"Significant\",\"Significant\",\"Significant\",\"Significant\",\"Significant\",\"Significant\",\"Significant\",\"Significant\",\"Significant\",\"Significant\",\"Significant\",\"Significant\",\"Significant\",\"Significant\",\"Significant\",\"Significant\",\"Significant\",\"Significant\",\"Significant\",\"Significant\",\"Significant\",\"Significant\",\"Significant\",\"Significant\",\"Significant\",\"Significant\",\"Significant\",\"Significant\",\"Significant\",\"Significant\",\"Significant\",\"Significant\",\"Significant\",\"Significant\",\"Significant\",\"Significant\",\"Significant\",\"Significant\",\"Significant\",\"Significant\",\"Significant\",\"Significant\",\"Significant\",\"Significant\",\"Significant\",\"Significant\",\"Significant\",\"Significant\",\"Significant\",\"Significant\",\"Significant\",\"Significant\",\"Significant\",\"Significant\",\"Significant\",\"Significant\",\"Significant\",\"Significant\",\"Significant\",\"Significant\",\"Significant\",\"Significant\",\"Significant\",\"Significant\",\"Significant\",\"Significant\",\"Significant\",\"Significant\",\"Significant\",\"Significant\",\"Significant\",\"Significant\",\"Significant\",\"Significant\",\"Significant\",\"Significant\",\"Significant\",\"Significant\",\"Significant\",\"Significant\",\"Significant\",\"Significant\",\"Significant\",\"Significant\",\"Significant\",\"Significant\",\"Significant\",\"Significant\",\"Significant\",\"Significant\",\"Significant\",\"Significant\",\"Significant\",\"Significant\",\"Significant\",\"Significant\",\"Significant\",\"Significant\",\"Significant\",\"Significant\",\"Significant\",\"Significant\",\"Significant\",\"Significant\",\"Significant\",\"Significant\",\"Significant\",\"Significant\",\"Significant\",\"Significant\",\"Significant\",\"Significant\",\"Significant\",\"Significant\",\"Significant\",\"Significant\",\"Significant\",\"Significant\",\"Significant\",\"Significant\",\"Significant\",\"Significant\",\"Significant\",\"Significant\",\"Significant\",\"Significant\",\"Significant\",\"Significant\",\"Significant\",\"Significant\",\"Significant\",\"Significant\",\"Significant\",\"Significant\",\"Significant\",\"Significant\",\"Significant\",\"Significant\",\"Significant\",\"Significant\",\"Significant\",\"Significant\",\"Significant\",\"Significant\",\"Significant\",\"Significant\",\"Significant\",\"Significant\",\"Significant\",\"Significant\",\"Significant\",\"Significant\",\"Significant\",\"Significant\",\"Significant\",\"Significant\",\"Significant\",\"Significant\",\"Significant\",\"Significant\",\"Significant\",\"Significant\",\"Significant\",\"Significant\",\"Significant\",\"Significant\",\"Significant\",\"Significant\",\"Significant\",\"Significant\",\"Significant\",\"Significant\",\"Significant\",\"Significant\",\"Significant\",\"Significant\",\"Significant\",\"Significant\",\"Significant\",\"Significant\",\"Significant\",\"Significant\",\"Significant\",\"Significant\",\"Significant\",\"Significant\",\"Significant\",\"Significant\",\"Significant\",\"Significant\",\"Significant\",\"Significant\",\"Significant\",\"Significant\",\"Significant\",\"Significant\",\"Significant\",\"Significant\",\"Significant\",\"Significant\",\"Significant\",\"Significant\",\"Significant\",\"Significant\",\"Significant\",\"Significant\",\"Significant\",\"Significant\",\"Significant\",\"Significant\",\"Significant\",\"Significant\",\"Significant\",\"Significant\",\"Significant\",\"Significant\",\"Significant\",\"Significant\",\"Significant\",\"Significant\",\"Significant\",\"Significant\",\"Significant\",\"Significant\",\"Significant\",\"Significant\",\"Significant\",\"Significant\",\"Significant\",\"Significant\",\"Significant\",\"Significant\",\"Significant\",\"Significant\",\"Significant\",\"Significant\",\"Significant\",\"Significant\",\"Significant\",\"Significant\",\"Significant\",\"Significant\",\"Significant\",\"Significant\",\"Significant\",\"Significant\",\"Significant\",\"Significant\",\"Significant\",\"Significant\",\"Significant\",\"Significant\",\"Significant\",\"Significant\",\"Significant\",\"Significant\",\"Significant\",\"Significant\",\"Significant\",\"Significant\",\"Significant\",\"Significant\",\"Significant\",\"Significant\",\"Significant\",\"Significant\",\"Significant\",\"Significant\",\"Significant\",\"Significant\",\"Significant\",\"Significant\",\"Significant\",\"Significant\",\"Significant\",\"Significant\",\"Significant\",\"Significant\",\"Significant\",\"Significant\",\"Significant\",\"Significant\",\"Significant\",\"Significant\",\"Significant\",\"Significant\",\"Significant\",\"Significant\",\"Significant\",\"Significant\",\"Significant\",\"Significant\",\"Significant\",\"Significant\",\"Significant\",\"Significant\",\"Significant\",\"Significant\",\"Significant\",\"Significant\",\"Significant\",\"Significant\",\"Significant\",\"Significant\",\"Significant\",\"Significant\",\"Significant\",\"Significant\",\"Significant\",\"Significant\",\"Significant\",\"Significant\",\"Significant\",\"Significant\",\"Significant\",\"Significant\",\"Significant\",\"Significant\",\"Significant\",\"Significant\",\"Significant\",\"Significant\",\"Significant\",\"Significant\",\"Significant\",\"Significant\",\"Significant\",\"Significant\",\"Significant\",\"Significant\",\"Significant\",\"Significant\",\"Significant\",\"Significant\",\"Significant\",\"Significant\",\"Significant\",\"Significant\",\"Significant\",\"Significant\",\"Significant\",\"Significant\",\"Significant\",\"Significant\",\"Significant\",\"Significant\",\"Significant\",\"Significant\",\"Significant\",\"Significant\",\"Significant\",\"Significant\",\"Significant\",\"Significant\",\"Significant\",\"Significant\",\"Significant\",\"Significant\",\"Significant\",\"Significant\",\"Significant\",\"Significant\",\"Significant\",\"Significant\",\"Significant\",\"Significant\",\"Significant\",\"Significant\",\"Significant\",\"Significant\",\"Significant\",\"Significant\",\"Significant\",\"Significant\",\"Significant\",\"Significant\",\"Significant\",\"Significant\",\"Significant\",\"Significant\",\"Significant\",\"Significant\",\"Significant\",\"Significant\",\"Significant\",\"Significant\",\"Significant\",\"Significant\",\"Significant\",\"Significant\",\"Significant\",\"Significant\",\"Significant\",\"Significant\",\"Significant\",\"Significant\",\"Significant\",\"Significant\",\"Significant\",\"Significant\",\"Significant\",\"Significant\",\"Significant\",\"Significant\",\"Significant\",\"Significant\",\"Significant\",\"Significant\",\"Significant\",\"Significant\",\"Significant\",\"Significant\",\"Significant\",\"Significant\",\"Significant\",\"Significant\",\"Significant\",\"Significant\",\"Significant\",\"Significant\",\"Significant\",\"Significant\",\"Significant\",\"Significant\",\"Significant\",\"Significant\",\"Significant\",\"Significant\",\"Significant\",\"Significant\",\"Significant\",\"Significant\",\"Significant\",\"Significant\",\"Significant\",\"Significant\",\"Significant\",\"Significant\",\"Significant\",\"Significant\",\"Significant\",\"Significant\",\"Significant\",\"Significant\",\"Significant\",\"Significant\",\"Significant\",\"Significant\",\"Significant\",\"Significant\",\"Significant\",\"Significant\",\"Significant\",\"Significant\",\"Significant\",\"Significant\",\"Significant\",\"Significant\",\"Significant\",\"Significant\",\"Significant\",\"Significant\",\"Significant\",\"Significant\",\"Significant\",\"Significant\",\"Significant\",\"Significant\",\"Significant\",\"Significant\",\"Significant\",\"Significant\",\"Significant\",\"Significant\",\"Significant\",\"Significant\",\"Significant\",\"Significant\",\"Significant\",\"Significant\",\"Significant\",\"Significant\",\"Significant\",\"Significant\",\"Significant\",\"Significant\",\"Significant\",\"Significant\",\"Significant\",\"Significant\",\"Significant\",\"Significant\",\"Significant\",\"Significant\",\"Significant\",\"Significant\",\"Significant\",\"Significant\",\"Significant\",\"Significant\",\"Significant\",\"Significant\",\"Significant\",\"Significant\",\"Significant\",\"Significant\",\"Significant\",\"Significant\",\"Significant\",\"Significant\",\"Significant\",\"Significant\",\"Significant\",\"Significant\",\"Significant\",\"Significant\",\"Significant\",\"Significant\",\"Significant\",\"Significant\",\"Significant\",\"Significant\",\"Significant\",\"Significant\",\"Significant\",\"Significant\",\"Significant\",\"Significant\",\"Significant\",\"Significant\",\"Significant\",\"Significant\",\"Significant\",\"Significant\",\"Significant\",\"Significant\",\"Significant\",\"Significant\",\"Significant\",\"Significant\",\"Significant\",\"Significant\",\"Significant\",\"Significant\",\"Significant\",\"Significant\",\"Significant\",\"Significant\",\"Significant\",\"Significant\",\"Significant\",\"Significant\",\"Significant\",\"Significant\",\"Significant\",\"Significant\",\"Significant\",\"Significant\",\"Significant\",\"Significant\",\"Significant\",\"Significant\",\"Significant\",\"Significant\",\"Significant\",\"Significant\",\"Significant\",\"Significant\",\"Significant\",\"Significant\",\"Significant\",\"Significant\",\"Significant\",\"Significant\",\"Significant\",\"Significant\",\"Significant\",\"Significant\",\"Significant\",\"Significant\",\"Significant\",\"Significant\",\"Significant\",\"Significant\",\"Significant\",\"Significant\",\"Significant\",\"Significant\",\"Significant\",\"Significant\",\"Significant\",\"Significant\",\"Significant\",\"Significant\",\"Significant\",\"Significant\",\"Significant\",\"Significant\",\"Significant\",\"Significant\",\"Significant\",\"Significant\",\"Significant\",\"Significant\",\"Significant\",\"Significant\",\"Significant\",\"Significant\",\"Significant\",\"Significant\",\"Significant\",\"Significant\",\"Significant\",\"Significant\",\"Significant\",\"Significant\",\"Significant\",\"Significant\",\"Significant\",\"Significant\",\"Significant\",\"Significant\",\"Significant\",\"Significant\",\"Significant\",\"Significant\",\"Significant\",\"Significant\",\"Significant\",\"Significant\",\"Significant\",\"Significant\",\"Significant\",\"Significant\",\"Significant\",\"Significant\",\"Significant\",\"Significant\",\"Significant\",\"Significant\",\"Significant\",\"Significant\",\"Significant\",\"Significant\",\"Significant\",\"Significant\",\"Significant\",\"Significant\",\"Significant\",\"Significant\",\"Significant\",\"Significant\",\"Significant\",\"Significant\",\"Significant\",\"Significant\",\"Significant\",\"Significant\",\"Significant\",\"Significant\",\"Significant\",\"Significant\",\"Significant\",\"Significant\",\"Significant\",\"Significant\",\"Significant\",\"Significant\",\"Significant\",\"Significant\",\"Significant\",\"Significant\",\"Significant\",\"Significant\",\"Significant\",\"Significant\",\"Significant\",\"Significant\",\"Significant\",\"Significant\",\"Significant\",\"Significant\",\"Significant\",\"Significant\",\"Significant\",\"Significant\",\"Significant\",\"Significant\",\"Significant\",\"Significant\",\"Significant\",\"Significant\",\"Significant\",\"Significant\",\"Significant\",\"Significant\",\"Significant\",\"Significant\",\"Significant\",\"Significant\",\"Significant\",\"Significant\",\"Significant\",\"Significant\",\"Significant\",\"Significant\",\"Significant\",\"Significant\",\"Significant\",\"Significant\",\"Significant\",\"Significant\",\"Significant\",\"Significant\",\"Significant\",\"Significant\",\"Significant\",\"Significant\",\"Significant\",\"Significant\",\"Significant\",\"Significant\",\"Significant\",\"Significant\",\"Significant\",\"Significant\",\"Significant\",\"Significant\",\"Significant\",\"Significant\",\"Significant\",\"Significant\",\"Significant\",\"Significant\",\"Significant\",\"Significant\",\"Significant\",\"Significant\",\"Significant\",\"Significant\",\"Significant\",\"Significant\",\"Significant\",\"Significant\",\"Significant\",\"Significant\",\"Significant\",\"Significant\",\"Significant\",\"Significant\",\"Significant\",\"Significant\",\"Significant\",\"Significant\",\"Significant\",\"Significant\",\"Significant\",\"Significant\",\"Significant\",\"Significant\",\"Significant\",\"Significant\",\"Significant\",\"Significant\",\"Significant\",\"Significant\",\"Significant\",\"Significant\",\"Significant\",\"Significant\",\"Significant\",\"Significant\",\"Significant\",\"Significant\",\"Significant\",\"Significant\",\"Significant\",\"Significant\",\"Significant\",\"Significant\",\"Significant\",\"Significant\",\"Significant\",\"Significant\",\"Significant\",\"Significant\",\"Significant\",\"Significant\",\"Significant\",\"Significant\",\"Significant\",\"Significant\",\"Significant\",\"Significant\",\"Significant\",\"Significant\",\"Significant\",\"Significant\",\"Significant\",\"Significant\",\"Significant\",\"Significant\",\"Significant\",\"Significant\",\"Significant\",\"Significant\",\"Significant\",\"Significant\",\"Significant\",\"Significant\",\"Significant\",\"Significant\",\"Significant\",\"Significant\",\"Significant\",\"Significant\",\"Significant\",\"Significant\",\"Significant\",\"Significant\",\"Significant\",\"Significant\",\"Significant\",\"Significant\",\"Significant\",\"Significant\",\"Significant\",\"Significant\",\"Significant\",\"Significant\",\"Significant\",\"Significant\",\"Significant\",\"Significant\",\"Significant\",\"Significant\",\"Significant\",\"Significant\",\"Significant\",\"Significant\",\"Significant\",\"Significant\",\"Significant\",\"Significant\",\"Significant\",\"Significant\",\"Significant\",\"Significant\",\"Significant\",\"Significant\",\"Significant\",\"Significant\",\"Significant\",\"Significant\",\"Significant\",\"Significant\",\"Significant\",\"Significant\",\"Significant\",\"Significant\",\"Significant\",\"Significant\",\"Significant\",\"Significant\",\"Significant\",\"Significant\",\"Significant\",\"Significant\",\"Significant\",\"Significant\",\"Significant\",\"Significant\",\"Significant\",\"Significant\",\"Significant\",\"Significant\",\"Significant\",\"Significant\",\"Significant\",\"Significant\",\"Significant\",\"Significant\",\"Significant\",\"Significant\",\"Significant\",\"Significant\",\"Significant\",\"Significant\",\"Significant\",\"Significant\",\"Significant\",\"Significant\",\"Significant\",\"Significant\",\"Significant\",\"Significant\",\"Significant\",\"Significant\",\"Significant\",\"Significant\",\"Significant\",\"Significant\",\"Significant\",\"Significant\",\"Significant\",\"Significant\",\"Significant\",\"Significant\",\"Significant\",\"Significant\",\"Significant\",\"Significant\",\"Significant\",\"Significant\",\"Significant\",\"Significant\",\"Significant\",\"Significant\",\"Significant\",\"Significant\",\"Significant\",\"Significant\",\"Significant\",\"Significant\",\"Significant\",\"Significant\",\"Significant\",\"Significant\",\"Significant\",\"Significant\",\"Significant\",\"Significant\",\"Significant\",\"Significant\",\"Significant\",\"Significant\",\"Significant\",\"Significant\",\"Significant\",\"Significant\",\"Significant\",\"Significant\",\"Significant\",\"Significant\",\"Significant\",\"Significant\",\"Significant\",\"Significant\",\"Significant\",\"Significant\",\"Significant\",\"Significant\",\"Significant\",\"Significant\",\"Significant\",\"Significant\",\"Significant\",\"Significant\",\"Significant\",\"Significant\",\"Significant\",\"Significant\",\"Significant\",\"Significant\",\"Significant\",\"Significant\",\"Significant\",\"Significant\",\"Significant\",\"Significant\",\"Significant\",\"Significant\",\"Significant\",\"Significant\",\"Significant\",\"Significant\",\"Significant\",\"Significant\",\"Significant\",\"Significant\",\"Significant\",\"Significant\",\"Significant\",\"Significant\",\"Significant\",\"Significant\",\"Significant\",\"Significant\",\"Significant\",\"Significant\",\"Significant\",\"Significant\",\"Significant\",\"Significant\",\"Significant\",\"Significant\",\"Significant\",\"Significant\",\"Significant\",\"Significant\",\"Significant\",\"Significant\",\"Significant\",\"Significant\",\"Significant\",\"Significant\",\"Significant\",\"Significant\",\"Significant\",\"Significant\",\"Significant\",\"Significant\",\"Significant\",\"Significant\",\"Significant\",\"Significant\",\"Significant\",\"Significant\",\"Significant\",\"Significant\",\"Significant\",\"Significant\",\"Significant\",\"Significant\",\"Significant\",\"Significant\",\"Significant\",\"Significant\",\"Significant\",\"Significant\",\"Significant\",\"Significant\",\"Significant\",\"Significant\",\"Significant\",\"Significant\",\"Significant\",\"Significant\",\"Significant\",\"Significant\",\"Significant\",\"Significant\",\"Significant\",\"Significant\",\"Significant\",\"Significant\",\"Significant\",\"Significant\",\"Significant\",\"Significant\",\"Significant\",\"Significant\",\"Significant\",\"Significant\",\"Significant\",\"Significant\",\"Significant\",\"Significant\",\"Significant\",\"Significant\",\"Significant\",\"Significant\",\"Significant\",\"Significant\",\"Significant\",\"Significant\",\"Significant\",\"Significant\",\"Significant\",\"Significant\",\"Significant\",\"Significant\",\"Significant\",\"Significant\",\"Significant\",\"Significant\",\"Significant\",\"Significant\",\"Significant\",\"Significant\",\"Significant\",\"Significant\",\"Significant\",\"Significant\",\"Significant\",\"Significant\",\"Significant\",\"Significant\",\"Significant\",\"Significant\",\"Significant\",\"Significant\",\"Significant\",\"Significant\",\"Significant\",\"Significant\",\"Significant\",\"Significant\",\"Significant\",\"Significant\",\"Significant\",\"Significant\",\"Significant\",\"Significant\",\"Significant\",\"Significant\",\"Significant\",\"Significant\",\"Significant\",\"Significant\",\"Significant\",\"Significant\",\"Significant\",\"Significant\",\"Significant\",\"Significant\",\"Significant\",\"Significant\",\"Significant\",\"Significant\",\"Significant\",\"Significant\",\"Significant\",\"Significant\",\"Significant\",\"Significant\",\"Significant\",\"Significant\",\"Significant\",\"Significant\",\"Significant\",\"Significant\",\"Significant\",\"Significant\",\"Significant\",\"Significant\",\"Significant\",\"Significant\",\"Significant\",\"Significant\",\"Significant\",\"Significant\",\"Significant\",\"Significant\",\"Significant\",\"Significant\",\"Significant\",\"Significant\",\"Significant\",\"Significant\",\"Significant\",\"Significant\",\"Significant\",\"Significant\",\"Significant\",\"Significant\",\"Significant\",\"Significant\",\"Significant\",\"Significant\",\"Significant\",\"Significant\",\"Significant\",\"Significant\",\"Significant\",\"Significant\",\"Significant\",\"Significant\",\"Significant\",\"Significant\",\"Significant\",\"Significant\",\"Significant\",\"Significant\",\"Significant\",\"Significant\",\"Significant\",\"Significant\",\"Significant\",\"Significant\",\"Significant\",\"Significant\",\"Significant\",\"Significant\",\"Significant\",\"Significant\",\"Significant\",\"Significant\",\"Significant\",\"Significant\",\"Significant\",\"Significant\",\"Significant\",\"Significant\",\"Significant\",\"Significant\",\"Significant\",\"Significant\",\"Significant\",\"Significant\",\"Significant\",\"Significant\",\"Significant\",\"Significant\",\"Significant\",\"Significant\",\"Significant\",\"Significant\",\"Significant\",\"Significant\",\"Significant\",\"Significant\",\"Significant\",\"Significant\",\"Significant\",\"Significant\",\"Significant\",\"Significant\",\"Significant\",\"Significant\",\"Significant\",\"Significant\",\"Significant\",\"Significant\",\"Significant\",\"Significant\",\"Significant\",\"Significant\",\"Significant\",\"Significant\",\"Significant\",\"Significant\",\"Significant\",\"Significant\",\"Significant\",\"Significant\",\"Significant\",\"Significant\",\"Significant\",\"Significant\",\"Significant\",\"Significant\",\"Significant\",\"Significant\",\"Significant\",\"Significant\",\"Significant\",\"Significant\",\"Significant\",\"Significant\",\"Significant\",\"Significant\",\"Significant\",\"Significant\",\"Significant\",\"Significant\",\"Significant\",\"Significant\",\"Significant\",\"Significant\",\"Significant\",\"Significant\",\"Significant\",\"Significant\",\"Significant\",\"Significant\",\"Significant\",\"Significant\",\"Significant\",\"Significant\",\"Significant\",\"Significant\",\"Significant\",\"Significant\",\"Significant\",\"Significant\",\"Significant\",\"Significant\",\"Significant\",\"Significant\",\"Significant\",\"Significant\",\"Significant\",\"Significant\",\"Significant\",\"Significant\",\"Significant\",\"Significant\",\"Significant\",\"Significant\",\"Significant\",\"Significant\",\"Significant\",\"Significant\",\"Significant\",\"Significant\",\"Significant\",\"Significant\",\"Significant\",\"Significant\",\"Significant\",\"Significant\",\"Significant\",\"Significant\",\"Significant\",\"Significant\",\"Significant\",\"Significant\",\"Significant\",\"Significant\",\"Significant\",\"Significant\",\"Significant\",\"Significant\",\"Significant\",\"Significant\",\"Significant\",\"Significant\",\"Significant\",\"Significant\",\"Significant\",\"Significant\",\"Significant\",\"Significant\",\"Significant\",\"Significant\",\"Significant\",\"Significant\",\"Significant\",\"Significant\",\"Significant\",\"Significant\",\"Significant\",\"Significant\",\"Significant\",\"Significant\",\"Significant\",\"Significant\",\"Significant\",\"Significant\",\"Significant\",\"Significant\",\"Significant\",\"Significant\",\"Significant\",\"Significant\",\"Significant\",\"Significant\",\"Significant\",\"Significant\",\"Significant\",\"Significant\",\"Significant\",\"Significant\",\"Significant\",\"Significant\",\"Significant\",\"Significant\",\"Significant\",\"Significant\",\"Significant\",\"Significant\",\"Significant\",\"Significant\",\"Significant\",\"Significant\",\"Significant\",\"Significant\",\"Significant\",\"Significant\",\"Significant\",\"Significant\",\"Significant\",\"Significant\",\"Significant\",\"Significant\",\"Significant\",\"Significant\",\"Significant\",\"Significant\",\"Significant\",\"Significant\",\"Significant\",\"Significant\",\"Significant\",\"Significant\",\"Significant\",\"Significant\",\"Significant\",\"Significant\",\"Significant\",\"Significant\",\"Significant\",\"Significant\",\"Significant\",\"Significant\",\"Significant\",\"Significant\",\"Significant\",\"Significant\",\"Significant\",\"Significant\",\"Significant\",\"Significant\",\"Significant\",\"Significant\",\"Significant\",\"Significant\",\"Significant\",\"Significant\",\"Significant\",\"Significant\",\"Significant\",\"Significant\",\"Significant\",\"Significant\",\"Significant\",\"Significant\",\"Significant\",\"Significant\",\"Significant\",\"Significant\",\"Significant\",\"Significant\",\"Significant\",\"Significant\",\"Significant\",\"Significant\",\"Significant\",\"Significant\",\"Significant\",\"Significant\",\"Significant\",\"Significant\",\"Significant\",\"Significant\",\"Significant\",\"Significant\",\"Significant\",\"Significant\",\"Significant\",\"Significant\",\"Significant\",\"Significant\",\"Significant\",\"Significant\",\"Significant\",\"Significant\",\"Significant\",\"Significant\",\"Significant\",\"Significant\",\"Significant\",\"Significant\",\"Significant\",\"Significant\",\"Significant\",\"Significant\",\"Significant\",\"Significant\",\"Significant\",\"Significant\",\"Significant\",\"Significant\",\"Significant\",\"Significant\",\"Significant\",\"Significant\",\"Significant\",\"Significant\",\"Significant\",\"Significant\",\"Significant\",\"Significant\",\"Significant\",\"Significant\",\"Significant\",\"Significant\",\"Significant\",\"Significant\",\"Significant\",\"Significant\",\"Significant\",\"Significant\",\"Significant\",\"Significant\",\"Significant\",\"Significant\",\"Significant\",\"Significant\",\"Significant\",\"Significant\",\"Significant\",\"Significant\",\"Significant\",\"Significant\",\"Significant\",\"Significant\",\"Significant\",\"Significant\",\"Significant\",\"Significant\",\"Significant\",\"Significant\",\"Significant\",\"Significant\",\"Significant\",\"Significant\",\"Significant\",\"Significant\",\"Significant\",\"Significant\",\"Significant\",\"Significant\",\"Significant\",\"Significant\",\"Significant\",\"Significant\",\"Significant\",\"Significant\",\"Significant\",\"Significant\",\"Significant\",\"Significant\",\"Significant\",\"Significant\",\"Significant\",\"Significant\",\"Significant\",\"Significant\",\"Significant\",\"Significant\",\"Significant\",\"Significant\",\"Significant\",\"Significant\",\"Significant\",\"Significant\",\"Significant\",\"Significant\",\"Significant\",\"Significant\",\"Significant\",\"Significant\",\"Significant\",\"Significant\",\"Significant\",\"Significant\",\"Significant\",\"Significant\",\"Significant\",\"Significant\",\"Significant\",\"Significant\",\"Significant\",\"Significant\",\"Significant\",\"Significant\",\"Significant\",\"Significant\",\"Significant\",\"Significant\",\"Significant\",\"Significant\",\"Significant\",\"Significant\",\"Significant\",\"Significant\",\"Significant\",\"Significant\",\"Significant\",\"Significant\",\"Significant\",\"Significant\",\"Significant\",\"Significant\",\"Significant\",\"Significant\",\"Significant\",\"Significant\",\"Significant\",\"Significant\",\"Significant\",\"Significant\",\"Significant\",\"Significant\",\"Significant\",\"Significant\",\"Significant\",\"Significant\",\"Significant\",\"Significant\",\"Significant\",\"Significant\",\"Significant\",\"Significant\",\"Significant\",\"Significant\",\"Significant\",\"Significant\",\"Significant\",\"Significant\",\"Significant\",\"Significant\",\"Significant\",\"Significant\",\"Significant\",\"Significant\",\"Significant\",\"Significant\",\"Significant\",\"Significant\",\"Significant\",\"Significant\",\"Significant\",\"Significant\",\"Significant\",\"Significant\",\"Significant\",\"Significant\",\"Significant\",\"Significant\",\"Significant\",\"Significant\",\"Significant\",\"Significant\",\"Significant\",\"Significant\",\"Significant\",\"Significant\",\"Significant\",\"Significant\",\"Significant\",\"Significant\",\"Significant\",\"Significant\",\"Significant\",\"Significant\",\"Significant\",\"Significant\",\"Significant\",\"Significant\",\"Significant\",\"Significant\",\"Significant\",\"Significant\",\"Significant\",\"Significant\",\"Significant\",\"Significant\",\"Significant\",\"Significant\",\"Significant\",\"Significant\",\"Significant\",\"Significant\",\"Significant\",\"Significant\",\"Significant\",\"Significant\",\"Significant\",\"Significant\",\"Significant\",\"Significant\",\"Significant\",\"Significant\",\"Significant\",\"Significant\",\"Significant\",\"Significant\",\"Significant\",\"Significant\",\"Significant\",\"Significant\",\"Significant\",\"Significant\",\"Significant\",\"Significant\",\"Significant\",\"Significant\",\"Significant\",\"Significant\",\"Significant\",\"Significant\",\"Significant\",\"Significant\",\"Significant\",\"Significant\",\"Significant\",\"Significant\",\"Significant\",\"Significant\",\"Significant\",\"Significant\",\"Significant\",\"Significant\",\"Significant\",\"Significant\",\"Significant\",\"Significant\",\"Significant\",\"Significant\",\"Significant\",\"Significant\",\"Significant\",\"Significant\",\"Significant\",\"Significant\",\"Significant\",\"Significant\",\"Significant\",\"Significant\",\"Significant\",\"Significant\",\"Significant\",\"Significant\",\"Significant\",\"Significant\",\"Significant\",\"Significant\",\"Significant\",\"Significant\",\"Significant\",\"Significant\",\"Significant\",\"Significant\",\"Significant\",\"Significant\",\"Significant\",\"Significant\",\"Significant\",\"Significant\",\"Significant\",\"Significant\",\"Significant\",\"Significant\",\"Significant\",\"Significant\",\"Significant\",\"Significant\",\"Significant\",\"Significant\",\"Significant\",\"Significant\",\"Significant\",\"Significant\",\"Significant\",\"Significant\",\"Significant\",\"Significant\",\"Significant\",\"Significant\",\"Significant\",\"Significant\",\"Significant\",\"Significant\",\"Significant\",\"Significant\",\"Significant\",\"Significant\",\"Significant\",\"Significant\",\"Significant\",\"Significant\",\"Significant\",\"Significant\",\"Significant\",\"Significant\",\"Significant\",\"Significant\",\"Significant\",\"Significant\",\"Significant\",\"Significant\",\"Significant\",\"Significant\",\"Significant\",\"Significant\",\"Significant\",\"Significant\",\"Significant\",\"Significant\",\"Significant\",\"Significant\",\"Significant\",\"Significant\",\"Significant\",\"Significant\",\"Significant\",\"Significant\",\"Significant\",\"Significant\",\"Significant\",\"Significant\",\"Significant\",\"Significant\",\"Significant\",\"Significant\",\"Significant\",\"Significant\",\"Significant\",\"Significant\",\"Significant\",\"Significant\",\"Significant\",\"Significant\",\"Significant\",\"Significant\",\"Significant\",\"Significant\",\"Significant\",\"Significant\",\"Significant\",\"Significant\",\"Significant\",\"Significant\",\"Significant\",\"Significant\",\"Significant\",\"Significant\",\"Significant\",\"Significant\",\"Significant\",\"Significant\",\"Significant\",\"Significant\",\"Significant\",\"Significant\",\"Significant\",\"Significant\",\"Significant\",\"Significant\",\"Significant\",\"Significant\",\"Significant\",\"Significant\",\"Significant\",\"Significant\",\"Significant\",\"Significant\",\"Significant\",\"Significant\",\"Significant\",\"Significant\",\"Significant\",\"Significant\",\"Significant\",\"Significant\",\"Significant\",\"Significant\",\"Significant\",\"Significant\",\"Significant\",\"Significant\",\"Significant\",\"Significant\",\"Significant\",\"Significant\",\"Significant\",\"Significant\",\"Significant\",\"Significant\",\"Significant\",\"Significant\",\"Significant\",\"Significant\",\"Significant\",\"Significant\",\"Significant\",\"Significant\",\"Significant\",\"Significant\",\"Significant\",\"Significant\",\"Significant\",\"Significant\",\"Significant\",\"Significant\",\"Significant\",\"Significant\"],\"x0\":\" \",\"xaxis\":\"x\",\"y\":[2.9854264740830017,4.56602480481272,4.139595758469972,4.1423894661188365,3.943890048248473,3.5601458398490475,3.8864343196289384,4.306639441024261,3.910891088644528,2.7715874808812555,3.2035767749779724,4.231902649456643,4.589346305830272,3.13956426617585,3.846398973034675,3.5531545481696254,5.294765940229239,4.180928319993991,3.3334472744967503,3.7335182514344876,4.33799805112296,4.126196367920531,3.6817837664678814,4.8181334807011895,4.4973858325374465,3.707314633588708,3.2440295890300215,3.428134794028789,4.276461804173244,4.69714212627546,3.2402995820027125,4.506369717095504,3.3473300153169503,3.933082162369791,4.623766000133931,4.253677165422924,3.555698894718901,3.9691828592322613,4.428685415439189,3.3573630306151427,3.357934847000454,3.5878231713189552,4.35191220632801,3.156851901070011,5.066352019525511,2.9854264740830017,4.2431869241314715,3.269979676645324,3.3188977146274867,4.674888684968885,4.280578370368076,3.6646419755561257,4.32911300268182,4.429348472923662,3.249931756634195,3.4328090050331683,3.0273496077747564,3.943890048248473,4.709854846624769,4.478638631543166,2.1931245983544616,4.513004397077942,4.2198202071472375,5.173025928773911,3.649140064144219,4.666077847246061,4.826074802700826,4.662417815976578,4.174786417367337,3.839037873388306,4.279279007906624,4.02530586526477,4.871333540629149,3.3592661646067485,3.953179601065634,4.6283071728057354,4.667499648710859,4.365019742816535,3.768490105171245,3.736237098904729,3.6189889203649335,4.318376415222796,4.8957649842542725,3.8542452970661185,3.8444150404738244,4.215426047793767,3.7169210731667612,3.024485667699167,4.380301710305185,4.756681740995333,3.351989455435632,5.37834338357477,4.082354451330969,4.409442786708956,4.181672122068266,4.353165804965758,4.474784264452135,3.9979103673467433,4.274481139688916,3.7758288144646124,4.317415586331099,4.566790912381592,4.6270584640009895,4.669335479503264,4.450833933891004,4.571941635074462,4.566943971856554,4.200850498091078,4.632710303832954,4.117271295655764,4.433865800002353,4.741135834700641,4.099611590392529,4.040008636013542,4.857724390968307,4.439963935920905,4.24375714102993,5.375605094551402,4.508583581613288,4.5089738861152915,4.184322265577157,4.172398577939305,3.9776321652459994,5.263337758504148,4.320167065254232,5.088472757974482,4.650365813781229,4.374876599702403,4.465501819941671,3.890923771489014,4.101472117000238,4.688820113939199,4.065691728093271,4.009110806132212,4.568823376436811,4.120639728415567,4.457442840728419,5.348086687259639,3.215637563435062,3.5332635167787148,4.072102778885176,4.353030975765281,4.9898234349495185,4.115477374186469,4.23724203998423,3.9406160823374075,3.4138025167693513,3.730540036477119,3.2949069106051923,4.546616684638195,4.602439832843189,3.2043913319193,4.756491572898771,3.8969669019331548,3.385606273598312,3.694868327982456,3.216165902285993,4.120705515658274,4.115577231128523,4.713473742208743,4.35305023964259,3.940665872475829,4.364926033789976,4.142702245737616,4.756506789411224,4.128399268717806,3.791760804012905,4.1784301399477375,4.546604348654274,3.826139617935915,4.602483222156301,3.398981066658131,3.937568038600383,3.694956002249818,4.101506496139928,4.619145526346042,3.3861421089308186,4.989890118511972,4.50982058221228,3.6101276130759956,4.025756314534414,3.969462507974637,4.748691826488454,5.124295504665947,3.3925210899319325,2.591064607026499,3.037426497940624,2.8739015978644615,3.2092468487533736,3.500785172917456,4.4750170755177985,3.8284020784915933,3.845408139621793,2.9489017609702137,3.758987546867619,4.035509785089558,3.9951084577447404,3.2853322276438846,4.9957229219954655,4.510290256640203,4.755089368015571,3.93444794894897,4.614739070319703,4.476831628512261,4.075692918201804,4.347349533731457,4.349937697147753,4.865719726545427,4.104930739077741,4.401107465479456,4.722164828650272,4.7906299287657355,4.745886382167524,4.285039447366519,4.578203551149766,4.139595758469972,4.510276844417355,3.901621764093357,3.7554937284151193,4.738764708031552,3.6825962914605532,4.875709326051567,4.526933440590141,3.9707187037201894,3.5816083660320577,4.679854712765105,4.209380952346196,4.453195986339536,3.5851221863068155,4.152471810336036,4.1673173347481764,4.631727794003285,4.604323272310015,5.408373965199924,4.206906792930864,4.492550871704174,4.066549538761934,4.461618563954016,3.8437931983259124,4.247531386233569,4.568201724066995,4.671320977612709,4.066735795350929,4.362915798999595,3.9502674680135885,4.472610197596045,4.623766000133931,4.33978920494825,4.51497254250406,4.648847708372894,3.892817824309576,4.183383742052695,5.190986848334603,4.086929024048365,4.523577397132255,4.438130800243104,4.472844176715128,4.170467076385937,4.361690069637996,4.093351632015555,4.555433042054658,4.8092094445375055,4.349821269512391,4.214101735973232,3.2940250940953226,4.547516266351024,4.55546930427502,4.236713563365638,4.267711326726692,3.938219417812743,4.438130800243104,4.36167118521656,3.952695599586917,3.9974300737974713,4.374124860179728,4.829651069516388,4.588484599044793,3.8496650554787326,4.314099063295284,4.191953767152995,3.9155053617543767,3.9444826721501687,4.591520933198543,3.7836177651907485,4.5038723608586135,4.3153824963149905,4.49440507627968,5.223153146586924,4.183184400298215,4.550448502899969,4.085825533520743,4.342343711009842,4.08181520063228,5.047788705635068,4.812639330613896,3.858236335429513,4.406676408315217,4.781389120778691,4.029261995804175,3.586137025230793,4.648798963271332,4.7596149708385775,4.076239819775025,4.662351670887225,5.101853572983323,4.333850145102545,4.229451454151763,5.046315634454751,3.7729081949712717,4.195982630688358,3.7887338588277073,4.364175632770619,4.844930494113878,4.424669335565875,4.400814192267559,4.298197867109815,5.208011148892835,4.663757445939181,4.1801545594533485,4.627468272459709,3.6378898165807905,4.358087204301404,4.631535083018744,4.225516039397896,4.391764065084441,3.5229655954919865,4.027675715904893,4.89409996958547,3.4139699717480614,4.142013832984359,4.043990665878134,4.662398918407578,4.542339840842044,5.1019085300117695,4.181614951728961,3.7745169657285498,4.203929937244626,3.7712199019495336,4.165155261392066,4.849922829800399,4.051692641798037,4.393206554563365,4.636618265427457,3.8449739381468877,4.518474456766636,5.11306385121322,3.78660947264866,3.3932241163612975,3.5211380837040362,4.833166243406892,3.9248992640142837,4.031044716583705,3.5801263254115825,4.006850960324272,4.639625919240812,4.352433371350281,3.9298785236567833,4.285872227069257,4.328664961441525,4.4803519405777585,4.174699288370776,3.237040791379191,4.14813973650122,3.6924062348336304,3.8133808067338557,3.957415714722669,4.343822010762161,4.960751337214615,4.342718689795545,4.504959932908608,4.359361102738486,4.232258962342701,4.603317622640193,4.711950564728687,5.019132913841149,4.546764689120566,3.197831693328903,4.49330466149301,4.683731278618886,4.103974669386388,2.667452952889954,3.795045370421125,4.7094989230909565,3.959804316508338,4.7015161774551855,3.0569048513364727,4.080229524884867,4.890851187608398,3.2697463731307668,3.0802656273398448,4.170555058521209,4.43763959750037,4.018908444316327,4.694420913696159,3.68556261115823,4.3183138172239985,4.824717945803868,3.733999286538387,4.461663569340875,5.027541225971498,4.4376871575378605,4.583686089566426,4.878355169096278,4.423900918528417,4.2804417782984165,3.901785145303599,3.880012838366772,4.683281241810565,4.461573553902823,3.83416628394262,4.067777358633317,4.683821230045629,4.425729804596099,4.852900665103552,4.307517431203132,4.749311086170103,4.308051921242662,4.112437417321844,3.4282968139828798,3.6129956560323473,4.605261937849654,4.1091734214254725,4.536002594069224,4.7048280367803335,4.228990310840723,4.195179842431903,4.158422806584882,4.438368279687935,3.3961993470957363,4.3819089060057985,4.268086304447384,4.312748420929561,3.897352134344313,4.513297524212919,4.158181498351475,4.1374807093841355,4.010850957373923,4.219322508419337,4.304512069624235,3.4614985267830187,3.702258163162094,4.500579492363338,4.139847614646311,4.760678762174504,3.933284772348695,4.43752860382068,4.397540273842457,3.778151250383644,4.576468048945627,3.440594261839831,3.879267956824613,3.928447063209182,4.002338880892056,4.005051749993996,4.593164181568868,4.566519982633766,4.592432149630162,4.165926549609097,3.646893624167745,4.6414741105041,3.8755242639493086,4.353800865138863,3.6114046377115936,3.397244581010386,3.4263485737875077,3.515873843711679,3.3769417571467586,3.6483600109809315,3.649821463224565,3.385069776331935,3.821579027912009,4.049218022670182,3.8385972528166565,3.5836521085420436,4.437544461797492,3.8689969024871353,3.88930170250631,4.102330780101544,3.2830749747354715,4.779380011491655,3.9380691862233856,2.959994838328416,3.4214393902200495,3.596047007545439,3.346548558548474,3.5776066773625357,4.132419798097615,3.862548769524793,4.208656300507248,2.0,2.9934362304976116,3.583085366347688,4.525977214441068,3.8725641430906514,4.039176084376041,2.8228216453031045,3.335858911319818,4.729585915915656,3.9736819185039836,3.985111979539354,4.364813556261336,3.4815859363676225,3.895919545310016,3.624488362513449,3.816506437046357,4.5413545507544155,3.824516328007209,4.30758160475063,3.867820908045573,4.691497013048932,4.8399617240313875,4.599052973218668,3.5784099703312355,3.519696767159853,4.5416042026823655,3.8330195470765314,4.095239112010478,4.221075016611721,4.451801781347931,4.32623342090424,4.12100143498964,3.976074731619874,4.004192356259714,4.45618377342913,4.292721137774543,4.023005397249935,4.701895956420554,4.013090138125056,4.01674092728626,4.015108160645837,4.018450832386356,3.968716377466786,4.327604113814315,4.480768447380031,4.19763887555557,3.8570911546735136,4.683551319853661,4.476251796007033,4.6229907048100864,4.464906651310901,4.511963531021603,4.187605315418149,4.590585505352095,5.002636832365111,4.278662160909981,4.399569893656842,4.8665177199381375,4.7709771293157575,4.512564335079659,4.95529319520027,4.220134249570252,4.419079671250476,4.020899672862536,4.019531684531255,4.340285439470468,4.022758194236769,5.023746163152476,4.569830205803096,3.638988159343682,4.169498094684968,4.306789467495679,3.760497875226527,4.112202690730536,4.058274146685951,3.3324384599156054,2.582063362911709,3.04493154614916,2.9885589568786157,3.162862993321926,3.010299956639812,3.864511081058392,4.269886370278673,3.632356046239073,4.068779363009561,3.521530341278711,3.848189116991399,4.249271753073101,4.46887879425401,4.046339055604809,4.374216605428374,3.984617313236748,3.98344585734134,3.2530955858490316,3.963740618857884,4.1465621131575565,5.0448414667169414,4.015611204503513,4.678008215971998,3.8064513232472623,3.803183888535342,4.183155915434013,5.028367883697062,3.6239725120169965,3.5098742850047193,4.672384213061724,3.3380578754197563,3.9298274812306913,3.5420781463356255,4.28431791543061,2.8836614351536176,4.003805073565025,3.5754187912143602,4.621871842426364,4.362859302958681,4.190023379766885,4.018991594705612,4.282622112878062,3.79155030502733,3.13640344813399,3.470116353151004,4.031529645803423,3.6553305580093407,4.492760389026838,3.7786576319473553,3.4628470358316736,3.5583485087616196,3.2027606873931997,3.791690649020118,3.839037873388306,4.119090852421722,4.644064206143179,3.909876817990393,4.800442121336257,4.458441427978769,4.658764792559011,4.294906910605192,5.112615054531227,4.772013483045508,4.289432863850786,4.8640243036114015,4.439711549174355,5.012238075522615,3.3209766773428235,4.896663979419943,4.271237354470836,3.7969903905456865,4.730321905623029,3.4243915544102776,3.6508900778563125,3.785258633357701,4.364738555055399,3.9215824403934163,3.5690225860295635,4.941600866224787,4.326110460970829,4.839641427008459,4.2007137339640135,4.429138344767089,5.0003559755451255,4.85833865194422,3.9976047874604546,3.3459615418131414,4.3781979704459175,4.730354228219148,3.5558196830611912,4.352028074837365,3.6918768225593315,4.138681553510374,3.7843319480221482,4.883547879268043,4.520837112780868,4.214949760615447,3.399327532158679,3.6767850304192056,4.355930187078868,4.344352969238557,4.756985836853364,4.291879223914697,3.9511431601075526,4.171287550652861,3.8053649074664455,4.254185409462092,4.76597386891941,4.288830281415853,4.521778587954529,4.550998389769781,4.570379464958702,4.4101696395679975,3.5630061870617937,4.489029868068816,3.4129642719966626,4.263967284093983,3.963268251526235,4.365244562017571,4.0718083918331285,3.998912904358786,3.8917046762391827,3.9868165045855366,4.498572430220714,4.632163613891242,4.826534781534394,4.762828553189091,4.397122766597578,4.571161252412725,4.528376708845408,3.856910060300786,3.3575537197430814,3.709354775834396,4.229579462665645,4.1167737269759,4.4557582031041365,4.533657688430812,3.6188844849954505,4.526119489456887,4.974073953905215,4.410254078446397,3.6629466143326246,4.860912691970266,4.55019165056213,3.8048206787211623,3.709524355876341,4.2840244503226454,5.039414119176137,4.325495138564264,4.702637294117559,4.510518201077809,4.33927251885594,4.014898386946205,3.526597709103452,3.5286596452349897,4.022222104507706,3.2704459080179626,3.493597449000527,4.5049463550535815,3.6434526764861874,4.067331280208168,4.195899652409234,4.218088902860845,3.6444385894678386,3.7675268994083817,4.337059726320525,4.630193882888373,4.369957607346053,4.624065410336692,4.472858796225402,4.178919421035465,4.5529600806943495,4.652642731849244,4.695069952343107,4.692062190274261,4.540992300356618,5.1015305599185305,4.188253327026504,4.334011188761349,3.238798562713917,4.503899583379192,4.337119680002865,4.271330371066159,4.600733369029172,4.204554060135243,3.999652425366079,4.562173863364649,3.6032526619816467,4.400917723075448,4.14992695911359,3.395675785269936,3.395501124305626,3.741151598851785,3.657915936829955,4.639596045157781,4.489114369378919,4.559367909463331,4.28397928423848,4.416673785333922,4.570157507664826,3.877544107715944,4.117204986092783,4.044735697450507,4.0473138158153885,4.472361456582478,4.699117639363333,4.8037984079896745,4.700522002159753,3.9987387162558177,4.381692552058164,4.510357311542046,4.548929646552791,3.608205007704326,3.74170298395774,3.6306312440205,4.271353622102485,4.907948521612273,3.741230411025471,4.6918768225593315,3.711807229041191,4.810991533545671,3.7790189719148706,4.2523189329416535,3.746011107751926,4.225696871650654,3.3573630306151427,2.45484486000851,3.8500945943867007,4.252416090544274,2.967547976218862,4.1230345297535065,4.6340135064802075,4.195346058348419,3.7085908451503435,4.099127927726467,4.048519487922654,4.223599764649694,4.001517376823505,4.410608542568368,3.840419777736486,4.385266568957531,4.2562124585651615,4.35694321958013,3.8867726430544383,4.521870011498159,4.162683865877892,3.3836358683618797,4.25321681250213,4.790819784279974,4.013805927340592,4.270026322312294,3.9168748785386835,4.149650113098115,3.8544882250444306,3.8300751664297503,4.604496052771067,4.631940690913836,3.9987387162558177,3.7752462597402365,4.262308674749025,2.4885507165004443,0.0,2.1522883443830563,2.552668216112193,2.4983105537896004,4.506653830565551,4.8475973342639564,4.68314613977958,4.0930011966847495,4.931391755255445,4.525161467496205,4.104418820647595,4.214711421005384,4.384980295651304,4.7547151901452525,4.280942405998698,4.609338238662207,4.600243016285841,4.530532657749054,4.195705974747098,4.6900099139263975,4.025100961046814,3.977540705946535,4.614232616698708,4.8770025574116485,4.834477927588344,3.854063011866421,5.012512436540032,3.8798410559865624,4.384084473382559,3.7052648623174043,4.194042327886423,4.469601132113826,3.3554515201265174,3.80222623769107,3.7334380270910614,3.6743098889414774,2.359835482339888,3.8212514315459414,4.033262875884479,3.313023110323238,2.6434526764861874,4.082390377581715,4.484271360086347,4.990738328507537,4.398582289334715,4.768023587613407,4.794495017622194,4.085647288296856,4.519486722064457,4.841909812018154,4.017075096376059,4.45948295635281,4.054727932082198,4.411737521817357,4.9410142437055695,3.871280972857973,4.079470679235214,3.9846623061901068,3.931966114728173,4.61718912377195,2.3263358609287517,3.778946727968617,4.254185409462092,4.404320467221731,5.247661542090276,4.011570443597278,4.753682621170414,5.069131371012799,4.867438023190503,4.697177014971004,4.829451729448496,4.240923478794255,4.090645957573315,4.332579835105698,4.5705896357028015,4.762708565764124,3.712397131406715,3.953518081444993,4.213491193830334,4.4813136109793765,4.414722721158879,4.369085920821508,4.271121055704133,4.215373152783422,4.2081456345353505,3.557988148224913,3.578524605274993,3.696880371682762,3.9681559371499704,4.795087140885729,4.535749700285857,3.9577509108772793,4.060735603449318,3.433769833924866,2.906335041805091,2.9159272116971158,3.5245259366263757,3.727785174182906,3.502700175310563,4.88533294473075,5.2026381418816685,4.046026669702541,4.052963128755503,4.186673867499745,4.259928190374753,4.567026366159061,3.621591675859218,4.127946642848902,3.8725641430906514,3.882125919770032,4.330494942302217,4.953605076634127,3.5413295776666938,4.386481129682074,4.203196124935032,3.3677285460869766,4.467519313989927,4.265407496531089,3.8783494222177755,3.190611797813605,4.105986795521472,3.5943925503754266,3.88218288763027,4.295303144637152,4.271818381611661,4.724325032231096,3.7512020945883533,3.7446840632768863,4.2006863759696165,4.421949251062879,3.4295908022233017,4.5678377032007615,3.8251014115980033,4.062544381346465,4.4599199557469165,4.120738405542943,4.586924708144821,4.629654203154188,4.421784845215252,4.472844176715128,4.487039339385563,3.7829024059746446,4.578432899740808,3.979912410334717,3.029789470831856,4.075838825974687,2.8662873390841948,3.405346360175709,4.274573464196471,4.481256257553046,4.498365698794043,4.144574207609616,4.646148760728595,3.8454701329816734,3.471144965160633,4.603869396279855,3.636688447953283,4.01628102454283,4.82593217512484,4.822063417484898,4.248046869358662,4.506789057394985,4.871718843318762,4.929199168209508,4.364701049594699,5.269242009402035,4.612518962242537,4.433033388650613,4.487449484819456,4.752232887721093,4.394276526767822,4.119552797667117,4.278204671684168,4.797544514361726,4.884665112696725,4.89295121055062,4.367206781435987,4.373665842991645,4.1211328899984085,4.236537261488694,5.013149130069674,4.751610088867221,3.562530768862261,4.149527013754348,4.27207378750001,4.343664564988233,4.201997619583105,4.41520713590843,4.728856785157505,4.023746163152476,4.3342325263295995,4.579062984566367,4.200440076436431,4.584048388485243,4.221596785740263,4.313972618860607,4.206663996990936,4.5081929260254405,4.366964320315918,4.099404372345543,3.841296887490282,4.009365898346244,4.275472601069419,4.073278335635835,3.5705429398818973,3.997866726239145,3.37984917876283,4.010596736206526,4.596377143997599,3.9366142619752114,3.6291036501771363,5.183719568312488,4.169262864086446,3.829946695941636,4.117867626566016,4.992659538130954,4.232208078396316,4.665139906614335,4.692626632951481,4.466348528450199,4.933299964287337,4.34617687342157,4.492215433604093,4.096736260462468,3.4831592097169795,4.1525940779274695,4.347290975856103,4.476802655265517,4.43576475926038,4.865719726545427,3.908270499495724,4.959856718341342,4.006808208492579,4.374418376779159,4.188731671445743,4.027634965777544,3.1316186643491255,3.6108730003800518,4.239299479126893,4.211040405732053,3.66838591669,4.015946243657567,3.9731278535996988,3.658106835506393,4.104691918900206,3.974649834438722,4.117138666403885,4.30894838630958,4.8841890803338055,3.74499667403856,4.103221992452924,3.8873359303991672,4.297015993577781,3.605412798153051,4.1886191672078485,3.5118833609788744,4.018117720591,3.3898745583909853,3.4959603948817053,3.8723311212302507,3.666049738480516,3.910464315995614,3.481729196960016,4.475147976918248,4.954638019817679,4.923632533177049,4.787205349003612,3.960946195733831,3.9551583869257936,3.64777405026883,4.051654084113286,3.796782411701308,4.828724327138791,4.062017598857112,3.7423322823571485,3.628491104967123,4.498834148837391,4.570939694413743,4.76952502017105,4.852882383510316,4.001517376823505,4.804003054729613,4.295061044577623,3.6738499773429494,4.513177632479043,5.124439010556526,4.577365399452654,4.486146996806573,3.87285524470481,3.934498451243568,4.469895618975018,5.172678809369417,4.056638097379652,4.483487447679593,4.3502674060479185,4.171199716800422,2.916980047320382,4.939299553871679,3.821316970591097,4.839641427008459,3.4815859363676225,3.6417714706539592,4.392133939754267,4.13950127473591,4.429639251861554,3.3412366232386925,3.6298171960185157,3.7298934039632377,3.803934849863842,4.050920836935403,4.153021743626138,3.714162046098853,4.178890655048907,4.3522404201822305,3.7623033632877685,4.207122497650964,4.586654806339933,3.4834446480985353,4.002900068611387,2.681241237375587,2.568201724066995,4.267687879865739,4.473574550036345,4.020775488193558,4.220108088040055,4.830017359412973,3.8196097327515854,4.924160355813738,3.520483532740792,3.334051440346892,3.7481104674949837,3.6603910984024672,5.038473120629956,4.2272695167098435,3.7868223794991875,3.549738731264899,3.6322547766847135,3.5413295776666938,2.9556877503135057,3.442793225939769,4.575268690098512,4.083538451230139,4.310013199479453,4.766159930804536,4.084469031488076,4.342777867387247,4.484513374292612,4.800696462548689,4.513390750462478,3.9366142619752114,4.383994789441733,4.105033050393594,4.649685268909746,3.535547279176668,4.031327657761131,3.208441356438567,4.585652453577531,3.7182525000977504,4.228810845011355,4.705615717476003,3.7704101315139065,4.9823978837944525,5.084976430830233,2.781755374652469,4.617461665030912,4.051461244324184,4.05720951250779,4.976171088048603,4.133666623260685,4.383779472391263,4.3926442017384275,4.47041049097593,3.2755416884013098,4.744848211983765,4.276944085712982,4.570823039525211,4.6835243196060965,3.3749315539781883,3.775756037844098,4.439348486069747,4.269606330839479,4.110791660771106,4.612084185227919,3.6799726942774185,4.628685171108387,4.4750025284819435,3.514547752660286,3.892984550710717,3.513617073787875,4.367188135385627,4.822645279406681,3.5601458398490475,3.9783631470838827,3.70816585785554,3.964778022022376,4.01573687447745,3.200303182981585,4.161098356450925,3.942950070077099,3.996248914569132,4.273024433818464,4.721621033553506,3.797059694699971,4.571732117751799,4.311245120878207,4.47287341524356,3.9084850188786495,4.790608828584418,4.237116270535057,4.477150206720067,4.6207500900976095,4.261904911837202,3.9364131997114797,3.9335379019717047,4.252270345988322,3.6744937172963503,3.530967681571915,3.873843533223436,4.423737249982329,4.370198403559107,4.706658052072829,3.3453737305590883,3.9548693710664784,4.6576103243042395,4.908093441200724,5.068085628376812,4.408697768895788,4.742827213849982,4.61934381288798,4.873576335839594,5.0311700418466305,4.430010519630592,2.8169038393756605,4.379686151906955,4.758911892397974,4.619176840766776,4.388385425718033,3.896415976473123,3.6841269256130755,4.134177107576766,4.090681204457391,4.470572181905382,4.676355185256564,4.740449539705892,5.319108142251936,3.7670816213633223,4.5307630187585595,4.010978012174742,4.375279436336474,5.371014265177485,4.858549227721076,4.15060295179301,4.326806774068438,4.660590400951173,4.469748400505166,4.796824015438849,5.155600178241052,4.656768779266017,4.615623945501026,4.205826659359341,4.884319474411944,4.042102768037303,4.11945385075606,3.5732198271144218,5.111964481235438,4.3553940446231705,4.685087565808857,4.6127838567197355,4.493234921078571,4.926285840575407,4.350926073869093,4.22533513181854,4.458411201469716,4.410220304865082,3.241795431295199,4.401314362691788,3.983896791326306,4.559523607057893,4.319709694287983,4.3795955549810985,4.056104097422453,4.070887144018541,5.072929674211486,3.388278863459639,4.813707722688631,4.5428005383101056,4.253943462669259,4.570134137138968,3.6726519228400023,4.868756082976397,3.970114322285097,5.003482073960254,4.2007137339640135,4.364888544517052,4.382431316835748,3.8880671134074367,3.825945143203848,3.960280464436642,4.93083700642043,4.218036331200945,4.962213018360391,4.166045087851225,4.373077592174897,4.385820687071886,4.469262225177402,5.201569169184002,3.383815365980431,4.89558275236417,3.864333055033393,4.263043983313166,4.463325498436734,4.551108283643626,3.92147838037569,4.293716034826109,3.5848963441374497,4.197693975083923,4.198821977603206,3.8023631743095474,4.018950021500975,3.083860800866573,3.9954157985424152,4.0448140475286385,4.422031430653622,3.4358443659844413,3.724275869600789,4.410372265301954,3.2390490931401916,4.9021443677597025,3.8716313045375537,4.558120315143003,3.8727970399895986,4.592276711374422,3.777281791671015,4.01456253812761,3.1690863574870227,3.6097011023793995,3.2984163800612945,3.5429498488141786,3.9252089214120036,4.68614450542356,5.108453391646299,4.884274124390298,3.4865721505183562,3.3995006613146104,3.8864343196289384,4.47418711581745,4.799726417521528,4.546394583298745,4.503559179165324,5.007585633882447,3.31722734917642,3.8523579836678272,4.326069466588894,4.159958002678519,3.783832143384441,5.223771019488748,4.235023159495223,4.549971370443728,3.561101383649056,3.7515870050823104,4.804582364022804,5.192271876427464,3.674125982742708,4.4248979631844,4.717662183104909,3.801609488027319,4.427226363584512,3.6190933306267428,4.528698213192202,4.454036472764697,3.864866914328526,4.712169692552654,3.989672247623873,3.9458131265873386,4.070407321740119,3.91301868374796,3.4046627008737222,4.280805928393667,4.670255132771604,4.154819436194173,4.3154455182245846,4.712388709869141,4.824386202318774,3.8925398046586355,3.9215304135012423,3.752893154884594,3.3533390953113047,3.402433346219312,3.6993173010213822,4.82727878561066,3.9169274661129925,4.129238610131926,4.4432473369251015,4.447623097760286,4.338536173355659,4.315781480708604,3.769303460189082,3.912487761332324,4.123982236211463,3.998520882835038,4.847171491794531,4.40148670177417,4.685302745060676,3.446226401778163,2.800717078282385,3.116275587580544,3.2846562827885157,3.640878778701618,4.04871363808097,3.4759615891924236,4.342007929017339,4.5696313664036445,4.3457069212784285,3.6036855496146996,4.177738450401719,4.00026049854739,5.392177951477594,4.398547595734928,4.768001359986824,4.099404372345543,4.924868286127619,4.116076171728611,4.357591847523441,4.114110356531891,4.620063145703663,5.031396344236501,4.312494707189671,3.884455496070488,4.414170832531062,4.714254296619151,4.410676026754954,4.734167523028256,3.348499570283838,3.1398790864012365,4.106666761969916,4.3901753102286705,4.205231438820003,4.746034489811741,4.157033449661203,4.089657881621529,3.5548524343720542,4.348110068480238,4.535028144032475,3.865814380167968,2.90687353472207,3.7563317673210577,3.7388598020722004,5.0500818742946425,4.080410007155637,3.917190308511564,4.796303682043654,3.9550139030380502,4.619354246514376,4.812799757076228,4.2835725779669245,3.845098040014257,3.7374312005145827,4.255224247479844,4.338157564271773,3.6568644915489172,4.417272353627316,4.712001142502258,3.6413749451921253,4.150848506669523,4.33976934376873,4.061226225119115,3.9978230807457256,4.7085058809552365,4.121625492208471,3.2281436075977417,4.467312062980552,4.4769764657595275,5.5427781373063665,3.299942900022767,3.610021024664145,4.093911741049379,3.9955474494751373,3.9732664361085286,4.239849820690192,3.896801697664922,5.34206917920881,4.301051709845226,3.7011360660925265,3.749581734865559,4.931945796382387,3.460747541844197,4.929822376658122,4.004020273253242,3.876160084825628,3.4638929889859074,4.434249452396475,3.7973368007753496,4.384281712885585,4.342007929017339,3.7319914490189294,4.483501713269355,4.6111601653656304,4.331082963961029,3.805228914203426,4.636628292196984,4.391429144919444,4.03245758271493,4.236789099409293,4.130944568044679,4.592765044389603,4.71577778601359,3.8479426388452236,5.034772796453349,4.163250849512631,4.250078287979645,4.908490380505824,4.510759423680186,3.841797298874355,4.424424243769512,5.009514632972974,4.201697475739228,3.9761206182998157,4.968286771260674,3.899546931090867,5.1215007524829534,4.537100971663824,4.562970548743853,4.771969433229032,3.5114822886260013,3.8489892062511672,5.225242064283132,4.168909779122361,3.8685856665587655,4.963835030702148,4.833949909916124,3.53731527311201,3.7837606957439243,4.605606684430094,4.3574202461454155,4.420912453648964,4.717362560599233,4.2164034452337935,4.170936108609079,3.9379189026477803,5.0514033756862995,4.1644718242776895,3.600755149639618,4.102673770548927,3.6600112212893308,4.199480914862356,3.5748411950633847,3.9802306913910317,3.331832044436249,4.320582439473552,4.444357125656028,4.053462604925455,4.2146054502900645,4.086502198970369,4.4658139572694795,4.499026893261117,4.10171271384651,3.8314858392486575,3.4869968884318228,4.31896022852754,3.6094876898532853,3.782472624166286,4.8758711907273655,4.675228253593064,4.91116826614251,4.006850960324272,4.929495559155407,3.792391689498254,4.0484029561527395,2.9425041061680806,4.505339940604518,4.7513484007654325,3.6261349786353887,3.9688097139128584,5.135259898515659,4.589100278307229,3.7985815947285477,3.659821158055705,3.8138477542288545,4.409476620806971,3.8270460170047342,4.348947065925597,4.209246848753374,3.8385342705118686,4.675650050095353,3.961373627594801,4.516522153162396,4.457791093970606,4.045322978786658,3.216957207361097,4.0135955235372895,4.032860415952143,3.8454701329816734,4.54619706448606,4.456866853267461,4.420071324796761,3.8095597146352675,4.468155252967934,4.018700498666243,4.62396218875473,4.532270144609057,4.619958968366304,4.985237804687095,4.5918211790467405,4.4488144936695235,4.74781561496517,3.7779340488377793,4.3241795297179,3.8294324336175984,4.287533011050722,4.64025280075461,4.598593552773338,4.266654962773224,4.665036609369652,4.607101009389372,4.209300495159705,4.39031676847084,4.775479375409764,3.9434945159061026,4.586666055598009,3.7770641547424293,4.838930906628243,5.5611168938893,4.1165745397769165,3.5734518220354854,4.656663471385971,4.405295123042287,4.159326520197866,3.8489892062511672,4.858302542985558,4.634356336067436,4.14888016912823,4.422458514031944,3.892150277901364,4.759282473437503,3.878866336956725,4.020527012274563,3.404320467221731,4.935366172774795,4.753307228790333,4.193625418492879,4.056981036668113,3.913442954859396,3.2678754193188975,3.210318519826232,3.2837533833325265,4.032860415952143,3.477555332198981,4.083180004129977,3.9259305978684713,4.287196878466229,4.449324093098727,3.73917663191073,3.7069736761761782,3.813714391881145,3.8974071396615804,4.8342299028516775,4.330028013516616,4.767712297269,4.516945017136802,4.009663316679379,4.159326520197866,4.563219955576987,4.153906285138868,4.199453479094831,5.007483195871498,3.827110687466011,3.524396122103842,4.625127167351595,3.4313637641589874,3.3636119798921444,3.5851221863068155,4.98770647551673,3.6549462265843444,4.069963937850763,4.071440127177888,4.36214304958196,3.297760511099134,4.28535474103037,4.943326305517197,4.146190073315927,4.359759616415701,3.3459615418131414,4.02840856511547,3.4143046881283317,3.6909045540549665,3.8654001181793016,4.094925101124162,3.508798965403905,4.3308802877944315,4.349898891403912,4.343053922912849,5.278950131875205,4.804677705595455,4.397679353778606,3.8795546009389743,4.830633571258512,4.337698805964078,4.320997416794221,4.284069611710083,3.8810992183890174,4.113709438449504,3.7552648914122466,3.8342299028516775,3.5420781463356255,4.247261126880467,4.326048967946741,4.262403623258782,3.8258802989361795,3.789298611159441,3.775537634780957,4.17805561153123,3.481729196960016,4.015150103229471,4.84244697285584,4.509793728325618,4.751617783189541,4.513217600067939,4.972526817865855,4.847504795327316,4.511829906060732,4.931884835640881,4.58454605651386,4.631108786634139,5.148164437937767,4.520850202811219,3.464638559095033,3.5943925503754266,4.482158695411276,4.7435724742053855,4.345667735635353,4.628358272887206,4.385212907084455,4.800662100817674,3.902709812969877,4.241870088685619,4.16946869782694,3.358315640082196,4.477237051142667,4.041471640613747,4.677387925491221,3.867997510344951,4.32174337820423,4.12671570368574,5.137249640220982,3.85751341477669,4.206096944706567,3.7054360465852505,4.80608496167362,3.5554572172046495,4.512177245478473,3.7234556720351857,3.039017321997412,4.05850194342965,4.314288660947498,3.662757831681574,3.956696564894651,4.167080919673256,4.609359591981379,4.434233473644771,4.504742636271688,4.137702167146962,5.019461095561706,4.76754915133098,3.824060717418653,3.7274599208579087,3.8283376000590046,4.363687175889545,4.122478014681511,3.9284982681236906,4.137164145129356,4.556169779397686,4.210505790680973,4.325289837207551,4.307324853645366,4.2155318184912955,4.516032702878934,3.9080022011725535,3.4840149626675627,3.084933574936716,4.536773011830363,3.7389390312034796,4.357477454138898,3.68761812957177,3.6267508536833932,4.552972237463008,4.692053365034081,3.8239304551255637,4.51061202578917,3.9036867317365025,4.310077005324261,3.773274348337454,4.567825955510648,4.376668185810529,4.7497131319708155,3.8978469315795716,3.5017437296279943,3.0856472882968564,4.693559880453842,3.90156729002845,3.6450290647211423,3.549371152333177,3.45484486000851,3.8454701329816734,4.108767917678082,3.433609843323718,4.516284111113981,5.296619126282741,3.3439990690571615,4.854111628734478,3.8243211248507714,3.934902258322314,4.175772659601535,4.559367909463331,4.4183344423049835,3.8180278418592564,3.8599184852007156,3.8965813275057326,3.7091002815511667,4.032336659845735,4.789580712164425,4.179120729609299,3.3142886609474975,3.7945577512547617,4.699490845272204,5.275863950712521,4.367206781435987,4.124830149413859,3.292256071356476,3.3380578754197563,4.464713045757064,3.342422680822206,3.736316807904109,3.7582304084577496,3.4795753101749884,4.598363660172026,4.292278228672973,3.2873537727147464,4.106564834846764,3.5418287667813124,3.4473131088235682,3.467756051244033,3.513617073787875,3.399673721481038,3.6810602436318116,4.019074729177898,4.91176466367086,4.507950273279053,4.377652237172418,4.159206133646325,3.6755033847279566,3.8949249773595436,4.319418389047728,4.889912087542895,4.0587675553704194,3.5451833682154064,3.860457795423471,4.397592434038117,4.392098727163994,4.850542090028461,4.825387165843325,3.5558196830611912,4.633922712153877,4.31820946717138,3.423081958297231,3.8291107101552946,3.769820257763592,4.566001210827714,4.641939884406366,3.9726193390596234,4.775683249026044,3.348888723071438,3.8933733302460247,4.74123041102547,4.122314197968806,4.406352797297394,4.4583053921180165,3.940665872475829,3.325310371711061,4.449493826781261,4.261976191397813,4.061075323629792,3.5129510799724906,4.298350837719157,4.7663161612092075,5.1015339974923455,3.5651391519697895,4.532486842525011,4.50666735514341,3.83257277484618,4.850664611147551,4.277058835755107,3.524266268766979,3.863322860120456,3.8356271662098975,4.355068206348851,3.6549462265843444,3.987487506133093,4.043401578910881,4.178113252314632,4.405482962986272,3.590507462008583,3.9805487393597705,4.6296236351807885,4.388385425718033,4.279917777023895,4.031125575731565,4.883650080901093,4.56925683332861,3.723044991643445,3.5413295776666938,4.043990665878134,4.182443185957241,3.7184186418296554,4.5698418994037615,4.960931940757592,3.66133934000604,4.140476616830133,3.376211850282673,4.317122737714538,4.585314059854705,3.93696589710787,4.420731171441572,4.8541602401607555,4.4685688527234655,4.900170422463675,3.5886078047426864,4.778852792868552,3.5443161417474274,3.9682961150462557,4.088384186097703,4.111228898234156,3.909662985154018,4.449493826781261,4.423982729677176,4.337159644526856,3.351989455435632,4.921306626816819,4.1771323170417745,3.684665864025861,4.571440953685393,4.129335352916489,3.8284020784915933,3.5650209283452936,3.375114684692225,3.549371152333177,3.2092468487533736,4.62769350238866,4.4186989362264235,3.339053735709139,4.546184716577045,4.353531559077762,4.211707750406687,4.528762485510607,5.1124105978457015,4.152930136422725,3.480438147177817,4.822213861011698,4.949102008090659,4.225696871650654,4.931803541339197,4.740473223113228,3.862071719379994,4.788111781854241,3.962984584316997,4.567978650701196,4.419162395584886,3.9953719060281623,3.9286006598445242,4.526326351766489,4.032860415952143,4.335678502356566,4.45499721730946,4.788486548560839,4.510987122067562,4.752017700219022,5.575445342165319,3.761551988564182],\"y0\":\" \",\"yaxis\":\"y\",\"type\":\"box\"},{\"alignmentgroup\":\"True\",\"hovertemplate\":\"Install_category=%{x}\\u003cbr\\u003ey=%{y}\\u003cextra\\u003e\\u003c\\u002fextra\\u003e\",\"legendgroup\":\"Exceptionally High\",\"marker\":{\"color\":\"#FF6692\"},\"name\":\"Exceptionally High\",\"notched\":false,\"offsetgroup\":\"Exceptionally High\",\"orientation\":\"v\",\"showlegend\":true,\"x\":[\"Exceptionally High\",\"Exceptionally High\",\"Exceptionally High\",\"Exceptionally High\",\"Exceptionally High\",\"Exceptionally High\",\"Exceptionally High\",\"Exceptionally High\",\"Exceptionally High\",\"Exceptionally High\",\"Exceptionally High\",\"Exceptionally High\",\"Exceptionally High\",\"Exceptionally High\",\"Exceptionally High\",\"Exceptionally High\",\"Exceptionally High\",\"Exceptionally High\",\"Exceptionally High\",\"Exceptionally High\",\"Exceptionally High\",\"Exceptionally High\",\"Exceptionally High\",\"Exceptionally High\",\"Exceptionally High\",\"Exceptionally High\",\"Exceptionally High\",\"Exceptionally High\",\"Exceptionally High\",\"Exceptionally High\",\"Exceptionally High\",\"Exceptionally High\",\"Exceptionally High\",\"Exceptionally High\",\"Exceptionally High\",\"Exceptionally High\",\"Exceptionally High\",\"Exceptionally High\",\"Exceptionally High\",\"Exceptionally High\",\"Exceptionally High\",\"Exceptionally High\",\"Exceptionally High\",\"Exceptionally High\",\"Exceptionally High\",\"Exceptionally High\",\"Exceptionally High\",\"Exceptionally High\",\"Exceptionally High\",\"Exceptionally High\",\"Exceptionally High\",\"Exceptionally High\",\"Exceptionally High\",\"Exceptionally High\",\"Exceptionally High\",\"Exceptionally High\",\"Exceptionally High\",\"Exceptionally High\",\"Exceptionally High\",\"Exceptionally High\",\"Exceptionally High\",\"Exceptionally High\",\"Exceptionally High\",\"Exceptionally High\",\"Exceptionally High\",\"Exceptionally High\",\"Exceptionally High\",\"Exceptionally High\",\"Exceptionally High\",\"Exceptionally High\",\"Exceptionally High\",\"Exceptionally High\",\"Exceptionally High\",\"Exceptionally High\",\"Exceptionally High\",\"Exceptionally High\",\"Exceptionally High\",\"Exceptionally High\",\"Exceptionally High\",\"Exceptionally High\",\"Exceptionally High\",\"Exceptionally High\",\"Exceptionally High\",\"Exceptionally High\",\"Exceptionally High\",\"Exceptionally High\",\"Exceptionally High\",\"Exceptionally High\",\"Exceptionally High\",\"Exceptionally High\",\"Exceptionally High\",\"Exceptionally High\",\"Exceptionally High\",\"Exceptionally High\",\"Exceptionally High\",\"Exceptionally High\",\"Exceptionally High\",\"Exceptionally High\",\"Exceptionally High\",\"Exceptionally High\",\"Exceptionally High\",\"Exceptionally High\",\"Exceptionally High\",\"Exceptionally High\",\"Exceptionally High\",\"Exceptionally High\",\"Exceptionally High\",\"Exceptionally High\",\"Exceptionally High\",\"Exceptionally High\",\"Exceptionally High\",\"Exceptionally High\",\"Exceptionally High\",\"Exceptionally High\",\"Exceptionally High\",\"Exceptionally High\",\"Exceptionally High\",\"Exceptionally High\",\"Exceptionally High\",\"Exceptionally High\",\"Exceptionally High\",\"Exceptionally High\",\"Exceptionally High\",\"Exceptionally High\",\"Exceptionally High\",\"Exceptionally High\",\"Exceptionally High\",\"Exceptionally High\",\"Exceptionally High\",\"Exceptionally High\",\"Exceptionally High\",\"Exceptionally High\",\"Exceptionally High\",\"Exceptionally High\",\"Exceptionally High\",\"Exceptionally High\",\"Exceptionally High\",\"Exceptionally High\",\"Exceptionally High\",\"Exceptionally High\",\"Exceptionally High\",\"Exceptionally High\",\"Exceptionally High\",\"Exceptionally High\",\"Exceptionally High\",\"Exceptionally High\",\"Exceptionally High\",\"Exceptionally High\",\"Exceptionally High\",\"Exceptionally High\",\"Exceptionally High\",\"Exceptionally High\",\"Exceptionally High\",\"Exceptionally High\",\"Exceptionally High\",\"Exceptionally High\",\"Exceptionally High\",\"Exceptionally High\",\"Exceptionally High\",\"Exceptionally High\",\"Exceptionally High\",\"Exceptionally High\",\"Exceptionally High\",\"Exceptionally High\",\"Exceptionally High\",\"Exceptionally High\",\"Exceptionally High\",\"Exceptionally High\",\"Exceptionally High\",\"Exceptionally High\",\"Exceptionally High\",\"Exceptionally High\",\"Exceptionally High\",\"Exceptionally High\",\"Exceptionally High\",\"Exceptionally High\",\"Exceptionally High\",\"Exceptionally High\",\"Exceptionally High\",\"Exceptionally High\",\"Exceptionally High\",\"Exceptionally High\",\"Exceptionally High\",\"Exceptionally High\",\"Exceptionally High\",\"Exceptionally High\",\"Exceptionally High\",\"Exceptionally High\",\"Exceptionally High\",\"Exceptionally High\",\"Exceptionally High\",\"Exceptionally High\",\"Exceptionally High\",\"Exceptionally High\",\"Exceptionally High\",\"Exceptionally High\",\"Exceptionally High\",\"Exceptionally High\",\"Exceptionally High\",\"Exceptionally High\",\"Exceptionally High\",\"Exceptionally High\",\"Exceptionally High\",\"Exceptionally High\",\"Exceptionally High\",\"Exceptionally High\",\"Exceptionally High\",\"Exceptionally High\",\"Exceptionally High\",\"Exceptionally High\",\"Exceptionally High\",\"Exceptionally High\",\"Exceptionally High\",\"Exceptionally High\",\"Exceptionally High\",\"Exceptionally High\",\"Exceptionally High\",\"Exceptionally High\",\"Exceptionally High\",\"Exceptionally High\",\"Exceptionally High\",\"Exceptionally High\",\"Exceptionally High\",\"Exceptionally High\",\"Exceptionally High\",\"Exceptionally High\",\"Exceptionally High\",\"Exceptionally High\",\"Exceptionally High\",\"Exceptionally High\",\"Exceptionally High\",\"Exceptionally High\",\"Exceptionally High\",\"Exceptionally High\",\"Exceptionally High\",\"Exceptionally High\",\"Exceptionally High\",\"Exceptionally High\",\"Exceptionally High\",\"Exceptionally High\",\"Exceptionally High\",\"Exceptionally High\",\"Exceptionally High\",\"Exceptionally High\",\"Exceptionally High\",\"Exceptionally High\",\"Exceptionally High\",\"Exceptionally High\",\"Exceptionally High\",\"Exceptionally High\",\"Exceptionally High\",\"Exceptionally High\",\"Exceptionally High\",\"Exceptionally High\",\"Exceptionally High\",\"Exceptionally High\",\"Exceptionally High\",\"Exceptionally High\",\"Exceptionally High\",\"Exceptionally High\",\"Exceptionally High\",\"Exceptionally High\",\"Exceptionally High\",\"Exceptionally High\",\"Exceptionally High\",\"Exceptionally High\",\"Exceptionally High\",\"Exceptionally High\",\"Exceptionally High\",\"Exceptionally High\",\"Exceptionally High\",\"Exceptionally High\",\"Exceptionally High\",\"Exceptionally High\",\"Exceptionally High\",\"Exceptionally High\",\"Exceptionally High\",\"Exceptionally High\",\"Exceptionally High\",\"Exceptionally High\",\"Exceptionally High\",\"Exceptionally High\",\"Exceptionally High\",\"Exceptionally High\",\"Exceptionally High\",\"Exceptionally High\",\"Exceptionally High\",\"Exceptionally High\",\"Exceptionally High\",\"Exceptionally High\",\"Exceptionally High\",\"Exceptionally High\",\"Exceptionally High\",\"Exceptionally High\",\"Exceptionally High\",\"Exceptionally High\",\"Exceptionally High\",\"Exceptionally High\",\"Exceptionally High\",\"Exceptionally High\",\"Exceptionally High\",\"Exceptionally High\",\"Exceptionally High\",\"Exceptionally High\",\"Exceptionally High\",\"Exceptionally High\",\"Exceptionally High\",\"Exceptionally High\",\"Exceptionally High\",\"Exceptionally High\",\"Exceptionally High\",\"Exceptionally High\",\"Exceptionally High\",\"Exceptionally High\",\"Exceptionally High\",\"Exceptionally High\",\"Exceptionally High\",\"Exceptionally High\",\"Exceptionally High\",\"Exceptionally High\",\"Exceptionally High\",\"Exceptionally High\",\"Exceptionally High\",\"Exceptionally High\",\"Exceptionally High\",\"Exceptionally High\",\"Exceptionally High\",\"Exceptionally High\",\"Exceptionally High\",\"Exceptionally High\",\"Exceptionally High\",\"Exceptionally High\",\"Exceptionally High\",\"Exceptionally High\",\"Exceptionally High\",\"Exceptionally High\",\"Exceptionally High\",\"Exceptionally High\",\"Exceptionally High\",\"Exceptionally High\",\"Exceptionally High\",\"Exceptionally High\",\"Exceptionally High\",\"Exceptionally High\",\"Exceptionally High\",\"Exceptionally High\",\"Exceptionally High\",\"Exceptionally High\",\"Exceptionally High\",\"Exceptionally High\",\"Exceptionally High\",\"Exceptionally High\",\"Exceptionally High\",\"Exceptionally High\",\"Exceptionally High\",\"Exceptionally High\",\"Exceptionally High\",\"Exceptionally High\",\"Exceptionally High\",\"Exceptionally High\",\"Exceptionally High\",\"Exceptionally High\",\"Exceptionally High\",\"Exceptionally High\",\"Exceptionally High\",\"Exceptionally High\",\"Exceptionally High\",\"Exceptionally High\",\"Exceptionally High\",\"Exceptionally High\",\"Exceptionally High\",\"Exceptionally High\",\"Exceptionally High\",\"Exceptionally High\",\"Exceptionally High\",\"Exceptionally High\",\"Exceptionally High\",\"Exceptionally High\",\"Exceptionally High\",\"Exceptionally High\",\"Exceptionally High\",\"Exceptionally High\",\"Exceptionally High\",\"Exceptionally High\",\"Exceptionally High\",\"Exceptionally High\",\"Exceptionally High\",\"Exceptionally High\",\"Exceptionally High\",\"Exceptionally High\",\"Exceptionally High\",\"Exceptionally High\",\"Exceptionally High\",\"Exceptionally High\",\"Exceptionally High\",\"Exceptionally High\",\"Exceptionally High\",\"Exceptionally High\",\"Exceptionally High\",\"Exceptionally High\",\"Exceptionally High\",\"Exceptionally High\",\"Exceptionally High\",\"Exceptionally High\",\"Exceptionally High\",\"Exceptionally High\",\"Exceptionally High\",\"Exceptionally High\",\"Exceptionally High\",\"Exceptionally High\",\"Exceptionally High\",\"Exceptionally High\",\"Exceptionally High\",\"Exceptionally High\",\"Exceptionally High\",\"Exceptionally High\",\"Exceptionally High\",\"Exceptionally High\",\"Exceptionally High\",\"Exceptionally High\",\"Exceptionally High\",\"Exceptionally High\",\"Exceptionally High\",\"Exceptionally High\",\"Exceptionally High\",\"Exceptionally High\",\"Exceptionally High\",\"Exceptionally High\",\"Exceptionally High\",\"Exceptionally High\",\"Exceptionally High\",\"Exceptionally High\",\"Exceptionally High\",\"Exceptionally High\",\"Exceptionally High\",\"Exceptionally High\",\"Exceptionally High\",\"Exceptionally High\",\"Exceptionally High\",\"Exceptionally High\",\"Exceptionally High\",\"Exceptionally High\",\"Exceptionally High\",\"Exceptionally High\",\"Exceptionally High\",\"Exceptionally High\",\"Exceptionally High\",\"Exceptionally High\",\"Exceptionally High\",\"Exceptionally High\",\"Exceptionally High\",\"Exceptionally High\",\"Exceptionally High\",\"Exceptionally High\",\"Exceptionally High\",\"Exceptionally High\",\"Exceptionally High\",\"Exceptionally High\",\"Exceptionally High\",\"Exceptionally High\",\"Exceptionally High\",\"Exceptionally High\",\"Exceptionally High\",\"Exceptionally High\",\"Exceptionally High\",\"Exceptionally High\",\"Exceptionally High\",\"Exceptionally High\",\"Exceptionally High\",\"Exceptionally High\",\"Exceptionally High\",\"Exceptionally High\",\"Exceptionally High\",\"Exceptionally High\",\"Exceptionally High\",\"Exceptionally High\",\"Exceptionally High\",\"Exceptionally High\",\"Exceptionally High\",\"Exceptionally High\",\"Exceptionally High\",\"Exceptionally High\",\"Exceptionally High\",\"Exceptionally High\",\"Exceptionally High\",\"Exceptionally High\",\"Exceptionally High\",\"Exceptionally High\",\"Exceptionally High\",\"Exceptionally High\",\"Exceptionally High\",\"Exceptionally High\",\"Exceptionally High\",\"Exceptionally High\",\"Exceptionally High\",\"Exceptionally High\",\"Exceptionally High\",\"Exceptionally High\",\"Exceptionally High\",\"Exceptionally High\",\"Exceptionally High\",\"Exceptionally High\",\"Exceptionally High\",\"Exceptionally High\",\"Exceptionally High\",\"Exceptionally High\",\"Exceptionally High\",\"Exceptionally High\",\"Exceptionally High\",\"Exceptionally High\",\"Exceptionally High\",\"Exceptionally High\",\"Exceptionally High\",\"Exceptionally High\",\"Exceptionally High\",\"Exceptionally High\",\"Exceptionally High\",\"Exceptionally High\",\"Exceptionally High\",\"Exceptionally High\",\"Exceptionally High\",\"Exceptionally High\",\"Exceptionally High\",\"Exceptionally High\",\"Exceptionally High\",\"Exceptionally High\",\"Exceptionally High\",\"Exceptionally High\",\"Exceptionally High\",\"Exceptionally High\",\"Exceptionally High\",\"Exceptionally High\",\"Exceptionally High\",\"Exceptionally High\",\"Exceptionally High\",\"Exceptionally High\",\"Exceptionally High\",\"Exceptionally High\",\"Exceptionally High\",\"Exceptionally High\",\"Exceptionally High\",\"Exceptionally High\",\"Exceptionally High\",\"Exceptionally High\",\"Exceptionally High\",\"Exceptionally High\",\"Exceptionally High\",\"Exceptionally High\",\"Exceptionally High\",\"Exceptionally High\",\"Exceptionally High\",\"Exceptionally High\",\"Exceptionally High\",\"Exceptionally High\",\"Exceptionally High\",\"Exceptionally High\",\"Exceptionally High\",\"Exceptionally High\",\"Exceptionally High\",\"Exceptionally High\",\"Exceptionally High\",\"Exceptionally High\",\"Exceptionally High\",\"Exceptionally High\",\"Exceptionally High\",\"Exceptionally High\",\"Exceptionally High\",\"Exceptionally High\",\"Exceptionally High\",\"Exceptionally High\",\"Exceptionally High\",\"Exceptionally High\",\"Exceptionally High\",\"Exceptionally High\",\"Exceptionally High\",\"Exceptionally High\",\"Exceptionally High\",\"Exceptionally High\",\"Exceptionally High\",\"Exceptionally High\",\"Exceptionally High\",\"Exceptionally High\",\"Exceptionally High\",\"Exceptionally High\",\"Exceptionally High\",\"Exceptionally High\",\"Exceptionally High\",\"Exceptionally High\",\"Exceptionally High\",\"Exceptionally High\",\"Exceptionally High\",\"Exceptionally High\",\"Exceptionally High\",\"Exceptionally High\",\"Exceptionally High\",\"Exceptionally High\",\"Exceptionally High\",\"Exceptionally High\",\"Exceptionally High\",\"Exceptionally High\",\"Exceptionally High\",\"Exceptionally High\",\"Exceptionally High\",\"Exceptionally High\",\"Exceptionally High\",\"Exceptionally High\",\"Exceptionally High\",\"Exceptionally High\",\"Exceptionally High\",\"Exceptionally High\",\"Exceptionally High\",\"Exceptionally High\",\"Exceptionally High\",\"Exceptionally High\",\"Exceptionally High\",\"Exceptionally High\",\"Exceptionally High\",\"Exceptionally High\",\"Exceptionally High\",\"Exceptionally High\",\"Exceptionally High\",\"Exceptionally High\",\"Exceptionally High\",\"Exceptionally High\",\"Exceptionally High\",\"Exceptionally High\",\"Exceptionally High\",\"Exceptionally High\",\"Exceptionally High\",\"Exceptionally High\",\"Exceptionally High\",\"Exceptionally High\",\"Exceptionally High\",\"Exceptionally High\",\"Exceptionally High\",\"Exceptionally High\",\"Exceptionally High\",\"Exceptionally High\",\"Exceptionally High\",\"Exceptionally High\",\"Exceptionally High\",\"Exceptionally High\",\"Exceptionally High\",\"Exceptionally High\",\"Exceptionally High\",\"Exceptionally High\",\"Exceptionally High\",\"Exceptionally High\",\"Exceptionally High\",\"Exceptionally High\",\"Exceptionally High\",\"Exceptionally High\",\"Exceptionally High\",\"Exceptionally High\",\"Exceptionally High\",\"Exceptionally High\",\"Exceptionally High\",\"Exceptionally High\",\"Exceptionally High\",\"Exceptionally High\",\"Exceptionally High\",\"Exceptionally High\",\"Exceptionally High\",\"Exceptionally High\",\"Exceptionally High\",\"Exceptionally High\",\"Exceptionally High\",\"Exceptionally High\",\"Exceptionally High\",\"Exceptionally High\",\"Exceptionally High\",\"Exceptionally High\",\"Exceptionally High\",\"Exceptionally High\",\"Exceptionally High\",\"Exceptionally High\",\"Exceptionally High\",\"Exceptionally High\",\"Exceptionally High\",\"Exceptionally High\",\"Exceptionally High\",\"Exceptionally High\",\"Exceptionally High\",\"Exceptionally High\",\"Exceptionally High\",\"Exceptionally High\",\"Exceptionally High\",\"Exceptionally High\",\"Exceptionally High\",\"Exceptionally High\",\"Exceptionally High\",\"Exceptionally High\",\"Exceptionally High\",\"Exceptionally High\",\"Exceptionally High\",\"Exceptionally High\",\"Exceptionally High\",\"Exceptionally High\",\"Exceptionally High\",\"Exceptionally High\",\"Exceptionally High\",\"Exceptionally High\",\"Exceptionally High\",\"Exceptionally High\",\"Exceptionally High\",\"Exceptionally High\",\"Exceptionally High\",\"Exceptionally High\",\"Exceptionally High\",\"Exceptionally High\",\"Exceptionally High\",\"Exceptionally High\",\"Exceptionally High\",\"Exceptionally High\",\"Exceptionally High\",\"Exceptionally High\",\"Exceptionally High\",\"Exceptionally High\",\"Exceptionally High\",\"Exceptionally High\",\"Exceptionally High\",\"Exceptionally High\",\"Exceptionally High\",\"Exceptionally High\",\"Exceptionally High\",\"Exceptionally High\",\"Exceptionally High\",\"Exceptionally High\",\"Exceptionally High\",\"Exceptionally High\",\"Exceptionally High\",\"Exceptionally High\",\"Exceptionally High\",\"Exceptionally High\",\"Exceptionally High\",\"Exceptionally High\",\"Exceptionally High\",\"Exceptionally High\",\"Exceptionally High\",\"Exceptionally High\",\"Exceptionally High\",\"Exceptionally High\",\"Exceptionally High\",\"Exceptionally High\",\"Exceptionally High\",\"Exceptionally High\",\"Exceptionally High\",\"Exceptionally High\",\"Exceptionally High\",\"Exceptionally High\",\"Exceptionally High\",\"Exceptionally High\",\"Exceptionally High\",\"Exceptionally High\",\"Exceptionally High\",\"Exceptionally High\",\"Exceptionally High\",\"Exceptionally High\",\"Exceptionally High\",\"Exceptionally High\",\"Exceptionally High\",\"Exceptionally High\",\"Exceptionally High\",\"Exceptionally High\",\"Exceptionally High\",\"Exceptionally High\",\"Exceptionally High\",\"Exceptionally High\",\"Exceptionally High\",\"Exceptionally High\",\"Exceptionally High\",\"Exceptionally High\",\"Exceptionally High\",\"Exceptionally High\",\"Exceptionally High\",\"Exceptionally High\",\"Exceptionally High\",\"Exceptionally High\",\"Exceptionally High\",\"Exceptionally High\",\"Exceptionally High\",\"Exceptionally High\",\"Exceptionally High\",\"Exceptionally High\",\"Exceptionally High\",\"Exceptionally High\",\"Exceptionally High\",\"Exceptionally High\",\"Exceptionally High\",\"Exceptionally High\",\"Exceptionally High\",\"Exceptionally High\",\"Exceptionally High\",\"Exceptionally High\",\"Exceptionally High\",\"Exceptionally High\",\"Exceptionally High\",\"Exceptionally High\",\"Exceptionally High\",\"Exceptionally High\",\"Exceptionally High\",\"Exceptionally High\",\"Exceptionally High\",\"Exceptionally High\",\"Exceptionally High\",\"Exceptionally High\",\"Exceptionally High\",\"Exceptionally High\",\"Exceptionally High\",\"Exceptionally High\",\"Exceptionally High\",\"Exceptionally High\",\"Exceptionally High\",\"Exceptionally High\",\"Exceptionally High\",\"Exceptionally High\",\"Exceptionally High\",\"Exceptionally High\",\"Exceptionally High\",\"Exceptionally High\",\"Exceptionally High\",\"Exceptionally High\",\"Exceptionally High\",\"Exceptionally High\",\"Exceptionally High\",\"Exceptionally High\",\"Exceptionally High\",\"Exceptionally High\",\"Exceptionally High\",\"Exceptionally High\",\"Exceptionally High\",\"Exceptionally High\",\"Exceptionally High\",\"Exceptionally High\",\"Exceptionally High\",\"Exceptionally High\",\"Exceptionally High\",\"Exceptionally High\",\"Exceptionally High\",\"Exceptionally High\",\"Exceptionally High\",\"Exceptionally High\",\"Exceptionally High\",\"Exceptionally High\",\"Exceptionally High\",\"Exceptionally High\",\"Exceptionally High\",\"Exceptionally High\",\"Exceptionally High\",\"Exceptionally High\",\"Exceptionally High\",\"Exceptionally High\",\"Exceptionally High\",\"Exceptionally High\",\"Exceptionally High\",\"Exceptionally High\",\"Exceptionally High\",\"Exceptionally High\",\"Exceptionally High\",\"Exceptionally High\",\"Exceptionally High\",\"Exceptionally High\",\"Exceptionally High\",\"Exceptionally High\",\"Exceptionally High\",\"Exceptionally High\",\"Exceptionally High\",\"Exceptionally High\",\"Exceptionally High\",\"Exceptionally High\",\"Exceptionally High\",\"Exceptionally High\",\"Exceptionally High\",\"Exceptionally High\",\"Exceptionally High\",\"Exceptionally High\",\"Exceptionally High\",\"Exceptionally High\",\"Exceptionally High\",\"Exceptionally High\",\"Exceptionally High\",\"Exceptionally High\",\"Exceptionally High\",\"Exceptionally High\",\"Exceptionally High\",\"Exceptionally High\",\"Exceptionally High\",\"Exceptionally High\",\"Exceptionally High\",\"Exceptionally High\",\"Exceptionally High\",\"Exceptionally High\",\"Exceptionally High\",\"Exceptionally High\",\"Exceptionally High\",\"Exceptionally High\",\"Exceptionally High\",\"Exceptionally High\",\"Exceptionally High\",\"Exceptionally High\",\"Exceptionally High\",\"Exceptionally High\",\"Exceptionally High\",\"Exceptionally High\",\"Exceptionally High\",\"Exceptionally High\",\"Exceptionally High\",\"Exceptionally High\",\"Exceptionally High\",\"Exceptionally High\",\"Exceptionally High\",\"Exceptionally High\",\"Exceptionally High\",\"Exceptionally High\",\"Exceptionally High\",\"Exceptionally High\",\"Exceptionally High\",\"Exceptionally High\",\"Exceptionally High\",\"Exceptionally High\",\"Exceptionally High\",\"Exceptionally High\",\"Exceptionally High\",\"Exceptionally High\",\"Exceptionally High\",\"Exceptionally High\",\"Exceptionally High\",\"Exceptionally High\",\"Exceptionally High\",\"Exceptionally High\",\"Exceptionally High\",\"Exceptionally High\",\"Exceptionally High\",\"Exceptionally High\",\"Exceptionally High\",\"Exceptionally High\",\"Exceptionally High\",\"Exceptionally High\",\"Exceptionally High\",\"Exceptionally High\",\"Exceptionally High\",\"Exceptionally High\",\"Exceptionally High\",\"Exceptionally High\",\"Exceptionally High\",\"Exceptionally High\",\"Exceptionally High\",\"Exceptionally High\",\"Exceptionally High\",\"Exceptionally High\",\"Exceptionally High\",\"Exceptionally High\",\"Exceptionally High\",\"Exceptionally High\",\"Exceptionally High\",\"Exceptionally High\",\"Exceptionally High\",\"Exceptionally High\",\"Exceptionally High\",\"Exceptionally High\",\"Exceptionally High\",\"Exceptionally High\",\"Exceptionally High\",\"Exceptionally High\",\"Exceptionally High\",\"Exceptionally High\",\"Exceptionally High\",\"Exceptionally High\",\"Exceptionally High\",\"Exceptionally High\",\"Exceptionally High\",\"Exceptionally High\",\"Exceptionally High\",\"Exceptionally High\",\"Exceptionally High\",\"Exceptionally High\",\"Exceptionally High\",\"Exceptionally High\",\"Exceptionally High\",\"Exceptionally High\",\"Exceptionally High\",\"Exceptionally High\",\"Exceptionally High\",\"Exceptionally High\",\"Exceptionally High\",\"Exceptionally High\",\"Exceptionally High\",\"Exceptionally High\",\"Exceptionally High\",\"Exceptionally High\",\"Exceptionally High\",\"Exceptionally High\",\"Exceptionally High\",\"Exceptionally High\",\"Exceptionally High\",\"Exceptionally High\",\"Exceptionally High\",\"Exceptionally High\",\"Exceptionally High\",\"Exceptionally High\",\"Exceptionally High\",\"Exceptionally High\",\"Exceptionally High\",\"Exceptionally High\",\"Exceptionally High\",\"Exceptionally High\",\"Exceptionally High\",\"Exceptionally High\",\"Exceptionally High\",\"Exceptionally High\",\"Exceptionally High\",\"Exceptionally High\",\"Exceptionally High\",\"Exceptionally High\",\"Exceptionally High\",\"Exceptionally High\",\"Exceptionally High\",\"Exceptionally High\",\"Exceptionally High\",\"Exceptionally High\",\"Exceptionally High\",\"Exceptionally High\",\"Exceptionally High\",\"Exceptionally High\",\"Exceptionally High\",\"Exceptionally High\",\"Exceptionally High\",\"Exceptionally High\",\"Exceptionally High\",\"Exceptionally High\",\"Exceptionally High\",\"Exceptionally High\",\"Exceptionally High\",\"Exceptionally High\",\"Exceptionally High\",\"Exceptionally High\",\"Exceptionally High\",\"Exceptionally High\",\"Exceptionally High\",\"Exceptionally High\",\"Exceptionally High\",\"Exceptionally High\",\"Exceptionally High\",\"Exceptionally High\",\"Exceptionally High\",\"Exceptionally High\",\"Exceptionally High\",\"Exceptionally High\",\"Exceptionally High\",\"Exceptionally High\",\"Exceptionally High\",\"Exceptionally High\",\"Exceptionally High\",\"Exceptionally High\",\"Exceptionally High\",\"Exceptionally High\",\"Exceptionally High\",\"Exceptionally High\",\"Exceptionally High\",\"Exceptionally High\",\"Exceptionally High\",\"Exceptionally High\",\"Exceptionally High\",\"Exceptionally High\",\"Exceptionally High\",\"Exceptionally High\",\"Exceptionally High\",\"Exceptionally High\",\"Exceptionally High\",\"Exceptionally High\",\"Exceptionally High\",\"Exceptionally High\",\"Exceptionally High\",\"Exceptionally High\",\"Exceptionally High\",\"Exceptionally High\",\"Exceptionally High\",\"Exceptionally High\",\"Exceptionally High\",\"Exceptionally High\",\"Exceptionally High\",\"Exceptionally High\",\"Exceptionally High\",\"Exceptionally High\",\"Exceptionally High\",\"Exceptionally High\",\"Exceptionally High\",\"Exceptionally High\",\"Exceptionally High\",\"Exceptionally High\",\"Exceptionally High\",\"Exceptionally High\",\"Exceptionally High\",\"Exceptionally High\",\"Exceptionally High\",\"Exceptionally High\",\"Exceptionally High\",\"Exceptionally High\",\"Exceptionally High\",\"Exceptionally High\",\"Exceptionally High\",\"Exceptionally High\",\"Exceptionally High\",\"Exceptionally High\",\"Exceptionally High\",\"Exceptionally High\",\"Exceptionally High\",\"Exceptionally High\",\"Exceptionally High\",\"Exceptionally High\",\"Exceptionally High\",\"Exceptionally High\",\"Exceptionally High\",\"Exceptionally High\",\"Exceptionally High\",\"Exceptionally High\",\"Exceptionally High\",\"Exceptionally High\",\"Exceptionally High\",\"Exceptionally High\",\"Exceptionally High\",\"Exceptionally High\",\"Exceptionally High\",\"Exceptionally High\",\"Exceptionally High\",\"Exceptionally High\",\"Exceptionally High\",\"Exceptionally High\",\"Exceptionally High\",\"Exceptionally High\",\"Exceptionally High\",\"Exceptionally High\",\"Exceptionally High\",\"Exceptionally High\",\"Exceptionally High\",\"Exceptionally High\",\"Exceptionally High\",\"Exceptionally High\",\"Exceptionally High\",\"Exceptionally High\",\"Exceptionally High\",\"Exceptionally High\",\"Exceptionally High\",\"Exceptionally High\",\"Exceptionally High\",\"Exceptionally High\",\"Exceptionally High\",\"Exceptionally High\",\"Exceptionally High\",\"Exceptionally High\",\"Exceptionally High\",\"Exceptionally High\",\"Exceptionally High\",\"Exceptionally High\",\"Exceptionally High\",\"Exceptionally High\",\"Exceptionally High\",\"Exceptionally High\",\"Exceptionally High\",\"Exceptionally High\",\"Exceptionally High\",\"Exceptionally High\",\"Exceptionally High\",\"Exceptionally High\",\"Exceptionally High\",\"Exceptionally High\",\"Exceptionally High\",\"Exceptionally High\",\"Exceptionally High\",\"Exceptionally High\",\"Exceptionally High\",\"Exceptionally High\",\"Exceptionally High\",\"Exceptionally High\",\"Exceptionally High\",\"Exceptionally High\",\"Exceptionally High\",\"Exceptionally High\",\"Exceptionally High\",\"Exceptionally High\",\"Exceptionally High\",\"Exceptionally High\",\"Exceptionally High\",\"Exceptionally High\",\"Exceptionally High\",\"Exceptionally High\",\"Exceptionally High\",\"Exceptionally High\",\"Exceptionally High\",\"Exceptionally High\",\"Exceptionally High\",\"Exceptionally High\",\"Exceptionally High\",\"Exceptionally High\",\"Exceptionally High\",\"Exceptionally High\",\"Exceptionally High\",\"Exceptionally High\",\"Exceptionally High\",\"Exceptionally High\",\"Exceptionally High\",\"Exceptionally High\",\"Exceptionally High\",\"Exceptionally High\",\"Exceptionally High\",\"Exceptionally High\",\"Exceptionally High\",\"Exceptionally High\",\"Exceptionally High\",\"Exceptionally High\",\"Exceptionally High\",\"Exceptionally High\",\"Exceptionally High\",\"Exceptionally High\",\"Exceptionally High\",\"Exceptionally High\",\"Exceptionally High\",\"Exceptionally High\",\"Exceptionally High\",\"Exceptionally High\",\"Exceptionally High\",\"Exceptionally High\",\"Exceptionally High\",\"Exceptionally High\",\"Exceptionally High\",\"Exceptionally High\",\"Exceptionally High\",\"Exceptionally High\",\"Exceptionally High\",\"Exceptionally High\",\"Exceptionally High\",\"Exceptionally High\",\"Exceptionally High\",\"Exceptionally High\",\"Exceptionally High\",\"Exceptionally High\",\"Exceptionally High\",\"Exceptionally High\",\"Exceptionally High\",\"Exceptionally High\",\"Exceptionally High\",\"Exceptionally High\",\"Exceptionally High\",\"Exceptionally High\",\"Exceptionally High\",\"Exceptionally High\",\"Exceptionally High\",\"Exceptionally High\",\"Exceptionally High\",\"Exceptionally High\",\"Exceptionally High\",\"Exceptionally High\",\"Exceptionally High\",\"Exceptionally High\",\"Exceptionally High\",\"Exceptionally High\",\"Exceptionally High\",\"Exceptionally High\",\"Exceptionally High\",\"Exceptionally High\",\"Exceptionally High\",\"Exceptionally High\",\"Exceptionally High\",\"Exceptionally High\",\"Exceptionally High\",\"Exceptionally High\",\"Exceptionally High\",\"Exceptionally High\",\"Exceptionally High\",\"Exceptionally High\",\"Exceptionally High\",\"Exceptionally High\",\"Exceptionally High\",\"Exceptionally High\",\"Exceptionally High\",\"Exceptionally High\",\"Exceptionally High\",\"Exceptionally High\",\"Exceptionally High\",\"Exceptionally High\",\"Exceptionally High\",\"Exceptionally High\",\"Exceptionally High\",\"Exceptionally High\",\"Exceptionally High\",\"Exceptionally High\",\"Exceptionally High\",\"Exceptionally High\",\"Exceptionally High\",\"Exceptionally High\",\"Exceptionally High\",\"Exceptionally High\",\"Exceptionally High\",\"Exceptionally High\",\"Exceptionally High\",\"Exceptionally High\",\"Exceptionally High\",\"Exceptionally High\",\"Exceptionally High\",\"Exceptionally High\",\"Exceptionally High\",\"Exceptionally High\",\"Exceptionally High\",\"Exceptionally High\",\"Exceptionally High\",\"Exceptionally High\",\"Exceptionally High\",\"Exceptionally High\",\"Exceptionally High\",\"Exceptionally High\",\"Exceptionally High\",\"Exceptionally High\",\"Exceptionally High\",\"Exceptionally High\",\"Exceptionally High\",\"Exceptionally High\",\"Exceptionally High\",\"Exceptionally High\",\"Exceptionally High\",\"Exceptionally High\",\"Exceptionally High\",\"Exceptionally High\",\"Exceptionally High\",\"Exceptionally High\",\"Exceptionally High\",\"Exceptionally High\",\"Exceptionally High\",\"Exceptionally High\",\"Exceptionally High\",\"Exceptionally High\",\"Exceptionally High\",\"Exceptionally High\",\"Exceptionally High\",\"Exceptionally High\",\"Exceptionally High\",\"Exceptionally High\",\"Exceptionally High\",\"Exceptionally High\",\"Exceptionally High\",\"Exceptionally High\",\"Exceptionally High\",\"Exceptionally High\",\"Exceptionally High\",\"Exceptionally High\",\"Exceptionally High\",\"Exceptionally High\",\"Exceptionally High\",\"Exceptionally High\",\"Exceptionally High\",\"Exceptionally High\",\"Exceptionally High\",\"Exceptionally High\",\"Exceptionally High\",\"Exceptionally High\",\"Exceptionally High\",\"Exceptionally High\",\"Exceptionally High\",\"Exceptionally High\",\"Exceptionally High\",\"Exceptionally High\",\"Exceptionally High\",\"Exceptionally High\",\"Exceptionally High\",\"Exceptionally High\",\"Exceptionally High\",\"Exceptionally High\",\"Exceptionally High\",\"Exceptionally High\",\"Exceptionally High\",\"Exceptionally High\",\"Exceptionally High\",\"Exceptionally High\",\"Exceptionally High\",\"Exceptionally High\",\"Exceptionally High\",\"Exceptionally High\",\"Exceptionally High\",\"Exceptionally High\",\"Exceptionally High\",\"Exceptionally High\",\"Exceptionally High\",\"Exceptionally High\",\"Exceptionally High\",\"Exceptionally High\",\"Exceptionally High\",\"Exceptionally High\",\"Exceptionally High\",\"Exceptionally High\",\"Exceptionally High\",\"Exceptionally High\",\"Exceptionally High\",\"Exceptionally High\",\"Exceptionally High\",\"Exceptionally High\",\"Exceptionally High\",\"Exceptionally High\",\"Exceptionally High\",\"Exceptionally High\",\"Exceptionally High\",\"Exceptionally High\",\"Exceptionally High\",\"Exceptionally High\",\"Exceptionally High\",\"Exceptionally High\",\"Exceptionally High\",\"Exceptionally High\",\"Exceptionally High\",\"Exceptionally High\",\"Exceptionally High\",\"Exceptionally High\",\"Exceptionally High\",\"Exceptionally High\",\"Exceptionally High\",\"Exceptionally High\",\"Exceptionally High\",\"Exceptionally High\",\"Exceptionally High\",\"Exceptionally High\",\"Exceptionally High\",\"Exceptionally High\",\"Exceptionally High\",\"Exceptionally High\",\"Exceptionally High\",\"Exceptionally High\",\"Exceptionally High\",\"Exceptionally High\",\"Exceptionally High\",\"Exceptionally High\",\"Exceptionally High\",\"Exceptionally High\",\"Exceptionally High\",\"Exceptionally High\",\"Exceptionally High\",\"Exceptionally High\",\"Exceptionally High\",\"Exceptionally High\",\"Exceptionally High\",\"Exceptionally High\",\"Exceptionally High\",\"Exceptionally High\",\"Exceptionally High\",\"Exceptionally High\",\"Exceptionally High\",\"Exceptionally High\",\"Exceptionally High\",\"Exceptionally High\",\"Exceptionally High\",\"Exceptionally High\",\"Exceptionally High\",\"Exceptionally High\",\"Exceptionally High\",\"Exceptionally High\",\"Exceptionally High\",\"Exceptionally High\",\"Exceptionally High\",\"Exceptionally High\",\"Exceptionally High\",\"Exceptionally High\",\"Exceptionally High\",\"Exceptionally High\",\"Exceptionally High\",\"Exceptionally High\",\"Exceptionally High\",\"Exceptionally High\",\"Exceptionally High\",\"Exceptionally High\",\"Exceptionally High\",\"Exceptionally High\",\"Exceptionally High\",\"Exceptionally High\",\"Exceptionally High\",\"Exceptionally High\",\"Exceptionally High\",\"Exceptionally High\",\"Exceptionally High\",\"Exceptionally High\",\"Exceptionally High\",\"Exceptionally High\",\"Exceptionally High\",\"Exceptionally High\",\"Exceptionally High\",\"Exceptionally High\",\"Exceptionally High\",\"Exceptionally High\",\"Exceptionally High\",\"Exceptionally High\",\"Exceptionally High\",\"Exceptionally High\",\"Exceptionally High\",\"Exceptionally High\",\"Exceptionally High\",\"Exceptionally High\",\"Exceptionally High\",\"Exceptionally High\",\"Exceptionally High\",\"Exceptionally High\",\"Exceptionally High\",\"Exceptionally High\",\"Exceptionally High\",\"Exceptionally High\",\"Exceptionally High\",\"Exceptionally High\",\"Exceptionally High\",\"Exceptionally High\",\"Exceptionally High\",\"Exceptionally High\",\"Exceptionally High\",\"Exceptionally High\",\"Exceptionally High\",\"Exceptionally High\",\"Exceptionally High\",\"Exceptionally High\",\"Exceptionally High\",\"Exceptionally High\",\"Exceptionally High\",\"Exceptionally High\",\"Exceptionally High\",\"Exceptionally High\",\"Exceptionally High\",\"Exceptionally High\",\"Exceptionally High\",\"Exceptionally High\",\"Exceptionally High\",\"Exceptionally High\",\"Exceptionally High\",\"Exceptionally High\",\"Exceptionally High\",\"Exceptionally High\",\"Exceptionally High\",\"Exceptionally High\",\"Exceptionally High\",\"Exceptionally High\",\"Exceptionally High\",\"Exceptionally High\",\"Exceptionally High\",\"Exceptionally High\",\"Exceptionally High\",\"Exceptionally High\",\"Exceptionally High\",\"Exceptionally High\",\"Exceptionally High\",\"Exceptionally High\",\"Exceptionally High\",\"Exceptionally High\",\"Exceptionally High\",\"Exceptionally High\",\"Exceptionally High\",\"Exceptionally High\",\"Exceptionally High\",\"Exceptionally High\",\"Exceptionally High\",\"Exceptionally High\",\"Exceptionally High\",\"Exceptionally High\",\"Exceptionally High\",\"Exceptionally High\",\"Exceptionally High\",\"Exceptionally High\",\"Exceptionally High\",\"Exceptionally High\",\"Exceptionally High\",\"Exceptionally High\",\"Exceptionally High\",\"Exceptionally High\",\"Exceptionally High\",\"Exceptionally High\",\"Exceptionally High\",\"Exceptionally High\",\"Exceptionally High\",\"Exceptionally High\",\"Exceptionally High\",\"Exceptionally High\",\"Exceptionally High\",\"Exceptionally High\",\"Exceptionally High\",\"Exceptionally High\",\"Exceptionally High\",\"Exceptionally High\",\"Exceptionally High\",\"Exceptionally High\",\"Exceptionally High\",\"Exceptionally High\",\"Exceptionally High\",\"Exceptionally High\",\"Exceptionally High\",\"Exceptionally High\",\"Exceptionally High\",\"Exceptionally High\",\"Exceptionally High\",\"Exceptionally High\",\"Exceptionally High\",\"Exceptionally High\",\"Exceptionally High\",\"Exceptionally High\",\"Exceptionally High\",\"Exceptionally High\",\"Exceptionally High\",\"Exceptionally High\",\"Exceptionally High\",\"Exceptionally High\",\"Exceptionally High\",\"Exceptionally High\",\"Exceptionally High\",\"Exceptionally High\",\"Exceptionally High\",\"Exceptionally High\",\"Exceptionally High\",\"Exceptionally High\",\"Exceptionally High\",\"Exceptionally High\",\"Exceptionally High\",\"Exceptionally High\",\"Exceptionally High\",\"Exceptionally High\",\"Exceptionally High\",\"Exceptionally High\",\"Exceptionally High\",\"Exceptionally High\",\"Exceptionally High\",\"Exceptionally High\",\"Exceptionally High\",\"Exceptionally High\",\"Exceptionally High\",\"Exceptionally High\",\"Exceptionally High\",\"Exceptionally High\",\"Exceptionally High\",\"Exceptionally High\",\"Exceptionally High\",\"Exceptionally High\",\"Exceptionally High\",\"Exceptionally High\",\"Exceptionally High\",\"Exceptionally High\",\"Exceptionally High\",\"Exceptionally High\",\"Exceptionally High\",\"Exceptionally High\",\"Exceptionally High\",\"Exceptionally High\",\"Exceptionally High\",\"Exceptionally High\",\"Exceptionally High\",\"Exceptionally High\",\"Exceptionally High\",\"Exceptionally High\",\"Exceptionally High\",\"Exceptionally High\",\"Exceptionally High\",\"Exceptionally High\",\"Exceptionally High\",\"Exceptionally High\",\"Exceptionally High\",\"Exceptionally High\",\"Exceptionally High\",\"Exceptionally High\",\"Exceptionally High\",\"Exceptionally High\",\"Exceptionally High\",\"Exceptionally High\",\"Exceptionally High\",\"Exceptionally High\",\"Exceptionally High\",\"Exceptionally High\",\"Exceptionally High\",\"Exceptionally High\",\"Exceptionally High\",\"Exceptionally High\",\"Exceptionally High\",\"Exceptionally High\",\"Exceptionally High\",\"Exceptionally High\",\"Exceptionally High\",\"Exceptionally High\",\"Exceptionally High\",\"Exceptionally High\",\"Exceptionally High\",\"Exceptionally High\",\"Exceptionally High\",\"Exceptionally High\",\"Exceptionally High\",\"Exceptionally High\",\"Exceptionally High\",\"Exceptionally High\",\"Exceptionally High\",\"Exceptionally High\",\"Exceptionally High\",\"Exceptionally High\",\"Exceptionally High\",\"Exceptionally High\",\"Exceptionally High\",\"Exceptionally High\",\"Exceptionally High\",\"Exceptionally High\",\"Exceptionally High\",\"Exceptionally High\",\"Exceptionally High\",\"Exceptionally High\",\"Exceptionally High\",\"Exceptionally High\",\"Exceptionally High\",\"Exceptionally High\",\"Exceptionally High\",\"Exceptionally High\",\"Exceptionally High\",\"Exceptionally High\",\"Exceptionally High\",\"Exceptionally High\",\"Exceptionally High\",\"Exceptionally High\",\"Exceptionally High\",\"Exceptionally High\",\"Exceptionally High\",\"Exceptionally High\",\"Exceptionally High\",\"Exceptionally High\",\"Exceptionally High\",\"Exceptionally High\",\"Exceptionally High\",\"Exceptionally High\",\"Exceptionally High\",\"Exceptionally High\",\"Exceptionally High\",\"Exceptionally High\",\"Exceptionally High\",\"Exceptionally High\",\"Exceptionally High\",\"Exceptionally High\",\"Exceptionally High\",\"Exceptionally High\",\"Exceptionally High\",\"Exceptionally High\",\"Exceptionally High\",\"Exceptionally High\",\"Exceptionally High\",\"Exceptionally High\",\"Exceptionally High\",\"Exceptionally High\",\"Exceptionally High\",\"Exceptionally High\",\"Exceptionally High\",\"Exceptionally High\",\"Exceptionally High\",\"Exceptionally High\",\"Exceptionally High\",\"Exceptionally High\",\"Exceptionally High\",\"Exceptionally High\",\"Exceptionally High\",\"Exceptionally High\",\"Exceptionally High\",\"Exceptionally High\",\"Exceptionally High\",\"Exceptionally High\",\"Exceptionally High\",\"Exceptionally High\",\"Exceptionally High\",\"Exceptionally High\",\"Exceptionally High\",\"Exceptionally High\",\"Exceptionally High\",\"Exceptionally High\",\"Exceptionally High\",\"Exceptionally High\",\"Exceptionally High\",\"Exceptionally High\",\"Exceptionally High\",\"Exceptionally High\",\"Exceptionally High\",\"Exceptionally High\",\"Exceptionally High\",\"Exceptionally High\",\"Exceptionally High\",\"Exceptionally High\",\"Exceptionally High\",\"Exceptionally High\",\"Exceptionally High\",\"Exceptionally High\",\"Exceptionally High\",\"Exceptionally High\",\"Exceptionally High\",\"Exceptionally High\",\"Exceptionally High\",\"Exceptionally High\",\"Exceptionally High\",\"Exceptionally High\",\"Exceptionally High\",\"Exceptionally High\",\"Exceptionally High\",\"Exceptionally High\",\"Exceptionally High\",\"Exceptionally High\",\"Exceptionally High\",\"Exceptionally High\",\"Exceptionally High\",\"Exceptionally High\",\"Exceptionally High\",\"Exceptionally High\",\"Exceptionally High\",\"Exceptionally High\",\"Exceptionally High\",\"Exceptionally High\",\"Exceptionally High\",\"Exceptionally High\",\"Exceptionally High\",\"Exceptionally High\",\"Exceptionally High\",\"Exceptionally High\",\"Exceptionally High\",\"Exceptionally High\",\"Exceptionally High\",\"Exceptionally High\",\"Exceptionally High\",\"Exceptionally High\",\"Exceptionally High\"],\"x0\":\" \",\"xaxis\":\"x\",\"y\":[4.942057683841395,4.651559051171708,5.288285005311824,5.351020917221158,4.563943611818725,5.470147246984807,5.241872577044283,4.6043448736272,4.720407400803109,5.068133891775703,5.434441151575003,5.055817755695259,5.76158958819036,5.391490860149571,5.657113244811274,5.191579551079897,5.307774068517087,4.9564949893598635,5.561022630806397,4.9438554535459645,4.933699827537173,4.961966585937513,4.809647238036535,3.9212701855098127,5.368764624959976,5.532954286740605,4.207607441911914,6.098550281892359,4.930363127739141,4.851203293816408,4.794292814252239,3.951386094880293,4.944842789817221,5.203772408022004,4.489212933464914,5.276096291554452,4.065280871102755,4.981872947188907,4.499879448956432,4.362765126555426,5.3167501162458235,5.580739135393169,4.907438234601636,4.366292182210539,5.457726006976365,5.016009034734362,4.467060268004198,4.711866255347714,5.036393322527059,4.989903453995882,4.893051223353465,4.907432859969259,4.711891549880579,6.005881597972895,4.972966118095298,5.751577001727798,4.71584463011506,5.097802005808143,5.200519454873386,4.480136349183575,4.567038135497739,5.285440281256908,4.998080525776421,5.641150748139473,4.136657161873879,5.233074835004694,4.803067714940125,4.657887294789743,5.789144083197531,4.519210883619447,5.135647772179205,5.7335094274820815,4.138649994851645,5.412554620377889,4.6101382704785285,4.398304662903492,4.434361287200313,5.088128998120515,5.120619990299325,4.920326854131004,5.525881475926484,5.544259091894935,5.543303012636564,5.54030694596253,5.3889231660564665,5.5195142962756005,5.540304442687238,6.054421907607036,5.280152516636698,5.097715316475808,5.021147935720995,5.249694759670512,5.248618095032732,5.684454859482065,5.742285902732433,4.780374926160122,5.660185056304306,4.97231857308512,5.313316624603588,4.946584891264749,5.4846101422257005,5.094631819313487,4.617210094557434,5.281106122532381,5.713323345339314,5.455949761358468,4.884489494829576,4.789841492552024,5.4965477436542995,5.485306803823881,4.495821753385906,5.2366883817646155,5.327616369153068,4.625250698540985,5.1316763953765,4.80608496167362,5.131682809461406,5.387300822448285,5.262417863745012,4.625281575848903,5.259815985925113,4.9313307166895886,5.497342999232111,3.989894563718773,4.154910645788523,4.558852511698457,5.426426671430236,5.535190282127202,5.237141427338836,4.44046826982215,5.333046046978495,5.4057202082333085,6.044501738362772,5.326040768218962,4.956557391785679,5.396045834367361,5.39542250394884,5.434800359625508,5.236801687472711,4.841941060496874,6.044494290358829,5.4264055213720175,5.154216971969816,4.74237944299809,5.236809240135629,5.49734438101758,5.314976836546854,5.30115592280518,5.035881809510414,4.841972306727355,5.171872656139683,4.925873938108789,6.04451937786262,5.314987350649728,5.171869732572239,4.925884240433114,5.472421460099865,4.038977622332692,4.993475910414162,3.7194141597025934,4.3523369064819555,4.012457578200774,5.152227171838142,4.668553637533001,5.013165983439303,5.244346404423201,4.543111543953438,5.83512974775601,5.610338580985896,4.511321755917704,5.371983534850559,5.814918501848693,4.94143192064555,5.1157735494937375,5.386939279174826,5.491454146689014,5.588931333265644,4.964061535424358,4.945394719244763,5.090889102866079,4.78419634362739,5.4596186239173745,5.504731768585338,4.7867585184026495,5.472506328967892,5.491494763690032,5.504730410105422,4.763637602376833,5.867387339284004,4.94311347550397,5.260317100505045,5.296169197277766,4.764041562478695,5.610360950360393,5.060822446110187,4.705222055705383,5.204564906515332,5.4093649582789185,5.896072396247713,4.603285143525501,4.416457432768096,5.0949041589902855,4.718551509468278,4.564879017501453,4.629857934678261,5.444172878279218,5.05175432697418,5.526000498996993,5.9813532688736855,5.1158833159939165,4.536911794293623,4.68524896024201,4.565210070699812,5.14104507957396,5.399164727798304,5.84898982113744,5.707903858536217,5.581822273937994,4.5024817447857,5.300343267724527,6.12588641817528,5.128928888323843,5.848990436022842,5.111611959923377,5.415886076961822,5.19729434503319,5.133385600908991,4.574956775764507,5.449455256768899,5.004308473754961,5.532868987045975,4.9442407817356395,5.399187246931838,5.707911516602715,4.893795040053584,6.138160226209539,5.319028983425956,5.16233435471502,4.811467759424338,5.786137867324553,5.040539050332279,5.19296866978236,4.447282097756976,5.658371091660472,6.014072993320686,4.51061202578917,5.179206976155488,4.95444513292241,4.765787727286867,4.667817047211394,4.7915573233042,5.11915357381524,4.955408711853569,5.684809468055244,5.708614632146585,5.506686288844866,4.447297603567068,5.522715419848036,5.065964173326381,4.57422810328016,5.4668216686776505,5.708777707890155,5.631602034422576,4.580902177466637,5.4351066490675155,5.342669368975333,5.60270227199064,4.303152841889143,5.071605884917739,5.738797200837245,5.673054100343075,5.158483112699248,5.553175205222252,5.917818907699585,5.850446499554712,5.365774300214243,4.167583147965841,5.431793020937981,5.747556289706763,5.699962535087925,5.063412177936587,5.264019309286404,5.51649438831216,5.001759665887018,5.3123868339515,5.264035861449841,5.6009826916924,5.1142906489922,5.40059669720258,4.7788455662499985,5.1277363346641005,5.397688044795944,5.850468560762334,5.040428271015897,5.279317817118205,5.91784724412051,4.8498430588587516,5.047080072816256,5.367808618733687,4.889654598475889,4.971697874366279,5.512868425521148,5.756059201217031,5.085782761338386,4.796685320811827,5.719579029380906,5.068838668551358,4.84767135121887,5.431836405314661,5.158513262616432,5.149720879424409,5.7476153114595405,5.850494910180593,4.841328180099865,5.917848293582075,5.360233561157832,5.100429136452303,5.360241140071361,5.047099556205233,5.04712683148145,5.6210796456971375,5.210165968172226,4.818971078804415,5.243764573697491,5.548756601057889,4.8538137649617425,4.36197323746566,5.014121342041001,5.548757828573704,4.853825926666642,5.548773785963593,4.826120174381053,5.103331553838341,5.114851080699306,4.763839629395825,4.278021540970132,4.676666179633474,5.149203711868772,4.710599646651555,4.595099223134872,5.2072114446457345,5.064753658075849,5.9116332070914295,3.629409599102719,5.8609808853748815,3.788521887222473,4.5356358500212455,4.622638781143737,4.277861238225117,4.980262506671211,4.239749810446364,4.521974471987394,5.56526325214848,4.981075278021446,4.893750668826052,4.981836721265551,4.981841249671224,5.072007124979739,5.405274626496241,5.172885947607307,4.776701183988411,4.231444102917431,5.4701766676406365,5.432467398866791,6.334037352716306,5.704386482334277,4.361822237600815,4.832872801178226,4.623796983177253,5.411154863185121,5.9958505337179835,5.881172308482441,6.130677207853693,5.17288011407945,5.264454185214804,5.363066419188178,5.4702708003481675,4.777093179301813,5.995892185784826,4.278410601475816,5.816285721735576,6.051159085069968,4.873163599530661,5.663829969868849,6.130683958152894,5.363098419249706,4.568471607033241,4.991770817801046,5.072812167311912,5.150845438090308,4.846497932158269,4.928963955613188,4.666667711458589,4.412040330191658,4.743352951409555,5.17078079778453,5.007261163922949,5.440038046665627,5.242429610405385,5.162423999780339,5.7254689488424395,5.29127558702192,5.335808805235897,6.363947441489229,5.219814971182443,5.733312847516606,6.044269222000761,5.278234423132749,5.528597929378427,5.009055516398021,6.490430184609493,4.624065410336692,5.380963367159664,4.849708028492166,5.554873010824936,5.331987771869684,6.128355966365216,5.227158844499157,5.740141537823709,4.96863702571286,5.081318497927715,5.274093162289566,5.685724724670739,5.528804900030776,6.434431888060516,6.044224900373872,5.96922714894998,5.219919678486251,6.170317172433133,5.490205774146339,5.9070553944528434,5.649757262654629,5.332072690576088,5.7180580335527935,5.76650653752753,5.327407981346393,5.872554824616388,5.619656712693948,5.35124342744702,5.173025928773911,6.130903125141154,5.470669167575572,4.777477571700733,6.49051076432479,5.3633279975987795,6.334168148852709,5.704659184502344,5.995952245416227,5.295655049432586,4.873291531600059,6.051321574858934,4.469011558655687,5.816337430878262,5.9959259429502545,5.265313202554297,5.603604416043725,5.712360917636444,5.9803015908250154,5.8608750015470665,5.465626701794908,5.716806046155215,6.140451474226279,5.720586769625487,5.289965564187141,5.515342567401126,5.169647987716812,5.5414332065958725,5.5356269937495926,5.33615742373872,5.54946062518537,4.6340235935670835,4.9067551235549836,5.185771564917941,4.425680916828624,5.486804392047789,5.4473100078165535,5.173157120153469,5.188264588243964,4.431122422401232,6.051321574858934,4.362539019830598,4.624746058172765,5.995984244601896,5.234132423285725,5.0182967999385975,6.170315118595035,4.678008215971998,5.09915212365681,5.332191953101045,5.909042273879327,4.231571525528415,5.190852539106477,6.051370965880668,4.537743559029619,5.416059395457739,4.686770290087892,4.624746058172765,4.105612359686785,4.531261715496391,4.06513137214021,3.9902944461284386,4.686770290087892,4.396826789268784,5.036608936517427,4.939324525236297,5.4300653757750785,4.777013357095503,4.077367905284157,4.834331673725784,4.563552275376031,5.5166926697399665,4.669697999665881,5.724975094126807,5.372738986810791,5.716511671680538,4.505543379461151,4.916301260621684,4.28397928423848,4.467149153489957,5.724924368634678,4.687537878874246,5.716549209270365,5.725015997466573,4.528723923260994,4.769340394703022,5.244586337249155,5.579114496527485,4.395798006163393,5.720615693144062,5.15033575317684,5.674479013891064,5.171126508351265,4.615666037476722,5.593945870437759,4.634074025487468,5.711037466550156,5.049528122277718,4.715125516287474,5.794765404629373,4.823871824344379,5.229448893596595,5.460180439241972,4.800620863151413,4.376065721586172,4.836064474351997,4.580023535169366,4.777550060431357,5.260484010288327,4.776185243725518,5.124233521550864,4.674061597170315,4.980171599686484,4.823865309324511,4.714648237350974,4.55664015407172,5.723246273560069,4.901278463356397,4.317290103960419,5.091040559372023,4.706606848164508,5.558672577786327,5.203084585661507,5.549474105798052,5.435081133196226,6.375949514179941,4.518948017357206,5.194264516025517,4.691726705009727,5.644624675801573,4.848903113579282,5.4336818463880565,5.352381282982589,4.738526881793802,5.6601033720125695,4.407594830510745,4.901229398233644,6.10005160073217,4.782200208873481,5.364222570839501,4.1213299979360905,5.681157989621725,5.496421752239108,5.733141068099784,5.537719636543326,4.898335677325814,4.921624057420127,5.498918140852491,5.582199769073717,5.615660776202857,5.687371980426223,5.626448157592176,5.313451701203623,5.456086536971439,5.139960902292224,5.491182335210319,5.681158894574402,4.71182409451883,5.804350051576898,5.208468230265617,6.1821175070748575,5.626482028992967,5.456092614887902,4.711840959341538,5.930671462424057,5.954273391504467,5.582200905611751,5.31746158745103,5.244826137593629,4.898341165727509,5.687377332978343,5.7955720802695065,5.717685478415857,5.151103123192131,5.771816692597789,4.974484059123403,5.784441114477698,4.5906300952524814,5.6449041477559945,4.9337807676854615,5.0285631197609195,3.94546858513182,4.645962345084391,4.261310460100623,4.630936119064192,5.3359410727849825,5.821046230384839,5.565009104212596,5.211267417996193,5.099621948699957,5.234476787966766,5.387640719108037,5.754557022172531,5.153851434971632,5.037920276906324,5.130472077304193,5.0357978318473915,4.687814235537662,5.488880542227846,5.2516309213199515,4.835094196056521,4.656692194249391,4.200494821738647,4.723422831891353,5.260047524995322,5.329875645525051,5.499560624043366,5.322649240187665,4.899059547328757,5.454425601623154,4.664199935938319,5.0081017245156,4.455195201927577,5.454419500331976,4.599173217352912,4.623104501437765,5.26978371011636,4.649217992456271,5.024374822259768,5.446269922308643,4.980094313785294,5.259589101142596,5.043067407930429,4.835094196056521,4.644152905049394,5.259648819157038,4.994387549311506,4.590540910873103,5.154223061647266,5.414053675030946,5.090007494004327,4.60518648804185,4.696181587168524,3.543074235033532,4.872016343260914,5.3460750936034565,4.74907122781966,4.420961881120924,5.456043989174352,4.672928690442722,5.367428608010729,4.456031831895234,4.727712013419855,5.06774020292624,4.795330721891043,4.846269054955657,5.927964929034471,5.401316086421178,5.381069933406738,4.743721372932989,4.832955750604598,5.517407053652154,4.856716809700761,5.025633511060698,5.111504467940425,5.045581131197649,4.636447774917529,5.114213866909377,5.664784836821036,5.148963388856961,4.948706308904852,5.5456212785872605,5.197297102362184,5.6242542423272655,4.892873406888766,5.388049666025282,5.333130759029739,5.913694140089789,4.524253281297611,5.545622514996992,5.679274321831208,4.8329621306735255,5.572413842252829,5.853904969448208,5.059487684274447,5.876082680055248,5.224408738700019,4.971860082778998,5.776023795690518,5.295116079170464,5.487778735068386,4.517143092979163,4.994391948722769,5.734448572887568,5.665301376714262,5.716952741922496,5.452801160626077,4.918460222353907,5.126537252055469,5.95999245732144,5.535178883770655,4.750276915153993,5.032312471231069,5.006273455202784,5.184066505691661,5.613190420214953,5.443891672311155,4.959189313598999,5.052020243978609,4.882786287974826,4.805759047285239,5.18431374267384,4.803320523578754,5.082796137814752,5.132781426164735,5.246616740089661,5.087362533275025,5.257529785528793,5.366279102542887,5.276080192732058,5.443888546777372,5.460610722794537,4.894548658145807,5.443894797822444,5.246621662695988,5.716954408635146,5.087366084841944,5.126563213213785,4.9591988551773865,4.918465462235449,4.460822698802402,5.613202060959419,4.533047206146454,5.535182683256077,5.823813837231414,5.034700632535838,4.838439779925449,4.8782057255344995,6.205547277851637,5.135533353679754,4.71624547881444,5.335233172893472,5.68263687783336,5.4151754149254625,4.429283828934125,5.555581697920445,4.528685357587024,5.28474872400752,5.8759584570014995,4.3941188276945695,4.516693991312429,4.885242451395477,4.993810840774909,5.135555604082295,5.662617135246239,4.658602779715658,4.33128554558701,3.439332693830263,5.625106575403468,4.64281063073728,5.235248084993295,5.399737736268233,4.19728055812562,4.440279213235589,5.682637779709677,5.178781326919915,4.425941588018896,4.689575215759938,4.229937685907934,4.483544507227306,5.21827022625266,5.792765582140714,5.778058591010153,4.550961752298176,5.599251904580903,4.628858735758181,4.716237131572411,4.679246145413859,5.129995852469141,4.681982524113211,4.482916439502271,5.41519544950005,4.760218860156887,5.555771371755518,4.235578943330128,5.4208218220040685,5.175288520488822,5.08052908438032,4.587205677606586,4.261001023335196,4.521347331832345,4.418118915654199,4.40810422707605,4.53308538644057,3.379124146070392,5.519129412093188,5.136320959244881,5.730422097841695,5.499116352674126,4.086893471309455,5.104565632303901,4.382935117923578,4.657849102464169,4.451018452155457,4.267476801134049,1.8195439355418688,4.162922686055428,4.939793719853684,4.231214647962601,4.399569893656842,5.21483590356378,3.7348798027926273,5.073494731912843,4.777955773881275,5.059896489053404,5.633044053669549,5.317449042174265,5.047302131652784,5.062239677952538,5.221067185300831,5.284793810145905,4.734055372609905,4.782264743729289,5.171744000550545,5.832452706253965,5.183816283638807,4.888241290806114,5.534452571878904,4.9582340955611794,4.9327730000510135,4.94780119714398,5.189147683900026,5.436612616559754,5.144511938703939,5.9036617933770525,4.816883977893371,4.975096192120322,5.525193867618713,5.127762224244919,5.613104692396312,4.804221238347315,5.632032913840528,5.3532312783344125,5.676180381849934,5.872299070944596,5.138498481359409,5.238020998675949,4.6959804783518235,5.143820153619965,4.51579439233202,5.153488640030498,4.855446464315734,5.060134780920607,4.793853220182527,5.306369262703833,5.709356471962629,5.474683826151568,4.675714200621922,4.744488567220512,5.425535850729745,5.812624621889317,4.643057683751453,5.437741052618118,4.4654274684525745,4.276875221131548,4.8225145918105214,4.951055670312243,4.9382344381138195,4.570974684770967,5.774604545700326,5.000564216165375,5.46938160953077,4.803620969444699,5.052990038264142,4.76381718658969,5.0735680621195876,5.051071446576776,4.841465840801848,5.865600196876207,5.197266770780362,4.9369207028228095,5.685724724670739,4.890555143101518,4.553531081284317,4.824321124850771,5.425537480955108,5.70935986419922,5.400738253986169,5.258634888591337,5.795827203923955,4.708803182944582,5.811470440908292,5.0636072872131885,5.729914434663802,6.074872734429421,3.9151887051731564,5.359444631130346,5.354983831896304,4.049218022670182,4.76845309827063,4.444044795918076,3.328583449714202,4.424211718939285,4.1303337684950066,4.363405123740625,3.841922311679451,5.010516201803709,4.751302204139296,5.0609696613810975,4.285602311285613,3.8176975547630243,6.038368571791406,5.321590146276044,4.8700877268440355,5.607044125718749,5.1931218144065525,5.4754430875179425,4.860415873083373,5.3121583080184545,5.161005439680514,4.72439876574326,5.443722861289891,5.740283719681879,4.756126216564565,5.087866565242793,4.906232652625294,4.027064062151045,5.354674958301177,5.607036612224085,5.475459073006582,4.784189205380961,5.125718680175052,5.296777039587499,5.011121962695033,4.903735520037512,5.426818574545883,4.853892809956602,4.253846646198501,5.992109276505954,5.252692870525002,4.608590210285717,5.124953936649168,6.117946082500962,5.004295573344093,4.301203678722446,4.2735336801512975,4.430413711892598,5.131416545297398,5.277180437706072,5.490824798275393,4.345452151375825,4.831050302168686,4.7715066402054775,5.4133047944901325,5.3788374243425325,5.414313052733486,4.994840454727661,5.64040291897128,5.545514934179966,3.5420781463356255,3.809492376937342,3.3207692283386865,4.660334138013914,5.854102513486265,5.076283542163253,5.2030927480431926,5.230359498602868,5.397799274459727,5.199195498125692,5.472436093846595,4.921988036390143,5.466986182866968,4.734447772434011,5.5513536129407965,5.280778627725314,5.267307864252835,5.843364853321681,4.713356117810225,5.243310948029823,5.5538150869976555,4.3252487652875375,4.617943434828973,4.754401854620543,5.616999292099145,5.117364112038285,4.6924855910416525,5.394437671100835,4.803777938010869,4.790228849914659,4.799478398837981,5.6808737411841275,5.304785558213585,5.3679240463340046,4.905083160815474,5.409392030619153,4.795636744311401,4.195373754817413,4.728199519203664,5.020361282647708,4.702938639388347,4.63617685823315,5.101341451443854,5.457054891049931,4.473749657013478,5.009654821838708,4.615160664316557,5.209646355356986,4.805636766305935,5.479161979586145,4.816837630902035,4.6468740388566,4.8485339515573065,4.751825478380346,5.790620785479697,4.7841749285361095,5.210412165347667,5.3290722907547305,4.977673315647802,5.420704796815582,4.639247362265076,6.267731021111685,5.982599544114524,5.938479696190621,5.89603377473628,5.616589980298196,5.485387771538041,5.189400469737029,4.4460864848133355,4.6785001692461154,5.124487922182883,5.161631494110405,5.048212553658642,5.712009571558551,5.137347780501238,5.710113978786865,5.902658735674771,6.482857725856253,5.911306788581634,6.145489774429616,5.9547778092665915,5.48479365745831,5.61097087051841,6.239575987857521,5.882357162878345,5.529493235244849,5.330951235212256,5.273908289255293,5.7169052379228695,4.977311973396926,4.804636847484357,6.178050711711851,5.867363763358462,5.751863160564854,4.433865800002353,5.17183172440442,5.260030820122303,4.880533496324189,5.323322241834435,5.880721009115566,4.812137615623249,5.426579571977888,4.996905510695666,4.622390192628622,4.470469294642922,5.0131069937840556,4.81897766765923,5.2521804457922965,4.295742981095551,5.606285680786352,5.396736214725637,5.398386234078852,4.921551225006033,5.1206232800476625,4.908415311701199,5.470170783668913,5.95236520092848,5.624282095835668,5.995265667782789,5.487701037556083,4.750192008342128,5.6083377271708486,4.912471823627707,6.007495148217879,5.094554974670975,5.8529293047191295,5.659788839032253,4.655368972452062,6.363408133263617,5.191104334846156,4.956240486634902,5.346955091548924,5.745589235085484,6.375725050855523,5.979500117080633,5.223311592767302,5.370339114913228,5.195517747990319,5.2201944151096535,4.6895663398367855,4.9539866829103305,5.60371799879957,5.256950942299387,5.63171562531272,5.4742760118915434,5.033431797902889,5.496103149366808,5.7718893979629655,5.843817466862325,4.094645789605955,5.6673595461830875,5.242608505217699,5.6836143139041315,4.839572312356351,3.361727836017593,4.725454239433493,4.357458385645036,4.3342928715484605,5.1402848677008555,3.809828961067886,3.927626962444954,4.341296003110066,5.368450528219277,5.2224199054164,4.971452129092936,4.389467327055369,5.598951286290252,5.260317100505045,4.932362132590618,5.219382786511683,5.244334033158572,6.006013969629878,5.137176812130915,5.546662324732223,5.008417048230991,4.9780891730561425,6.053449549015344,5.096805769822717,5.804312570186775,4.608707842959471,4.847874832824165,4.73290014138668,4.575002999433531,5.226566397515562,4.033664963203177,5.551251104119964,5.449398166863515,5.639655791269019,6.175936622693218,5.45608349798131,5.545637351639214,4.558876497255136,5.1157735494937375,4.874145384618433,4.661538207970396,5.630615994648778,5.527941656202907,5.5887847117912495,5.360458977292585,4.987089503635093,5.470454594472599,5.56578998756888,5.812989518534911,4.794495017622194,4.856299820247791,4.8041326144720715,5.434843444633035,5.4033178829069595,5.5850115383182315,5.356792370173735,5.7757036311248475,4.840601610279263,6.420715511700568,4.652623404101937,5.058198187878253,5.183184400298215,5.083190761848655,4.604668764520179,4.467326869904469,4.888190730370167,4.93339616755983,4.596542118161749,4.874493414193022,5.377413718368022,4.872336948300805,5.218073132031067,5.114153767113211,3.346548558548474,5.702221093968523,5.796828175593411,5.067327560962287,4.580411726277412,4.883570592820618,6.161557253485672,4.7923216363515735,4.976629635125763,5.183705343653634,4.718601324354708,5.486645801523532,4.818001428133308,5.539930040614378,5.558389330764444,5.906995141676179,5.164147558506592,6.128110289212609,5.385822473406161,4.529070860303613,4.918171931465883,5.33935403711374,5.454341701355048,5.649097197611507,5.558444554426169,5.239034065389471,4.984162622928631,5.6970775747990094,6.054380526047879,5.151014177758252,5.685614565723614,5.803612778222943,5.969184257923993,5.390650780671015,4.832968510648727,5.322874378286886,6.124940256636327,5.95412088995687,5.6090723018972835,5.49884791913344,5.253190145541645,5.018654737258263,5.748134512424875,5.116239034861771,5.359336420820677,5.642376465282059,5.823634614630287,6.236018771278389,5.838942233767667,5.763067679229532,5.232927532165009,5.090385041685681,5.398282097958293,5.345808787406651,4.4747697096158685,5.2624605824022455,5.814873274895098,5.526837912663126,4.963480880407792,6.1403898686944896,4.966245012118208,5.596423343080873,5.170505204166297,4.499632105153693,5.7774086961979485,4.8072914301479654,5.733727567183039,5.7901035247959225,5.208540781293399,5.228833923344407,5.340208064202531,5.38510914199154,5.387459236713024,5.8577454829516,5.138921324402461,5.509170251573147,5.489879765201367,5.592537593914547,5.763547782415414,6.088672509809462,4.306360682861051,4.803730170974544,4.88275215561308,5.3912898125823,5.09916940563891,4.626638008620199,5.53691557864871,5.412824966650917,4.60677892803235,4.714220753242595,5.725155040012754,5.233128156474229,5.906956941389834,4.4751916019520435,5.653225059879156,5.358182400479401,5.04713852036118,5.1922690870079835,4.912051920109143,5.610434441622449,5.540437096398671,5.57891986371922,5.160987453493072,5.502610086030693,5.949109332454333,6.017799360133752,4.918329204764445,4.673490907887271,5.032477733253474,4.760090603918303,5.240866117710415,5.537591188033809,5.371965092766489,4.772490403229669,6.1056372186139685,5.412085733243278,6.068423730577699,5.759455554987808,5.9802825036544505,5.811829610088261,4.32166055684867,6.2052438926942814,5.415202127486202,5.210933535357622,4.599653861243402,5.405718501895726,5.811387977702765,4.9489066461450095,4.813887754948706,5.01932819107435,4.821651065962116,4.466422722433792,5.876166438335877,5.383987613926331,4.229758611221373,5.22958202245111,4.636006194318323,5.13791402814413,5.285221895176942,4.819761028514099,4.733116981442064,4.453165392525857,5.745799832743526,5.747875377572939,5.484822102490325,5.016653165276714,5.440661967449291,5.090994775765988,5.421450909814801,4.4607776061882545,5.802198160350563,4.232157188487434,4.909657637983918,4.457276186061326,5.427125670421609,5.154402668728247,4.532486842525011,5.313508674046074,5.111491029571679,5.109170043791543,5.4545323603458895,5.496610033597675,5.485347999810387,6.048519876309604,5.953764522568228,5.259978314909338,5.31368587510783,5.533052297046275,4.630722729008074,4.476309814106365,5.326473092689438,5.456119964459418,5.537041704952304,5.111615318619183,5.019847118523454,4.545566873074014,5.580951192136505,4.836729099516869,5.719718167136294,4.620625271909247,4.283775978711523,5.19163542470105,5.098913562048652,4.9431679303197615,4.583164754791726,5.202482867910702,5.890270079433979,4.850664611147551,5.913651756147462,5.241603751895163,3.9143960521297863,5.387927022378301,4.40679557266825,4.8792048697219,5.0873554300540516,5.1149010840938205,6.115433096928626,5.389350398823487,5.140938353259874,5.976586093960072,4.194930399217724,5.807006382479523,4.318668419976215,5.123171911925758,4.784046415808113,4.65856465026156,4.584873753459825,4.9339021496306525,4.708140345388049,5.142198559876307,4.962108775554161,5.1532293151102575,5.615680768704471,5.426883586500227,4.370587100246676,5.263264333334488,4.657552998005808,5.713420815171729,4.499975600182359,5.3041155284208585,5.056718140772,5.818283311732941,5.158483112699248,4.679218876172545,6.156188300812821,4.710675747434186,5.359370595410302,4.803293200008837,4.719248398447946,5.460649818350059,5.18898188886,5.6038402023018765,4.261334253799131,4.59148755973202,5.849184696219555,5.192146334810523,5.315134521369273,5.1600030734541615,5.543450907915331,5.5863216962709386,5.1792500930065435,5.688454528576532,5.418427251603582,4.8557613723399475,5.221056743333304,5.051083029770714,5.927957239244359,5.0761778721891595,5.964057289547363,5.409791151737474,4.574181797057869,4.982474760879849,4.913840332947238,5.07930789680251,4.598768627396784,5.084694218444392,4.916448684342482,5.069893693873133,5.395181312734675,5.676711895323356,5.076887917362404,5.033946202990361,5.46699507375075,4.5794977825348235,5.071329586860342,4.890516027792489,5.475737997721055,4.613725571785924,4.449262355308886,4.611797630776316,5.6775558562463,5.061361991644027,5.083079585903549,5.459707538550518,5.219207170490849,5.504847223849563,5.138851930651347,4.702671744161752,5.733784490032383,5.319195616802831,5.346114242510212,5.723086077162789,4.548229676502112,5.15460045498096,5.08639542712425,5.128438043279852,5.515759958886358,5.233039283720956,4.694806945462424,5.415852738550608,5.6226025375130675,5.186529738065256,4.972656342018889,4.625209525381881,5.623784590225167,5.72338752596688,5.441074271372142,5.6652187716052556,4.600918469409103,5.899852225550511,5.078039724128765,4.949355847308592,5.529869047360303,5.5509776289153505,5.703089233649226,6.387545895120929,4.634376494088368,5.14471428001267,4.6594502953363675,5.483024988842539,5.220923586235532,5.422844170675291,5.271023340666731,5.35514681324671,5.277173555485786,4.8721387840277695,5.422031430653622,4.699915735833369,4.732667118448442,5.427789489907865,5.603372831561271,5.282443102260037,5.4008590586478995,5.401410881003254,5.684649705600683,5.053781201051674,4.659060072240938,5.41082951422615,5.2977167512641525,5.575183224749023,5.182134924659528,5.35497807849575,5.681186042277916,4.8158963796532355,4.222143969500662,4.726735357064244,5.610222454765782,5.017317208282198,5.750002838034957,5.4979988529028585,4.892884522551015,5.513273548513791,5.520734997001082,4.588462194253109,5.198648840778378,4.92192046335703,5.182970718263217,5.59779387800227,5.620341176820337,5.668846993239975,5.615832260909299,5.364449679424558,5.48200698781308,5.325556710051133,4.616275913126566,5.742438386598438,5.337930240289517,5.784749914045799,5.790800099416785,5.521952276235657,5.5697460025824626,5.335483977635187,5.843023992408135,5.934537838956929,5.7556668016458215,4.959928165198257,5.080965421750991,4.898352142322824,4.5169186001975055,4.539226695042995,5.403475707740859,4.368249684638123,4.770712131572854,5.17235477543979,5.659416045883241,5.427153282160403,4.736555847162636,5.403386509447392,5.18782518424518,5.193119030440797,5.433312103948038,5.425589644935911,5.603845608742156,5.163298561728656,5.1443624568936395,5.658484567509774,5.5546502491372305,4.368231083311129,5.57118806492378,5.302006060586541,5.774083184591247,4.931035575957512,5.142614690148611,5.032530120278537,4.8564388612228555,5.943284737618057,5.212009054022761,6.118243556611741,5.89377562819935,5.137790718642225,5.30046287123587,5.640098651907534,5.6682283864763745,6.054436466847555,4.972804322336578,4.868179923974517,5.005021699914429,5.109942836998641,6.02067859949464,6.097423566480687,5.0822538420153,5.5495598817125265,6.16314705734051,5.451367284934826,5.80413602341709,5.754066870632658,6.164857652730115,5.3006128727102855,5.307712061727863,5.304557304033079,5.347650006593218,5.220764266264921,5.236237383947432,5.754336101891333,5.9141193399364385,5.767574368798389,5.502621006938774,5.594192485722842,5.268067563248719,5.171448533259915,4.5532274510288575,5.427544530432811,4.811675525366911,5.099044960015468,4.433449793761596,5.1966293177237,5.196789458863075,4.884381822960448,5.51413451151943,5.140036410975282,5.024346079934481,4.904785848781848,4.628542183412569,4.77155808601293,5.106564834846764,5.546057512679071,4.911386685279967,4.939743829620212,5.883642700477765,4.687805323550919,5.148858591039669,5.2609367280392965,5.284146375292501,4.501127757522981,4.974548534820987,4.367393197922476,5.721476731179623,5.447029274964892,5.207965414285902,4.831575454452988,4.944082739732179,4.907969994232578,5.316892503761295,4.9713129663383935,5.388806091204613,6.0504532281865915,5.279379448150558,4.959208396546148,5.95906573121993,5.443949490629178,5.058725827107601,5.106636186344689,5.32491593950421,5.582177037688409,5.465295091299638,5.272305844402086,5.391883868515447,5.249301107873169,5.875247101663401,5.657449791595941,5.852308559876403,4.672734971642158,5.965084995171431,5.301494442324943,4.645746395378245,5.465235582804863,5.083875121965383,4.383366482755039,5.316586731883527,5.132704645385273,5.211737090032868,4.8783264339432675,5.561640337845113,5.584747223944714,4.853260046800144,4.537995294766961,5.460305355654928,5.180051287144229,4.641989405436523,4.6662277299444375,5.15080247570459,5.406303382818605,4.598210330802737,4.764206031153339,5.2442993917426906,5.362791498006948,5.234949843994176,5.528314952765923,5.766464899838297,4.587475237383664,4.971776668876523,4.786964259435733,4.382683290433643,5.449686625478326,5.60069633948432,5.213992963045697,5.304744653551791,4.698718040459926,5.717841025782624,6.10177593432956,5.400741706014307,5.241085545257024,5.088178629749863,5.050704485553971,5.034102814763672,5.2863756214705475,4.978641510277342,5.350133613202324,5.332282894033044,4.507855871695831,5.635644566843376,4.244103863376508,5.73233826309347,4.440231936226789,5.104586113706224,5.4086113318458215,4.381854827622592,4.845748993643852,4.928288289596637,4.923715371317453,5.754647192617004,4.889777764467921,5.047796486389539,4.847270275067072,4.780302907440838,5.233554492714523,5.6985207115172924,4.733052743823058,4.635393259371746,4.695306522431802,4.80469813320963,5.304354789537689,4.5891226502058515,5.246712720850216,5.422067584747742,6.434875835361034,5.0007766921902945,5.503609575814041,5.2364692402049196,4.832668550451795,5.436550634316157,4.613566998771285,5.610334320022022,4.639934497828818,4.6437190936395405,4.922574959518599,4.931508721866617,4.3088630883653005,5.997823953698581,4.860469772491684,4.453761583499094,5.345748062398765,4.864422077167948,4.269139196792179,4.849744859119628,5.127762224244919,4.4866854545841965,4.776468723401084,5.025117356942387,4.585156052505075,5.655703994388142,5.194020102819218,5.01367548899094,4.402691164263039,4.6784091088214215,6.13092304392947,4.558504572181948,5.4394084913431495,5.185190724277791,4.834789347763296,5.211024376852319,5.04847676323753,5.434421985464454,5.521246643755071,5.083935981367377,5.500206276308606,5.921226972568833,5.389971883249058,4.94687456331126,5.6002179389342075],\"y0\":\" \",\"yaxis\":\"y\",\"type\":\"box\"},{\"alignmentgroup\":\"True\",\"hovertemplate\":\"Install_category=%{x}\\u003cbr\\u003ey=%{y}\\u003cextra\\u003e\\u003c\\u002fextra\\u003e\",\"legendgroup\":\"Outstanding\",\"marker\":{\"color\":\"#B6E880\"},\"name\":\"Outstanding\",\"notched\":false,\"offsetgroup\":\"Outstanding\",\"orientation\":\"v\",\"showlegend\":true,\"x\":[\"Outstanding\",\"Outstanding\",\"Outstanding\",\"Outstanding\",\"Outstanding\",\"Outstanding\",\"Outstanding\",\"Outstanding\",\"Outstanding\",\"Outstanding\",\"Outstanding\",\"Outstanding\",\"Outstanding\",\"Outstanding\",\"Outstanding\",\"Outstanding\",\"Outstanding\",\"Outstanding\",\"Outstanding\",\"Outstanding\",\"Outstanding\",\"Outstanding\",\"Outstanding\",\"Outstanding\",\"Outstanding\",\"Outstanding\",\"Outstanding\",\"Outstanding\",\"Outstanding\",\"Outstanding\",\"Outstanding\",\"Outstanding\",\"Outstanding\",\"Outstanding\",\"Outstanding\",\"Outstanding\",\"Outstanding\",\"Outstanding\",\"Outstanding\",\"Outstanding\",\"Outstanding\",\"Outstanding\",\"Outstanding\",\"Outstanding\",\"Outstanding\",\"Outstanding\",\"Outstanding\",\"Outstanding\",\"Outstanding\",\"Outstanding\",\"Outstanding\",\"Outstanding\",\"Outstanding\",\"Outstanding\",\"Outstanding\",\"Outstanding\",\"Outstanding\",\"Outstanding\",\"Outstanding\",\"Outstanding\",\"Outstanding\",\"Outstanding\",\"Outstanding\",\"Outstanding\",\"Outstanding\",\"Outstanding\",\"Outstanding\",\"Outstanding\",\"Outstanding\",\"Outstanding\",\"Outstanding\",\"Outstanding\",\"Outstanding\",\"Outstanding\",\"Outstanding\",\"Outstanding\",\"Outstanding\",\"Outstanding\",\"Outstanding\",\"Outstanding\",\"Outstanding\",\"Outstanding\",\"Outstanding\",\"Outstanding\",\"Outstanding\",\"Outstanding\",\"Outstanding\",\"Outstanding\",\"Outstanding\",\"Outstanding\",\"Outstanding\",\"Outstanding\",\"Outstanding\",\"Outstanding\",\"Outstanding\",\"Outstanding\",\"Outstanding\",\"Outstanding\",\"Outstanding\",\"Outstanding\",\"Outstanding\",\"Outstanding\",\"Outstanding\",\"Outstanding\",\"Outstanding\",\"Outstanding\",\"Outstanding\",\"Outstanding\",\"Outstanding\",\"Outstanding\",\"Outstanding\",\"Outstanding\",\"Outstanding\",\"Outstanding\",\"Outstanding\",\"Outstanding\",\"Outstanding\",\"Outstanding\",\"Outstanding\",\"Outstanding\",\"Outstanding\",\"Outstanding\",\"Outstanding\",\"Outstanding\",\"Outstanding\",\"Outstanding\",\"Outstanding\",\"Outstanding\",\"Outstanding\",\"Outstanding\",\"Outstanding\",\"Outstanding\",\"Outstanding\",\"Outstanding\",\"Outstanding\",\"Outstanding\",\"Outstanding\",\"Outstanding\",\"Outstanding\",\"Outstanding\",\"Outstanding\",\"Outstanding\",\"Outstanding\",\"Outstanding\",\"Outstanding\",\"Outstanding\",\"Outstanding\",\"Outstanding\",\"Outstanding\",\"Outstanding\",\"Outstanding\",\"Outstanding\",\"Outstanding\",\"Outstanding\",\"Outstanding\",\"Outstanding\",\"Outstanding\",\"Outstanding\",\"Outstanding\",\"Outstanding\",\"Outstanding\",\"Outstanding\",\"Outstanding\",\"Outstanding\",\"Outstanding\",\"Outstanding\",\"Outstanding\",\"Outstanding\",\"Outstanding\",\"Outstanding\",\"Outstanding\",\"Outstanding\",\"Outstanding\",\"Outstanding\",\"Outstanding\",\"Outstanding\",\"Outstanding\",\"Outstanding\",\"Outstanding\",\"Outstanding\",\"Outstanding\",\"Outstanding\",\"Outstanding\",\"Outstanding\",\"Outstanding\",\"Outstanding\",\"Outstanding\",\"Outstanding\",\"Outstanding\",\"Outstanding\",\"Outstanding\",\"Outstanding\",\"Outstanding\",\"Outstanding\",\"Outstanding\",\"Outstanding\",\"Outstanding\",\"Outstanding\",\"Outstanding\",\"Outstanding\",\"Outstanding\",\"Outstanding\",\"Outstanding\",\"Outstanding\",\"Outstanding\",\"Outstanding\",\"Outstanding\",\"Outstanding\",\"Outstanding\",\"Outstanding\",\"Outstanding\",\"Outstanding\",\"Outstanding\",\"Outstanding\",\"Outstanding\",\"Outstanding\",\"Outstanding\",\"Outstanding\",\"Outstanding\",\"Outstanding\",\"Outstanding\",\"Outstanding\",\"Outstanding\",\"Outstanding\",\"Outstanding\",\"Outstanding\",\"Outstanding\",\"Outstanding\",\"Outstanding\",\"Outstanding\",\"Outstanding\",\"Outstanding\",\"Outstanding\",\"Outstanding\",\"Outstanding\",\"Outstanding\",\"Outstanding\",\"Outstanding\",\"Outstanding\",\"Outstanding\",\"Outstanding\",\"Outstanding\",\"Outstanding\",\"Outstanding\",\"Outstanding\",\"Outstanding\",\"Outstanding\",\"Outstanding\",\"Outstanding\",\"Outstanding\",\"Outstanding\",\"Outstanding\",\"Outstanding\",\"Outstanding\",\"Outstanding\",\"Outstanding\",\"Outstanding\",\"Outstanding\",\"Outstanding\",\"Outstanding\",\"Outstanding\",\"Outstanding\",\"Outstanding\",\"Outstanding\",\"Outstanding\",\"Outstanding\",\"Outstanding\",\"Outstanding\",\"Outstanding\",\"Outstanding\",\"Outstanding\",\"Outstanding\",\"Outstanding\",\"Outstanding\",\"Outstanding\",\"Outstanding\",\"Outstanding\",\"Outstanding\",\"Outstanding\",\"Outstanding\",\"Outstanding\",\"Outstanding\",\"Outstanding\",\"Outstanding\",\"Outstanding\",\"Outstanding\",\"Outstanding\",\"Outstanding\",\"Outstanding\",\"Outstanding\",\"Outstanding\",\"Outstanding\",\"Outstanding\",\"Outstanding\",\"Outstanding\",\"Outstanding\",\"Outstanding\",\"Outstanding\",\"Outstanding\",\"Outstanding\",\"Outstanding\",\"Outstanding\",\"Outstanding\",\"Outstanding\",\"Outstanding\",\"Outstanding\",\"Outstanding\",\"Outstanding\",\"Outstanding\",\"Outstanding\",\"Outstanding\",\"Outstanding\",\"Outstanding\",\"Outstanding\",\"Outstanding\",\"Outstanding\",\"Outstanding\",\"Outstanding\",\"Outstanding\",\"Outstanding\",\"Outstanding\",\"Outstanding\",\"Outstanding\",\"Outstanding\",\"Outstanding\",\"Outstanding\",\"Outstanding\",\"Outstanding\",\"Outstanding\",\"Outstanding\",\"Outstanding\",\"Outstanding\",\"Outstanding\",\"Outstanding\",\"Outstanding\",\"Outstanding\",\"Outstanding\",\"Outstanding\",\"Outstanding\",\"Outstanding\",\"Outstanding\",\"Outstanding\",\"Outstanding\",\"Outstanding\",\"Outstanding\",\"Outstanding\",\"Outstanding\",\"Outstanding\",\"Outstanding\",\"Outstanding\",\"Outstanding\",\"Outstanding\",\"Outstanding\",\"Outstanding\",\"Outstanding\",\"Outstanding\",\"Outstanding\",\"Outstanding\",\"Outstanding\",\"Outstanding\",\"Outstanding\",\"Outstanding\",\"Outstanding\",\"Outstanding\",\"Outstanding\",\"Outstanding\",\"Outstanding\",\"Outstanding\",\"Outstanding\",\"Outstanding\",\"Outstanding\",\"Outstanding\",\"Outstanding\",\"Outstanding\",\"Outstanding\",\"Outstanding\",\"Outstanding\",\"Outstanding\",\"Outstanding\",\"Outstanding\",\"Outstanding\",\"Outstanding\",\"Outstanding\",\"Outstanding\",\"Outstanding\",\"Outstanding\",\"Outstanding\",\"Outstanding\",\"Outstanding\",\"Outstanding\",\"Outstanding\",\"Outstanding\",\"Outstanding\",\"Outstanding\",\"Outstanding\",\"Outstanding\",\"Outstanding\",\"Outstanding\",\"Outstanding\",\"Outstanding\",\"Outstanding\",\"Outstanding\",\"Outstanding\",\"Outstanding\",\"Outstanding\",\"Outstanding\",\"Outstanding\",\"Outstanding\",\"Outstanding\",\"Outstanding\",\"Outstanding\",\"Outstanding\",\"Outstanding\",\"Outstanding\",\"Outstanding\",\"Outstanding\",\"Outstanding\",\"Outstanding\",\"Outstanding\",\"Outstanding\",\"Outstanding\",\"Outstanding\",\"Outstanding\",\"Outstanding\",\"Outstanding\",\"Outstanding\",\"Outstanding\",\"Outstanding\",\"Outstanding\",\"Outstanding\",\"Outstanding\",\"Outstanding\",\"Outstanding\",\"Outstanding\",\"Outstanding\",\"Outstanding\",\"Outstanding\",\"Outstanding\",\"Outstanding\",\"Outstanding\",\"Outstanding\",\"Outstanding\",\"Outstanding\",\"Outstanding\",\"Outstanding\",\"Outstanding\",\"Outstanding\",\"Outstanding\",\"Outstanding\",\"Outstanding\",\"Outstanding\",\"Outstanding\",\"Outstanding\",\"Outstanding\",\"Outstanding\",\"Outstanding\",\"Outstanding\",\"Outstanding\",\"Outstanding\",\"Outstanding\",\"Outstanding\",\"Outstanding\",\"Outstanding\",\"Outstanding\",\"Outstanding\",\"Outstanding\",\"Outstanding\",\"Outstanding\",\"Outstanding\",\"Outstanding\",\"Outstanding\",\"Outstanding\",\"Outstanding\",\"Outstanding\",\"Outstanding\",\"Outstanding\",\"Outstanding\",\"Outstanding\",\"Outstanding\",\"Outstanding\",\"Outstanding\",\"Outstanding\",\"Outstanding\",\"Outstanding\",\"Outstanding\",\"Outstanding\",\"Outstanding\",\"Outstanding\",\"Outstanding\",\"Outstanding\",\"Outstanding\",\"Outstanding\",\"Outstanding\",\"Outstanding\",\"Outstanding\",\"Outstanding\",\"Outstanding\",\"Outstanding\",\"Outstanding\",\"Outstanding\",\"Outstanding\",\"Outstanding\",\"Outstanding\",\"Outstanding\",\"Outstanding\",\"Outstanding\",\"Outstanding\",\"Outstanding\",\"Outstanding\",\"Outstanding\",\"Outstanding\",\"Outstanding\",\"Outstanding\",\"Outstanding\",\"Outstanding\",\"Outstanding\",\"Outstanding\",\"Outstanding\",\"Outstanding\",\"Outstanding\",\"Outstanding\",\"Outstanding\",\"Outstanding\",\"Outstanding\",\"Outstanding\",\"Outstanding\",\"Outstanding\",\"Outstanding\",\"Outstanding\",\"Outstanding\",\"Outstanding\",\"Outstanding\",\"Outstanding\",\"Outstanding\",\"Outstanding\",\"Outstanding\",\"Outstanding\",\"Outstanding\",\"Outstanding\",\"Outstanding\",\"Outstanding\",\"Outstanding\",\"Outstanding\",\"Outstanding\",\"Outstanding\",\"Outstanding\",\"Outstanding\",\"Outstanding\",\"Outstanding\",\"Outstanding\",\"Outstanding\",\"Outstanding\",\"Outstanding\",\"Outstanding\",\"Outstanding\",\"Outstanding\",\"Outstanding\",\"Outstanding\",\"Outstanding\",\"Outstanding\",\"Outstanding\",\"Outstanding\",\"Outstanding\",\"Outstanding\",\"Outstanding\",\"Outstanding\",\"Outstanding\",\"Outstanding\",\"Outstanding\",\"Outstanding\",\"Outstanding\",\"Outstanding\",\"Outstanding\",\"Outstanding\",\"Outstanding\",\"Outstanding\",\"Outstanding\",\"Outstanding\",\"Outstanding\",\"Outstanding\",\"Outstanding\",\"Outstanding\",\"Outstanding\",\"Outstanding\",\"Outstanding\",\"Outstanding\",\"Outstanding\",\"Outstanding\",\"Outstanding\",\"Outstanding\",\"Outstanding\",\"Outstanding\",\"Outstanding\",\"Outstanding\",\"Outstanding\",\"Outstanding\",\"Outstanding\",\"Outstanding\",\"Outstanding\",\"Outstanding\",\"Outstanding\",\"Outstanding\",\"Outstanding\",\"Outstanding\",\"Outstanding\",\"Outstanding\",\"Outstanding\",\"Outstanding\",\"Outstanding\",\"Outstanding\",\"Outstanding\",\"Outstanding\",\"Outstanding\",\"Outstanding\",\"Outstanding\",\"Outstanding\",\"Outstanding\",\"Outstanding\",\"Outstanding\",\"Outstanding\",\"Outstanding\",\"Outstanding\",\"Outstanding\",\"Outstanding\",\"Outstanding\",\"Outstanding\",\"Outstanding\",\"Outstanding\",\"Outstanding\",\"Outstanding\",\"Outstanding\",\"Outstanding\",\"Outstanding\",\"Outstanding\",\"Outstanding\",\"Outstanding\",\"Outstanding\",\"Outstanding\",\"Outstanding\",\"Outstanding\",\"Outstanding\",\"Outstanding\",\"Outstanding\",\"Outstanding\",\"Outstanding\",\"Outstanding\",\"Outstanding\",\"Outstanding\",\"Outstanding\",\"Outstanding\",\"Outstanding\",\"Outstanding\",\"Outstanding\",\"Outstanding\",\"Outstanding\",\"Outstanding\",\"Outstanding\",\"Outstanding\",\"Outstanding\",\"Outstanding\",\"Outstanding\",\"Outstanding\",\"Outstanding\",\"Outstanding\",\"Outstanding\",\"Outstanding\",\"Outstanding\",\"Outstanding\",\"Outstanding\",\"Outstanding\",\"Outstanding\",\"Outstanding\",\"Outstanding\",\"Outstanding\",\"Outstanding\",\"Outstanding\",\"Outstanding\",\"Outstanding\",\"Outstanding\",\"Outstanding\",\"Outstanding\",\"Outstanding\",\"Outstanding\",\"Outstanding\",\"Outstanding\",\"Outstanding\",\"Outstanding\",\"Outstanding\",\"Outstanding\",\"Outstanding\",\"Outstanding\",\"Outstanding\",\"Outstanding\",\"Outstanding\",\"Outstanding\",\"Outstanding\",\"Outstanding\",\"Outstanding\",\"Outstanding\",\"Outstanding\",\"Outstanding\",\"Outstanding\",\"Outstanding\",\"Outstanding\",\"Outstanding\",\"Outstanding\",\"Outstanding\",\"Outstanding\",\"Outstanding\",\"Outstanding\",\"Outstanding\",\"Outstanding\",\"Outstanding\",\"Outstanding\",\"Outstanding\",\"Outstanding\",\"Outstanding\",\"Outstanding\",\"Outstanding\",\"Outstanding\",\"Outstanding\",\"Outstanding\",\"Outstanding\",\"Outstanding\",\"Outstanding\",\"Outstanding\",\"Outstanding\",\"Outstanding\",\"Outstanding\",\"Outstanding\",\"Outstanding\",\"Outstanding\",\"Outstanding\",\"Outstanding\",\"Outstanding\",\"Outstanding\",\"Outstanding\",\"Outstanding\",\"Outstanding\",\"Outstanding\",\"Outstanding\",\"Outstanding\",\"Outstanding\",\"Outstanding\",\"Outstanding\",\"Outstanding\",\"Outstanding\",\"Outstanding\",\"Outstanding\",\"Outstanding\",\"Outstanding\"],\"x0\":\" \",\"xaxis\":\"x\",\"y\":[5.333737378998817,6.464597436984588,5.910667085296282,6.15631679918212,5.8291300202854375,5.337918272572673,6.001240742475728,6.106933018628135,4.169086357487023,6.001239876363845,7.753145073871621,7.839599431743761,6.98421194157498,6.155042865684408,6.663165876743416,6.533930728579099,7.054413823186414,6.487849074644811,6.6220064656072894,5.819145649691207,6.679962893957054,4.823487270850815,6.711794916828929,6.39331349490769,6.38935801783375,6.731373820838841,6.56206911542411,5.893101221119308,6.4953014532375315,6.318738680383264,7.248290210190628,7.753173679413798,6.679971605363855,7.054420489970699,6.533954098633355,5.774318385715074,6.731382930125715,7.020534012959024,6.495337408680558,6.389359789677445,6.458864378361518,7.033033076696298,7.108661748336199,6.405948285220168,6.98421401328595,6.487861785401067,6.355052099764762,6.393345800111604,6.71184694619609,6.399869196512689,6.562111969908011,7.248337479308311,6.8932183600079036,6.6631808738701075,6.622021398119258,5.923162127224829,6.533964259134272,7.05443129454169,6.798645397976266,6.798685649964951,6.7368909180139624,5.672180088892584,6.855238136203158,6.688921996035647,6.26204365860392,5.846939880417966,5.614562933651295,5.700269205371002,6.32905111904429,5.787502272465255,6.213167523992195,5.700268339375694,6.7369220390889515,6.7369307143875625,5.8193734744100905,5.541377025305635,5.819385981555074,5.541421970919229,6.2726574063607154,6.658908361661201,6.2726590290080235,6.272658333588491,4.914581133948868,6.648105019916291,7.442828695007467,7.3507649281761065,5.567265221276281,6.718847160148968,7.364241494833887,6.9094816258700735,7.020581192143833,6.175326517381998,6.416728023001743,6.609272997768305,6.577367812895397,6.792291019578153,7.652166274482339,6.000181063049931,5.836312086975805,7.152236256505845,5.772371589035087,6.23861382923886,6.0552372392123806,6.7455953984674855,6.112456525188226,6.692037214380152,6.11410701707667,6.950539462130446,6.6158166933134055,7.009303754682059,6.881620287477124,6.99483733437439,6.327027926974218,6.884866079678723,7.442843248393643,6.648100918530406,7.020582269045201,7.1522455856806255,7.350799377294058,6.609272036699893,6.5048601257665055,6.733893103782397,6.994840806315357,6.276289430889813,6.7923132292145745,6.7376397516995095,6.185957269974767,7.364265280073927,7.172930367351888,6.8849366140835775,6.055863964934762,6.416743993539359,6.909499171451171,6.6920641318030345,6.881628329755752,6.718902167809573,6.141478934433568,6.4310979589509865,6.994872931439845,6.74560600864173,6.731398488023405,6.439397438363092,6.112472950576838,5.976316041255255,6.648242003482643,6.17569963844578,7.442857362675853,5.5570618518720245,6.055862437435175,7.152298865192367,6.718900923369394,6.78349866811714,5.772528534228888,6.186132145115059,6.909496122422416,7.018072939213823,5.625563487052034,6.352377810202604,6.808060531036522,6.570035499665723,6.265068178251169,6.660720941992303,6.175909686010835,6.569873470552944,6.648348494704903,7.350823774679102,6.589233262307855,7.152305165322445,6.570108194382435,6.392356241343033,6.310810948802601,6.485363766895308,7.350832913664128,6.648351227408205,7.152346175100489,7.442877068642197,6.79232829188628,6.276365743236254,7.364302072354319,7.65218721876379,6.88163654299298,6.609343683858324,7.020610598875889,6.909510618490888,6.112479319437936,6.994904922362338,6.718941075507212,6.504902359887262,7.002404577325923,6.615914822951238,6.733973324247231,5.772691286618114,6.0562334619563885,6.994924212452791,6.745612561855152,6.431183896831749,6.186383581545706,7.1729667047491965,6.950550704327878,6.885036056057572,6.692093165447916,6.738508563772135,6.034857373337404,6.17638040290641,6.6264313235496966,6.909510778961263,6.431185023245364,6.326175634071486,6.122957642192073,6.001417393192341,6.094420463820127,7.040565237598103,6.166900862383089,5.739603194874897,6.193027149557767,6.581699289765883,5.876819775841517,6.487598031607945,6.332648284553548,6.176271309173032,7.152337398538569,6.731409934410912,6.950552115665436,6.122958951030407,6.416753642121246,6.1141500940782185,6.3271121850371586,6.783519616127957,6.7456140441159045,6.439434543683184,6.3261791178926785,6.186489882074109,6.666346007078303,6.692089459133239,6.166914761088742,5.537296368413766,6.881636086706098,5.369419964965584,5.672738662331457,6.648351227408205,5.567471025475834,6.006389873582248,7.009323265859859,6.798954338239243,6.64844344606288,5.828146042658128,6.12358771872892,6.006400144294075,6.197059080411442,6.64844686119258,5.672756192677327,6.798954131248306,6.197061011589443,7.892975137931482,7.823326263442741,6.9348144117649255,6.470605394588515,7.230826516740459,6.634017642214164,6.684048274519831,6.088256256424531,6.577695112354535,6.580545115395109,6.100318495596464,6.063334860399394,6.470605247635334,7.230824423723759,7.823327131022189,7.2308409378618235,6.0269616279022795,6.100334007695665,6.06333448503797,6.088266180295851,6.070331239682337,5.842367689741699,6.070338996230403,6.02697264788561,6.79316138939865,6.772072649600975,6.445436523897912,5.988233336921813,5.958671846207224,6.196743631396006,5.933448310953905,6.035407722698893,6.58661261902683,6.1190056688676595,6.779070907886574,6.793164256251124,6.136957937725579,6.772069933694918,5.958661337715171,6.772137165726513,6.793237109906439,7.035772075443606,5.341919002075212,5.961328054900747,6.722845918354639,5.815855899886019,5.604031549319823,6.523480607632878,6.499418589158266,5.097808940207254,6.064105168879645,6.198461060464361,7.035771355522177,5.815855236251843,6.722844274099489,5.722014117312136,6.49940332417497,6.38348054305843,6.1810912071391035,5.909391800649276,6.527455761558573,6.687091146557254,7.035791872815257,6.272170338233662,5.80335194355912,6.786820747610305,6.527455374791051,5.876861297650943,6.6870923962998585,5.930770287046898,6.174493304010893,5.722014941013494,6.272171498568675,6.523480087200922,6.161667412437736,6.17339957411513,6.3351131366656475,6.065666340929219,6.383484673814397,5.961381697260995,6.499432890998114,6.880502560367718,6.012262141807771,5.909403036505868,6.031520356414497,6.876787189974854,6.527462981155759,6.198476459856495,5.915457350356888,6.687094627974137,5.662564244262064,5.662566133336705,5.923640299923967,5.3421225191123565,6.26254315989327,6.065518842018395,6.965444188902388,6.368966159112555,4.2068528500066975,6.328316187736741,6.065519215496617,5.885832015933023,6.262542922624123,6.965454440498559,6.328319858351389,6.904904419597511,6.759297063321938,4.383797419556664,4.572092890303906,7.105839204230509,4.610340711452157,4.460296326757476,4.884251447603519,5.868837741626928,4.66122566027014,6.891576090880491,3.9823617016331467,6.269306254925577,4.874011899299447,6.1073534666930955,5.94293323087234,6.628887214155153,5.674772987457128,5.79163311346838,6.1257411140092035,5.760764657089117,6.047817104714745,6.269304853306475,6.0442731440507815,6.66220970841547,6.012328422751133,6.4900606460760395,6.693210587703147,6.049917371372883,6.810678751461003,6.826254705953556,6.057493036164827,6.762186309468436,6.092417093773026,6.51550413886555,5.6953984871204355,6.378431516584015,5.462758761706262,6.413625111524921,6.3189239715615315,6.4794741021548425,6.436348892388541,6.512270178453039,6.033219025858179,6.0163253636539356,5.458260037360323,5.681822621705806,5.839775854917036,6.731103841255612,6.2698187106253345,5.933592558599894,5.911680046387165,6.172718494203392,5.761220218813422,5.791548901358346,6.17562573549073,4.186617351853637,5.091357390494647,5.268652843787503,4.90766390912036,6.441689481136873,5.74034136905999,6.731102711956281,5.784747062398468,6.3189237631794155,6.436355252902791,6.479475254014639,5.695830897937652,6.033269312212952,5.911676320719026,5.7915474976848245,6.17844079487693,5.681819910988056,5.933602173406347,5.388397856278495,6.380395235017484,6.172718785990212,5.681818103833489,5.933603691514223,6.016324108835676,6.269818477297948,5.450956954777571,6.1926892505619255,6.312474403685976,6.153161560032545,7.4091771820796755,4.738836030514029,5.086060705255161,6.013711679040546,5.286413801698848,6.208332769244127,5.9573122305126205,5.7031391333706525,4.413668506282474,5.964668739952044,6.811201271427783,6.811217772413807,5.976899034942145,5.943313934534487,7.066974198951677,6.108570773699593,5.943317893287294,6.10857111193056,6.859296188395174,6.692707711313422,6.152864167269403,7.2304531621154515,5.947638566451709,6.256572957017352,7.020491427169262,6.581564433603043,6.745531966062993,6.237683705184363,7.172755724618298,6.736714894719691,6.038356644469025,6.479222203434135,7.442663215813858,6.087034243101125,5.5481952629206255,5.827426787413285,7.839538831777707,6.23133678407922,6.759039286935703,7.017921231416526,7.822886405863552,6.99459730763394,5.671960155516194,6.923747156259107,5.835975780765118,5.9022868858432975,6.005808754933976,6.048135591821121,5.95833688234594,7.408639264758279,6.112368018525456,6.3178010086999015,6.691857045332453,6.3875135114561,7.892807863159739,6.7510827800705675,6.722385695083305,6.370960846319646,5.975275986030051,7.15182658464175,6.115627150990863,6.651973684864637,6.783299003603056,5.918286746586357,7.002303717770925,5.674169207700099,7.6520668503422415,7.364086999863773,7.350625051016782,6.984172171816089,7.632624559517281,6.9504354945157205,6.81020737390248,6.294857796433895,7.0092325038080805,6.706841312587866,6.413086756643879,6.626338005956546,6.909349636842943,5.806840413472734,6.485535037256738,6.696551209555398,6.201705391285202,6.2697099664790015,6.005980987586559,6.884086438329064,6.412672350838273,6.031910339772968,6.609046447149669,6.994469810927554,6.617809221389338,6.067799279009557,6.602107001161267,6.445364418989361,6.730684992494272,6.48785867836167,5.978369081275277,5.910704960644725,6.172687271880853,6.511818946989818,6.633562980091027,6.965277590061295,6.77166500030395,6.778411025540329,6.792443451513809,6.934294587992732,6.155043777406008,5.951548785186201,6.506984791247957,7.0666230079005565,7.033025147641391,6.223147431054362,6.683800722759931,6.567869890243546,6.683983725038738,6.268405249325466,6.052618924441898,6.904262247166061,5.9330897619500895,6.53395803585567,5.995347324282375,6.4359941462776575,6.1719621077895175,6.79110370946783,6.2131364198519785,6.243538315856248,5.774312543751651,6.718630629443372,6.137358226386416,6.070107348166483,6.577241491373287,6.264366772309311,6.666278210032778,5.738498333891347,5.848684730624571,6.326889642882823,6.1235275951981105,6.389367408522963,6.219272182908252,6.405952037168343,6.430553773898872,5.987780631952026,5.842621095188908,5.552727821068286,5.760580791096656,6.046071589006916,6.073772587957786,6.261788938753074,5.880115875189597,5.739741599295329,6.8108491680885095,6.711874771338281,6.393363707395931,6.88024744056917,6.486125019219902,5.695456283530164,6.647716094865606,6.890708552862738,7.224581358024936,5.987922655312912,5.167060227229767,6.17711614189952,6.470393730472785,6.445569178112733,6.3290004248895455,6.49535156792224,4.907497351168274,6.893249791620757,4.618069026062325,6.562145893375677,6.6921297856665065,5.2848298756868815,7.054439953330086,6.013277620497092,5.993194104466814,5.634117392255587,6.20828491775363,6.994733778666956,6.603883884414362,6.731397843147526,6.464666716555145,6.859199382554139,6.178172326179168,6.231498134669832,6.375031003537087,6.06532982082826,6.0382647931131475,6.106907554706566,6.0919625991795705,6.053822256080392,5.858324208721022,6.622042447941181,6.714370001384899,6.413569647047498,6.87302957935128,5.931200981245984,5.842344588788723,6.031414928121391,6.589027785438741,6.4166950819130015,5.91894883128985,6.585051961974063,6.085666898852865,6.35508431233562,4.901959350874288,6.69298449747963,7.035336945358764,6.914849943763479,6.003465702251136,6.312263487203475,5.543013290237439,6.007422148400633,5.681429390887428,5.541743945101817,5.939982253176227,5.695260970803279,5.5135265586104545,5.755052728096943,6.792886153378551,6.414735924446369,6.855442526520106,6.538137460973435,6.499203592260134,6.537946343595077,5.791383236557524,5.6850481047120285,6.186272729880503,6.378415890179622,6.364003608327118,6.100275058770872,6.017938567370389,6.762924819127336,7.108681225930136,6.577660314759778,6.747540212655166,6.156078562204274,6.0671240696753745,6.648488523612678,6.094477068268118,6.002040292607723,6.453022184825981,6.173396660808524,5.923626319679506,5.947035027182782,6.625167009998948,6.660760210470953,6.349021150054456,7.396216770850127,6.826129701831704,6.490054041805959,6.351483030519712,6.9132878257709764,5.979452764766347,6.176849743087964,7.040675507428614,6.3834859309931975,6.427169685950409,6.392506138264694,6.371814207107891,5.698008280883338,6.181098648677576,5.895213636623117,5.370307643963216,5.978379123568306,6.595620650311245,6.799174382795648,5.357549906780936,6.592069225655203,6.217092903185323,5.967884798187327,5.8870549413378574,5.695829148154285,6.030423620936883,5.67703085688751,6.039054636373598,7.1058443777502225,7.129678068145549,6.37499346079931,6.228092752871466,6.5243052288449235,6.462904778348365,6.117181112171447,5.843734076984591,6.297994114007901,6.1386146464311,6.197155352971512,6.265379446212306,5.826010626088096,5.969821126901555,6.369048417605493,6.1370634293209285,6.186535956400683,5.943526666357637,6.100419831297735,6.100681678020282,5.955876240341781,6.881706748425301,5.453047586217811,6.107142105833073,5.880007113382005,6.743048101147723,5.923868580235045,5.5056030367866144,5.8370427024221225,5.819947115786992,5.479855920275859,4.738899418444579,6.181749575872345],\"y0\":\" \",\"yaxis\":\"y\",\"type\":\"box\"},{\"alignmentgroup\":\"True\",\"hovertemplate\":\"Install_category=%{x}\\u003cbr\\u003ey=%{y}\\u003cextra\\u003e\\u003c\\u002fextra\\u003e\",\"legendgroup\":\"None\",\"marker\":{\"color\":\"#FF97FF\"},\"name\":\"None\",\"notched\":false,\"offsetgroup\":\"None\",\"orientation\":\"v\",\"showlegend\":true,\"x\":[\"None\",\"None\",\"None\",\"None\",\"None\",\"None\",\"None\",\"None\",\"None\",\"None\",\"None\",\"None\",\"None\",\"None\"],\"x0\":\" \",\"xaxis\":\"x\",\"y\":[null,null,null,null,null,null,null,null,null,null,null,null,null,null],\"y0\":\" \",\"yaxis\":\"y\",\"type\":\"box\"}],                        {\"template\":{\"data\":{\"histogram2dcontour\":[{\"type\":\"histogram2dcontour\",\"colorbar\":{\"outlinewidth\":0,\"ticks\":\"\"},\"colorscale\":[[0.0,\"#0d0887\"],[0.1111111111111111,\"#46039f\"],[0.2222222222222222,\"#7201a8\"],[0.3333333333333333,\"#9c179e\"],[0.4444444444444444,\"#bd3786\"],[0.5555555555555556,\"#d8576b\"],[0.6666666666666666,\"#ed7953\"],[0.7777777777777778,\"#fb9f3a\"],[0.8888888888888888,\"#fdca26\"],[1.0,\"#f0f921\"]]}],\"choropleth\":[{\"type\":\"choropleth\",\"colorbar\":{\"outlinewidth\":0,\"ticks\":\"\"}}],\"histogram2d\":[{\"type\":\"histogram2d\",\"colorbar\":{\"outlinewidth\":0,\"ticks\":\"\"},\"colorscale\":[[0.0,\"#0d0887\"],[0.1111111111111111,\"#46039f\"],[0.2222222222222222,\"#7201a8\"],[0.3333333333333333,\"#9c179e\"],[0.4444444444444444,\"#bd3786\"],[0.5555555555555556,\"#d8576b\"],[0.6666666666666666,\"#ed7953\"],[0.7777777777777778,\"#fb9f3a\"],[0.8888888888888888,\"#fdca26\"],[1.0,\"#f0f921\"]]}],\"heatmap\":[{\"type\":\"heatmap\",\"colorbar\":{\"outlinewidth\":0,\"ticks\":\"\"},\"colorscale\":[[0.0,\"#0d0887\"],[0.1111111111111111,\"#46039f\"],[0.2222222222222222,\"#7201a8\"],[0.3333333333333333,\"#9c179e\"],[0.4444444444444444,\"#bd3786\"],[0.5555555555555556,\"#d8576b\"],[0.6666666666666666,\"#ed7953\"],[0.7777777777777778,\"#fb9f3a\"],[0.8888888888888888,\"#fdca26\"],[1.0,\"#f0f921\"]]}],\"heatmapgl\":[{\"type\":\"heatmapgl\",\"colorbar\":{\"outlinewidth\":0,\"ticks\":\"\"},\"colorscale\":[[0.0,\"#0d0887\"],[0.1111111111111111,\"#46039f\"],[0.2222222222222222,\"#7201a8\"],[0.3333333333333333,\"#9c179e\"],[0.4444444444444444,\"#bd3786\"],[0.5555555555555556,\"#d8576b\"],[0.6666666666666666,\"#ed7953\"],[0.7777777777777778,\"#fb9f3a\"],[0.8888888888888888,\"#fdca26\"],[1.0,\"#f0f921\"]]}],\"contourcarpet\":[{\"type\":\"contourcarpet\",\"colorbar\":{\"outlinewidth\":0,\"ticks\":\"\"}}],\"contour\":[{\"type\":\"contour\",\"colorbar\":{\"outlinewidth\":0,\"ticks\":\"\"},\"colorscale\":[[0.0,\"#0d0887\"],[0.1111111111111111,\"#46039f\"],[0.2222222222222222,\"#7201a8\"],[0.3333333333333333,\"#9c179e\"],[0.4444444444444444,\"#bd3786\"],[0.5555555555555556,\"#d8576b\"],[0.6666666666666666,\"#ed7953\"],[0.7777777777777778,\"#fb9f3a\"],[0.8888888888888888,\"#fdca26\"],[1.0,\"#f0f921\"]]}],\"surface\":[{\"type\":\"surface\",\"colorbar\":{\"outlinewidth\":0,\"ticks\":\"\"},\"colorscale\":[[0.0,\"#0d0887\"],[0.1111111111111111,\"#46039f\"],[0.2222222222222222,\"#7201a8\"],[0.3333333333333333,\"#9c179e\"],[0.4444444444444444,\"#bd3786\"],[0.5555555555555556,\"#d8576b\"],[0.6666666666666666,\"#ed7953\"],[0.7777777777777778,\"#fb9f3a\"],[0.8888888888888888,\"#fdca26\"],[1.0,\"#f0f921\"]]}],\"mesh3d\":[{\"type\":\"mesh3d\",\"colorbar\":{\"outlinewidth\":0,\"ticks\":\"\"}}],\"scatter\":[{\"fillpattern\":{\"fillmode\":\"overlay\",\"size\":10,\"solidity\":0.2},\"type\":\"scatter\"}],\"parcoords\":[{\"type\":\"parcoords\",\"line\":{\"colorbar\":{\"outlinewidth\":0,\"ticks\":\"\"}}}],\"scatterpolargl\":[{\"type\":\"scatterpolargl\",\"marker\":{\"colorbar\":{\"outlinewidth\":0,\"ticks\":\"\"}}}],\"bar\":[{\"error_x\":{\"color\":\"#2a3f5f\"},\"error_y\":{\"color\":\"#2a3f5f\"},\"marker\":{\"line\":{\"color\":\"#E5ECF6\",\"width\":0.5},\"pattern\":{\"fillmode\":\"overlay\",\"size\":10,\"solidity\":0.2}},\"type\":\"bar\"}],\"scattergeo\":[{\"type\":\"scattergeo\",\"marker\":{\"colorbar\":{\"outlinewidth\":0,\"ticks\":\"\"}}}],\"scatterpolar\":[{\"type\":\"scatterpolar\",\"marker\":{\"colorbar\":{\"outlinewidth\":0,\"ticks\":\"\"}}}],\"histogram\":[{\"marker\":{\"pattern\":{\"fillmode\":\"overlay\",\"size\":10,\"solidity\":0.2}},\"type\":\"histogram\"}],\"scattergl\":[{\"type\":\"scattergl\",\"marker\":{\"colorbar\":{\"outlinewidth\":0,\"ticks\":\"\"}}}],\"scatter3d\":[{\"type\":\"scatter3d\",\"line\":{\"colorbar\":{\"outlinewidth\":0,\"ticks\":\"\"}},\"marker\":{\"colorbar\":{\"outlinewidth\":0,\"ticks\":\"\"}}}],\"scattermapbox\":[{\"type\":\"scattermapbox\",\"marker\":{\"colorbar\":{\"outlinewidth\":0,\"ticks\":\"\"}}}],\"scatterternary\":[{\"type\":\"scatterternary\",\"marker\":{\"colorbar\":{\"outlinewidth\":0,\"ticks\":\"\"}}}],\"scattercarpet\":[{\"type\":\"scattercarpet\",\"marker\":{\"colorbar\":{\"outlinewidth\":0,\"ticks\":\"\"}}}],\"carpet\":[{\"aaxis\":{\"endlinecolor\":\"#2a3f5f\",\"gridcolor\":\"white\",\"linecolor\":\"white\",\"minorgridcolor\":\"white\",\"startlinecolor\":\"#2a3f5f\"},\"baxis\":{\"endlinecolor\":\"#2a3f5f\",\"gridcolor\":\"white\",\"linecolor\":\"white\",\"minorgridcolor\":\"white\",\"startlinecolor\":\"#2a3f5f\"},\"type\":\"carpet\"}],\"table\":[{\"cells\":{\"fill\":{\"color\":\"#EBF0F8\"},\"line\":{\"color\":\"white\"}},\"header\":{\"fill\":{\"color\":\"#C8D4E3\"},\"line\":{\"color\":\"white\"}},\"type\":\"table\"}],\"barpolar\":[{\"marker\":{\"line\":{\"color\":\"#E5ECF6\",\"width\":0.5},\"pattern\":{\"fillmode\":\"overlay\",\"size\":10,\"solidity\":0.2}},\"type\":\"barpolar\"}],\"pie\":[{\"automargin\":true,\"type\":\"pie\"}]},\"layout\":{\"autotypenumbers\":\"strict\",\"colorway\":[\"#636efa\",\"#EF553B\",\"#00cc96\",\"#ab63fa\",\"#FFA15A\",\"#19d3f3\",\"#FF6692\",\"#B6E880\",\"#FF97FF\",\"#FECB52\"],\"font\":{\"color\":\"#2a3f5f\"},\"hovermode\":\"closest\",\"hoverlabel\":{\"align\":\"left\"},\"paper_bgcolor\":\"white\",\"plot_bgcolor\":\"#E5ECF6\",\"polar\":{\"bgcolor\":\"#E5ECF6\",\"angularaxis\":{\"gridcolor\":\"white\",\"linecolor\":\"white\",\"ticks\":\"\"},\"radialaxis\":{\"gridcolor\":\"white\",\"linecolor\":\"white\",\"ticks\":\"\"}},\"ternary\":{\"bgcolor\":\"#E5ECF6\",\"aaxis\":{\"gridcolor\":\"white\",\"linecolor\":\"white\",\"ticks\":\"\"},\"baxis\":{\"gridcolor\":\"white\",\"linecolor\":\"white\",\"ticks\":\"\"},\"caxis\":{\"gridcolor\":\"white\",\"linecolor\":\"white\",\"ticks\":\"\"}},\"coloraxis\":{\"colorbar\":{\"outlinewidth\":0,\"ticks\":\"\"}},\"colorscale\":{\"sequential\":[[0.0,\"#0d0887\"],[0.1111111111111111,\"#46039f\"],[0.2222222222222222,\"#7201a8\"],[0.3333333333333333,\"#9c179e\"],[0.4444444444444444,\"#bd3786\"],[0.5555555555555556,\"#d8576b\"],[0.6666666666666666,\"#ed7953\"],[0.7777777777777778,\"#fb9f3a\"],[0.8888888888888888,\"#fdca26\"],[1.0,\"#f0f921\"]],\"sequentialminus\":[[0.0,\"#0d0887\"],[0.1111111111111111,\"#46039f\"],[0.2222222222222222,\"#7201a8\"],[0.3333333333333333,\"#9c179e\"],[0.4444444444444444,\"#bd3786\"],[0.5555555555555556,\"#d8576b\"],[0.6666666666666666,\"#ed7953\"],[0.7777777777777778,\"#fb9f3a\"],[0.8888888888888888,\"#fdca26\"],[1.0,\"#f0f921\"]],\"diverging\":[[0,\"#8e0152\"],[0.1,\"#c51b7d\"],[0.2,\"#de77ae\"],[0.3,\"#f1b6da\"],[0.4,\"#fde0ef\"],[0.5,\"#f7f7f7\"],[0.6,\"#e6f5d0\"],[0.7,\"#b8e186\"],[0.8,\"#7fbc41\"],[0.9,\"#4d9221\"],[1,\"#276419\"]]},\"xaxis\":{\"gridcolor\":\"white\",\"linecolor\":\"white\",\"ticks\":\"\",\"title\":{\"standoff\":15},\"zerolinecolor\":\"white\",\"automargin\":true,\"zerolinewidth\":2},\"yaxis\":{\"gridcolor\":\"white\",\"linecolor\":\"white\",\"ticks\":\"\",\"title\":{\"standoff\":15},\"zerolinecolor\":\"white\",\"automargin\":true,\"zerolinewidth\":2},\"scene\":{\"xaxis\":{\"backgroundcolor\":\"#E5ECF6\",\"gridcolor\":\"white\",\"linecolor\":\"white\",\"showbackground\":true,\"ticks\":\"\",\"zerolinecolor\":\"white\",\"gridwidth\":2},\"yaxis\":{\"backgroundcolor\":\"#E5ECF6\",\"gridcolor\":\"white\",\"linecolor\":\"white\",\"showbackground\":true,\"ticks\":\"\",\"zerolinecolor\":\"white\",\"gridwidth\":2},\"zaxis\":{\"backgroundcolor\":\"#E5ECF6\",\"gridcolor\":\"white\",\"linecolor\":\"white\",\"showbackground\":true,\"ticks\":\"\",\"zerolinecolor\":\"white\",\"gridwidth\":2}},\"shapedefaults\":{\"line\":{\"color\":\"#2a3f5f\"}},\"annotationdefaults\":{\"arrowcolor\":\"#2a3f5f\",\"arrowhead\":0,\"arrowwidth\":1},\"geo\":{\"bgcolor\":\"white\",\"landcolor\":\"#E5ECF6\",\"subunitcolor\":\"white\",\"showland\":true,\"showlakes\":true,\"lakecolor\":\"white\"},\"title\":{\"x\":0.05},\"mapbox\":{\"style\":\"light\"}}},\"xaxis\":{\"anchor\":\"y\",\"domain\":[0.0,1.0],\"title\":{\"text\":\"Install_category\"},\"categoryorder\":\"array\",\"categoryarray\":[\"None \",\"Extremely Low\",\"Minimal\",\"Medium\",\"Above Medium\",\"Significant\",\"Exceptionally High\",\"Outstanding\",\"None\"],\"tickangle\":-90},\"yaxis\":{\"anchor\":\"x\",\"domain\":[0.0,1.0],\"title\":{\"text\":\"y\"}},\"legend\":{\"title\":{\"text\":\"Install_category\"},\"tracegroupgap\":0},\"margin\":{\"t\":60},\"boxmode\":\"overlay\",\"width\":650,\"height\":450,\"plot_bgcolor\":\"whitesmoke\",\"title\":{\"text\":\"Apps categories based on reviews\"}},                        {\"responsive\": true}                    ).then(function(){\n",
       "                            \n",
       "var gd = document.getElementById('490a5002-dbd0-460f-9088-dbe15dae6211');\n",
       "var x = new MutationObserver(function (mutations, observer) {{\n",
       "        var display = window.getComputedStyle(gd).display;\n",
       "        if (!display || display === 'none') {{\n",
       "            console.log([gd, 'removed!']);\n",
       "            Plotly.purge(gd);\n",
       "            observer.disconnect();\n",
       "        }}\n",
       "}});\n",
       "\n",
       "// Listen for the removal of the full notebook cells\n",
       "var notebookContainer = gd.closest('#notebook-container');\n",
       "if (notebookContainer) {{\n",
       "    x.observe(notebookContainer, {childList: true});\n",
       "}}\n",
       "\n",
       "// Listen for the clearing of the current output cell\n",
       "var outputEl = gd.closest('.output');\n",
       "if (outputEl) {{\n",
       "    x.observe(outputEl, {childList: true});\n",
       "}}\n",
       "\n",
       "                        })                };                });            </script>        </div>"
      ]
     },
     "metadata": {},
     "output_type": "display_data"
    }
   ],
   "source": [
    "# Define the custom order for the Install_category\n",
    "custom_category_order = ['None ', 'Extremely Low', 'Minimal', 'Medium', \n",
    "                         'Above Medium', 'Significant', 'Exceptionally High', 'Outstanding']\n",
    "\n",
    "fig = px.box(df, x='Install_category', y=np.log10(df['Reviews']), \n",
    "             color='Install_category', category_orders={'Install_category': custom_category_order})\n",
    "fig.update_layout(\n",
    "    width=650,\n",
    "    height=450,\n",
    "    xaxis_tickangle=-90,\n",
    "    plot_bgcolor='whitesmoke',\n",
    "    title='Apps categories based on reviews'\n",
    ")\n",
    "fig.show()"
   ]
  },
  {
   "cell_type": "code",
   "execution_count": 49,
   "id": "dd950ae3",
   "metadata": {
    "execution": {
     "iopub.execute_input": "2023-11-10T06:02:48.006960Z",
     "iopub.status.busy": "2023-11-10T06:02:48.005921Z",
     "iopub.status.idle": "2023-11-10T06:02:48.094305Z",
     "shell.execute_reply": "2023-11-10T06:02:48.093009Z"
    },
    "papermill": {
     "duration": 0.129319,
     "end_time": "2023-11-10T06:02:48.097306",
     "exception": false,
     "start_time": "2023-11-10T06:02:47.967987",
     "status": "completed"
    },
    "tags": []
   },
   "outputs": [
    {
     "data": {
      "text/html": [
       "<div>                            <div id=\"44777468-3307-4e43-843e-b7b9259ace58\" class=\"plotly-graph-div\" style=\"height:500px; width:650px;\"></div>            <script type=\"text/javascript\">                require([\"plotly\"], function(Plotly) {                    window.PLOTLYENV=window.PLOTLYENV || {};                                    if (document.getElementById(\"44777468-3307-4e43-843e-b7b9259ace58\")) {                    Plotly.newPlot(                        \"44777468-3307-4e43-843e-b7b9259ace58\",                        [{\"alignmentgroup\":\"True\",\"hovertemplate\":\"Category=%{x}\\u003cbr\\u003eCount=%{y}\\u003cextra\\u003e\\u003c\\u002fextra\\u003e\",\"legendgroup\":\"\",\"marker\":{\"color\":\"red\",\"pattern\":{\"shape\":\"\"}},\"name\":\"\",\"offsetgroup\":\"\",\"orientation\":\"v\",\"showlegend\":false,\"textposition\":\"auto\",\"x\":[\"FAMILY\",\"GAME\",\"TOOLS\",\"BUSINESS\",\"MEDICAL\",\"PRODUCTIVITY\",\"PERSONALIZATION\",\"LIFESTYLE\",\"COMMUNICATION\",\"FINANCE\"],\"xaxis\":\"x\",\"y\":[1939,1121,841,427,408,407,386,373,366,360],\"yaxis\":\"y\",\"type\":\"bar\",\"width\":0.5}],                        {\"template\":{\"data\":{\"histogram2dcontour\":[{\"type\":\"histogram2dcontour\",\"colorbar\":{\"outlinewidth\":0,\"ticks\":\"\"},\"colorscale\":[[0.0,\"#0d0887\"],[0.1111111111111111,\"#46039f\"],[0.2222222222222222,\"#7201a8\"],[0.3333333333333333,\"#9c179e\"],[0.4444444444444444,\"#bd3786\"],[0.5555555555555556,\"#d8576b\"],[0.6666666666666666,\"#ed7953\"],[0.7777777777777778,\"#fb9f3a\"],[0.8888888888888888,\"#fdca26\"],[1.0,\"#f0f921\"]]}],\"choropleth\":[{\"type\":\"choropleth\",\"colorbar\":{\"outlinewidth\":0,\"ticks\":\"\"}}],\"histogram2d\":[{\"type\":\"histogram2d\",\"colorbar\":{\"outlinewidth\":0,\"ticks\":\"\"},\"colorscale\":[[0.0,\"#0d0887\"],[0.1111111111111111,\"#46039f\"],[0.2222222222222222,\"#7201a8\"],[0.3333333333333333,\"#9c179e\"],[0.4444444444444444,\"#bd3786\"],[0.5555555555555556,\"#d8576b\"],[0.6666666666666666,\"#ed7953\"],[0.7777777777777778,\"#fb9f3a\"],[0.8888888888888888,\"#fdca26\"],[1.0,\"#f0f921\"]]}],\"heatmap\":[{\"type\":\"heatmap\",\"colorbar\":{\"outlinewidth\":0,\"ticks\":\"\"},\"colorscale\":[[0.0,\"#0d0887\"],[0.1111111111111111,\"#46039f\"],[0.2222222222222222,\"#7201a8\"],[0.3333333333333333,\"#9c179e\"],[0.4444444444444444,\"#bd3786\"],[0.5555555555555556,\"#d8576b\"],[0.6666666666666666,\"#ed7953\"],[0.7777777777777778,\"#fb9f3a\"],[0.8888888888888888,\"#fdca26\"],[1.0,\"#f0f921\"]]}],\"heatmapgl\":[{\"type\":\"heatmapgl\",\"colorbar\":{\"outlinewidth\":0,\"ticks\":\"\"},\"colorscale\":[[0.0,\"#0d0887\"],[0.1111111111111111,\"#46039f\"],[0.2222222222222222,\"#7201a8\"],[0.3333333333333333,\"#9c179e\"],[0.4444444444444444,\"#bd3786\"],[0.5555555555555556,\"#d8576b\"],[0.6666666666666666,\"#ed7953\"],[0.7777777777777778,\"#fb9f3a\"],[0.8888888888888888,\"#fdca26\"],[1.0,\"#f0f921\"]]}],\"contourcarpet\":[{\"type\":\"contourcarpet\",\"colorbar\":{\"outlinewidth\":0,\"ticks\":\"\"}}],\"contour\":[{\"type\":\"contour\",\"colorbar\":{\"outlinewidth\":0,\"ticks\":\"\"},\"colorscale\":[[0.0,\"#0d0887\"],[0.1111111111111111,\"#46039f\"],[0.2222222222222222,\"#7201a8\"],[0.3333333333333333,\"#9c179e\"],[0.4444444444444444,\"#bd3786\"],[0.5555555555555556,\"#d8576b\"],[0.6666666666666666,\"#ed7953\"],[0.7777777777777778,\"#fb9f3a\"],[0.8888888888888888,\"#fdca26\"],[1.0,\"#f0f921\"]]}],\"surface\":[{\"type\":\"surface\",\"colorbar\":{\"outlinewidth\":0,\"ticks\":\"\"},\"colorscale\":[[0.0,\"#0d0887\"],[0.1111111111111111,\"#46039f\"],[0.2222222222222222,\"#7201a8\"],[0.3333333333333333,\"#9c179e\"],[0.4444444444444444,\"#bd3786\"],[0.5555555555555556,\"#d8576b\"],[0.6666666666666666,\"#ed7953\"],[0.7777777777777778,\"#fb9f3a\"],[0.8888888888888888,\"#fdca26\"],[1.0,\"#f0f921\"]]}],\"mesh3d\":[{\"type\":\"mesh3d\",\"colorbar\":{\"outlinewidth\":0,\"ticks\":\"\"}}],\"scatter\":[{\"fillpattern\":{\"fillmode\":\"overlay\",\"size\":10,\"solidity\":0.2},\"type\":\"scatter\"}],\"parcoords\":[{\"type\":\"parcoords\",\"line\":{\"colorbar\":{\"outlinewidth\":0,\"ticks\":\"\"}}}],\"scatterpolargl\":[{\"type\":\"scatterpolargl\",\"marker\":{\"colorbar\":{\"outlinewidth\":0,\"ticks\":\"\"}}}],\"bar\":[{\"error_x\":{\"color\":\"#2a3f5f\"},\"error_y\":{\"color\":\"#2a3f5f\"},\"marker\":{\"line\":{\"color\":\"#E5ECF6\",\"width\":0.5},\"pattern\":{\"fillmode\":\"overlay\",\"size\":10,\"solidity\":0.2}},\"type\":\"bar\"}],\"scattergeo\":[{\"type\":\"scattergeo\",\"marker\":{\"colorbar\":{\"outlinewidth\":0,\"ticks\":\"\"}}}],\"scatterpolar\":[{\"type\":\"scatterpolar\",\"marker\":{\"colorbar\":{\"outlinewidth\":0,\"ticks\":\"\"}}}],\"histogram\":[{\"marker\":{\"pattern\":{\"fillmode\":\"overlay\",\"size\":10,\"solidity\":0.2}},\"type\":\"histogram\"}],\"scattergl\":[{\"type\":\"scattergl\",\"marker\":{\"colorbar\":{\"outlinewidth\":0,\"ticks\":\"\"}}}],\"scatter3d\":[{\"type\":\"scatter3d\",\"line\":{\"colorbar\":{\"outlinewidth\":0,\"ticks\":\"\"}},\"marker\":{\"colorbar\":{\"outlinewidth\":0,\"ticks\":\"\"}}}],\"scattermapbox\":[{\"type\":\"scattermapbox\",\"marker\":{\"colorbar\":{\"outlinewidth\":0,\"ticks\":\"\"}}}],\"scatterternary\":[{\"type\":\"scatterternary\",\"marker\":{\"colorbar\":{\"outlinewidth\":0,\"ticks\":\"\"}}}],\"scattercarpet\":[{\"type\":\"scattercarpet\",\"marker\":{\"colorbar\":{\"outlinewidth\":0,\"ticks\":\"\"}}}],\"carpet\":[{\"aaxis\":{\"endlinecolor\":\"#2a3f5f\",\"gridcolor\":\"white\",\"linecolor\":\"white\",\"minorgridcolor\":\"white\",\"startlinecolor\":\"#2a3f5f\"},\"baxis\":{\"endlinecolor\":\"#2a3f5f\",\"gridcolor\":\"white\",\"linecolor\":\"white\",\"minorgridcolor\":\"white\",\"startlinecolor\":\"#2a3f5f\"},\"type\":\"carpet\"}],\"table\":[{\"cells\":{\"fill\":{\"color\":\"#EBF0F8\"},\"line\":{\"color\":\"white\"}},\"header\":{\"fill\":{\"color\":\"#C8D4E3\"},\"line\":{\"color\":\"white\"}},\"type\":\"table\"}],\"barpolar\":[{\"marker\":{\"line\":{\"color\":\"#E5ECF6\",\"width\":0.5},\"pattern\":{\"fillmode\":\"overlay\",\"size\":10,\"solidity\":0.2}},\"type\":\"barpolar\"}],\"pie\":[{\"automargin\":true,\"type\":\"pie\"}]},\"layout\":{\"autotypenumbers\":\"strict\",\"colorway\":[\"#636efa\",\"#EF553B\",\"#00cc96\",\"#ab63fa\",\"#FFA15A\",\"#19d3f3\",\"#FF6692\",\"#B6E880\",\"#FF97FF\",\"#FECB52\"],\"font\":{\"color\":\"#2a3f5f\"},\"hovermode\":\"closest\",\"hoverlabel\":{\"align\":\"left\"},\"paper_bgcolor\":\"white\",\"plot_bgcolor\":\"#E5ECF6\",\"polar\":{\"bgcolor\":\"#E5ECF6\",\"angularaxis\":{\"gridcolor\":\"white\",\"linecolor\":\"white\",\"ticks\":\"\"},\"radialaxis\":{\"gridcolor\":\"white\",\"linecolor\":\"white\",\"ticks\":\"\"}},\"ternary\":{\"bgcolor\":\"#E5ECF6\",\"aaxis\":{\"gridcolor\":\"white\",\"linecolor\":\"white\",\"ticks\":\"\"},\"baxis\":{\"gridcolor\":\"white\",\"linecolor\":\"white\",\"ticks\":\"\"},\"caxis\":{\"gridcolor\":\"white\",\"linecolor\":\"white\",\"ticks\":\"\"}},\"coloraxis\":{\"colorbar\":{\"outlinewidth\":0,\"ticks\":\"\"}},\"colorscale\":{\"sequential\":[[0.0,\"#0d0887\"],[0.1111111111111111,\"#46039f\"],[0.2222222222222222,\"#7201a8\"],[0.3333333333333333,\"#9c179e\"],[0.4444444444444444,\"#bd3786\"],[0.5555555555555556,\"#d8576b\"],[0.6666666666666666,\"#ed7953\"],[0.7777777777777778,\"#fb9f3a\"],[0.8888888888888888,\"#fdca26\"],[1.0,\"#f0f921\"]],\"sequentialminus\":[[0.0,\"#0d0887\"],[0.1111111111111111,\"#46039f\"],[0.2222222222222222,\"#7201a8\"],[0.3333333333333333,\"#9c179e\"],[0.4444444444444444,\"#bd3786\"],[0.5555555555555556,\"#d8576b\"],[0.6666666666666666,\"#ed7953\"],[0.7777777777777778,\"#fb9f3a\"],[0.8888888888888888,\"#fdca26\"],[1.0,\"#f0f921\"]],\"diverging\":[[0,\"#8e0152\"],[0.1,\"#c51b7d\"],[0.2,\"#de77ae\"],[0.3,\"#f1b6da\"],[0.4,\"#fde0ef\"],[0.5,\"#f7f7f7\"],[0.6,\"#e6f5d0\"],[0.7,\"#b8e186\"],[0.8,\"#7fbc41\"],[0.9,\"#4d9221\"],[1,\"#276419\"]]},\"xaxis\":{\"gridcolor\":\"white\",\"linecolor\":\"white\",\"ticks\":\"\",\"title\":{\"standoff\":15},\"zerolinecolor\":\"white\",\"automargin\":true,\"zerolinewidth\":2},\"yaxis\":{\"gridcolor\":\"white\",\"linecolor\":\"white\",\"ticks\":\"\",\"title\":{\"standoff\":15},\"zerolinecolor\":\"white\",\"automargin\":true,\"zerolinewidth\":2},\"scene\":{\"xaxis\":{\"backgroundcolor\":\"#E5ECF6\",\"gridcolor\":\"white\",\"linecolor\":\"white\",\"showbackground\":true,\"ticks\":\"\",\"zerolinecolor\":\"white\",\"gridwidth\":2},\"yaxis\":{\"backgroundcolor\":\"#E5ECF6\",\"gridcolor\":\"white\",\"linecolor\":\"white\",\"showbackground\":true,\"ticks\":\"\",\"zerolinecolor\":\"white\",\"gridwidth\":2},\"zaxis\":{\"backgroundcolor\":\"#E5ECF6\",\"gridcolor\":\"white\",\"linecolor\":\"white\",\"showbackground\":true,\"ticks\":\"\",\"zerolinecolor\":\"white\",\"gridwidth\":2}},\"shapedefaults\":{\"line\":{\"color\":\"#2a3f5f\"}},\"annotationdefaults\":{\"arrowcolor\":\"#2a3f5f\",\"arrowhead\":0,\"arrowwidth\":1},\"geo\":{\"bgcolor\":\"white\",\"landcolor\":\"#E5ECF6\",\"subunitcolor\":\"white\",\"showland\":true,\"showlakes\":true,\"lakecolor\":\"white\"},\"title\":{\"x\":0.05},\"mapbox\":{\"style\":\"light\"}}},\"xaxis\":{\"anchor\":\"y\",\"domain\":[0.0,1.0],\"title\":{\"text\":\"Category\"},\"categoryorder\":\"total descending\",\"tickangle\":-90},\"yaxis\":{\"anchor\":\"x\",\"domain\":[0.0,1.0],\"title\":{\"text\":\"Count\"}},\"legend\":{\"tracegroupgap\":0},\"title\":{\"text\":\"Top 10 Categories of the apps\"},\"barmode\":\"relative\",\"width\":650,\"height\":500,\"plot_bgcolor\":\"whitesmoke\"},                        {\"responsive\": true}                    ).then(function(){\n",
       "                            \n",
       "var gd = document.getElementById('44777468-3307-4e43-843e-b7b9259ace58');\n",
       "var x = new MutationObserver(function (mutations, observer) {{\n",
       "        var display = window.getComputedStyle(gd).display;\n",
       "        if (!display || display === 'none') {{\n",
       "            console.log([gd, 'removed!']);\n",
       "            Plotly.purge(gd);\n",
       "            observer.disconnect();\n",
       "        }}\n",
       "}});\n",
       "\n",
       "// Listen for the removal of the full notebook cells\n",
       "var notebookContainer = gd.closest('#notebook-container');\n",
       "if (notebookContainer) {{\n",
       "    x.observe(notebookContainer, {childList: true});\n",
       "}}\n",
       "\n",
       "// Listen for the clearing of the current output cell\n",
       "var outputEl = gd.closest('.output');\n",
       "if (outputEl) {{\n",
       "    x.observe(outputEl, {childList: true});\n",
       "}}\n",
       "\n",
       "                        })                };                });            </script>        </div>"
      ]
     },
     "metadata": {},
     "output_type": "display_data"
    }
   ],
   "source": [
    "Apps_Category = df['Category'].value_counts().reset_index()\n",
    "Apps_Category.columns = ['Category', 'Count']\n",
    "\n",
    "# Assuming 'Apps_Category' is the DataFrame with category counts\n",
    "top_10_categories = Apps_Category.nlargest(10, 'Count')  # Get the top 10 categories by count\n",
    "\n",
    "fig = px.bar(top_10_categories, x='Category', y='Count', \n",
    "             title=\"Top 10 Categories of the apps\", color_discrete_sequence=['red'])\n",
    "fig.update_traces(width=0.5)\n",
    "fig.update_xaxes(categoryorder='total descending')  # Sort categories by count in ascending order\n",
    "fig.update_layout(width=650, height=500,plot_bgcolor='whitesmoke',\n",
    "    xaxis_title=\"Category\", yaxis_title=\"Count\", xaxis_tickangle = -90)\n",
    "\n",
    "\n",
    "fig.show()\n"
   ]
  },
  {
   "cell_type": "code",
   "execution_count": 50,
   "id": "fa2564a0",
   "metadata": {
    "execution": {
     "iopub.execute_input": "2023-11-10T06:02:48.174166Z",
     "iopub.status.busy": "2023-11-10T06:02:48.173784Z",
     "iopub.status.idle": "2023-11-10T06:02:48.256729Z",
     "shell.execute_reply": "2023-11-10T06:02:48.255544Z"
    },
    "papermill": {
     "duration": 0.123817,
     "end_time": "2023-11-10T06:02:48.259163",
     "exception": false,
     "start_time": "2023-11-10T06:02:48.135346",
     "status": "completed"
    },
    "tags": []
   },
   "outputs": [
    {
     "data": {
      "text/html": [
       "<div>                            <div id=\"0ce32771-358b-4537-bba9-2ead5f613a45\" class=\"plotly-graph-div\" style=\"height:500px; width:800px;\"></div>            <script type=\"text/javascript\">                require([\"plotly\"], function(Plotly) {                    window.PLOTLYENV=window.PLOTLYENV || {};                                    if (document.getElementById(\"0ce32771-358b-4537-bba9-2ead5f613a45\")) {                    Plotly.newPlot(                        \"0ce32771-358b-4537-bba9-2ead5f613a45\",                        [{\"alignmentgroup\":\"True\",\"hovertemplate\":\"Category=%{x}\\u003cbr\\u003eInstalls=%{y}\\u003cextra\\u003e\\u003c\\u002fextra\\u003e\",\"legendgroup\":\"\",\"marker\":{\"color\":\"#f57842\",\"pattern\":{\"shape\":\"\"}},\"name\":\"\",\"offsetgroup\":\"\",\"orientation\":\"v\",\"showlegend\":false,\"textposition\":\"auto\",\"x\":[\"COMMUNICATION\",\"SOCIAL\",\"VIDEO_PLAYERS\",\"PRODUCTIVITY\",\"PHOTOGRAPHY\",\"GAME\",\"TRAVEL_AND_LOCAL\",\"ENTERTAINMENT\",\"NEWS_AND_MAGAZINES\",\"TOOLS\"],\"xaxis\":\"x\",\"y\":[65989825.82240437,44692385.364285715,35554301.25714286,30621846.115479115,30190210.108695652,28139183.2426405,26843405.679324895,22123063.063063063,20428855.151515152,13617445.784780024],\"yaxis\":\"y\",\"type\":\"bar\",\"width\":0.6}],                        {\"template\":{\"data\":{\"histogram2dcontour\":[{\"type\":\"histogram2dcontour\",\"colorbar\":{\"outlinewidth\":0,\"ticks\":\"\"},\"colorscale\":[[0.0,\"#0d0887\"],[0.1111111111111111,\"#46039f\"],[0.2222222222222222,\"#7201a8\"],[0.3333333333333333,\"#9c179e\"],[0.4444444444444444,\"#bd3786\"],[0.5555555555555556,\"#d8576b\"],[0.6666666666666666,\"#ed7953\"],[0.7777777777777778,\"#fb9f3a\"],[0.8888888888888888,\"#fdca26\"],[1.0,\"#f0f921\"]]}],\"choropleth\":[{\"type\":\"choropleth\",\"colorbar\":{\"outlinewidth\":0,\"ticks\":\"\"}}],\"histogram2d\":[{\"type\":\"histogram2d\",\"colorbar\":{\"outlinewidth\":0,\"ticks\":\"\"},\"colorscale\":[[0.0,\"#0d0887\"],[0.1111111111111111,\"#46039f\"],[0.2222222222222222,\"#7201a8\"],[0.3333333333333333,\"#9c179e\"],[0.4444444444444444,\"#bd3786\"],[0.5555555555555556,\"#d8576b\"],[0.6666666666666666,\"#ed7953\"],[0.7777777777777778,\"#fb9f3a\"],[0.8888888888888888,\"#fdca26\"],[1.0,\"#f0f921\"]]}],\"heatmap\":[{\"type\":\"heatmap\",\"colorbar\":{\"outlinewidth\":0,\"ticks\":\"\"},\"colorscale\":[[0.0,\"#0d0887\"],[0.1111111111111111,\"#46039f\"],[0.2222222222222222,\"#7201a8\"],[0.3333333333333333,\"#9c179e\"],[0.4444444444444444,\"#bd3786\"],[0.5555555555555556,\"#d8576b\"],[0.6666666666666666,\"#ed7953\"],[0.7777777777777778,\"#fb9f3a\"],[0.8888888888888888,\"#fdca26\"],[1.0,\"#f0f921\"]]}],\"heatmapgl\":[{\"type\":\"heatmapgl\",\"colorbar\":{\"outlinewidth\":0,\"ticks\":\"\"},\"colorscale\":[[0.0,\"#0d0887\"],[0.1111111111111111,\"#46039f\"],[0.2222222222222222,\"#7201a8\"],[0.3333333333333333,\"#9c179e\"],[0.4444444444444444,\"#bd3786\"],[0.5555555555555556,\"#d8576b\"],[0.6666666666666666,\"#ed7953\"],[0.7777777777777778,\"#fb9f3a\"],[0.8888888888888888,\"#fdca26\"],[1.0,\"#f0f921\"]]}],\"contourcarpet\":[{\"type\":\"contourcarpet\",\"colorbar\":{\"outlinewidth\":0,\"ticks\":\"\"}}],\"contour\":[{\"type\":\"contour\",\"colorbar\":{\"outlinewidth\":0,\"ticks\":\"\"},\"colorscale\":[[0.0,\"#0d0887\"],[0.1111111111111111,\"#46039f\"],[0.2222222222222222,\"#7201a8\"],[0.3333333333333333,\"#9c179e\"],[0.4444444444444444,\"#bd3786\"],[0.5555555555555556,\"#d8576b\"],[0.6666666666666666,\"#ed7953\"],[0.7777777777777778,\"#fb9f3a\"],[0.8888888888888888,\"#fdca26\"],[1.0,\"#f0f921\"]]}],\"surface\":[{\"type\":\"surface\",\"colorbar\":{\"outlinewidth\":0,\"ticks\":\"\"},\"colorscale\":[[0.0,\"#0d0887\"],[0.1111111111111111,\"#46039f\"],[0.2222222222222222,\"#7201a8\"],[0.3333333333333333,\"#9c179e\"],[0.4444444444444444,\"#bd3786\"],[0.5555555555555556,\"#d8576b\"],[0.6666666666666666,\"#ed7953\"],[0.7777777777777778,\"#fb9f3a\"],[0.8888888888888888,\"#fdca26\"],[1.0,\"#f0f921\"]]}],\"mesh3d\":[{\"type\":\"mesh3d\",\"colorbar\":{\"outlinewidth\":0,\"ticks\":\"\"}}],\"scatter\":[{\"fillpattern\":{\"fillmode\":\"overlay\",\"size\":10,\"solidity\":0.2},\"type\":\"scatter\"}],\"parcoords\":[{\"type\":\"parcoords\",\"line\":{\"colorbar\":{\"outlinewidth\":0,\"ticks\":\"\"}}}],\"scatterpolargl\":[{\"type\":\"scatterpolargl\",\"marker\":{\"colorbar\":{\"outlinewidth\":0,\"ticks\":\"\"}}}],\"bar\":[{\"error_x\":{\"color\":\"#2a3f5f\"},\"error_y\":{\"color\":\"#2a3f5f\"},\"marker\":{\"line\":{\"color\":\"#E5ECF6\",\"width\":0.5},\"pattern\":{\"fillmode\":\"overlay\",\"size\":10,\"solidity\":0.2}},\"type\":\"bar\"}],\"scattergeo\":[{\"type\":\"scattergeo\",\"marker\":{\"colorbar\":{\"outlinewidth\":0,\"ticks\":\"\"}}}],\"scatterpolar\":[{\"type\":\"scatterpolar\",\"marker\":{\"colorbar\":{\"outlinewidth\":0,\"ticks\":\"\"}}}],\"histogram\":[{\"marker\":{\"pattern\":{\"fillmode\":\"overlay\",\"size\":10,\"solidity\":0.2}},\"type\":\"histogram\"}],\"scattergl\":[{\"type\":\"scattergl\",\"marker\":{\"colorbar\":{\"outlinewidth\":0,\"ticks\":\"\"}}}],\"scatter3d\":[{\"type\":\"scatter3d\",\"line\":{\"colorbar\":{\"outlinewidth\":0,\"ticks\":\"\"}},\"marker\":{\"colorbar\":{\"outlinewidth\":0,\"ticks\":\"\"}}}],\"scattermapbox\":[{\"type\":\"scattermapbox\",\"marker\":{\"colorbar\":{\"outlinewidth\":0,\"ticks\":\"\"}}}],\"scatterternary\":[{\"type\":\"scatterternary\",\"marker\":{\"colorbar\":{\"outlinewidth\":0,\"ticks\":\"\"}}}],\"scattercarpet\":[{\"type\":\"scattercarpet\",\"marker\":{\"colorbar\":{\"outlinewidth\":0,\"ticks\":\"\"}}}],\"carpet\":[{\"aaxis\":{\"endlinecolor\":\"#2a3f5f\",\"gridcolor\":\"white\",\"linecolor\":\"white\",\"minorgridcolor\":\"white\",\"startlinecolor\":\"#2a3f5f\"},\"baxis\":{\"endlinecolor\":\"#2a3f5f\",\"gridcolor\":\"white\",\"linecolor\":\"white\",\"minorgridcolor\":\"white\",\"startlinecolor\":\"#2a3f5f\"},\"type\":\"carpet\"}],\"table\":[{\"cells\":{\"fill\":{\"color\":\"#EBF0F8\"},\"line\":{\"color\":\"white\"}},\"header\":{\"fill\":{\"color\":\"#C8D4E3\"},\"line\":{\"color\":\"white\"}},\"type\":\"table\"}],\"barpolar\":[{\"marker\":{\"line\":{\"color\":\"#E5ECF6\",\"width\":0.5},\"pattern\":{\"fillmode\":\"overlay\",\"size\":10,\"solidity\":0.2}},\"type\":\"barpolar\"}],\"pie\":[{\"automargin\":true,\"type\":\"pie\"}]},\"layout\":{\"autotypenumbers\":\"strict\",\"colorway\":[\"#636efa\",\"#EF553B\",\"#00cc96\",\"#ab63fa\",\"#FFA15A\",\"#19d3f3\",\"#FF6692\",\"#B6E880\",\"#FF97FF\",\"#FECB52\"],\"font\":{\"color\":\"#2a3f5f\"},\"hovermode\":\"closest\",\"hoverlabel\":{\"align\":\"left\"},\"paper_bgcolor\":\"white\",\"plot_bgcolor\":\"#E5ECF6\",\"polar\":{\"bgcolor\":\"#E5ECF6\",\"angularaxis\":{\"gridcolor\":\"white\",\"linecolor\":\"white\",\"ticks\":\"\"},\"radialaxis\":{\"gridcolor\":\"white\",\"linecolor\":\"white\",\"ticks\":\"\"}},\"ternary\":{\"bgcolor\":\"#E5ECF6\",\"aaxis\":{\"gridcolor\":\"white\",\"linecolor\":\"white\",\"ticks\":\"\"},\"baxis\":{\"gridcolor\":\"white\",\"linecolor\":\"white\",\"ticks\":\"\"},\"caxis\":{\"gridcolor\":\"white\",\"linecolor\":\"white\",\"ticks\":\"\"}},\"coloraxis\":{\"colorbar\":{\"outlinewidth\":0,\"ticks\":\"\"}},\"colorscale\":{\"sequential\":[[0.0,\"#0d0887\"],[0.1111111111111111,\"#46039f\"],[0.2222222222222222,\"#7201a8\"],[0.3333333333333333,\"#9c179e\"],[0.4444444444444444,\"#bd3786\"],[0.5555555555555556,\"#d8576b\"],[0.6666666666666666,\"#ed7953\"],[0.7777777777777778,\"#fb9f3a\"],[0.8888888888888888,\"#fdca26\"],[1.0,\"#f0f921\"]],\"sequentialminus\":[[0.0,\"#0d0887\"],[0.1111111111111111,\"#46039f\"],[0.2222222222222222,\"#7201a8\"],[0.3333333333333333,\"#9c179e\"],[0.4444444444444444,\"#bd3786\"],[0.5555555555555556,\"#d8576b\"],[0.6666666666666666,\"#ed7953\"],[0.7777777777777778,\"#fb9f3a\"],[0.8888888888888888,\"#fdca26\"],[1.0,\"#f0f921\"]],\"diverging\":[[0,\"#8e0152\"],[0.1,\"#c51b7d\"],[0.2,\"#de77ae\"],[0.3,\"#f1b6da\"],[0.4,\"#fde0ef\"],[0.5,\"#f7f7f7\"],[0.6,\"#e6f5d0\"],[0.7,\"#b8e186\"],[0.8,\"#7fbc41\"],[0.9,\"#4d9221\"],[1,\"#276419\"]]},\"xaxis\":{\"gridcolor\":\"white\",\"linecolor\":\"white\",\"ticks\":\"\",\"title\":{\"standoff\":15},\"zerolinecolor\":\"white\",\"automargin\":true,\"zerolinewidth\":2},\"yaxis\":{\"gridcolor\":\"white\",\"linecolor\":\"white\",\"ticks\":\"\",\"title\":{\"standoff\":15},\"zerolinecolor\":\"white\",\"automargin\":true,\"zerolinewidth\":2},\"scene\":{\"xaxis\":{\"backgroundcolor\":\"#E5ECF6\",\"gridcolor\":\"white\",\"linecolor\":\"white\",\"showbackground\":true,\"ticks\":\"\",\"zerolinecolor\":\"white\",\"gridwidth\":2},\"yaxis\":{\"backgroundcolor\":\"#E5ECF6\",\"gridcolor\":\"white\",\"linecolor\":\"white\",\"showbackground\":true,\"ticks\":\"\",\"zerolinecolor\":\"white\",\"gridwidth\":2},\"zaxis\":{\"backgroundcolor\":\"#E5ECF6\",\"gridcolor\":\"white\",\"linecolor\":\"white\",\"showbackground\":true,\"ticks\":\"\",\"zerolinecolor\":\"white\",\"gridwidth\":2}},\"shapedefaults\":{\"line\":{\"color\":\"#2a3f5f\"}},\"annotationdefaults\":{\"arrowcolor\":\"#2a3f5f\",\"arrowhead\":0,\"arrowwidth\":1},\"geo\":{\"bgcolor\":\"white\",\"landcolor\":\"#E5ECF6\",\"subunitcolor\":\"white\",\"showland\":true,\"showlakes\":true,\"lakecolor\":\"white\"},\"title\":{\"x\":0.05},\"mapbox\":{\"style\":\"light\"}}},\"xaxis\":{\"anchor\":\"y\",\"domain\":[0.0,1.0],\"title\":{\"text\":\"Category\"},\"tickangle\":-90,\"categoryorder\":\"total descending\"},\"yaxis\":{\"anchor\":\"x\",\"domain\":[0.0,1.0],\"title\":{\"text\":\"Installs\"}},\"legend\":{\"tracegroupgap\":0},\"title\":{\"text\":\"Top 10 Categories by highest number of Installs (Mean Value)\"},\"barmode\":\"relative\",\"width\":800,\"height\":500,\"plot_bgcolor\":\"whitesmoke\"},                        {\"responsive\": true}                    ).then(function(){\n",
       "                            \n",
       "var gd = document.getElementById('0ce32771-358b-4537-bba9-2ead5f613a45');\n",
       "var x = new MutationObserver(function (mutations, observer) {{\n",
       "        var display = window.getComputedStyle(gd).display;\n",
       "        if (!display || display === 'none') {{\n",
       "            console.log([gd, 'removed!']);\n",
       "            Plotly.purge(gd);\n",
       "            observer.disconnect();\n",
       "        }}\n",
       "}});\n",
       "\n",
       "// Listen for the removal of the full notebook cells\n",
       "var notebookContainer = gd.closest('#notebook-container');\n",
       "if (notebookContainer) {{\n",
       "    x.observe(notebookContainer, {childList: true});\n",
       "}}\n",
       "\n",
       "// Listen for the clearing of the current output cell\n",
       "var outputEl = gd.closest('.output');\n",
       "if (outputEl) {{\n",
       "    x.observe(outputEl, {childList: true});\n",
       "}}\n",
       "\n",
       "                        })                };                });            </script>        </div>"
      ]
     },
     "metadata": {},
     "output_type": "display_data"
    }
   ],
   "source": [
    "# Calculate the area square of each district and select the top 10\n",
    "cat_install = df.groupby('Category')['Installs'].mean().reset_index().nlargest(10, 'Installs')\n",
    "\n",
    "fig = px.bar(cat_install, x='Category', y='Installs',\n",
    "             title='Top 10 Categories by highest number of Installs (Mean Value)',\n",
    "             color_discrete_sequence=['#f57842'])\n",
    "fig.update_traces(width=0.6)\n",
    "fig.update_layout(width=800, height=500,plot_bgcolor='whitesmoke')\n",
    "# x axis ticks in the 90 degree angle\n",
    "fig.update_layout(xaxis_tickangle=-90)\n",
    "\n",
    "fig.update_xaxes(categoryorder='total descending')  # Optional: Sort the x-axis categories\n",
    "fig.show()"
   ]
  },
  {
   "cell_type": "code",
   "execution_count": 51,
   "id": "499f7737",
   "metadata": {
    "execution": {
     "iopub.execute_input": "2023-11-10T06:02:48.346035Z",
     "iopub.status.busy": "2023-11-10T06:02:48.344961Z",
     "iopub.status.idle": "2023-11-10T06:02:48.445287Z",
     "shell.execute_reply": "2023-11-10T06:02:48.444166Z"
    },
    "papermill": {
     "duration": 0.150445,
     "end_time": "2023-11-10T06:02:48.447891",
     "exception": false,
     "start_time": "2023-11-10T06:02:48.297446",
     "status": "completed"
    },
    "tags": []
   },
   "outputs": [
    {
     "data": {
      "text/html": [
       "<div>                            <div id=\"fc2b464c-9045-4ba5-8b36-af243b3af4e4\" class=\"plotly-graph-div\" style=\"height:500px; width:800px;\"></div>            <script type=\"text/javascript\">                require([\"plotly\"], function(Plotly) {                    window.PLOTLYENV=window.PLOTLYENV || {};                                    if (document.getElementById(\"fc2b464c-9045-4ba5-8b36-af243b3af4e4\")) {                    Plotly.newPlot(                        \"fc2b464c-9045-4ba5-8b36-af243b3af4e4\",                        [{\"alignmentgroup\":\"True\",\"hovertemplate\":\"Category=%{x}\\u003cbr\\u003eReviews=%{y}\\u003cextra\\u003e\\u003c\\u002fextra\\u003e\",\"legendgroup\":\"\",\"marker\":{\"color\":\"#f57842\",\"pattern\":{\"shape\":\"\"}},\"name\":\"\",\"offsetgroup\":\"\",\"orientation\":\"v\",\"showlegend\":false,\"textposition\":\"auto\",\"x\":[\"SOCIAL\",\"COMMUNICATION\",\"GAME\",\"PHOTOGRAPHY\",\"VIDEO_PLAYERS\",\"ENTERTAINMENT\",\"SHOPPING\",\"TOOLS\",\"PRODUCTIVITY\",\"TRAVEL_AND_LOCAL\"],\"xaxis\":\"x\",\"y\":[1905631.532142857,1642823.912568306,1262744.5584299732,634464.0062111801,630743.9314285715,428565.009009009,423799.83035714284,324828.81450653984,251976.65356265358,234452.15189873418],\"yaxis\":\"y\",\"type\":\"bar\",\"width\":0.6}],                        {\"template\":{\"data\":{\"histogram2dcontour\":[{\"type\":\"histogram2dcontour\",\"colorbar\":{\"outlinewidth\":0,\"ticks\":\"\"},\"colorscale\":[[0.0,\"#0d0887\"],[0.1111111111111111,\"#46039f\"],[0.2222222222222222,\"#7201a8\"],[0.3333333333333333,\"#9c179e\"],[0.4444444444444444,\"#bd3786\"],[0.5555555555555556,\"#d8576b\"],[0.6666666666666666,\"#ed7953\"],[0.7777777777777778,\"#fb9f3a\"],[0.8888888888888888,\"#fdca26\"],[1.0,\"#f0f921\"]]}],\"choropleth\":[{\"type\":\"choropleth\",\"colorbar\":{\"outlinewidth\":0,\"ticks\":\"\"}}],\"histogram2d\":[{\"type\":\"histogram2d\",\"colorbar\":{\"outlinewidth\":0,\"ticks\":\"\"},\"colorscale\":[[0.0,\"#0d0887\"],[0.1111111111111111,\"#46039f\"],[0.2222222222222222,\"#7201a8\"],[0.3333333333333333,\"#9c179e\"],[0.4444444444444444,\"#bd3786\"],[0.5555555555555556,\"#d8576b\"],[0.6666666666666666,\"#ed7953\"],[0.7777777777777778,\"#fb9f3a\"],[0.8888888888888888,\"#fdca26\"],[1.0,\"#f0f921\"]]}],\"heatmap\":[{\"type\":\"heatmap\",\"colorbar\":{\"outlinewidth\":0,\"ticks\":\"\"},\"colorscale\":[[0.0,\"#0d0887\"],[0.1111111111111111,\"#46039f\"],[0.2222222222222222,\"#7201a8\"],[0.3333333333333333,\"#9c179e\"],[0.4444444444444444,\"#bd3786\"],[0.5555555555555556,\"#d8576b\"],[0.6666666666666666,\"#ed7953\"],[0.7777777777777778,\"#fb9f3a\"],[0.8888888888888888,\"#fdca26\"],[1.0,\"#f0f921\"]]}],\"heatmapgl\":[{\"type\":\"heatmapgl\",\"colorbar\":{\"outlinewidth\":0,\"ticks\":\"\"},\"colorscale\":[[0.0,\"#0d0887\"],[0.1111111111111111,\"#46039f\"],[0.2222222222222222,\"#7201a8\"],[0.3333333333333333,\"#9c179e\"],[0.4444444444444444,\"#bd3786\"],[0.5555555555555556,\"#d8576b\"],[0.6666666666666666,\"#ed7953\"],[0.7777777777777778,\"#fb9f3a\"],[0.8888888888888888,\"#fdca26\"],[1.0,\"#f0f921\"]]}],\"contourcarpet\":[{\"type\":\"contourcarpet\",\"colorbar\":{\"outlinewidth\":0,\"ticks\":\"\"}}],\"contour\":[{\"type\":\"contour\",\"colorbar\":{\"outlinewidth\":0,\"ticks\":\"\"},\"colorscale\":[[0.0,\"#0d0887\"],[0.1111111111111111,\"#46039f\"],[0.2222222222222222,\"#7201a8\"],[0.3333333333333333,\"#9c179e\"],[0.4444444444444444,\"#bd3786\"],[0.5555555555555556,\"#d8576b\"],[0.6666666666666666,\"#ed7953\"],[0.7777777777777778,\"#fb9f3a\"],[0.8888888888888888,\"#fdca26\"],[1.0,\"#f0f921\"]]}],\"surface\":[{\"type\":\"surface\",\"colorbar\":{\"outlinewidth\":0,\"ticks\":\"\"},\"colorscale\":[[0.0,\"#0d0887\"],[0.1111111111111111,\"#46039f\"],[0.2222222222222222,\"#7201a8\"],[0.3333333333333333,\"#9c179e\"],[0.4444444444444444,\"#bd3786\"],[0.5555555555555556,\"#d8576b\"],[0.6666666666666666,\"#ed7953\"],[0.7777777777777778,\"#fb9f3a\"],[0.8888888888888888,\"#fdca26\"],[1.0,\"#f0f921\"]]}],\"mesh3d\":[{\"type\":\"mesh3d\",\"colorbar\":{\"outlinewidth\":0,\"ticks\":\"\"}}],\"scatter\":[{\"fillpattern\":{\"fillmode\":\"overlay\",\"size\":10,\"solidity\":0.2},\"type\":\"scatter\"}],\"parcoords\":[{\"type\":\"parcoords\",\"line\":{\"colorbar\":{\"outlinewidth\":0,\"ticks\":\"\"}}}],\"scatterpolargl\":[{\"type\":\"scatterpolargl\",\"marker\":{\"colorbar\":{\"outlinewidth\":0,\"ticks\":\"\"}}}],\"bar\":[{\"error_x\":{\"color\":\"#2a3f5f\"},\"error_y\":{\"color\":\"#2a3f5f\"},\"marker\":{\"line\":{\"color\":\"#E5ECF6\",\"width\":0.5},\"pattern\":{\"fillmode\":\"overlay\",\"size\":10,\"solidity\":0.2}},\"type\":\"bar\"}],\"scattergeo\":[{\"type\":\"scattergeo\",\"marker\":{\"colorbar\":{\"outlinewidth\":0,\"ticks\":\"\"}}}],\"scatterpolar\":[{\"type\":\"scatterpolar\",\"marker\":{\"colorbar\":{\"outlinewidth\":0,\"ticks\":\"\"}}}],\"histogram\":[{\"marker\":{\"pattern\":{\"fillmode\":\"overlay\",\"size\":10,\"solidity\":0.2}},\"type\":\"histogram\"}],\"scattergl\":[{\"type\":\"scattergl\",\"marker\":{\"colorbar\":{\"outlinewidth\":0,\"ticks\":\"\"}}}],\"scatter3d\":[{\"type\":\"scatter3d\",\"line\":{\"colorbar\":{\"outlinewidth\":0,\"ticks\":\"\"}},\"marker\":{\"colorbar\":{\"outlinewidth\":0,\"ticks\":\"\"}}}],\"scattermapbox\":[{\"type\":\"scattermapbox\",\"marker\":{\"colorbar\":{\"outlinewidth\":0,\"ticks\":\"\"}}}],\"scatterternary\":[{\"type\":\"scatterternary\",\"marker\":{\"colorbar\":{\"outlinewidth\":0,\"ticks\":\"\"}}}],\"scattercarpet\":[{\"type\":\"scattercarpet\",\"marker\":{\"colorbar\":{\"outlinewidth\":0,\"ticks\":\"\"}}}],\"carpet\":[{\"aaxis\":{\"endlinecolor\":\"#2a3f5f\",\"gridcolor\":\"white\",\"linecolor\":\"white\",\"minorgridcolor\":\"white\",\"startlinecolor\":\"#2a3f5f\"},\"baxis\":{\"endlinecolor\":\"#2a3f5f\",\"gridcolor\":\"white\",\"linecolor\":\"white\",\"minorgridcolor\":\"white\",\"startlinecolor\":\"#2a3f5f\"},\"type\":\"carpet\"}],\"table\":[{\"cells\":{\"fill\":{\"color\":\"#EBF0F8\"},\"line\":{\"color\":\"white\"}},\"header\":{\"fill\":{\"color\":\"#C8D4E3\"},\"line\":{\"color\":\"white\"}},\"type\":\"table\"}],\"barpolar\":[{\"marker\":{\"line\":{\"color\":\"#E5ECF6\",\"width\":0.5},\"pattern\":{\"fillmode\":\"overlay\",\"size\":10,\"solidity\":0.2}},\"type\":\"barpolar\"}],\"pie\":[{\"automargin\":true,\"type\":\"pie\"}]},\"layout\":{\"autotypenumbers\":\"strict\",\"colorway\":[\"#636efa\",\"#EF553B\",\"#00cc96\",\"#ab63fa\",\"#FFA15A\",\"#19d3f3\",\"#FF6692\",\"#B6E880\",\"#FF97FF\",\"#FECB52\"],\"font\":{\"color\":\"#2a3f5f\"},\"hovermode\":\"closest\",\"hoverlabel\":{\"align\":\"left\"},\"paper_bgcolor\":\"white\",\"plot_bgcolor\":\"#E5ECF6\",\"polar\":{\"bgcolor\":\"#E5ECF6\",\"angularaxis\":{\"gridcolor\":\"white\",\"linecolor\":\"white\",\"ticks\":\"\"},\"radialaxis\":{\"gridcolor\":\"white\",\"linecolor\":\"white\",\"ticks\":\"\"}},\"ternary\":{\"bgcolor\":\"#E5ECF6\",\"aaxis\":{\"gridcolor\":\"white\",\"linecolor\":\"white\",\"ticks\":\"\"},\"baxis\":{\"gridcolor\":\"white\",\"linecolor\":\"white\",\"ticks\":\"\"},\"caxis\":{\"gridcolor\":\"white\",\"linecolor\":\"white\",\"ticks\":\"\"}},\"coloraxis\":{\"colorbar\":{\"outlinewidth\":0,\"ticks\":\"\"}},\"colorscale\":{\"sequential\":[[0.0,\"#0d0887\"],[0.1111111111111111,\"#46039f\"],[0.2222222222222222,\"#7201a8\"],[0.3333333333333333,\"#9c179e\"],[0.4444444444444444,\"#bd3786\"],[0.5555555555555556,\"#d8576b\"],[0.6666666666666666,\"#ed7953\"],[0.7777777777777778,\"#fb9f3a\"],[0.8888888888888888,\"#fdca26\"],[1.0,\"#f0f921\"]],\"sequentialminus\":[[0.0,\"#0d0887\"],[0.1111111111111111,\"#46039f\"],[0.2222222222222222,\"#7201a8\"],[0.3333333333333333,\"#9c179e\"],[0.4444444444444444,\"#bd3786\"],[0.5555555555555556,\"#d8576b\"],[0.6666666666666666,\"#ed7953\"],[0.7777777777777778,\"#fb9f3a\"],[0.8888888888888888,\"#fdca26\"],[1.0,\"#f0f921\"]],\"diverging\":[[0,\"#8e0152\"],[0.1,\"#c51b7d\"],[0.2,\"#de77ae\"],[0.3,\"#f1b6da\"],[0.4,\"#fde0ef\"],[0.5,\"#f7f7f7\"],[0.6,\"#e6f5d0\"],[0.7,\"#b8e186\"],[0.8,\"#7fbc41\"],[0.9,\"#4d9221\"],[1,\"#276419\"]]},\"xaxis\":{\"gridcolor\":\"white\",\"linecolor\":\"white\",\"ticks\":\"\",\"title\":{\"standoff\":15},\"zerolinecolor\":\"white\",\"automargin\":true,\"zerolinewidth\":2},\"yaxis\":{\"gridcolor\":\"white\",\"linecolor\":\"white\",\"ticks\":\"\",\"title\":{\"standoff\":15},\"zerolinecolor\":\"white\",\"automargin\":true,\"zerolinewidth\":2},\"scene\":{\"xaxis\":{\"backgroundcolor\":\"#E5ECF6\",\"gridcolor\":\"white\",\"linecolor\":\"white\",\"showbackground\":true,\"ticks\":\"\",\"zerolinecolor\":\"white\",\"gridwidth\":2},\"yaxis\":{\"backgroundcolor\":\"#E5ECF6\",\"gridcolor\":\"white\",\"linecolor\":\"white\",\"showbackground\":true,\"ticks\":\"\",\"zerolinecolor\":\"white\",\"gridwidth\":2},\"zaxis\":{\"backgroundcolor\":\"#E5ECF6\",\"gridcolor\":\"white\",\"linecolor\":\"white\",\"showbackground\":true,\"ticks\":\"\",\"zerolinecolor\":\"white\",\"gridwidth\":2}},\"shapedefaults\":{\"line\":{\"color\":\"#2a3f5f\"}},\"annotationdefaults\":{\"arrowcolor\":\"#2a3f5f\",\"arrowhead\":0,\"arrowwidth\":1},\"geo\":{\"bgcolor\":\"white\",\"landcolor\":\"#E5ECF6\",\"subunitcolor\":\"white\",\"showland\":true,\"showlakes\":true,\"lakecolor\":\"white\"},\"title\":{\"x\":0.05},\"mapbox\":{\"style\":\"light\"}}},\"xaxis\":{\"anchor\":\"y\",\"domain\":[0.0,1.0],\"title\":{\"text\":\"Category\"},\"tickangle\":-90,\"categoryorder\":\"total descending\"},\"yaxis\":{\"anchor\":\"x\",\"domain\":[0.0,1.0],\"title\":{\"text\":\"Reviews\"}},\"legend\":{\"tracegroupgap\":0},\"title\":{\"text\":\"Top 10 Categories by highest number of Reviews (Mean value)\"},\"barmode\":\"relative\",\"width\":800,\"height\":500,\"plot_bgcolor\":\"whitesmoke\"},                        {\"responsive\": true}                    ).then(function(){\n",
       "                            \n",
       "var gd = document.getElementById('fc2b464c-9045-4ba5-8b36-af243b3af4e4');\n",
       "var x = new MutationObserver(function (mutations, observer) {{\n",
       "        var display = window.getComputedStyle(gd).display;\n",
       "        if (!display || display === 'none') {{\n",
       "            console.log([gd, 'removed!']);\n",
       "            Plotly.purge(gd);\n",
       "            observer.disconnect();\n",
       "        }}\n",
       "}});\n",
       "\n",
       "// Listen for the removal of the full notebook cells\n",
       "var notebookContainer = gd.closest('#notebook-container');\n",
       "if (notebookContainer) {{\n",
       "    x.observe(notebookContainer, {childList: true});\n",
       "}}\n",
       "\n",
       "// Listen for the clearing of the current output cell\n",
       "var outputEl = gd.closest('.output');\n",
       "if (outputEl) {{\n",
       "    x.observe(outputEl, {childList: true});\n",
       "}}\n",
       "\n",
       "                        })                };                });            </script>        </div>"
      ]
     },
     "metadata": {},
     "output_type": "display_data"
    }
   ],
   "source": [
    "# Calculate the area square of each district and select the top 10\n",
    "cat_install = df.groupby('Category')['Reviews'].mean().reset_index().nlargest(10, 'Reviews')\n",
    "\n",
    "fig = px.bar(cat_install, x='Category', y='Reviews',\n",
    "             title='Top 10 Categories by highest number of Reviews (Mean value)',\n",
    "             color_discrete_sequence=['#f57842'])\n",
    "fig.update_traces(width=0.6)\n",
    "fig.update_layout(width=800, height=500,plot_bgcolor='whitesmoke')\n",
    "# x axis ticks in the 90 degree angle\n",
    "fig.update_layout(xaxis_tickangle=-90)\n",
    "\n",
    "fig.update_xaxes(categoryorder='total descending')  # Optional: Sort the x-axis categories\n",
    "fig.show()"
   ]
  },
  {
   "cell_type": "code",
   "execution_count": 52,
   "id": "e962a0a8",
   "metadata": {
    "execution": {
     "iopub.execute_input": "2023-11-10T06:02:48.525882Z",
     "iopub.status.busy": "2023-11-10T06:02:48.525489Z",
     "iopub.status.idle": "2023-11-10T06:02:48.619598Z",
     "shell.execute_reply": "2023-11-10T06:02:48.618276Z"
    },
    "papermill": {
     "duration": 0.136635,
     "end_time": "2023-11-10T06:02:48.622976",
     "exception": false,
     "start_time": "2023-11-10T06:02:48.486341",
     "status": "completed"
    },
    "tags": []
   },
   "outputs": [
    {
     "data": {
      "text/html": [
       "<div>                            <div id=\"8afbd9e0-0f20-4086-82ba-ea0b99f8838b\" class=\"plotly-graph-div\" style=\"height:500px; width:800px;\"></div>            <script type=\"text/javascript\">                require([\"plotly\"], function(Plotly) {                    window.PLOTLYENV=window.PLOTLYENV || {};                                    if (document.getElementById(\"8afbd9e0-0f20-4086-82ba-ea0b99f8838b\")) {                    Plotly.newPlot(                        \"8afbd9e0-0f20-4086-82ba-ea0b99f8838b\",                        [{\"alignmentgroup\":\"True\",\"hovertemplate\":\"Category=%{x}\\u003cbr\\u003eRating=%{y}\\u003cextra\\u003e\\u003c\\u002fextra\\u003e\",\"legendgroup\":\"\",\"marker\":{\"color\":\"#f57842\",\"pattern\":{\"shape\":\"\"}},\"name\":\"\",\"offsetgroup\":\"\",\"orientation\":\"v\",\"showlegend\":false,\"textposition\":\"auto\",\"x\":[\"EVENTS\",\"EDUCATION\",\"BOOKS_AND_REFERENCE\",\"PERSONALIZATION\",\"ART_AND_DESIGN\",\"GAME\",\"HEALTH_AND_FITNESS\",\"PARENTING\",\"SHOPPING\",\"SPORTS\"],\"xaxis\":\"x\",\"y\":[4.394010559848363,4.373805023747735,4.3583224851493325,4.3219625340793435,4.298843825329767,4.281901929131393,4.273797441895761,4.259445379203657,4.253290957005732,4.252903319087556],\"yaxis\":\"y\",\"type\":\"bar\",\"width\":0.6}],                        {\"template\":{\"data\":{\"histogram2dcontour\":[{\"type\":\"histogram2dcontour\",\"colorbar\":{\"outlinewidth\":0,\"ticks\":\"\"},\"colorscale\":[[0.0,\"#0d0887\"],[0.1111111111111111,\"#46039f\"],[0.2222222222222222,\"#7201a8\"],[0.3333333333333333,\"#9c179e\"],[0.4444444444444444,\"#bd3786\"],[0.5555555555555556,\"#d8576b\"],[0.6666666666666666,\"#ed7953\"],[0.7777777777777778,\"#fb9f3a\"],[0.8888888888888888,\"#fdca26\"],[1.0,\"#f0f921\"]]}],\"choropleth\":[{\"type\":\"choropleth\",\"colorbar\":{\"outlinewidth\":0,\"ticks\":\"\"}}],\"histogram2d\":[{\"type\":\"histogram2d\",\"colorbar\":{\"outlinewidth\":0,\"ticks\":\"\"},\"colorscale\":[[0.0,\"#0d0887\"],[0.1111111111111111,\"#46039f\"],[0.2222222222222222,\"#7201a8\"],[0.3333333333333333,\"#9c179e\"],[0.4444444444444444,\"#bd3786\"],[0.5555555555555556,\"#d8576b\"],[0.6666666666666666,\"#ed7953\"],[0.7777777777777778,\"#fb9f3a\"],[0.8888888888888888,\"#fdca26\"],[1.0,\"#f0f921\"]]}],\"heatmap\":[{\"type\":\"heatmap\",\"colorbar\":{\"outlinewidth\":0,\"ticks\":\"\"},\"colorscale\":[[0.0,\"#0d0887\"],[0.1111111111111111,\"#46039f\"],[0.2222222222222222,\"#7201a8\"],[0.3333333333333333,\"#9c179e\"],[0.4444444444444444,\"#bd3786\"],[0.5555555555555556,\"#d8576b\"],[0.6666666666666666,\"#ed7953\"],[0.7777777777777778,\"#fb9f3a\"],[0.8888888888888888,\"#fdca26\"],[1.0,\"#f0f921\"]]}],\"heatmapgl\":[{\"type\":\"heatmapgl\",\"colorbar\":{\"outlinewidth\":0,\"ticks\":\"\"},\"colorscale\":[[0.0,\"#0d0887\"],[0.1111111111111111,\"#46039f\"],[0.2222222222222222,\"#7201a8\"],[0.3333333333333333,\"#9c179e\"],[0.4444444444444444,\"#bd3786\"],[0.5555555555555556,\"#d8576b\"],[0.6666666666666666,\"#ed7953\"],[0.7777777777777778,\"#fb9f3a\"],[0.8888888888888888,\"#fdca26\"],[1.0,\"#f0f921\"]]}],\"contourcarpet\":[{\"type\":\"contourcarpet\",\"colorbar\":{\"outlinewidth\":0,\"ticks\":\"\"}}],\"contour\":[{\"type\":\"contour\",\"colorbar\":{\"outlinewidth\":0,\"ticks\":\"\"},\"colorscale\":[[0.0,\"#0d0887\"],[0.1111111111111111,\"#46039f\"],[0.2222222222222222,\"#7201a8\"],[0.3333333333333333,\"#9c179e\"],[0.4444444444444444,\"#bd3786\"],[0.5555555555555556,\"#d8576b\"],[0.6666666666666666,\"#ed7953\"],[0.7777777777777778,\"#fb9f3a\"],[0.8888888888888888,\"#fdca26\"],[1.0,\"#f0f921\"]]}],\"surface\":[{\"type\":\"surface\",\"colorbar\":{\"outlinewidth\":0,\"ticks\":\"\"},\"colorscale\":[[0.0,\"#0d0887\"],[0.1111111111111111,\"#46039f\"],[0.2222222222222222,\"#7201a8\"],[0.3333333333333333,\"#9c179e\"],[0.4444444444444444,\"#bd3786\"],[0.5555555555555556,\"#d8576b\"],[0.6666666666666666,\"#ed7953\"],[0.7777777777777778,\"#fb9f3a\"],[0.8888888888888888,\"#fdca26\"],[1.0,\"#f0f921\"]]}],\"mesh3d\":[{\"type\":\"mesh3d\",\"colorbar\":{\"outlinewidth\":0,\"ticks\":\"\"}}],\"scatter\":[{\"fillpattern\":{\"fillmode\":\"overlay\",\"size\":10,\"solidity\":0.2},\"type\":\"scatter\"}],\"parcoords\":[{\"type\":\"parcoords\",\"line\":{\"colorbar\":{\"outlinewidth\":0,\"ticks\":\"\"}}}],\"scatterpolargl\":[{\"type\":\"scatterpolargl\",\"marker\":{\"colorbar\":{\"outlinewidth\":0,\"ticks\":\"\"}}}],\"bar\":[{\"error_x\":{\"color\":\"#2a3f5f\"},\"error_y\":{\"color\":\"#2a3f5f\"},\"marker\":{\"line\":{\"color\":\"#E5ECF6\",\"width\":0.5},\"pattern\":{\"fillmode\":\"overlay\",\"size\":10,\"solidity\":0.2}},\"type\":\"bar\"}],\"scattergeo\":[{\"type\":\"scattergeo\",\"marker\":{\"colorbar\":{\"outlinewidth\":0,\"ticks\":\"\"}}}],\"scatterpolar\":[{\"type\":\"scatterpolar\",\"marker\":{\"colorbar\":{\"outlinewidth\":0,\"ticks\":\"\"}}}],\"histogram\":[{\"marker\":{\"pattern\":{\"fillmode\":\"overlay\",\"size\":10,\"solidity\":0.2}},\"type\":\"histogram\"}],\"scattergl\":[{\"type\":\"scattergl\",\"marker\":{\"colorbar\":{\"outlinewidth\":0,\"ticks\":\"\"}}}],\"scatter3d\":[{\"type\":\"scatter3d\",\"line\":{\"colorbar\":{\"outlinewidth\":0,\"ticks\":\"\"}},\"marker\":{\"colorbar\":{\"outlinewidth\":0,\"ticks\":\"\"}}}],\"scattermapbox\":[{\"type\":\"scattermapbox\",\"marker\":{\"colorbar\":{\"outlinewidth\":0,\"ticks\":\"\"}}}],\"scatterternary\":[{\"type\":\"scatterternary\",\"marker\":{\"colorbar\":{\"outlinewidth\":0,\"ticks\":\"\"}}}],\"scattercarpet\":[{\"type\":\"scattercarpet\",\"marker\":{\"colorbar\":{\"outlinewidth\":0,\"ticks\":\"\"}}}],\"carpet\":[{\"aaxis\":{\"endlinecolor\":\"#2a3f5f\",\"gridcolor\":\"white\",\"linecolor\":\"white\",\"minorgridcolor\":\"white\",\"startlinecolor\":\"#2a3f5f\"},\"baxis\":{\"endlinecolor\":\"#2a3f5f\",\"gridcolor\":\"white\",\"linecolor\":\"white\",\"minorgridcolor\":\"white\",\"startlinecolor\":\"#2a3f5f\"},\"type\":\"carpet\"}],\"table\":[{\"cells\":{\"fill\":{\"color\":\"#EBF0F8\"},\"line\":{\"color\":\"white\"}},\"header\":{\"fill\":{\"color\":\"#C8D4E3\"},\"line\":{\"color\":\"white\"}},\"type\":\"table\"}],\"barpolar\":[{\"marker\":{\"line\":{\"color\":\"#E5ECF6\",\"width\":0.5},\"pattern\":{\"fillmode\":\"overlay\",\"size\":10,\"solidity\":0.2}},\"type\":\"barpolar\"}],\"pie\":[{\"automargin\":true,\"type\":\"pie\"}]},\"layout\":{\"autotypenumbers\":\"strict\",\"colorway\":[\"#636efa\",\"#EF553B\",\"#00cc96\",\"#ab63fa\",\"#FFA15A\",\"#19d3f3\",\"#FF6692\",\"#B6E880\",\"#FF97FF\",\"#FECB52\"],\"font\":{\"color\":\"#2a3f5f\"},\"hovermode\":\"closest\",\"hoverlabel\":{\"align\":\"left\"},\"paper_bgcolor\":\"white\",\"plot_bgcolor\":\"#E5ECF6\",\"polar\":{\"bgcolor\":\"#E5ECF6\",\"angularaxis\":{\"gridcolor\":\"white\",\"linecolor\":\"white\",\"ticks\":\"\"},\"radialaxis\":{\"gridcolor\":\"white\",\"linecolor\":\"white\",\"ticks\":\"\"}},\"ternary\":{\"bgcolor\":\"#E5ECF6\",\"aaxis\":{\"gridcolor\":\"white\",\"linecolor\":\"white\",\"ticks\":\"\"},\"baxis\":{\"gridcolor\":\"white\",\"linecolor\":\"white\",\"ticks\":\"\"},\"caxis\":{\"gridcolor\":\"white\",\"linecolor\":\"white\",\"ticks\":\"\"}},\"coloraxis\":{\"colorbar\":{\"outlinewidth\":0,\"ticks\":\"\"}},\"colorscale\":{\"sequential\":[[0.0,\"#0d0887\"],[0.1111111111111111,\"#46039f\"],[0.2222222222222222,\"#7201a8\"],[0.3333333333333333,\"#9c179e\"],[0.4444444444444444,\"#bd3786\"],[0.5555555555555556,\"#d8576b\"],[0.6666666666666666,\"#ed7953\"],[0.7777777777777778,\"#fb9f3a\"],[0.8888888888888888,\"#fdca26\"],[1.0,\"#f0f921\"]],\"sequentialminus\":[[0.0,\"#0d0887\"],[0.1111111111111111,\"#46039f\"],[0.2222222222222222,\"#7201a8\"],[0.3333333333333333,\"#9c179e\"],[0.4444444444444444,\"#bd3786\"],[0.5555555555555556,\"#d8576b\"],[0.6666666666666666,\"#ed7953\"],[0.7777777777777778,\"#fb9f3a\"],[0.8888888888888888,\"#fdca26\"],[1.0,\"#f0f921\"]],\"diverging\":[[0,\"#8e0152\"],[0.1,\"#c51b7d\"],[0.2,\"#de77ae\"],[0.3,\"#f1b6da\"],[0.4,\"#fde0ef\"],[0.5,\"#f7f7f7\"],[0.6,\"#e6f5d0\"],[0.7,\"#b8e186\"],[0.8,\"#7fbc41\"],[0.9,\"#4d9221\"],[1,\"#276419\"]]},\"xaxis\":{\"gridcolor\":\"white\",\"linecolor\":\"white\",\"ticks\":\"\",\"title\":{\"standoff\":15},\"zerolinecolor\":\"white\",\"automargin\":true,\"zerolinewidth\":2},\"yaxis\":{\"gridcolor\":\"white\",\"linecolor\":\"white\",\"ticks\":\"\",\"title\":{\"standoff\":15},\"zerolinecolor\":\"white\",\"automargin\":true,\"zerolinewidth\":2},\"scene\":{\"xaxis\":{\"backgroundcolor\":\"#E5ECF6\",\"gridcolor\":\"white\",\"linecolor\":\"white\",\"showbackground\":true,\"ticks\":\"\",\"zerolinecolor\":\"white\",\"gridwidth\":2},\"yaxis\":{\"backgroundcolor\":\"#E5ECF6\",\"gridcolor\":\"white\",\"linecolor\":\"white\",\"showbackground\":true,\"ticks\":\"\",\"zerolinecolor\":\"white\",\"gridwidth\":2},\"zaxis\":{\"backgroundcolor\":\"#E5ECF6\",\"gridcolor\":\"white\",\"linecolor\":\"white\",\"showbackground\":true,\"ticks\":\"\",\"zerolinecolor\":\"white\",\"gridwidth\":2}},\"shapedefaults\":{\"line\":{\"color\":\"#2a3f5f\"}},\"annotationdefaults\":{\"arrowcolor\":\"#2a3f5f\",\"arrowhead\":0,\"arrowwidth\":1},\"geo\":{\"bgcolor\":\"white\",\"landcolor\":\"#E5ECF6\",\"subunitcolor\":\"white\",\"showland\":true,\"showlakes\":true,\"lakecolor\":\"white\"},\"title\":{\"x\":0.05},\"mapbox\":{\"style\":\"light\"}}},\"xaxis\":{\"anchor\":\"y\",\"domain\":[0.0,1.0],\"title\":{\"text\":\"Category\"},\"tickangle\":-90,\"categoryorder\":\"total descending\"},\"yaxis\":{\"anchor\":\"x\",\"domain\":[0.0,1.0],\"title\":{\"text\":\"Rating\"}},\"legend\":{\"tracegroupgap\":0},\"title\":{\"text\":\"Top 10 Categories by highest number of Ratings (Mean value)\"},\"barmode\":\"relative\",\"width\":800,\"height\":500,\"plot_bgcolor\":\"snow\"},                        {\"responsive\": true}                    ).then(function(){\n",
       "                            \n",
       "var gd = document.getElementById('8afbd9e0-0f20-4086-82ba-ea0b99f8838b');\n",
       "var x = new MutationObserver(function (mutations, observer) {{\n",
       "        var display = window.getComputedStyle(gd).display;\n",
       "        if (!display || display === 'none') {{\n",
       "            console.log([gd, 'removed!']);\n",
       "            Plotly.purge(gd);\n",
       "            observer.disconnect();\n",
       "        }}\n",
       "}});\n",
       "\n",
       "// Listen for the removal of the full notebook cells\n",
       "var notebookContainer = gd.closest('#notebook-container');\n",
       "if (notebookContainer) {{\n",
       "    x.observe(notebookContainer, {childList: true});\n",
       "}}\n",
       "\n",
       "// Listen for the clearing of the current output cell\n",
       "var outputEl = gd.closest('.output');\n",
       "if (outputEl) {{\n",
       "    x.observe(outputEl, {childList: true});\n",
       "}}\n",
       "\n",
       "                        })                };                });            </script>        </div>"
      ]
     },
     "metadata": {},
     "output_type": "display_data"
    }
   ],
   "source": [
    "# Calculate the area square of each district and select the top 10\n",
    "cat_install = df.groupby('Category')['Rating'].mean().reset_index().nlargest(10, 'Rating')\n",
    "\n",
    "fig = px.bar(cat_install, x='Category', y='Rating',\n",
    "             title='Top 10 Categories by highest number of Ratings (Mean value)',\n",
    "             color_discrete_sequence=['#f57842'])\n",
    "fig.update_traces(width=0.6)\n",
    "fig.update_layout(width=800, height=500,plot_bgcolor='snow')\n",
    "# x axis ticks in the 90 degree angle\n",
    "fig.update_layout(xaxis_tickangle=-90)\n",
    "\n",
    "fig.update_xaxes(categoryorder='total descending')  # Optional: Sort the x-axis categories\n",
    "fig.show()"
   ]
  },
  {
   "cell_type": "code",
   "execution_count": 53,
   "id": "79e88946",
   "metadata": {
    "execution": {
     "iopub.execute_input": "2023-11-10T06:02:48.708910Z",
     "iopub.status.busy": "2023-11-10T06:02:48.707598Z",
     "iopub.status.idle": "2023-11-10T06:02:48.792630Z",
     "shell.execute_reply": "2023-11-10T06:02:48.791445Z"
    },
    "papermill": {
     "duration": 0.127882,
     "end_time": "2023-11-10T06:02:48.795262",
     "exception": false,
     "start_time": "2023-11-10T06:02:48.667380",
     "status": "completed"
    },
    "tags": []
   },
   "outputs": [
    {
     "data": {
      "text/html": [
       "<div>                            <div id=\"cf85a885-37ca-401c-b294-816d6d159663\" class=\"plotly-graph-div\" style=\"height:500px; width:800px;\"></div>            <script type=\"text/javascript\">                require([\"plotly\"], function(Plotly) {                    window.PLOTLYENV=window.PLOTLYENV || {};                                    if (document.getElementById(\"cf85a885-37ca-401c-b294-816d6d159663\")) {                    Plotly.newPlot(                        \"cf85a885-37ca-401c-b294-816d6d159663\",                        [{\"alignmentgroup\":\"True\",\"hovertemplate\":\"Category=%{x}\\u003cbr\\u003eSize_in_Mb=%{y}\\u003cextra\\u003e\\u003c\\u002fextra\\u003e\",\"legendgroup\":\"\",\"marker\":{\"color\":\"#f57842\",\"pattern\":{\"shape\":\"\"}},\"name\":\"\",\"offsetgroup\":\"\",\"orientation\":\"v\",\"showlegend\":false,\"textposition\":\"auto\",\"x\":[\"GAME\",\"FAMILY\",\"TRAVEL_AND_LOCAL\",\"SPORTS\",\"ENTERTAINMENT\",\"PARENTING\",\"FOOD_AND_DRINK\",\"HEALTH_AND_FITNESS\",\"EDUCATION\",\"AUTO_AND_VEHICLES\"],\"xaxis\":\"x\",\"y\":[44.126816015625,27.96479966115502,24.515959977304473,24.180992002744933,22.638805970149253,22.512962962962963,22.056122448979593,21.642819010416666,20.076631673177083,20.036807291666666],\"yaxis\":\"y\",\"type\":\"bar\",\"width\":0.6}],                        {\"template\":{\"data\":{\"histogram2dcontour\":[{\"type\":\"histogram2dcontour\",\"colorbar\":{\"outlinewidth\":0,\"ticks\":\"\"},\"colorscale\":[[0.0,\"#0d0887\"],[0.1111111111111111,\"#46039f\"],[0.2222222222222222,\"#7201a8\"],[0.3333333333333333,\"#9c179e\"],[0.4444444444444444,\"#bd3786\"],[0.5555555555555556,\"#d8576b\"],[0.6666666666666666,\"#ed7953\"],[0.7777777777777778,\"#fb9f3a\"],[0.8888888888888888,\"#fdca26\"],[1.0,\"#f0f921\"]]}],\"choropleth\":[{\"type\":\"choropleth\",\"colorbar\":{\"outlinewidth\":0,\"ticks\":\"\"}}],\"histogram2d\":[{\"type\":\"histogram2d\",\"colorbar\":{\"outlinewidth\":0,\"ticks\":\"\"},\"colorscale\":[[0.0,\"#0d0887\"],[0.1111111111111111,\"#46039f\"],[0.2222222222222222,\"#7201a8\"],[0.3333333333333333,\"#9c179e\"],[0.4444444444444444,\"#bd3786\"],[0.5555555555555556,\"#d8576b\"],[0.6666666666666666,\"#ed7953\"],[0.7777777777777778,\"#fb9f3a\"],[0.8888888888888888,\"#fdca26\"],[1.0,\"#f0f921\"]]}],\"heatmap\":[{\"type\":\"heatmap\",\"colorbar\":{\"outlinewidth\":0,\"ticks\":\"\"},\"colorscale\":[[0.0,\"#0d0887\"],[0.1111111111111111,\"#46039f\"],[0.2222222222222222,\"#7201a8\"],[0.3333333333333333,\"#9c179e\"],[0.4444444444444444,\"#bd3786\"],[0.5555555555555556,\"#d8576b\"],[0.6666666666666666,\"#ed7953\"],[0.7777777777777778,\"#fb9f3a\"],[0.8888888888888888,\"#fdca26\"],[1.0,\"#f0f921\"]]}],\"heatmapgl\":[{\"type\":\"heatmapgl\",\"colorbar\":{\"outlinewidth\":0,\"ticks\":\"\"},\"colorscale\":[[0.0,\"#0d0887\"],[0.1111111111111111,\"#46039f\"],[0.2222222222222222,\"#7201a8\"],[0.3333333333333333,\"#9c179e\"],[0.4444444444444444,\"#bd3786\"],[0.5555555555555556,\"#d8576b\"],[0.6666666666666666,\"#ed7953\"],[0.7777777777777778,\"#fb9f3a\"],[0.8888888888888888,\"#fdca26\"],[1.0,\"#f0f921\"]]}],\"contourcarpet\":[{\"type\":\"contourcarpet\",\"colorbar\":{\"outlinewidth\":0,\"ticks\":\"\"}}],\"contour\":[{\"type\":\"contour\",\"colorbar\":{\"outlinewidth\":0,\"ticks\":\"\"},\"colorscale\":[[0.0,\"#0d0887\"],[0.1111111111111111,\"#46039f\"],[0.2222222222222222,\"#7201a8\"],[0.3333333333333333,\"#9c179e\"],[0.4444444444444444,\"#bd3786\"],[0.5555555555555556,\"#d8576b\"],[0.6666666666666666,\"#ed7953\"],[0.7777777777777778,\"#fb9f3a\"],[0.8888888888888888,\"#fdca26\"],[1.0,\"#f0f921\"]]}],\"surface\":[{\"type\":\"surface\",\"colorbar\":{\"outlinewidth\":0,\"ticks\":\"\"},\"colorscale\":[[0.0,\"#0d0887\"],[0.1111111111111111,\"#46039f\"],[0.2222222222222222,\"#7201a8\"],[0.3333333333333333,\"#9c179e\"],[0.4444444444444444,\"#bd3786\"],[0.5555555555555556,\"#d8576b\"],[0.6666666666666666,\"#ed7953\"],[0.7777777777777778,\"#fb9f3a\"],[0.8888888888888888,\"#fdca26\"],[1.0,\"#f0f921\"]]}],\"mesh3d\":[{\"type\":\"mesh3d\",\"colorbar\":{\"outlinewidth\":0,\"ticks\":\"\"}}],\"scatter\":[{\"fillpattern\":{\"fillmode\":\"overlay\",\"size\":10,\"solidity\":0.2},\"type\":\"scatter\"}],\"parcoords\":[{\"type\":\"parcoords\",\"line\":{\"colorbar\":{\"outlinewidth\":0,\"ticks\":\"\"}}}],\"scatterpolargl\":[{\"type\":\"scatterpolargl\",\"marker\":{\"colorbar\":{\"outlinewidth\":0,\"ticks\":\"\"}}}],\"bar\":[{\"error_x\":{\"color\":\"#2a3f5f\"},\"error_y\":{\"color\":\"#2a3f5f\"},\"marker\":{\"line\":{\"color\":\"#E5ECF6\",\"width\":0.5},\"pattern\":{\"fillmode\":\"overlay\",\"size\":10,\"solidity\":0.2}},\"type\":\"bar\"}],\"scattergeo\":[{\"type\":\"scattergeo\",\"marker\":{\"colorbar\":{\"outlinewidth\":0,\"ticks\":\"\"}}}],\"scatterpolar\":[{\"type\":\"scatterpolar\",\"marker\":{\"colorbar\":{\"outlinewidth\":0,\"ticks\":\"\"}}}],\"histogram\":[{\"marker\":{\"pattern\":{\"fillmode\":\"overlay\",\"size\":10,\"solidity\":0.2}},\"type\":\"histogram\"}],\"scattergl\":[{\"type\":\"scattergl\",\"marker\":{\"colorbar\":{\"outlinewidth\":0,\"ticks\":\"\"}}}],\"scatter3d\":[{\"type\":\"scatter3d\",\"line\":{\"colorbar\":{\"outlinewidth\":0,\"ticks\":\"\"}},\"marker\":{\"colorbar\":{\"outlinewidth\":0,\"ticks\":\"\"}}}],\"scattermapbox\":[{\"type\":\"scattermapbox\",\"marker\":{\"colorbar\":{\"outlinewidth\":0,\"ticks\":\"\"}}}],\"scatterternary\":[{\"type\":\"scatterternary\",\"marker\":{\"colorbar\":{\"outlinewidth\":0,\"ticks\":\"\"}}}],\"scattercarpet\":[{\"type\":\"scattercarpet\",\"marker\":{\"colorbar\":{\"outlinewidth\":0,\"ticks\":\"\"}}}],\"carpet\":[{\"aaxis\":{\"endlinecolor\":\"#2a3f5f\",\"gridcolor\":\"white\",\"linecolor\":\"white\",\"minorgridcolor\":\"white\",\"startlinecolor\":\"#2a3f5f\"},\"baxis\":{\"endlinecolor\":\"#2a3f5f\",\"gridcolor\":\"white\",\"linecolor\":\"white\",\"minorgridcolor\":\"white\",\"startlinecolor\":\"#2a3f5f\"},\"type\":\"carpet\"}],\"table\":[{\"cells\":{\"fill\":{\"color\":\"#EBF0F8\"},\"line\":{\"color\":\"white\"}},\"header\":{\"fill\":{\"color\":\"#C8D4E3\"},\"line\":{\"color\":\"white\"}},\"type\":\"table\"}],\"barpolar\":[{\"marker\":{\"line\":{\"color\":\"#E5ECF6\",\"width\":0.5},\"pattern\":{\"fillmode\":\"overlay\",\"size\":10,\"solidity\":0.2}},\"type\":\"barpolar\"}],\"pie\":[{\"automargin\":true,\"type\":\"pie\"}]},\"layout\":{\"autotypenumbers\":\"strict\",\"colorway\":[\"#636efa\",\"#EF553B\",\"#00cc96\",\"#ab63fa\",\"#FFA15A\",\"#19d3f3\",\"#FF6692\",\"#B6E880\",\"#FF97FF\",\"#FECB52\"],\"font\":{\"color\":\"#2a3f5f\"},\"hovermode\":\"closest\",\"hoverlabel\":{\"align\":\"left\"},\"paper_bgcolor\":\"white\",\"plot_bgcolor\":\"#E5ECF6\",\"polar\":{\"bgcolor\":\"#E5ECF6\",\"angularaxis\":{\"gridcolor\":\"white\",\"linecolor\":\"white\",\"ticks\":\"\"},\"radialaxis\":{\"gridcolor\":\"white\",\"linecolor\":\"white\",\"ticks\":\"\"}},\"ternary\":{\"bgcolor\":\"#E5ECF6\",\"aaxis\":{\"gridcolor\":\"white\",\"linecolor\":\"white\",\"ticks\":\"\"},\"baxis\":{\"gridcolor\":\"white\",\"linecolor\":\"white\",\"ticks\":\"\"},\"caxis\":{\"gridcolor\":\"white\",\"linecolor\":\"white\",\"ticks\":\"\"}},\"coloraxis\":{\"colorbar\":{\"outlinewidth\":0,\"ticks\":\"\"}},\"colorscale\":{\"sequential\":[[0.0,\"#0d0887\"],[0.1111111111111111,\"#46039f\"],[0.2222222222222222,\"#7201a8\"],[0.3333333333333333,\"#9c179e\"],[0.4444444444444444,\"#bd3786\"],[0.5555555555555556,\"#d8576b\"],[0.6666666666666666,\"#ed7953\"],[0.7777777777777778,\"#fb9f3a\"],[0.8888888888888888,\"#fdca26\"],[1.0,\"#f0f921\"]],\"sequentialminus\":[[0.0,\"#0d0887\"],[0.1111111111111111,\"#46039f\"],[0.2222222222222222,\"#7201a8\"],[0.3333333333333333,\"#9c179e\"],[0.4444444444444444,\"#bd3786\"],[0.5555555555555556,\"#d8576b\"],[0.6666666666666666,\"#ed7953\"],[0.7777777777777778,\"#fb9f3a\"],[0.8888888888888888,\"#fdca26\"],[1.0,\"#f0f921\"]],\"diverging\":[[0,\"#8e0152\"],[0.1,\"#c51b7d\"],[0.2,\"#de77ae\"],[0.3,\"#f1b6da\"],[0.4,\"#fde0ef\"],[0.5,\"#f7f7f7\"],[0.6,\"#e6f5d0\"],[0.7,\"#b8e186\"],[0.8,\"#7fbc41\"],[0.9,\"#4d9221\"],[1,\"#276419\"]]},\"xaxis\":{\"gridcolor\":\"white\",\"linecolor\":\"white\",\"ticks\":\"\",\"title\":{\"standoff\":15},\"zerolinecolor\":\"white\",\"automargin\":true,\"zerolinewidth\":2},\"yaxis\":{\"gridcolor\":\"white\",\"linecolor\":\"white\",\"ticks\":\"\",\"title\":{\"standoff\":15},\"zerolinecolor\":\"white\",\"automargin\":true,\"zerolinewidth\":2},\"scene\":{\"xaxis\":{\"backgroundcolor\":\"#E5ECF6\",\"gridcolor\":\"white\",\"linecolor\":\"white\",\"showbackground\":true,\"ticks\":\"\",\"zerolinecolor\":\"white\",\"gridwidth\":2},\"yaxis\":{\"backgroundcolor\":\"#E5ECF6\",\"gridcolor\":\"white\",\"linecolor\":\"white\",\"showbackground\":true,\"ticks\":\"\",\"zerolinecolor\":\"white\",\"gridwidth\":2},\"zaxis\":{\"backgroundcolor\":\"#E5ECF6\",\"gridcolor\":\"white\",\"linecolor\":\"white\",\"showbackground\":true,\"ticks\":\"\",\"zerolinecolor\":\"white\",\"gridwidth\":2}},\"shapedefaults\":{\"line\":{\"color\":\"#2a3f5f\"}},\"annotationdefaults\":{\"arrowcolor\":\"#2a3f5f\",\"arrowhead\":0,\"arrowwidth\":1},\"geo\":{\"bgcolor\":\"white\",\"landcolor\":\"#E5ECF6\",\"subunitcolor\":\"white\",\"showland\":true,\"showlakes\":true,\"lakecolor\":\"white\"},\"title\":{\"x\":0.05},\"mapbox\":{\"style\":\"light\"}}},\"xaxis\":{\"anchor\":\"y\",\"domain\":[0.0,1.0],\"title\":{\"text\":\"Category\"},\"tickangle\":-90,\"categoryorder\":\"total descending\"},\"yaxis\":{\"anchor\":\"x\",\"domain\":[0.0,1.0],\"title\":{\"text\":\"Size_in_Mb\"}},\"legend\":{\"tracegroupgap\":0},\"title\":{\"text\":\"Top 10 Categories by big size in Mb (Mean value)\"},\"barmode\":\"relative\",\"width\":800,\"height\":500,\"plot_bgcolor\":\"whitesmoke\"},                        {\"responsive\": true}                    ).then(function(){\n",
       "                            \n",
       "var gd = document.getElementById('cf85a885-37ca-401c-b294-816d6d159663');\n",
       "var x = new MutationObserver(function (mutations, observer) {{\n",
       "        var display = window.getComputedStyle(gd).display;\n",
       "        if (!display || display === 'none') {{\n",
       "            console.log([gd, 'removed!']);\n",
       "            Plotly.purge(gd);\n",
       "            observer.disconnect();\n",
       "        }}\n",
       "}});\n",
       "\n",
       "// Listen for the removal of the full notebook cells\n",
       "var notebookContainer = gd.closest('#notebook-container');\n",
       "if (notebookContainer) {{\n",
       "    x.observe(notebookContainer, {childList: true});\n",
       "}}\n",
       "\n",
       "// Listen for the clearing of the current output cell\n",
       "var outputEl = gd.closest('.output');\n",
       "if (outputEl) {{\n",
       "    x.observe(outputEl, {childList: true});\n",
       "}}\n",
       "\n",
       "                        })                };                });            </script>        </div>"
      ]
     },
     "metadata": {},
     "output_type": "display_data"
    }
   ],
   "source": [
    "# Calculate the area square of each district and select the top 10\n",
    "cat_install = df.groupby('Category')['Size_in_Mb'].mean().reset_index().nlargest(10, 'Size_in_Mb')\n",
    "\n",
    "fig = px.bar(cat_install, x='Category', y='Size_in_Mb',\n",
    "             title='Top 10 Categories by big size in Mb (Mean value)',\n",
    "             color_discrete_sequence=['#f57842'])\n",
    "fig.update_traces(width=0.6)\n",
    "fig.update_layout(width=800, height=500,plot_bgcolor='whitesmoke')\n",
    "# x axis ticks in the 90 degree angle\n",
    "fig.update_layout(xaxis_tickangle=-90)\n",
    "\n",
    "fig.update_xaxes(categoryorder='total descending')  # Optional: Sort the x-axis categories\n",
    "fig.show()"
   ]
  },
  {
   "cell_type": "code",
   "execution_count": 54,
   "id": "1d4f0b16",
   "metadata": {
    "execution": {
     "iopub.execute_input": "2023-11-10T06:02:48.873599Z",
     "iopub.status.busy": "2023-11-10T06:02:48.872954Z",
     "iopub.status.idle": "2023-11-10T06:02:48.952989Z",
     "shell.execute_reply": "2023-11-10T06:02:48.951810Z"
    },
    "papermill": {
     "duration": 0.12256,
     "end_time": "2023-11-10T06:02:48.955521",
     "exception": false,
     "start_time": "2023-11-10T06:02:48.832961",
     "status": "completed"
    },
    "tags": []
   },
   "outputs": [
    {
     "data": {
      "text/html": [
       "<div>                            <div id=\"a8b5a973-d788-4c6e-bfa9-ff63ae2a7768\" class=\"plotly-graph-div\" style=\"height:500px; width:800px;\"></div>            <script type=\"text/javascript\">                require([\"plotly\"], function(Plotly) {                    window.PLOTLYENV=window.PLOTLYENV || {};                                    if (document.getElementById(\"a8b5a973-d788-4c6e-bfa9-ff63ae2a7768\")) {                    Plotly.newPlot(                        \"a8b5a973-d788-4c6e-bfa9-ff63ae2a7768\",                        [{\"alignmentgroup\":\"True\",\"hovertemplate\":\"Category=%{x}\\u003cbr\\u003ePrice=%{y}\\u003cextra\\u003e\\u003c\\u002fextra\\u003e\",\"legendgroup\":\"\",\"marker\":{\"color\":\"#f57842\",\"pattern\":{\"shape\":\"\"}},\"name\":\"\",\"offsetgroup\":\"\",\"orientation\":\"v\",\"showlegend\":false,\"textposition\":\"auto\",\"x\":[\"FINANCE\",\"LIFESTYLE\",\"MEDICAL\",\"EVENTS\",\"FAMILY\",\"PRODUCTIVITY\",\"BOOKS_AND_REFERENCE\",\"BUSINESS\",\"WEATHER\",\"PERSONALIZATION\"],\"xaxis\":\"x\",\"y\":[8.05786111111111,6.32941018766756,2.5016911764705885,1.71859375,1.2479783393501804,0.6165356265356265,0.5230131004366813,0.4105152224824356,0.3953658536585366,0.3885492227979274],\"yaxis\":\"y\",\"type\":\"bar\",\"width\":0.6}],                        {\"template\":{\"data\":{\"histogram2dcontour\":[{\"type\":\"histogram2dcontour\",\"colorbar\":{\"outlinewidth\":0,\"ticks\":\"\"},\"colorscale\":[[0.0,\"#0d0887\"],[0.1111111111111111,\"#46039f\"],[0.2222222222222222,\"#7201a8\"],[0.3333333333333333,\"#9c179e\"],[0.4444444444444444,\"#bd3786\"],[0.5555555555555556,\"#d8576b\"],[0.6666666666666666,\"#ed7953\"],[0.7777777777777778,\"#fb9f3a\"],[0.8888888888888888,\"#fdca26\"],[1.0,\"#f0f921\"]]}],\"choropleth\":[{\"type\":\"choropleth\",\"colorbar\":{\"outlinewidth\":0,\"ticks\":\"\"}}],\"histogram2d\":[{\"type\":\"histogram2d\",\"colorbar\":{\"outlinewidth\":0,\"ticks\":\"\"},\"colorscale\":[[0.0,\"#0d0887\"],[0.1111111111111111,\"#46039f\"],[0.2222222222222222,\"#7201a8\"],[0.3333333333333333,\"#9c179e\"],[0.4444444444444444,\"#bd3786\"],[0.5555555555555556,\"#d8576b\"],[0.6666666666666666,\"#ed7953\"],[0.7777777777777778,\"#fb9f3a\"],[0.8888888888888888,\"#fdca26\"],[1.0,\"#f0f921\"]]}],\"heatmap\":[{\"type\":\"heatmap\",\"colorbar\":{\"outlinewidth\":0,\"ticks\":\"\"},\"colorscale\":[[0.0,\"#0d0887\"],[0.1111111111111111,\"#46039f\"],[0.2222222222222222,\"#7201a8\"],[0.3333333333333333,\"#9c179e\"],[0.4444444444444444,\"#bd3786\"],[0.5555555555555556,\"#d8576b\"],[0.6666666666666666,\"#ed7953\"],[0.7777777777777778,\"#fb9f3a\"],[0.8888888888888888,\"#fdca26\"],[1.0,\"#f0f921\"]]}],\"heatmapgl\":[{\"type\":\"heatmapgl\",\"colorbar\":{\"outlinewidth\":0,\"ticks\":\"\"},\"colorscale\":[[0.0,\"#0d0887\"],[0.1111111111111111,\"#46039f\"],[0.2222222222222222,\"#7201a8\"],[0.3333333333333333,\"#9c179e\"],[0.4444444444444444,\"#bd3786\"],[0.5555555555555556,\"#d8576b\"],[0.6666666666666666,\"#ed7953\"],[0.7777777777777778,\"#fb9f3a\"],[0.8888888888888888,\"#fdca26\"],[1.0,\"#f0f921\"]]}],\"contourcarpet\":[{\"type\":\"contourcarpet\",\"colorbar\":{\"outlinewidth\":0,\"ticks\":\"\"}}],\"contour\":[{\"type\":\"contour\",\"colorbar\":{\"outlinewidth\":0,\"ticks\":\"\"},\"colorscale\":[[0.0,\"#0d0887\"],[0.1111111111111111,\"#46039f\"],[0.2222222222222222,\"#7201a8\"],[0.3333333333333333,\"#9c179e\"],[0.4444444444444444,\"#bd3786\"],[0.5555555555555556,\"#d8576b\"],[0.6666666666666666,\"#ed7953\"],[0.7777777777777778,\"#fb9f3a\"],[0.8888888888888888,\"#fdca26\"],[1.0,\"#f0f921\"]]}],\"surface\":[{\"type\":\"surface\",\"colorbar\":{\"outlinewidth\":0,\"ticks\":\"\"},\"colorscale\":[[0.0,\"#0d0887\"],[0.1111111111111111,\"#46039f\"],[0.2222222222222222,\"#7201a8\"],[0.3333333333333333,\"#9c179e\"],[0.4444444444444444,\"#bd3786\"],[0.5555555555555556,\"#d8576b\"],[0.6666666666666666,\"#ed7953\"],[0.7777777777777778,\"#fb9f3a\"],[0.8888888888888888,\"#fdca26\"],[1.0,\"#f0f921\"]]}],\"mesh3d\":[{\"type\":\"mesh3d\",\"colorbar\":{\"outlinewidth\":0,\"ticks\":\"\"}}],\"scatter\":[{\"fillpattern\":{\"fillmode\":\"overlay\",\"size\":10,\"solidity\":0.2},\"type\":\"scatter\"}],\"parcoords\":[{\"type\":\"parcoords\",\"line\":{\"colorbar\":{\"outlinewidth\":0,\"ticks\":\"\"}}}],\"scatterpolargl\":[{\"type\":\"scatterpolargl\",\"marker\":{\"colorbar\":{\"outlinewidth\":0,\"ticks\":\"\"}}}],\"bar\":[{\"error_x\":{\"color\":\"#2a3f5f\"},\"error_y\":{\"color\":\"#2a3f5f\"},\"marker\":{\"line\":{\"color\":\"#E5ECF6\",\"width\":0.5},\"pattern\":{\"fillmode\":\"overlay\",\"size\":10,\"solidity\":0.2}},\"type\":\"bar\"}],\"scattergeo\":[{\"type\":\"scattergeo\",\"marker\":{\"colorbar\":{\"outlinewidth\":0,\"ticks\":\"\"}}}],\"scatterpolar\":[{\"type\":\"scatterpolar\",\"marker\":{\"colorbar\":{\"outlinewidth\":0,\"ticks\":\"\"}}}],\"histogram\":[{\"marker\":{\"pattern\":{\"fillmode\":\"overlay\",\"size\":10,\"solidity\":0.2}},\"type\":\"histogram\"}],\"scattergl\":[{\"type\":\"scattergl\",\"marker\":{\"colorbar\":{\"outlinewidth\":0,\"ticks\":\"\"}}}],\"scatter3d\":[{\"type\":\"scatter3d\",\"line\":{\"colorbar\":{\"outlinewidth\":0,\"ticks\":\"\"}},\"marker\":{\"colorbar\":{\"outlinewidth\":0,\"ticks\":\"\"}}}],\"scattermapbox\":[{\"type\":\"scattermapbox\",\"marker\":{\"colorbar\":{\"outlinewidth\":0,\"ticks\":\"\"}}}],\"scatterternary\":[{\"type\":\"scatterternary\",\"marker\":{\"colorbar\":{\"outlinewidth\":0,\"ticks\":\"\"}}}],\"scattercarpet\":[{\"type\":\"scattercarpet\",\"marker\":{\"colorbar\":{\"outlinewidth\":0,\"ticks\":\"\"}}}],\"carpet\":[{\"aaxis\":{\"endlinecolor\":\"#2a3f5f\",\"gridcolor\":\"white\",\"linecolor\":\"white\",\"minorgridcolor\":\"white\",\"startlinecolor\":\"#2a3f5f\"},\"baxis\":{\"endlinecolor\":\"#2a3f5f\",\"gridcolor\":\"white\",\"linecolor\":\"white\",\"minorgridcolor\":\"white\",\"startlinecolor\":\"#2a3f5f\"},\"type\":\"carpet\"}],\"table\":[{\"cells\":{\"fill\":{\"color\":\"#EBF0F8\"},\"line\":{\"color\":\"white\"}},\"header\":{\"fill\":{\"color\":\"#C8D4E3\"},\"line\":{\"color\":\"white\"}},\"type\":\"table\"}],\"barpolar\":[{\"marker\":{\"line\":{\"color\":\"#E5ECF6\",\"width\":0.5},\"pattern\":{\"fillmode\":\"overlay\",\"size\":10,\"solidity\":0.2}},\"type\":\"barpolar\"}],\"pie\":[{\"automargin\":true,\"type\":\"pie\"}]},\"layout\":{\"autotypenumbers\":\"strict\",\"colorway\":[\"#636efa\",\"#EF553B\",\"#00cc96\",\"#ab63fa\",\"#FFA15A\",\"#19d3f3\",\"#FF6692\",\"#B6E880\",\"#FF97FF\",\"#FECB52\"],\"font\":{\"color\":\"#2a3f5f\"},\"hovermode\":\"closest\",\"hoverlabel\":{\"align\":\"left\"},\"paper_bgcolor\":\"white\",\"plot_bgcolor\":\"#E5ECF6\",\"polar\":{\"bgcolor\":\"#E5ECF6\",\"angularaxis\":{\"gridcolor\":\"white\",\"linecolor\":\"white\",\"ticks\":\"\"},\"radialaxis\":{\"gridcolor\":\"white\",\"linecolor\":\"white\",\"ticks\":\"\"}},\"ternary\":{\"bgcolor\":\"#E5ECF6\",\"aaxis\":{\"gridcolor\":\"white\",\"linecolor\":\"white\",\"ticks\":\"\"},\"baxis\":{\"gridcolor\":\"white\",\"linecolor\":\"white\",\"ticks\":\"\"},\"caxis\":{\"gridcolor\":\"white\",\"linecolor\":\"white\",\"ticks\":\"\"}},\"coloraxis\":{\"colorbar\":{\"outlinewidth\":0,\"ticks\":\"\"}},\"colorscale\":{\"sequential\":[[0.0,\"#0d0887\"],[0.1111111111111111,\"#46039f\"],[0.2222222222222222,\"#7201a8\"],[0.3333333333333333,\"#9c179e\"],[0.4444444444444444,\"#bd3786\"],[0.5555555555555556,\"#d8576b\"],[0.6666666666666666,\"#ed7953\"],[0.7777777777777778,\"#fb9f3a\"],[0.8888888888888888,\"#fdca26\"],[1.0,\"#f0f921\"]],\"sequentialminus\":[[0.0,\"#0d0887\"],[0.1111111111111111,\"#46039f\"],[0.2222222222222222,\"#7201a8\"],[0.3333333333333333,\"#9c179e\"],[0.4444444444444444,\"#bd3786\"],[0.5555555555555556,\"#d8576b\"],[0.6666666666666666,\"#ed7953\"],[0.7777777777777778,\"#fb9f3a\"],[0.8888888888888888,\"#fdca26\"],[1.0,\"#f0f921\"]],\"diverging\":[[0,\"#8e0152\"],[0.1,\"#c51b7d\"],[0.2,\"#de77ae\"],[0.3,\"#f1b6da\"],[0.4,\"#fde0ef\"],[0.5,\"#f7f7f7\"],[0.6,\"#e6f5d0\"],[0.7,\"#b8e186\"],[0.8,\"#7fbc41\"],[0.9,\"#4d9221\"],[1,\"#276419\"]]},\"xaxis\":{\"gridcolor\":\"white\",\"linecolor\":\"white\",\"ticks\":\"\",\"title\":{\"standoff\":15},\"zerolinecolor\":\"white\",\"automargin\":true,\"zerolinewidth\":2},\"yaxis\":{\"gridcolor\":\"white\",\"linecolor\":\"white\",\"ticks\":\"\",\"title\":{\"standoff\":15},\"zerolinecolor\":\"white\",\"automargin\":true,\"zerolinewidth\":2},\"scene\":{\"xaxis\":{\"backgroundcolor\":\"#E5ECF6\",\"gridcolor\":\"white\",\"linecolor\":\"white\",\"showbackground\":true,\"ticks\":\"\",\"zerolinecolor\":\"white\",\"gridwidth\":2},\"yaxis\":{\"backgroundcolor\":\"#E5ECF6\",\"gridcolor\":\"white\",\"linecolor\":\"white\",\"showbackground\":true,\"ticks\":\"\",\"zerolinecolor\":\"white\",\"gridwidth\":2},\"zaxis\":{\"backgroundcolor\":\"#E5ECF6\",\"gridcolor\":\"white\",\"linecolor\":\"white\",\"showbackground\":true,\"ticks\":\"\",\"zerolinecolor\":\"white\",\"gridwidth\":2}},\"shapedefaults\":{\"line\":{\"color\":\"#2a3f5f\"}},\"annotationdefaults\":{\"arrowcolor\":\"#2a3f5f\",\"arrowhead\":0,\"arrowwidth\":1},\"geo\":{\"bgcolor\":\"white\",\"landcolor\":\"#E5ECF6\",\"subunitcolor\":\"white\",\"showland\":true,\"showlakes\":true,\"lakecolor\":\"white\"},\"title\":{\"x\":0.05},\"mapbox\":{\"style\":\"light\"}}},\"xaxis\":{\"anchor\":\"y\",\"domain\":[0.0,1.0],\"title\":{\"text\":\"Category\"},\"tickangle\":-90,\"categoryorder\":\"total descending\"},\"yaxis\":{\"anchor\":\"x\",\"domain\":[0.0,1.0],\"title\":{\"text\":\"Price\"}},\"legend\":{\"tracegroupgap\":0},\"title\":{\"text\":\"Top 10 Categories by higher price (Mean value)\"},\"barmode\":\"relative\",\"width\":800,\"height\":500,\"plot_bgcolor\":\"whitesmoke\"},                        {\"responsive\": true}                    ).then(function(){\n",
       "                            \n",
       "var gd = document.getElementById('a8b5a973-d788-4c6e-bfa9-ff63ae2a7768');\n",
       "var x = new MutationObserver(function (mutations, observer) {{\n",
       "        var display = window.getComputedStyle(gd).display;\n",
       "        if (!display || display === 'none') {{\n",
       "            console.log([gd, 'removed!']);\n",
       "            Plotly.purge(gd);\n",
       "            observer.disconnect();\n",
       "        }}\n",
       "}});\n",
       "\n",
       "// Listen for the removal of the full notebook cells\n",
       "var notebookContainer = gd.closest('#notebook-container');\n",
       "if (notebookContainer) {{\n",
       "    x.observe(notebookContainer, {childList: true});\n",
       "}}\n",
       "\n",
       "// Listen for the clearing of the current output cell\n",
       "var outputEl = gd.closest('.output');\n",
       "if (outputEl) {{\n",
       "    x.observe(outputEl, {childList: true});\n",
       "}}\n",
       "\n",
       "                        })                };                });            </script>        </div>"
      ]
     },
     "metadata": {},
     "output_type": "display_data"
    }
   ],
   "source": [
    "# Calculate the area square of each district and select the top 10\n",
    "cat_install = df.groupby('Category')['Price'].mean().reset_index().nlargest(10, 'Price')\n",
    "\n",
    "fig = px.bar(cat_install, x='Category', y='Price',\n",
    "             title='Top 10 Categories by higher price (Mean value)',\n",
    "             color_discrete_sequence=['#f57842'])\n",
    "fig.update_traces(width=0.6)\n",
    "fig.update_layout(width=800, height=500,plot_bgcolor='whitesmoke')\n",
    "# x axis ticks in the 90 degree angle\n",
    "fig.update_layout(xaxis_tickangle=-90)\n",
    "\n",
    "fig.update_xaxes(categoryorder='total descending')  # Optional: Sort the x-axis categories\n",
    "fig.show()"
   ]
  },
  {
   "cell_type": "markdown",
   "id": "5032e34f",
   "metadata": {
    "papermill": {
     "duration": 0.037895,
     "end_time": "2023-11-10T06:02:49.038528",
     "exception": false,
     "start_time": "2023-11-10T06:02:49.000633",
     "status": "completed"
    },
    "tags": []
   },
   "source": [
    "# How many app developed for content rating columns"
   ]
  },
  {
   "cell_type": "code",
   "execution_count": 55,
   "id": "9b63ced0",
   "metadata": {
    "execution": {
     "iopub.execute_input": "2023-11-10T06:02:49.117396Z",
     "iopub.status.busy": "2023-11-10T06:02:49.116727Z",
     "iopub.status.idle": "2023-11-10T06:02:49.229876Z",
     "shell.execute_reply": "2023-11-10T06:02:49.228714Z"
    },
    "papermill": {
     "duration": 0.155922,
     "end_time": "2023-11-10T06:02:49.232524",
     "exception": false,
     "start_time": "2023-11-10T06:02:49.076602",
     "status": "completed"
    },
    "tags": []
   },
   "outputs": [
    {
     "data": {
      "text/html": [
       "<div>                            <div id=\"bc0be0ff-d134-4a4c-901c-23850d227ec8\" class=\"plotly-graph-div\" style=\"height:450px; width:700px;\"></div>            <script type=\"text/javascript\">                require([\"plotly\"], function(Plotly) {                    window.PLOTLYENV=window.PLOTLYENV || {};                                    if (document.getElementById(\"bc0be0ff-d134-4a4c-901c-23850d227ec8\")) {                    Plotly.newPlot(                        \"bc0be0ff-d134-4a4c-901c-23850d227ec8\",                        [{\"alignmentgroup\":\"True\",\"hovertemplate\":\"Content Rating=%{x}\\u003cbr\\u003eCount=%{y}\\u003cextra\\u003e\\u003c\\u002fextra\\u003e\",\"legendgroup\":\"Everyone\",\"marker\":{\"color\":\"#636efa\",\"pattern\":{\"shape\":\"\"}},\"name\":\"Everyone\",\"offsetgroup\":\"Everyone\",\"orientation\":\"v\",\"showlegend\":true,\"textposition\":\"auto\",\"x\":[\"Everyone\"],\"xaxis\":\"x\",\"y\":[8372],\"yaxis\":\"y\",\"type\":\"bar\",\"width\":0.5},{\"alignmentgroup\":\"True\",\"hovertemplate\":\"Content Rating=%{x}\\u003cbr\\u003eCount=%{y}\\u003cextra\\u003e\\u003c\\u002fextra\\u003e\",\"legendgroup\":\"Teen\",\"marker\":{\"color\":\"#EF553B\",\"pattern\":{\"shape\":\"\"}},\"name\":\"Teen\",\"offsetgroup\":\"Teen\",\"orientation\":\"v\",\"showlegend\":true,\"textposition\":\"auto\",\"x\":[\"Teen\"],\"xaxis\":\"x\",\"y\":[1146],\"yaxis\":\"y\",\"type\":\"bar\",\"width\":0.5},{\"alignmentgroup\":\"True\",\"hovertemplate\":\"Content Rating=%{x}\\u003cbr\\u003eCount=%{y}\\u003cextra\\u003e\\u003c\\u002fextra\\u003e\",\"legendgroup\":\"Mature 17+\",\"marker\":{\"color\":\"#00cc96\",\"pattern\":{\"shape\":\"\"}},\"name\":\"Mature 17+\",\"offsetgroup\":\"Mature 17+\",\"orientation\":\"v\",\"showlegend\":true,\"textposition\":\"auto\",\"x\":[\"Mature 17+\"],\"xaxis\":\"x\",\"y\":[447],\"yaxis\":\"y\",\"type\":\"bar\",\"width\":0.5},{\"alignmentgroup\":\"True\",\"hovertemplate\":\"Content Rating=%{x}\\u003cbr\\u003eCount=%{y}\\u003cextra\\u003e\\u003c\\u002fextra\\u003e\",\"legendgroup\":\"Everyone 10+\",\"marker\":{\"color\":\"#ab63fa\",\"pattern\":{\"shape\":\"\"}},\"name\":\"Everyone 10+\",\"offsetgroup\":\"Everyone 10+\",\"orientation\":\"v\",\"showlegend\":true,\"textposition\":\"auto\",\"x\":[\"Everyone 10+\"],\"xaxis\":\"x\",\"y\":[376],\"yaxis\":\"y\",\"type\":\"bar\",\"width\":0.5},{\"alignmentgroup\":\"True\",\"hovertemplate\":\"Content Rating=%{x}\\u003cbr\\u003eCount=%{y}\\u003cextra\\u003e\\u003c\\u002fextra\\u003e\",\"legendgroup\":\"Adults only 18+\",\"marker\":{\"color\":\"#FFA15A\",\"pattern\":{\"shape\":\"\"}},\"name\":\"Adults only 18+\",\"offsetgroup\":\"Adults only 18+\",\"orientation\":\"v\",\"showlegend\":true,\"textposition\":\"auto\",\"x\":[\"Adults only 18+\"],\"xaxis\":\"x\",\"y\":[3],\"yaxis\":\"y\",\"type\":\"bar\",\"width\":0.5},{\"alignmentgroup\":\"True\",\"hovertemplate\":\"Content Rating=%{x}\\u003cbr\\u003eCount=%{y}\\u003cextra\\u003e\\u003c\\u002fextra\\u003e\",\"legendgroup\":\"Unrated\",\"marker\":{\"color\":\"#19d3f3\",\"pattern\":{\"shape\":\"\"}},\"name\":\"Unrated\",\"offsetgroup\":\"Unrated\",\"orientation\":\"v\",\"showlegend\":true,\"textposition\":\"auto\",\"x\":[\"Unrated\"],\"xaxis\":\"x\",\"y\":[2],\"yaxis\":\"y\",\"type\":\"bar\",\"width\":0.5}],                        {\"template\":{\"data\":{\"histogram2dcontour\":[{\"type\":\"histogram2dcontour\",\"colorbar\":{\"outlinewidth\":0,\"ticks\":\"\"},\"colorscale\":[[0.0,\"#0d0887\"],[0.1111111111111111,\"#46039f\"],[0.2222222222222222,\"#7201a8\"],[0.3333333333333333,\"#9c179e\"],[0.4444444444444444,\"#bd3786\"],[0.5555555555555556,\"#d8576b\"],[0.6666666666666666,\"#ed7953\"],[0.7777777777777778,\"#fb9f3a\"],[0.8888888888888888,\"#fdca26\"],[1.0,\"#f0f921\"]]}],\"choropleth\":[{\"type\":\"choropleth\",\"colorbar\":{\"outlinewidth\":0,\"ticks\":\"\"}}],\"histogram2d\":[{\"type\":\"histogram2d\",\"colorbar\":{\"outlinewidth\":0,\"ticks\":\"\"},\"colorscale\":[[0.0,\"#0d0887\"],[0.1111111111111111,\"#46039f\"],[0.2222222222222222,\"#7201a8\"],[0.3333333333333333,\"#9c179e\"],[0.4444444444444444,\"#bd3786\"],[0.5555555555555556,\"#d8576b\"],[0.6666666666666666,\"#ed7953\"],[0.7777777777777778,\"#fb9f3a\"],[0.8888888888888888,\"#fdca26\"],[1.0,\"#f0f921\"]]}],\"heatmap\":[{\"type\":\"heatmap\",\"colorbar\":{\"outlinewidth\":0,\"ticks\":\"\"},\"colorscale\":[[0.0,\"#0d0887\"],[0.1111111111111111,\"#46039f\"],[0.2222222222222222,\"#7201a8\"],[0.3333333333333333,\"#9c179e\"],[0.4444444444444444,\"#bd3786\"],[0.5555555555555556,\"#d8576b\"],[0.6666666666666666,\"#ed7953\"],[0.7777777777777778,\"#fb9f3a\"],[0.8888888888888888,\"#fdca26\"],[1.0,\"#f0f921\"]]}],\"heatmapgl\":[{\"type\":\"heatmapgl\",\"colorbar\":{\"outlinewidth\":0,\"ticks\":\"\"},\"colorscale\":[[0.0,\"#0d0887\"],[0.1111111111111111,\"#46039f\"],[0.2222222222222222,\"#7201a8\"],[0.3333333333333333,\"#9c179e\"],[0.4444444444444444,\"#bd3786\"],[0.5555555555555556,\"#d8576b\"],[0.6666666666666666,\"#ed7953\"],[0.7777777777777778,\"#fb9f3a\"],[0.8888888888888888,\"#fdca26\"],[1.0,\"#f0f921\"]]}],\"contourcarpet\":[{\"type\":\"contourcarpet\",\"colorbar\":{\"outlinewidth\":0,\"ticks\":\"\"}}],\"contour\":[{\"type\":\"contour\",\"colorbar\":{\"outlinewidth\":0,\"ticks\":\"\"},\"colorscale\":[[0.0,\"#0d0887\"],[0.1111111111111111,\"#46039f\"],[0.2222222222222222,\"#7201a8\"],[0.3333333333333333,\"#9c179e\"],[0.4444444444444444,\"#bd3786\"],[0.5555555555555556,\"#d8576b\"],[0.6666666666666666,\"#ed7953\"],[0.7777777777777778,\"#fb9f3a\"],[0.8888888888888888,\"#fdca26\"],[1.0,\"#f0f921\"]]}],\"surface\":[{\"type\":\"surface\",\"colorbar\":{\"outlinewidth\":0,\"ticks\":\"\"},\"colorscale\":[[0.0,\"#0d0887\"],[0.1111111111111111,\"#46039f\"],[0.2222222222222222,\"#7201a8\"],[0.3333333333333333,\"#9c179e\"],[0.4444444444444444,\"#bd3786\"],[0.5555555555555556,\"#d8576b\"],[0.6666666666666666,\"#ed7953\"],[0.7777777777777778,\"#fb9f3a\"],[0.8888888888888888,\"#fdca26\"],[1.0,\"#f0f921\"]]}],\"mesh3d\":[{\"type\":\"mesh3d\",\"colorbar\":{\"outlinewidth\":0,\"ticks\":\"\"}}],\"scatter\":[{\"fillpattern\":{\"fillmode\":\"overlay\",\"size\":10,\"solidity\":0.2},\"type\":\"scatter\"}],\"parcoords\":[{\"type\":\"parcoords\",\"line\":{\"colorbar\":{\"outlinewidth\":0,\"ticks\":\"\"}}}],\"scatterpolargl\":[{\"type\":\"scatterpolargl\",\"marker\":{\"colorbar\":{\"outlinewidth\":0,\"ticks\":\"\"}}}],\"bar\":[{\"error_x\":{\"color\":\"#2a3f5f\"},\"error_y\":{\"color\":\"#2a3f5f\"},\"marker\":{\"line\":{\"color\":\"#E5ECF6\",\"width\":0.5},\"pattern\":{\"fillmode\":\"overlay\",\"size\":10,\"solidity\":0.2}},\"type\":\"bar\"}],\"scattergeo\":[{\"type\":\"scattergeo\",\"marker\":{\"colorbar\":{\"outlinewidth\":0,\"ticks\":\"\"}}}],\"scatterpolar\":[{\"type\":\"scatterpolar\",\"marker\":{\"colorbar\":{\"outlinewidth\":0,\"ticks\":\"\"}}}],\"histogram\":[{\"marker\":{\"pattern\":{\"fillmode\":\"overlay\",\"size\":10,\"solidity\":0.2}},\"type\":\"histogram\"}],\"scattergl\":[{\"type\":\"scattergl\",\"marker\":{\"colorbar\":{\"outlinewidth\":0,\"ticks\":\"\"}}}],\"scatter3d\":[{\"type\":\"scatter3d\",\"line\":{\"colorbar\":{\"outlinewidth\":0,\"ticks\":\"\"}},\"marker\":{\"colorbar\":{\"outlinewidth\":0,\"ticks\":\"\"}}}],\"scattermapbox\":[{\"type\":\"scattermapbox\",\"marker\":{\"colorbar\":{\"outlinewidth\":0,\"ticks\":\"\"}}}],\"scatterternary\":[{\"type\":\"scatterternary\",\"marker\":{\"colorbar\":{\"outlinewidth\":0,\"ticks\":\"\"}}}],\"scattercarpet\":[{\"type\":\"scattercarpet\",\"marker\":{\"colorbar\":{\"outlinewidth\":0,\"ticks\":\"\"}}}],\"carpet\":[{\"aaxis\":{\"endlinecolor\":\"#2a3f5f\",\"gridcolor\":\"white\",\"linecolor\":\"white\",\"minorgridcolor\":\"white\",\"startlinecolor\":\"#2a3f5f\"},\"baxis\":{\"endlinecolor\":\"#2a3f5f\",\"gridcolor\":\"white\",\"linecolor\":\"white\",\"minorgridcolor\":\"white\",\"startlinecolor\":\"#2a3f5f\"},\"type\":\"carpet\"}],\"table\":[{\"cells\":{\"fill\":{\"color\":\"#EBF0F8\"},\"line\":{\"color\":\"white\"}},\"header\":{\"fill\":{\"color\":\"#C8D4E3\"},\"line\":{\"color\":\"white\"}},\"type\":\"table\"}],\"barpolar\":[{\"marker\":{\"line\":{\"color\":\"#E5ECF6\",\"width\":0.5},\"pattern\":{\"fillmode\":\"overlay\",\"size\":10,\"solidity\":0.2}},\"type\":\"barpolar\"}],\"pie\":[{\"automargin\":true,\"type\":\"pie\"}]},\"layout\":{\"autotypenumbers\":\"strict\",\"colorway\":[\"#636efa\",\"#EF553B\",\"#00cc96\",\"#ab63fa\",\"#FFA15A\",\"#19d3f3\",\"#FF6692\",\"#B6E880\",\"#FF97FF\",\"#FECB52\"],\"font\":{\"color\":\"#2a3f5f\"},\"hovermode\":\"closest\",\"hoverlabel\":{\"align\":\"left\"},\"paper_bgcolor\":\"white\",\"plot_bgcolor\":\"#E5ECF6\",\"polar\":{\"bgcolor\":\"#E5ECF6\",\"angularaxis\":{\"gridcolor\":\"white\",\"linecolor\":\"white\",\"ticks\":\"\"},\"radialaxis\":{\"gridcolor\":\"white\",\"linecolor\":\"white\",\"ticks\":\"\"}},\"ternary\":{\"bgcolor\":\"#E5ECF6\",\"aaxis\":{\"gridcolor\":\"white\",\"linecolor\":\"white\",\"ticks\":\"\"},\"baxis\":{\"gridcolor\":\"white\",\"linecolor\":\"white\",\"ticks\":\"\"},\"caxis\":{\"gridcolor\":\"white\",\"linecolor\":\"white\",\"ticks\":\"\"}},\"coloraxis\":{\"colorbar\":{\"outlinewidth\":0,\"ticks\":\"\"}},\"colorscale\":{\"sequential\":[[0.0,\"#0d0887\"],[0.1111111111111111,\"#46039f\"],[0.2222222222222222,\"#7201a8\"],[0.3333333333333333,\"#9c179e\"],[0.4444444444444444,\"#bd3786\"],[0.5555555555555556,\"#d8576b\"],[0.6666666666666666,\"#ed7953\"],[0.7777777777777778,\"#fb9f3a\"],[0.8888888888888888,\"#fdca26\"],[1.0,\"#f0f921\"]],\"sequentialminus\":[[0.0,\"#0d0887\"],[0.1111111111111111,\"#46039f\"],[0.2222222222222222,\"#7201a8\"],[0.3333333333333333,\"#9c179e\"],[0.4444444444444444,\"#bd3786\"],[0.5555555555555556,\"#d8576b\"],[0.6666666666666666,\"#ed7953\"],[0.7777777777777778,\"#fb9f3a\"],[0.8888888888888888,\"#fdca26\"],[1.0,\"#f0f921\"]],\"diverging\":[[0,\"#8e0152\"],[0.1,\"#c51b7d\"],[0.2,\"#de77ae\"],[0.3,\"#f1b6da\"],[0.4,\"#fde0ef\"],[0.5,\"#f7f7f7\"],[0.6,\"#e6f5d0\"],[0.7,\"#b8e186\"],[0.8,\"#7fbc41\"],[0.9,\"#4d9221\"],[1,\"#276419\"]]},\"xaxis\":{\"gridcolor\":\"white\",\"linecolor\":\"white\",\"ticks\":\"\",\"title\":{\"standoff\":15},\"zerolinecolor\":\"white\",\"automargin\":true,\"zerolinewidth\":2},\"yaxis\":{\"gridcolor\":\"white\",\"linecolor\":\"white\",\"ticks\":\"\",\"title\":{\"standoff\":15},\"zerolinecolor\":\"white\",\"automargin\":true,\"zerolinewidth\":2},\"scene\":{\"xaxis\":{\"backgroundcolor\":\"#E5ECF6\",\"gridcolor\":\"white\",\"linecolor\":\"white\",\"showbackground\":true,\"ticks\":\"\",\"zerolinecolor\":\"white\",\"gridwidth\":2},\"yaxis\":{\"backgroundcolor\":\"#E5ECF6\",\"gridcolor\":\"white\",\"linecolor\":\"white\",\"showbackground\":true,\"ticks\":\"\",\"zerolinecolor\":\"white\",\"gridwidth\":2},\"zaxis\":{\"backgroundcolor\":\"#E5ECF6\",\"gridcolor\":\"white\",\"linecolor\":\"white\",\"showbackground\":true,\"ticks\":\"\",\"zerolinecolor\":\"white\",\"gridwidth\":2}},\"shapedefaults\":{\"line\":{\"color\":\"#2a3f5f\"}},\"annotationdefaults\":{\"arrowcolor\":\"#2a3f5f\",\"arrowhead\":0,\"arrowwidth\":1},\"geo\":{\"bgcolor\":\"white\",\"landcolor\":\"#E5ECF6\",\"subunitcolor\":\"white\",\"showland\":true,\"showlakes\":true,\"lakecolor\":\"white\"},\"title\":{\"x\":0.05},\"mapbox\":{\"style\":\"light\"}}},\"xaxis\":{\"anchor\":\"y\",\"domain\":[0.0,1.0],\"title\":{\"text\":\"Category\"},\"categoryorder\":\"total descending\",\"categoryarray\":[\"Everyone\",\"Teen\",\"Mature 17+\",\"Everyone 10+\",\"Adults only 18+\",\"Unrated\"],\"tickangle\":-90},\"yaxis\":{\"anchor\":\"x\",\"domain\":[0.0,1.0],\"title\":{\"text\":\"Count\"}},\"legend\":{\"title\":{\"text\":\"Content Rating\"},\"tracegroupgap\":0},\"title\":{\"text\":\"App developed for specific age group individuals\"},\"barmode\":\"relative\",\"width\":700,\"height\":450,\"plot_bgcolor\":\"snow\"},                        {\"responsive\": true}                    ).then(function(){\n",
       "                            \n",
       "var gd = document.getElementById('bc0be0ff-d134-4a4c-901c-23850d227ec8');\n",
       "var x = new MutationObserver(function (mutations, observer) {{\n",
       "        var display = window.getComputedStyle(gd).display;\n",
       "        if (!display || display === 'none') {{\n",
       "            console.log([gd, 'removed!']);\n",
       "            Plotly.purge(gd);\n",
       "            observer.disconnect();\n",
       "        }}\n",
       "}});\n",
       "\n",
       "// Listen for the removal of the full notebook cells\n",
       "var notebookContainer = gd.closest('#notebook-container');\n",
       "if (notebookContainer) {{\n",
       "    x.observe(notebookContainer, {childList: true});\n",
       "}}\n",
       "\n",
       "// Listen for the clearing of the current output cell\n",
       "var outputEl = gd.closest('.output');\n",
       "if (outputEl) {{\n",
       "    x.observe(outputEl, {childList: true});\n",
       "}}\n",
       "\n",
       "                        })                };                });            </script>        </div>"
      ]
     },
     "metadata": {},
     "output_type": "display_data"
    }
   ],
   "source": [
    "Apps_Category = df['Content Rating'].value_counts().reset_index()\n",
    "Apps_Category.columns = ['Content Rating', 'Count']\n",
    "\n",
    "# Assuming 'Apps_Category' is the DataFrame with category counts\n",
    "top_10_categories = Apps_Category.nlargest(10, 'Count')  # Get the top 10 categories by count\n",
    "\n",
    "fig = px.bar(top_10_categories, x='Content Rating', y='Count', \n",
    "             color = 'Content Rating', title=\"App developed for specific age group individuals\")\n",
    "fig.update_traces(width=0.5)\n",
    "fig.update_xaxes(categoryorder='total descending')  # Sort categories by count in ascending order\n",
    "fig.update_layout(width=700, height=450,plot_bgcolor='snow',\n",
    "    xaxis_title=\"Category\", yaxis_title=\"Count\", xaxis_tickangle = -90)\n",
    "\n",
    "\n",
    "fig.show()\n"
   ]
  },
  {
   "cell_type": "code",
   "execution_count": 56,
   "id": "19516192",
   "metadata": {
    "execution": {
     "iopub.execute_input": "2023-11-10T06:02:49.312894Z",
     "iopub.status.busy": "2023-11-10T06:02:49.312092Z",
     "iopub.status.idle": "2023-11-10T06:02:49.447290Z",
     "shell.execute_reply": "2023-11-10T06:02:49.446030Z"
    },
    "papermill": {
     "duration": 0.179146,
     "end_time": "2023-11-10T06:02:49.450370",
     "exception": false,
     "start_time": "2023-11-10T06:02:49.271224",
     "status": "completed"
    },
    "tags": []
   },
   "outputs": [
    {
     "data": {
      "text/html": [
       "<div>                            <div id=\"87b28571-b82a-474c-908f-b9feb07af900\" class=\"plotly-graph-div\" style=\"height:500px; width:800px;\"></div>            <script type=\"text/javascript\">                require([\"plotly\"], function(Plotly) {                    window.PLOTLYENV=window.PLOTLYENV || {};                                    if (document.getElementById(\"87b28571-b82a-474c-908f-b9feb07af900\")) {                    Plotly.newPlot(                        \"87b28571-b82a-474c-908f-b9feb07af900\",                        [{\"alignmentgroup\":\"True\",\"hovertemplate\":\"Category=%{x}\\u003cbr\\u003ecount=%{y}\\u003cextra\\u003e\\u003c\\u002fextra\\u003e\",\"legendgroup\":\"FAMILY\",\"marker\":{\"color\":\"#636efa\",\"pattern\":{\"shape\":\"\"}},\"name\":\"FAMILY\",\"offsetgroup\":\"FAMILY\",\"orientation\":\"v\",\"showlegend\":true,\"textposition\":\"auto\",\"x\":[\"FAMILY\"],\"xaxis\":\"x\",\"y\":[1498],\"yaxis\":\"y\",\"type\":\"bar\",\"width\":0.5},{\"alignmentgroup\":\"True\",\"hovertemplate\":\"Category=%{x}\\u003cbr\\u003ecount=%{y}\\u003cextra\\u003e\\u003c\\u002fextra\\u003e\",\"legendgroup\":\"TOOLS\",\"marker\":{\"color\":\"#EF553B\",\"pattern\":{\"shape\":\"\"}},\"name\":\"TOOLS\",\"offsetgroup\":\"TOOLS\",\"orientation\":\"v\",\"showlegend\":true,\"textposition\":\"auto\",\"x\":[\"TOOLS\"],\"xaxis\":\"x\",\"y\":[833],\"yaxis\":\"y\",\"type\":\"bar\",\"width\":0.5},{\"alignmentgroup\":\"True\",\"hovertemplate\":\"Category=%{x}\\u003cbr\\u003ecount=%{y}\\u003cextra\\u003e\\u003c\\u002fextra\\u003e\",\"legendgroup\":\"GAME\",\"marker\":{\"color\":\"#00cc96\",\"pattern\":{\"shape\":\"\"}},\"name\":\"GAME\",\"offsetgroup\":\"GAME\",\"orientation\":\"v\",\"showlegend\":true,\"textposition\":\"auto\",\"x\":[\"GAME\"],\"xaxis\":\"x\",\"y\":[595],\"yaxis\":\"y\",\"type\":\"bar\",\"width\":0.5},{\"alignmentgroup\":\"True\",\"hovertemplate\":\"Category=%{x}\\u003cbr\\u003ecount=%{y}\\u003cextra\\u003e\\u003c\\u002fextra\\u003e\",\"legendgroup\":\"BUSINESS\",\"marker\":{\"color\":\"#ab63fa\",\"pattern\":{\"shape\":\"\"}},\"name\":\"BUSINESS\",\"offsetgroup\":\"BUSINESS\",\"orientation\":\"v\",\"showlegend\":true,\"textposition\":\"auto\",\"x\":[\"BUSINESS\"],\"xaxis\":\"x\",\"y\":[412],\"yaxis\":\"y\",\"type\":\"bar\",\"width\":0.5},{\"alignmentgroup\":\"True\",\"hovertemplate\":\"Category=%{x}\\u003cbr\\u003ecount=%{y}\\u003cextra\\u003e\\u003c\\u002fextra\\u003e\",\"legendgroup\":\"PRODUCTIVITY\",\"marker\":{\"color\":\"#FFA15A\",\"pattern\":{\"shape\":\"\"}},\"name\":\"PRODUCTIVITY\",\"offsetgroup\":\"PRODUCTIVITY\",\"orientation\":\"v\",\"showlegend\":true,\"textposition\":\"auto\",\"x\":[\"PRODUCTIVITY\"],\"xaxis\":\"x\",\"y\":[396],\"yaxis\":\"y\",\"type\":\"bar\",\"width\":0.5},{\"alignmentgroup\":\"True\",\"hovertemplate\":\"Category=%{x}\\u003cbr\\u003ecount=%{y}\\u003cextra\\u003e\\u003c\\u002fextra\\u003e\",\"legendgroup\":\"MEDICAL\",\"marker\":{\"color\":\"#19d3f3\",\"pattern\":{\"shape\":\"\"}},\"name\":\"MEDICAL\",\"offsetgroup\":\"MEDICAL\",\"orientation\":\"v\",\"showlegend\":true,\"textposition\":\"auto\",\"x\":[\"MEDICAL\"],\"xaxis\":\"x\",\"y\":[390],\"yaxis\":\"y\",\"type\":\"bar\",\"width\":0.5},{\"alignmentgroup\":\"True\",\"hovertemplate\":\"Category=%{x}\\u003cbr\\u003ecount=%{y}\\u003cextra\\u003e\\u003c\\u002fextra\\u003e\",\"legendgroup\":\"FINANCE\",\"marker\":{\"color\":\"#FF6692\",\"pattern\":{\"shape\":\"\"}},\"name\":\"FINANCE\",\"offsetgroup\":\"FINANCE\",\"orientation\":\"v\",\"showlegend\":true,\"textposition\":\"auto\",\"x\":[\"FINANCE\"],\"xaxis\":\"x\",\"y\":[355],\"yaxis\":\"y\",\"type\":\"bar\",\"width\":0.5},{\"alignmentgroup\":\"True\",\"hovertemplate\":\"Category=%{x}\\u003cbr\\u003ecount=%{y}\\u003cextra\\u003e\\u003c\\u002fextra\\u003e\",\"legendgroup\":\"LIFESTYLE\",\"marker\":{\"color\":\"#B6E880\",\"pattern\":{\"shape\":\"\"}},\"name\":\"LIFESTYLE\",\"offsetgroup\":\"LIFESTYLE\",\"orientation\":\"v\",\"showlegend\":true,\"textposition\":\"auto\",\"x\":[\"LIFESTYLE\"],\"xaxis\":\"x\",\"y\":[337],\"yaxis\":\"y\",\"type\":\"bar\",\"width\":0.5},{\"alignmentgroup\":\"True\",\"hovertemplate\":\"Category=%{x}\\u003cbr\\u003ecount=%{y}\\u003cextra\\u003e\\u003c\\u002fextra\\u003e\",\"legendgroup\":\"COMMUNICATION\",\"marker\":{\"color\":\"#FF97FF\",\"pattern\":{\"shape\":\"\"}},\"name\":\"COMMUNICATION\",\"offsetgroup\":\"COMMUNICATION\",\"orientation\":\"v\",\"showlegend\":true,\"textposition\":\"auto\",\"x\":[\"COMMUNICATION\"],\"xaxis\":\"x\",\"y\":[325],\"yaxis\":\"y\",\"type\":\"bar\",\"width\":0.5},{\"alignmentgroup\":\"True\",\"hovertemplate\":\"Category=%{x}\\u003cbr\\u003ecount=%{y}\\u003cextra\\u003e\\u003c\\u002fextra\\u003e\",\"legendgroup\":\"PERSONALIZATION\",\"marker\":{\"color\":\"#FECB52\",\"pattern\":{\"shape\":\"\"}},\"name\":\"PERSONALIZATION\",\"offsetgroup\":\"PERSONALIZATION\",\"orientation\":\"v\",\"showlegend\":true,\"textposition\":\"auto\",\"x\":[\"PERSONALIZATION\"],\"xaxis\":\"x\",\"y\":[318],\"yaxis\":\"y\",\"type\":\"bar\",\"width\":0.5}],                        {\"template\":{\"data\":{\"histogram2dcontour\":[{\"type\":\"histogram2dcontour\",\"colorbar\":{\"outlinewidth\":0,\"ticks\":\"\"},\"colorscale\":[[0.0,\"#0d0887\"],[0.1111111111111111,\"#46039f\"],[0.2222222222222222,\"#7201a8\"],[0.3333333333333333,\"#9c179e\"],[0.4444444444444444,\"#bd3786\"],[0.5555555555555556,\"#d8576b\"],[0.6666666666666666,\"#ed7953\"],[0.7777777777777778,\"#fb9f3a\"],[0.8888888888888888,\"#fdca26\"],[1.0,\"#f0f921\"]]}],\"choropleth\":[{\"type\":\"choropleth\",\"colorbar\":{\"outlinewidth\":0,\"ticks\":\"\"}}],\"histogram2d\":[{\"type\":\"histogram2d\",\"colorbar\":{\"outlinewidth\":0,\"ticks\":\"\"},\"colorscale\":[[0.0,\"#0d0887\"],[0.1111111111111111,\"#46039f\"],[0.2222222222222222,\"#7201a8\"],[0.3333333333333333,\"#9c179e\"],[0.4444444444444444,\"#bd3786\"],[0.5555555555555556,\"#d8576b\"],[0.6666666666666666,\"#ed7953\"],[0.7777777777777778,\"#fb9f3a\"],[0.8888888888888888,\"#fdca26\"],[1.0,\"#f0f921\"]]}],\"heatmap\":[{\"type\":\"heatmap\",\"colorbar\":{\"outlinewidth\":0,\"ticks\":\"\"},\"colorscale\":[[0.0,\"#0d0887\"],[0.1111111111111111,\"#46039f\"],[0.2222222222222222,\"#7201a8\"],[0.3333333333333333,\"#9c179e\"],[0.4444444444444444,\"#bd3786\"],[0.5555555555555556,\"#d8576b\"],[0.6666666666666666,\"#ed7953\"],[0.7777777777777778,\"#fb9f3a\"],[0.8888888888888888,\"#fdca26\"],[1.0,\"#f0f921\"]]}],\"heatmapgl\":[{\"type\":\"heatmapgl\",\"colorbar\":{\"outlinewidth\":0,\"ticks\":\"\"},\"colorscale\":[[0.0,\"#0d0887\"],[0.1111111111111111,\"#46039f\"],[0.2222222222222222,\"#7201a8\"],[0.3333333333333333,\"#9c179e\"],[0.4444444444444444,\"#bd3786\"],[0.5555555555555556,\"#d8576b\"],[0.6666666666666666,\"#ed7953\"],[0.7777777777777778,\"#fb9f3a\"],[0.8888888888888888,\"#fdca26\"],[1.0,\"#f0f921\"]]}],\"contourcarpet\":[{\"type\":\"contourcarpet\",\"colorbar\":{\"outlinewidth\":0,\"ticks\":\"\"}}],\"contour\":[{\"type\":\"contour\",\"colorbar\":{\"outlinewidth\":0,\"ticks\":\"\"},\"colorscale\":[[0.0,\"#0d0887\"],[0.1111111111111111,\"#46039f\"],[0.2222222222222222,\"#7201a8\"],[0.3333333333333333,\"#9c179e\"],[0.4444444444444444,\"#bd3786\"],[0.5555555555555556,\"#d8576b\"],[0.6666666666666666,\"#ed7953\"],[0.7777777777777778,\"#fb9f3a\"],[0.8888888888888888,\"#fdca26\"],[1.0,\"#f0f921\"]]}],\"surface\":[{\"type\":\"surface\",\"colorbar\":{\"outlinewidth\":0,\"ticks\":\"\"},\"colorscale\":[[0.0,\"#0d0887\"],[0.1111111111111111,\"#46039f\"],[0.2222222222222222,\"#7201a8\"],[0.3333333333333333,\"#9c179e\"],[0.4444444444444444,\"#bd3786\"],[0.5555555555555556,\"#d8576b\"],[0.6666666666666666,\"#ed7953\"],[0.7777777777777778,\"#fb9f3a\"],[0.8888888888888888,\"#fdca26\"],[1.0,\"#f0f921\"]]}],\"mesh3d\":[{\"type\":\"mesh3d\",\"colorbar\":{\"outlinewidth\":0,\"ticks\":\"\"}}],\"scatter\":[{\"fillpattern\":{\"fillmode\":\"overlay\",\"size\":10,\"solidity\":0.2},\"type\":\"scatter\"}],\"parcoords\":[{\"type\":\"parcoords\",\"line\":{\"colorbar\":{\"outlinewidth\":0,\"ticks\":\"\"}}}],\"scatterpolargl\":[{\"type\":\"scatterpolargl\",\"marker\":{\"colorbar\":{\"outlinewidth\":0,\"ticks\":\"\"}}}],\"bar\":[{\"error_x\":{\"color\":\"#2a3f5f\"},\"error_y\":{\"color\":\"#2a3f5f\"},\"marker\":{\"line\":{\"color\":\"#E5ECF6\",\"width\":0.5},\"pattern\":{\"fillmode\":\"overlay\",\"size\":10,\"solidity\":0.2}},\"type\":\"bar\"}],\"scattergeo\":[{\"type\":\"scattergeo\",\"marker\":{\"colorbar\":{\"outlinewidth\":0,\"ticks\":\"\"}}}],\"scatterpolar\":[{\"type\":\"scatterpolar\",\"marker\":{\"colorbar\":{\"outlinewidth\":0,\"ticks\":\"\"}}}],\"histogram\":[{\"marker\":{\"pattern\":{\"fillmode\":\"overlay\",\"size\":10,\"solidity\":0.2}},\"type\":\"histogram\"}],\"scattergl\":[{\"type\":\"scattergl\",\"marker\":{\"colorbar\":{\"outlinewidth\":0,\"ticks\":\"\"}}}],\"scatter3d\":[{\"type\":\"scatter3d\",\"line\":{\"colorbar\":{\"outlinewidth\":0,\"ticks\":\"\"}},\"marker\":{\"colorbar\":{\"outlinewidth\":0,\"ticks\":\"\"}}}],\"scattermapbox\":[{\"type\":\"scattermapbox\",\"marker\":{\"colorbar\":{\"outlinewidth\":0,\"ticks\":\"\"}}}],\"scatterternary\":[{\"type\":\"scatterternary\",\"marker\":{\"colorbar\":{\"outlinewidth\":0,\"ticks\":\"\"}}}],\"scattercarpet\":[{\"type\":\"scattercarpet\",\"marker\":{\"colorbar\":{\"outlinewidth\":0,\"ticks\":\"\"}}}],\"carpet\":[{\"aaxis\":{\"endlinecolor\":\"#2a3f5f\",\"gridcolor\":\"white\",\"linecolor\":\"white\",\"minorgridcolor\":\"white\",\"startlinecolor\":\"#2a3f5f\"},\"baxis\":{\"endlinecolor\":\"#2a3f5f\",\"gridcolor\":\"white\",\"linecolor\":\"white\",\"minorgridcolor\":\"white\",\"startlinecolor\":\"#2a3f5f\"},\"type\":\"carpet\"}],\"table\":[{\"cells\":{\"fill\":{\"color\":\"#EBF0F8\"},\"line\":{\"color\":\"white\"}},\"header\":{\"fill\":{\"color\":\"#C8D4E3\"},\"line\":{\"color\":\"white\"}},\"type\":\"table\"}],\"barpolar\":[{\"marker\":{\"line\":{\"color\":\"#E5ECF6\",\"width\":0.5},\"pattern\":{\"fillmode\":\"overlay\",\"size\":10,\"solidity\":0.2}},\"type\":\"barpolar\"}],\"pie\":[{\"automargin\":true,\"type\":\"pie\"}]},\"layout\":{\"autotypenumbers\":\"strict\",\"colorway\":[\"#636efa\",\"#EF553B\",\"#00cc96\",\"#ab63fa\",\"#FFA15A\",\"#19d3f3\",\"#FF6692\",\"#B6E880\",\"#FF97FF\",\"#FECB52\"],\"font\":{\"color\":\"#2a3f5f\"},\"hovermode\":\"closest\",\"hoverlabel\":{\"align\":\"left\"},\"paper_bgcolor\":\"white\",\"plot_bgcolor\":\"#E5ECF6\",\"polar\":{\"bgcolor\":\"#E5ECF6\",\"angularaxis\":{\"gridcolor\":\"white\",\"linecolor\":\"white\",\"ticks\":\"\"},\"radialaxis\":{\"gridcolor\":\"white\",\"linecolor\":\"white\",\"ticks\":\"\"}},\"ternary\":{\"bgcolor\":\"#E5ECF6\",\"aaxis\":{\"gridcolor\":\"white\",\"linecolor\":\"white\",\"ticks\":\"\"},\"baxis\":{\"gridcolor\":\"white\",\"linecolor\":\"white\",\"ticks\":\"\"},\"caxis\":{\"gridcolor\":\"white\",\"linecolor\":\"white\",\"ticks\":\"\"}},\"coloraxis\":{\"colorbar\":{\"outlinewidth\":0,\"ticks\":\"\"}},\"colorscale\":{\"sequential\":[[0.0,\"#0d0887\"],[0.1111111111111111,\"#46039f\"],[0.2222222222222222,\"#7201a8\"],[0.3333333333333333,\"#9c179e\"],[0.4444444444444444,\"#bd3786\"],[0.5555555555555556,\"#d8576b\"],[0.6666666666666666,\"#ed7953\"],[0.7777777777777778,\"#fb9f3a\"],[0.8888888888888888,\"#fdca26\"],[1.0,\"#f0f921\"]],\"sequentialminus\":[[0.0,\"#0d0887\"],[0.1111111111111111,\"#46039f\"],[0.2222222222222222,\"#7201a8\"],[0.3333333333333333,\"#9c179e\"],[0.4444444444444444,\"#bd3786\"],[0.5555555555555556,\"#d8576b\"],[0.6666666666666666,\"#ed7953\"],[0.7777777777777778,\"#fb9f3a\"],[0.8888888888888888,\"#fdca26\"],[1.0,\"#f0f921\"]],\"diverging\":[[0,\"#8e0152\"],[0.1,\"#c51b7d\"],[0.2,\"#de77ae\"],[0.3,\"#f1b6da\"],[0.4,\"#fde0ef\"],[0.5,\"#f7f7f7\"],[0.6,\"#e6f5d0\"],[0.7,\"#b8e186\"],[0.8,\"#7fbc41\"],[0.9,\"#4d9221\"],[1,\"#276419\"]]},\"xaxis\":{\"gridcolor\":\"white\",\"linecolor\":\"white\",\"ticks\":\"\",\"title\":{\"standoff\":15},\"zerolinecolor\":\"white\",\"automargin\":true,\"zerolinewidth\":2},\"yaxis\":{\"gridcolor\":\"white\",\"linecolor\":\"white\",\"ticks\":\"\",\"title\":{\"standoff\":15},\"zerolinecolor\":\"white\",\"automargin\":true,\"zerolinewidth\":2},\"scene\":{\"xaxis\":{\"backgroundcolor\":\"#E5ECF6\",\"gridcolor\":\"white\",\"linecolor\":\"white\",\"showbackground\":true,\"ticks\":\"\",\"zerolinecolor\":\"white\",\"gridwidth\":2},\"yaxis\":{\"backgroundcolor\":\"#E5ECF6\",\"gridcolor\":\"white\",\"linecolor\":\"white\",\"showbackground\":true,\"ticks\":\"\",\"zerolinecolor\":\"white\",\"gridwidth\":2},\"zaxis\":{\"backgroundcolor\":\"#E5ECF6\",\"gridcolor\":\"white\",\"linecolor\":\"white\",\"showbackground\":true,\"ticks\":\"\",\"zerolinecolor\":\"white\",\"gridwidth\":2}},\"shapedefaults\":{\"line\":{\"color\":\"#2a3f5f\"}},\"annotationdefaults\":{\"arrowcolor\":\"#2a3f5f\",\"arrowhead\":0,\"arrowwidth\":1},\"geo\":{\"bgcolor\":\"white\",\"landcolor\":\"#E5ECF6\",\"subunitcolor\":\"white\",\"showland\":true,\"showlakes\":true,\"lakecolor\":\"white\"},\"title\":{\"x\":0.05},\"mapbox\":{\"style\":\"light\"}}},\"xaxis\":{\"anchor\":\"y\",\"domain\":[0.0,1.0],\"title\":{\"text\":\"Category\"},\"categoryorder\":\"array\",\"categoryarray\":[\"FAMILY\",\"TOOLS\",\"GAME\",\"BUSINESS\",\"PRODUCTIVITY\",\"MEDICAL\",\"FINANCE\",\"LIFESTYLE\",\"COMMUNICATION\",\"PERSONALIZATION\"],\"tickangle\":-90},\"yaxis\":{\"anchor\":\"x\",\"domain\":[0.0,1.0],\"title\":{\"text\":\"count\"}},\"legend\":{\"title\":{\"text\":\"Category\"},\"tracegroupgap\":0},\"title\":{\"text\":\"Top Categories liked by Everyone\"},\"barmode\":\"relative\",\"width\":800,\"height\":500},                        {\"responsive\": true}                    ).then(function(){\n",
       "                            \n",
       "var gd = document.getElementById('87b28571-b82a-474c-908f-b9feb07af900');\n",
       "var x = new MutationObserver(function (mutations, observer) {{\n",
       "        var display = window.getComputedStyle(gd).display;\n",
       "        if (!display || display === 'none') {{\n",
       "            console.log([gd, 'removed!']);\n",
       "            Plotly.purge(gd);\n",
       "            observer.disconnect();\n",
       "        }}\n",
       "}});\n",
       "\n",
       "// Listen for the removal of the full notebook cells\n",
       "var notebookContainer = gd.closest('#notebook-container');\n",
       "if (notebookContainer) {{\n",
       "    x.observe(notebookContainer, {childList: true});\n",
       "}}\n",
       "\n",
       "// Listen for the clearing of the current output cell\n",
       "var outputEl = gd.closest('.output');\n",
       "if (outputEl) {{\n",
       "    x.observe(outputEl, {childList: true});\n",
       "}}\n",
       "\n",
       "                        })                };                });            </script>        </div>"
      ]
     },
     "metadata": {},
     "output_type": "display_data"
    }
   ],
   "source": [
    "df_teens = df[df['Content Rating'] == 'Everyone']\n",
    "df_teens.head(2)\n",
    "\n",
    "# Group the filtered data by 'category' and count the occurrences\n",
    "category_counts = df_teens['Category'].value_counts().reset_index()\n",
    "category_counts\n",
    "\n",
    "category_counts.columns = ['Category', 'count']\n",
    "\n",
    "# Sort the data by count in descending order\n",
    "category_counts = category_counts.sort_values(by='count', ascending=False)\n",
    "\n",
    "# Select the top 10 categories\n",
    "category_counts_top_10 = category_counts.head(10)\n",
    "\n",
    "# Create a Plotly bar chart for the top 10 categories\n",
    "fig = px.bar(category_counts_top_10, x='Category', y='count', \n",
    "             title='Top Categories liked by Everyone', color = 'Category')\n",
    "# Fig layout\n",
    "fig.update_traces(width=0.5)\n",
    "fig.update_layout(width=800, height=500, xaxis_tickangle=-90)\n",
    "\n",
    "# Show the plot\n",
    "fig.show()"
   ]
  },
  {
   "cell_type": "code",
   "execution_count": 57,
   "id": "d45dcb87",
   "metadata": {
    "execution": {
     "iopub.execute_input": "2023-11-10T06:02:49.532652Z",
     "iopub.status.busy": "2023-11-10T06:02:49.532255Z",
     "iopub.status.idle": "2023-11-10T06:02:49.663686Z",
     "shell.execute_reply": "2023-11-10T06:02:49.662502Z"
    },
    "papermill": {
     "duration": 0.176104,
     "end_time": "2023-11-10T06:02:49.666097",
     "exception": false,
     "start_time": "2023-11-10T06:02:49.489993",
     "status": "completed"
    },
    "tags": []
   },
   "outputs": [
    {
     "data": {
      "text/html": [
       "<div>                            <div id=\"8ef92cce-54cf-4bda-b0cb-d7fc34968a2d\" class=\"plotly-graph-div\" style=\"height:500px; width:800px;\"></div>            <script type=\"text/javascript\">                require([\"plotly\"], function(Plotly) {                    window.PLOTLYENV=window.PLOTLYENV || {};                                    if (document.getElementById(\"8ef92cce-54cf-4bda-b0cb-d7fc34968a2d\")) {                    Plotly.newPlot(                        \"8ef92cce-54cf-4bda-b0cb-d7fc34968a2d\",                        [{\"alignmentgroup\":\"True\",\"hovertemplate\":\"Category=%{x}\\u003cbr\\u003ecount=%{y}\\u003cextra\\u003e\\u003c\\u002fextra\\u003e\",\"legendgroup\":\"GAME\",\"marker\":{\"color\":\"#636efa\",\"pattern\":{\"shape\":\"\"}},\"name\":\"GAME\",\"offsetgroup\":\"GAME\",\"orientation\":\"v\",\"showlegend\":true,\"textposition\":\"auto\",\"x\":[\"GAME\"],\"xaxis\":\"x\",\"y\":[326],\"yaxis\":\"y\",\"type\":\"bar\",\"width\":0.5},{\"alignmentgroup\":\"True\",\"hovertemplate\":\"Category=%{x}\\u003cbr\\u003ecount=%{y}\\u003cextra\\u003e\\u003c\\u002fextra\\u003e\",\"legendgroup\":\"FAMILY\",\"marker\":{\"color\":\"#EF553B\",\"pattern\":{\"shape\":\"\"}},\"name\":\"FAMILY\",\"offsetgroup\":\"FAMILY\",\"orientation\":\"v\",\"showlegend\":true,\"textposition\":\"auto\",\"x\":[\"FAMILY\"],\"xaxis\":\"x\",\"y\":[261],\"yaxis\":\"y\",\"type\":\"bar\",\"width\":0.5},{\"alignmentgroup\":\"True\",\"hovertemplate\":\"Category=%{x}\\u003cbr\\u003ecount=%{y}\\u003cextra\\u003e\\u003c\\u002fextra\\u003e\",\"legendgroup\":\"SOCIAL\",\"marker\":{\"color\":\"#00cc96\",\"pattern\":{\"shape\":\"\"}},\"name\":\"SOCIAL\",\"offsetgroup\":\"SOCIAL\",\"orientation\":\"v\",\"showlegend\":true,\"textposition\":\"auto\",\"x\":[\"SOCIAL\"],\"xaxis\":\"x\",\"y\":[121],\"yaxis\":\"y\",\"type\":\"bar\",\"width\":0.5},{\"alignmentgroup\":\"True\",\"hovertemplate\":\"Category=%{x}\\u003cbr\\u003ecount=%{y}\\u003cextra\\u003e\\u003c\\u002fextra\\u003e\",\"legendgroup\":\"ENTERTAINMENT\",\"marker\":{\"color\":\"#ab63fa\",\"pattern\":{\"shape\":\"\"}},\"name\":\"ENTERTAINMENT\",\"offsetgroup\":\"ENTERTAINMENT\",\"orientation\":\"v\",\"showlegend\":true,\"textposition\":\"auto\",\"x\":[\"ENTERTAINMENT\"],\"xaxis\":\"x\",\"y\":[66],\"yaxis\":\"y\",\"type\":\"bar\",\"width\":0.5},{\"alignmentgroup\":\"True\",\"hovertemplate\":\"Category=%{x}\\u003cbr\\u003ecount=%{y}\\u003cextra\\u003e\\u003c\\u002fextra\\u003e\",\"legendgroup\":\"PERSONALIZATION\",\"marker\":{\"color\":\"#FFA15A\",\"pattern\":{\"shape\":\"\"}},\"name\":\"PERSONALIZATION\",\"offsetgroup\":\"PERSONALIZATION\",\"orientation\":\"v\",\"showlegend\":true,\"textposition\":\"auto\",\"x\":[\"PERSONALIZATION\"],\"xaxis\":\"x\",\"y\":[54],\"yaxis\":\"y\",\"type\":\"bar\",\"width\":0.5},{\"alignmentgroup\":\"True\",\"hovertemplate\":\"Category=%{x}\\u003cbr\\u003ecount=%{y}\\u003cextra\\u003e\\u003c\\u002fextra\\u003e\",\"legendgroup\":\"SHOPPING\",\"marker\":{\"color\":\"#19d3f3\",\"pattern\":{\"shape\":\"\"}},\"name\":\"SHOPPING\",\"offsetgroup\":\"SHOPPING\",\"orientation\":\"v\",\"showlegend\":true,\"textposition\":\"auto\",\"x\":[\"SHOPPING\"],\"xaxis\":\"x\",\"y\":[38],\"yaxis\":\"y\",\"type\":\"bar\",\"width\":0.5},{\"alignmentgroup\":\"True\",\"hovertemplate\":\"Category=%{x}\\u003cbr\\u003ecount=%{y}\\u003cextra\\u003e\\u003c\\u002fextra\\u003e\",\"legendgroup\":\"NEWS_AND_MAGAZINES\",\"marker\":{\"color\":\"#FF6692\",\"pattern\":{\"shape\":\"\"}},\"name\":\"NEWS_AND_MAGAZINES\",\"offsetgroup\":\"NEWS_AND_MAGAZINES\",\"orientation\":\"v\",\"showlegend\":true,\"textposition\":\"auto\",\"x\":[\"NEWS_AND_MAGAZINES\"],\"xaxis\":\"x\",\"y\":[32],\"yaxis\":\"y\",\"type\":\"bar\",\"width\":0.5},{\"alignmentgroup\":\"True\",\"hovertemplate\":\"Category=%{x}\\u003cbr\\u003ecount=%{y}\\u003cextra\\u003e\\u003c\\u002fextra\\u003e\",\"legendgroup\":\"COMMUNICATION\",\"marker\":{\"color\":\"#B6E880\",\"pattern\":{\"shape\":\"\"}},\"name\":\"COMMUNICATION\",\"offsetgroup\":\"COMMUNICATION\",\"orientation\":\"v\",\"showlegend\":true,\"textposition\":\"auto\",\"x\":[\"COMMUNICATION\"],\"xaxis\":\"x\",\"y\":[31],\"yaxis\":\"y\",\"type\":\"bar\",\"width\":0.5},{\"alignmentgroup\":\"True\",\"hovertemplate\":\"Category=%{x}\\u003cbr\\u003ecount=%{y}\\u003cextra\\u003e\\u003c\\u002fextra\\u003e\",\"legendgroup\":\"VIDEO_PLAYERS\",\"marker\":{\"color\":\"#FF97FF\",\"pattern\":{\"shape\":\"\"}},\"name\":\"VIDEO_PLAYERS\",\"offsetgroup\":\"VIDEO_PLAYERS\",\"orientation\":\"v\",\"showlegend\":true,\"textposition\":\"auto\",\"x\":[\"VIDEO_PLAYERS\"],\"xaxis\":\"x\",\"y\":[24],\"yaxis\":\"y\",\"type\":\"bar\",\"width\":0.5},{\"alignmentgroup\":\"True\",\"hovertemplate\":\"Category=%{x}\\u003cbr\\u003ecount=%{y}\\u003cextra\\u003e\\u003c\\u002fextra\\u003e\",\"legendgroup\":\"COMICS\",\"marker\":{\"color\":\"#FECB52\",\"pattern\":{\"shape\":\"\"}},\"name\":\"COMICS\",\"offsetgroup\":\"COMICS\",\"orientation\":\"v\",\"showlegend\":true,\"textposition\":\"auto\",\"x\":[\"COMICS\"],\"xaxis\":\"x\",\"y\":[22],\"yaxis\":\"y\",\"type\":\"bar\",\"width\":0.5}],                        {\"template\":{\"data\":{\"histogram2dcontour\":[{\"type\":\"histogram2dcontour\",\"colorbar\":{\"outlinewidth\":0,\"ticks\":\"\"},\"colorscale\":[[0.0,\"#0d0887\"],[0.1111111111111111,\"#46039f\"],[0.2222222222222222,\"#7201a8\"],[0.3333333333333333,\"#9c179e\"],[0.4444444444444444,\"#bd3786\"],[0.5555555555555556,\"#d8576b\"],[0.6666666666666666,\"#ed7953\"],[0.7777777777777778,\"#fb9f3a\"],[0.8888888888888888,\"#fdca26\"],[1.0,\"#f0f921\"]]}],\"choropleth\":[{\"type\":\"choropleth\",\"colorbar\":{\"outlinewidth\":0,\"ticks\":\"\"}}],\"histogram2d\":[{\"type\":\"histogram2d\",\"colorbar\":{\"outlinewidth\":0,\"ticks\":\"\"},\"colorscale\":[[0.0,\"#0d0887\"],[0.1111111111111111,\"#46039f\"],[0.2222222222222222,\"#7201a8\"],[0.3333333333333333,\"#9c179e\"],[0.4444444444444444,\"#bd3786\"],[0.5555555555555556,\"#d8576b\"],[0.6666666666666666,\"#ed7953\"],[0.7777777777777778,\"#fb9f3a\"],[0.8888888888888888,\"#fdca26\"],[1.0,\"#f0f921\"]]}],\"heatmap\":[{\"type\":\"heatmap\",\"colorbar\":{\"outlinewidth\":0,\"ticks\":\"\"},\"colorscale\":[[0.0,\"#0d0887\"],[0.1111111111111111,\"#46039f\"],[0.2222222222222222,\"#7201a8\"],[0.3333333333333333,\"#9c179e\"],[0.4444444444444444,\"#bd3786\"],[0.5555555555555556,\"#d8576b\"],[0.6666666666666666,\"#ed7953\"],[0.7777777777777778,\"#fb9f3a\"],[0.8888888888888888,\"#fdca26\"],[1.0,\"#f0f921\"]]}],\"heatmapgl\":[{\"type\":\"heatmapgl\",\"colorbar\":{\"outlinewidth\":0,\"ticks\":\"\"},\"colorscale\":[[0.0,\"#0d0887\"],[0.1111111111111111,\"#46039f\"],[0.2222222222222222,\"#7201a8\"],[0.3333333333333333,\"#9c179e\"],[0.4444444444444444,\"#bd3786\"],[0.5555555555555556,\"#d8576b\"],[0.6666666666666666,\"#ed7953\"],[0.7777777777777778,\"#fb9f3a\"],[0.8888888888888888,\"#fdca26\"],[1.0,\"#f0f921\"]]}],\"contourcarpet\":[{\"type\":\"contourcarpet\",\"colorbar\":{\"outlinewidth\":0,\"ticks\":\"\"}}],\"contour\":[{\"type\":\"contour\",\"colorbar\":{\"outlinewidth\":0,\"ticks\":\"\"},\"colorscale\":[[0.0,\"#0d0887\"],[0.1111111111111111,\"#46039f\"],[0.2222222222222222,\"#7201a8\"],[0.3333333333333333,\"#9c179e\"],[0.4444444444444444,\"#bd3786\"],[0.5555555555555556,\"#d8576b\"],[0.6666666666666666,\"#ed7953\"],[0.7777777777777778,\"#fb9f3a\"],[0.8888888888888888,\"#fdca26\"],[1.0,\"#f0f921\"]]}],\"surface\":[{\"type\":\"surface\",\"colorbar\":{\"outlinewidth\":0,\"ticks\":\"\"},\"colorscale\":[[0.0,\"#0d0887\"],[0.1111111111111111,\"#46039f\"],[0.2222222222222222,\"#7201a8\"],[0.3333333333333333,\"#9c179e\"],[0.4444444444444444,\"#bd3786\"],[0.5555555555555556,\"#d8576b\"],[0.6666666666666666,\"#ed7953\"],[0.7777777777777778,\"#fb9f3a\"],[0.8888888888888888,\"#fdca26\"],[1.0,\"#f0f921\"]]}],\"mesh3d\":[{\"type\":\"mesh3d\",\"colorbar\":{\"outlinewidth\":0,\"ticks\":\"\"}}],\"scatter\":[{\"fillpattern\":{\"fillmode\":\"overlay\",\"size\":10,\"solidity\":0.2},\"type\":\"scatter\"}],\"parcoords\":[{\"type\":\"parcoords\",\"line\":{\"colorbar\":{\"outlinewidth\":0,\"ticks\":\"\"}}}],\"scatterpolargl\":[{\"type\":\"scatterpolargl\",\"marker\":{\"colorbar\":{\"outlinewidth\":0,\"ticks\":\"\"}}}],\"bar\":[{\"error_x\":{\"color\":\"#2a3f5f\"},\"error_y\":{\"color\":\"#2a3f5f\"},\"marker\":{\"line\":{\"color\":\"#E5ECF6\",\"width\":0.5},\"pattern\":{\"fillmode\":\"overlay\",\"size\":10,\"solidity\":0.2}},\"type\":\"bar\"}],\"scattergeo\":[{\"type\":\"scattergeo\",\"marker\":{\"colorbar\":{\"outlinewidth\":0,\"ticks\":\"\"}}}],\"scatterpolar\":[{\"type\":\"scatterpolar\",\"marker\":{\"colorbar\":{\"outlinewidth\":0,\"ticks\":\"\"}}}],\"histogram\":[{\"marker\":{\"pattern\":{\"fillmode\":\"overlay\",\"size\":10,\"solidity\":0.2}},\"type\":\"histogram\"}],\"scattergl\":[{\"type\":\"scattergl\",\"marker\":{\"colorbar\":{\"outlinewidth\":0,\"ticks\":\"\"}}}],\"scatter3d\":[{\"type\":\"scatter3d\",\"line\":{\"colorbar\":{\"outlinewidth\":0,\"ticks\":\"\"}},\"marker\":{\"colorbar\":{\"outlinewidth\":0,\"ticks\":\"\"}}}],\"scattermapbox\":[{\"type\":\"scattermapbox\",\"marker\":{\"colorbar\":{\"outlinewidth\":0,\"ticks\":\"\"}}}],\"scatterternary\":[{\"type\":\"scatterternary\",\"marker\":{\"colorbar\":{\"outlinewidth\":0,\"ticks\":\"\"}}}],\"scattercarpet\":[{\"type\":\"scattercarpet\",\"marker\":{\"colorbar\":{\"outlinewidth\":0,\"ticks\":\"\"}}}],\"carpet\":[{\"aaxis\":{\"endlinecolor\":\"#2a3f5f\",\"gridcolor\":\"white\",\"linecolor\":\"white\",\"minorgridcolor\":\"white\",\"startlinecolor\":\"#2a3f5f\"},\"baxis\":{\"endlinecolor\":\"#2a3f5f\",\"gridcolor\":\"white\",\"linecolor\":\"white\",\"minorgridcolor\":\"white\",\"startlinecolor\":\"#2a3f5f\"},\"type\":\"carpet\"}],\"table\":[{\"cells\":{\"fill\":{\"color\":\"#EBF0F8\"},\"line\":{\"color\":\"white\"}},\"header\":{\"fill\":{\"color\":\"#C8D4E3\"},\"line\":{\"color\":\"white\"}},\"type\":\"table\"}],\"barpolar\":[{\"marker\":{\"line\":{\"color\":\"#E5ECF6\",\"width\":0.5},\"pattern\":{\"fillmode\":\"overlay\",\"size\":10,\"solidity\":0.2}},\"type\":\"barpolar\"}],\"pie\":[{\"automargin\":true,\"type\":\"pie\"}]},\"layout\":{\"autotypenumbers\":\"strict\",\"colorway\":[\"#636efa\",\"#EF553B\",\"#00cc96\",\"#ab63fa\",\"#FFA15A\",\"#19d3f3\",\"#FF6692\",\"#B6E880\",\"#FF97FF\",\"#FECB52\"],\"font\":{\"color\":\"#2a3f5f\"},\"hovermode\":\"closest\",\"hoverlabel\":{\"align\":\"left\"},\"paper_bgcolor\":\"white\",\"plot_bgcolor\":\"#E5ECF6\",\"polar\":{\"bgcolor\":\"#E5ECF6\",\"angularaxis\":{\"gridcolor\":\"white\",\"linecolor\":\"white\",\"ticks\":\"\"},\"radialaxis\":{\"gridcolor\":\"white\",\"linecolor\":\"white\",\"ticks\":\"\"}},\"ternary\":{\"bgcolor\":\"#E5ECF6\",\"aaxis\":{\"gridcolor\":\"white\",\"linecolor\":\"white\",\"ticks\":\"\"},\"baxis\":{\"gridcolor\":\"white\",\"linecolor\":\"white\",\"ticks\":\"\"},\"caxis\":{\"gridcolor\":\"white\",\"linecolor\":\"white\",\"ticks\":\"\"}},\"coloraxis\":{\"colorbar\":{\"outlinewidth\":0,\"ticks\":\"\"}},\"colorscale\":{\"sequential\":[[0.0,\"#0d0887\"],[0.1111111111111111,\"#46039f\"],[0.2222222222222222,\"#7201a8\"],[0.3333333333333333,\"#9c179e\"],[0.4444444444444444,\"#bd3786\"],[0.5555555555555556,\"#d8576b\"],[0.6666666666666666,\"#ed7953\"],[0.7777777777777778,\"#fb9f3a\"],[0.8888888888888888,\"#fdca26\"],[1.0,\"#f0f921\"]],\"sequentialminus\":[[0.0,\"#0d0887\"],[0.1111111111111111,\"#46039f\"],[0.2222222222222222,\"#7201a8\"],[0.3333333333333333,\"#9c179e\"],[0.4444444444444444,\"#bd3786\"],[0.5555555555555556,\"#d8576b\"],[0.6666666666666666,\"#ed7953\"],[0.7777777777777778,\"#fb9f3a\"],[0.8888888888888888,\"#fdca26\"],[1.0,\"#f0f921\"]],\"diverging\":[[0,\"#8e0152\"],[0.1,\"#c51b7d\"],[0.2,\"#de77ae\"],[0.3,\"#f1b6da\"],[0.4,\"#fde0ef\"],[0.5,\"#f7f7f7\"],[0.6,\"#e6f5d0\"],[0.7,\"#b8e186\"],[0.8,\"#7fbc41\"],[0.9,\"#4d9221\"],[1,\"#276419\"]]},\"xaxis\":{\"gridcolor\":\"white\",\"linecolor\":\"white\",\"ticks\":\"\",\"title\":{\"standoff\":15},\"zerolinecolor\":\"white\",\"automargin\":true,\"zerolinewidth\":2},\"yaxis\":{\"gridcolor\":\"white\",\"linecolor\":\"white\",\"ticks\":\"\",\"title\":{\"standoff\":15},\"zerolinecolor\":\"white\",\"automargin\":true,\"zerolinewidth\":2},\"scene\":{\"xaxis\":{\"backgroundcolor\":\"#E5ECF6\",\"gridcolor\":\"white\",\"linecolor\":\"white\",\"showbackground\":true,\"ticks\":\"\",\"zerolinecolor\":\"white\",\"gridwidth\":2},\"yaxis\":{\"backgroundcolor\":\"#E5ECF6\",\"gridcolor\":\"white\",\"linecolor\":\"white\",\"showbackground\":true,\"ticks\":\"\",\"zerolinecolor\":\"white\",\"gridwidth\":2},\"zaxis\":{\"backgroundcolor\":\"#E5ECF6\",\"gridcolor\":\"white\",\"linecolor\":\"white\",\"showbackground\":true,\"ticks\":\"\",\"zerolinecolor\":\"white\",\"gridwidth\":2}},\"shapedefaults\":{\"line\":{\"color\":\"#2a3f5f\"}},\"annotationdefaults\":{\"arrowcolor\":\"#2a3f5f\",\"arrowhead\":0,\"arrowwidth\":1},\"geo\":{\"bgcolor\":\"white\",\"landcolor\":\"#E5ECF6\",\"subunitcolor\":\"white\",\"showland\":true,\"showlakes\":true,\"lakecolor\":\"white\"},\"title\":{\"x\":0.05},\"mapbox\":{\"style\":\"light\"}}},\"xaxis\":{\"anchor\":\"y\",\"domain\":[0.0,1.0],\"title\":{\"text\":\"Category\"},\"categoryorder\":\"array\",\"categoryarray\":[\"GAME\",\"FAMILY\",\"SOCIAL\",\"ENTERTAINMENT\",\"PERSONALIZATION\",\"SHOPPING\",\"NEWS_AND_MAGAZINES\",\"COMMUNICATION\",\"VIDEO_PLAYERS\",\"COMICS\"],\"tickangle\":-90},\"yaxis\":{\"anchor\":\"x\",\"domain\":[0.0,1.0],\"title\":{\"text\":\"count\"}},\"legend\":{\"title\":{\"text\":\"Category\"},\"tracegroupgap\":0},\"title\":{\"text\":\"Top Categories liked by Teens\"},\"barmode\":\"relative\",\"width\":800,\"height\":500},                        {\"responsive\": true}                    ).then(function(){\n",
       "                            \n",
       "var gd = document.getElementById('8ef92cce-54cf-4bda-b0cb-d7fc34968a2d');\n",
       "var x = new MutationObserver(function (mutations, observer) {{\n",
       "        var display = window.getComputedStyle(gd).display;\n",
       "        if (!display || display === 'none') {{\n",
       "            console.log([gd, 'removed!']);\n",
       "            Plotly.purge(gd);\n",
       "            observer.disconnect();\n",
       "        }}\n",
       "}});\n",
       "\n",
       "// Listen for the removal of the full notebook cells\n",
       "var notebookContainer = gd.closest('#notebook-container');\n",
       "if (notebookContainer) {{\n",
       "    x.observe(notebookContainer, {childList: true});\n",
       "}}\n",
       "\n",
       "// Listen for the clearing of the current output cell\n",
       "var outputEl = gd.closest('.output');\n",
       "if (outputEl) {{\n",
       "    x.observe(outputEl, {childList: true});\n",
       "}}\n",
       "\n",
       "                        })                };                });            </script>        </div>"
      ]
     },
     "metadata": {},
     "output_type": "display_data"
    }
   ],
   "source": [
    "df_teens = df[df['Content Rating'] == 'Teen']\n",
    "df_teens.head(2)\n",
    "\n",
    "# Group the filtered data by 'category' and count the occurrences\n",
    "category_counts = df_teens['Category'].value_counts().reset_index()\n",
    "category_counts\n",
    "\n",
    "category_counts.columns = ['Category', 'count']\n",
    "\n",
    "# Sort the data by count in descending order\n",
    "category_counts = category_counts.sort_values(by='count', ascending=False)\n",
    "\n",
    "# Select the top 10 categories\n",
    "category_counts_top_10 = category_counts.head(10)\n",
    "\n",
    "# Create a Plotly bar chart for the top 10 categories\n",
    "fig = px.bar(category_counts_top_10, x='Category', y='count', title='Top Categories liked by Teens', color = 'Category')\n",
    "# Fig layout\n",
    "fig.update_traces(width=0.5)\n",
    "fig.update_layout(width=800, height=500, xaxis_tickangle=-90)\n",
    "\n",
    "# Show the plot\n",
    "fig.show()"
   ]
  },
  {
   "cell_type": "code",
   "execution_count": 58,
   "id": "5616233f",
   "metadata": {
    "execution": {
     "iopub.execute_input": "2023-11-10T06:02:49.750059Z",
     "iopub.status.busy": "2023-11-10T06:02:49.749615Z",
     "iopub.status.idle": "2023-11-10T06:02:49.879824Z",
     "shell.execute_reply": "2023-11-10T06:02:49.878651Z"
    },
    "papermill": {
     "duration": 0.175315,
     "end_time": "2023-11-10T06:02:49.882371",
     "exception": false,
     "start_time": "2023-11-10T06:02:49.707056",
     "status": "completed"
    },
    "tags": []
   },
   "outputs": [
    {
     "data": {
      "text/html": [
       "<div>                            <div id=\"cb9505c0-9666-463a-ba12-40cf4101a4d5\" class=\"plotly-graph-div\" style=\"height:500px; width:800px;\"></div>            <script type=\"text/javascript\">                require([\"plotly\"], function(Plotly) {                    window.PLOTLYENV=window.PLOTLYENV || {};                                    if (document.getElementById(\"cb9505c0-9666-463a-ba12-40cf4101a4d5\")) {                    Plotly.newPlot(                        \"cb9505c0-9666-463a-ba12-40cf4101a4d5\",                        [{\"alignmentgroup\":\"True\",\"hovertemplate\":\"Category=%{x}\\u003cbr\\u003ecount=%{y}\\u003cextra\\u003e\\u003c\\u002fextra\\u003e\",\"legendgroup\":\"DATING\",\"marker\":{\"color\":\"#636efa\",\"pattern\":{\"shape\":\"\"}},\"name\":\"DATING\",\"offsetgroup\":\"DATING\",\"orientation\":\"v\",\"showlegend\":true,\"textposition\":\"auto\",\"x\":[\"DATING\"],\"xaxis\":\"x\",\"y\":[168],\"yaxis\":\"y\",\"type\":\"bar\",\"width\":0.5},{\"alignmentgroup\":\"True\",\"hovertemplate\":\"Category=%{x}\\u003cbr\\u003ecount=%{y}\\u003cextra\\u003e\\u003c\\u002fextra\\u003e\",\"legendgroup\":\"GAME\",\"marker\":{\"color\":\"#EF553B\",\"pattern\":{\"shape\":\"\"}},\"name\":\"GAME\",\"offsetgroup\":\"GAME\",\"orientation\":\"v\",\"showlegend\":true,\"textposition\":\"auto\",\"x\":[\"GAME\"],\"xaxis\":\"x\",\"y\":[72],\"yaxis\":\"y\",\"type\":\"bar\",\"width\":0.5},{\"alignmentgroup\":\"True\",\"hovertemplate\":\"Category=%{x}\\u003cbr\\u003ecount=%{y}\\u003cextra\\u003e\\u003c\\u002fextra\\u003e\",\"legendgroup\":\"SOCIAL\",\"marker\":{\"color\":\"#00cc96\",\"pattern\":{\"shape\":\"\"}},\"name\":\"SOCIAL\",\"offsetgroup\":\"SOCIAL\",\"orientation\":\"v\",\"showlegend\":true,\"textposition\":\"auto\",\"x\":[\"SOCIAL\"],\"xaxis\":\"x\",\"y\":[59],\"yaxis\":\"y\",\"type\":\"bar\",\"width\":0.5},{\"alignmentgroup\":\"True\",\"hovertemplate\":\"Category=%{x}\\u003cbr\\u003ecount=%{y}\\u003cextra\\u003e\\u003c\\u002fextra\\u003e\",\"legendgroup\":\"FAMILY\",\"marker\":{\"color\":\"#ab63fa\",\"pattern\":{\"shape\":\"\"}},\"name\":\"FAMILY\",\"offsetgroup\":\"FAMILY\",\"orientation\":\"v\",\"showlegend\":true,\"textposition\":\"auto\",\"x\":[\"FAMILY\"],\"xaxis\":\"x\",\"y\":[50],\"yaxis\":\"y\",\"type\":\"bar\",\"width\":0.5},{\"alignmentgroup\":\"True\",\"hovertemplate\":\"Category=%{x}\\u003cbr\\u003ecount=%{y}\\u003cextra\\u003e\\u003c\\u002fextra\\u003e\",\"legendgroup\":\"NEWS_AND_MAGAZINES\",\"marker\":{\"color\":\"#FFA15A\",\"pattern\":{\"shape\":\"\"}},\"name\":\"NEWS_AND_MAGAZINES\",\"offsetgroup\":\"NEWS_AND_MAGAZINES\",\"orientation\":\"v\",\"showlegend\":true,\"textposition\":\"auto\",\"x\":[\"NEWS_AND_MAGAZINES\"],\"xaxis\":\"x\",\"y\":[13],\"yaxis\":\"y\",\"type\":\"bar\",\"width\":0.5},{\"alignmentgroup\":\"True\",\"hovertemplate\":\"Category=%{x}\\u003cbr\\u003ecount=%{y}\\u003cextra\\u003e\\u003c\\u002fextra\\u003e\",\"legendgroup\":\"COMMUNICATION\",\"marker\":{\"color\":\"#19d3f3\",\"pattern\":{\"shape\":\"\"}},\"name\":\"COMMUNICATION\",\"offsetgroup\":\"COMMUNICATION\",\"orientation\":\"v\",\"showlegend\":true,\"textposition\":\"auto\",\"x\":[\"COMMUNICATION\"],\"xaxis\":\"x\",\"y\":[10],\"yaxis\":\"y\",\"type\":\"bar\",\"width\":0.5},{\"alignmentgroup\":\"True\",\"hovertemplate\":\"Category=%{x}\\u003cbr\\u003ecount=%{y}\\u003cextra\\u003e\\u003c\\u002fextra\\u003e\",\"legendgroup\":\"LIFESTYLE\",\"marker\":{\"color\":\"#FF6692\",\"pattern\":{\"shape\":\"\"}},\"name\":\"LIFESTYLE\",\"offsetgroup\":\"LIFESTYLE\",\"orientation\":\"v\",\"showlegend\":true,\"textposition\":\"auto\",\"x\":[\"LIFESTYLE\"],\"xaxis\":\"x\",\"y\":[9],\"yaxis\":\"y\",\"type\":\"bar\",\"width\":0.5},{\"alignmentgroup\":\"True\",\"hovertemplate\":\"Category=%{x}\\u003cbr\\u003ecount=%{y}\\u003cextra\\u003e\\u003c\\u002fextra\\u003e\",\"legendgroup\":\"PERSONALIZATION\",\"marker\":{\"color\":\"#B6E880\",\"pattern\":{\"shape\":\"\"}},\"name\":\"PERSONALIZATION\",\"offsetgroup\":\"PERSONALIZATION\",\"orientation\":\"v\",\"showlegend\":true,\"textposition\":\"auto\",\"x\":[\"PERSONALIZATION\"],\"xaxis\":\"x\",\"y\":[9],\"yaxis\":\"y\",\"type\":\"bar\",\"width\":0.5},{\"alignmentgroup\":\"True\",\"hovertemplate\":\"Category=%{x}\\u003cbr\\u003ecount=%{y}\\u003cextra\\u003e\\u003c\\u002fextra\\u003e\",\"legendgroup\":\"COMICS\",\"marker\":{\"color\":\"#FF97FF\",\"pattern\":{\"shape\":\"\"}},\"name\":\"COMICS\",\"offsetgroup\":\"COMICS\",\"orientation\":\"v\",\"showlegend\":true,\"textposition\":\"auto\",\"x\":[\"COMICS\"],\"xaxis\":\"x\",\"y\":[7],\"yaxis\":\"y\",\"type\":\"bar\",\"width\":0.5},{\"alignmentgroup\":\"True\",\"hovertemplate\":\"Category=%{x}\\u003cbr\\u003ecount=%{y}\\u003cextra\\u003e\\u003c\\u002fextra\\u003e\",\"legendgroup\":\"SPORTS\",\"marker\":{\"color\":\"#FECB52\",\"pattern\":{\"shape\":\"\"}},\"name\":\"SPORTS\",\"offsetgroup\":\"SPORTS\",\"orientation\":\"v\",\"showlegend\":true,\"textposition\":\"auto\",\"x\":[\"SPORTS\"],\"xaxis\":\"x\",\"y\":[6],\"yaxis\":\"y\",\"type\":\"bar\",\"width\":0.5}],                        {\"template\":{\"data\":{\"histogram2dcontour\":[{\"type\":\"histogram2dcontour\",\"colorbar\":{\"outlinewidth\":0,\"ticks\":\"\"},\"colorscale\":[[0.0,\"#0d0887\"],[0.1111111111111111,\"#46039f\"],[0.2222222222222222,\"#7201a8\"],[0.3333333333333333,\"#9c179e\"],[0.4444444444444444,\"#bd3786\"],[0.5555555555555556,\"#d8576b\"],[0.6666666666666666,\"#ed7953\"],[0.7777777777777778,\"#fb9f3a\"],[0.8888888888888888,\"#fdca26\"],[1.0,\"#f0f921\"]]}],\"choropleth\":[{\"type\":\"choropleth\",\"colorbar\":{\"outlinewidth\":0,\"ticks\":\"\"}}],\"histogram2d\":[{\"type\":\"histogram2d\",\"colorbar\":{\"outlinewidth\":0,\"ticks\":\"\"},\"colorscale\":[[0.0,\"#0d0887\"],[0.1111111111111111,\"#46039f\"],[0.2222222222222222,\"#7201a8\"],[0.3333333333333333,\"#9c179e\"],[0.4444444444444444,\"#bd3786\"],[0.5555555555555556,\"#d8576b\"],[0.6666666666666666,\"#ed7953\"],[0.7777777777777778,\"#fb9f3a\"],[0.8888888888888888,\"#fdca26\"],[1.0,\"#f0f921\"]]}],\"heatmap\":[{\"type\":\"heatmap\",\"colorbar\":{\"outlinewidth\":0,\"ticks\":\"\"},\"colorscale\":[[0.0,\"#0d0887\"],[0.1111111111111111,\"#46039f\"],[0.2222222222222222,\"#7201a8\"],[0.3333333333333333,\"#9c179e\"],[0.4444444444444444,\"#bd3786\"],[0.5555555555555556,\"#d8576b\"],[0.6666666666666666,\"#ed7953\"],[0.7777777777777778,\"#fb9f3a\"],[0.8888888888888888,\"#fdca26\"],[1.0,\"#f0f921\"]]}],\"heatmapgl\":[{\"type\":\"heatmapgl\",\"colorbar\":{\"outlinewidth\":0,\"ticks\":\"\"},\"colorscale\":[[0.0,\"#0d0887\"],[0.1111111111111111,\"#46039f\"],[0.2222222222222222,\"#7201a8\"],[0.3333333333333333,\"#9c179e\"],[0.4444444444444444,\"#bd3786\"],[0.5555555555555556,\"#d8576b\"],[0.6666666666666666,\"#ed7953\"],[0.7777777777777778,\"#fb9f3a\"],[0.8888888888888888,\"#fdca26\"],[1.0,\"#f0f921\"]]}],\"contourcarpet\":[{\"type\":\"contourcarpet\",\"colorbar\":{\"outlinewidth\":0,\"ticks\":\"\"}}],\"contour\":[{\"type\":\"contour\",\"colorbar\":{\"outlinewidth\":0,\"ticks\":\"\"},\"colorscale\":[[0.0,\"#0d0887\"],[0.1111111111111111,\"#46039f\"],[0.2222222222222222,\"#7201a8\"],[0.3333333333333333,\"#9c179e\"],[0.4444444444444444,\"#bd3786\"],[0.5555555555555556,\"#d8576b\"],[0.6666666666666666,\"#ed7953\"],[0.7777777777777778,\"#fb9f3a\"],[0.8888888888888888,\"#fdca26\"],[1.0,\"#f0f921\"]]}],\"surface\":[{\"type\":\"surface\",\"colorbar\":{\"outlinewidth\":0,\"ticks\":\"\"},\"colorscale\":[[0.0,\"#0d0887\"],[0.1111111111111111,\"#46039f\"],[0.2222222222222222,\"#7201a8\"],[0.3333333333333333,\"#9c179e\"],[0.4444444444444444,\"#bd3786\"],[0.5555555555555556,\"#d8576b\"],[0.6666666666666666,\"#ed7953\"],[0.7777777777777778,\"#fb9f3a\"],[0.8888888888888888,\"#fdca26\"],[1.0,\"#f0f921\"]]}],\"mesh3d\":[{\"type\":\"mesh3d\",\"colorbar\":{\"outlinewidth\":0,\"ticks\":\"\"}}],\"scatter\":[{\"fillpattern\":{\"fillmode\":\"overlay\",\"size\":10,\"solidity\":0.2},\"type\":\"scatter\"}],\"parcoords\":[{\"type\":\"parcoords\",\"line\":{\"colorbar\":{\"outlinewidth\":0,\"ticks\":\"\"}}}],\"scatterpolargl\":[{\"type\":\"scatterpolargl\",\"marker\":{\"colorbar\":{\"outlinewidth\":0,\"ticks\":\"\"}}}],\"bar\":[{\"error_x\":{\"color\":\"#2a3f5f\"},\"error_y\":{\"color\":\"#2a3f5f\"},\"marker\":{\"line\":{\"color\":\"#E5ECF6\",\"width\":0.5},\"pattern\":{\"fillmode\":\"overlay\",\"size\":10,\"solidity\":0.2}},\"type\":\"bar\"}],\"scattergeo\":[{\"type\":\"scattergeo\",\"marker\":{\"colorbar\":{\"outlinewidth\":0,\"ticks\":\"\"}}}],\"scatterpolar\":[{\"type\":\"scatterpolar\",\"marker\":{\"colorbar\":{\"outlinewidth\":0,\"ticks\":\"\"}}}],\"histogram\":[{\"marker\":{\"pattern\":{\"fillmode\":\"overlay\",\"size\":10,\"solidity\":0.2}},\"type\":\"histogram\"}],\"scattergl\":[{\"type\":\"scattergl\",\"marker\":{\"colorbar\":{\"outlinewidth\":0,\"ticks\":\"\"}}}],\"scatter3d\":[{\"type\":\"scatter3d\",\"line\":{\"colorbar\":{\"outlinewidth\":0,\"ticks\":\"\"}},\"marker\":{\"colorbar\":{\"outlinewidth\":0,\"ticks\":\"\"}}}],\"scattermapbox\":[{\"type\":\"scattermapbox\",\"marker\":{\"colorbar\":{\"outlinewidth\":0,\"ticks\":\"\"}}}],\"scatterternary\":[{\"type\":\"scatterternary\",\"marker\":{\"colorbar\":{\"outlinewidth\":0,\"ticks\":\"\"}}}],\"scattercarpet\":[{\"type\":\"scattercarpet\",\"marker\":{\"colorbar\":{\"outlinewidth\":0,\"ticks\":\"\"}}}],\"carpet\":[{\"aaxis\":{\"endlinecolor\":\"#2a3f5f\",\"gridcolor\":\"white\",\"linecolor\":\"white\",\"minorgridcolor\":\"white\",\"startlinecolor\":\"#2a3f5f\"},\"baxis\":{\"endlinecolor\":\"#2a3f5f\",\"gridcolor\":\"white\",\"linecolor\":\"white\",\"minorgridcolor\":\"white\",\"startlinecolor\":\"#2a3f5f\"},\"type\":\"carpet\"}],\"table\":[{\"cells\":{\"fill\":{\"color\":\"#EBF0F8\"},\"line\":{\"color\":\"white\"}},\"header\":{\"fill\":{\"color\":\"#C8D4E3\"},\"line\":{\"color\":\"white\"}},\"type\":\"table\"}],\"barpolar\":[{\"marker\":{\"line\":{\"color\":\"#E5ECF6\",\"width\":0.5},\"pattern\":{\"fillmode\":\"overlay\",\"size\":10,\"solidity\":0.2}},\"type\":\"barpolar\"}],\"pie\":[{\"automargin\":true,\"type\":\"pie\"}]},\"layout\":{\"autotypenumbers\":\"strict\",\"colorway\":[\"#636efa\",\"#EF553B\",\"#00cc96\",\"#ab63fa\",\"#FFA15A\",\"#19d3f3\",\"#FF6692\",\"#B6E880\",\"#FF97FF\",\"#FECB52\"],\"font\":{\"color\":\"#2a3f5f\"},\"hovermode\":\"closest\",\"hoverlabel\":{\"align\":\"left\"},\"paper_bgcolor\":\"white\",\"plot_bgcolor\":\"#E5ECF6\",\"polar\":{\"bgcolor\":\"#E5ECF6\",\"angularaxis\":{\"gridcolor\":\"white\",\"linecolor\":\"white\",\"ticks\":\"\"},\"radialaxis\":{\"gridcolor\":\"white\",\"linecolor\":\"white\",\"ticks\":\"\"}},\"ternary\":{\"bgcolor\":\"#E5ECF6\",\"aaxis\":{\"gridcolor\":\"white\",\"linecolor\":\"white\",\"ticks\":\"\"},\"baxis\":{\"gridcolor\":\"white\",\"linecolor\":\"white\",\"ticks\":\"\"},\"caxis\":{\"gridcolor\":\"white\",\"linecolor\":\"white\",\"ticks\":\"\"}},\"coloraxis\":{\"colorbar\":{\"outlinewidth\":0,\"ticks\":\"\"}},\"colorscale\":{\"sequential\":[[0.0,\"#0d0887\"],[0.1111111111111111,\"#46039f\"],[0.2222222222222222,\"#7201a8\"],[0.3333333333333333,\"#9c179e\"],[0.4444444444444444,\"#bd3786\"],[0.5555555555555556,\"#d8576b\"],[0.6666666666666666,\"#ed7953\"],[0.7777777777777778,\"#fb9f3a\"],[0.8888888888888888,\"#fdca26\"],[1.0,\"#f0f921\"]],\"sequentialminus\":[[0.0,\"#0d0887\"],[0.1111111111111111,\"#46039f\"],[0.2222222222222222,\"#7201a8\"],[0.3333333333333333,\"#9c179e\"],[0.4444444444444444,\"#bd3786\"],[0.5555555555555556,\"#d8576b\"],[0.6666666666666666,\"#ed7953\"],[0.7777777777777778,\"#fb9f3a\"],[0.8888888888888888,\"#fdca26\"],[1.0,\"#f0f921\"]],\"diverging\":[[0,\"#8e0152\"],[0.1,\"#c51b7d\"],[0.2,\"#de77ae\"],[0.3,\"#f1b6da\"],[0.4,\"#fde0ef\"],[0.5,\"#f7f7f7\"],[0.6,\"#e6f5d0\"],[0.7,\"#b8e186\"],[0.8,\"#7fbc41\"],[0.9,\"#4d9221\"],[1,\"#276419\"]]},\"xaxis\":{\"gridcolor\":\"white\",\"linecolor\":\"white\",\"ticks\":\"\",\"title\":{\"standoff\":15},\"zerolinecolor\":\"white\",\"automargin\":true,\"zerolinewidth\":2},\"yaxis\":{\"gridcolor\":\"white\",\"linecolor\":\"white\",\"ticks\":\"\",\"title\":{\"standoff\":15},\"zerolinecolor\":\"white\",\"automargin\":true,\"zerolinewidth\":2},\"scene\":{\"xaxis\":{\"backgroundcolor\":\"#E5ECF6\",\"gridcolor\":\"white\",\"linecolor\":\"white\",\"showbackground\":true,\"ticks\":\"\",\"zerolinecolor\":\"white\",\"gridwidth\":2},\"yaxis\":{\"backgroundcolor\":\"#E5ECF6\",\"gridcolor\":\"white\",\"linecolor\":\"white\",\"showbackground\":true,\"ticks\":\"\",\"zerolinecolor\":\"white\",\"gridwidth\":2},\"zaxis\":{\"backgroundcolor\":\"#E5ECF6\",\"gridcolor\":\"white\",\"linecolor\":\"white\",\"showbackground\":true,\"ticks\":\"\",\"zerolinecolor\":\"white\",\"gridwidth\":2}},\"shapedefaults\":{\"line\":{\"color\":\"#2a3f5f\"}},\"annotationdefaults\":{\"arrowcolor\":\"#2a3f5f\",\"arrowhead\":0,\"arrowwidth\":1},\"geo\":{\"bgcolor\":\"white\",\"landcolor\":\"#E5ECF6\",\"subunitcolor\":\"white\",\"showland\":true,\"showlakes\":true,\"lakecolor\":\"white\"},\"title\":{\"x\":0.05},\"mapbox\":{\"style\":\"light\"}}},\"xaxis\":{\"anchor\":\"y\",\"domain\":[0.0,1.0],\"title\":{\"text\":\"Category\"},\"categoryorder\":\"array\",\"categoryarray\":[\"DATING\",\"GAME\",\"SOCIAL\",\"FAMILY\",\"NEWS_AND_MAGAZINES\",\"COMMUNICATION\",\"LIFESTYLE\",\"PERSONALIZATION\",\"COMICS\",\"SPORTS\"],\"tickangle\":-90},\"yaxis\":{\"anchor\":\"x\",\"domain\":[0.0,1.0],\"title\":{\"text\":\"count\"}},\"legend\":{\"title\":{\"text\":\"Category\"},\"tracegroupgap\":0},\"title\":{\"text\":\"Top Categories liked by Mature 17 plus\"},\"barmode\":\"relative\",\"width\":800,\"height\":500},                        {\"responsive\": true}                    ).then(function(){\n",
       "                            \n",
       "var gd = document.getElementById('cb9505c0-9666-463a-ba12-40cf4101a4d5');\n",
       "var x = new MutationObserver(function (mutations, observer) {{\n",
       "        var display = window.getComputedStyle(gd).display;\n",
       "        if (!display || display === 'none') {{\n",
       "            console.log([gd, 'removed!']);\n",
       "            Plotly.purge(gd);\n",
       "            observer.disconnect();\n",
       "        }}\n",
       "}});\n",
       "\n",
       "// Listen for the removal of the full notebook cells\n",
       "var notebookContainer = gd.closest('#notebook-container');\n",
       "if (notebookContainer) {{\n",
       "    x.observe(notebookContainer, {childList: true});\n",
       "}}\n",
       "\n",
       "// Listen for the clearing of the current output cell\n",
       "var outputEl = gd.closest('.output');\n",
       "if (outputEl) {{\n",
       "    x.observe(outputEl, {childList: true});\n",
       "}}\n",
       "\n",
       "                        })                };                });            </script>        </div>"
      ]
     },
     "metadata": {},
     "output_type": "display_data"
    }
   ],
   "source": [
    "df_teens = df[df['Content Rating'] == 'Mature 17+']\n",
    "df_teens.head(2)\n",
    "\n",
    "# Group the filtered data by 'category' and count the occurrences\n",
    "category_counts = df_teens['Category'].value_counts().reset_index()\n",
    "category_counts\n",
    "\n",
    "category_counts.columns = ['Category', 'count']\n",
    "\n",
    "# Sort the data by count in descending order\n",
    "category_counts = category_counts.sort_values(by='count', ascending=False)\n",
    "\n",
    "# Select the top 10 categories\n",
    "category_counts_top_10 = category_counts.head(10)\n",
    "\n",
    "# Create a Plotly bar chart for the top 10 categories\n",
    "fig = px.bar(category_counts_top_10, x='Category', y='count', title='Top Categories liked by Mature 17 plus', color = 'Category')\n",
    "# Fig layout\n",
    "fig.update_traces(width=0.5)\n",
    "fig.update_layout(width=800, height=500, xaxis_tickangle=-90)\n",
    "\n",
    "# Show the plot\n",
    "fig.show()"
   ]
  },
  {
   "cell_type": "code",
   "execution_count": 59,
   "id": "61254530",
   "metadata": {
    "execution": {
     "iopub.execute_input": "2023-11-10T06:02:49.965804Z",
     "iopub.status.busy": "2023-11-10T06:02:49.964581Z",
     "iopub.status.idle": "2023-11-10T06:02:50.052898Z",
     "shell.execute_reply": "2023-11-10T06:02:50.051616Z"
    },
    "papermill": {
     "duration": 0.132404,
     "end_time": "2023-11-10T06:02:50.055395",
     "exception": false,
     "start_time": "2023-11-10T06:02:49.922991",
     "status": "completed"
    },
    "tags": []
   },
   "outputs": [
    {
     "data": {
      "text/html": [
       "<div>                            <div id=\"ad62f7ba-e9d5-4b25-832d-17e4312d5d8d\" class=\"plotly-graph-div\" style=\"height:500px; width:800px;\"></div>            <script type=\"text/javascript\">                require([\"plotly\"], function(Plotly) {                    window.PLOTLYENV=window.PLOTLYENV || {};                                    if (document.getElementById(\"ad62f7ba-e9d5-4b25-832d-17e4312d5d8d\")) {                    Plotly.newPlot(                        \"ad62f7ba-e9d5-4b25-832d-17e4312d5d8d\",                        [{\"alignmentgroup\":\"True\",\"hovertemplate\":\"Category=%{x}\\u003cbr\\u003ecount=%{y}\\u003cextra\\u003e\\u003c\\u002fextra\\u003e\",\"legendgroup\":\"COMICS\",\"marker\":{\"color\":\"#636efa\",\"pattern\":{\"shape\":\"\"}},\"name\":\"COMICS\",\"offsetgroup\":\"COMICS\",\"orientation\":\"v\",\"showlegend\":true,\"textposition\":\"auto\",\"x\":[\"COMICS\"],\"xaxis\":\"x\",\"y\":[2],\"yaxis\":\"y\",\"type\":\"bar\",\"width\":0.5},{\"alignmentgroup\":\"True\",\"hovertemplate\":\"Category=%{x}\\u003cbr\\u003ecount=%{y}\\u003cextra\\u003e\\u003c\\u002fextra\\u003e\",\"legendgroup\":\"SPORTS\",\"marker\":{\"color\":\"#EF553B\",\"pattern\":{\"shape\":\"\"}},\"name\":\"SPORTS\",\"offsetgroup\":\"SPORTS\",\"orientation\":\"v\",\"showlegend\":true,\"textposition\":\"auto\",\"x\":[\"SPORTS\"],\"xaxis\":\"x\",\"y\":[1],\"yaxis\":\"y\",\"type\":\"bar\",\"width\":0.5}],                        {\"template\":{\"data\":{\"histogram2dcontour\":[{\"type\":\"histogram2dcontour\",\"colorbar\":{\"outlinewidth\":0,\"ticks\":\"\"},\"colorscale\":[[0.0,\"#0d0887\"],[0.1111111111111111,\"#46039f\"],[0.2222222222222222,\"#7201a8\"],[0.3333333333333333,\"#9c179e\"],[0.4444444444444444,\"#bd3786\"],[0.5555555555555556,\"#d8576b\"],[0.6666666666666666,\"#ed7953\"],[0.7777777777777778,\"#fb9f3a\"],[0.8888888888888888,\"#fdca26\"],[1.0,\"#f0f921\"]]}],\"choropleth\":[{\"type\":\"choropleth\",\"colorbar\":{\"outlinewidth\":0,\"ticks\":\"\"}}],\"histogram2d\":[{\"type\":\"histogram2d\",\"colorbar\":{\"outlinewidth\":0,\"ticks\":\"\"},\"colorscale\":[[0.0,\"#0d0887\"],[0.1111111111111111,\"#46039f\"],[0.2222222222222222,\"#7201a8\"],[0.3333333333333333,\"#9c179e\"],[0.4444444444444444,\"#bd3786\"],[0.5555555555555556,\"#d8576b\"],[0.6666666666666666,\"#ed7953\"],[0.7777777777777778,\"#fb9f3a\"],[0.8888888888888888,\"#fdca26\"],[1.0,\"#f0f921\"]]}],\"heatmap\":[{\"type\":\"heatmap\",\"colorbar\":{\"outlinewidth\":0,\"ticks\":\"\"},\"colorscale\":[[0.0,\"#0d0887\"],[0.1111111111111111,\"#46039f\"],[0.2222222222222222,\"#7201a8\"],[0.3333333333333333,\"#9c179e\"],[0.4444444444444444,\"#bd3786\"],[0.5555555555555556,\"#d8576b\"],[0.6666666666666666,\"#ed7953\"],[0.7777777777777778,\"#fb9f3a\"],[0.8888888888888888,\"#fdca26\"],[1.0,\"#f0f921\"]]}],\"heatmapgl\":[{\"type\":\"heatmapgl\",\"colorbar\":{\"outlinewidth\":0,\"ticks\":\"\"},\"colorscale\":[[0.0,\"#0d0887\"],[0.1111111111111111,\"#46039f\"],[0.2222222222222222,\"#7201a8\"],[0.3333333333333333,\"#9c179e\"],[0.4444444444444444,\"#bd3786\"],[0.5555555555555556,\"#d8576b\"],[0.6666666666666666,\"#ed7953\"],[0.7777777777777778,\"#fb9f3a\"],[0.8888888888888888,\"#fdca26\"],[1.0,\"#f0f921\"]]}],\"contourcarpet\":[{\"type\":\"contourcarpet\",\"colorbar\":{\"outlinewidth\":0,\"ticks\":\"\"}}],\"contour\":[{\"type\":\"contour\",\"colorbar\":{\"outlinewidth\":0,\"ticks\":\"\"},\"colorscale\":[[0.0,\"#0d0887\"],[0.1111111111111111,\"#46039f\"],[0.2222222222222222,\"#7201a8\"],[0.3333333333333333,\"#9c179e\"],[0.4444444444444444,\"#bd3786\"],[0.5555555555555556,\"#d8576b\"],[0.6666666666666666,\"#ed7953\"],[0.7777777777777778,\"#fb9f3a\"],[0.8888888888888888,\"#fdca26\"],[1.0,\"#f0f921\"]]}],\"surface\":[{\"type\":\"surface\",\"colorbar\":{\"outlinewidth\":0,\"ticks\":\"\"},\"colorscale\":[[0.0,\"#0d0887\"],[0.1111111111111111,\"#46039f\"],[0.2222222222222222,\"#7201a8\"],[0.3333333333333333,\"#9c179e\"],[0.4444444444444444,\"#bd3786\"],[0.5555555555555556,\"#d8576b\"],[0.6666666666666666,\"#ed7953\"],[0.7777777777777778,\"#fb9f3a\"],[0.8888888888888888,\"#fdca26\"],[1.0,\"#f0f921\"]]}],\"mesh3d\":[{\"type\":\"mesh3d\",\"colorbar\":{\"outlinewidth\":0,\"ticks\":\"\"}}],\"scatter\":[{\"fillpattern\":{\"fillmode\":\"overlay\",\"size\":10,\"solidity\":0.2},\"type\":\"scatter\"}],\"parcoords\":[{\"type\":\"parcoords\",\"line\":{\"colorbar\":{\"outlinewidth\":0,\"ticks\":\"\"}}}],\"scatterpolargl\":[{\"type\":\"scatterpolargl\",\"marker\":{\"colorbar\":{\"outlinewidth\":0,\"ticks\":\"\"}}}],\"bar\":[{\"error_x\":{\"color\":\"#2a3f5f\"},\"error_y\":{\"color\":\"#2a3f5f\"},\"marker\":{\"line\":{\"color\":\"#E5ECF6\",\"width\":0.5},\"pattern\":{\"fillmode\":\"overlay\",\"size\":10,\"solidity\":0.2}},\"type\":\"bar\"}],\"scattergeo\":[{\"type\":\"scattergeo\",\"marker\":{\"colorbar\":{\"outlinewidth\":0,\"ticks\":\"\"}}}],\"scatterpolar\":[{\"type\":\"scatterpolar\",\"marker\":{\"colorbar\":{\"outlinewidth\":0,\"ticks\":\"\"}}}],\"histogram\":[{\"marker\":{\"pattern\":{\"fillmode\":\"overlay\",\"size\":10,\"solidity\":0.2}},\"type\":\"histogram\"}],\"scattergl\":[{\"type\":\"scattergl\",\"marker\":{\"colorbar\":{\"outlinewidth\":0,\"ticks\":\"\"}}}],\"scatter3d\":[{\"type\":\"scatter3d\",\"line\":{\"colorbar\":{\"outlinewidth\":0,\"ticks\":\"\"}},\"marker\":{\"colorbar\":{\"outlinewidth\":0,\"ticks\":\"\"}}}],\"scattermapbox\":[{\"type\":\"scattermapbox\",\"marker\":{\"colorbar\":{\"outlinewidth\":0,\"ticks\":\"\"}}}],\"scatterternary\":[{\"type\":\"scatterternary\",\"marker\":{\"colorbar\":{\"outlinewidth\":0,\"ticks\":\"\"}}}],\"scattercarpet\":[{\"type\":\"scattercarpet\",\"marker\":{\"colorbar\":{\"outlinewidth\":0,\"ticks\":\"\"}}}],\"carpet\":[{\"aaxis\":{\"endlinecolor\":\"#2a3f5f\",\"gridcolor\":\"white\",\"linecolor\":\"white\",\"minorgridcolor\":\"white\",\"startlinecolor\":\"#2a3f5f\"},\"baxis\":{\"endlinecolor\":\"#2a3f5f\",\"gridcolor\":\"white\",\"linecolor\":\"white\",\"minorgridcolor\":\"white\",\"startlinecolor\":\"#2a3f5f\"},\"type\":\"carpet\"}],\"table\":[{\"cells\":{\"fill\":{\"color\":\"#EBF0F8\"},\"line\":{\"color\":\"white\"}},\"header\":{\"fill\":{\"color\":\"#C8D4E3\"},\"line\":{\"color\":\"white\"}},\"type\":\"table\"}],\"barpolar\":[{\"marker\":{\"line\":{\"color\":\"#E5ECF6\",\"width\":0.5},\"pattern\":{\"fillmode\":\"overlay\",\"size\":10,\"solidity\":0.2}},\"type\":\"barpolar\"}],\"pie\":[{\"automargin\":true,\"type\":\"pie\"}]},\"layout\":{\"autotypenumbers\":\"strict\",\"colorway\":[\"#636efa\",\"#EF553B\",\"#00cc96\",\"#ab63fa\",\"#FFA15A\",\"#19d3f3\",\"#FF6692\",\"#B6E880\",\"#FF97FF\",\"#FECB52\"],\"font\":{\"color\":\"#2a3f5f\"},\"hovermode\":\"closest\",\"hoverlabel\":{\"align\":\"left\"},\"paper_bgcolor\":\"white\",\"plot_bgcolor\":\"#E5ECF6\",\"polar\":{\"bgcolor\":\"#E5ECF6\",\"angularaxis\":{\"gridcolor\":\"white\",\"linecolor\":\"white\",\"ticks\":\"\"},\"radialaxis\":{\"gridcolor\":\"white\",\"linecolor\":\"white\",\"ticks\":\"\"}},\"ternary\":{\"bgcolor\":\"#E5ECF6\",\"aaxis\":{\"gridcolor\":\"white\",\"linecolor\":\"white\",\"ticks\":\"\"},\"baxis\":{\"gridcolor\":\"white\",\"linecolor\":\"white\",\"ticks\":\"\"},\"caxis\":{\"gridcolor\":\"white\",\"linecolor\":\"white\",\"ticks\":\"\"}},\"coloraxis\":{\"colorbar\":{\"outlinewidth\":0,\"ticks\":\"\"}},\"colorscale\":{\"sequential\":[[0.0,\"#0d0887\"],[0.1111111111111111,\"#46039f\"],[0.2222222222222222,\"#7201a8\"],[0.3333333333333333,\"#9c179e\"],[0.4444444444444444,\"#bd3786\"],[0.5555555555555556,\"#d8576b\"],[0.6666666666666666,\"#ed7953\"],[0.7777777777777778,\"#fb9f3a\"],[0.8888888888888888,\"#fdca26\"],[1.0,\"#f0f921\"]],\"sequentialminus\":[[0.0,\"#0d0887\"],[0.1111111111111111,\"#46039f\"],[0.2222222222222222,\"#7201a8\"],[0.3333333333333333,\"#9c179e\"],[0.4444444444444444,\"#bd3786\"],[0.5555555555555556,\"#d8576b\"],[0.6666666666666666,\"#ed7953\"],[0.7777777777777778,\"#fb9f3a\"],[0.8888888888888888,\"#fdca26\"],[1.0,\"#f0f921\"]],\"diverging\":[[0,\"#8e0152\"],[0.1,\"#c51b7d\"],[0.2,\"#de77ae\"],[0.3,\"#f1b6da\"],[0.4,\"#fde0ef\"],[0.5,\"#f7f7f7\"],[0.6,\"#e6f5d0\"],[0.7,\"#b8e186\"],[0.8,\"#7fbc41\"],[0.9,\"#4d9221\"],[1,\"#276419\"]]},\"xaxis\":{\"gridcolor\":\"white\",\"linecolor\":\"white\",\"ticks\":\"\",\"title\":{\"standoff\":15},\"zerolinecolor\":\"white\",\"automargin\":true,\"zerolinewidth\":2},\"yaxis\":{\"gridcolor\":\"white\",\"linecolor\":\"white\",\"ticks\":\"\",\"title\":{\"standoff\":15},\"zerolinecolor\":\"white\",\"automargin\":true,\"zerolinewidth\":2},\"scene\":{\"xaxis\":{\"backgroundcolor\":\"#E5ECF6\",\"gridcolor\":\"white\",\"linecolor\":\"white\",\"showbackground\":true,\"ticks\":\"\",\"zerolinecolor\":\"white\",\"gridwidth\":2},\"yaxis\":{\"backgroundcolor\":\"#E5ECF6\",\"gridcolor\":\"white\",\"linecolor\":\"white\",\"showbackground\":true,\"ticks\":\"\",\"zerolinecolor\":\"white\",\"gridwidth\":2},\"zaxis\":{\"backgroundcolor\":\"#E5ECF6\",\"gridcolor\":\"white\",\"linecolor\":\"white\",\"showbackground\":true,\"ticks\":\"\",\"zerolinecolor\":\"white\",\"gridwidth\":2}},\"shapedefaults\":{\"line\":{\"color\":\"#2a3f5f\"}},\"annotationdefaults\":{\"arrowcolor\":\"#2a3f5f\",\"arrowhead\":0,\"arrowwidth\":1},\"geo\":{\"bgcolor\":\"white\",\"landcolor\":\"#E5ECF6\",\"subunitcolor\":\"white\",\"showland\":true,\"showlakes\":true,\"lakecolor\":\"white\"},\"title\":{\"x\":0.05},\"mapbox\":{\"style\":\"light\"}}},\"xaxis\":{\"anchor\":\"y\",\"domain\":[0.0,1.0],\"title\":{\"text\":\"Category\"},\"categoryorder\":\"array\",\"categoryarray\":[\"COMICS\",\"SPORTS\"],\"tickangle\":-90},\"yaxis\":{\"anchor\":\"x\",\"domain\":[0.0,1.0],\"title\":{\"text\":\"count\"}},\"legend\":{\"title\":{\"text\":\"Category\"},\"tracegroupgap\":0},\"title\":{\"text\":\"Top Categories liked by Adults only eighteen plus\"},\"barmode\":\"relative\",\"width\":800,\"height\":500},                        {\"responsive\": true}                    ).then(function(){\n",
       "                            \n",
       "var gd = document.getElementById('ad62f7ba-e9d5-4b25-832d-17e4312d5d8d');\n",
       "var x = new MutationObserver(function (mutations, observer) {{\n",
       "        var display = window.getComputedStyle(gd).display;\n",
       "        if (!display || display === 'none') {{\n",
       "            console.log([gd, 'removed!']);\n",
       "            Plotly.purge(gd);\n",
       "            observer.disconnect();\n",
       "        }}\n",
       "}});\n",
       "\n",
       "// Listen for the removal of the full notebook cells\n",
       "var notebookContainer = gd.closest('#notebook-container');\n",
       "if (notebookContainer) {{\n",
       "    x.observe(notebookContainer, {childList: true});\n",
       "}}\n",
       "\n",
       "// Listen for the clearing of the current output cell\n",
       "var outputEl = gd.closest('.output');\n",
       "if (outputEl) {{\n",
       "    x.observe(outputEl, {childList: true});\n",
       "}}\n",
       "\n",
       "                        })                };                });            </script>        </div>"
      ]
     },
     "metadata": {},
     "output_type": "display_data"
    }
   ],
   "source": [
    "df_teens = df[df['Content Rating'] == 'Adults only 18+']\n",
    "df_teens.head(2)\n",
    "\n",
    "# Group the filtered data by 'category' and count the occurrences\n",
    "category_counts = df_teens['Category'].value_counts().reset_index()\n",
    "category_counts\n",
    "\n",
    "category_counts.columns = ['Category', 'count']\n",
    "\n",
    "# Sort the data by count in descending order\n",
    "category_counts = category_counts.sort_values(by='count', ascending=False)\n",
    "\n",
    "# Select the top 10 categories\n",
    "category_counts_top_10 = category_counts.head(10)\n",
    "\n",
    "# Create a Plotly bar chart for the top 10 categories\n",
    "fig = px.bar(category_counts_top_10, x='Category', y='count', \n",
    "             title='Top Categories liked by Adults only eighteen plus', color = 'Category')\n",
    "# Fig layout\n",
    "fig.update_traces(width=0.5)\n",
    "fig.update_layout(width=800, height=500, xaxis_tickangle=-90)\n",
    "\n",
    "# Show the plot\n",
    "fig.show()"
   ]
  },
  {
   "cell_type": "code",
   "execution_count": 60,
   "id": "670f7e79",
   "metadata": {
    "execution": {
     "iopub.execute_input": "2023-11-10T06:02:50.139581Z",
     "iopub.status.busy": "2023-11-10T06:02:50.138377Z",
     "iopub.status.idle": "2023-11-10T06:02:50.248260Z",
     "shell.execute_reply": "2023-11-10T06:02:50.247461Z"
    },
    "papermill": {
     "duration": 0.157607,
     "end_time": "2023-11-10T06:02:50.253676",
     "exception": false,
     "start_time": "2023-11-10T06:02:50.096069",
     "status": "completed"
    },
    "tags": []
   },
   "outputs": [
    {
     "data": {
      "text/html": [
       "<div>                            <div id=\"7be40974-721a-4dea-847b-f6b672a1eab3\" class=\"plotly-graph-div\" style=\"height:400px; width:600px;\"></div>            <script type=\"text/javascript\">                require([\"plotly\"], function(Plotly) {                    window.PLOTLYENV=window.PLOTLYENV || {};                                    if (document.getElementById(\"7be40974-721a-4dea-847b-f6b672a1eab3\")) {                    Plotly.newPlot(                        \"7be40974-721a-4dea-847b-f6b672a1eab3\",                        [{\"hovertemplate\":\"x=%{x}\\u003cbr\\u003ey=%{y}\\u003cextra\\u003e\\u003c\\u002fextra\\u003e\",\"legendgroup\":\"\",\"marker\":{\"color\":\"#636efa\",\"symbol\":\"circle\"},\"mode\":\"markers\",\"name\":\"\",\"showlegend\":false,\"x\":[2.2013971243204513,2.9854264740830017,4.942057683841395,5.333737378998817,2.9854264740830017,2.2227164711475833,2.250420002308894,4.56602480481272,4.139595758469972,2.08278537031645,4.1423894661188365,3.943890048248473,4.651559051171708,3.636086515103073,3.1812717715594614,3.5601458398490475,1.4313637641589874,5.288285005311824,5.351020917221158,2.6532125137753435,2.815577748324267,3.8864343196289384,1.7853298350107671,2.0718820073061255,2.2833012287035497,4.306639441024261,2.307496037913213,2.1335389083702174,2.3483048630481607,3.0492180226701815,2.3560258571931225,3.7019994748896368,3.0064660422492318,2.5477747053878224,2.751279103983342,3.910891088644528,4.563943611818725,2.1986570869544226,2.7715874808812555,2.0681858617461617,2.24551266781415,5.470147246984807,3.343605508104172,1.414973347970818,5.241872577044283,3.0293837776852097,1.9294189257142929,2.926856708949692,2.5646660642520893,3.2035767749779724,2.4533183400470375,4.231902649456643,2.110589710299249,2.733999286538387,4.020319840357309,2.9057958803678687,2.110589710299249,3.1470576710283598,3.598899887063883,2.727541257028556,3.8906445362952478,4.589346305830272,3.3857849588433355,3.784617292632875,2.469822015978163,2.278753600952829,4.6043448736272,2.5514499979728753,4.720407400803109,5.068133891775703,3.13956426617585,5.434441151575003,2.866877814337499,3.846398973034675,2.294466226161593,2.8674674878590514,3.5531545481696254,2.997386384397313,5.294765940229239,2.1522883443830563,4.180928319993991,3.3334472744967503,2.1398790864012365,3.7335182514344876,4.33799805112296,2.5415792439465807,2.3979400086720375,4.126196367920531,3.8965262174895554,3.5583485087616196,3.6817837664678814,4.8181334807011895,4.4973858325374465,3.707314633588708,3.2440295890300215,3.428134794028789,3.1099158630237933,4.276461804173244,4.69714212627546,3.060697840353612,3.2402995820027125,4.506369717095504,3.3473300153169503,3.6403820447095683,3.933082162369791,2.984077033902831,4.623766000133931,2.0170333392987803,4.253677165422924,2.7788744720027396,1.5563025007672873,2.271841606536499,2.2600713879850747,1.4771212547196624,2.1271047983648077,1.8692317197309762,5.055817755695259,3.555698894718901,3.9691828592322613,1.8750612633917,1.5797835966168101,4.428685415439189,2.075546961392531,3.3573630306151427,3.357934847000454,2.815577748324267,2.2648178230095364,0.9542425094393249,1.8864907251724818,1.5440680443502757,2.561101383649056,1.255272505103306,2.6748611407378116,1.4771212547196624,1.8195439355418688,3.5878231713189552,2.4099331233312946,1.792391689498254,6.464597436984588,3.2688119037397803,3.6510840892430116,5.76158958819036,5.910667085296282,5.391490860149571,5.657113244811274,5.191579551079897,2.621176281775035,4.35191220632801,5.307774068517087,3.156851901070011,5.066352019525511,6.15631679918212,4.9564949893598635,2.934498451243568,5.561022630806397,2.9854264740830017,4.9438554535459645,4.2431869241314715,3.269979676645324,3.3188977146274867,4.674888684968885,4.280578370368076,2.2068258760318495,4.933699827537173,3.893817223967463,4.961966585937513,3.6646419755561257,4.32911300268182,4.429348472923662,3.249931756634195,3.4328090050331683,4.809647238036535,3.9212701855098127,2.7218106152125467,3.1212314551496214,3.225309281725863,3.4375920322539613,3.0273496077747564,5.368764624959976,0.3010299956639812,3.943890048248473,4.709854846624769,4.478638631543166,2.1931245983544616,2.0569048513364727,5.532954286740605,4.207607441911914,5.8291300202854375,6.098550281892359,4.930363127739141,4.513004397077942,5.337918272572673,4.851203293816408,6.001240742475728,4.2198202071472375,5.173025928773911,3.649140064144219,4.794292814252239,3.951386094880293,4.666077847246061,6.106933018628135,4.944842789817221,4.826074802700826,5.203772408022004,4.489212933464914,5.276096291554452,4.065280871102755,4.981872947188907,3.6057358938767465,4.662417815976578,4.174786417367337,3.839037873388306,4.499879448956432,4.362765126555426,4.279279007906624,5.3167501162458235,3.0881360887005513,5.580739135393169,4.02530586526477,4.871333540629149,2.9148718175400505,4.907438234601636,3.3592661646067485,3.6193020758756083,4.169086357487023,4.366292182210539,0.9542425094393249,3.953179601065634,4.6283071728057354,5.457726006976365,5.016009034734362,4.667499648710859,4.05850194342965,4.01262635095405,2.4712917110589387,4.467060268004198,4.711866255347714,3.255754786643044,3.1408221801093106,4.365019742816535,3.768490105171245,3.3244882333076564,3.736237098904729,3.6189889203649335,4.318376415222796,4.8957649842542725,3.8542452970661185,3.488409688903198,3.7634279935629373,3.8444150404738244,4.215426047793767,5.036393322527059,2.795184589682424,3.2203696324513946,4.989903453995882,2.4885507165004443,3.7169210731667612,3.024485667699167,4.893051223353465,4.907432859969259,6.001239876363845,4.711891549880579,2.615950051656401,6.005881597972895,4.380301710305185,4.756681740995333,3.351989455435632,2.7126497016272113,2.921166050637739,3.0043213737826426,5.37834338357477,2.4800069429571505,2.6414741105040993,1.863322860120456,1.591064607026499,2.1583624920952498,3.3386556655787003,4.972966118095298,3.160168292958512,4.082354451330969,2.496929648073215,4.409442786708956,4.181672122068266,4.353165804965758,4.474784264452135,2.4456042032735974,5.751577001727798,3.123851640967086,3.2245330626060857,2.8790958795000727,2.060697840353612,2.0969100130080562,3.9979103673467433,4.274481139688916,1.3222192947339193,1.1760912590556813,4.71584463011506,3.5558196830611912,3.0025979807199086,3.7758288144646124,3.6897526961391565,7.753145073871621,7.839599431743761,5.097802005808143,6.98421194157498,6.155042865684408,6.663165876743416,6.533930728579099,7.054413823186414,5.200519454873386,6.487849074644811,6.6220064656072894,5.819145649691207,6.679962893957054,4.823487270850815,4.480136349183575,4.567038135497739,6.711794916828929,5.285440281256908,4.998080525776421,5.641150748139473,4.136657161873879,6.39331349490769,4.317415586331099,4.566790912381592,5.233074835004694,4.803067714940125,4.657887294789743,5.789144083197531,6.38935801783375,4.519210883619447,6.731373820838841,6.56206911542411,5.135647772179205,4.6270584640009895,5.893101221119308,6.4953014532375315,6.318738680383264,5.7335094274820815,4.669335479503264,3.4681995860726125,4.138649994851645,5.412554620377889,4.6101382704785285,7.248290210190628,4.398304662903492,4.434361287200313,7.753173679413798,6.679971605363855,5.088128998120515,7.054420489970699,6.533954098633355,5.120619990299325,4.920326854131004,5.774318385715074,6.731382930125715,7.020534012959024,6.495337408680558,6.389359789677445,6.458864378361518,4.450833933891004,5.525881475926484,5.544259091894935,5.543303012636564,5.54030694596253,5.3889231660564665,7.033033076696298,5.5195142962756005,4.571941635074462,7.108661748336199,6.405948285220168,4.566943971856554,4.200850498091078,5.540304442687238,6.98421401328595,6.487861785401067,6.355052099764762,6.393345800111604,4.632710303832954,6.71184694619609,6.399869196512689,6.562111969908011,7.248337479308311,4.117271295655764,4.433865800002353,4.741135834700641,6.054421907607036,4.099611590392529,4.040008636013542,4.26119147205037,5.280152516636698,5.097715316475808,4.857724390968307,4.439963935920905,5.021147935720995,5.249694759670512,4.24375714102993,5.248618095032732,5.375605094551402,4.508583581613288,5.684454859482065,5.742285902732433,4.780374926160122,5.660185056304306,4.97231857308512,4.5089738861152915,4.184322265577157,5.313316624603588,4.172398577939305,6.8932183600079036,3.9776321652459994,6.6631808738701075,6.622021398119258,4.946584891264749,5.4846101422257005,5.263337758504148,4.320167065254232,5.088472757974482,5.094631819313487,5.923162127224829,2.406540180433955,4.617210094557434,4.650365813781229,4.374876599702403,6.533964259134272,7.05443129454169,4.465501819941671,5.281106122532381,3.1889284837608534,1.7558748556724915,null,null,0.6020599913279624,0.3010299956639812,5.713323345339314,5.455949761358468,4.884489494829576,3.4075608494863627,3.890923771489014,4.789841492552024,4.101472117000238,5.4965477436542995,4.688820113939199,5.485306803823881,4.495821753385906,5.2366883817646155,3.622731965164719,4.065691728093271,4.009110806132212,4.568823376436811,2.824125833916549,4.120639728415567,4.457442840728419,3.0633333589517497,5.327616369153068,5.348086687259639,3.3153404766272883,3.215637563435062,2.0211892990699383,3.5332635167787148,4.625250698540985,4.072102778885176,3.3008127941181167,4.353030975765281,4.9898234349495185,3.401228167498113,3.059184617631371,4.115477374186469,4.23724203998423,3.9406160823374075,2.979092900638326,3.4138025167693513,3.730540036477119,2.9304395947667,2.3263358609287517,3.2949069106051923,4.546616684638195,3.712986233594383,3.287577809078705,2.4424797690644486,1.9030899869919435,2.916453948549925,4.602439832843189,3.038620161949703,5.1316763953765,3.2043913319193,3.344785122632661,4.756491572898771,2.3820170425748683,4.80608496167362,3.8969669019331548,2.7283537820212285,3.7062055418819706,3.385606273598312,2.92272545799326,2.8680563618230415,3.665674780993893,3.694868327982456,3.158060793936605,3.216165902285993,4.120705515658274,2.930949031167523,2.5276299008713385,4.115577231128523,4.713473742208743,2.965201701025912,3.189209489582306,2.173186268412274,2.296665190261531,5.131682809461406,4.35305023964259,3.940665872475829,4.364926033789976,4.142702245737616,4.756506789411224,2.7299742856995555,4.128399268717806,2.155336037465062,3.024895960107485,2.951337518795918,3.791760804012905,4.1784301399477375,2.3384564936046046,4.546604348654274,5.387300822448285,2.3729120029701067,3.711975854351756,3.1975562131535367,3.826139617935915,4.602483222156301,2.870403905279027,2.271841606536499,3.398981066658131,5.262417863745012,3.937568038600383,0.9030899869919435,1.7708520116421442,1.5440680443502757,1.4471580313422192,2.0969100130080562,2.2671717284030137,0.7781512503836436,2.041392685158225,0.47712125471966244,0.47712125471966244,0.6989700043360189,0.47712125471966244,1.9242792860618816,0.3010299956639812,1.3010299956639813,0.3010299956639812,2.8898617212581885,0.3010299956639812,0.0,null,1.146128035678238,null,0.0,0.0,0.47712125471966244,null,null,1.380211241711606,null,1.3617278360175928,null,0.6989700043360189,1.255272505103306,null,0.7781512503836436,0.0,0.3010299956639812,null,0.6989700043360189,null,null,null,null,0.0,1.041392685158225,0.6020599913279624,1.146128035678238,null,0.0,2.0170333392987803,null,1.146128035678238,0.47712125471966244,2.0043213737826426,2.0791812460476247,1.380211241711606,null,null,null,0.7781512503836436,3.694956002249818,2.979548374704095,3.4082399653118496,1.3222192947339193,4.625281575848903,3.7133225049870275,4.101506496139928,4.619145526346042,3.3861421089308186,0.6989700043360189,2.8981764834976764,3.726156466172755,2.6794278966121188,1.8388490907372552,2.1986570869544226,1.380211241711606,1.7242758696007892,4.989890118511972,0.9030899869919435,6.798645397976266,5.259815985925113,3.4055171069763763,4.9313307166895886,5.497342999232111,2.8898617212581885,3.989894563718773,4.50982058221228,3.6101276130759956,4.025756314534414,3.969462507974637,4.748691826488454,4.154910645788523,5.124295504665947,3.3925210899319325,4.558852511698457,2.591064607026499,3.037426497940624,5.426426671430236,5.535190282127202,2.8739015978644615,5.237141427338836,1.7853298350107671,3.2092468487533736,3.500785172917456,4.4750170755177985,3.8284020784915933,3.845408139621793,2.9489017609702137,3.758987546867619,4.44046826982215,4.035509785089558,3.9951084577447404,3.2853322276438846,3.1806992012960347,5.333046046978495,2.6263403673750423,5.4057202082333085,6.044501738362772,5.326040768218962,4.9957229219954655,4.956557391785679,4.510290256640203,5.396045834367361,5.39542250394884,5.434800359625508,4.755089368015571,3.93444794894897,4.614739070319703,4.476831628512261,2.482873583608754,2.5538830266438746,4.075692918201804,4.347349533731457,4.349937697147753,4.865719726545427,4.104930739077741,4.401107465479456,4.722164828650272,4.7906299287657355,4.745886382167524,4.285039447366519,4.133921940423772,4.578203551149766,4.2641564367458855,2.8169038393756605,2.380211241711606,2.439332693830263,4.139595758469972,3.5672616923538745,3.373463721632369,3.2477278329097232,2.6334684555795866,2.8785217955012063,3.59802407233419,2.499687082618404,2.807535028068853,3.024485667699167,3.3573630306151427,6.798685649964951,4.510276844417355,5.236801687472711,4.841941060496874,6.044494290358829,3.901621764093357,5.4264055213720175,3.7554937284151193,5.154216971969816,4.74237944299809,5.236809240135629,4.738764708031552,3.6825962914605532,4.875709326051567,4.526933440590141,5.49734438101758,5.314976836546854,3.9707187037201894,3.5816083660320577,4.679854712765105,4.209380952346196,2.3138672203691533,4.453195986339536,3.51067903103221,2.921686475483602,3.40226138245468,2.9180303367848803,5.30115592280518,3.0930713063760633,2.846337112129805,5.035881809510414,4.841972306727355,5.171872656139683,3.5851221863068155,4.925873938108789,6.04451937786262,4.152471810336036,5.314987350649728,4.1673173347481764,4.631727794003285,4.604323272310015,3.1476763242410986,5.171869732572239,4.925884240433114,5.408373965199924,3.3176455432211585,4.206906792930864,1.041392685158225,1.3222192947339193,4.492550871704174,3.547528576459782,6.7368909180139624,4.066549538761934,4.461618563954016,5.472421460099865,5.672180088892584,4.038977622332692,4.993475910414162,3.7194141597025934,4.3523369064819555,4.012457578200774,6.855238136203158,6.688921996035647,5.152227171838142,3.8437931983259124,4.668553637533001,5.013165983439303,4.247531386233569,4.568201724066995,5.244346404423201,6.26204365860392,4.543111543953438,5.83512974775601,4.671320977612709,5.610338580985896,5.846939880417966,4.511321755917704,5.371983534850559,4.066735795350929,5.814918501848693,4.362915798999595,4.94143192064555,5.614562933651295,3.9502674680135885,5.700269205371002,6.32905111904429,4.472610197596045,5.1157735494937375,5.787502272465255,6.213167523992195,4.623766000133931,3.422589839851482,4.33978920494825,4.51497254250406,5.386939279174826,3.4214393902200495,3.1792644643390253,4.648847708372894,5.700268339375694,3.892817824309576,3.0141003215196207,3.3877456596088638,4.183383742052695,5.190986848334603,5.491454146689014,4.086929024048365,5.588931333265644,4.964061535424358,4.945394719244763,2.69284691927723,4.523577397132255,5.090889102866079,4.438130800243104,4.78419634362739,4.472844176715128,5.4596186239173745,4.170467076385937,5.504731768585338,4.7867585184026495,4.361690069637996,4.093351632015555,4.555433042054658,4.8092094445375055,4.349821269512391,6.7369220390889515,5.472506328967892,5.491494763690032,5.504730410105422,4.214101735973232,4.763637602376833,5.867387339284004,3.2940250940953226,4.547516266351024,4.55546930427502,4.236713563365638,4.94311347550397,4.267711326726692,5.260317100505045,5.296169197277766,3.938219417812743,6.7369307143875625,4.764041562478695,4.438130800243104,5.610360950360393,5.060822446110187,4.36167118521656,2.9036325160842376,3.952695599586917,2.481442628502305,2.864511081058392,3.268577971882843,4.705222055705383,3.197280558125619,3.795045370421125,3.9974300737974713,4.374124860179728,4.829651069516388,4.588484599044793,5.204564906515332,3.5764565324056203,5.4093649582789185,5.896072396247713,3.577721524509021,4.603285143525501,3.8496650554787326,3.3330440298234874,4.416457432768096,4.314099063295284,2.909020854211156,4.191953767152995,2.75815462196739,1.568201724066995,3.9155053617543767,3.4898179083014504,3.5881596163830918,2.6665179805548807,2.8639173769578603,1.8388490907372552,3.9444826721501687,1.99563519459755,1.4771212547196624,2.6589648426644352,0.7781512503836436,0.6020599913279624,3.505149978319906,3.7663384752512874,0.6020599913279624,2.821513528404773,1.2041199826559248,3.0273496077747564,0.47712125471966244,1.1139433523068367,1.662757831681574,3.2907022432878543,1.0791812460476249,3.6332664111554247,0.0,1.6901960800285136,2.0,1.041392685158225,2.6009728956867484,0.6989700043360189,1.4471580313422192,2.3979400086720375,0.0,0.8450980400142568,5.0949041589902855,4.591520933198543,4.718551509468278,4.564879017501453,4.629857934678261,5.444172878279218,3.7836177651907485,5.05175432697418,5.526000498996993,4.5038723608586135,4.3153824963149905,5.9813532688736855,5.1158833159939165,4.49440507627968,5.223153146586924,4.536911794293623,4.183184400298215,4.68524896024201,4.550448502899969,4.085825533520743,4.565210070699812,4.342343711009842,5.14104507957396,4.08181520063228,5.047788705635068,5.399164727798304,5.84898982113744,4.812639330613896,5.8193734744100905,5.707903858536217,3.858236335429513,4.406676408315217,4.781389120778691,5.581822273937994,4.029261995804175,5.541377025305635,4.5024817447857,3.586137025230793,5.300343267724527,4.648798963271332,6.12588641817528,2.4099331233312946,4.7596149708385775,2.45178643552429,4.090046322457356,3.913177833990468,4.076239819775025,4.662351670887225,5.101853572983323,4.333850145102545,5.128928888323843,4.229451454151763,5.046315634454751,3.888235673270567,3.7729081949712717,4.195982630688358,3.7887338588277073,2.935003151453655,3.9376181793938234,4.364175632770619,4.844930494113878,3.117602691690084,4.424669335565875,3.3832766504076504,5.848990436022842,3.022840610876528,4.400814192267559,5.111611959923377,4.298197867109815,3.5558196830611912,5.208011148892835,3.875871190727366,4.663757445939181,4.1801545594533485,2.8536982117761744,4.627468272459709,5.415886076961822,3.6378898165807905,4.358087204301404,4.631535083018744,4.225516039397896,5.19729434503319,4.391764065084441,3.2837533833325265,3.5229655954919865,4.027675715904893,4.89409996958547,3.4139699717480614,4.142013832984359,5.133385600908991,4.043990665878134,4.662398918407578,4.542339840842044,4.574956775764507,5.449455256768899,2.8356905714924254,5.1019085300117695,3.577491799837225,4.181614951728961,3.7745169657285498,4.203929937244626,3.7712199019495336,5.819385981555074,4.165155261392066,3.040602340114073,3.4620983811351556,4.849922829800399,4.051692641798037,5.004308473754961,5.541421970919229,3.5171958979499744,5.532868987045975,2.984077033902831,4.9442407817356395,5.399187246931838,5.707911516602715,4.393206554563365,4.893795040053584,4.636618265427457,6.138160226209539,5.319028983425956,3.8449739381468877,5.16233435471502,1.9777236052888478,4.811467759424338,4.518474456766636,1.9138138523837167,3.4324882557705063,5.11306385121322,5.786137867324553,3.78660947264866,3.3932241163612975,5.040539050332279,3.5211380837040362,1.7853298350107671,4.833166243406892,3.9248992640142837,4.031044716583705,3.5801263254115825,5.19296866978236,4.006850960324272,4.447282097756976,4.639625919240812,5.658371091660472,3.1455071714096627,6.014072993320686,4.51061202578917,5.179206976155488,4.352433371350281,4.95444513292241,4.765787727286867,3.9298785236567833,4.285872227069257,4.328664961441525,4.4803519405777585,2.8639173769578603,2.6570558528571038,4.174699288370776,3.0969100130080562,3.237040791379191,4.14813973650122,2.7450747915820575,3.6924062348336304,3.8133808067338557,4.068445618354351,3.0322157032979815,4.667817047211394,3.957415714722669,3.29269900304393,4.343822010762161,2.292256071356476,2.444044795918076,4.7915573233042,3.3281756614383227,3.1031192535457137,4.960751337214615,4.342718689795545,5.11915357381524,4.504959932908608,4.359361102738486,4.232258962342701,4.955408711853569,5.684809468055244,5.708614632146585,2.6665179805548807,3.2833012287035497,4.603317622640193,4.711950564728687,3.885926339801431,5.506686288844866,3.5746099413401873,5.019132913841149,4.447297603567068,5.522715419848036,4.546764689120566,5.065964173326381,4.57422810328016,5.4668216686776505,5.708777707890155,5.631602034422576,3.197831693328903,4.580902177466637,4.49330466149301,5.4351066490675155,5.342669368975333,5.60270227199064,4.303152841889143,5.071605884917739,5.738797200837245,4.683731278618886,5.673054100343075,4.103974669386388,2.8488047010518036,2.667452952889954,2.808885867359812,3.795045370421125,5.158483112699248,4.7094989230909565,5.553175205222252,2.298853076409707,5.917818907699585,3.959804316508338,3.3161800988934527,4.7015161774551855,5.850446499554712,3.0569048513364727,5.365774300214243,4.167583147965841,4.080229524884867,6.2726574063607154,3.459392487759231,5.431793020937981,5.747556289706763,4.890851187608398,3.9366142619752114,5.699962535087925,3.2697463731307668,3.0802656273398448,2.4756711883244296,5.063412177936587,4.170555058521209,5.264019309286404,4.43763959750037,4.018908444316327,4.694420913696159,3.68556261115823,4.3183138172239985,5.51649438831216,5.001759665887018,5.3123868339515,4.824717945803868,5.264035861449841,5.6009826916924,3.733999286538387,5.1142906489922,5.40059669720258,4.461663569340875,4.7788455662499985,5.027541225971498,5.1277363346641005,5.397688044795944,4.4376871575378605,5.850468560762334,5.040428271015897,4.583686089566426,5.279317817118205,5.91784724412051,4.878355169096278,4.8498430588587516,3.3236645356081,4.423900918528417,3.2062860444124324,4.2804417782984165,3.901785145303599,3.880012838366772,3.46014581749175,4.683281241810565,3.0111473607757975,4.461573553902823,4.060924369689481,3.1099158630237933,3.83416628394262,5.047080072816256,4.290991232025503,5.367808618733687,4.067777358633317,4.889654598475889,3.7402837196818792,4.683821230045629,4.425729804596099,4.852900665103552,4.307517431203132,4.971697874366279,4.749311086170103,4.308051921242662,4.112437417321844,3.4282968139828798,5.512868425521148,3.6129956560323473,4.605261937849654,6.658908361661201,5.756059201217031,6.2726590290080235,5.085782761338386,4.796685320811827,4.1091734214254725,4.536002594069224,4.7048280367803335,4.228990310840723,5.719579029380906,2.4265112613645754,2.7944880466591697,5.068838668551358,4.84767135121887,4.195179842431903,4.158422806584882,5.431836405314661,5.158513262616432,5.149720879424409,6.272658333588491,5.7476153114595405,5.850494910180593,4.841328180099865,5.917848293582075,4.438368279687935,3.3961993470957363,4.3819089060057985,4.268086304447384,3.4858633295973345,5.360233561157832,4.312748420929561,3.532117116248804,2.3364597338485296,3.897352134344313,4.513297524212919,3.121887985103681,5.100429136452303,5.360241140071361,3.3925210899319325,4.158181498351475,3.2581581933407944,4.1374807093841355,4.010850957373923,3.666705136119899,4.219322508419337,4.304512069624235,3.4614985267830187,3.702258163162094,4.500579492363338,4.139847614646311,5.047099556205233,5.04712683148145,4.760678762174504,3.933284772348695,5.6210796456971375,3.500648063371912,4.43752860382068,5.210165968172226,4.818971078804415,4.397540273842457,3.778151250383644,4.576468048945627,5.243764573697491,2.2405492482825995,5.548756601057889,3.440594261839831,3.157456768134226,3.879267956824613,3.928447063209182,4.002338880892056,4.005051749993996,4.593164181568868,3.5467893516312583,4.8538137649617425,4.566519982633766,4.592432149630162,4.165926549609097,1.0791812460476249,4.36197323746566,2.0569048513364727,2.4578818967339924,3.646893624167745,4.6414741105041,3.631545227834309,3.8755242639493086,2.6910814921229687,2.204119982655925,4.353800865138863,3.6114046377115936,3.397244581010386,5.014121342041001,3.4263485737875077,1.0,3.881897973573011,2.100370545117563,2.436162647040756,3.3517963068970236,1.0,2.9079485216122722,3.515873843711679,3.1696744340588068,3.3769417571467586,3.6483600109809315,2.711807229041191,5.548757828573704,3.649821463224565,3.385069776331935,3.821579027912009,4.049218022670182,3.8385972528166565,3.5836521085420436,4.437544461797492,4.853825926666642,5.548773785963593,1.9084850188786497,3.3195224490654542,1.7634279935629373,3.479143247978613,0.6989700043360189,2.965201701025912,1.414973347970818,2.6875289612146345,4.826120174381053,2.7315887651867388,5.103331553838341,1.6812412373755872,3.1658376246901283,2.968015713993642,2.8937617620579434,3.4634450317704277,2.637489729512511,1.7323937598229686,2.6138418218760693,2.374748346010104,3.41161970596323,2.5599066250361124,5.114851080699306,2.041392685158225,1.9590413923210936,2.113943352306837,1.3979400086720377,1.3010299956639813,3.8689969024871353,4.763839629395825,3.231214647962601,3.88930170250631,0.7781512503836436,4.102330780101544,1.414973347970818,3.2830749747354715,4.779380011491655,2.919601023784111,3.9380691862233856,1.4913616938342726,2.959994838328416,3.4214393902200495,2.6009728956867484,2.0086001717619175,3.596047007545439,3.346548558548474,3.5776066773625357,3.1027766148834415,4.278021540970132,4.676666179633474,2.7788744720027396,5.149203711868772,4.710599646651555,4.132419798097615,4.595099223134872,3.862548769524793,5.2072114446457345,4.208656300507248,2.0,5.064753658075849,5.9116332070914295,2.9934362304976116,3.629409599102719,5.8609808853748815,3.583085366347688,4.525977214441068,3.788521887222473,4.5356358500212455,3.8725641430906514,4.622638781143737,4.914581133948868,4.039176084376041,2.8228216453031045,3.335858911319818,4.729585915915656,4.277861238225117,3.9736819185039836,3.985111979539354,3.3473300153169503,4.364813556261336,3.4815859363676225,4.980262506671211,3.895919545310016,3.624488362513449,4.239749810446364,3.816506437046357,4.521974471987394,4.5413545507544155,3.824516328007209,3.0281644194244697,3.2545480771089736,5.56526325214848,4.30758160475063,3.867820908045573,4.691497013048932,4.8399617240313875,3.5375672571526753,4.599052973218668,3.5784099703312355,4.981075278021446,3.2195845262142546,3.519696767159853,2.9943171526696366,3.7166709755601355,4.893750668826052,4.5416042026823655,3.8330195470765314,4.095239112010478,2.5563025007672873,4.221075016611721,4.981836721265551,4.981841249671224,3.4933186082321015,2.342422680822206,1.5185139398778875,3.185542154854375,4.451801781347931,3.5951654147902294,2.951337518795918,4.32623342090424,3.3100557377508912,4.12100143498964,5.072007124979739,3.976074731619874,4.004192356259714,4.45618377342913,4.292721137774543,4.023005397249935,3.6461095219788477,4.701895956420554,3.5245259366263757,6.648105019916291,7.442828695007467,7.3507649281761065,5.405274626496241,5.172885947607307,5.567265221276281,6.718847160148968,7.364241494833887,6.9094816258700735,7.020581192143833,6.175326517381998,4.776701183988411,6.416728023001743,6.609272997768305,6.577367812895397,6.792291019578153,4.013090138125056,7.652166274482339,6.000181063049931,4.231444102917431,5.836312086975805,4.01674092728626,7.152236256505845,5.772371589035087,6.23861382923886,5.4701766676406365,6.0552372392123806,6.7455953984674855,6.112456525188226,5.432467398866791,6.334037352716306,5.704386482334277,6.692037214380152,4.361822237600815,4.832872801178226,6.11410701707667,6.950539462130446,6.6158166933134055,4.623796983177253,5.411154863185121,5.9958505337179835,7.009303754682059,6.881620287477124,5.881172308482441,6.99483733437439,6.327027926974218,6.884866079678723,7.442843248393643,6.648100918530406,7.020582269045201,7.1522455856806255,7.350799377294058,6.609272036699893,6.5048601257665055,6.130677207853693,6.733893103782397,6.994840806315357,5.17288011407945,6.276289430889813,5.264454185214804,5.363066419188178,5.4702708003481675,6.7923132292145745,6.7376397516995095,4.777093179301813,6.185957269974767,7.364265280073927,7.172930367351888,6.8849366140835775,6.055863964934762,6.416743993539359,5.995892185784826,4.015108160645837,6.909499171451171,6.6920641318030345,4.278410601475816,5.816285721735576,6.881628329755752,4.018450832386356,6.718902167809573,6.141478934433568,6.4310979589509865,6.051159085069968,6.994872931439845,6.74560600864173,4.873163599530661,6.731398488023405,6.439397438363092,6.112472950576838,5.663829969868849,5.976316041255255,3.968716377466786,6.648242003482643,6.17569963844578,7.442857362675853,6.130683958152894,5.5570618518720245,6.055862437435175,7.152298865192367,6.718900923369394,6.78349866811714,5.772528534228888,6.186132145115059,6.909496122422416,7.018072939213823,5.363098419249706,4.568471607033241,5.625563487052034,4.991770817801046,4.327604113814315,5.072812167311912,5.150845438090308,4.846497932158269,6.352377810202604,4.480768447380031,4.19763887555557,4.928963955613188,4.666667711458589,3.8570911546735136,4.683551319853661,6.808060531036522,4.412040330191658,4.743352951409555,5.17078079778453,6.570035499665723,6.265068178251169,5.007261163922949,5.440038046665627,5.242429610405385,6.660720941992303,5.162423999780339,6.175909686010835,5.7254689488424395,6.569873470552944,5.29127558702192,4.476251796007033,4.6229907048100864,5.335808805235897,6.363947441489229,5.219814971182443,5.733312847516606,6.044269222000761,4.464906651310901,5.278234423132749,5.528597929378427,5.009055516398021,6.490430184609493,4.624065410336692,5.380963367159664,4.511963531021603,4.849708028492166,5.554873010824936,4.187605315418149,4.590585505352095,5.331987771869684,5.002636832365111,6.128355966365216,5.227158844499157,5.740141537823709,4.278662160909981,4.399569893656842,4.96863702571286,5.081318497927715,5.274093162289566,5.685724724670739,3.312811826212088,4.8665177199381375,4.7709771293157575,3.765594055319445,4.270003000105059,4.299332935762522,4.324673350189245,3.86993541064686,4.2582780152430315,4.033222646670249,4.1140769608240895,4.582142938379449,3.9728505558472302,5.528804900030776,6.648348494704903,7.350823774679102,6.589233262307855,7.152305165322445,6.434431888060516,6.044224900373872,6.570108194382435,5.96922714894998,5.219919678486251,6.170317172433133,6.392356241343033,5.490205774146339,5.9070553944528434,5.649757262654629,5.332072690576088,5.7180580335527935,5.76650653752753,4.512564335079659,4.95529319520027,5.327407981346393,6.310810948802601,5.872554824616388,5.619656712693948,4.220134249570252,6.485363766895308,5.35124342744702,4.419079671250476,7.350832913664128,6.648351227408205,7.152346175100489,7.442877068642197,6.79232829188628,4.020899672862536,5.173025928773911,6.130903125141154,6.276365743236254,7.364302072354319,7.65218721876379,6.88163654299298,6.609343683858324,5.470669167575572,4.777477571700733,4.019531684531255,7.020610598875889,6.909510618490888,6.112479319437936,6.49051076432479,5.3633279975987795,6.994904922362338,6.718941075507212,6.504902359887262,7.002404577325923,6.615914822951238,6.334168148852709,5.704659184502344,6.733973324247231,5.995952245416227,5.772691286618114,4.340285439470468,6.0562334619563885,6.994924212452791,5.295655049432586,4.873291531600059,6.745612561855152,6.431183896831749,6.186383581545706,7.1729667047491965,6.950550704327878,6.885036056057572,6.051321574858934,4.469011558655687,5.816337430878262,6.692093165447916,6.738508563772135,6.034857373337404,6.17638040290641,6.6264313235496966,6.909510778961263,6.431185023245364,5.9959259429502545,6.326175634071486,6.122957642192073,5.265313202554297,6.001417393192341,6.094420463820127,5.603604416043725,7.040565237598103,5.712360917636444,5.9803015908250154,6.166900862383089,5.8608750015470665,5.739603194874897,6.193027149557767,5.465626701794908,5.716806046155215,6.140451474226279,5.720586769625487,2.842609239610562,5.289965564187141,5.515342567401126,6.581699289765883,4.022758194236769,5.023746163152476,4.569830205803096,5.169647987716812,5.5414332065958725,5.5356269937495926,5.33615742373872,5.54946062518537,5.876819775841517,4.6340235935670835,4.9067551235549836,5.185771564917941,2.747411807886423,6.487598031607945,4.425680916828624,6.332648284553548,5.486804392047789,6.176271309173032,7.152337398538569,5.4473100078165535,5.173157120153469,5.188264588243964,4.431122422401232,6.051321574858934,6.731409934410912,6.950552115665436,6.122958951030407,4.362539019830598,4.624746058172765,5.995984244601896,5.234132423285725,6.416753642121246,6.1141500940782185,6.3271121850371586,6.783519616127957,5.0182967999385975,6.7456140441159045,6.170315118595035,6.439434543683184,4.678008215971998,5.09915212365681,3.638988159343682,6.3261791178926785,5.332191953101045,5.909042273879327,6.186489882074109,4.231571525528415,5.190852539106477,6.051370965880668,4.537743559029619,5.416059395457739,6.666346007078303,6.692089459133239,6.166914761088742,5.537296368413766,6.881636086706098,5.369419964965584,4.686770290087892,5.672738662331457,4.624746058172765,6.648351227408205,4.169498094684968,4.105612359686785,4.531261715496391,4.306789467495679,3.760497875226527,4.06513137214021,4.112202690730536,2.8356905714924254,3.9902944461284386,5.567471025475834,4.058274146685951,3.3324384599156054,4.686770290087892,2.582063362911709,4.396826789268784,3.04493154614916,2.9885589568786157,5.036608936517427,3.162862993321926,3.010299956639812,6.006389873582248,4.939324525236297,3.864511081058392,5.4300653757750785,4.777013357095503,4.269886370278673,4.077367905284157,3.632356046239073,4.834331673725784,4.068779363009561,3.521530341278711,4.563552275376031,5.5166926697399665,7.009323265859859,4.669697999665881,5.724975094126807,3.848189116991399,5.372738986810791,4.249271753073101,6.798954338239243,5.716511671680538,2.635483746814912,4.505543379461151,3.6239725120169965,1.806179973983887,1.9822712330395684,4.916301260621684,2.6954816764901977,4.46887879425401,4.28397928423848,4.046339055604809,4.374216605428374,3.984617313236748,3.98344585734134,4.467149153489957,3.2530955858490316,3.963740618857884,4.1465621131575565,5.0448414667169414,2.204119982655925,4.015611204503513,4.678008215971998,5.724924368634678,4.084111351940677,2.374748346010104,3.8064513232472623,3.803183888535342,2.2278867046136734,0.9030899869919435,0.3010299956639812,6.64844344606288,4.687537878874246,4.183155915434013,5.716549209270365,3.610234175334389,5.725015997466573,5.028367883697062,4.528723923260994,3.6239725120169965,4.769340394703022,3.5098742850047193,4.672384213061724,2.1172712956557644,2.0569048513364727,5.828146042658128,3.3380578754197563,5.244586337249155,3.9298274812306913,3.5420781463356255,5.579114496527485,4.28431791543061,1.8129133566428555,4.395798006163393,2.8836614351536176,4.003805073565025,5.720615693144062,3.5754187912143602,5.15033575317684,5.674479013891064,6.12358771872892,5.171126508351265,4.615666037476722,2.444044795918076,5.593945870437759,4.634074025487468,5.711037466550156,4.621871842426364,6.006400144294075,4.362859302958681,5.049528122277718,4.190023379766885,4.715125516287474,5.794765404629373,4.823871824344379,4.018991594705612,6.197059080411442,4.282622112878062,5.229448893596595,3.79155030502733,3.13640344813399,3.470116353151004,2.8639173769578603,3.99370069482035,4.031529645803423,2.187520720836463,5.460180439241972,3.6553305580093407,3.5221833176186865,4.492760389026838,2.931457870689005,2.7481880270062002,2.294466226161593,4.800620863151413,4.376065721586172,3.7786576319473553,3.4628470358316736,3.5583485087616196,3.4861469968065726,3.509740015570382,2.4409090820652177,3.2027606873931997,2.9439888750737717,4.836064474351997,1.7853298350107671,3.050379756261458,1.4771212547196624,2.7528164311882715,1.9867717342662448,1.5797835966168101,0.6020599913279624,1.5797835966168101,2.330413773349191,2.3944516808262164,2.2671717284030137,3.34143452457814,3.2081725266671217,2.5550944485783194,4.580023535169366,3.791690649020118,3.839037873388306,4.119090852421722,2.621176281775035,3.0644579892269186,4.777550060431357,3.0178677189635055,1.863322860120456,2.582063362911709,2.403120521175818,3.530967681571915,6.64844686119258,5.260484010288327,5.672756192677327,4.776185243725518,5.124233521550864,4.674061597170315,4.980171599686484,4.823865309324511,4.714648237350974,6.798954131248306,4.55664015407172,5.723246273560069,4.644064206143179,4.901278463356397,4.317290103960419,6.197061011589443,5.091040559372023,3.909876817990393,4.706606848164508,4.800442121336257,4.458441427978769,4.658764792559011,4.294906910605192,5.558672577786327,5.203084585661507,5.549474105798052,5.435081133196226,6.375949514179941,5.112615054531227,3.0549958615291417,2.761927838420529,2.110589710299249,1.7993405494535817,2.3344537511509307,2.2329961103921536,1.6532125137753437,2.8555191556678,3.46553155697355,3.185542154854375,1.9637878273455553,2.298853076409707,3.133858125203335,1.0791812460476249,1.1760912590556813,2.3138672203691533,2.59659709562646,1.8976270912904414,1.1760912590556813,0.47712125471966244,1.5440680443502757,1.8864907251724818,0.47712125471966244,1.7075701760979363,2.330413773349191,2.0170333392987803,0.9030899869919435,1.6532125137753437,0.3010299956639812,1.9030899869919435,1.0,2.1931245983544616,2.250420002308894,2.760422483423212,2.225309281725863,1.3979400086720377,2.2121876044039577,0.47712125471966244,1.3979400086720377,2.503790683057181,2.123851640967086,0.9542425094393249,1.8692317197309762,0.47712125471966244,3.6239725120169965,1.0791812460476249,1.2304489213782739,2.5538830266438746,2.8609366207000937,1.5185139398778875,2.6919651027673606,null,1.6127838567197355,2.7958800173440754,1.0791812460476249,1.806179973983887,1.041392685158225,0.6020599913279624,2.330413773349191,1.8195439355418688,4.772013483045508,4.289432863850786,4.8640243036114015,4.439711549174355,5.012238075522615,3.3209766773428235,2.3729120029701067,4.518948017357206,4.896663979419943,4.271237354470836,2.3979400086720375,3.7969903905456865,1.3424226808222062,4.730321905623029,3.4243915544102776,3.6508900778563125,5.194264516025517,3.302330928684399,3.785258633357701,4.364738555055399,3.9215824403934163,3.894149846767922,3.7913397039651393,3.5801263254115825,3.2643455070500926,3.5690225860295635,2.4983105537896004,4.941600866224787,4.326110460970829,3.2420442393695508,4.839641427008459,2.656098202012832,4.029789470831855,2.845098040014257,2.9609461957338317,4.2007137339640135,2.7015679850559273,2.6884198220027105,2.278753600952829,1.1760912590556813,4.429138344767089,5.0003559755451255,1.4313637641589874,4.85833865194422,1.3222192947339193,3.780677274433368,3.9976047874604546,3.635282637998212,1.8920946026904804,3.3459615418131414,1.6720978579357175,4.3781979704459175,2.8129133566428557,0.8450980400142568,3.543819805142658,3.484584529282843,3.2422929049829308,1.6532125137753437,3.2268575702887237,2.7234556720351857,3.142389466118836,2.7573960287930244,1.7323937598229686,2.439332693830263,3.334252642334231,3.4699692094999595,1.9242792860618816,4.191590726379211,3.7420177471401384,3.323870606540509,1.863322860120456,2.61066016308988,1.5185139398778875,2.294466226161593,2.4345689040341987,3.685920792194535,1.5797835966168101,1.0,1.9542425094393248,3.1099158630237933,3.6337713460825554,3.1889284837608534,2.45178643552429,2.6627578316815743,1.2304489213782739,2.7101173651118162,2.225309281725863,1.9138138523837167,2.0492180226701815,1.9637878273455553,1.919078092376074,0.47712125471966244,0.7781512503836436,2.5352941200427703,2.1367205671564067,3.6135247028536526,null,0.3010299956639812,null,null,0.9542425094393249,0.47712125471966244,0.3010299956639812,1.3010299956639813,null,0.7781512503836436,0.3010299956639812,null,null,null,null,null,null,null,null,null,1.3979400086720377,null,0.47712125471966244,0.0,0.0,0.3010299956639812,0.47712125471966244,null,0.6020599913279624,null,0.3010299956639812,null,0.6020599913279624,0.3010299956639812,0.47712125471966244,0.47712125471966244,0.3010299956639812,0.0,null,null,null,1.0,1.4471580313422192,null,0.0,0.6989700043360189,null,null,null,null,0.0,null,null,1.146128035678238,0.6989700043360189,0.0,0.0,null,null,null,0.0,null,0.3010299956639812,null,2.6954816764901977,4.730354228219148,1.6434526764861874,1.0,2.093421685162235,3.3040594662175993,1.041392685158225,2.75815462196739,2.2121876044039577,null,1.6434526764861874,2.5185139398778875,1.380211241711606,2.725094521081469,1.3010299956639813,3.5558196830611912,1.7481880270062005,1.0,1.4313637641589874,1.7993405494535817,2.089905111439398,2.0863598306747484,0.3010299956639812,1.414973347970818,2.0863598306747484,1.2304489213782739,2.7944880466591697,0.7781512503836436,0.7781512503836436,0.8450980400142568,2.403120521175818,3.5781806096277777,0.0,1.0,1.8195439355418688,1.8129133566428555,1.2304489213782739,1.4471580313422192,0.0,2.4653828514484184,1.2787536009528289,7.892975137931482,7.823326263442741,6.9348144117649255,4.691726705009727,6.470605394588515,4.352028074837365,7.230826516740459,3.1470576710283598,6.634017642214164,5.644624675801573,6.684048274519831,3.6918768225593315,4.138681553510374,3.7843319480221482,4.848903113579282,3.0791812460476247,4.883547879268043,5.4336818463880565,5.352381282982589,4.520837112780868,4.738526881793802,5.6601033720125695,4.407594830510745,4.214949760615447,3.399327532158679,4.901229398233644,2.5728716022004803,6.10005160073217,3.6767850304192056,4.782200208873481,4.355930187078868,4.344352969238557,5.364222570839501,4.1213299979360905,5.681157989621725,5.496421752239108,5.733141068099784,4.756985836853364,6.088256256424531,4.291879223914697,5.537719636543326,4.898335677325814,4.921624057420127,6.577695112354535,5.498918140852491,5.582199769073717,5.615660776202857,6.580545115395109,6.100318495596464,5.687371980426223,6.063334860399394,5.626448157592176,5.313451701203623,5.456086536971439,6.470605247635334,5.139960902292224,3.9511431601075526,3.628695382714023,7.230824423723759,7.823327131022189,4.171287550652861,3.8053649074664455,5.491182335210319,5.681158894574402,4.254185409462092,7.2308409378618235,4.71182409451883,6.0269616279022795,4.76597386891941,5.804350051576898,6.100334007695665,6.06333448503797,5.208468230265617,4.288830281415853,6.088266180295851,6.1821175070748575,5.626482028992967,5.456092614887902,4.521778587954529,4.711840959341538,6.070331239682337,5.930671462424057,5.954273391504467,3.5654936298688624,5.842367689741699,5.582200905611751,5.31746158745103,5.244826137593629,3.3121773564397787,4.898341165727509,6.070338996230403,5.687377332978343,6.02697264788561,5.7955720802695065,5.717685478415857,5.151103123192131,6.79316138939865,5.771816692597789,4.974484059123403,5.784441114477698,4.5906300952524814,6.772072649600975,5.6449041477559945,6.445436523897912,5.988233336921813,5.958671846207224,6.196743631396006,5.933448310953905,4.550998389769781,4.9337807676854615,5.0285631197609195,3.94546858513182,4.570379464958702,4.4101696395679975,4.645962345084391,6.035407722698893,4.261310460100623,4.630936119064192,3.5630061870617937,5.3359410727849825,5.821046230384839,4.489029868068816,5.565009104212596,3.4129642719966626,5.211267417996193,6.58661261902683,5.099621948699957,5.234476787966766,5.387640719108037,5.754557022172531,5.153851434971632,5.037920276906324,5.130472077304193,5.0357978318473915,6.1190056688676595,4.687814235537662,5.488880542227846,5.2516309213199515,4.835094196056521,6.779070907886574,4.656692194249391,4.263967284093983,4.200494821738647,3.963268251526235,4.365244562017571,4.0718083918331285,3.998912904358786,4.723422831891353,3.8917046762391827,3.9868165045855366,4.498572430220714,5.260047524995322,5.329875645525051,6.793164256251124,4.632163613891242,5.499560624043366,5.322649240187665,6.136957937725579,4.899059547328757,5.454425601623154,4.826534781534394,4.664199935938319,5.0081017245156,3.2198463860243605,4.762828553189091,4.455195201927577,4.397122766597578,4.571161252412725,4.528376708845408,5.454419500331976,3.534026106056135,3.856910060300786,3.3575537197430814,3.709354775834396,4.599173217352912,3.1925674533365456,4.229579462665645,4.623104501437765,5.26978371011636,4.1167737269759,6.772069933694918,4.4557582031041365,4.533657688430812,4.649217992456271,3.6188844849954505,5.024374822259768,5.958661337715171,5.446269922308643,4.526119489456887,4.974073953905215,4.980094313785294,5.259589101142596,4.410254078446397,3.6629466143326246,4.860912691970266,5.043067407930429,3.3756636139608855,6.772137165726513,4.55019165056213,3.5886078047426864,4.835094196056521,4.644152905049394,6.793237109906439,3.8048206787211623,3.709524355876341,5.259648819157038,4.2840244503226454,4.994387549311506,5.039414119176137,4.325495138564264,3.12057393120585,4.702637294117559,4.510518201077809,7.035772075443606,5.341919002075212,4.590540910873103,5.154223061647266,5.414053675030946,5.090007494004327,5.961328054900747,4.33927251885594,6.722845918354639,4.014898386946205,2.9339931638312424,4.60518648804185,3.526597709103452,4.696181587168524,3.5286596452349897,4.022222104507706,3.543074235033532,5.815855899886019,3.2704459080179626,4.872016343260914,5.3460750936034565,5.604031549319823,3.493597449000527,4.5049463550535815,3.6434526764861874,6.523480607632878,4.067331280208168,6.499418589158266,5.097808940207254,4.74907122781966,4.195899652409234,4.218088902860845,4.420961881120924,5.456043989174352,3.6444385894678386,3.7675268994083817,4.672928690442722,5.367428608010729,4.456031831895234,6.064105168879645,4.727712013419855,6.198461060464361,5.06774020292624,4.337059726320525,4.795330721891043,7.035771355522177,4.846269054955657,5.927964929034471,5.401316086421178,5.815855236251843,6.722844274099489,5.381069933406738,5.722014117312136,6.49940332417497,4.743721372932989,4.832955750604598,6.38348054305843,5.517407053652154,4.630193882888373,6.1810912071391035,5.909391800649276,4.369957607346053,6.527455761558573,4.624065410336692,4.472858796225402,4.178919421035465,4.5529600806943495,4.856716809700761,6.687091146557254,5.025633511060698,4.652642731849244,5.111504467940425,5.045581131197649,4.695069952343107,7.035791872815257,4.636447774917529,5.114213866909377,5.664784836821036,5.148963388856961,4.948706308904852,4.692062190274261,5.5456212785872605,5.197297102362184,6.272170338233662,5.6242542423272655,4.540992300356618,5.80335194355912,4.892873406888766,5.388049666025282,4.109409790546366,5.333130759029739,6.786820747610305,6.527455374791051,5.876861297650943,6.6870923962998585,4.212720154417842,5.930770287046898,6.174493304010893,5.722014941013494,5.913694140089789,4.524253281297611,5.545622514996992,5.679274321831208,6.272171498568675,6.523480087200922,5.1015305599185305,4.8329621306735255,5.572413842252829,4.188253327026504,5.853904969448208,6.161667412437736,6.17339957411513,6.3351131366656475,6.065666340929219,5.059487684274447,5.876082680055248,6.383484673814397,5.961381697260995,6.499432890998114,6.880502560367718,6.012262141807771,5.224408738700019,5.909403036505868,6.031520356414497,6.876787189974854,6.527462981155759,6.198476459856495,4.971860082778998,5.776023795690518,5.915457350356888,6.687094627974137,5.295116079170464,4.334011188761349,5.487778735068386,4.517143092979163,4.994391948722769,5.734448572887568,5.665301376714262,5.716952741922496,3.255754786643044,5.452801160626077,4.918460222353907,5.662564244262064,5.126537252055469,5.95999245732144,3.238798562713917,5.535178883770655,4.503899583379192,4.750276915153993,5.032312471231069,5.006273455202784,5.184066505691661,4.337119680002865,5.613190420214953,5.443891672311155,4.959189313598999,5.052020243978609,4.882786287974826,4.805759047285239,4.271330371066159,4.600733369029172,5.18431374267384,4.803320523578754,5.082796137814752,5.132781426164735,5.246616740089661,3.296884475538547,4.204554060135243,3.999652425366079,4.562173863364649,5.087362533275025,2.3384564936046046,3.6032526619816467,4.400917723075448,4.14992695911359,3.395675785269936,5.257529785528793,2.9777236052888476,5.366279102542887,3.2211533219547053,3.143327129992046,3.395501124305626,5.276080192732058,2.8432327780980096,3.741151598851785,3.657915936829955,3.785756799962643,5.443888546777372,5.460610722794537,4.639596045157781,4.894548658145807,3.4795753101749884,4.489114369378919,4.559367909463331,2.876217840591642,4.28397928423848,2.9666109866819346,4.416673785333922,4.570157507664826,3.305351369446624,2.9020028913507296,3.877544107715944,3.265996370495079,4.117204986092783,3.2796669440484556,4.044735697450507,3.5298151966446305,4.0473138158153885,4.472361456582478,5.443894797822444,4.699117639363333,4.8037984079896745,5.246621662695988,4.700522002159753,5.716954408635146,3.9987387162558177,5.087366084841944,3.220108088040055,2.5575072019056577,3.7246853882373596,4.381692552058164,5.126563213213785,4.9591988551773865,2.9956351945975497,4.510357311542046,2.0043213737826426,4.918465462235449,4.548929646552791,4.460822698802402,5.613202060959419,4.062544381346465,4.533047206146454,5.662566133336705,3.608205007704326,3.74170298395774,3.6306312440205,2.7315887651867388,5.535182683256077,5.823813837231414,5.923640299923967,3.4687902620996107,5.034700632535838,4.271353622102485,4.838439779925449,4.907948521612273,3.741230411025471,4.8782057255344995,6.205547277851637,5.135533353679754,5.3421225191123565,4.71624547881444,4.6918768225593315,3.711807229041191,4.810991533545671,5.335233172893472,5.68263687783336,3.7790189719148706,5.4151754149254625,6.26254315989327,4.2523189329416535,4.429283828934125,6.065518842018395,5.555581697920445,6.965444188902388,4.528685357587024,5.28474872400752,6.368966159112555,5.8759584570014995,4.3941188276945695,4.516693991312429,4.2068528500066975,4.885242451395477,6.328316187736741,4.993810840774909,5.135555604082295,5.662617135246239,3.746011107751926,4.225696871650654,3.3573630306151427,4.658602779715658,2.45484486000851,6.065519215496617,2.4082399653118496,4.33128554558701,3.439332693830263,3.8500945943867007,4.252416090544274,5.625106575403468,4.64281063073728,5.235248084993295,5.399737736268233,4.19728055812562,4.440279213235589,5.682637779709677,5.178781326919915,2.967547976218862,5.885832015933023,4.425941588018896,4.1230345297535065,4.689575215759938,4.6340135064802075,6.262542922624123,4.195346058348419,4.229937685907934,3.7085908451503435,4.483544507227306,5.21827022625266,5.792765582140714,5.778058591010153,4.099127927726467,3.402777069610347,1.5314789170422551,2.630427875025024,4.550961752298176,5.599251904580903,4.048519487922654,4.223599764649694,4.001517376823505,4.307774068517087,4.410608542568368,4.628858735758181,3.840419777736486,4.385266568957531,4.716237131572411,4.2562124585651615,4.35694321958013,4.679246145413859,3.8867726430544383,4.521870011498159,4.162683865877892,5.129995852469141,4.681982524113211,3.3836358683618797,4.25321681250213,4.790819784279974,4.013805927340592,3.2065560440990297,4.482916439502271,4.270026322312294,3.9168748785386835,5.41519544950005,4.760218860156887,5.555771371755518,4.235578943330128,5.4208218220040685,4.149650113098115,2.949390006644913,3.8544882250444306,6.965454440498559,5.175288520488822,3.8300751664297503,5.08052908438032,4.604496052771067,4.631940690913836,3.9987387162558177,3.7752462597402365,4.262308674749025,6.328319858351389,4.587205677606586,6.904904419597511,6.759297063321938,4.261001023335196,4.383797419556664,4.572092890303906,7.105839204230509,2.4885507165004443,4.521347331832345,4.610340711452157,4.460296326757476,4.884251447603519,4.418118915654199,5.868837741626928,4.66122566027014,4.40810422707605,4.53308538644057,3.379124146070392,5.519129412093188,0.0,5.136320959244881,3.092018470752797,6.891576090880491,5.730422097841695,5.499116352674126,2.1522883443830563,4.086893471309455,5.104565632303901,3.9823617016331467,4.382935117923578,4.657849102464169,4.451018452155457,6.269306254925577,4.874011899299447,4.267476801134049,1.8195439355418688,4.162922686055428,4.939793719853684,4.231214647962601,6.1073534666930955,4.399569893656842,2.552668216112193,2.4983105537896004,5.21483590356378,3.7348798027926273,1.7708520116421442,2.093421685162235,3.1522883443830567,5.073494731912843,4.777955773881275,4.506653830565551,5.059896489053404,4.8475973342639564,5.633044053669549,5.94293323087234,5.317449042174265,6.628887214155153,5.047302131652784,5.674772987457128,5.062239677952538,5.221067185300831,5.79163311346838,5.284793810145905,4.734055372609905,4.782264743729289,6.1257411140092035,5.171744000550545,5.832452706253965,5.183816283638807,4.888241290806114,4.68314613977958,4.0930011966847495,4.931391755255445,4.525161467496205,5.534452571878904,4.9582340955611794,4.104418820647595,4.9327730000510135,4.214711421005384,2.90687353472207,4.384980295651304,3.219322508419337,5.760764657089117,4.94780119714398,4.7547151901452525,4.280942405998698,6.047817104714745,5.189147683900026,4.609338238662207,4.600243016285841,5.436612616559754,5.144511938703939,5.9036617933770525,6.269304853306475,4.816883977893371,6.0442731440507815,6.66220970841547,4.975096192120322,5.525193867618713,4.530532657749054,6.012328422751133,5.127762224244919,4.195705974747098,4.6900099139263975,5.613104692396312,4.804221238347315,4.025100961046814,3.977540705946535,5.632032913840528,5.3532312783344125,6.4900606460760395,5.676180381849934,4.614232616698708,4.8770025574116485,5.872299070944596,6.693210587703147,5.138498481359409,5.238020998675949,4.834477927588344,6.049917371372883,3.854063011866421,6.810678751461003,4.6959804783518235,3.236537261488694,5.143820153619965,4.51579439233202,5.012512436540032,6.826254705953556,3.8798410559865624,4.384084473382559,3.7052648623174043,4.194042327886423,6.057493036164827,4.469601132113826,5.153488640030498,4.855446464315734,5.060134780920607,4.793853220182527,5.306369262703833,5.709356471962629,5.474683826151568,6.762186309468436,4.675714200621922,4.744488567220512,3.3554515201265174,5.425535850729745,5.812624621889317,3.80222623769107,3.7334380270910614,6.092417093773026,3.6743098889414774,4.643057683751453,6.51550413886555,2.359835482339888,3.8212514315459414,4.033262875884479,5.437741052618118,4.4654274684525745,4.276875221131548,3.313023110323238,2.6434526764861874,4.8225145918105214,2.5998830720736876,4.082390377581715,3.4514794051248616,4.951055670312243,5.6953984871204355,4.9382344381138195,4.484271360086347,4.990738328507537,4.398582289334715,4.768023587613407,4.794495017622194,4.570974684770967,3.2016701796465816,5.774604545700326,5.000564216165375,5.46938160953077,4.803620969444699,5.052990038264142,4.76381718658969,4.085647288296856,5.0735680621195876,5.051071446576776,4.841465840801848,5.865600196876207,5.197266770780362,4.9369207028228095,5.685724724670739,4.890555143101518,6.378431516584015,4.519486722064457,4.553531081284317,5.462758761706262,4.841909812018154,4.017075096376059,4.45948295635281,4.054727932082198,4.824321124850771,4.411737521817357,5.425537480955108,5.70935986419922,5.400738253986169,4.9410142437055695,5.258634888591337,2.944975908412048,4.609637089632301,5.795827203923955,4.708803182944582,5.811470440908292,6.413625111524921,3.871280972857973,5.0636072872131885,4.079470679235214,6.3189239715615315,5.729914434663802,6.4794741021548425,6.074872734429421,6.436348892388541,3.9151887051731564,5.359444631130346,6.512270178453039,5.354983831896304,6.033219025858179,4.049218022670182,3.9846623061901068,4.76845309827063,6.0163253636539356,5.458260037360323,5.681822621705806,4.444044795918076,5.839775854917036,3.328583449714202,6.731103841255612,4.424211718939285,4.1303337684950066,3.931966114728173,6.2698187106253345,4.363405123740625,3.841922311679451,5.933592558599894,5.911680046387165,5.010516201803709,4.751302204139296,5.0609696613810975,4.285602311285613,6.172718494203392,3.8176975547630243,5.761220218813422,6.038368571791406,5.791548901358346,5.321590146276044,6.17562573549073,4.186617351853637,5.091357390494647,5.268652843787503,4.90766390912036,6.441689481136873,4.61718912377195,5.74034136905999,2.3263358609287517,3.778946727968617,4.254185409462092,4.404320467221731,4.8700877268440355,5.247661542090276,5.607044125718749,4.011570443597278,5.1931218144065525,4.753682621170414,5.069131371012799,5.4754430875179425,4.860415873083373,5.3121583080184545,4.867438023190503,5.161005439680514,6.731102711956281,4.697177014971004,5.784747062398468,2.9907826918031377,4.72439876574326,5.443722861289891,4.829451729448496,4.240923478794255,6.3189237631794155,6.436355252902791,6.479475254014639,5.695830897937652,6.033269312212952,5.911676320719026,5.740283719681879,5.7915474976848245,6.17844079487693,5.681819910988056,5.933602173406347,5.388397856278495,6.380395235017484,4.756126216564565,4.090645957573315,5.087866565242793,4.332579835105698,4.906232652625294,4.5705896357028015,4.027064062151045,5.354674958301177,4.762708565764124,5.607036612224085,6.172718785990212,5.475459073006582,5.681818103833489,3.712397131406715,3.953518081444993,4.213491193830334,4.4813136109793765,4.414722721158879,4.784189205380961,5.125718680175052,4.369085920821508,5.296777039587499,5.011121962695033,5.933603691514223,4.903735520037512,4.430058922470643,5.426818574545883,6.016324108835676,3.8356905714924254,6.269818477297948,4.271121055704133,4.215373152783422,4.2081456345353505,4.853892809956602,5.450956954777571,1.9344984512435677,4.253846646198501,1.8808135922807914,3.557988148224913,1.5314789170422551,1.4913616938342726,3.1501421618485588,1.591064607026499,1.5563025007672873,3.578524605274993,1.8260748027008264,2.0293837776852097,2.747411807886423,3.696880371682762,3.5116160205691376,1.6434526764861874,3.9681559371499704,4.795087140885729,2.2095150145426308,3.000867721531227,1.99563519459755,2.6972293427597176,4.535749700285857,3.9577509108772793,2.2121876044039577,2.278753600952829,2.6665179805548807,2.8555191556678,1.7993405494535817,3.875350696579289,4.060735603449318,1.8388490907372552,3.433769833924866,2.5428254269591797,1.568201724066995,2.906335041805091,1.7781512503836436,2.503790683057181,2.9159272116971158,3.8239955911559678,3.287801729930226,1.5314789170422551,3.010723865391773,3.5245259366263757,3.727785174182906,2.392696953259666,2.9867717342662448,3.502700175310563,3.184123354239671,1.591064607026499,4.88533294473075,6.1926892505619255,5.2026381418816685,6.312474403685976,2.950364854376123,5.992109276505954,4.046026669702541,5.252692870525002,4.052963128755503,4.186673867499745,4.259928190374753,4.608590210285717,5.124953936649168,4.567026366159061,6.117946082500962,3.621591675859218,5.004295573344093,4.301203678722446,4.127946642848902,4.2735336801512975,4.430413711892598,3.8725641430906514,5.131416545297398,3.882125919770032,6.153161560032545,4.330494942302217,3.3310221710418286,5.277180437706072,4.953605076634127,5.490824798275393,3.5413295776666938,4.386481129682074,4.345452151375825,4.242864296140707,4.203196124935032,3.3677285460869766,4.467519313989927,4.831050302168686,2.8020892578817325,4.265407496531089,7.4091771820796755,3.8783494222177755,4.7715066402054775,3.190611797813605,4.105986795521472,4.738836030514029,5.4133047944901325,5.086060705255161,2.6020599913279625,3.5943925503754266,6.013711679040546,5.3788374243425325,5.286413801698848,3.88218288763027,4.295303144637152,5.414313052733486,4.271818381611661,4.994840454727661,4.724325032231096,5.64040291897128,5.545514934179966,6.208332769244127,5.9573122305126205,3.5420781463356255,3.7512020945883533,5.7031391333706525,4.413668506282474,3.7446840632768863,5.964668739952044,3.809492376937342,4.2006863759696165,3.3207692283386865,4.421949251062879,3.4295908022233017,4.5678377032007615,4.660334138013914,5.854102513486265,5.076283542163253,6.811201271427783,3.8251014115980033,null,4.062544381346465,4.4599199557469165,4.120738405542943,3.1007150865730817,3.084576277934331,6.811217772413807,5.2030927480431926,5.230359498602868,4.586924708144821,5.397799274459727,5.199195498125692,4.629654203154188,4.421784845215252,5.472436093846595,4.472844176715128,4.487039339385563,4.921988036390143,3.7829024059746446,5.466986182866968,4.734447772434011,5.5513536129407965,4.578432899740808,5.280778627725314,5.976899034942145,3.979912410334717,3.029789470831856,4.075838825974687,5.267307864252835,5.843364853321681,2.9903388547876015,5.943313934534487,4.713356117810225,5.243310948029823,7.066974198951677,5.5538150869976555,2.8662873390841948,3.405346360175709,4.274573464196471,4.481256257553046,4.498365698794043,4.144574207609616,4.3252487652875375,4.617943434828973,3.3201462861110542,4.646148760728595,3.8454701329816734,3.471144965160633,4.603869396279855,4.754401854620543,6.108570773699593,3.636688447953283,4.01628102454283,5.616999292099145,4.82593217512484,4.822063417484898,4.248046869358662,4.506789057394985,2.5440680443502757,4.871718843318762,5.117364112038285,4.929199168209508,3.5199591807520685,4.364701049594699,3.1398790864012365,4.6924855910416525,5.269242009402035,4.612518962242537,4.433033388650613,5.394437671100835,4.803777938010869,3.7856856682809013,4.487449484819456,4.752232887721093,4.394276526767822,4.119552797667117,4.790228849914659,3.566319621524811,4.278204671684168,4.799478398837981,4.797544514361726,4.884665112696725,4.89295121055062,5.6808737411841275,5.304785558213585,5.3679240463340046,4.905083160815474,4.367206781435987,4.373665842991645,4.1211328899984085,4.236537261488694,5.409392030619153,4.795636744311401,5.943317893287294,5.013149130069674,6.10857111193056,6.859296188395174,4.195373754817413,4.728199519203664,5.020361282647708,4.702938639388347,4.63617685823315,4.751610088867221,6.692707711313422,6.152864167269403,3.562530768862261,5.101341451443854,4.149527013754348,4.27207378750001,4.343664564988233,5.457054891049931,4.201997619583105,2.81424759573192,4.473749657013478,5.009654821838708,4.615160664316557,5.209646355356986,4.41520713590843,4.728856785157505,4.023746163152476,4.3342325263295995,3.5660837841679958,3.463743721247059,4.579062984566367,4.200440076436431,4.805636766305935,4.584048388485243,4.221596785740263,5.479161979586145,4.313972618860607,4.206663996990936,4.816837630902035,4.5081929260254405,4.6468740388566,4.366964320315918,4.099404372345543,4.8485339515573065,3.093421685162235,4.751825478380346,3.841296887490282,4.009365898346244,5.790620785479697,3.2273724422896364,4.275472601069419,4.073278335635835,4.7841749285361095,7.2304531621154515,5.210412165347667,5.947638566451709,3.5705429398818973,3.997866726239145,3.37984917876283,5.3290722907547305,6.256572957017352,4.977673315647802,7.020491427169262,6.581564433603043,4.010596736206526,2.863322860120456,6.745531966062993,5.420704796815582,6.237683705184363,4.596377143997599,3.117602691690084,7.172755724618298,6.736714894719691,2.2405492482825995,3.9366142619752114,6.038356644469025,3.6291036501771363,4.639247362265076,6.479222203434135,7.442663215813858,6.087034243101125,5.183719568312488,4.169262864086446,6.267731021111685,5.5481952629206255,5.827426787413285,3.4847268042986617,7.839538831777707,5.982599544114524,6.23133678407922,6.759039286935703,7.017921231416526,7.822886405863552,6.99459730763394,5.671960155516194,6.923747156259107,5.835975780765118,5.938479696190621,5.89603377473628,5.9022868858432975,3.829946695941636,4.117867626566016,5.616589980298196,6.005808754933976,6.048135591821121,5.95833688234594,5.485387771538041,5.189400469737029,4.992659538130954,4.4460864848133355,4.6785001692461154,7.408639264758279,5.124487922182883,6.112368018525456,4.232208078396316,5.161631494110405,4.665139906614335,6.3178010086999015,5.048212553658642,5.712009571558551,4.692626632951481,4.466348528450199,4.933299964287337,6.691857045332453,6.3875135114561,5.137347780501238,7.892807863159739,4.34617687342157,6.7510827800705675,6.722385695083305,4.492215433604093,4.096736260462468,5.710113978786865,2.9030899869919438,6.370960846319646,5.975275986030051,7.15182658464175,2.2013971243204513,1.6989700043360187,5.902658735674771,0.3010299956639812,6.482857725856253,0.8450980400142568,6.115627150990863,2.1903316981702914,3.4831592097169795,4.1525940779274695,2.4638929889859074,1.919078092376074,6.651973684864637,1.0791812460476249,2.824776462475546,3.469527479187014,1.919078092376074,6.783299003603056,5.918286746586357,7.002303717770925,5.911306788581634,1.380211241711606,0.9030899869919435,1.2787536009528289,5.674169207700099,2.45178643552429,2.403120521175818,1.6127838567197355,0.3010299956639812,1.4771212547196624,7.6520668503422415,7.364086999863773,4.347290975856103,4.476802655265517,2.5428254269591797,3.665017825412473,6.145489774429616,3.4608978427565478,7.350625051016782,4.43576475926038,6.984172171816089,3.184975190698261,2.9410142437055695,4.865719726545427,5.9547778092665915,3.0856472882968564,1.9444826721501687,2.745855195173729,3.3778524190067545,7.632624559517281,2.8363241157067516,3.908270499495724,2.6981005456233897,2.783903579272735,1.380211241711606,2.8494194137968996,2.575187844927661,2.037426497940624,1.6334684555795866,3.4394905903896835,1.8864907251724818,6.9504354945157205,2.113943352306837,2.655138434811382,3.6143698395482886,2.661812685537261,1.7403626894942439,3.12057393120585,1.4313637641589874,2.48572142648158,2.6972293427597176,1.5563025007672873,3.000867721531227,2.1398790864012365,1.3010299956639813,6.81020737390248,6.294857796433895,5.48479365745831,5.61097087051841,6.239575987857521,7.0092325038080805,6.706841312587866,6.413086756643879,6.626338005956546,6.909349636842943,5.806840413472734,6.485535037256738,6.696551209555398,2.978180516937414,6.201705391285202,4.1469338345627635,6.2697099664790015,6.005980987586559,5.882357162878345,6.884086438329064,6.412672350838273,4.959856718341342,6.031910339772968,6.609046447149669,6.994469810927554,4.184719815150271,4.006808208492579,6.617809221389338,6.067799279009557,6.602107001161267,4.374418376779159,5.529493235244849,5.330951235212256,5.273908289255293,2.8692317197309762,4.188731671445743,6.445364418989361,5.7169052379228695,4.977311973396926,4.804636847484357,6.730684992494272,6.178050711711851,6.48785867836167,4.027634965777544,5.867363763358462,3.1316186643491255,3.6108730003800518,5.751863160564854,5.978369081275277,3.219322508419337,4.239299479126893,5.910704960644725,6.172687271880853,4.182100659893949,4.433865800002353,6.511818946989818,6.633562980091027,5.17183172440442,5.260030820122303,4.211040405732053,3.66838591669,3.1690863574870227,4.880533496324189,4.015946243657567,6.965277590061295,6.77166500030395,5.323322241834435,6.778411025540329,6.792443451513809,3.9731278535996988,6.934294587992732,6.155043777406008,5.951548785186201,3.114610984232173,3.658106835506393,4.104691918900206,6.506984791247957,3.5958267770732233,1.7558748556724915,2.330413773349191,7.0666230079005565,3.4129642719966626,3.048053173115609,2.7831886910752575,3.974649834438722,1.863322860120456,3.0969100130080562,7.033025147641391,4.117138666403885,1.5797835966168101,6.223147431054362,0.0,3.812579155409047,1.6334684555795866,0.7781512503836436,4.30894838630958,3.734559821579476,4.8841890803338055,null,1.7634279935629373,2.2624510897304293,null,3.74499667403856,null,1.6127838567197355,5.880721009115566,1.7075701760979363,2.103803720955957,6.683800722759931,6.567869890243546,6.683983725038738,6.268405249325466,6.052618924441898,4.812137615623249,6.904262247166061,5.9330897619500895,3.31492005599242,6.53395803585567,4.103221992452924,3.5630061870617937,3.0145205387579237,2.0791812460476247,1.7708520116421442,5.995347324282375,5.426579571977888,1.7242758696007892,3.6144753660903954,3.8873359303991672,3.673020907128896,0.6989700043360189,1.0,1.9822712330395684,2.734799829588847,1.9493900066449128,6.4359941462776575,2.890421018800914,2.406540180433955,1.3979400086720377,2.6180480967120925,2.3636119798921444,2.7134905430939424,null,1.5185139398778875,1.4771212547196624,2.2648178230095364,0.7781512503836436,6.1719621077895175,4.996905510695666,3.292256071356476,4.622390192628622,4.470469294642922,3.2518814545525276,6.79110370946783,2.089905111439398,2.161368002234975,4.297015993577781,0.9542425094393249,1.1139433523068367,3.605412798153051,1.662757831681574,1.6989700043360187,0.7781512503836436,4.1886191672078485,1.5797835966168101,5.0131069937840556,1.2304489213782739,2.330413773349191,3.6136304349252404,2.100370545117563,4.81897766765923,2.79309160017658,3.5118833609788744,0.3010299956639812,0.6020599913279624,1.8260748027008264,6.2131364198519785,2.0293837776852097,2.833147111912785,2.24551266781415,4.018117720591,3.617000341120899,6.243538315856248,null,5.2521804457922965,3.3898745583909853,4.295742981095551,3.4959603948817053,5.774312543751651,3.8723311212302507,3.666049738480516,6.718630629443372,3.910464315995614,6.137358226386416,3.481729196960016,5.606285680786352,6.070107348166483,5.396736214725637,6.577241491373287,4.475147976918248,5.398386234078852,4.921551225006033,5.1206232800476625,4.908415311701199,5.470170783668913,5.95236520092848,5.624282095835668,5.995265667782789,4.954638019817679,4.923632533177049,6.264366772309311,5.487701037556083,6.666278210032778,3.3376588910261424,2.2095150145426308,5.738498333891347,1.8692317197309762,4.750192008342128,5.848684730624571,0.8450980400142568,6.326889642882823,2.2671717284030137,2.530199698203082,4.787205349003612,6.1235275951981105,5.6083377271708486,0.9030899869919435,2.9014583213961123,0.3010299956639812,1.5563025007672873,4.912471823627707,1.4471580313422192,0.7781512503836436,1.4471580313422192,2.784617292632875,1.2304489213782739,null,0.8450980400142568,2.214843848047698,1.9912260756924949,2.9703468762300935,0.6020599913279624,6.389367408522963,2.462397997898956,3.960946195733831,3.204933522354145,3.24551266781415,6.219272182908252,6.007495148217879,3.0737183503461227,5.094554974670975,1.146128035678238,3.607025878434786,3.2911467617318855,3.0273496077747564,4.279826581794015,1.2041199826559248,1.6334684555795866,3.9551583869257936,3.64777405026883,3.8073997127594854,1.591064607026499,1.4471580313422192,5.8529293047191295,1.3222192947339193,6.405952037168343,0.3010299956639812,1.7403626894942439,3.3712526291249394,1.7781512503836436,1.2787536009528289,null,1.6232492903979006,1.591064607026499,2.2013971243204513,1.806179973983887,4.051654084113286,3.6338722626583326,1.5440680443502757,1.2304489213782739,2.56702636615906,2.4216039268698313,2.846955325019824,5.659788839032253,6.430553773898872,5.987780631952026,5.842621095188908,4.655368972452062,5.552727821068286,5.760580791096656,6.363408133263617,3.796782411701308,6.046071589006916,4.828724327138791,2.48572142648158,3.754118894225413,3.4720246977002813,5.191104334846156,4.062017598857112,3.7423322823571485,3.628491104967123,6.073772587957786,4.956240486634902,3.4551495211798278,3.2390490931401916,1.9294189257142929,5.346955091548924,5.745589235085484,2.6981005456233897,6.261788938753074,6.375725050855523,5.979500117080633,4.498834148837391,2.3729120029701067,4.570939694413743,4.76952502017105,5.880115875189597,2.7752462597402365,5.739741599295329,1.9242792860618816,3.079904467666721,2.2648178230095364,2.296665190261531,2.481442628502305,1.4771212547196624,2.8561244442423,2.954724790979063,1.5797835966168101,6.8108491680885095,2.6020599913279625,2.439332693830263,4.852882383510316,5.223311592767302,3.447623097760286,2.305351369446624,2.1522883443830563,2.747411807886423,4.191367165737557,2.0086001717619175,2.2764618041732443,5.370339114913228,2.1072099696478683,4.001517376823505,3.404491617758686,5.195517747990319,4.804003054729613,4.295061044577623,3.6738499773429494,4.513177632479043,2.741939077729199,5.2201944151096535,2.403120521175818,2.9822712330395684,5.124439010556526,2.615950051656401,2.792391689498254,2.9122220565324155,2.56702636615906,2.4955443375464483,4.577365399452654,3.552668216112193,4.6895663398367855,4.9539866829103305,2.66838591669,4.486146996806573,3.87285524470481,2.123851640967086,3.934498451243568,2.965201701025912,2.4653828514484184,4.469895618975018,2.0253058652647704,2.2278867046136734,3.7914801160200007,2.8188854145940097,3.598243191653623,3.668012971641832,1.9030899869919435,2.311753861055754,2.1903316981702914,2.225309281725863,2.615950051656401,3.1687920203141817,5.172678809369417,6.711874771338281,6.393363707395931,2.5490032620257876,3.230193378869046,4.056638097379652,5.60371799879957,2.9661417327390325,2.866877814337499,1.6532125137753437,2.826722520168992,0.6020599913279624,2.437750562820388,0.7781512503836436,2.146128035678238,4.483487447679593,4.3502674060479185,2.510545010206612,4.171199716800422,3.0569048513364727,3.3136563466180315,2.916980047320382,5.256950942299387,2.7701152947871015,2.161368002234975,5.63171562531272,5.4742760118915434,6.88024744056917,1.5797835966168101,1.462397997898956,null,0.6020599913279624,3.3066394410242617,4.939299553871679,1.1139433523068367,0.6989700043360189,1.5440680443502757,null,0.6989700043360189,3.052693941924968,0.0,1.5440680443502757,5.033431797902889,null,0.9030899869919435,2.3283796034387376,0.6989700043360189,2.3344537511509307,1.0791812460476249,null,1.7242758696007892,2.167317334748176,6.486125019219902,1.1139433523068367,3.065206128054312,0.0,1.2041199826559248,2.2278867046136734,2.8573324964312685,1.7853298350107671,0.47712125471966244,1.380211241711606,2.7007037171450192,1.0791812460476249,2.214843848047698,1.255272505103306,1.3222192947339193,null,2.155336037465062,3.1720188094245563,3.821316970591097,4.839641427008459,3.4815859363676225,3.6417714706539592,1.380211241711606,2.832508912706236,4.392133939754267,4.13950127473591,5.496103149366808,4.429639251861554,5.7718893979629655,null,3.3412366232386925,3.30362797638389,1.6127838567197355,0.6020599913279624,1.505149978319906,2.1931245983544616,2.8175653695597807,2.123851640967086,3.6298171960185157,2.0569048513364727,4.324426510141732,3.5613399414589013,5.695456283530164,5.843817466862325,1.7781512503836436,1.3010299956639813,0.3010299956639812,1.2304489213782739,2.6627578316815743,2.2013971243204513,1.8750612633917,3.866700756042499,6.647716094865606,2.974971994298069,1.7323937598229686,0.9030899869919435,1.591064607026499,0.3010299956639812,3.7298934039632377,2.130333768495006,3.2676409823459154,3.803934849863842,1.041392685158225,0.6989700043360189,0.6020599913279624,1.2304489213782739,2.413299764081252,3.754501229386917,null,2.2278867046136734,0.7781512503836436,null,2.7101173651118162,0.7781512503836436,0.0,0.6020599913279624,null,1.6812412373755872,1.2304489213782739,3.8857568810692675,1.3617278360175928,4.708148849710405,2.1583624920952498,1.9542425094393248,3.466125870418199,3.2187979981117376,1.3979400086720377,0.6989700043360189,3.229425847920695,0.3010299956639812,0.0,6.890708552862738,4.050920836935403,7.224581358024936,4.153021743626138,3.714162046098853,1.6720978579357175,2.797959643737196,4.094645789605955,5.987922655312912,5.6673595461830875,4.178890655048907,1.9542425094393248,5.167060227229767,4.3522404201822305,6.17711614189952,3.7623033632877685,2.7481880270062002,2.5237464668115646,4.207122497650964,1.146128035678238,6.470393730472785,6.445569178112733,5.242608505217699,6.3290004248895455,5.6836143139041315,4.839572312356351,6.49535156792224,4.907497351168274,4.586654806339933,3.4834446480985353,1.8750612633917,3.2600713879850747,4.002900068611387,2.681241237375587,3.361727836017593,4.725454239433493,6.893249791620757,4.357458385645036,2.568201724066995,4.618069026062325,2.9836262871245345,4.3342928715484605,2.012837224705172,5.1402848677008555,4.267687879865739,3.809828961067886,4.2549828788959045,3.248218561190075,3.927626962444954,1.6812412373755872,2.164352855784437,2.093421685162235,4.341296003110066,3.166726055580052,2.1172712956557644,3.036628895362161,3.296884475538547,4.473574550036345,1.9138138523837167,3.024074987307426,4.020775488193558,4.220108088040055,4.830017359412973,3.8196097327515854,5.368450528219277,5.2224199054164,4.971452129092936,6.562145893375677,6.6921297856665065,4.924160355813738,2.75815462196739,2.093421685162235,2.9304395947667,2.143014800254095,2.6414741105040993,2.8943160626844384,2.519827993775719,2.816241299991783,1.5314789170422551,3.520483532740792,1.8512583487190752,3.0711452904510828,3.334051440346892,1.414973347970818,2.3891660843645326,2.322219294733919,2.754348335711019,1.919078092376074,2.8524799936368566,2.296665190261531,4.389467327055369,2.670245853074124,3.7481104674949837,1.7160033436347992,2.3820170425748683,3.646893624167745,4.057057208637422,4.010681493131443,2.957128197676813,3.004751155591001,2.9489017609702137,3.6603910984024672,2.7067177823367587,1.3010299956639813,1.968482948553935,5.598951286290252,5.038473120629956,5.2848298756868815,2.3820170425748683,5.260317100505045,7.054439953330086,4.2272695167098435,3.3248994970523134,3.7868223794991875,4.932362132590618,6.013277620497092,5.219382786511683,5.993194104466814,3.549738731264899,5.634117392255587,6.20828491775363,2.733999286538387,6.994733778666956,3.6322547766847135,2.093421685162235,3.380030247967831,3.5413295776666938,2.7649229846498886,4.2020521689120605,3.5162708827293403,6.603883884414362,0.3010299956639812,2.9556877503135057,2.4653828514484184,3.398981066658131,1.9395192526186185,2.7737864449811935,2.6532125137753435,3.442793225939769,3.3003780648707024,2.103803720955957,2.4899584794248346,3.3909351071033793,3.2415464805965484,2.7701152947871015,3.2219355998280053,6.731397843147526,2.932473764677153,1.7075701760979363,6.464666716555145,1.041392685158225,6.859199382554139,5.244334033158572,1.462397997898956,6.178172326179168,1.5797835966168101,6.231498134669832,3.330819466495837,6.006013969629878,6.375031003537087,2.0211892990699383,5.137176812130915,1.380211241711606,3.388633969351789,5.546662324732223,1.8750612633917,4.575268690098512,2.6919651027673606,4.083538451230139,1.8129133566428555,5.008417048230991,2.311753861055754,4.9780891730561425,6.053449549015344,5.096805769822717,2.5415792439465807,5.804312570186775,3.189209489582306,6.06532982082826,6.0382647931131475,4.608707842959471,4.847874832824165,6.106907554706566,3.7599698575543075,4.73290014138668,3.0666985504229953,4.575002999433531,3.2844307338445193,2.1522883443830563,2.9036325160842376,5.226566397515562,4.310013199479453,4.766159930804536,3.084933574936716,3.6242820958356683,4.084469031488076,4.033664963203177,5.551251104119964,2.173186268412274,4.342777867387247,2.100370545117563,4.484513374292612,3.688241795977712,2.401400540781544,4.800696462548689,4.513390750462478,3.9366142619752114,2.2068258760318495,2.710963118995276,3.2340108175871793,0.47712125471966244,4.383994789441733,4.105033050393594,1.7481880270062005,2.767897616018091,1.7781512503836436,4.649685268909746,3.535547279176668,4.031327657761131,2.9618954736678504,2.942008053022313,3.208441356438567,4.26979304386123,1.9444826721501687,3.3344537511509307,3.7707047682157793,4.585652453577531,6.0919625991795705,3.7182525000977504,5.449398166863515,5.639655791269019,6.053822256080392,5.858324208721022,6.175936622693218,6.622042447941181,5.45608349798131,5.545637351639214,4.228810845011355,4.558876497255136,5.1157735494937375,4.874145384618433,4.661538207970396,6.714370001384899,6.413569647047498,5.630615994648778,4.705615717476003,6.87302957935128,3.645520514905874,5.527941656202907,5.5887847117912495,5.360458977292585,4.987089503635093,5.931200981245984,3.7704101315139065,4.9823978837944525,5.842344588788723,5.470454594472599,5.084976430830233,6.031414928121391,5.56578998756888,3.298197867109815,5.812989518534911,2.781755374652469,4.617461665030912,4.794495017622194,2.6074550232146687,2.161368002234975,3.5994463757252757,2.303196057420489,3.2187979981117376,4.051461244324184,4.05720951250779,2.48572142648158,4.976171088048603,1.99563519459755,4.856299820247791,4.133666623260685,2.1522883443830563,3.2357808703275603,1.380211241711606,4.383779472391263,4.3926442017384275,null,3.931305281421673,2.255272505103306,4.47041049097593,2.123851640967086,4.8041326144720715,5.434843444633035,3.2755416884013098,5.4033178829069595,1.0,4.744848211983765,5.5850115383182315,5.356792370173735,5.7757036311248475,4.840601610279263,4.276944085712982,6.589027785438741,3.2116544005531824,3.5919545550467356,3.323252100171687,3.4625477288026643,6.4166950819130015,6.420715511700568,1.505149978319906,4.652623404101937,4.570823039525211,5.91894883128985,4.6835243196060965,2.0453229787866576,2.6570558528571038,3.3749315539781883,1.9822712330395684,3.7078255683322316,0.9542425094393249,2.7993405494535817,2.7218106152125467,0.47712125471966244,3.3153404766272883,6.585051961974063,2.7267272090265724,3.775756037844098,0.47712125471966244,6.085666898852865,2.8992731873176036,4.439348486069747,1.3222192947339193,0.9542425094393249,4.269606330839479,4.110791660771106,2.3502480183341627,4.612084185227919,2.7299742856995555,3.6799726942774185,4.628685171108387,2.673941998634088,4.4750025284819435,3.514547752660286,2.60422605308447,1.8512583487190752,1.6127838567197355,3.892984550710717,2.611723308007342,2.558708570533166,2.167317334748176,1.7781512503836436,1.6812412373755872,3.483301952358167,1.4313637641589874,2.526339277389844,1.041392685158225,2.583198773968623,3.513617073787875,3.017450729510536,2.100370545117563,2.576341350205793,2.651278013998144,2.9148718175400505,1.9242792860618816,2.220108088040055,1.6532125137753437,4.367188135385627,2.5477747053878224,5.058198187878253,4.822645279406681,3.161368002234975,3.1132746924643504,2.075546961392531,1.505149978319906,2.5211380837040362,2.7528164311882715,2.113943352306837,2.2121876044039577,3.5601458398490475,3.9783631470838827,5.183184400298215,3.70816585785554,3.964778022022376,4.01573687447745,3.7512020945883533,3.200303182981585,5.083190761848655,6.35508431233562,4.161098356450925,3.473632926873841,3.031408464251624,2.3180633349627615,3.942950070077099,3.4778444763387584,3.526597709103452,3.996248914569132,3.2489536154957075,2.848189116991399,4.273024433818464,2.0293837776852097,4.402140967292468,2.0,2.503790683057181,4.721621033553506,2.0718820073061255,3.939319531078238,4.028245816572474,0.8450980400142568,2.9995654882259823,2.3096301674258988,3.797059694699971,1.2041199826559248,4.604668764520179,4.571732117751799,3.5121505369220305,1.8195439355418688,2.5010592622177517,4.467326869904469,2.6599162000698504,3.1917303933628562,3.2619761913978125,1.4771212547196624,2.4983105537896004,3.1280760126687155,4.304878117698279,4.888190730370167,0.3010299956639812,4.93339616755983,4.311245120878207,4.47287341524356,4.596542118161749,2.6665179805548807,3.3366598234544202,1.7993405494535817,2.81424759573192,3.843419665204918,3.9084850188786495,4.790608828584418,2.9822712330395684,4.237116270535057,4.477150206720067,3.721150843749684,4.6207500900976095,3.659821158055705,4.261904911837202,2.857935264719429,3.249442961442582,3.9364131997114797,3.1513698502474603,3.9335379019717047,1.2787536009528289,2.037426497940624,4.874493414193022,1.806179973983887,1.146128035678238,3.8443528963108933,3.4129642719966626,2.5538830266438746,2.905256048748451,2.7267272090265724,2.419955748489758,null,5.377413718368022,2.0791812460476247,2.745855195173729,4.252270345988322,3.6744937172963503,null,2.9666109866819346,2.287801729930226,1.146128035678238,4.872336948300805,0.0,2.3180633349627615,1.8864907251724818,5.218073132031067,2.322219294733919,2.1335389083702174,2.8609366207000937,0.6989700043360189,5.114153767113211,1.0791812460476249,3.6588695922019623,1.4771212547196624,1.968482948553935,1.7075701760979363,3.346548558548474,5.702221093968523,0.9030899869919435,0.6989700043360189,0.3010299956639812,1.1139433523068367,1.8750612633917,1.3010299956639813,null,4.901959350874288,5.796828175593411,0.47712125471966244,3.530967681571915,0.7781512503836436,5.067327560962287,4.580411726277412,0.8450980400142568,3.873843533223436,1.662757831681574,4.423737249982329,null,4.883570592820618,0.7781512503836436,6.161557253485672,0.47712125471966244,4.7923216363515735,4.976629635125763,5.183705343653634,4.718601324354708,6.69298449747963,5.486645801523532,4.370198403559107,4.706658052072829,3.3453737305590883,3.9548693710664784,1.9444826721501687,2.0569048513364727,2.214843848047698,null,2.2671717284030137,null,1.9294189257142929,0.3010299956639812,1.3010299956639813,0.8450980400142568,0.0,2.7944880466591697,3.8285310066451013,0.8450980400142568,1.2787536009528289,null,null,null,0.6989700043360189,0.47712125471966244,1.8325089127062364,1.1139433523068367,0.47712125471966244,null,null,0.47712125471966244,0.0,0.47712125471966244,null,null,null,0.0,null,0.47712125471966244,1.806179973983887,1.4771212547196624,0.47712125471966244,0.47712125471966244,2.574031267727719,null,null,null,0.7781512503836436,null,null,2.469822015978163,1.0791812460476249,3.4670158184384356,null,null,0.6989700043360189,null,0.0,null,1.5185139398778875,2.808885867359812,0.0,null,0.0,0.6020599913279624,2.72916478969277,0.8450980400142568,0.47712125471966244,3.3005954838899636,0.6989700043360189,1.4771212547196624,0.6020599913279624,0.0,null,0.3010299956639812,null,1.0,0.6020599913279624,0.0,3.036628895362161,0.47712125471966244,null,null,null,0.3010299956639812,0.47712125471966244,null,0.6989700043360189,3.227629649571009,null,1.041392685158225,0.0,null,null,0.6989700043360189,null,2.4082399653118496,null,null,4.6576103243042395,2.6866362692622934,2.977266212427293,1.8808135922807914,4.908093441200724,1.7075701760979363,2.530199698203082,5.068085628376812,1.9493900066449128,3.555940437818511,1.8195439355418688,3.295786940251609,2.651278013998144,4.408697768895788,1.6020599913279625,4.742827213849982,1.4313637641589874,1.9867717342662448,1.6334684555795866,1.6020599913279625,1.3424226808222062,0.9030899869919435,1.505149978319906,3.3195224490654542,2.7234556720351857,1.414973347970818,4.61934381288798,1.3010299956639813,3.27669152884504,0.9030899869919435,null,4.818001428133308,5.539930040614378,0.47712125471966244,3.1482940974347455,0.47712125471966244,0.47712125471966244,1.3010299956639813,1.9590413923210936,null,null,1.6334684555795866,2.403120521175818,1.8512583487190752,1.9493900066449128,5.558389330764444,3.4734869700645685,3.1942367487238292,3.829303772831025,3.588047496986083,4.873576335839594,null,1.6434526764861874,null,null,5.0311700418466305,null,1.4913616938342726,2.130333768495006,1.0791812460476249,0.3010299956639812,0.9542425094393249,null,0.9030899869919435,1.3424226808222062,0.0,1.255272505103306,0.9542425094393249,0.0,null,2.1271047983648077,0.0,0.6989700043360189,0.3010299956639812,1.3222192947339193,null,1.6812412373755872,null,null,0.6989700043360189,1.255272505103306,0.0,0.3010299956639812,4.276300924570774,null,0.6020599913279624,null,null,null,4.430010519630592,0.0,null,null,0.9542425094393249,3.0132586652835167,2.537819095073274,0.3010299956639812,2.8169038393756605,2.7671558660821804,1.3222192947339193,2.8656960599160706,0.8450980400142568,1.568201724066995,0.0,2.2174839442139063,5.906995141676179,2.507855871695831,1.9590413923210936,0.7781512503836436,4.379686151906955,0.0,0.8450980400142568,null,1.3979400086720377,0.3010299956639812,5.164147558506592,6.128110289212609,1.7323937598229686,null,1.3222192947339193,null,0.6989700043360189,0.47712125471966244,0.6020599913279624,null,0.3010299956639812,0.9542425094393249,1.8512583487190752,5.385822473406161,null,1.3617278360175928,4.529070860303613,1.6720978579357175,2.45178643552429,4.918171931465883,2.904715545278681,2.4800069429571505,1.2787536009528289,2.661812685537261,1.8512583487190752,2.3384564936046046,5.33935403711374,3.1109262422664203,4.758911892397974,5.454341701355048,5.649097197611507,5.558444554426169,4.619176840766776,3.9979103673467433,4.388385425718033,3.3653007486379876,3.896415976473123,3.8258154449852038,3.6841269256130755,5.239034065389471,3.4239009185284166,4.984162622928631,4.134177107576766,2.298853076409707,2.9907826918031377,4.090681204457391,4.470572181905382,4.676355185256564,3.1271047983648077,4.740449539705892,3.8522359394118872,2.88024177589548,5.6970775747990094,3.2496874278053016,2.714329759745233,3.079543007402906,6.054380526047879,3.509740015570382,3.549861188471943,3.162862993321926,5.151014177758252,2.932473764677153,2.6138418218760693,3.2711443179490782,1.6127838567197355,1.968482948553935,2.673941998634088,2.1271047983648077,2.661812685537261,2.303196057420489,5.319108142251936,2.110589710299249,2.3283796034387376,2.3364597338485296,2.7993405494535817,1.591064607026499,2.255272505103306,1.8325089127062364,2.100370545117563,3.6609602917760835,1.5563025007672873,3.118264726089479,3.1740598077250253,3.6567687792660166,3.7670816213633223,2.514547752660286,4.5307630187585595,4.010978012174742,5.685614565723614,3.903307079964174,5.803612778222943,5.969184257923993,5.390650780671015,4.832968510648727,5.322874378286886,6.124940256636327,5.95412088995687,4.375279436336474,5.6090723018972835,5.49884791913344,5.253190145541645,5.018654737258263,7.035336945358764,5.748134512424875,5.116239034861771,5.371014265177485,5.359336420820677,4.858549227721076,3.4099331233312946,4.15060295179301,1.3979400086720377,0.9542425094393249,4.326806774068438,1.505149978319906,null,5.642376465282059,3.3144992279731516,4.660590400951173,3.8541845438336066,4.28350475654383,4.469748400505166,1.7853298350107671,5.823634614630287,6.236018771278389,6.914849943763479,5.838942233767667,5.763067679229532,5.232927532165009,4.796824015438849,5.090385041685681,5.398282097958293,5.345808787406651,4.4747697096158685,3.0051805125037805,5.2624605824022455,5.155600178241052,5.814873274895098,5.526837912663126,3.7155855518931964,4.963480880407792,6.1403898686944896,4.966245012118208,4.656768779266017,4.615623945501026,5.596423343080873,6.003465702251136,2.4800069429571505,3.090258052931316,3.159266331093494,5.170505204166297,4.499632105153693,5.7774086961979485,2.439332693830263,4.8072914301479654,4.205826659359341,4.884319474411944,1.3424226808222062,0.47712125471966244,2.835056101720116,2.0681858617461617,2.2479732663618064,2.27415784926368,1.3424226808222062,1.2787536009528289,null,1.6532125137753437,1.3979400086720377,1.3617278360175928,0.6989700043360189,2.7101173651118162,4.042102768037303,2.829946695941636,0.47712125471966244,0.47712125471966244,2.6794278966121188,1.7403626894942439,1.9444826721501687,1.3222192947339193,2.1398790864012365,1.9395192526186185,2.0211892990699383,4.11945385075606,0.8450980400142568,0.6989700043360189,1.462397997898956,1.845098040014257,1.0,null,2.383815365980431,0.0,3.5732198271144218,0.6020599913279624,1.568201724066995,null,1.2787536009528289,0.6989700043360189,0.0,5.111964481235438,0.8450980400142568,4.3553940446231705,4.0049229492965255,null,4.685087565808857,3.6724673130680823,0.6020599913279624,null,null,0.0,1.4471580313422192,1.041392685158225,2.423245873936808,1.7558748556724915,5.733727567183039,0.6020599913279624,1.3979400086720377,null,0.0,null,null,6.312263487203475,1.3222192947339193,2.7481880270062002,4.6127838567197355,5.7901035247959225,5.208540781293399,5.543013290237439,5.228833923344407,5.340208064202531,4.493234921078571,5.38510914199154,5.387459236713024,5.8577454829516,4.926285840575407,5.138921324402461,5.509170251573147,2.404833716619938,2.9532763366673045,4.350926073869093,5.489879765201367,4.22533513181854,2.957128197676813,5.592537593914547,4.458411201469716,5.763547782415414,2.9355072658247128,1.2304489213782739,6.088672509809462,4.280350693046006,2.0718820073061255,4.306360682861051,4.803730170974544,4.410220304865082,3.1344958558346736,3.204662511748219,6.007422148400633,2.1072099696478683,3.1316186643491255,2.3242824552976926,2.6127838567197355,1.919078092376074,3.241795431295199,2.1172712956557644,1.7242758696007892,1.3010299956639813,1.3979400086720377,2.6711728427150834,4.401314362691788,3.983896791326306,1.3424226808222062,2.184691430817599,null,1.2304489213782739,3.061452479087193,1.3010299956639813,1.462397997898956,4.559523607057893,2.184691430817599,2.8692317197309762,2.4533183400470375,4.319709694287983,4.88275215561308,null,3.408748606184244,3.640878778701618,4.3795955549810985,2.9827233876685453,2.0569048513364727,5.3912898125823,5.09916940563891,3.1482940974347455,2.651278013998144,4.056104097422453,3.313234291694724,1.4471580313422192,4.626638008620199,5.53691557864871,5.412824966650917,4.60677892803235,4.714220753242595,5.725155040012754,5.233128156474229,5.906956941389834,5.681429390887428,4.4751916019520435,5.653225059879156,5.358182400479401,5.04713852036118,5.541743945101817,5.1922690870079835,4.912051920109143,4.070887144018541,5.939982253176227,5.695260970803279,5.610434441622449,5.072929674211486,5.540437096398671,5.57891986371922,5.160987453493072,5.5135265586104545,5.502610086030693,3.388278863459639,4.813707722688631,4.5428005383101056,5.949109332454333,6.017799360133752,4.253943462669259,4.918329204764445,4.673490907887271,5.032477733253474,4.760090603918303,4.570134137138968,5.240866117710415,3.6726519228400023,4.868756082976397,2.7259116322950483,5.537591188033809,3.970114322285097,5.003482073960254,4.2007137339640135,4.364888544517052,3.419625360887743,5.371965092766489,3.4340896384178907,4.382431316835748,3.8880671134074367,3.3384564936046046,4.772490403229669,4.208495102429837,2.7752462597402365,3.295786940251609,3.825945143203848,4.327685809541024,3.606488850442648,3.4299136977637543,4.444918753773256,3.7298934039632377,3.960280464436642,5.755052728096943,4.93083700642043,4.218036331200945,1.845098040014257,1.4471580313422192,4.962213018360391,2.8221680793680175,2.3263358609287517,3.0737183503461227,2.6434526764861874,2.833147111912785,1.2304489213782739,2.7944880466591697,4.166045087851225,3.3861421089308186,3.2617385473525378,1.4771212547196624,1.9867717342662448,null,2.8819549713396007,1.7634279935629373,1.2041199826559248,2.1072099696478683,2.6972293427597176,1.6812412373755872,0.0,1.9444826721501687,4.373077592174897,4.385820687071886,1.146128035678238,1.7558748556724915,1.2304489213782739,1.2304489213782739,2.941511432634403,0.3010299956639812,1.4313637641589874,2.5440680443502757,null,4.469262225177402,0.6020599913279624,5.201569169184002,2.4683473304121573,2.8432327780980096,1.5797835966168101,6.792886153378551,2.8000293592441343,2.7902851640332416,2.3324384599156054,1.3979400086720377,0.7781512503836436,1.5440680443502757,6.1056372186139685,1.6334684555795866,5.412085733243278,2.2329961103921536,3.1565491513317814,1.3424226808222062,2.8457180179666586,3.383815365980431,2.399673721481038,1.041392685158225,1.9542425094393248,0.6020599913279624,6.068423730577699,2.2405492482825995,2.1760912590556813,2.413299764081252,0.9542425094393249,6.414735924446369,5.759455554987808,2.3979400086720375,1.8920946026904804,1.9912260756924949,1.4313637641589874,1.380211241711606,1.9590413923210936,4.89558275236417,5.9802825036544505,1.9138138523837167,null,5.811829610088261,3.864333055033393,0.6020599913279624,null,3.2198463860243605,1.146128035678238,4.263043983313166,0.9030899869919435,0.47712125471966244,2.8603380065709936,3.334051440346892,0.3010299956639812,3.887504774235378,2.3961993470957363,0.9542425094393249,4.463325498436734,1.041392685158225,2.6848453616444123,2.305351369446624,null,1.6020599913279625,3.2895889525425965,null,0.3010299956639812,0.9542425094393249,0.6020599913279624,0.0,1.7160033436347992,2.4683473304121573,4.551108283643626,4.32166055684867,1.3222192947339193,0.6989700043360189,2.6919651027673606,2.0569048513364727,6.2052438926942814,2.45484486000851,5.415202127486202,3.317854489331469,3.92147838037569,0.0,3.861175835513029,3.7927417858347487,3.0629578340845103,0.7781512503836436,0.0,2.103803720955957,4.293716034826109,3.4483971034577676,1.7323937598229686,4.394013663157313,3.5848963441374497,2.3873898263387296,4.197693975083923,2.484299839346786,2.1492191126553797,3.657629431388952,0.0,1.3222192947339193,2.9656719712201065,2.7551122663950713,0.0,1.255272505103306,1.462397997898956,0.9030899869919435,0.0,1.7160033436347992,null,1.2304489213782739,null,1.7481880270062005,4.198821977603206,0.3010299956639812,null,2.6434526764861874,1.8388490907372552,0.0,1.9731278535996986,0.3010299956639812,0.0,1.7242758696007892,0.3010299956639812,2.4638929889859074,1.8512583487190752,1.7242758696007892,0.0,0.6989700043360189,3.8023631743095474,1.0,1.0791812460476249,0.7781512503836436,0.8450980400142568,4.018950021500975,null,0.9542425094393249,1.9138138523837167,1.041392685158225,0.3010299956639812,2.0453229787866576,1.041392685158225,1.0791812460476249,null,0.6020599913279624,null,null,3.083860800866573,null,1.568201724066995,0.7781512503836436,2.812244696800369,0.47712125471966244,1.8573324964312685,null,2.6893088591236203,null,null,2.6848453616444123,1.3617278360175928,3.470410490975931,1.4313637641589874,0.0,1.6127838567197355,1.414973347970818,0.9030899869919435,null,6.855442526520106,null,2.060697840353612,3.9954157985424152,5.210933535357622,4.599653861243402,5.405718501895726,5.811387977702765,4.9489066461450095,4.813887754948706,5.01932819107435,4.821651065962116,4.466422722433792,5.876166438335877,3.1818435879447726,1.9867717342662448,4.0448140475286385,4.422031430653622,3.3677285460869766,3.4358443659844413,1.7781512503836436,2.3560258571931225,1.380211241711606,2.12057393120585,2.6655809910179533,1.845098040014257,1.2304489213782739,0.47712125471966244,2.48572142648158,2.2095150145426308,1.6434526764861874,1.380211241711606,1.0791812460476249,2.303196057420489,2.586587304671755,1.4771212547196624,2.0,2.45484486000851,1.2041199826559248,1.1139433523068367,0.9542425094393249,1.6334684555795866,2.037426497940624,3.724275869600789,2.423245873936808,1.1139433523068367,1.8129133566428555,2.0492180226701815,2.5646660642520893,2.100370545117563,2.103803720955957,2.1271047983648077,2.173186268412274,1.6020599913279625,4.410372265301954,1.4913616938342726,1.3617278360175928,1.9395192526186185,1.5563025007672873,1.3424226808222062,3.2390490931401916,0.3010299956639812,0.7781512503836436,2.292256071356476,1.3010299956639813,null,2.481442628502305,null,0.0,1.4913616938342726,1.3617278360175928,0.47712125471966244,2.3541084391474008,1.8195439355418688,1.505149978319906,2.45484486000851,3.1734776434529945,1.1139433523068367,2.77232170672292,2.2576785748691846,2.838849090737255,2.3560258571931225,2.4578818967339924,2.8305886686851442,1.4313637641589874,0.9030899869919435,null,0.47712125471966244,1.414973347970818,null,4.9021443677597025,3.561935763313781,5.383987613926331,2.9355072658247128,6.538137460973435,0.3010299956639812,4.229758611221373,3.1535099893008374,5.22958202245111,2.2355284469075487,3.8716313045375537,1.7403626894942439,1.3979400086720377,1.041392685158225,1.4913616938342726,1.3222192947339193,1.0,4.636006194318323,2.6919651027673606,0.6989700043360189,null,0.9030899869919435,0.6020599913279624,0.8450980400142568,4.558120315143003,2.05307844348342,3.921322243583822,1.4313637641589874,2.320146286111054,null,null,0.0,2.582063362911709,0.6989700043360189,0.9030899869919435,4.433529825915495,1.3010299956639813,0.8450980400142568,0.0,1.3010299956639813,0.8450980400142568,0.0,1.146128035678238,0.0,0.47712125471966244,0.6020599913279624,3.7944880466591697,0.47712125471966244,0.6020599913279624,0.6989700043360189,null,5.13791402814413,3.8727970399895986,2.0791812460476247,1.2304489213782739,4.592276711374422,3.777281791671015,4.01456253812761,2.285557309007774,1.3222192947339193,1.6532125137753437,3.1690863574870227,2.7315887651867388,0.0,1.4771212547196624,2.4608978427565478,2.7323937598229686,3.652826302561005,0.9542425094393249,2.392696953259666,2.089905111439398,1.968482948553935,2.294466226161593,1.2041199826559248,0.6989700043360189,1.6901960800285136,1.6127838567197355,3.0927206446840994,2.311753861055754,1.0791812460476249,2.6757783416740852,1.8388490907372552,0.3010299956639812,1.462397997898956,3.6097011023793995,2.1522883443830563,2.012837224705172,1.0791812460476249,3.5246557123577773,2.9925535178321354,1.7993405494535817,3.2984163800612945,1.462397997898956,3.5429498488141786,2.7267272090265724,0.3010299956639812,0.8450980400142568,1.1760912590556813,0.7781512503836436,0.8450980400142568,1.1139433523068367,2.9854264740830017,3.643057683751453,5.285221895176942,3.9252089214120036,3.9751099896861612,6.499203592260134,1.3010299956639813,2.8959747323590648,2.9232440186302764,3.448087666692341,4.819761028514099,3.8783494222177755,1.6434526764861874,2.7481880270062002,4.733116981442064,3.491781775584166,4.68614450542356,1.255272505103306,6.537946343595077,5.791383236557524,3.6364878963533656,5.6850481047120285,4.453165392525857,1.8920946026904804,1.8260748027008264,3.1986570869544226,5.745799832743526,2.164352855784437,6.186272729880503,3.401400540781544,5.747875377572939,5.484822102490325,5.108453391646299,5.016653165276714,4.884274124390298,5.440661967449291,0.3010299956639812,5.090994775765988,5.421450909814801,1.505149978319906,3.2669369111591733,1.7993405494535817,1.591064607026499,2.1492191126553797,3.4865721505183562,2.4183012913197452,2.4082399653118496,4.4607776061882545,5.802198160350563,1.505149978319906,1.2787536009528289,2.6314437690131722,3.188084373714938,2.0211892990699383,4.232157188487434,3.5213996281153754,3.3995006613146104,3.8864343196289384,0.6989700043360189,1.2787536009528289,0.47712125471966244,0.6020599913279624,2.6503075231319366,1.2304489213782739,4.47418711581745,0.7781512503836436,2.6148972160331345,1.8573324964312685,null,null,0.47712125471966244,3.6743098889414774,2.60959440922522,0.9030899869919435,3.030599721965951,4.799726417521528,2.7067177823367587,0.47712125471966244,1.806179973983887,0.8450980400142568,0.6020599913279624,1.3424226808222062,2.808210972924222,1.9395192526186185,2.296665190261531,1.041392685158225,0.7781512503836436,1.2304489213782739,2.3384564936046046,null,1.6127838567197355,2.439332693830263,1.6989700043360187,4.909657637983918,0.7781512503836436,1.2041199826559248,0.6020599913279624,0.6989700043360189,null,1.806179973983887,0.0,0.6989700043360189,0.0,null,null,null,1.2041199826559248,0.6020599913279624,0.0,1.505149978319906,2.0453229787866576,2.4409090820652177,2.841359470454855,0.8450980400142568,0.9030899869919435,0.47712125471966244,1.1139433523068367,4.546394583298745,4.503559179165324,0.6020599913279624,1.9493900066449128,0.7781512503836436,0.47712125471966244,0.9030899869919435,0.7781512503836436,null,2.012837224705172,null,5.007585633882447,4.457276186061326,0.0,4.303217663573669,4.018700498666243,1.4471580313422192,1.0,5.427125670421609,3.3047058982127653,0.3010299956639812,5.154402668728247,1.6720978579357175,1.9030899869919435,0.0,3.31722734917642,0.0,3.8523579836678272,4.326069466588894,4.532486842525011,3.636888906983799,3.158060793936605,3.215901813204032,0.0,3.2121876044039577,0.8450980400142568,4.0317315399458264,6.378415890179622,3.9828137621318627,3.735758537443739,5.313508674046074,3.484157424365381,0.3010299956639812,2.9380190974762104,4.159958002678519,3.783832143384441,5.111491029571679,5.223771019488748,5.109170043791543,2.5899496013257077,3.912487761332324,3.909235003368307,0.7781512503836436,3.6049816296074315,4.235023159495223,2.1492191126553797,0.3010299956639812,1.414973347970818,2.456366033129043,null,1.4313637641589874,1.041392685158225,2.829303772831025,null,null,1.041392685158225,0.3010299956639812,null,0.8450980400142568,1.3617278360175928,3.312811826212088,1.380211241711606,0.3010299956639812,null,null,1.6232492903979006,1.0791812460476249,null,1.7242758696007892,1.462397997898956,1.9731278535996986,0.8450980400142568,2.3404441148401185,2.7611758131557314,1.1139433523068367,4.549971370443728,3.870403905279027,1.0,1.7634279935629373,1.2787536009528289,1.9590413923210936,null,0.47712125471966244,0.47712125471966244,0.47712125471966244,0.47712125471966244,3.70372115992702,3.561101383649056,3.2598326990634834,2.255272505103306,1.3424226808222062,1.2041199826559248,1.6334684555795866,6.364003608327118,1.3617278360175928,1.8195439355418688,0.47712125471966244,1.8808135922807914,1.8864907251724818,0.3010299956639812,2.450249108319361,null,0.6989700043360189,0.8450980400142568,2.5276299008713385,5.4545323603458895,1.6532125137753437,1.0791812460476249,3.7515870050823104,4.804582364022804,5.496610033597675,1.0791812460476249,5.485347999810387,6.048519876309604,5.953764522568228,null,null,6.100275058770872,5.259978314909338,5.31368587510783,5.533052297046275,6.017938567370389,4.630722729008074,4.476309814106365,5.326473092689438,5.192271876427464,5.456119964459418,5.537041704952304,5.111615318619183,5.019847118523454,3.6126779183165016,3.674125982742708,1.8388490907372552,2.699837725867246,2.3541084391474008,1.2304489213782739,1.3010299956639813,1.1139433523068367,1.5797835966168101,1.2041199826559248,1.041392685158225,2.7895807121644256,0.0,0.0,0.0,2.012837224705172,2.5118833609788744,4.545566873074014,0.0,2.5327543789924976,5.580951192136505,null,null,0.47712125471966244,4.4248979631844,1.7403626894942439,0.3010299956639812,2.617000341120899,0.47712125471966244,null,null,4.836729099516869,0.47712125471966244,5.719718167136294,1.2304489213782739,0.47712125471966244,4.717662183104909,3.801609488027319,0.0,0.6020599913279624,2.9804578922761,2.9863237770507656,3.1670217957902564,3.315130317183602,3.0666985504229953,4.427226363584512,2.9041743682841634,3.2268575702887237,4.620625271909247,4.283775978711523,0.7781512503836436,3.3888114134735234,1.2304489213782739,1.2787536009528289,2.967547976218862,1.5185139398778875,0.0,1.1139433523068367,0.0,0.0,0.6020599913279624,2.727541257028556,1.3010299956639813,2.3944516808262164,1.6127838567197355,0.7781512503836436,6.762924819127336,2.8020892578817325,1.2787536009528289,1.591064607026499,null,2.739572344450092,0.6020599913279624,2.4885507165004443,0.9542425094393249,1.462397997898956,2.4424797690644486,1.4771212547196624,2.0969100130080562,2.6483600109809315,2.478566495593843,2.204119982655925,null,2.1760912590556813,0.9030899869919435,2.0,0.0,0.0,2.0253058652647704,1.0,2.346352974450639,0.6020599913279624,null,3.6190933306267428,2.7895807121644256,2.6180480967120925,3.4173055832445254,2.482873583608754,3.428620672671939,3.5287881917748964,4.528698213192202,4.454036472764697,2.0969100130080562,2.361727836017593,3.1649473726218416,3.9252605095194353,0.6020599913279624,3.623766000133931,3.193958978019187,2.550228353055094,3.278982116865443,3.7834032811225633,0.9542425094393249,2.278753600952829,1.6532125137753437,1.3222192947339193,1.7160033436347992,3.864866914328526,0.6020599913279624,3.119915410257991,1.9912260756924949,0.0,1.1760912590556813,null,2.931966114728173,1.255272505103306,0.6020599913279624,1.1760912590556813,0.0,0.47712125471966244,null,2.4608978427565478,1.3617278360175928,2.4265112613645754,2.093421685162235,1.3222192947339193,null,0.47712125471966244,0.3010299956639812,1.5185139398778875,2.4456042032735974,2.6954816764901977,7.108681225930136,4.712169692552654,2.505149978319906,3.989672247623873,2.9020028913507296,2.8937617620579434,1.1139433523068367,0.0,1.9242792860618816,2.292256071356476,1.919078092376074,0.0,1.8920946026904804,2.8188854145940097,3.1818435879447726,0.3010299956639812,3.432969290874406,1.4471580313422192,0.7781512503836436,0.3010299956639812,0.7781512503836436,null,2.7937903846908188,2.2833012287035497,null,0.7781512503836436,0.47712125471966244,3.2739267801005254,1.6232492903979006,0.0,null,0.7781512503836436,0.3010299956639812,0.8450980400142568,null,0.47712125471966244,3.9458131265873386,4.070407321740119,0.3010299956639812,0.8450980400142568,2.515873843711679,0.0,2.0681858617461617,null,0.3010299956639812,0.0,1.7708520116421442,2.2121876044039577,5.19163542470105,3.91301868374796,1.7242758696007892,2.82020145948564,3.4046627008737222,null,2.960470777534299,2.775974331129369,1.8920946026904804,0.3010299956639812,2.1522883443830563,1.041392685158225,4.280805928393667,1.6532125137753437,1.8573324964312685,1.5314789170422551,0.6020599913279624,1.8512583487190752,1.9344984512435677,2.164352855784437,1.380211241711606,0.3010299956639812,null,1.6532125137753437,2.7267272090265724,2.0791812460476247,1.4771212547196624,1.6989700043360187,2.1172712956557644,0.8450980400142568,1.3222192947339193,1.3617278360175928,1.4313637641589874,null,1.7993405494535817,2.3979400086720375,1.1760912590556813,2.710963118995276,1.8195439355418688,1.255272505103306,2.2405492482825995,2.1583624920952498,1.919078092376074,1.7242758696007892,1.6989700043360187,1.919078092376074,1.4913616938342726,0.3010299956639812,null,6.577660314759778,4.527127013839176,4.670255132771604,1.6127838567197355,1.8129133566428555,6.747540212655166,6.156078562204274,1.1139433523068367,6.0671240696753745,0.0,1.863322860120456,0.47712125471966244,2.6884198220027105,0.3010299956639812,0.47712125471966244,5.098913562048652,4.9431679303197615,2.214843848047698,4.154819436194173,0.7781512503836436,4.3154455182245846,0.6020599913279624,4.712388709869141,1.041392685158225,1.0,4.583164754791726,5.202482867910702,5.890270079433979,2.1818435879447726,4.850664611147551,2.041392685158225,5.913651756147462,6.648488523612678,6.094477068268118,4.824386202318774,1.8388490907372552,2.2695129442179165,1.3979400086720377,3.8925398046586355,3.9215304135012423,1.255272505103306,0.9542425094393249,3.5211380837040362,5.241603751895163,null,2.406540180433955,2.4899584794248346,1.9590413923210936,1.7160033436347992,1.4771212547196624,1.0791812460476249,0.47712125471966244,0.0,null,1.0791812460476249,3.752893154884594,1.6720978579357175,0.6020599913279624,1.4913616938342726,1.5314789170422551,null,1.041392685158225,2.4653828514484184,2.1958996524092336,1.414973347970818,2.711807229041191,1.505149978319906,0.6989700043360189,1.845098040014257,0.0,null,null,3.3533390953113047,1.662757831681574,3.402433346219312,3.6993173010213822,2.2810333672477277,4.82727878561066,1.255272505103306,1.414973347970818,null,null,3.9169274661129925,1.6127838567197355,1.2304489213782739,1.255272505103306,0.8450980400142568,0.47712125471966244,0.9542425094393249,0.3010299956639812,3.9143960521297863,null,0.3010299956639812,0.3010299956639812,1.6334684555795866,1.2041199826559248,2.7126497016272113,1.255272505103306,3.4868553552769432,4.212640313534833,null,5.387927022378301,0.47712125471966244,4.129238610131926,null,4.4432473369251015,0.47712125471966244,1.8864907251724818,4.40679557266825,4.447623097760286,2.383815365980431,null,null,4.8792048697219,null,0.0,null,null,null,1.6020599913279625,5.0873554300540516,3.0425755124401905,4.338536173355659,4.315781480708604,2.9339931638312424,2.3654879848909,5.1149010840938205,3.768268016451548,1.662757831681574,1.6127838567197355,0.0,2.615950051656401,1.2041199826559248,1.462397997898956,2.73559889969818,3.315550534421905,0.6020599913279624,3.1099158630237933,3.279210512601395,null,1.9444826721501687,3.151676230847048,null,null,3.4371160930480786,1.6334684555795866,1.2787536009528289,0.8450980400142568,1.4771212547196624,3.0068937079479006,null,1.6901960800285136,2.037426497940624,1.3617278360175928,6.115433096928626,3.12057393120585,2.1931245983544616,0.0,null,3.0670708560453703,5.389350398823487,3.769303460189082,3.912487761332324,1.6532125137753437,5.140938353259874,1.6812412373755872,5.976586093960072,3.743979865241843,4.123982236211463,3.66133934000604,0.9542425094393249,3.998520882835038,4.847171491794531,1.1760912590556813,0.0,1.146128035678238,2.3384564936046046,2.225309281725863,0.6989700043360189,0.47712125471966244,0.0,0.47712125471966244,1.7323937598229686,1.2041199826559248,0.6020599913279624,null,1.7481880270062005,1.0,2.429752280002408,1.0,1.0,0.7781512503836436,4.059941888061955,0.9542425094393249,2.478566495593843,3.277609214304091,2.9278834103307068,null,1.7403626894942439,4.293141483450931,null,2.5224442335063197,null,4.40148670177417,2.870403905279027,1.8512583487190752,2.1398790864012365,1.6720978579357175,4.685302745060676,1.3424226808222062,4.194930399217724,3.5685537120494426,3.446226401778163,2.399673721481038,2.800717078282385,1.505149978319906,1.7323937598229686,1.505149978319906,1.9030899869919435,0.9030899869919435,3.116275587580544,1.9867717342662448,1.5185139398778875,5.807006382479523,3.2846562827885157,1.380211241711606,2.640481436970422,null,1.0791812460476249,4.318668419976215,0.3010299956639812,1.146128035678238,3.640878778701618,1.414973347970818,4.04871363808097,3.4759615891924236,1.3424226808222062,2.130333768495006,1.8260748027008264,2.803457115648414,0.6020599913279624,1.5563025007672873,null,3.1344958558346736,1.5314789170422551,4.342007929017339,2.1986570869544226,0.47712125471966244,null,1.2041199826559248,0.3010299956639812,1.3010299956639813,2.296665190261531,0.47712125471966244,0.47712125471966244,null,1.568201724066995,4.5696313664036445,0.6989700043360189,1.7558748556724915,2.4683473304121573,0.3010299956639812,0.8450980400142568,null,0.0,0.47712125471966244,1.0,null,2.673941998634088,2.0,4.3457069212784285,1.5797835966168101,null,1.8388490907372552,0.0,0.9030899869919435,1.5797835966168101,0.0,null,0.6020599913279624,1.041392685158225,0.6020599913279624,0.6020599913279624,1.4471580313422192,0.47712125471966244,0.3010299956639812,1.3617278360175928,1.4913616938342726,null,0.47712125471966244,null,6.002040292607723,1.146128035678238,2.376576957056512,2.075546961392531,6.453022184825981,1.146128035678238,0.47712125471966244,0.47712125471966244,0.0,0.0,null,3.6036855496146996,0.6989700043360189,1.4471580313422192,null,2.843855422623161,0.9030899869919435,null,0.3010299956639812,1.0,null,null,0.7781512503836436,0.9542425094393249,0.0,0.9030899869919435,0.0,null,0.3010299956639812,4.177738450401719,null,1.2304489213782739,4.008515007631455,null,0.47712125471966244,null,5.123171911925758,4.784046415808113,3.696967640744023,1.792391689498254,4.65856465026156,4.296314103353241,2.6020599913279625,null,1.1760912590556813,null,4.00026049854739,5.392177951477594,null,3.4344092075875,2.423245873936808,1.6989700043360187,2.0492180226701815,2.737987326333431,2.5224442335063197,2.5171958979499744,2.848189116991399,1.845098040014257,1.6812412373755872,0.3010299956639812,3.4531653925258574,1.9822712330395684,3.3113299523037933,1.6812412373755872,1.8260748027008264,1.806179973983887,null,1.2041199826559248,4.398547595734928,null,0.3010299956639812,null,null,4.768001359986824,0.6020599913279624,0.6020599913279624,1.7558748556724915,0.9030899869919435,1.6127838567197355,3.1386184338994925,1.041392685158225,3.040602340114073,0.8450980400142568,1.8388490907372552,1.6127838567197355,1.8750612633917,0.0,0.0,1.2304489213782739,4.099404372345543,4.924868286127619,0.6020599913279624,0.0,2.311753861055754,0.3010299956639812,null,2.1172712956557644,2.503790683057181,4.116076171728611,2.0791812460476247,0.47712125471966244,1.6232492903979006,1.3222192947339193,2.0043213737826426,null,0.47712125471966244,0.3010299956639812,0.6020599913279624,0.0,0.9030899869919435,0.6020599913279624,1.919078092376074,1.2787536009528289,null,1.041392685158225,0.47712125471966244,null,2.2405492482825995,0.6989700043360189,1.0791812460476249,2.741151598851785,0.47712125471966244,4.584873753459825,4.357591847523441,0.6989700043360189,4.9339021496306525,4.708140345388049,4.114110356531891,2.1172712956557644,2.597695185925512,4.620063145703663,5.142198559876307,4.962108775554161,1.6127838567197355,5.031396344236501,2.4756711883244296,4.312494707189671,3.884455496070488,4.414170832531062,1.3424226808222062,4.714254296619151,4.410676026754954,2.7101173651118162,5.1532293151102575,4.734167523028256,3.348499570283838,3.1398790864012365,5.615680768704471,4.106666761969916,3.4126285205443754,2.9965116721541785,4.3901753102286705,4.205231438820003,5.426883586500227,4.746034489811741,4.157033449661203,2.998695158311656,6.173396660808524,4.370587100246676,4.089657881621529,3.3047058982127653,3.5548524343720542,2.8847953639489807,3.106870544478654,4.348110068480238,4.535028144032475,3.865814380167968,2.4899584794248346,3.1696744340588068,2.90687353472207,3.7563317673210577,5.263264333334488,2.3283796034387376,3.7388598020722004,2.885926339801431,4.657552998005808,2.4608978427565478,5.0500818742946425,3.322219294733919,3.3877456596088638,4.080410007155637,3.917190308511564,3.2960066693136723,2.484299839346786,4.796303682043654,3.9550139030380502,4.619354246514376,2.0569048513364727,3.925982100327103,2.8609366207000937,0.0,0.9030899869919435,0.6020599913279624,2.9180303367848803,1.0791812460476249,0.8450980400142568,0.6020599913279624,2.866877814337499,1.1760912590556813,null,1.5185139398778875,null,2.6242820958356683,0.0,2.4183012913197452,0.6989700043360189,1.8388490907372552,4.812799757076228,0.6989700043360189,1.7781512503836436,0.6020599913279624,1.0791812460476249,1.806179973983887,1.8573324964312685,2.7442929831226763,1.8750612633917,1.3424226808222062,1.5563025007672873,1.3010299956639813,4.2835725779669245,1.146128035678238,1.662757831681574,1.3617278360175928,1.4913616938342726,0.6020599913279624,null,0.47712125471966244,2.093421685162235,2.4638929889859074,5.713420815171729,1.3222192947339193,2.7573960287930244,4.499975600182359,1.5797835966168101,1.9590413923210936,0.9542425094393249,null,2.837588438235511,3.845098040014257,0.0,1.2041199826559248,1.7323937598229686,2.0170333392987803,1.591064607026499,null,1.8692317197309762,0.8450980400142568,3.7374312005145827,3.3209766773428235,0.6989700043360189,1.7481880270062005,2.484299839346786,1.0791812460476249,null,4.255224247479844,1.9493900066449128,2.561101383649056,2.954724790979063,5.923626319679506,0.6989700043360189,4.338157564271773,0.6989700043360189,0.7781512503836436,2.582063362911709,1.9822712330395684,2.103803720955957,1.4771212547196624,3.1166077439882485,null,1.2787536009528289,0.47712125471966244,3.6568644915489172,null,1.146128035678238,0.0,null,2.9618954736678504,0.7781512503836436,1.7558748556724915,1.1139433523068367,1.414973347970818,0.0,0.47712125471966244,0.6989700043360189,1.041392685158225,0.3010299956639812,1.414973347970818,0.0,0.8450980400142568,2.296665190261531,0.0,0.0,0.0,null,0.6989700043360189,1.2304489213782739,0.47712125471966244,1.146128035678238,2.717670503002262,0.6989700043360189,1.041392685158225,5.3041155284208585,1.6434526764861874,4.417272353627316,4.712001142502258,0.6989700043360189,0.6989700043360189,2.320146286111054,0.0,0.7781512503836436,0.3010299956639812,1.7160033436347992,0.0,0.9030899869919435,1.568201724066995,null,1.0,3.811373897053893,0.3010299956639812,0.3010299956639812,null,1.2304489213782739,0.9030899869919435,0.7781512503836436,0.0,0.6989700043360189,0.8450980400142568,2.4183012913197452,null,1.845098040014257,3.0034605321095067,1.0791812460476249,0.47712125471966244,null,null,1.3222192947339193,null,0.3010299956639812,0.6989700043360189,1.4313637641589874,0.0,0.0,null,2.1903316981702914,1.8976270912904414,1.792391689498254,2.278753600952829,0.47712125471966244,3.228400358703005,1.0791812460476249,3.0580462303952816,null,1.2041199826559248,2.27415784926368,null,0.0,0.0,1.4471580313422192,3.53567380342575,3.428620672671939,0.8450980400142568,1.6532125137753437,3.6922298357727557,0.0,1.3424226808222062,0.8450980400142568,null,2.5599066250361124,0.3010299956639812,null,1.8129133566428555,5.947035027182782,1.0,null,0.0,5.056718140772,null,null,0.3010299956639812,null,0.0,5.818283311732941,null,null,null,1.7558748556724915,null,5.158483112699248,3.6902847025126295,2.2013971243204513,1.9444826721501687,0.6020599913279624,4.679218876172545,3.3287872003545345,1.041392685158225,0.6989700043360189,2.2430380486862944,0.8450980400142568,0.3010299956639812,0.6989700043360189,1.041392685158225,null,0.6989700043360189,0.6020599913279624,0.3010299956639812,1.3979400086720377,0.3010299956639812,null,0.0,null,0.3010299956639812,1.2787536009528289,2.089905111439398,1.2041199826559248,0.47712125471966244,null,0.6020599913279624,0.3010299956639812,0.7781512503836436,6.156188300812821,0.6020599913279624,1.2787536009528289,0.6020599913279624,0.0,null,0.7781512503836436,0.3010299956639812,1.0,null,0.9542425094393249,0.6020599913279624,1.0791812460476249,1.0791812460476249,2.4668676203541096,2.0681858617461617,4.710675747434186,1.8129133566428555,1.6901960800285136,1.1139433523068367,1.1760912590556813,2.230448921378274,1.7323937598229686,3.8641549560020256,0.0,2.0644579892269186,0.7781512503836436,0.3010299956639812,2.161368002234975,0.3010299956639812,1.0,1.041392685158225,0.9030899869919435,1.146128035678238,1.5314789170422551,1.7708520116421442,1.8388490907372552,2.469822015978163,null,0.7781512503836436,0.3010299956639812,null,0.6020599913279624,1.8260748027008264,null,0.0,1.1139433523068367,1.146128035678238,2.4983105537896004,2.3242824552976926,null,null,0.9030899869919435,0.8450980400142568,0.9030899869919435,null,1.4471580313422192,3.4387005329007363,0.7781512503836436,1.0791812460476249,1.4913616938342726,2.3283796034387376,5.359370595410302,3.6413749451921253,3.497758718287268,1.1760912590556813,1.6532125137753437,null,1.9444826721501687,2.2121876044039577,4.150848506669523,0.3010299956639812,1.0,1.3979400086720377,null,1.792391689498254,1.4913616938342726,4.33976934376873,null,1.7323937598229686,1.0,4.061226225119115,3.405346360175709,3.9978230807457256,3.019116290447073,4.803293200008837,1.8195439355418688,4.7085058809552365,4.251905770472128,3.2166935991697545,2.432969290874406,3.2893659515200318,3.692670699156369,0.6989700043360189,1.5563025007672873,1.5440680443502757,1.7781512503836436,4.121625492208471,2.6919651027673606,0.6020599913279624,3.2281436075977417,0.8450980400142568,null,0.0,1.3010299956639813,1.806179973983887,2.03342375548695,2.656098202012832,null,0.0,0.0,3.7410727723733213,null,3.210318519826232,null,0.0,null,1.4913616938342726,null,0.6020599913279624,0.3010299956639812,0.0,null,1.146128035678238,2.0043213737826426,1.2787536009528289,null,1.6532125137753437,2.3710678622717363,3.4148062795010126,0.6020599913279624,4.719248398447946,null,0.9542425094393249,1.041392685158225,1.2041199826559248,6.625167009998948,1.1760912590556813,1.3222192947339193,5.460649818350059,null,1.2041199826559248,0.3010299956639812,2.161368002234975,2.3443922736851106,4.467312062980552,4.4769764657595275,1.8808135922807914,5.5427781373063665,0.8450980400142568,0.6989700043360189,0.47712125471966244,3.299942900022767,0.6989700043360189,0.6989700043360189,3.3220124385824006,3.009450895798694,3.610021024664145,0.6989700043360189,2.965201701025912,5.18898188886,2.315970345456918,1.0791812460476249,null,0.6989700043360189,null,0.7781512503836436,2.5440680443502757,2.561101383649056,4.093911741049379,0.6020599913279624,null,5.6038402023018765,0.47712125471966244,3.9955474494751373,0.0,null,4.261334253799131,null,null,3.527758752520972,2.404833716619938,4.59148755973202,3.9732664361085286,4.239849820690192,3.896801697664922,5.849184696219555,1.9084850188786497,2.3443922736851106,3.13481437032046,5.192146334810523,null,2.3873898263387296,2.749736315569061,2.4683473304121573,0.9030899869919435,0.9030899869919435,0.9030899869919435,5.315134521369273,2.0718820073061255,1.380211241711606,1.8388490907372552,1.0,null,1.4771212547196624,5.34206917920881,0.47712125471966244,0.47712125471966244,0.0,0.8450980400142568,3.150756439860309,1.4471580313422192,0.47712125471966244,0.47712125471966244,0.47712125471966244,3.335858911319818,null,null,5.1600030734541615,1.1139433523068367,2.0170333392987803,5.543450907915331,4.301051709845226,1.5314789170422551,null,null,2.0,3.3944516808262164,3.1099158630237933,4.032376971209936,1.7853298350107671,2.075546961392531,6.660760210470953,0.8450980400142568,0.47712125471966244,0.6020599913279624,0.0,1.6720978579357175,1.6812412373755872,3.7011360660925265,2.8494194137968996,3.749581734865559,0.6989700043360189,0.8450980400142568,2.0791812460476247,1.380211241711606,6.349021150054456,1.6127838567197355,1.5563025007672873,0.9030899869919435,5.5863216962709386,5.1792500930065435,null,null,1.2787536009528289,0.6020599913279624,5.688454528576532,0.3010299956639812,1.8260748027008264,0.0,0.0,2.322219294733919,null,0.3010299956639812,0.3010299956639812,0.47712125471966244,0.7781512503836436,7.396216770850127,6.826129701831704,4.3766134508577945,6.490054041805959,6.351483030519712,4.931945796382387,5.418427251603582,4.8557613723399475,5.221056743333304,3.523876475638131,2.9258275746247424,3.460747541844197,5.051083029770714,3.6008640363098396,6.9132878257709764,2.503790683057181,4.929822376658122,5.979452764766347,4.004020273253242,3.1760912590556813,3.2725377773752373,2.6972293427597176,3.0595634179012676,1.2787536009528289,2.82020145948564,1.8808135922807914,3.1017470739463664,2.3909351071033793,3.876160084825628,0.9030899869919435,1.462397997898956,3.4638929889859074,1.2041199826559248,2.571708831808688,4.434249452396475,2.496929648073215,5.927957239244359,1.0,2.977266212427293,2.24551266781415,3.7973368007753496,4.384281712885585,3.3727279408855955,1.7160033436347992,1.0791812460476249,null,5.0761778721891595,2.9934362304976116,3.297760511099134,3.5869247081448203,4.31096930425081,1.9294189257142929,4.342007929017339,5.964057289547363,3.3546845539547285,3.7319914490189294,4.483501713269355,5.409791151737474,4.574181797057869,4.6111601653656304,4.982474760879849,4.331082963961029,4.913840332947238,5.07930789680251,3.805228914203426,4.636628292196984,4.391429144919444,4.598768627396784,5.084694218444392,4.03245758271493,4.236789099409293,4.130944568044679,4.592765044389603,4.71577778601359,4.688010252991739,3.8479426388452236,2.888179493918325,4.916448684342482,2.807535028068853,5.069893693873133,5.034772796453349,2.6148972160331345,3.6135247028536526,3.591509808994654,3.083860800866573,4.163250849512631,0.6989700043360189,0.0,4.250078287979645,2.298853076409707,2.2430380486862944,2.8506462351830666,0.9542425094393249,4.908490380505824,2.2013971243204513,2.7641761323903307,1.0791812460476249,1.9395192526186185,1.8864907251724818,0.9030899869919435,1.3222192947339193,2.3138672203691533,2.571708831808688,4.510759423680186,2.225309281725863,0.9542425094393249,3.905148001856016,2.505149978319906,2.514547752660286,0.6989700043360189,2.6232492903979003,2.9836262871245345,1.5797835966168101,3.841797298874355,1.2041199826559248,null,2.401400540781544,4.424424243769512,1.8129133566428555,2.2013971243204513,2.3384564936046046,1.3617278360175928,1.0791812460476249,5.395181312734675,2.1367205671564067,5.009514632972974,null,1.6127838567197355,1.3617278360175928,1.5185139398778875,1.2787536009528289,4.201697475739228,3.0595634179012676,1.806179973983887,2.255272505103306,3.4282968139828798,0.8450980400142568,2.399673721481038,3.9761206182998157,2.1072099696478683,1.3010299956639813,1.5797835966168101,0.7781512503836436,3.6634182122526795,0.0,1.845098040014257,1.3424226808222062,1.9294189257142929,4.968286771260674,2.383815365980431,2.3729120029701067,2.271841606536499,3.00774777800074,3.899546931090867,null,1.1139433523068367,5.1215007524829534,0.0,1.5314789170422551,0.6020599913279624,0.6020599913279624,0.6989700043360189,1.7481880270062005,3.406199423663313,2.0644579892269186,0.47712125471966244,0.6989700043360189,4.537100971663824,0.8450980400142568,0.0,2.093421685162235,4.562970548743853,0.9030899869919435,0.3010299956639812,1.8920946026904804,null,1.6532125137753437,1.568201724066995,5.676711895323356,1.1760912590556813,0.8450980400142568,4.771969433229032,1.0,null,3.458033192496506,1.5563025007672873,4.283459536376994,0.47712125471966244,0.9030899869919435,null,0.6020599913279624,null,1.380211241711606,0.3010299956639812,null,3.0187004986662433,2.8937617620579434,null,2.2833012287035497,null,1.0,4.450818553829668,3.5114822886260013,2.1271047983648077,1.7403626894942439,2.346352974450639,5.076887917362404,null,2.8488047010518036,null,null,3.6582022533870147,2.6981005456233897,5.033946202990361,5.46699507375075,3.9433955765089546,1.2304489213782739,1.462397997898956,0.9030899869919435,null,2.59659709562646,0.6020599913279624,2.8419848045901137,1.6232492903979006,2.3384564936046046,3.8489892062511672,4.5794977825348235,5.071329586860342,5.225242064283132,3.419955748489758,3.677241845946654,1.1139433523068367,3.5784099703312355,2.509202522331103,4.168909779122361,3.8685856665587655,1.9138138523837167,1.7403626894942439,1.2041199826559248,4.963835030702148,1.8325089127062364,2.305351369446624,4.833949909916124,3.53731527311201,2.4727564493172123,3.49220145139254,3.7837606957439243,2.3404441148401185,2.2600713879850747,0.6020599913279624,1.5314789170422551,1.0,0.0,2.0569048513364727,0.8450980400142568,2.748962861256161,3.335858911319818,3.383815365980431,1.7160033436347992,4.890516027792489,0.47712125471966244,0.8450980400142568,0.6989700043360189,1.0791812460476249,2.637489729512511,1.6720978579357175,1.146128035678238,0.7781512503836436,0.0,4.605606684430094,6.176849743087964,4.3574202461454155,4.420912453648964,4.717362560599233,5.475737997721055,4.613725571785924,1.3979400086720377,3.0081741840064264,2.5276299008713385,3.402433346219312,3.3669829759778507,2.816241299991783,2.0969100130080562,2.6364878963533656,1.414973347970818,1.5185139398778875,3.6942541120252783,4.2164034452337935,1.99563519459755,0.6989700043360189,1.1139433523068367,3.0064660422492318,2.3242824552976926,1.8750612633917,0.8450980400142568,4.170936108609079,3.9379189026477803,1.7160033436347992,5.0514033756862995,1.2041199826559248,2.444044795918076,2.0969100130080562,2.3180633349627615,2.8937617620579434,1.6334684555795866,0.0,2.3242824552976926,2.2095150145426308,4.1644718242776895,2.204119982655925,3.5122840632818537,2.6344772701607315,2.6627578316815743,2.392696953259666,1.9294189257142929,2.6483600109809315,0.3010299956639812,2.754348335711019,2.537819095073274,0.7781512503836436,1.0,1.5563025007672873,0.8450980400142568,0.7781512503836436,0.3010299956639812,1.1139433523068367,0.8450980400142568,0.47712125471966244,0.7781512503836436,1.792391689498254,1.6127838567197355,1.3424226808222062,2.727541257028556,1.255272505103306,0.6989700043360189,0.3010299956639812,0.0,1.6020599913279625,2.432969290874406,2.2695129442179165,null,1.4471580313422192,2.4983105537896004,0.7781512503836436,0.0,1.255272505103306,0.6020599913279624,3.600755149639618,1.2787536009528289,0.3010299956639812,3.913336925932623,1.9242792860618816,null,1.9344984512435677,0.3010299956639812,1.5440680443502757,0.6020599913279624,0.0,0.47712125471966244,0.3010299956639812,1.0791812460476249,1.5440680443502757,null,2.8407332346118066,2.5403294747908736,2.930949031167523,1.6812412373755872,3.792951708250132,2.681241237375587,2.469822015978163,3.3754807146185724,2.403120521175818,3.090258052931316,2.315970345456918,2.3636119798921444,2.496929648073215,2.0681858617461617,3.563599728881531,2.9057958803678687,2.864511081058392,2.4082399653118496,2.509202522331103,2.292256071356476,3.29928933408768,2.9647309210536292,3.6324572921847245,2.037426497940624,0.3010299956639812,2.673941998634088,2.5352941200427703,2.694605198933569,0.6020599913279624,4.449262355308886,2.950364854376123,4.102673770548927,4.611797630776316,5.6775558562463,5.061361991644027,7.040675507428614,5.083079585903549,3.6600112212893308,4.199480914862356,2.3283796034387376,2.7958800173440754,3.5748411950633847,3.9802306913910317,2.886490725172482,1.9444826721501687,3.331832044436249,1.6812412373755872,3.5990092398233435,2.5728716022004803,2.05307844348342,1.568201724066995,2.143014800254095,3.362293937964231,2.6893088591236203,2.6263403673750423,1.146128035678238,4.320582439473552,2.919601023784111,4.444357125656028,2.3873898263387296,2.3873898263387296,1.3979400086720377,4.053462604925455,2.307496037913213,1.9030899869919435,2.8543060418010806,1.3979400086720377,1.8750612633917,1.1139433523068367,2.7730546933642626,2.0569048513364727,1.4913616938342726,2.6190933306267428,2.0569048513364727,2.8692317197309762,1.3424226808222062,1.6232492903979006,3.8449118739121406,1.5314789170422551,0.6020599913279624,2.998259338423699,2.0969100130080562,3.4073909044707316,1.7323937598229686,1.0791812460476249,5.459707538550518,4.2146054502900645,1.380211241711606,2.5646660642520893,1.7323937598229686,3.7062055418819706,0.7781512503836436,null,5.219207170490849,3.5949447366950835,1.0,2.812244696800369,2.220108088040055,1.146128035678238,4.086502198970369,0.6989700043360189,0.9542425094393249,1.0791812460476249,0.47712125471966244,2.423245873936808,null,0.3010299956639812,0.47712125471966244,4.4658139572694795,0.3010299956639812,2.5327543789924976,2.403120521175818,1.0791812460476249,4.499026893261117,0.0,null,0.0,null,4.10171271384651,1.9731278535996986,3.1571544399062814,1.1760912590556813,3.654465333520146,0.6020599913279624,3.8314858392486575,2.428134794028789,3.0557604646877348,5.504847223849563,1.4313637641589874,3.4869968884318228,1.8976270912904414,4.31896022852754,5.138851930651347,4.702671744161752,1.6812412373755872,3.151982395457474,1.255272505103306,1.792391689498254,1.6901960800285136,3.6094876898532853,2.2430380486862944,1.7993405494535817,1.6720978579357175,1.2787536009528289,2.6424645202421213,1.0,1.0791812460476249,1.1139433523068367,1.3222192947339193,1.041392685158225,2.912753303671323,0.6020599913279624,1.6232492903979006,0.7781512503836436,2.167317334748176,null,2.012837224705172,0.3010299956639812,0.47712125471966244,2.7134905430939424,0.6020599913279624,0.47712125471966244,1.0791812460476249,null,0.0,null,null,0.0,0.3010299956639812,1.2787536009528289,0.0,3.782472624166286,2.815577748324267,2.499687082618404,null,2.2329961103921536,0.6020599913279624,null,0.0,null,6.3834859309931975,4.8758711907273655,2.5877109650189114,4.226625678595805,1.2304489213782739,2.6424645202421213,5.733784490032383,1.4313637641589874,1.6720978579357175,0.0,2.2810333672477277,0.0,0.9030899869919435,1.591064607026499,0.6020599913279624,0.6020599913279624,1.968482948553935,1.7558748556724915,2.2600713879850747,0.47712125471966244,0.3010299956639812,1.4771212547196624,0.3010299956639812,null,null,4.675228253593064,0.47712125471966244,null,1.2304489213782739,4.91116826614251,null,null,null,5.319195616802831,4.006850960324272,1.7558748556724915,4.929495559155407,null,3.3521825181113627,3.792391689498254,2.0492180226701815,2.3541084391474008,2.330413773349191,4.0484029561527395,5.346114242510212,3.180125875164054,2.6720978579357175,1.7781512503836436,1.041392685158225,2.9425041061680806,2.1367205671564067,2.0681858617461617,4.505339940604518,3.0751818546186915,3.4474681309497557,0.3010299956639812,4.7513484007654325,null,0.0,2.2227164711475833,2.5998830720736876,3.2405492482825995,3.137354111370733,0.0,0.3010299956639812,null,1.5797835966168101,2.1172712956557644,null,null,1.9395192526186185,3.59802407233419,null,1.0791812460476249,3.3756636139608855,0.8450980400142568,3.346548558548474,0.3010299956639812,0.6020599913279624,null,1.4771212547196624,1.146128035678238,4.19736327300672,0.7781512503836436,3.215108581053093,3.6261349786353887,3.9688097139128584,1.9344984512435677,3.0610753236297916,4.093421685162235,5.723086077162789,4.548229676502112,5.15460045498096,6.427169685950409,2.884228769632604,5.08639542712425,5.135259898515659,5.128438043279852,5.515759958886358,4.589100278307229,5.233039283720956,3.7985815947285477,4.694806945462424,5.415852738550608,5.6226025375130675,5.186529738065256,3.3916407034923877,4.972656342018889,4.625209525381881,1.7160033436347992,5.623784590225167,5.72338752596688,5.441074271372142,5.6652187716052556,4.600918469409103,5.899852225550511,5.078039724128765,2.478566495593843,2.3729120029701067,4.949355847308592,5.529869047360303,1.3617278360175928,3.659821158055705,1.4913616938342726,1.0,2.307496037913213,2.9159272116971158,2.161368002234975,null,1.2787536009528289,0.9542425094393249,3.8138477542288545,1.568201724066995,2.187520720836463,0.8450980400142568,0.6020599913279624,0.47712125471966244,1.845098040014257,2.661812685537261,2.2528530309798933,1.2304489213782739,0.0,2.423245873936808,null,2.08278537031645,2.0,1.806179973983887,1.568201724066995,0.6989700043360189,1.3222192947339193,null,1.8920946026904804,0.6989700043360189,3.521530341278711,0.0,1.462397997898956,1.3222192947339193,1.5185139398778875,1.1139433523068367,null,null,0.9542425094393249,2.979548374704095,5.5509776289153505,4.409476620806971,5.703089233649226,6.387545895120929,3.8270460170047342,4.634376494088368,3.4077307280263356,2.971739590887778,5.14471428001267,4.348947065925597,2.3961993470957363,2.0681858617461617,4.6594502953363675,1.5185139398778875,4.209246848753374,1.5314789170422551,6.392506138264694,0.47712125471966244,5.483024988842539,1.041392685158225,1.5797835966168101,3.074084689028244,1.3010299956639813,5.220923586235532,1.662757831681574,2.1072099696478683,2.41161970596323,5.422844170675291,6.371814207107891,3.8385342705118686,1.3424226808222062,2.204119982655925,3.1583624920952498,0.0,1.8920946026904804,0.0,0.47712125471966244,null,0.8450980400142568,1.7708520116421442,1.2041199826559248,2.530199698203082,0.0,1.9030899869919435,5.271023340666731,5.35514681324671,5.277173555485786,4.8721387840277695,5.422031430653622,4.699915735833369,4.732667118448442,4.675650050095353,5.427789489907865,5.603372831561271,5.698008280883338,3.961373627594801,5.282443102260037,4.516522153162396,5.4008590586478995,5.401410881003254,5.684649705600683,4.457791093970606,6.181098648677576,5.895213636623117,5.370307643963216,5.053781201051674,5.978379123568306,4.659060072240938,5.41082951422615,5.2977167512641525,5.575183224749023,5.182134924659528,4.2331992415847735,0.6020599913279624,0.0,5.35497807849575,3.246498580795801,0.9542425094393249,1.380211241711606,2.287801729930226,0.0,3.5324995860946626,0.9030899869919435,0.0,0.8450980400142568,0.3010299956639812,0.3010299956639812,1.462397997898956,1.380211241711606,0.3010299956639812,0.0,1.2304489213782739,null,0.3010299956639812,0.9542425094393249,1.4771212547196624,0.6989700043360189,null,4.045322978786658,null,0.3010299956639812,0.0,5.681186042277916,null,null,0.3010299956639812,0.3010299956639812,3.216957207361097,1.255272505103306,null,null,null,4.8158963796532355,1.0791812460476249,0.7781512503836436,4.222143969500662,2.824776462475546,2.6720978579357175,1.5797835966168101,0.6989700043360189,1.146128035678238,4.0135955235372895,1.591064607026499,1.2787536009528289,1.7708520116421442,0.6020599913279624,1.0,4.726735357064244,1.0791812460476249,2.290034611362518,2.6866362692622934,0.47712125471966244,1.4313637641589874,4.032860415952143,0.0,1.7634279935629373,1.6334684555795866,0.7781512503836436,3.8454701329816734,null,0.3010299956639812,0.9030899869919435,2.0863598306747484,0.6020599913279624,null,0.0,0.0,2.734799829588847,0.0,1.7242758696007892,0.47712125471966244,5.610222454765782,5.017317208282198,5.750002838034957,6.595620650311245,5.4979988529028585,3.273695587930092,0.6020599913279624,4.892884522551015,5.513273548513791,4.54619706448606,4.456866853267461,5.520734997001082,3.5474054596674898,2.1789769472931693,3.05307844348342,0.0,4.420071324796761,3.8095597146352675,0.9030899869919435,4.468155252967934,2.225309281725863,0.7781512503836436,4.588462194253109,3.749968083509403,4.018700498666243,5.198648840778378,1.9084850188786497,4.92192046335703,4.62396218875473,null,4.532270144609057,3.171433900943008,5.182970718263217,3.569958818096594,2.989004615698537,1.1139433523068367,5.59779387800227,5.620341176820337,1.3617278360175928,0.47712125471966244,5.668846993239975,4.619958968366304,4.985237804687095,6.799174382795648,5.615832260909299,5.357549906780936,5.364449679424558,5.48200698781308,4.5918211790467405,6.592069225655203,5.325556710051133,3.7800291273373383,4.616275913126566,4.4488144936695235,5.742438386598438,5.337930240289517,6.217092903185323,4.74781561496517,5.967884798187327,5.784749914045799,5.8870549413378574,5.790800099416785,5.695829148154285,5.521952276235657,5.5697460025824626,5.335483977635187,5.843023992408135,5.934537838956929,3.7779340488377793,2.900913067737669,3.3038437748886547,3.466125870418199,4.3241795297179,1.3222192947339193,1.4771212547196624,1.0,3.2116544005531824,1.6232492903979006,1.8325089127062364,1.8195439355418688,2.632457292184724,2.406540180433955,0.9542425094393249,2.7450747915820575,3.1420764610732848,2.2833012287035497,2.4983105537896004,2.833147111912785,0.9542425094393249,3.8294324336175984,2.821513528404773,3.3244882333076564,0.6020599913279624,null,1.3222192947339193,2.850033257689769,2.7259116322950483,0.3010299956639812,0.6989700043360189,null,2.093421685162235,0.0,4.287533011050722,1.6901960800285136,2.3096301674258988,null,1.1139433523068367,1.8129133566428555,null,0.9030899869919435,0.0,0.47712125471966244,2.929929560084588,null,null,3.813247300897605,5.7556668016458215,4.959928165198257,6.030423620936883,5.080965421750991,2.8041394323353503,4.64025280075461,4.898352142322824,4.598593552773338,4.266654962773224,1.0791812460476249,4.5169186001975055,1.9294189257142929,1.3617278360175928,4.539226695042995,0.3010299956639812,2.7730546933642626,5.403475707740859,4.368249684638123,2.123851640967086,4.665036609369652,4.607101009389372,4.209300495159705,2.9041743682841634,4.770712131572854,2.2479732663618064,5.17235477543979,4.39031676847084,3.1212314551496214,4.775479375409764,3.9434945159061026,4.586666055598009,1.9542425094393248,2.45178643552429,1.7403626894942439,1.3979400086720377,2.9740509027928774,0.47712125471966244,1.041392685158225,1.255272505103306,1.6434526764861874,1.7323937598229686,2.6532125137753435,1.7075701760979363,1.6989700043360187,null,1.041392685158225,1.1760912590556813,1.4313637641589874,0.8450980400142568,0.7781512503836436,1.7075701760979363,1.041392685158225,1.806179973983887,null,null,0.3010299956639812,1.0,1.505149978319906,3.7770641547424293,0.6989700043360189,0.47712125471966244,null,2.629409599102719,0.47712125471966244,0.6020599913279624,null,null,null,null,0.0,0.47712125471966244,null,1.8920946026904804,1.7853298350107671,1.7481880270062005,1.255272505103306,null,2.204119982655925,2.7032913781186614,1.3010299956639813,3.312811826212088,0.6020599913279624,1.462397997898956,2.8998205024270964,0.0,null,0.0,null,0.8450980400142568,1.0791812460476249,0.6020599913279624,null,1.9493900066449128,null,null,null,2.9566485792052033,2.9138138523837167,4.0745238879349515,4.838930906628243,null,5.5611168938893,null,2.8494194137968996,2.113943352306837,4.1165745397769165,3.686278678067201,3.4638929889859074,3.5734518220354854,3.3079237036118814,2.7752462597402365,2.220108088040055,5.659416045883241,5.427153282160403,4.656663471385971,4.405295123042287,4.159326520197866,4.736555847162636,5.403386509447392,3.8489892062511672,3.030599721965951,5.18782518424518,5.193119030440797,4.858302542985558,4.634356336067436,3.800717078282385,5.433312103948038,4.14888016912823,4.422458514031944,3.7867514221455614,3.892150277901364,4.759282473437503,3.878866336956725,3.667359546183087,4.020527012274563,3.404320467221731,3.647480773173676,4.935366172774795,2.82020145948564,3.901403826825252,2.837588438235511,4.753307228790333,3.36078268987328,3.110589710299249,4.193625418492879,5.425589644935911,4.056981036668113,3.003029470553618,5.603845608742156,3.913442954859396,1.9867717342662448,3.0472748673841794,3.2678754193188975,3.210318519826232,2.8959747323590648,1.255272505103306,3.2837533833325265,2.2430380486862944,2.8943160626844384,3.1082266563749283,1.8260748027008264,4.032860415952143,2.7944880466591697,1.591064607026499,2.4668676203541096,3.6824158616773586,1.0791812460476249,3.477555332198981,0.3010299956639812,1.6812412373755872,1.2041199826559248,1.9444826721501687,1.6901960800285136,2.841359470454855,2.8020892578817325,2.1172712956557644,0.0,1.7481880270062005,2.823474229170301,1.3979400086720377,1.968482948553935,2.08278537031645,1.5797835966168101,1.591064607026499,1.2787536009528289,1.9590413923210936,4.083180004129977,2.12057393120585,1.5797835966168101,1.6232492903979006,2.12057393120585,2.4800069429571505,2.870403905279027,2.526339277389844,1.6127838567197355,3.9259305978684713,1.6232492903979006,3.892762234615817,0.47712125471966244,3.2203696324513946,2.7902851640332416,3.984932166067412,3.4109458586877746,4.287196878466229,3.5260806918020298,5.163298561728656,0.47712125471966244,null,3.281260687055013,4.449324093098727,3.73917663191073,4.051152522447381,1.1760912590556813,3.7069736761761782,3.926856708949692,2.287801729930226,4.130076332517164,2.4345689040341987,3.373279893277496,5.1443624568936395,2.8494194137968996,3.2143138974243994,3.813714391881145,3.8974071396615804,4.8342299028516775,4.330028013516616,4.767712297269,4.516945017136802,0.7781512503836436,4.009663316679379,0.0,2.6444385894678386,5.658484567509774,1.9242792860618816,5.67703085688751,5.5546502491372305,6.039054636373598,4.368231083311129,3.2111205412580492,4.159326520197866,4.563219955576987,4.153906285138868,4.199453479094831,5.007483195871498,5.57118806492378,3.827110687466011,3.524396122103842,5.302006060586541,4.625127167351595,1.9395192526186185,3.4313637641589874,3.3636119798921444,5.774083184591247,3.5851221863068155,4.931035575957512,2.423245873936808,1.7323937598229686,3.0056094453602804,3.3637999454791094,3.3836358683618797,4.98770647551673,3.6549462265843444,2.164352855784437,3.531095546870028,3.5538830266438746,1.255272505103306,4.069963937850763,3.080987046910887,2.4265112613645754,2.2624510897304293,1.8808135922807914,2.632457292184724,5.142614690148611,3.037824750588342,4.071440127177888,4.36214304958196,1.3424226808222062,3.297760511099134,3.5711262770843115,3.132579847659737,4.28535474103037,1.8325089127062364,4.943326305517197,4.146190073315927,4.359759616415701,5.032530120278537,3.3459615418131414,4.02840856511547,3.4143046881283317,4.8564388612228555,3.6909045540549665,3.8654001181793016,4.094925101124162,3.3109056293761414,3.508798965403905,2.403120521175818,3.1975562131535367,2.5658478186735176,0.3010299956639812,1.146128035678238,null,1.3222192947339193,1.1760912590556813,0.47712125471966244,0.6989700043360189,3.47158505418519,null,1.1139433523068367,2.885361220031512,0.0,1.5440680443502757,0.47712125471966244,0.3010299956639812,4.3308802877944315,4.349898891403912,5.943284737618057,1.0791812460476249,null,0.9542425094393249,3.1513698502474603,0.3010299956639812,0.6989700043360189,2.8000293592441343,0.0,4.343053922912849,5.212009054022761,2.103803720955957,0.0,0.6020599913279624,null,0.9542425094393249,0.3010299956639812,0.7781512503836436,0.3010299956639812,2.678518379040114,1.591064607026499,2.041392685158225,1.0,5.278950131875205,0.47712125471966244,0.9030899869919435,4.804677705595455,6.118243556611741,1.3979400086720377,0.6020599913279624,1.0,0.0,0.0,null,null,null,0.7781512503836436,1.255272505103306,0.0,null,1.1139433523068367,5.89377562819935,3.636287252098513,5.137790718642225,1.6434526764861874,null,1.255272505103306,1.4313637641589874,1.380211241711606,5.30046287123587,2.3138672203691533,0.0,3.7945577512547617,2.6981005456233897,2.225309281725863,2.093421685162235,4.397679353778606,7.1058443777502225,3.8795546009389743,7.129678068145549,5.640098651907534,5.6682283864763745,4.830633571258512,3.6854730197227594,6.054436466847555,4.337698805964078,4.320997416794221,4.972804322336578,3.7138264243805246,2.9708116108725178,4.284069611710083,3.8810992183890174,4.868179923974517,4.113709438449504,2.938519725176492,4.14770723378041,3.151982395457474,3.66228551572213,3.530199698203082,2.6989700043360187,4.372893600271661,2.4409090820652177,2.4955443375464483,2.496929648073215,1.3424226808222062,5.005021699914429,2.506505032404872,2.423245873936808,5.109942836998641,6.02067859949464,2.0644579892269186,1.5797835966168101,6.097423566480687,3.7552648914122466,2.506505032404872,1.9344984512435677,1.2041199826559248,1.0791812460476249,2.1986570869544226,1.99563519459755,1.9867717342662448,1.462397997898956,1.2304489213782739,1.9637878273455553,0.0,0.6989700043360189,2.496929648073215,1.8260748027008264,3.8342299028516775,2.741151598851785,1.0,1.3617278360175928,2.3483048630481607,2.886490725172482,0.47712125471966244,2.0718820073061255,1.6127838567197355,1.3222192947339193,0.0,2.582063362911709,1.1139433523068367,0.9030899869919435,0.7781512503836436,1.041392685158225,1.9084850188786497,2.220108088040055,3.5420781463356255,3.182414652434554,null,0.6989700043360189,0.3010299956639812,0.3010299956639812,0.0,1.8195439355418688,1.3010299956639813,1.146128035678238,null,3.5816083660320577,2.630427875025024,3.1082266563749283,4.247261126880467,2.9552065375419416,1.5185139398778875,1.6434526764861874,2.507855871695831,2.9258275746247424,1.3979400086720377,4.326048967946741,null,2.586587304671755,null,0.0,1.3979400086720377,0.9542425094393249,2.0086001717619175,1.5797835966168101,1.7481880270062005,1.041392685158225,4.262403623258782,2.4742162640762553,0.9542425094393249,0.7781512503836436,0.6989700043360189,2.294466226161593,0.0,0.7781512503836436,1.0,null,1.568201724066995,3.5282737771670436,2.1903316981702914,0.9542425094393249,null,1.1139433523068367,0.9542425094393249,0.0,1.5440680443502757,null,null,0.8450980400142568,1.8129133566428555,2.2329961103921536,0.0,0.3010299956639812,null,3.8258802989361795,3.789298611159441,2.6190933306267428,null,2.741939077729199,3.775537634780957,3.504470862494419,2.060697840353612,null,1.3424226808222062,2.44870631990508,4.17805561153123,1.662757831681574,2.6522463410033232,2.803457115648414,1.4313637641589874,3.2773799746672547,0.8450980400142568,1.8260748027008264,2.376576957056512,1.2041199826559248,1.2304489213782739,2.2600713879850747,1.4471580313422192,1.146128035678238,1.3617278360175928,2.103803720955957,1.5185139398778875,1.7075701760979363,1.806179973983887,0.3010299956639812,0.6020599913279624,0.0,0.7781512503836436,0.6020599913279624,0.6989700043360189,null,0.6989700043360189,1.1139433523068367,0.7781512503836436,1.5440680443502757,0.6989700043360189,0.9030899869919435,1.662757831681574,2.1172712956557644,2.3324384599156054,0.9542425094393249,0.7781512503836436,2.2355284469075487,0.47712125471966244,1.4771212547196624,1.568201724066995,null,0.0,0.9030899869919435,0.9030899869919435,0.3010299956639812,2.1818435879447726,2.59659709562646,2.9863237770507656,3.246252312299322,0.0,2.374748346010104,2.800717078282385,2.2227164711475833,0.6020599913279624,5.0822538420153,0.9030899869919435,3.481729196960016,3.0737183503461227,3.448242412634439,3.3651134316275773,2.4608978427565478,2.807535028068853,1.146128035678238,1.7708520116421442,2.6884198220027105,3.313445370426414,2.271841606536499,null,1.7558748556724915,2.6599162000698504,null,3.0927206446840994,1.919078092376074,2.519827993775719,2.164352855784437,0.7781512503836436,1.380211241711606,4.015150103229471,2.997386384397313,0.47712125471966244,3.557025722386383,0.6020599913279624,2.1172712956557644,2.376576957056512,0.3010299956639812,0.9030899869919435,1.414973347970818,1.5797835966168101,1.2304489213782739,1.6020599913279625,3.0253058652647704,1.2041199826559248,2.0969100130080562,2.6201360549737576,1.414973347970818,2.0569048513364727,2.428134794028789,1.2041199826559248,2.27415784926368,1.4771212547196624,2.7958800173440754,1.0,0.0,null,2.7634279935629373,null,6.37499346079931,6.228092752871466,6.5243052288449235,5.5495598817125265,6.16314705734051,5.451367284934826,5.80413602341709,5.754066870632658,6.164857652730115,4.84244697285584,4.509793728325618,5.3006128727102855,5.307712061727863,4.751617783189541,1.0791812460476249,5.304557304033079,4.513217600067939,4.972526817865855,5.347650006593218,5.220764266264921,4.847504795327316,5.236237383947432,5.754336101891333,5.9141193399364385,4.511829906060732,6.462904778348365,4.931884835640881,3.6522463410033232,3.299942900022767,4.58454605651386,4.631108786634139,5.148164437937767,4.520850202811219,5.767574368798389,1.5185139398778875,3.0689276116820716,1.9867717342662448,0.0,0.7781512503836436,null,0.9030899869919435,3.464638559095033,0.7781512503836436,2.6127838567197355,0.6020599913279624,3.5943925503754266,1.3617278360175928,0.9542425094393249,0.8450980400142568,null,5.502621006938774,3.727622577969137,1.041392685158225,0.47712125471966244,1.380211241711606,2.1903316981702914,1.568201724066995,null,0.3010299956639812,3.0457140589408676,null,1.4471580313422192,3.2496874278053016,0.3010299956639812,0.0,null,0.9030899869919435,1.4471580313422192,null,null,2.2013971243204513,2.3344537511509307,1.2041199826559248,2.7972675408307164,2.739572344450092,3.535167485114944,3.2380461031287955,0.0,1.863322860120456,1.6720978579357175,4.482158695411276,4.7435724742053855,1.0,0.8450980400142568,2.801403710017355,3.207095540419218,1.3010299956639813,1.1139433523068367,1.6812412373755872,1.6532125137753437,null,2.2648178230095364,3.5770319856260313,0.47712125471966244,null,0.9542425094393249,0.3010299956639812,1.146128035678238,1.0791812460476249,0.0,2.2095150145426308,1.792391689498254,0.3010299956639812,1.9138138523837167,0.7781512503836436,0.6989700043360189,0.0,2.760422483423212,null,0.3010299956639812,0.0,null,0.9030899869919435,0.47712125471966244,null,0.8450980400142568,1.8808135922807914,0.6989700043360189,0.8450980400142568,1.1139433523068367,0.0,null,1.3617278360175928,null,0.6989700043360189,0.8450980400142568,3.614264287358705,2.6053050461411096,2.3180633349627615,1.9493900066449128,1.2787536009528289,2.6954816764901977,2.278753600952829,3.3443922736851106,2.1760912590556813,2.4456042032735974,3.0941215958405612,2.6384892569546374,1.2041199826559248,2.428134794028789,1.2304489213782739,0.8450980400142568,1.3617278360175928,null,1.5563025007672873,1.414973347970818,0.3010299956639812,2.3096301674258988,1.1139433523068367,0.3010299956639812,0.6989700043360189,1.8976270912904414,0.9030899869919435,0.3010299956639812,1.2304489213782739,0.3010299956639812,0.6989700043360189,0.47712125471966244,1.1760912590556813,null,0.6020599913279624,null,2.8020892578817325,3.7759015788916743,1.2787536009528289,null,1.7634279935629373,2.4927603890268375,1.041392685158225,0.6020599913279624,1.4313637641589874,0.47712125471966244,4.345667735635353,5.594192485722842,0.9030899869919435,2.7032913781186614,2.507855871695831,1.3979400086720377,0.0,0.6020599913279624,0.47712125471966244,0.0,2.9459607035775686,0.47712125471966244,1.7481880270062005,2.0211892990699383,1.462397997898956,1.6020599913279625,null,null,0.0,1.2304489213782739,null,0.3010299956639812,3.816042340921997,4.628358272887206,null,4.385212907084455,3.5770319856260313,1.9590413923210936,0.47712125471966244,2.4082399653118496,4.800662100817674,3.902709812969877,6.117181112171447,1.3010299956639813,3.5961570809161723,4.241870088685619,4.16946869782694,3.358315640082196,3.922673567858554,3.177824971864682,4.477237051142667,4.041471640613747,4.677387925491221,3.403635189790548,3.2741578492636796,3.867997510344951,5.268067563248719,2.060697840353612,5.171448533259915,4.32174337820423,3.2092468487533736,1.8920946026904804,0.6020599913279624,1.0,1.1139433523068367,1.255272505103306,2.7788744720027396,null,0.0,4.12671570368574,0.0,1.6334684555795866,4.5532274510288575,2.1072099696478683,5.137249640220982,3.85751341477669,5.427544530432811,3.1119342763326814,2.369215857410143,4.206096944706567,4.811675525366911,3.7054360465852505,5.099044960015468,4.80608496167362,3.5554572172046495,4.512177245478473,3.0153597554092144,4.433449793761596,5.1966293177237,5.196789458863075,4.884381822960448,3.7234556720351857,3.039017321997412,5.51413451151943,3.843170464519898,5.140036410975282,3.3517963068970236,2.82020145948564,5.024346079934481,4.904785848781848,1.845098040014257,4.05850194342965,3.6264430253312945,4.628542183412569,1.7708520116421442,4.314288660947498,0.3010299956639812,0.3010299956639812,0.6020599913279624,0.3010299956639812,2.3242824552976926,null,0.9542425094393249,2.164352855784437,null,null,null,0.9030899869919435,null,1.6901960800285136,1.3010299956639813,3.662757831681574,3.956696564894651,1.8573324964312685,0.3010299956639812,4.167080919673256,4.609359591981379,4.77155808601293,null,5.106564834846764,1.9294189257142929,2.320146286111054,2.0453229787866576,4.434233473644771,1.1760912590556813,5.546057512679071,4.911386685279967,4.939743829620212,4.504742636271688,1.5314789170422551,2.5634810853944106,1.0,4.137702167146962,0.6020599913279624,5.019461095561706,1.0,0.47712125471966244,4.76754915133098,1.5185139398778875,3.824060717418653,0.0,5.883642700477765,0.0,3.7274599208579087,3.8283376000590046,1.0,0.9542425094393249,0.3010299956639812,4.363687175889545,4.122478014681511,4.687805323550919,3.9284982681236906,3.5258219521566625,0.0,2.7442929831226763,4.137164145129356,2.380211241711606,2.155336037465062,4.556169779397686,4.210505790680973,4.325289837207551,1.9777236052888478,4.307324853645366,5.148858591039669,4.2155318184912955,4.516032702878934,3.9080022011725535,1.6812412373755872,null,2.546542663478131,1.4771212547196624,3.4840149626675627,2.0043213737826426,3.496376054012401,2.6693168805661123,3.084933574936716,4.536773011830363,3.7481104674949837,3.7389390312034796,2.2810333672477277,3.292477593667784,4.357477454138898,2.499687082618404,1.9542425094393248,1.7160033436347992,0.47712125471966244,2.8603380065709936,2.0293837776852097,5.843734076984591,0.9030899869919435,1.255272505103306,0.47712125471966244,2.0863598306747484,1.9138138523837167,1.2787536009528289,0.7781512503836436,0.0,1.4471580313422192,1.0,0.3010299956639812,0.0,null,0.0,1.6232492903979006,1.6334684555795866,0.3010299956639812,1.041392685158225,5.2609367280392965,null,1.5440680443502757,5.284146375292501,3.68761812957177,3.6267508536833932,0.47712125471966244,0.3010299956639812,1.041392685158225,4.552972237463008,0.6020599913279624,0.6020599913279624,null,4.692053365034081,1.2304489213782739,3.8239304551255637,0.6989700043360189,4.501127757522981,4.974548534820987,4.51061202578917,2.9283958522567137,2.8756399370041685,3.193958978019187,2.7745169657285498,3.787672964687493,2.9242792860618816,3.9036867317365025,3.3866772839608377,2.3443922736851106,4.310077005324261,1.0791812460476249,3.773274348337454,4.567825955510648,3.562768543016519,2.509202522331103,3.666705136119899,4.367393197922476,null,2.3443922736851106,3.281941933440825,4.376668185810529,5.721476731179623,5.447029274964892,3.62879748556671,5.207965414285902,2.921166050637739,2.4955443375464483,3.404149249209695,4.831575454452988,4.2707254067824545,4.944082739732179,4.7497131319708155,4.907969994232578,5.316892503761295,3.4658288153574364,4.9713129663383935,5.388806091204613,3.8978469315795716,3.5017437296279943,6.0504532281865915,3.0856472882968564,4.693559880453842,3.3226327116922234,3.90156729002845,3.6450290647211423,3.549371152333177,1.5440680443502757,5.279379448150558,3.45484486000851,3.8454701329816734,4.108767917678082,3.433609843323718,1.3222192947339193,3.788380515319563,4.959208396546148,4.516284111113981,3.468495024507069,5.296619126282741,3.3439990690571615,6.297994114007901,4.854111628734478,5.95906573121993,3.8243211248507714,5.443949490629178,5.058725827107601,3.1728946977521764,3.934902258322314,4.175772659601535,3.8516863154424277,5.106636186344689,5.32491593950421,5.582177037688409,3.119585774961784,2.3010299956639813,5.465295091299638,5.272305844402086,5.391883868515447,5.249301107873169,4.559367909463331,4.4183344423049835,5.875247101663401,5.657449791595941,3.8180278418592564,5.852308559876403,4.672734971642158,5.965084995171431,3.8599184852007156,4.7564535292849595,5.301494442324943,3.8965813275057326,4.645746395378245,5.465235582804863,5.083875121965383,3.7091002815511667,4.383366482755039,5.316586731883527,5.132704645385273,5.211737090032868,4.032336659845735,4.789580712164425,4.8783264339432675,6.1386146464311,5.561640337845113,5.584747223944714,4.853260046800144,1.9777236052888478,1.1139433523068367,2.6190933306267428,null,1.1139433523068367,0.9030899869919435,0.0,null,null,null,0.0,0.0,1.1760912590556813,null,0.0,null,2.0086001717619175,null,null,null,null,null,4.179120729609299,4.537995294766961,null,0.6020599913279624,5.460305355654928,0.0,5.180051287144229,3.3142886609474975,0.0,3.7945577512547617,4.699490845272204,5.275863950712521,1.146128035678238,6.197155352971512,4.367206781435987,4.641989405436523,4.124830149413859,4.6662277299444375,3.292256071356476,3.3380578754197563,4.464713045757064,3.342422680822206,6.265379446212306,3.1806992012960347,0.3010299956639812,0.6020599913279624,0.47712125471966244,0.9542425094393249,2.4265112613645754,0.6020599913279624,2.1583624920952498,0.9542425094393249,null,null,0.3010299956639812,1.255272505103306,null,0.6020599913279624,0.47712125471966244,1.7323937598229686,0.9542425094393249,3.736316807904109,3.7582304084577496,4.042299807413626,1.041392685158225,1.146128035678238,null,null,null,1.1139433523068367,1.041392685158225,3.4795753101749884,null,2.6570558528571038,3.723537761532057,1.3010299956639813,4.598363660172026,1.8976270912904414,2.3961993470957363,0.8450980400142568,0.47712125471966244,3.903849338096681,5.15080247570459,0.7781512503836436,5.406303382818605,2.3560258571931225,4.292278228672973,3.41161970596323,3.2873537727147464,2.7151673578484576,3.218010042984363,4.598210330802737,0.3010299956639812,1.8692317197309762,4.106564834846764,2.496929648073215,2.632457292184724,2.5118833609788744,2.991226075692495,3.5418287667813124,1.7403626894942439,3.4473131088235682,2.2380461031287955,2.187520720836463,1.3979400086720377,2.462397997898956,1.3617278360175928,2.330413773349191,1.0791812460476249,1.7160033436347992,1.041392685158225,1.7323937598229686,1.3010299956639813,3.467756051244033,3.513617073787875,2.711807229041191,3.399673721481038,3.05307844348342,3.6810602436318116,0.47712125471966244,2.3909351071033793,1.7323937598229686,1.7075701760979363,0.8450980400142568,2.0791812460476247,null,3.280805928393667,2.456366033129043,0.7781512503836436,2.429752280002408,0.9542425094393249,1.2787536009528289,4.764206031153339,5.2442993917426906,1.7634279935629373,0.0,4.019074729177898,5.362791498006948,4.91176466367086,5.234949843994176,3.092018470752797,3.768416088216332,4.507950273279053,4.377652237172418,4.159206133646325,3.6755033847279566,2.444044795918076,3.8949249773595436,4.319418389047728,4.889912087542895,4.0587675553704194,1.041392685158225,2.9731278535996988,1.414973347970818,2.7101173651118162,1.380211241711606,1.8920946026904804,2.974971994298069,2.3961993470957363,1.2787536009528289,1.380211241711606,3.5451833682154064,0.6020599913279624,0.0,1.0,2.57978359661681,5.826010626088096,3.860457795423471,0.47712125471966244,5.528314952765923,2.6627578316815743,5.766464899838297,2.6414741105040993,0.7781512503836436,4.587475237383664,3.1911714557285586,3.1149444157125847,4.971776668876523,4.397592434038117,4.786964259435733,2.436162647040756,1.7634279935629373,1.591064607026499,3.273464272621346,2.7551122663950713,2.4800069429571505,5.969821126901555,1.9777236052888478,2.9339931638312424,2.9907826918031377,3.577721524509021,4.382683290433643,5.449686625478326,4.392098727163994,6.369048417605493,6.1370634293209285,6.186535956400683,5.943526666357637,5.60069633948432,4.850542090028461,5.213992963045697,3.2352758766870524,5.304744653551791,4.698718040459926,6.100419831297735,5.717841025782624,6.10177593432956,5.400741706014307,5.241085545257024,5.088178629749863,5.050704485553971,5.034102814763672,5.2863756214705475,6.100681678020282,4.978641510277342,5.350133613202324,2.6627578316815743,2.837588438235511,1.5185139398778875,0.8450980400142568,2.863322860120456,2.7450747915820575,1.591064607026499,1.6720978579357175,1.5563025007672873,1.462397997898956,1.9444826721501687,0.47712125471966244,1.5185139398778875,2.6473829701146196,1.7781512503836436,1.4313637641589874,2.645422269349092,1.845098040014257,1.9395192526186185,0.9030899869919435,0.6020599913279624,0.8450980400142568,1.1139433523068367,3.2706788361447066,1.8325089127062364,4.825387165843325,1.2787536009528289,2.1492191126553797,0.9542425094393249,1.2787536009528289,0.47712125471966244,1.8260748027008264,2.5538830266438746,1.0,1.1139433523068367,1.041392685158225,1.0,1.380211241711606,5.332282894033044,null,1.3979400086720377,0.8450980400142568,null,0.3010299956639812,null,0.8450980400142568,1.1760912590556813,null,0.6989700043360189,0.0,null,0.3010299956639812,0.0,0.3010299956639812,null,0.0,1.4913616938342726,0.47712125471966244,1.8920946026904804,1.9912260756924949,1.3222192947339193,0.47712125471966244,null,2.782472624166286,0.0,null,null,0.47712125471966244,0.3010299956639812,2.376576957056512,0.3010299956639812,null,0.0,4.507855871695831,0.3010299956639812,null,3.5558196830611912,2.290034611362518,4.633922712153877,2.967547976218862,2.900913067737669,3.653309012938479,2.949877704036875,2.930949031167523,1.3979400086720377,1.6434526764861874,0.8450980400142568,1.414973347970818,1.662757831681574,2.0253058652647704,2.2576785748691846,0.9030899869919435,2.0211892990699383,0.0,0.9030899869919435,1.146128035678238,0.9542425094393249,1.8750612633917,1.414973347970818,1.1139433523068367,1.462397997898956,null,1.9444826721501687,1.4771212547196624,1.1139433523068367,4.31820946717138,0.7781512503836436,3.423081958297231,0.3010299956639812,1.041392685158225,3.0856472882968564,3.407900540142635,5.635644566843376,3.8291107101552946,3.769820257763592,1.9294189257142929,4.244103863376508,1.146128035678238,4.566001210827714,4.641939884406366,3.9726193390596234,4.775683249026044,3.3688445068258215,3.1812717715594614,3.450557009418329,5.73233826309347,0.3010299956639812,null,3.3469394626989906,0.3010299956639812,null,null,0.0,3.0136796972911926,null,3.348888723071438,0.0,null,0.6989700043360189,0.6989700043360189,1.8195439355418688,null,3.123851640967086,4.138365863678996,0.0,3.2600713879850747,null,5.955876240341781,3.978317496746751,2.423245873936808,4.440231936226789,0.7781512503836436,5.104586113706224,3.4872798164430687,2.862131379313037,3.8933733302460247,3.3010299956639813,2.866877814337499,5.4086113318458215,2.9542425094393248,3.038620161949703,4.381854827622592,2.7067177823367587,4.74123041102547,4.845748993643852,4.122314197968806,4.928288289596637,4.923715371317453,4.406352797297394,3.360593413565249,5.754647192617004,4.889777764467921,3.9867269593312185,4.4583053921180165,3.037426497940624,5.047796486389539,3.4224256763712044,3.940665872475829,2.225309281725863,3.325310371711061,2.3483048630481607,2.5575072019056577,1.0,1.5185139398778875,2.4099331233312946,3.4305587695227575,2.214843848047698,2.1398790864012365,2.113943352306837,0.0,4.449493826781261,0.9030899869919435,3.0382226383687185,4.261976191397813,4.061075323629792,3.5129510799724906,1.1760912590556813,3.1903316981702914,3.9490971251129157,4.847270275067072,1.505149978319906,2.110589710299249,1.3222192947339193,4.780302907440838,1.1760912590556813,null,5.233554492714523,1.3424226808222062,3.738304793074105,0.6989700043360189,1.6020599913279625,2.45484486000851,1.4913616938342726,1.041392685158225,null,0.6989700043360189,0.0,null,1.6434526764861874,null,0.47712125471966244,null,1.9395192526186185,0.8450980400142568,1.568201724066995,0.3010299956639812,null,1.1760912590556813,1.505149978319906,0.3010299956639812,0.0,1.1139433523068367,2.3384564936046046,0.6020599913279624,3.1228709228644354,null,5.6985207115172924,null,0.0,0.9542425094393249,0.0,null,null,1.3010299956639813,0.7781512503836436,2.3783979009481375,null,4.298350837719157,4.7663161612092075,4.733052743823058,2.346352974450639,2.6963563887333324,3.8717480189918714,0.8450980400142568,5.1015339974923455,0.3010299956639812,3.5651391519697895,4.635393259371746,2.971275848738105,4.532486842525011,4.50666735514341,3.83257277484618,4.850664611147551,3.339848783037637,2.0644579892269186,2.204119982655925,1.146128035678238,2.4471580313422194,3.1058506743851435,3.1646502159342966,2.7965743332104296,4.277058835755107,1.8512583487190752,1.919078092376074,3.524266268766979,1.8388490907372552,2.89707700320942,2.0293837776852097,1.6901960800285136,1.7075701760979363,3.567731962548069,3.863322860120456,1.5185139398778875,2.7267272090265724,3.8356271662098975,1.1760912590556813,2.3873898263387296,2.4578818967339924,1.9344984512435677,2.4149733479708178,1.5563025007672873,3.3823773034681137,1.7075701760979363,1.2787536009528289,1.6901960800285136,3.5033820634737327,1.505149978319906,2.7745169657285498,1.7403626894942439,1.5185139398778875,0.8450980400142568,1.6020599913279625,0.8450980400142568,3.1522883443830567,3.0835026198302673,null,4.695306522431802,4.355068206348851,3.6549462265843444,1.662757831681574,1.5185139398778875,1.2304489213782739,null,3.987487506133093,4.80469813320963,5.304354789537689,1.5440680443502757,4.043401578910881,4.5891226502058515,0.7781512503836436,0.3010299956639812,1.4913616938342726,6.881706748425301,null,5.246712720850216,5.422067584747742,6.434875835361034,4.178113252314632,5.0007766921902945,5.503609575814041,5.2364692402049196,4.405482962986272,5.453047586217811,3.590507462008583,3.9805487393597705,4.6296236351807885,6.107142105833073,2.8512583487190755,4.388385425718033,4.279917777023895,2.08278537031645,4.031125575731565,4.883650080901093,4.56925683332861,3.805908455074197,2.637489729512511,3.723044991643445,4.832668550451795,2.330413773349191,5.436550634316157,0.6020599913279624,2.870403905279027,3.4838724542226736,2.2600713879850747,3.5413295776666938,1.4313637641589874,3.9825425823029432,3.092018470752797,1.6020599913279625,1.3010299956639813,4.043990665878134,2.6473829701146196,3.0253058652647704,1.7242758696007892,1.568201724066995,2.03342375548695,3.584331224367531,2.4149733479708178,0.3010299956639812,1.2787536009528289,3.279894980011638,1.6434526764861874,0.7781512503836436,1.7853298350107671,2.315970345456918,4.182443185957241,3.2427898094786767,3.7184186418296554,2.534026106056135,2.582063362911709,2.8260748027008264,2.204119982655925,4.5698418994037615,0.7781512503836436,2.8813846567705728,1.5797835966168101,2.9885589568786157,2.9003671286564705,3.305136318943639,5.880007113382005,4.2009325358991925,2.603144372620182,0.3010299956639812,4.960931940757592,2.290034611362518,2.3324384599156054,1.968482948553935,1.7558748556724915,2.2810333672477277,1.414973347970818,3.5245259366263757,null,0.6020599913279624,2.1583624920952498,2.1818435879447726,3.229681842317676,0.3010299956639812,3.1835545336188615,3.7539658658651605,1.7242758696007892,2.0170333392987803,3.700270937356437,4.613566998771285,0.9542425094393249,3.364926033789976,2.3344537511509307,1.0,2.837588438235511,2.9916690073799486,2.220108088040055,2.8756399370041685,1.7242758696007892,2.2278867046136734,2.8627275283179747,2.2430380486862944,3.6388884247050757,3.1652443261253107,2.0,2.0211892990699383,1.3010299956639813,3.003029470553618,1.2041199826559248,3.66133934000604,0.3010299956639812,1.0791812460476249,0.0,4.140476616830133,2.0170333392987803,1.8808135922807914,1.6232492903979006,3.376211850282673,1.9637878273455553,1.1760912590556813,2.2528530309798933,0.8450980400142568,1.2304489213782739,1.255272505103306,0.3010299956639812,3.5686709780098966,2.2624510897304293,0.47712125471966244,1.7634279935629373,2.0253058652647704,3.187238619831479,4.317122737714538,5.610334320022022,1.0791812460476249,1.380211241711606,0.9542425094393249,2.0969100130080562,0.3010299956639812,0.3010299956639812,1.2787536009528289,6.743048101147723,null,0.0,0.3010299956639812,null,0.3010299956639812,0.3010299956639812,0.47712125471966244,0.3010299956639812,1.3979400086720377,0.3010299956639812,0.3010299956639812,0.47712125471966244,0.8450980400142568,1.792391689498254,0.6020599913279624,null,1.3424226808222062,1.0,null,null,0.3010299956639812,null,0.47712125471966244,0.3010299956639812,1.7160033436347992,0.0,2.292256071356476,null,2.1492191126553797,null,0.47712125471966244,2.113943352306837,0.9542425094393249,4.585314059854705,1.7403626894942439,null,0.47712125471966244,null,0.3010299956639812,2.187520720836463,0.0,3.93696589710787,4.639934497828818,4.6437190936395405,0.7781512503836436,4.922574959518599,2.214843848047698,4.931508721866617,0.0,5.923868580235045,4.3088630883653005,3.089198366805149,4.420731171441572,4.8541602401607555,5.997823953698581,4.4685688527234655,4.900170422463675,4.860469772491684,3.5886078047426864,3.4742162640762553,4.453761583499094,4.778852792868552,3.5443161417474274,3.9682961150462557,4.088384186097703,4.111228898234156,3.909662985154018,5.345748062398765,2.303196057420489,1.6020599913279625,null,0.3010299956639812,1.5797835966168101,0.9542425094393249,0.9542425094393249,0.6020599913279624,1.1139433523068367,1.0,0.6989700043360189,5.5056030367866144,2.03342375548695,1.4771212547196624,0.9542425094393249,1.4313637641589874,0.6020599913279624,0.6020599913279624,1.146128035678238,0.6020599913279624,null,1.6020599913279625,4.449493826781261,0.6020599913279624,0.3010299956639812,0.47712125471966244,4.864422077167948,2.3654879848909,1.1139433523068367,4.269139196792179,1.3424226808222062,2.392696953259666,5.8370427024221225,3.0265332645232967,3.3068537486930087,0.6989700043360189,0.0,4.423982729677176,4.849744859119628,3.3857849588433355,4.337159644526856,3.351989455435632,null,3.4649364291217326,4.921306626816819,2.788875115775417,2.6273658565927325,2.942008053022313,4.1771323170417745,2.294466226161593,3.684665864025861,2.682145076373832,4.571440953685393,2.0492180226701815,2.187520720836463,4.129335352916489,2.303196057420489,1.505149978319906,3.8284020784915933,1.9867717342662448,1.9294189257142929,3.3783979009481375,1.1760912590556813,2.1522883443830563,2.680335513414563,3.5650209283452936,1.591064607026499,2.8394780473741985,3.2332500095411003,2.060697840353612,2.0492180226701815,2.5390760987927767,3.375114684692225,1.6901960800285136,3.0178677189635055,5.127762224244919,1.568201724066995,2.12057393120585,2.741939077729199,2.1072099696478683,0.6020599913279624,2.582063362911709,3.549371152333177,3.2092468487533736,1.8920946026904804,0.0,1.505149978319906,0.3010299956639812,2.0293837776852097,1.1760912590556813,1.6020599913279625,4.62769350238866,1.9344984512435677,1.0,1.505149978319906,4.4866854545841965,null,null,0.3010299956639812,0.0,2.037426497940624,0.3010299956639812,0.47712125471966244,0.3010299956639812,4.776468723401084,4.4186989362264235,5.025117356942387,3.3161800988934527,4.585156052505075,5.655703994388142,3.339053735709139,5.194020102819218,0.0,4.546184716577045,3.3988077302032647,5.819947115786992,4.353531559077762,2.2600713879850747,1.0791812460476249,0.0,4.211707750406687,0.3010299956639812,2.271841606536499,5.01367548899094,4.528762485510607,3.1809855807867304,0.3010299956639812,0.3010299956639812,5.1124105978457015,3.1522883443830567,null,0.0,null,4.103803720955957,0.9542425094393249,null,null,0.6989700043360189,0.6020599913279624,0.3010299956639812,0.7781512503836436,0.3010299956639812,1.8260748027008264,null,null,0.0,null,0.0,0.3010299956639812,null,0.0,5.479855920275859,null,0.47712125471966244,3.0831441431430524,null,4.402691164263039,0.0,2.075546961392531,null,0.3010299956639812,null,null,0.47712125471966244,0.3010299956639812,null,1.5563025007672873,null,3.1631613749770184,null,4.6784091088214215,2.9400181550076634,1.7781512503836436,2.3909351071033793,3.1705550585212086,1.9395192526186185,2.7649229846498886,1.3979400086720377,1.0,2.164352855784437,1.4313637641589874,2.930949031167523,2.1702617153949575,2.0644579892269186,3.1264561134318045,1.4771212547196624,1.2304489213782739,1.462397997898956,2.8169038393756605,1.845098040014257,1.041392685158225,2.0,0.8450980400142568,0.47712125471966244,0.6989700043360189,1.6020599913279625,2.531478917042255,1.8129133566428555,2.8228216453031045,1.5563025007672873,2.8825245379548803,0.7781512503836436,2.155336037465062,1.9637878273455553,1.0,1.9030899869919435,3.1947917577219247,null,null,1.8808135922807914,1.041392685158225,1.5185139398778875,1.6127838567197355,1.146128035678238,null,2.225309281725863,1.8750612633917,0.6989700043360189,4.152930136422725,1.7242758696007892,0.0,2.100370545117563,2.123851640967086,0.47712125471966244,null,3.083860800866573,1.9867717342662448,null,0.0,0.8450980400142568,2.250420002308894,0.6989700043360189,2.6981005456233897,0.47712125471966244,1.9395192526186185,2.1583624920952498,0.9030899869919435,1.9493900066449128,6.13092304392947,0.6020599913279624,1.7993405494535817,2.305351369446624,1.146128035678238,3.5211380837040362,3.480438147177817,2.123851640967086,2.123851640967086,4.059184617631371,4.822213861011698,4.738899418444579,2.2576785748691846,1.6434526764861874,0.0,0.0,3.3207692283386865,null,null,1.0791812460476249,0.6020599913279624,null,null,1.146128035678238,null,0.0,0.0,0.6020599913279624,0.0,2.143014800254095,0.9030899869919435,2.155336037465062,null,0.3010299956639812,null,4.949102008090659,null,4.225696871650654,null,0.7781512503836436,0.9542425094393249,0.7781512503836436,2.2013971243204513,4.050573076755148,3.343802333161655,3.031408464251624,4.931803541339197,4.558504572181948,4.740473223113228,2.1072099696478683,3.0051805125037805,5.4394084913431495,3.2823955047425257,1.2787536009528289,0.6989700043360189,1.2787536009528289,null,0.0,null,0.6989700043360189,0.0,0.3010299956639812,0.3010299956639812,1.0,0.6020599913279624,null,0.8450980400142568,0.6989700043360189,0.3010299956639812,0.3010299956639812,0.8450980400142568,6.181749575872345,null,null,5.185190724277791,3.862071719379994,4.788111781854241,3.540454613671412,4.834789347763296,3.0588054866759067,5.211024376852319,3.962984584316997,1.4471580313422192,1.4913616938342726,4.567978650701196,1.146128035678238,2.812244696800369,5.04847676323753,1.7781512503836436,0.9030899869919435,4.419162395584886,2.346352974450639,5.434421985464454,5.521246643755071,2.6127838567197355,5.083935981367377,3.514282047860378,2.250420002308894,null,1.2304489213782739,null,0.47712125471966244,2.292256071356476,3.9953719060281623,5.500206276308606,3.9286006598445242,1.505149978319906,1.2041199826559248,0.0,0.0,0.9542425094393249,1.9822712330395684,null,1.5797835966168101,3.4032921451582543,1.380211241711606,1.6812412373755872,4.526326351766489,2.089905111439398,2.5237464668115646,1.7634279935629373,2.625312450961674,4.032860415952143,1.2304489213782739,1.5440680443502757,0.6989700043360189,null,2.9647309210536292,0.0,2.7937903846908188,2.655138434811382,0.9030899869919435,0.0,2.9003671286564705,1.2304489213782739,null,null,null,0.0,0.0,2.606381365110605,2.972665592266111,2.130333768495006,1.2304489213782739,5.921226972568833,2.401400540781544,2.531478917042255,5.389971883249058,3.1476763242410986,2.6580113966571126,2.4727564493172123,0.0,2.5658478186735176,3.0149403497929366,3.1095785469043866,4.335678502356566,4.45499721730946,1.1139433523068367,3.8656368876996288,4.788486548560839,4.510987122067562,null,3.3087777736647213,2.2405492482825995,1.7160033436347992,2.2671717284030137,4.752017700219022,3.735758537443739,0.47712125471966244,0.0,0.3010299956639812,1.9822712330395684,5.575445342165319,1.2787536009528289,0.6020599913279624,1.9030899869919435,1.3010299956639813,2.8948696567452523,3.761551988564182,0.3010299956639812,2.9469432706978256,1.9822712330395684,1.7160033436347992,1.3424226808222062,0.7781512503836436,null,0.0,1.8260748027008264,0.8450980400142568,4.94687456331126,2.0681858617461617,2.4638929889859074,2.780317312140151,2.944975908412048,1.5797835966168101,3.0773679052841567,1.6434526764861874,0.8450980400142568,null,1.5797835966168101,0.6020599913279624,0.47712125471966244,2.0569048513364727,5.6002179389342075],\"xaxis\":\"x\",\"y\":[4.0,5.698970004336019,6.698970004336019,7.698970004336019,5.0,4.698970004336019,4.698970004336019,6.0,6.0,4.0,6.0,6.0,7.0,5.0,5.0,5.698970004336019,4.0,6.698970004336019,7.0,5.0,5.0,5.698970004336019,5.0,4.698970004336019,4.0,5.698970004336019,5.0,4.0,5.0,5.0,4.698970004336019,5.0,5.0,4.0,5.0,5.698970004336019,6.698970004336019,4.0,5.698970004336019,4.0,5.0,7.0,5.0,4.0,7.0,5.0,5.0,5.0,5.0,6.0,5.0,6.0,5.0,5.0,5.0,4.698970004336019,5.0,5.0,5.0,4.0,5.0,6.0,5.0,5.0,4.0,4.698970004336019,6.698970004336019,5.0,6.698970004336019,6.698970004336019,5.698970004336019,7.0,5.0,5.698970004336019,4.698970004336019,5.0,6.0,5.0,6.0,4.698970004336019,6.0,5.698970004336019,5.0,6.0,6.0,5.0,5.0,6.0,5.0,5.0,6.0,6.0,6.0,6.0,5.698970004336019,5.698970004336019,5.0,5.698970004336019,6.0,5.0,5.698970004336019,6.0,5.698970004336019,5.0,6.0,4.698970004336019,6.0,4.0,6.0,5.0,4.0,4.698970004336019,5.0,4.0,4.0,4.0,7.0,5.698970004336019,6.0,4.698970004336019,4.0,6.0,4.698970004336019,5.698970004336019,5.698970004336019,5.0,4.0,3.6989700043360187,4.0,4.0,5.0,3.6989700043360187,5.0,4.0,4.0,6.0,4.698970004336019,4.0,8.0,4.698970004336019,5.0,7.0,8.0,7.0,7.0,7.0,5.0,6.0,7.0,5.698970004336019,6.0,9.0,6.698970004336019,5.0,7.0,5.698970004336019,7.0,6.0,6.0,5.698970004336019,6.0,5.698970004336019,4.0,6.698970004336019,5.0,6.698970004336019,5.698970004336019,6.0,5.698970004336019,5.698970004336019,6.0,6.698970004336019,7.0,5.0,5.0,5.0,4.698970004336019,5.698970004336019,7.0,4.698970004336019,6.0,6.0,6.0,5.698970004336019,5.0,7.0,7.0,7.698970004336019,7.0,6.698970004336019,6.0,7.698970004336019,6.698970004336019,8.0,6.0,6.0,5.698970004336019,7.0,6.698970004336019,6.0,7.698970004336019,7.0,6.0,7.0,6.698970004336019,6.698970004336019,6.698970004336019,6.698970004336019,5.0,6.0,6.0,6.0,7.0,6.698970004336019,6.0,6.698970004336019,5.0,7.0,6.0,6.0,5.0,6.698970004336019,6.0,5.0,7.698970004336019,6.698970004336019,5.0,6.0,6.0,7.0,7.0,6.0,5.0,5.0,4.698970004336019,6.698970004336019,6.698970004336019,5.0,5.0,6.0,5.698970004336019,5.0,5.698970004336019,5.698970004336019,6.0,6.0,6.0,5.0,5.0,6.0,6.0,7.0,5.0,5.0,6.698970004336019,4.698970004336019,6.0,5.698970004336019,7.0,6.698970004336019,8.0,6.698970004336019,4.0,7.0,5.698970004336019,6.0,5.698970004336019,4.698970004336019,4.698970004336019,4.698970004336019,6.0,4.0,4.0,4.0,4.0,4.0,5.0,6.698970004336019,5.0,6.0,5.0,6.0,6.0,6.0,6.0,5.0,6.698970004336019,4.698970004336019,5.0,4.0,4.0,3.6989700043360187,5.698970004336019,6.0,3.6989700043360187,3.0,6.698970004336019,4.0,4.698970004336019,6.0,5.0,9.0,9.0,7.0,9.0,8.0,9.0,9.0,8.698970004336019,6.698970004336019,8.0,8.0,8.0,8.698970004336019,7.698970004336019,6.698970004336019,6.698970004336019,8.0,7.0,7.0,7.0,7.0,8.0,6.0,6.0,7.0,6.698970004336019,7.0,7.0,8.0,6.698970004336019,8.0,8.0,7.0,6.0,8.0,8.0,8.698970004336019,7.0,6.0,5.0,7.0,7.0,7.0,8.698970004336019,6.698970004336019,6.698970004336019,9.0,8.698970004336019,7.0,8.698970004336019,9.0,7.0,6.698970004336019,7.698970004336019,8.0,9.0,8.0,8.0,8.0,6.0,7.0,7.0,7.0,7.0,7.0,8.698970004336019,7.0,6.0,8.0,8.0,6.0,6.0,7.0,9.0,8.0,7.698970004336019,8.0,6.0,8.0,7.698970004336019,8.0,8.698970004336019,6.0,6.0,6.0,7.0,5.698970004336019,5.698970004336019,5.0,7.0,7.0,6.0,6.0,6.698970004336019,7.0,6.0,7.0,6.0,6.0,7.0,7.0,6.698970004336019,7.0,6.698970004336019,6.0,6.0,6.698970004336019,6.0,8.0,6.0,9.0,8.0,6.698970004336019,7.0,6.0,6.0,6.0,7.0,7.698970004336019,4.0,6.698970004336019,6.0,5.698970004336019,9.0,8.698970004336019,6.0,6.698970004336019,4.0,3.0,1.6989700043360187,2.0,2.0,2.0,7.0,7.0,7.0,5.0,5.698970004336019,6.698970004336019,6.0,7.0,6.0,7.0,6.698970004336019,6.698970004336019,5.0,5.698970004336019,6.0,6.0,4.0,6.0,6.0,5.0,7.0,6.0,5.0,5.698970004336019,3.6989700043360187,5.698970004336019,6.698970004336019,6.0,5.0,6.0,6.0,5.0,5.0,5.698970004336019,5.698970004336019,5.698970004336019,5.0,5.698970004336019,5.698970004336019,5.0,4.698970004336019,6.0,6.0,5.0,5.0,5.0,4.0,5.0,6.0,5.0,7.0,5.698970004336019,5.0,6.0,4.698970004336019,6.698970004336019,5.698970004336019,5.0,5.0,5.698970004336019,5.0,4.0,5.0,6.0,4.698970004336019,5.698970004336019,6.0,5.0,4.0,5.698970004336019,6.0,5.0,4.0,4.0,4.0,7.0,6.0,5.698970004336019,5.698970004336019,5.698970004336019,6.0,5.0,5.698970004336019,4.0,5.0,5.0,5.698970004336019,6.0,4.0,6.0,7.0,4.0,5.0,4.0,6.0,6.0,4.698970004336019,4.0,5.698970004336019,6.698970004336019,6.0,3.0,3.6989700043360187,3.0,2.6989700043360187,3.6989700043360187,4.0,2.0,4.0,3.0,2.0,3.0,3.0,3.0,2.0,2.6989700043360187,2.6989700043360187,3.6989700043360187,2.0,2.0,1.6989700043360187,3.6989700043360187,1.6989700043360187,2.6989700043360187,1.0,2.6989700043360187,2.6989700043360187,2.0,3.0,1.0,2.0,1.0,2.6989700043360187,2.6989700043360187,1.0,2.0,2.0,1.0,1.0,2.0,1.6989700043360187,2.0,2.0,1.0,2.6989700043360187,3.0,2.6989700043360187,1.6989700043360187,0.0,1.0,3.0,0.0,1.6989700043360187,2.0,4.0,2.6989700043360187,3.0,1.0,0.6989700043360189,1.0,2.0,6.0,5.0,5.0,3.0,6.698970004336019,5.0,6.0,5.698970004336019,5.698970004336019,2.6989700043360187,4.0,4.698970004336019,4.0,3.6989700043360187,4.0,3.0,4.0,6.0,3.6989700043360187,8.0,7.0,5.0,6.698970004336019,7.0,5.0,6.698970004336019,6.0,5.698970004336019,5.698970004336019,6.0,6.0,6.698970004336019,6.0,5.698970004336019,6.698970004336019,5.698970004336019,6.0,7.0,7.0,6.0,6.698970004336019,4.698970004336019,6.0,6.0,6.0,6.0,6.0,5.698970004336019,6.0,6.698970004336019,6.0,5.698970004336019,5.698970004336019,5.0,7.0,5.0,6.698970004336019,7.0,7.0,6.0,6.698970004336019,6.0,6.698970004336019,6.698970004336019,7.0,6.0,6.0,6.0,6.0,4.0,4.698970004336019,6.0,6.0,6.0,6.0,6.0,6.0,6.0,6.0,6.0,6.0,5.0,6.0,5.0,4.0,4.0,4.698970004336019,5.698970004336019,5.0,5.0,5.0,4.0,5.0,5.0,4.698970004336019,4.698970004336019,5.0,5.0,8.0,6.0,6.698970004336019,7.0,7.0,6.0,7.0,6.0,6.698970004336019,6.698970004336019,6.698970004336019,6.0,5.698970004336019,6.0,6.0,7.0,7.0,6.0,5.698970004336019,6.0,6.0,4.698970004336019,6.0,5.0,5.0,5.0,5.0,7.0,5.0,4.0,7.0,7.0,7.0,5.698970004336019,6.698970004336019,7.0,5.698970004336019,7.0,6.0,6.0,6.0,5.0,7.0,6.698970004336019,6.0,5.0,6.0,3.0,3.0,5.698970004336019,5.0,8.0,6.0,6.0,7.0,7.698970004336019,7.0,6.698970004336019,6.698970004336019,7.0,6.698970004336019,9.0,8.0,6.698970004336019,6.0,6.698970004336019,6.698970004336019,6.0,6.0,7.0,8.0,6.698970004336019,7.0,6.0,7.0,7.698970004336019,6.698970004336019,7.0,6.0,7.0,6.0,7.0,7.698970004336019,6.0,8.0,7.698970004336019,6.0,6.698970004336019,7.698970004336019,8.0,6.0,5.0,6.0,6.0,7.0,5.0,5.0,6.0,8.0,5.698970004336019,5.0,5.0,6.0,6.0,7.0,6.0,7.0,7.0,7.0,4.698970004336019,6.0,7.0,6.0,6.698970004336019,6.0,6.698970004336019,6.0,7.0,7.0,6.0,6.0,6.0,6.0,6.0,8.0,7.0,7.0,7.0,5.698970004336019,6.698970004336019,7.0,5.698970004336019,6.0,6.0,6.0,7.0,6.0,7.0,7.0,6.0,8.0,7.0,6.0,7.0,7.0,6.0,5.0,6.0,4.0,5.0,5.0,6.698970004336019,5.0,5.0,6.0,6.0,6.0,6.0,7.0,5.0,7.0,7.0,5.0,6.698970004336019,5.698970004336019,4.698970004336019,6.698970004336019,6.0,4.0,6.0,5.0,4.0,6.0,5.0,5.0,5.0,4.698970004336019,3.0,6.0,4.0,2.6989700043360187,4.698970004336019,2.0,2.0,5.0,5.0,2.6989700043360187,5.0,2.0,5.0,2.0,3.0,3.6989700043360187,5.0,3.0,5.0,2.0,3.0,4.698970004336019,3.6989700043360187,5.0,2.0,3.0,3.0,2.0,2.6989700043360187,7.0,6.0,6.698970004336019,6.698970004336019,6.698970004336019,7.0,5.698970004336019,6.698970004336019,7.0,6.0,6.0,7.0,6.698970004336019,6.0,6.0,7.0,6.0,6.698970004336019,6.0,6.0,6.698970004336019,6.0,6.698970004336019,6.0,6.0,7.0,7.0,6.0,7.698970004336019,7.0,6.0,6.0,6.0,7.0,6.0,8.0,6.698970004336019,6.0,6.698970004336019,6.0,7.0,4.0,6.0,5.0,5.0,5.0,6.0,6.0,6.0,6.0,6.698970004336019,5.698970004336019,6.0,5.0,5.698970004336019,6.0,6.0,5.0,5.0,6.0,6.0,4.698970004336019,6.0,5.0,7.0,5.0,6.0,6.698970004336019,6.0,5.0,6.0,5.0,6.0,6.0,4.698970004336019,6.0,6.698970004336019,5.698970004336019,6.0,6.0,6.0,6.698970004336019,6.0,5.0,5.698970004336019,6.0,6.0,5.698970004336019,6.0,6.698970004336019,5.698970004336019,6.0,6.0,6.698970004336019,6.698970004336019,4.698970004336019,6.0,5.0,6.0,5.698970004336019,6.0,5.698970004336019,7.698970004336019,6.0,5.0,5.0,6.0,6.0,6.698970004336019,8.0,4.698970004336019,7.0,4.0,6.698970004336019,7.0,7.0,6.0,6.698970004336019,6.0,7.0,7.0,6.0,7.0,4.698970004336019,7.0,6.0,4.0,5.0,6.0,7.0,6.0,5.698970004336019,7.0,5.698970004336019,4.698970004336019,6.0,6.0,6.0,5.698970004336019,6.698970004336019,6.0,6.698970004336019,6.0,7.0,5.0,7.0,6.698970004336019,6.698970004336019,6.0,7.0,6.698970004336019,6.0,6.0,6.0,6.0,5.0,5.0,6.0,4.698970004336019,5.698970004336019,5.698970004336019,5.0,6.0,6.0,5.0,5.0,6.698970004336019,5.698970004336019,5.0,6.0,4.0,4.698970004336019,6.698970004336019,4.0,4.698970004336019,6.0,6.0,7.0,6.0,6.0,6.0,6.698970004336019,7.0,7.0,4.698970004336019,5.0,6.0,6.0,5.0,7.0,5.0,6.0,6.698970004336019,7.0,6.0,6.698970004336019,6.698970004336019,7.0,7.0,7.0,5.698970004336019,6.698970004336019,6.0,7.0,7.0,7.0,7.0,7.0,7.0,6.0,7.0,6.0,5.0,5.698970004336019,5.0,5.698970004336019,6.698970004336019,6.0,7.0,4.698970004336019,7.0,5.698970004336019,5.0,6.0,7.0,5.698970004336019,7.0,6.698970004336019,6.0,7.698970004336019,5.0,6.698970004336019,7.0,6.0,5.0,7.0,6.0,5.698970004336019,5.0,7.0,6.0,6.698970004336019,6.0,5.698970004336019,6.0,6.0,6.0,7.0,7.0,6.698970004336019,6.0,6.698970004336019,7.0,5.698970004336019,7.0,7.0,6.0,6.698970004336019,6.0,7.0,7.0,6.0,7.0,6.698970004336019,6.0,6.698970004336019,7.0,6.0,6.698970004336019,5.0,6.0,5.0,6.0,5.698970004336019,5.698970004336019,5.0,6.0,4.0,5.698970004336019,5.0,5.0,6.0,6.698970004336019,5.0,6.698970004336019,5.698970004336019,7.0,5.0,6.0,6.0,6.0,6.0,6.698970004336019,6.0,6.0,6.0,5.698970004336019,7.0,5.698970004336019,6.0,8.0,7.0,7.698970004336019,6.698970004336019,6.698970004336019,5.698970004336019,6.0,6.0,6.0,7.0,4.698970004336019,4.698970004336019,6.698970004336019,6.698970004336019,6.0,6.0,6.698970004336019,6.698970004336019,7.0,7.698970004336019,7.0,7.0,7.0,7.0,6.0,5.698970004336019,6.0,6.0,5.0,7.0,6.0,5.0,4.698970004336019,5.698970004336019,6.0,5.0,6.698970004336019,7.0,5.0,5.698970004336019,5.0,6.0,5.698970004336019,5.0,5.698970004336019,6.0,5.698970004336019,5.698970004336019,6.0,5.698970004336019,6.698970004336019,6.698970004336019,6.0,6.0,7.0,5.0,6.0,7.0,6.698970004336019,6.0,6.0,6.0,7.0,4.0,7.0,5.698970004336019,5.0,6.0,6.0,6.0,6.0,6.0,5.0,6.698970004336019,6.0,6.0,6.0,3.6989700043360187,6.698970004336019,4.0,5.0,5.698970004336019,6.0,5.0,6.0,5.0,5.0,6.0,5.698970004336019,5.698970004336019,6.698970004336019,5.698970004336019,3.6989700043360187,5.0,4.0,4.698970004336019,5.0,4.0,5.0,6.0,5.0,5.698970004336019,6.0,4.698970004336019,7.0,6.0,5.698970004336019,6.0,6.0,5.698970004336019,5.698970004336019,6.0,6.698970004336019,7.0,4.698970004336019,4.698970004336019,4.0,5.0,3.0,5.0,4.0,5.0,6.698970004336019,4.698970004336019,7.0,3.0,5.0,4.698970004336019,5.0,4.698970004336019,5.0,4.0,4.698970004336019,4.698970004336019,5.0,5.0,7.0,4.0,5.0,4.0,4.0,3.6989700043360187,5.698970004336019,6.698970004336019,5.0,6.0,4.0,6.0,3.0,5.698970004336019,6.0,5.0,6.0,4.0,5.698970004336019,5.698970004336019,5.0,4.698970004336019,5.698970004336019,5.698970004336019,6.0,5.0,6.698970004336019,7.0,5.0,7.0,6.698970004336019,6.0,6.698970004336019,6.0,7.0,6.0,6.0,6.698970004336019,7.0,5.698970004336019,6.698970004336019,7.0,6.0,6.0,7.0,6.698970004336019,6.0,7.0,7.698970004336019,6.0,5.698970004336019,5.698970004336019,6.0,6.698970004336019,6.0,6.0,5.0,6.0,6.0,7.0,6.0,6.0,7.0,5.698970004336019,7.0,6.0,6.0,5.0,5.0,7.0,5.698970004336019,6.0,6.0,6.0,5.0,6.0,6.0,7.0,5.0,5.698970004336019,4.0,5.0,6.698970004336019,6.0,5.698970004336019,5.698970004336019,4.0,6.0,7.0,7.0,5.0,4.698970004336019,3.6989700043360187,5.0,6.0,5.0,4.698970004336019,6.0,5.0,6.0,6.698970004336019,5.698970004336019,5.698970004336019,6.0,5.698970004336019,6.0,5.0,6.0,5.0,8.0,9.0,8.698970004336019,7.0,7.0,7.698970004336019,8.0,8.0,8.698970004336019,8.698970004336019,8.0,6.698970004336019,8.0,8.0,8.0,8.0,6.0,8.0,7.698970004336019,6.698970004336019,8.0,6.0,8.0,7.698970004336019,7.698970004336019,7.0,7.698970004336019,8.0,8.0,7.0,7.0,7.0,8.0,6.698970004336019,7.0,7.698970004336019,8.0,7.698970004336019,7.0,7.0,7.0,8.0,8.0,7.0,8.0,8.0,8.0,9.0,8.0,8.698970004336019,8.0,8.698970004336019,8.0,8.0,7.0,8.0,8.0,7.0,7.698970004336019,7.0,7.0,7.0,8.0,8.0,6.698970004336019,7.698970004336019,8.0,8.698970004336019,8.0,7.698970004336019,8.0,7.0,6.0,8.698970004336019,8.0,6.698970004336019,7.0,8.0,6.0,8.0,8.0,8.0,7.0,8.0,8.0,7.0,8.0,8.0,8.0,7.0,7.698970004336019,6.0,8.0,8.0,9.0,7.0,7.698970004336019,7.698970004336019,8.0,8.0,8.0,7.698970004336019,7.698970004336019,8.0,8.0,7.0,7.0,7.698970004336019,7.0,6.0,7.0,6.698970004336019,6.698970004336019,8.0,6.0,6.0,7.0,7.0,5.698970004336019,6.0,8.0,6.698970004336019,6.698970004336019,7.0,7.698970004336019,7.698970004336019,7.0,7.0,7.0,7.698970004336019,7.0,8.0,6.698970004336019,7.698970004336019,7.0,6.0,6.0,7.0,7.0,6.698970004336019,7.0,7.0,6.0,6.698970004336019,6.698970004336019,6.698970004336019,7.0,6.698970004336019,6.698970004336019,6.0,6.698970004336019,7.0,6.0,6.0,6.698970004336019,6.0,7.0,7.0,7.0,6.0,6.0,6.698970004336019,7.0,6.698970004336019,7.0,5.0,6.0,6.0,5.0,5.0,5.0,5.0,5.0,5.0,5.0,5.0,5.0,5.0,6.698970004336019,8.0,8.698970004336019,8.0,8.0,7.0,7.0,7.698970004336019,7.0,6.698970004336019,7.0,7.698970004336019,6.698970004336019,7.0,7.0,6.698970004336019,7.0,7.0,5.698970004336019,6.0,6.698970004336019,7.698970004336019,6.698970004336019,7.0,5.698970004336019,7.698970004336019,6.698970004336019,6.0,8.698970004336019,8.0,8.0,9.0,8.0,6.0,7.0,7.0,7.698970004336019,8.0,8.0,8.0,8.0,7.0,6.698970004336019,6.0,8.698970004336019,8.698970004336019,8.0,7.0,7.0,8.0,8.0,8.0,8.0,7.698970004336019,7.0,7.0,8.0,7.0,7.698970004336019,6.0,7.698970004336019,8.0,7.0,7.0,8.0,8.0,7.698970004336019,8.698970004336019,8.0,8.0,7.0,6.698970004336019,7.0,8.0,8.0,7.698970004336019,8.0,8.0,8.698970004336019,8.0,7.0,7.698970004336019,7.698970004336019,7.0,7.698970004336019,7.698970004336019,7.0,8.0,7.0,7.0,7.698970004336019,7.0,7.698970004336019,7.698970004336019,7.0,7.0,7.0,7.0,5.0,7.0,7.0,8.0,6.0,6.0,6.0,6.698970004336019,7.0,7.0,7.0,7.0,8.0,6.698970004336019,6.698970004336019,7.0,5.0,7.698970004336019,6.698970004336019,7.698970004336019,7.0,8.0,8.0,7.0,7.0,7.0,6.698970004336019,7.0,8.0,8.0,7.698970004336019,6.698970004336019,7.0,7.0,7.0,8.0,7.698970004336019,8.0,8.0,7.0,8.0,7.0,8.0,6.698970004336019,7.0,6.0,7.698970004336019,7.0,7.0,7.698970004336019,6.698970004336019,7.0,7.0,6.698970004336019,7.0,8.0,8.0,7.698970004336019,7.698970004336019,8.0,7.698970004336019,7.0,7.698970004336019,7.0,8.0,6.0,6.698970004336019,6.698970004336019,6.0,6.0,6.698970004336019,6.0,5.0,6.698970004336019,7.698970004336019,6.0,5.698970004336019,7.0,5.698970004336019,6.698970004336019,6.0,5.698970004336019,7.0,5.698970004336019,6.0,7.698970004336019,7.0,6.0,7.0,6.698970004336019,6.0,6.698970004336019,5.698970004336019,7.0,6.0,6.0,7.0,7.0,8.0,7.0,7.0,6.0,7.0,6.0,8.0,7.0,5.0,6.698970004336019,5.0,4.0,3.6989700043360187,6.698970004336019,5.0,6.0,6.698970004336019,6.0,6.0,6.0,6.0,6.698970004336019,5.698970004336019,5.698970004336019,6.0,6.0,4.698970004336019,6.0,6.0,7.0,5.0,5.0,5.698970004336019,5.698970004336019,3.6989700043360187,3.0,2.6989700043360187,8.0,7.0,6.0,7.0,5.0,7.0,6.0,6.698970004336019,5.698970004336019,7.0,6.0,6.0,5.0,4.698970004336019,7.698970004336019,5.698970004336019,7.0,5.698970004336019,6.0,7.0,6.0,5.0,6.698970004336019,6.0,6.0,7.0,6.0,7.0,7.0,7.698970004336019,7.0,6.698970004336019,5.0,7.0,6.698970004336019,7.0,6.0,7.698970004336019,6.0,7.0,6.0,7.0,7.0,6.698970004336019,6.0,7.698970004336019,6.0,7.0,5.698970004336019,5.698970004336019,5.698970004336019,5.0,5.0,6.0,4.0,7.0,5.698970004336019,5.0,5.698970004336019,4.0,4.0,3.0,7.0,6.698970004336019,6.0,6.0,6.0,5.0,5.0,4.698970004336019,5.698970004336019,5.0,6.698970004336019,3.0,5.0,3.0,4.698970004336019,3.0,2.0,2.0,3.0,3.6989700043360187,3.6989700043360187,3.0,4.0,4.0,3.6989700043360187,7.0,6.0,6.0,6.0,5.0,5.0,6.698970004336019,5.0,3.0,4.0,4.0,4.698970004336019,8.0,7.0,7.698970004336019,7.0,6.698970004336019,6.698970004336019,7.0,6.698970004336019,6.698970004336019,8.0,6.698970004336019,7.0,6.0,7.0,6.698970004336019,7.698970004336019,7.0,6.0,6.698970004336019,6.0,6.0,6.0,6.0,6.698970004336019,6.698970004336019,7.0,7.0,7.0,6.0,5.0,4.0,4.0,4.0,4.0,4.0,3.6989700043360187,3.6989700043360187,5.0,4.698970004336019,3.0,4.0,4.698970004336019,3.0,3.0,4.0,3.0,3.0,3.0,2.0,3.6989700043360187,3.6989700043360187,2.6989700043360187,3.0,4.0,3.0,2.0,3.0,2.6989700043360187,3.6989700043360187,3.0,2.6989700043360187,3.0,3.6989700043360187,4.0,3.0,4.0,2.0,3.0,3.6989700043360187,4.0,3.0,3.0,2.0,4.698970004336019,3.0,3.0,3.6989700043360187,3.6989700043360187,3.0,4.0,1.6989700043360187,3.0,4.0,3.0,3.0,2.6989700043360187,2.6989700043360187,3.0,3.6989700043360187,6.0,6.0,6.0,6.0,6.0,5.698970004336019,4.698970004336019,6.698970004336019,6.0,6.0,5.0,5.698970004336019,4.0,6.0,5.698970004336019,5.698970004336019,6.698970004336019,4.698970004336019,5.698970004336019,6.0,5.698970004336019,5.0,5.0,5.0,5.0,5.698970004336019,5.0,6.0,6.0,4.698970004336019,6.0,5.0,5.0,5.0,5.0,6.0,4.698970004336019,5.0,5.0,3.0,5.698970004336019,6.0,4.0,6.0,3.0,5.0,5.698970004336019,5.0,4.698970004336019,5.698970004336019,4.0,6.0,5.0,3.6989700043360187,5.0,5.0,5.0,3.6989700043360187,5.0,5.0,5.0,4.698970004336019,3.6989700043360187,4.0,4.0,4.698970004336019,4.0,5.0,5.0,4.698970004336019,4.0,4.698970004336019,4.0,4.0,4.698970004336019,5.0,3.6989700043360187,3.0,3.0,5.0,5.0,5.0,3.6989700043360187,4.0,3.0,3.6989700043360187,4.0,3.6989700043360187,3.0,4.0,4.0,3.6989700043360187,2.0,4.698970004336019,3.0,5.0,0.0,1.6989700043360187,1.0,0.0,2.6989700043360187,2.0,2.6989700043360187,3.0,1.6989700043360187,2.0,2.0,1.0,1.0,2.0,2.0,1.0,2.0,1.6989700043360187,1.0,2.0,3.0,1.0,2.0,1.0,2.6989700043360187,1.6989700043360187,2.0,1.0,0.6989700043360189,1.0,1.6989700043360187,1.0,0.0,1.6989700043360187,2.0,1.0,1.0,0.6989700043360189,1.0,1.0,0.0,2.0,3.6989700043360187,0.6989700043360189,1.0,1.0,1.0,0.6989700043360189,1.6989700043360187,0.0,1.0,1.6989700043360187,0.6989700043360189,2.0,2.0,1.0,0.6989700043360189,2.0,1.0,2.0,1.0,0.6989700043360189,0.6989700043360189,1.0,5.0,6.0,4.0,3.0,4.0,4.698970004336019,3.0,5.0,4.0,2.6989700043360187,4.0,4.698970004336019,3.0,5.0,3.6989700043360187,6.0,4.0,3.0,3.6989700043360187,4.0,4.0,4.0,2.0,3.6989700043360187,4.0,4.0,4.698970004336019,3.0,3.0,3.0,4.698970004336019,4.698970004336019,2.0,3.0,4.698970004336019,4.0,3.0,4.0,2.6989700043360187,5.0,3.6989700043360187,9.0,9.0,8.698970004336019,7.0,8.0,6.0,8.698970004336019,5.0,8.0,7.0,9.0,6.0,6.0,6.0,6.698970004336019,5.0,6.0,6.698970004336019,6.698970004336019,6.0,6.698970004336019,7.0,6.698970004336019,6.0,5.698970004336019,6.698970004336019,4.698970004336019,7.0,6.0,6.698970004336019,6.0,6.0,7.0,7.0,7.0,7.0,7.0,6.0,8.0,6.0,7.0,6.698970004336019,6.698970004336019,8.0,7.0,7.0,7.0,8.0,7.698970004336019,7.0,7.698970004336019,7.0,6.698970004336019,7.0,8.0,6.698970004336019,5.698970004336019,5.0,8.698970004336019,9.0,6.0,5.698970004336019,7.0,7.0,5.698970004336019,8.698970004336019,6.698970004336019,7.698970004336019,6.0,7.0,7.698970004336019,7.698970004336019,6.698970004336019,6.0,8.0,7.0,7.0,7.0,6.0,6.698970004336019,7.698970004336019,7.0,7.0,5.0,7.698970004336019,7.0,7.0,7.0,5.0,6.698970004336019,7.698970004336019,7.0,7.698970004336019,7.0,7.0,7.0,8.0,7.0,7.0,7.0,6.698970004336019,8.0,7.0,8.0,7.698970004336019,8.0,7.698970004336019,7.698970004336019,6.0,7.0,6.698970004336019,6.698970004336019,6.0,6.0,7.0,7.698970004336019,7.0,7.0,6.0,6.698970004336019,7.0,6.0,7.0,6.0,7.0,7.698970004336019,7.0,7.0,7.0,7.0,7.0,7.0,7.0,7.0,7.698970004336019,7.0,7.0,7.0,7.0,8.0,6.698970004336019,6.0,6.698970004336019,6.0,6.0,6.0,6.0,7.0,5.698970004336019,5.698970004336019,6.0,7.0,7.0,8.0,6.0,7.0,7.0,7.698970004336019,6.698970004336019,7.0,6.0,7.0,7.0,4.698970004336019,6.0,6.698970004336019,6.0,6.0,6.0,7.0,5.0,5.698970004336019,5.698970004336019,5.698970004336019,6.698970004336019,5.0,6.0,6.698970004336019,6.698970004336019,6.0,8.0,6.0,6.0,6.698970004336019,5.698970004336019,7.0,8.0,7.0,6.0,6.0,7.0,7.0,6.0,5.698970004336019,6.0,7.0,5.0,8.0,6.0,5.0,7.0,6.698970004336019,8.0,6.0,5.698970004336019,7.0,6.0,6.698970004336019,6.0,5.698970004336019,4.698970004336019,6.0,6.0,9.0,7.698970004336019,6.698970004336019,7.0,7.0,7.0,7.698970004336019,6.0,8.0,6.0,5.0,6.698970004336019,6.0,6.698970004336019,6.0,6.0,6.698970004336019,7.698970004336019,5.698970004336019,7.0,7.0,7.698970004336019,5.698970004336019,6.0,6.0,8.0,6.0,8.0,7.698970004336019,7.0,6.0,6.0,6.698970004336019,7.0,6.0,6.0,6.698970004336019,7.0,7.0,8.0,7.0,8.0,7.0,6.0,6.698970004336019,9.0,6.698970004336019,7.0,7.0,7.698970004336019,8.0,7.0,7.698970004336019,8.0,7.0,6.698970004336019,8.0,7.0,6.0,8.0,7.698970004336019,6.0,8.0,6.0,6.0,6.0,6.0,6.698970004336019,8.0,7.0,6.0,7.0,6.698970004336019,6.0,9.0,6.698970004336019,7.0,7.0,7.0,6.698970004336019,6.0,7.0,7.0,8.0,7.0,6.0,7.698970004336019,6.698970004336019,7.0,5.0,7.0,8.0,8.0,7.698970004336019,8.0,5.0,7.698970004336019,7.698970004336019,7.698970004336019,7.0,6.698970004336019,7.0,7.0,8.0,8.0,6.0,6.698970004336019,7.0,6.0,7.0,7.698970004336019,7.698970004336019,7.698970004336019,7.698970004336019,7.0,7.0,8.0,7.698970004336019,8.0,8.0,8.0,7.0,7.698970004336019,8.0,8.0,8.0,8.0,6.698970004336019,7.0,7.698970004336019,8.0,7.0,6.0,7.0,6.698970004336019,6.698970004336019,7.0,7.0,7.0,5.0,7.0,6.698970004336019,7.698970004336019,7.0,7.0,5.698970004336019,7.0,6.0,6.698970004336019,6.698970004336019,6.698970004336019,7.0,6.0,7.0,6.698970004336019,6.698970004336019,6.698970004336019,6.698970004336019,6.698970004336019,6.0,6.0,7.0,6.698970004336019,7.0,7.0,6.698970004336019,5.0,6.0,6.0,6.0,6.698970004336019,5.0,5.698970004336019,5.698970004336019,5.698970004336019,6.0,7.0,5.0,6.698970004336019,5.0,5.0,5.698970004336019,7.0,5.0,6.0,5.698970004336019,5.0,6.698970004336019,7.0,6.0,6.698970004336019,5.0,6.0,6.0,5.0,6.0,5.0,6.0,6.0,5.0,4.698970004336019,5.698970004336019,5.0,6.0,5.0,6.0,4.698970004336019,6.0,6.0,6.698970004336019,6.0,6.0,6.698970004336019,6.0,7.0,6.0,6.698970004336019,4.0,4.698970004336019,5.0,6.0,7.0,6.698970004336019,5.0,6.0,4.0,6.698970004336019,5.698970004336019,6.698970004336019,7.0,5.0,6.698970004336019,7.698970004336019,5.698970004336019,5.698970004336019,5.698970004336019,4.0,7.0,7.0,7.698970004336019,5.0,7.0,6.0,6.698970004336019,6.0,6.0,6.698970004336019,7.0,7.0,7.698970004336019,6.698970004336019,6.0,5.698970004336019,6.0,7.0,7.0,5.698970004336019,7.0,8.0,6.0,6.698970004336019,8.0,7.0,9.0,6.698970004336019,6.698970004336019,8.0,7.0,6.698970004336019,7.0,7.698970004336019,7.0,9.0,7.0,7.0,7.0,6.0,6.0,6.0,6.698970004336019,5.698970004336019,8.0,5.0,6.698970004336019,6.698970004336019,6.0,6.0,7.0,7.0,7.0,7.0,6.698970004336019,6.698970004336019,7.0,7.0,6.0,7.698970004336019,6.698970004336019,6.0,6.698970004336019,6.0,8.0,6.0,6.698970004336019,6.0,6.698970004336019,7.0,7.0,7.0,6.0,5.0,3.0,5.0,6.698970004336019,7.0,6.0,6.0,6.0,5.0,6.0,6.698970004336019,6.0,6.0,6.698970004336019,6.0,6.0,6.698970004336019,6.0,6.0,6.0,7.0,6.698970004336019,6.0,6.0,6.0,6.0,5.0,6.698970004336019,6.0,6.0,7.0,6.698970004336019,7.0,6.698970004336019,7.0,6.0,5.0,6.0,9.0,7.0,6.0,6.698970004336019,6.0,6.0,5.698970004336019,5.698970004336019,6.0,9.0,7.0,9.0,8.698970004336019,7.0,7.698970004336019,7.698970004336019,8.0,6.0,7.0,8.0,8.0,8.0,7.0,7.698970004336019,7.698970004336019,7.0,7.0,6.698970004336019,7.0,6.0,7.0,5.0,8.698970004336019,7.0,7.0,6.0,6.698970004336019,7.0,8.0,7.0,7.0,7.0,8.698970004336019,8.0,7.0,7.0,7.0,7.0,7.0,8.0,7.0,6.0,5.698970004336019,7.0,7.0,4.698970004336019,5.0,5.0,7.0,7.0,6.0,6.698970004336019,6.0,7.0,7.698970004336019,7.0,8.0,7.0,7.698970004336019,7.0,6.698970004336019,7.698970004336019,7.0,6.698970004336019,6.698970004336019,7.698970004336019,6.698970004336019,7.0,6.698970004336019,6.698970004336019,6.0,6.0,6.0,6.0,7.0,7.0,6.0,6.698970004336019,6.0,5.0,6.0,5.0,7.698970004336019,6.698970004336019,6.0,6.0,7.698970004336019,7.0,6.0,6.0,6.698970004336019,6.698970004336019,7.0,8.698970004336019,7.0,7.698970004336019,8.0,7.0,7.0,6.0,8.0,7.0,6.0,6.0,7.0,6.698970004336019,6.0,6.0,7.0,7.0,8.0,7.0,6.0,6.0,7.0,8.0,7.0,7.0,6.0,7.698970004336019,6.0,8.0,6.698970004336019,5.0,6.698970004336019,6.698970004336019,6.0,8.0,5.698970004336019,6.0,6.0,6.0,7.698970004336019,6.0,7.0,7.0,7.0,7.0,7.0,7.0,7.0,8.0,7.0,7.0,5.698970004336019,7.0,7.0,6.0,6.0,7.698970004336019,6.0,7.0,8.0,5.698970004336019,6.0,6.0,7.0,6.698970004336019,6.698970004336019,5.698970004336019,5.698970004336019,6.698970004336019,5.0,5.698970004336019,5.0,7.0,7.698970004336019,6.698970004336019,6.0,6.0,6.0,6.0,6.0,6.698970004336019,4.0,7.0,6.698970004336019,7.0,6.698970004336019,7.0,6.698970004336019,6.0,7.0,7.0,7.0,7.0,7.0,7.0,7.0,6.698970004336019,8.0,6.0,6.698970004336019,7.698970004336019,6.0,6.0,6.0,6.0,6.698970004336019,6.0,7.0,7.0,7.0,6.0,7.0,4.0,5.0,7.0,7.0,7.0,8.0,6.0,7.0,6.0,8.698970004336019,7.0,8.0,7.0,9.0,7.0,7.0,8.0,7.0,8.0,6.698970004336019,6.0,7.0,8.0,7.698970004336019,8.0,7.0,8.0,6.698970004336019,8.0,7.0,7.0,6.0,8.698970004336019,7.0,7.0,8.698970004336019,8.0,7.0,6.698970004336019,6.698970004336019,6.698970004336019,8.0,7.0,7.698970004336019,7.0,8.0,6.698970004336019,7.698970004336019,8.0,7.698970004336019,7.698970004336019,7.698970004336019,8.0,6.0,7.698970004336019,6.0,5.698970004336019,6.0,6.0,7.0,6.0,7.0,6.0,7.0,6.0,6.0,7.0,6.698970004336019,7.0,6.0,7.0,8.0,6.0,7.698970004336019,5.0,6.698970004336019,7.0,6.0,6.0,8.698970004336019,9.0,8.0,8.0,8.0,8.0,7.0,8.0,8.0,8.0,8.698970004336019,8.0,8.0,6.698970004336019,6.0,6.698970004336019,6.0,7.0,6.0,6.698970004336019,7.0,6.0,7.0,8.0,7.0,8.0,5.698970004336019,6.0,6.0,6.0,6.0,6.698970004336019,6.698970004336019,6.0,7.0,6.698970004336019,8.698970004336019,7.0,5.0,6.698970004336019,8.0,5.0,8.698970004336019,6.0,6.0,6.0,6.698970004336019,8.698970004336019,4.0,6.698970004336019,4.0,6.0,4.0,4.0,5.0,4.0,3.6989700043360187,6.0,4.698970004336019,4.698970004336019,5.0,6.0,5.0,4.0,6.0,6.0,4.0,4.698970004336019,4.0,4.698970004336019,6.0,5.698970004336019,5.0,5.0,5.0,5.0,4.0,5.0,6.0,3.6989700043360187,5.698970004336019,5.0,4.0,5.698970004336019,4.0,5.0,6.0,5.0,5.0,4.0,5.0,6.0,6.0,5.0,5.0,6.0,5.0,4.0,6.0,7.698970004336019,6.0,7.698970004336019,4.0,7.0,6.0,7.0,6.0,6.0,6.0,7.0,6.698970004336019,5.698970004336019,7.0,6.0,6.698970004336019,6.698970004336019,6.0,7.0,6.698970004336019,6.0,6.698970004336019,6.0,7.698970004336019,6.0,5.0,7.0,6.0,7.0,5.698970004336019,6.0,7.0,5.0,6.0,5.698970004336019,5.698970004336019,6.698970004336019,5.0,6.0,9.0,6.0,7.0,6.0,6.0,8.0,7.0,8.0,5.0,5.698970004336019,8.0,7.0,7.698970004336019,6.0,6.0,7.0,6.0,6.698970004336019,6.0,7.0,7.0,7.698970004336019,9.0,7.0,6.0,7.698970004336019,7.698970004336019,6.0,7.698970004336019,6.698970004336019,6.0,6.698970004336019,6.0,6.0,6.0,7.0,7.0,7.0,8.698970004336019,6.0,2.6989700043360187,6.0,6.0,6.0,4.0,5.0,8.698970004336019,6.698970004336019,7.0,6.0,7.0,7.0,6.0,6.0,7.0,6.0,6.0,6.698970004336019,6.0,7.0,6.698970004336019,7.0,6.0,7.0,7.698970004336019,6.0,5.698970004336019,6.0,7.0,7.0,5.0,9.0,7.0,7.0,8.698970004336019,7.0,5.698970004336019,5.698970004336019,6.0,6.0,6.0,6.0,6.698970004336019,6.698970004336019,4.698970004336019,6.0,6.0,6.0,6.0,6.698970004336019,8.698970004336019,6.0,6.0,6.698970004336019,6.0,6.0,5.698970004336019,6.0,4.0,6.0,6.698970004336019,6.0,5.0,6.0,5.0,6.698970004336019,6.0,6.0,6.0,6.698970004336019,7.0,5.0,6.0,6.0,6.0,6.0,7.0,5.0,6.0,6.698970004336019,5.698970004336019,6.0,6.0,7.0,7.0,7.0,7.0,6.0,6.0,6.0,6.0,7.0,6.698970004336019,9.0,6.0,8.698970004336019,8.0,6.698970004336019,7.0,7.0,6.698970004336019,6.698970004336019,6.0,8.0,7.698970004336019,5.698970004336019,7.0,6.0,6.0,6.0,7.0,6.0,5.0,6.698970004336019,6.698970004336019,6.698970004336019,6.698970004336019,6.0,6.0,6.0,6.0,5.0,5.0,6.0,6.0,6.698970004336019,6.0,6.0,6.698970004336019,6.0,6.0,6.698970004336019,6.0,6.698970004336019,6.0,6.0,7.0,5.0,6.698970004336019,6.0,6.0,7.0,4.698970004336019,6.0,6.0,6.698970004336019,8.698970004336019,7.0,7.698970004336019,6.0,6.0,5.698970004336019,7.0,7.698970004336019,6.698970004336019,8.698970004336019,8.0,6.0,4.0,8.0,7.0,7.698970004336019,5.698970004336019,4.0,8.698970004336019,8.0,4.0,5.698970004336019,7.698970004336019,5.698970004336019,6.698970004336019,8.0,9.0,8.0,6.0,5.698970004336019,7.0,7.698970004336019,7.698970004336019,4.698970004336019,9.0,7.0,8.0,8.698970004336019,8.0,9.0,8.0,7.698970004336019,8.0,8.0,7.0,7.0,8.0,5.698970004336019,5.698970004336019,7.0,7.698970004336019,7.698970004336019,8.0,7.0,7.0,6.0,6.698970004336019,6.698970004336019,9.0,6.698970004336019,8.0,5.698970004336019,7.0,5.698970004336019,8.698970004336019,6.698970004336019,7.0,5.698970004336019,6.0,6.0,8.0,8.0,6.698970004336019,9.0,6.0,8.0,8.0,6.0,6.0,7.0,4.698970004336019,8.0,7.698970004336019,8.0,4.0,4.0,7.0,2.0,7.0,2.0,7.698970004336019,4.0,5.698970004336019,6.0,3.6989700043360187,3.0,7.698970004336019,2.0,4.698970004336019,4.698970004336019,4.698970004336019,8.0,7.698970004336019,8.0,7.0,3.0,3.0,3.6989700043360187,7.698970004336019,5.0,4.698970004336019,3.0,2.6989700043360187,2.6989700043360187,8.0,8.0,6.0,6.0,4.698970004336019,5.0,7.0,4.698970004336019,8.698970004336019,6.0,9.0,4.0,4.698970004336019,6.0,7.0,4.698970004336019,3.0,4.0,5.0,8.698970004336019,4.0,6.0,4.0,5.0,3.0,3.6989700043360187,4.698970004336019,3.6989700043360187,4.0,5.0,3.6989700043360187,8.0,4.0,5.0,5.0,4.698970004336019,3.0,5.0,3.6989700043360187,3.6989700043360187,4.698970004336019,3.6989700043360187,4.0,4.0,3.6989700043360187,8.0,8.0,7.0,7.0,7.0,8.0,8.0,7.698970004336019,8.0,8.698970004336019,7.698970004336019,8.0,8.0,5.0,7.698970004336019,5.0,8.698970004336019,7.698970004336019,7.0,8.0,8.0,6.0,8.0,8.0,8.0,5.0,5.698970004336019,8.0,7.698970004336019,8.0,6.0,7.0,7.0,6.698970004336019,5.0,6.0,8.0,7.0,7.0,6.698970004336019,8.0,7.0,8.0,6.0,7.0,5.698970004336019,5.698970004336019,7.0,8.0,5.0,5.698970004336019,8.0,8.0,5.0,6.698970004336019,8.0,8.0,7.0,7.0,5.698970004336019,6.0,5.0,6.698970004336019,5.698970004336019,9.0,8.0,7.0,8.0,8.0,6.0,8.698970004336019,8.0,7.698970004336019,4.0,5.698970004336019,6.0,8.0,5.0,3.6989700043360187,4.698970004336019,8.698970004336019,5.0,4.698970004336019,4.698970004336019,5.698970004336019,3.0,4.698970004336019,8.698970004336019,5.698970004336019,3.6989700043360187,7.698970004336019,1.0,5.0,3.6989700043360187,2.6989700043360187,5.698970004336019,5.0,5.698970004336019,0.6989700043360189,4.0,4.698970004336019,1.0,5.698970004336019,1.0,2.6989700043360187,7.0,3.6989700043360187,4.0,9.0,7.698970004336019,7.698970004336019,8.698970004336019,7.698970004336019,6.698970004336019,9.0,8.0,5.0,9.0,6.0,5.0,3.6989700043360187,4.0,3.0,7.698970004336019,6.698970004336019,3.0,5.0,5.698970004336019,5.0,2.0,2.0,4.0,4.698970004336019,3.6989700043360187,9.0,4.698970004336019,3.6989700043360187,2.6989700043360187,4.698970004336019,3.6989700043360187,4.698970004336019,1.0,2.6989700043360187,3.0,4.0,2.0,8.0,6.698970004336019,5.0,7.0,7.0,5.0,8.0,3.6989700043360187,3.6989700043360187,6.0,2.6989700043360187,3.0,5.698970004336019,4.0,3.6989700043360187,2.0,6.0,3.6989700043360187,6.698970004336019,3.0,4.0,4.0,4.0,7.0,4.698970004336019,6.0,2.0,3.0,4.0,8.0,4.698970004336019,4.698970004336019,4.0,6.0,4.698970004336019,8.0,0.0,7.0,5.698970004336019,6.698970004336019,5.698970004336019,7.698970004336019,6.0,6.0,8.0,6.0,8.0,5.698970004336019,7.0,7.698970004336019,7.0,8.0,6.0,6.698970004336019,6.698970004336019,7.0,6.698970004336019,7.0,6.698970004336019,7.0,7.0,6.0,6.0,8.0,7.0,8.0,5.0,4.0,7.698970004336019,4.0,7.0,7.698970004336019,3.0,8.0,4.0,5.0,6.0,7.698970004336019,7.0,3.0,4.698970004336019,1.0,3.0,7.0,3.0,2.6989700043360187,3.0,4.0,3.0,2.0,3.0,4.0,4.0,4.0,2.6989700043360187,8.0,4.698970004336019,5.698970004336019,4.0,5.0,7.698970004336019,7.0,5.0,7.0,3.0,5.0,5.0,5.0,5.0,2.6989700043360187,3.6989700043360187,6.0,5.698970004336019,5.0,3.0,3.0,7.0,3.0,8.0,3.0,3.0,5.0,4.0,3.6989700043360187,2.0,3.6989700043360187,3.0,4.0,3.6989700043360187,6.0,5.0,4.0,2.0,4.0,4.0,4.0,7.0,8.0,7.698970004336019,7.698970004336019,6.698970004336019,7.698970004336019,7.698970004336019,7.0,5.698970004336019,8.0,6.0,4.698970004336019,4.698970004336019,5.0,7.0,6.0,5.698970004336019,6.0,8.0,7.0,5.0,5.0,4.698970004336019,7.0,7.0,5.0,7.698970004336019,7.0,7.0,6.0,4.0,6.0,6.0,7.698970004336019,5.0,7.698970004336019,4.0,5.0,3.0,4.0,5.0,3.6989700043360187,4.0,4.698970004336019,3.6989700043360187,8.698970004336019,5.0,4.0,6.0,7.0,5.0,4.0,4.0,4.0,5.0,4.0,4.0,7.0,4.0,6.0,5.0,6.698970004336019,6.0,6.0,5.698970004336019,6.0,4.0,7.0,4.0,4.698970004336019,6.0,3.0,5.0,5.0,4.0,3.6989700043360187,6.0,5.0,6.698970004336019,6.698970004336019,4.0,6.0,6.0,3.0,5.698970004336019,4.0,4.698970004336019,6.0,4.698970004336019,3.0,5.0,4.0,5.0,5.0,4.0,4.698970004336019,3.0,3.6989700043360187,4.0,4.0,6.0,8.0,8.0,4.0,5.0,6.0,7.0,4.0,4.698970004336019,4.0,5.0,2.0,4.698970004336019,2.0,4.698970004336019,6.0,5.698970004336019,3.6989700043360187,6.0,5.0,5.0,5.698970004336019,7.0,5.0,4.698970004336019,7.0,7.0,8.0,3.0,2.0,0.6989700043360189,2.0,5.0,6.0,2.0,1.0,2.6989700043360187,0.0,2.0,4.0,1.0,3.6989700043360187,7.0,null,2.0,4.0,2.0,4.698970004336019,2.6989700043360187,0.0,3.6989700043360187,4.0,8.0,3.0,5.0,2.0,3.0,4.0,5.0,4.0,2.6989700043360187,3.0,4.0,3.0,4.0,3.6989700043360187,2.6989700043360187,1.0,3.6989700043360187,5.0,5.698970004336019,6.0,5.698970004336019,5.698970004336019,4.0,4.698970004336019,6.0,6.0,7.0,6.0,7.0,2.6989700043360187,5.698970004336019,5.0,3.0,2.0,3.6989700043360187,4.0,5.0,4.0,5.698970004336019,4.0,5.0,5.0,7.698970004336019,7.0,3.0,3.0,1.6989700043360187,4.0,4.0,3.6989700043360187,3.6989700043360187,5.0,8.0,5.0,4.0,3.0,3.0,3.0,5.698970004336019,3.0,5.0,6.0,3.6989700043360187,3.0,3.0,4.0,4.0,4.698970004336019,0.6989700043360189,4.0,3.0,1.0,5.0,3.0,1.6989700043360187,0.0,1.0,3.6989700043360187,1.6989700043360187,5.0,3.6989700043360187,5.0,3.0,3.6989700043360187,4.698970004336019,5.0,2.0,2.0,5.0,2.6989700043360187,1.0,8.698970004336019,6.0,8.0,6.0,6.0,3.0,5.0,7.0,8.0,7.0,6.0,3.0,8.0,6.0,7.698970004336019,5.698970004336019,4.698970004336019,4.698970004336019,6.0,2.0,8.0,8.0,7.0,7.698970004336019,7.0,7.0,8.0,7.698970004336019,6.0,6.0,4.0,5.0,6.0,6.0,7.0,6.698970004336019,8.0,7.0,5.698970004336019,7.698970004336019,4.0,7.0,4.0,7.0,6.0,6.698970004336019,5.0,4.0,7.0,3.0,3.6989700043360187,3.6989700043360187,6.698970004336019,4.0,3.0,4.0,5.0,6.0,3.6989700043360187,4.698970004336019,6.0,6.0,6.0,5.698970004336019,6.698970004336019,7.0,7.0,8.0,8.0,5.698970004336019,4.0,3.6989700043360187,5.0,4.0,4.698970004336019,4.698970004336019,4.698970004336019,5.0,3.0,5.698970004336019,4.0,5.0,5.698970004336019,3.6989700043360187,4.0,4.0,5.0,4.0,5.0,4.698970004336019,7.0,4.0,5.698970004336019,3.6989700043360187,4.0,5.0,5.0,4.0,5.0,5.0,5.0,5.698970004336019,5.0,3.6989700043360187,4.0,7.0,6.0,7.698970004336019,5.0,6.698970004336019,8.698970004336019,6.0,5.0,5.698970004336019,7.0,8.0,7.0,7.698970004336019,6.0,7.698970004336019,7.698970004336019,5.0,8.0,5.698970004336019,3.6989700043360187,5.0,6.0,5.0,5.0,5.0,8.0,1.6989700043360187,6.0,4.0,4.698970004336019,4.0,3.0,5.0,5.698970004336019,3.6989700043360187,3.6989700043360187,4.0,4.698970004336019,5.0,5.0,4.0,8.0,3.6989700043360187,3.6989700043360187,8.0,2.6989700043360187,8.0,7.0,3.6989700043360187,8.0,3.0,7.698970004336019,4.698970004336019,7.0,7.698970004336019,4.0,7.0,3.6989700043360187,5.0,7.0,4.0,6.0,4.0,6.0,3.6989700043360187,6.698970004336019,4.698970004336019,7.0,7.0,6.698970004336019,4.0,7.0,4.0,8.0,7.698970004336019,6.698970004336019,6.698970004336019,8.0,5.0,6.698970004336019,5.0,6.698970004336019,5.0,4.698970004336019,3.6989700043360187,7.0,6.0,6.0,4.0,5.0,6.0,6.698970004336019,7.0,3.0,5.698970004336019,4.0,6.0,5.0,4.0,6.0,6.0,5.698970004336019,3.6989700043360187,4.698970004336019,5.0,1.6989700043360187,5.698970004336019,6.0,4.0,5.0,3.0,6.0,6.0,6.0,5.0,5.0,5.698970004336019,5.0,4.0,5.0,5.0,6.0,7.698970004336019,5.698970004336019,7.0,7.0,8.0,7.698970004336019,7.0,8.0,7.0,7.0,6.0,6.698970004336019,6.698970004336019,6.698970004336019,6.698970004336019,8.0,8.0,7.0,6.0,8.0,4.698970004336019,7.0,7.0,7.0,6.698970004336019,7.698970004336019,6.0,6.0,7.698970004336019,7.0,6.0,8.0,6.698970004336019,5.0,7.0,6.0,6.0,6.698970004336019,4.698970004336019,4.0,5.0,3.0,5.0,5.698970004336019,6.0,4.0,6.0,4.0,6.698970004336019,6.0,4.0,4.0,2.0,6.0,5.698970004336019,1.0,5.0,3.6989700043360187,6.0,4.0,6.698970004336019,7.0,5.698970004336019,7.0,3.0,6.0,7.0,6.698970004336019,7.0,7.0,6.0,8.0,5.0,5.0,5.0,4.698970004336019,8.0,7.0,3.6989700043360187,7.0,6.0,7.698970004336019,6.0,4.0,5.0,5.698970004336019,4.0,5.0,3.0,4.0,5.0,2.6989700043360187,4.698970004336019,7.698970004336019,4.0,6.0,3.0,8.0,4.0,6.0,3.0,3.0,6.0,6.0,4.0,6.0,5.0,5.698970004336019,5.698970004336019,5.0,6.0,5.698970004336019,5.0,3.6989700043360187,4.0,6.0,4.698970004336019,5.0,4.0,4.0,4.0,5.0,3.6989700043360187,4.698970004336019,3.6989700043360187,4.698970004336019,6.0,5.0,4.0,5.0,5.0,4.698970004336019,4.0,4.0,4.0,6.0,5.0,7.0,6.0,5.0,5.0,4.698970004336019,3.0,4.698970004336019,5.0,3.0,4.0,6.0,5.698970004336019,7.0,5.698970004336019,6.0,6.0,4.0,5.698970004336019,7.0,7.698970004336019,6.0,4.0,4.698970004336019,4.698970004336019,6.0,4.0,4.698970004336019,6.0,4.0,4.698970004336019,6.0,4.0,5.0,3.0,4.0,6.0,4.0,5.0,5.0,3.0,5.0,3.6989700043360187,6.0,2.0,6.698970004336019,5.698970004336019,4.698970004336019,3.0,4.698970004336019,6.698970004336019,4.0,5.0,5.0,3.0,5.0,5.0,5.0,6.698970004336019,1.0,7.0,6.0,6.0,6.698970004336019,4.698970004336019,5.0,3.6989700043360187,4.0,5.0,6.0,5.698970004336019,4.698970004336019,5.698970004336019,6.0,5.0,6.0,5.0,6.0,4.698970004336019,4.698970004336019,5.698970004336019,5.0,6.0,3.0,4.0,6.698970004336019,3.0,3.0,5.0,5.0,4.0,4.0,4.0,4.0,1.0,7.0,4.0,4.0,6.0,5.698970004336019,2.0,4.698970004336019,4.0,3.0,6.698970004336019,3.0,4.0,3.0,7.0,4.0,4.0,3.6989700043360187,2.0,7.0,3.0,5.0,4.0,4.0,3.0,6.698970004336019,7.0,3.6989700043360187,2.0,2.0,2.6989700043360187,4.0,3.6989700043360187,1.6989700043360187,8.0,7.0,2.0,5.698970004336019,2.0,7.0,6.698970004336019,3.0,6.0,3.0,6.0,2.0,6.698970004336019,3.0,7.0,2.0,7.0,7.0,7.0,6.698970004336019,8.0,7.0,6.0,6.0,5.698970004336019,6.0,2.6989700043360187,4.0,4.0,3.0,3.6989700043360187,2.6989700043360187,4.0,3.0,4.0,3.0,3.0,3.6989700043360187,5.0,2.0,3.6989700043360187,3.0,2.0,1.0,2.0,3.0,4.0,3.0,2.0,3.0,2.0,1.6989700043360187,2.0,3.0,1.0,1.6989700043360187,1.6989700043360187,1.6989700043360187,2.0,2.6989700043360187,4.0,2.0,2.0,2.0,4.0,2.0,3.0,0.6989700043360189,2.6989700043360187,0.0,1.0,4.698970004336019,2.0,5.0,2.0,2.0,3.0,1.6989700043360187,2.0,1.6989700043360187,4.0,4.698970004336019,2.0,1.6989700043360187,2.0,2.0,4.0,2.0,2.0,5.0,2.0,3.6989700043360187,2.0,1.6989700043360187,2.0,2.0,2.0,2.0,2.6989700043360187,1.6989700043360187,5.0,1.6989700043360187,0.0,1.6989700043360187,2.0,2.0,2.0,2.0,1.0,5.0,2.0,2.0,1.6989700043360187,0.0,1.6989700043360187,2.0,1.0,4.698970004336019,1.6989700043360187,2.0,6.0,5.0,4.698970004336019,3.6989700043360187,6.0,3.0,4.698970004336019,6.0,4.0,5.0,4.0,4.698970004336019,4.698970004336019,6.0,4.0,6.0,4.0,3.6989700043360187,2.0,3.0,3.0,2.0,3.0,5.0,5.0,2.6989700043360187,6.0,3.0,5.0,3.6989700043360187,4.0,6.698970004336019,7.0,2.0,5.0,2.0,2.0,3.0,3.6989700043360187,2.0,2.6989700043360187,3.0,4.0,2.6989700043360187,4.0,6.698970004336019,4.698970004336019,4.698970004336019,5.0,4.0,6.0,3.0,2.0,1.0,2.0,6.0,1.0,2.6989700043360187,4.0,2.0,2.6989700043360187,2.6989700043360187,1.0,3.0,3.0,2.0,2.0,1.0,1.0,1.0,4.0,2.0,2.0,2.0,2.0,1.6989700043360187,3.6989700043360187,2.0,0.6989700043360189,1.6989700043360187,3.0,1.6989700043360187,1.0,5.0,0.6989700043360189,1.6989700043360187,0.6989700043360189,1.0,1.0,5.698970004336019,1.0,1.0,2.0,2.6989700043360187,5.0,5.0,2.0,5.698970004336019,4.698970004336019,3.0,4.0,3.0,3.6989700043360187,2.0,4.0,7.0,4.698970004336019,4.0,2.6989700043360187,6.0,2.6989700043360187,2.6989700043360187,2.0,3.0,2.0,7.0,7.0,4.0,1.0,3.6989700043360187,1.0,2.6989700043360187,3.0,3.0,1.0,2.0,3.6989700043360187,4.0,6.698970004336019,null,2.0,6.698970004336019,3.0,4.698970004336019,7.0,4.698970004336019,4.698970004336019,3.0,4.0,4.0,4.0,7.0,4.698970004336019,5.698970004336019,7.0,7.0,7.0,6.0,5.0,6.0,4.698970004336019,6.0,5.0,6.0,6.698970004336019,5.0,6.698970004336019,5.698970004336019,4.0,4.698970004336019,5.698970004336019,6.0,6.0,4.0,6.0,5.0,4.698970004336019,7.0,4.698970004336019,4.698970004336019,5.0,7.0,5.0,5.0,4.0,7.0,4.0,4.0,4.698970004336019,3.0,3.0,3.6989700043360187,3.0,4.0,3.6989700043360187,6.0,3.0,3.0,4.0,4.0,4.0,3.6989700043360187,4.0,3.6989700043360187,5.0,3.0,5.0,5.0,5.0,5.698970004336019,4.0,6.0,6.0,7.0,5.0,7.0,7.0,7.0,6.698970004336019,7.0,7.0,7.0,6.0,6.698970004336019,7.0,6.698970004336019,6.698970004336019,9.0,7.0,6.698970004336019,6.0,7.0,6.0,5.0,6.0,3.6989700043360187,3.0,6.0,4.0,2.0,7.0,5.0,6.0,5.0,5.0,6.0,3.0,7.0,7.0,8.0,7.0,7.0,6.698970004336019,6.0,6.698970004336019,6.698970004336019,7.0,6.698970004336019,5.0,7.0,6.0,7.0,7.0,5.0,7.0,7.0,6.698970004336019,6.0,6.0,7.0,7.698970004336019,4.0,5.0,5.0,7.0,6.698970004336019,7.0,4.0,7.0,6.0,6.0,3.6989700043360187,3.0,5.0,4.0,4.0,4.0,4.0,3.6989700043360187,2.0,3.6989700043360187,3.0,3.6989700043360187,3.0,4.0,5.698970004336019,5.0,3.0,1.0,5.0,4.0,4.0,3.6989700043360187,4.0,4.0,4.0,6.0,2.0,2.6989700043360187,3.6989700043360187,3.0,2.0,0.6989700043360189,4.698970004336019,1.0,6.0,3.0,3.6989700043360187,null,3.6989700043360187,3.0,1.0,6.0,3.0,6.0,5.0,4.698970004336019,5.698970004336019,5.0,1.0,2.0,1.0,0.0,2.6989700043360187,2.6989700043360187,4.0,3.0,7.0,1.6989700043360187,3.0,1.0,1.0,0.6989700043360189,1.0,7.698970004336019,3.6989700043360187,4.0,6.0,7.0,7.0,7.698970004336019,7.0,6.698970004336019,6.0,7.0,6.698970004336019,7.0,6.0,6.698970004336019,6.698970004336019,4.0,5.0,6.0,6.698970004336019,6.0,4.698970004336019,7.0,6.0,6.698970004336019,5.0,3.0,7.0,5.0,4.698970004336019,6.698970004336019,7.0,6.0,5.0,5.0,7.698970004336019,4.0,5.0,4.0,4.0,4.0,6.0,3.6989700043360187,4.0,3.0,3.6989700043360187,4.0,6.0,6.0,3.6989700043360187,4.0,4.698970004336019,3.0,5.0,3.0,3.6989700043360187,6.0,4.0,4.698970004336019,4.0,6.0,6.698970004336019,1.6989700043360187,5.0,5.0,6.0,5.0,4.0,7.0,7.0,5.0,4.698970004336019,5.698970004336019,4.698970004336019,3.0,6.698970004336019,7.0,7.0,6.698970004336019,6.698970004336019,7.0,7.0,7.0,8.698970004336019,6.698970004336019,7.0,6.698970004336019,6.698970004336019,8.0,6.698970004336019,6.698970004336019,6.0,7.698970004336019,7.698970004336019,6.698970004336019,6.0,7.0,7.0,7.0,7.698970004336019,6.698970004336019,5.698970004336019,6.0,6.0,7.0,7.0,6.0,6.698970004336019,6.698970004336019,6.698970004336019,6.698970004336019,6.0,6.698970004336019,6.0,5.698970004336019,5.0,6.698970004336019,6.0,6.0,6.0,6.0,5.0,7.0,5.0,6.0,5.698970004336019,5.0,6.698970004336019,5.0,5.0,5.0,5.698970004336019,5.0,4.0,5.0,5.0,4.698970004336019,6.0,8.0,6.0,6.0,4.0,3.0,6.0,5.0,4.698970004336019,5.0,4.0,4.0,3.0,5.0,6.0,5.0,5.0,3.0,4.0,2.0,5.0,4.0,3.0,4.698970004336019,4.0,3.0,2.0,3.0,6.0,5.698970004336019,3.0,4.0,3.6989700043360187,3.6989700043360187,5.0,3.0,4.0,4.0,2.0,6.0,3.0,6.0,4.0,4.698970004336019,4.0,8.0,5.0,5.0,4.0,3.6989700043360187,3.0,3.0,7.0,3.0,7.0,4.0,5.0,3.6989700043360187,5.0,6.0,4.698970004336019,3.0,3.6989700043360187,3.0,7.0,4.698970004336019,4.698970004336019,4.0,3.0,7.698970004336019,7.0,4.698970004336019,4.0,4.0,3.6989700043360187,3.0,4.0,6.0,7.0,3.6989700043360187,1.6989700043360187,7.0,6.0,2.0,5.0,5.0,3.0,6.0,3.6989700043360187,2.0,5.0,5.0,2.6989700043360187,5.0,4.698970004336019,2.6989700043360187,6.0,3.0,5.0,4.698970004336019,1.0,3.0,5.0,0.6989700043360189,2.0,2.6989700043360187,2.0,2.0,3.6989700043360187,4.698970004336019,6.0,6.698970004336019,3.0,3.0,5.0,3.6989700043360187,7.0,4.0,7.0,5.0,6.0,1.0,5.0,5.0,5.0,3.0,2.0,3.0,6.0,5.0,4.0,5.0,5.698970004336019,4.0,6.0,4.0,4.0,5.0,2.0,3.6989700043360187,5.0,4.698970004336019,2.0,3.0,3.0,1.6989700043360187,2.6989700043360187,3.6989700043360187,1.0,3.6989700043360187,0.6989700043360189,4.0,6.0,1.0,1.0,4.698970004336019,4.698970004336019,1.6989700043360187,4.0,2.0,2.0,3.0,0.0,5.0,4.0,3.0,3.0,1.6989700043360187,5.698970004336019,2.6989700043360187,3.0,3.0,2.0,5.698970004336019,1.6989700043360187,2.0,3.6989700043360187,3.6989700043360187,2.0,3.6989700043360187,2.0,2.6989700043360187,0.0,3.0,1.0,1.0,5.698970004336019,0.0,3.0,2.0,4.0,2.0,4.0,1.0,4.0,1.0,0.0,3.0,4.0,5.0,4.0,1.0,3.0,3.0,1.0,0.6989700043360189,9.0,0.0,4.0,6.0,7.0,6.698970004336019,7.0,7.0,7.0,7.0,7.0,6.698970004336019,6.698970004336019,7.0,5.0,4.0,6.0,6.0,5.0,5.698970004336019,3.6989700043360187,4.0,4.0,4.0,4.0,3.0,2.6989700043360187,2.6989700043360187,5.0,4.0,3.0,4.0,2.6989700043360187,4.0,4.698970004336019,3.0,4.0,4.0,3.0,2.0,3.0,4.0,4.0,6.0,5.0,3.0,3.6989700043360187,4.0,5.0,3.6989700043360187,4.0,4.0,4.698970004336019,3.0,6.0,3.0,2.6989700043360187,3.6989700043360187,3.0,3.6989700043360187,5.698970004336019,0.0,2.0,4.0,4.0,0.0,4.0,2.0,0.6989700043360189,3.0,4.0,2.0,5.0,4.0,4.0,4.0,4.698970004336019,3.0,5.0,4.0,4.698970004336019,4.698970004336019,4.698970004336019,4.0,2.0,3.0,1.0,2.6989700043360187,3.6989700043360187,null,6.0,5.0,7.0,5.0,8.0,1.0,6.698970004336019,5.0,7.0,3.6989700043360187,5.698970004336019,3.0,3.0,3.0,2.0,3.0,3.6989700043360187,6.698970004336019,4.698970004336019,1.6989700043360187,2.0,2.6989700043360187,2.0,2.6989700043360187,6.0,3.0,4.698970004336019,3.6989700043360187,4.0,1.6989700043360187,1.0,1.6989700043360187,4.0,2.6989700043360187,3.0,5.0,3.0,3.0,2.0,3.0,2.6989700043360187,2.0,3.0,2.0,1.6989700043360187,2.6989700043360187,5.0,2.6989700043360187,2.0,3.0,2.0,6.698970004336019,6.0,4.0,3.6989700043360187,6.0,5.698970004336019,5.698970004336019,4.0,4.0,3.6989700043360187,5.698970004336019,4.698970004336019,1.0,3.0,3.6989700043360187,4.0,5.0,3.0,4.0,3.0,3.0,4.0,2.6989700043360187,2.6989700043360187,2.0,3.0,5.0,4.698970004336019,3.6989700043360187,4.698970004336019,4.0,2.6989700043360187,4.0,5.698970004336019,5.0,3.6989700043360187,2.0,5.0,5.0,3.6989700043360187,5.698970004336019,4.0,6.0,5.0,2.6989700043360187,3.6989700043360187,2.0,1.0,2.6989700043360187,2.0,5.0,5.0,7.0,5.698970004336019,5.0,8.0,2.0,3.0,4.698970004336019,5.0,7.0,5.0,3.0,4.0,6.698970004336019,5.0,6.0,3.0,7.698970004336019,7.698970004336019,5.0,7.698970004336019,6.698970004336019,3.6989700043360187,3.6989700043360187,5.0,7.0,4.0,7.698970004336019,5.0,7.0,7.0,6.0,6.698970004336019,6.0,7.0,2.0,7.0,7.0,3.0,4.0,4.0,4.0,4.698970004336019,6.0,4.698970004336019,5.0,6.698970004336019,7.0,4.0,3.0,5.0,4.698970004336019,3.0,6.698970004336019,5.0,6.0,5.698970004336019,3.0,3.0,3.0,3.0,5.0,3.6989700043360187,6.0,3.0,3.6989700043360187,4.0,1.6989700043360187,1.0,1.6989700043360187,4.698970004336019,4.698970004336019,2.0,5.0,6.0,5.0,3.0,4.0,3.0,2.6989700043360187,3.0,4.0,2.6989700043360187,5.0,3.0,2.0,3.0,4.0,0.6989700043360189,3.0,3.6989700043360187,4.0,7.0,3.0,3.0,2.6989700043360187,3.0,2.0,3.6989700043360187,2.0,3.0,1.0,2.0,2.0,1.0,2.0,3.0,1.0,3.0,3.0,5.0,4.698970004336019,2.0,2.6989700043360187,2.6989700043360187,3.0,6.0,6.0,2.6989700043360187,3.0,2.6989700043360187,2.0,3.0,2.0,1.0,3.0,2.0,6.0,6.698970004336019,1.0,5.0,4.698970004336019,3.0,1.0,7.0,5.0,2.0,6.698970004336019,3.0,4.0,1.0,5.698970004336019,1.6989700043360187,6.0,6.0,6.698970004336019,5.0,4.0,4.0,1.0,5.0,2.0,5.0,8.0,5.0,4.698970004336019,7.0,4.698970004336019,1.6989700043360187,5.0,6.0,5.698970004336019,7.0,6.0,6.698970004336019,4.0,5.0,5.0,2.6989700043360187,5.0,6.0,4.0,3.0,3.0,4.0,1.0,2.6989700043360187,3.0,5.0,1.0,1.0,3.0,1.0,2.0,2.6989700043360187,3.0,5.0,2.0,1.0,0.0,1.0,3.0,3.0,1.0,3.6989700043360187,4.0,3.6989700043360187,3.0,4.698970004336019,4.698970004336019,2.0,6.0,4.698970004336019,3.0,4.0,2.6989700043360187,3.6989700043360187,0.0,1.0,1.6989700043360187,2.0,2.6989700043360187,5.0,5.698970004336019,5.0,4.0,3.0,3.6989700043360187,4.0,8.0,3.0,4.0,2.0,4.0,4.0,2.0,4.0,0.0,3.0,3.0,4.0,7.0,3.6989700043360187,3.6989700043360187,6.0,6.0,7.0,1.6989700043360187,7.0,7.0,7.0,1.0,1.0,7.698970004336019,7.0,7.0,7.0,7.698970004336019,6.698970004336019,6.698970004336019,7.0,6.0,7.0,7.0,6.698970004336019,6.698970004336019,5.0,5.698970004336019,4.0,4.0,4.698970004336019,2.6989700043360187,4.0,2.0,2.6989700043360187,3.0,3.6989700043360187,4.698970004336019,2.0,3.0,2.0,4.0,4.0,6.698970004336019,2.0,4.698970004336019,7.0,1.0,2.6989700043360187,2.0,6.0,2.6989700043360187,2.0,5.0,2.6989700043360187,1.0,0.6989700043360189,7.0,1.0,7.0,2.0,1.0,6.0,6.0,0.6989700043360189,2.0,5.0,4.0,5.0,5.0,5.0,5.698970004336019,5.0,5.0,6.698970004336019,6.698970004336019,3.0,5.0,3.6989700043360187,3.6989700043360187,4.0,3.6989700043360187,1.6989700043360187,2.0,1.6989700043360187,1.6989700043360187,2.0,5.0,3.0,4.0,2.6989700043360187,2.0,8.0,5.0,3.0,3.0,1.0,4.0,3.0,4.0,3.0,3.0,4.0,3.6989700043360187,4.0,4.698970004336019,4.0,4.0,0.6989700043360189,4.0,2.0,3.6989700043360187,2.0,2.0,4.0,3.0,4.0,1.6989700043360187,0.6989700043360189,5.698970004336019,4.0,4.0,5.0,4.0,4.0,5.0,6.0,6.0,3.6989700043360187,4.0,5.0,5.0,1.0,5.0,4.698970004336019,4.0,5.0,5.0,3.0,4.0,3.0,2.0,4.0,5.698970004336019,2.0,4.698970004336019,3.6989700043360187,1.6989700043360187,2.0,1.0,4.0,2.6989700043360187,2.0,3.0,2.0,2.0,0.6989700043360189,4.0,3.0,4.0,3.0,2.0,1.6989700043360187,1.0,1.0,2.6989700043360187,4.0,5.0,8.0,6.0,4.698970004336019,6.0,4.698970004336019,5.0,2.0,2.0,3.0,4.0,2.6989700043360187,2.0,4.0,4.0,4.698970004336019,2.0,5.0,3.0,3.0,2.0,3.0,1.0,4.0,5.0,0.6989700043360189,2.6989700043360187,2.0,5.0,3.0,2.6989700043360187,0.0,2.6989700043360187,1.0,2.6989700043360187,1.0,2.0,6.0,6.0,3.0,1.6989700043360187,4.0,2.0,3.0,2.0,1.0,1.0,2.6989700043360187,3.0,7.0,5.698970004336019,3.6989700043360187,5.0,5.698970004336019,2.0,5.0,5.0,4.0,2.0,4.0,1.0,5.698970004336019,3.6989700043360187,4.0,3.0,2.0,4.0,4.0,3.6989700043360187,3.0,2.0,1.0,3.6989700043360187,4.698970004336019,4.0,3.6989700043360187,3.6989700043360187,4.0,3.0,3.6989700043360187,3.0,3.0,1.6989700043360187,3.6989700043360187,4.698970004336019,3.0,3.6989700043360187,4.0,3.0,4.0,3.0,4.0,4.0,3.6989700043360187,3.0,3.0,1.6989700043360187,1.0,8.0,5.0,6.0,3.0,4.0,7.698970004336019,7.698970004336019,3.0,8.0,2.0,4.0,2.6989700043360187,5.0,1.0,3.0,6.698970004336019,7.0,4.0,6.0,3.0,6.0,2.0,6.0,3.0,3.0,7.0,6.698970004336019,7.0,4.0,6.698970004336019,3.6989700043360187,7.0,7.698970004336019,7.698970004336019,6.0,4.0,4.0,4.0,6.0,5.698970004336019,3.0,3.0,5.0,7.0,1.6989700043360187,4.0,4.0,4.0,3.0,2.6989700043360187,3.0,2.0,1.6989700043360187,2.0,3.0,5.698970004336019,3.6989700043360187,3.0,3.0,3.0,1.0,3.0,5.0,4.698970004336019,3.0,3.0,3.0,3.0,4.0,1.6989700043360187,2.0,0.0,5.698970004336019,4.0,6.0,6.0,3.6989700043360187,6.0,2.0,3.6989700043360187,3.0,2.0,6.0,3.0,3.0,3.6989700043360187,1.6989700043360187,3.0,3.0,1.6989700043360187,6.698970004336019,2.0,2.0,1.6989700043360187,4.0,3.6989700043360187,4.698970004336019,3.6989700043360187,5.0,5.0,1.6989700043360187,7.0,3.0,5.698970004336019,3.6989700043360187,6.0,2.0,4.0,7.0,6.0,4.698970004336019,1.6989700043360187,2.0,6.698970004336019,2.0,1.6989700043360187,2.0,0.6989700043360189,1.0,3.0,6.698970004336019,5.0,6.0,6.0,5.0,4.698970004336019,7.0,5.0,3.6989700043360187,3.6989700043360187,2.0,4.0,3.0,2.6989700043360187,3.6989700043360187,5.0,2.0,4.0,5.0,null,3.6989700043360187,4.0,1.6989700043360187,1.0,5.0,2.0,3.0,0.6989700043360189,2.0,4.698970004336019,1.6989700043360187,3.6989700043360187,4.0,3.0,7.0,5.0,4.0,1.0,2.6989700043360187,5.0,6.698970004336019,6.0,6.0,4.0,7.0,4.0,7.0,5.0,6.0,4.698970004336019,3.0,6.0,5.698970004336019,1.6989700043360187,1.6989700043360187,3.0,4.698970004336019,3.6989700043360187,2.0,1.0,2.0,2.0,4.0,3.0,2.0,2.0,3.6989700043360187,3.0,4.698970004336019,2.6989700043360187,2.0,1.6989700043360187,5.0,1.6989700043360187,4.0,4.698970004336019,4.0,1.0,3.0,5.0,1.6989700043360187,5.0,1.0,6.0,5.0,4.0,4.0,3.0,6.0,3.0,6.698970004336019,5.0,6.0,3.0,5.698970004336019,3.6989700043360187,4.0,4.0,4.0,3.6989700043360187,5.698970004336019,4.698970004336019,4.0,7.0,6.0,3.0,5.0,2.6989700043360187,2.6989700043360187,6.698970004336019,2.6989700043360187,2.6989700043360187,6.0,3.0,6.0,5.698970004336019,3.0,4.0,4.0,5.0,2.6989700043360187,4.0,2.0,4.0,3.6989700043360187,6.0,4.698970004336019,2.0,1.0,2.6989700043360187,3.0,3.0,4.698970004336019,2.0,1.0,0.6989700043360189,3.6989700043360187,6.0,3.0,4.0,4.0,3.0,1.0,2.0,1.0,2.0,3.0,1.0,4.0,3.0,6.0,2.6989700043360187,1.0,3.0,1.6989700043360187,2.0,3.0,1.0,1.6989700043360187,2.0,3.0,2.0,3.0,2.6989700043360187,2.0,1.6989700043360187,2.6989700043360187,3.0,1.0,2.0,1.0,7.698970004336019,3.0,4.0,3.0,8.0,2.0,2.0,2.0,2.0,2.6989700043360187,2.6989700043360187,6.0,2.6989700043360187,3.0,2.0,5.0,2.0,2.0,2.6989700043360187,2.0,1.6989700043360187,2.0,2.0,2.0,1.0,1.0,2.0,1.0,1.0,5.698970004336019,2.0,2.6989700043360187,5.0,1.0,1.6989700043360187,1.6989700043360187,7.0,6.698970004336019,5.0,4.0,6.698970004336019,5.0,4.698970004336019,0.0,3.0,0.6989700043360189,6.0,6.0,1.6989700043360187,5.0,3.0,3.6989700043360187,3.0,4.0,4.698970004336019,5.0,4.0,3.0,3.6989700043360187,2.6989700043360187,5.0,4.0,5.0,3.0,3.6989700043360187,3.6989700043360187,2.0,2.0,6.0,2.6989700043360187,2.0,1.0,2.0,6.0,1.6989700043360187,1.0,4.0,3.0,4.0,5.0,3.0,4.698970004336019,2.6989700043360187,3.0,3.6989700043360187,4.0,1.0,2.0,3.0,6.0,5.698970004336019,2.0,1.0,4.698970004336019,1.0,1.6989700043360187,3.6989700043360187,4.0,6.0,4.0,2.0,3.6989700043360187,2.0,4.0,2.0,2.0,2.0,1.6989700043360187,2.0,3.0,3.0,3.6989700043360187,3.6989700043360187,2.0,3.0,3.0,0.0,4.0,2.6989700043360187,3.0,5.0,2.0,6.698970004336019,6.0,2.6989700043360187,7.0,6.698970004336019,6.0,3.0,4.0,6.0,7.0,7.0,3.6989700043360187,6.0,4.0,5.698970004336019,5.698970004336019,5.698970004336019,3.0,6.0,5.698970004336019,4.698970004336019,6.698970004336019,6.0,5.698970004336019,5.698970004336019,7.0,6.0,5.0,5.0,6.0,6.0,7.0,6.0,6.0,5.0,7.698970004336019,6.698970004336019,6.0,5.0,5.698970004336019,5.0,5.0,5.698970004336019,6.0,6.0,5.0,5.0,5.698970004336019,5.698970004336019,6.698970004336019,4.698970004336019,5.698970004336019,5.0,6.698970004336019,5.0,6.0,5.0,5.0,6.0,5.698970004336019,5.0,5.0,6.0,6.0,6.0,4.0,5.0,3.0,2.0,2.0,3.0,4.0,3.0,3.0,1.0,4.698970004336019,1.6989700043360187,1.0,3.0,1.0,5.0,2.6989700043360187,4.0,3.0,3.6989700043360187,6.0,2.6989700043360187,3.0,2.0,3.0,3.0,3.6989700043360187,4.698970004336019,2.6989700043360187,3.0,4.0,2.0,5.698970004336019,2.0,3.0,3.0,3.6989700043360187,3.0,1.6989700043360187,2.6989700043360187,4.0,4.0,7.0,3.0,5.0,6.698970004336019,3.6989700043360187,4.0,3.0,1.0,5.0,6.0,2.0,2.6989700043360187,3.0,4.0,4.0,1.0,3.6989700043360187,3.0,6.0,5.0,2.0,3.6989700043360187,4.0,2.0,2.0,6.0,4.0,5.0,5.0,7.698970004336019,2.0,6.0,3.0,3.0,5.0,4.0,4.698970004336019,2.6989700043360187,5.0,1.0,2.0,2.6989700043360187,6.0,1.6989700043360187,3.0,1.0,1.6989700043360187,5.0,3.0,3.0,2.0,2.6989700043360187,1.0,2.0,2.0,3.0,2.0,3.0,1.0,1.6989700043360187,4.0,2.0,1.0,1.0,2.0,1.6989700043360187,3.6989700043360187,2.6989700043360187,2.6989700043360187,4.698970004336019,0.6989700043360189,2.6989700043360187,6.698970004336019,4.0,6.0,5.698970004336019,1.0,2.6989700043360187,4.698970004336019,2.0,2.0,2.0,3.0,0.6989700043360189,2.6989700043360187,4.0,1.0,2.6989700043360187,4.0,2.0,2.6989700043360187,1.0,2.0,2.6989700043360187,2.6989700043360187,2.0,2.6989700043360187,3.6989700043360187,4.0,0.6989700043360189,3.0,5.0,2.0,3.0,2.6989700043360187,0.6989700043360189,2.0,0.6989700043360189,1.6989700043360187,3.0,3.6989700043360187,1.6989700043360187,1.6989700043360187,0.6989700043360189,4.0,4.0,3.0,4.0,2.0,4.0,3.0,4.0,2.0,3.6989700043360187,4.0,3.0,2.6989700043360187,2.0,3.0,4.698970004336019,4.698970004336019,3.0,3.0,5.0,1.6989700043360187,3.0,2.6989700043360187,2.0,3.0,2.0,2.0,3.6989700043360187,7.698970004336019,2.6989700043360187,2.0,2.0,7.0,1.6989700043360187,0.0,1.6989700043360187,1.6989700043360187,3.0,7.0,1.0,0.0,2.0,3.0,0.6989700043360189,6.698970004336019,5.0,3.0,4.0,2.0,6.698970004336019,5.0,3.0,2.0,3.0,2.0,2.0,2.0,2.6989700043360187,2.0,2.6989700043360187,2.0,2.0,3.0,2.0,1.0,2.0,1.0,2.0,3.0,4.0,3.0,2.0,2.0,2.0,1.6989700043360187,2.0,7.0,2.0,2.0,2.0,1.6989700043360187,2.0,2.0,1.0,2.0,2.0,2.6989700043360187,2.0,2.0,2.6989700043360187,4.698970004336019,4.0,6.698970004336019,4.0,3.6989700043360187,3.0,3.0,4.0,3.6989700043360187,5.0,2.0,4.0,3.0,2.0,4.0,2.0,3.0,2.6989700043360187,2.6989700043360187,3.0,3.0,3.6989700043360187,3.6989700043360187,4.698970004336019,2.0,2.0,2.6989700043360187,2.0,2.0,4.0,1.0,2.6989700043360187,3.0,3.0,4.0,4.0,2.0,1.6989700043360187,2.6989700043360187,3.0,1.0,1.6989700043360187,3.0,5.0,3.0,3.6989700043360187,3.0,3.6989700043360187,7.0,6.0,5.0,2.6989700043360187,3.6989700043360187,0.6989700043360189,3.0,3.0,6.0,1.6989700043360187,2.6989700043360187,4.0,1.0,4.0,3.6989700043360187,6.0,1.0,3.0,2.0,5.698970004336019,5.0,5.698970004336019,5.0,6.698970004336019,3.0,6.0,5.0,4.0,4.698970004336019,4.0,4.698970004336019,3.0,3.0,4.0,3.0,5.698970004336019,5.0,2.0,5.698970004336019,2.0,0.0,2.6989700043360187,2.0,3.6989700043360187,3.6989700043360187,4.0,1.0,1.0,2.0,5.0,1.0,5.0,2.6989700043360187,2.0,1.0,3.0,1.6989700043360187,2.0,2.0,1.6989700043360187,0.6989700043360189,3.0,3.0,3.0,1.0,3.6989700043360187,4.0,5.0,1.6989700043360187,6.698970004336019,1.0,2.6989700043360187,1.0,3.0,7.698970004336019,3.0,3.6989700043360187,6.698970004336019,2.0,3.0,2.0,4.0,4.0,6.0,6.0,3.6989700043360187,6.0,2.0,3.0,2.6989700043360187,5.698970004336019,2.0,2.0,5.0,5.0,5.698970004336019,2.0,5.0,7.0,4.698970004336019,3.0,1.0,2.0,null,2.6989700043360187,4.698970004336019,4.698970004336019,6.0,2.6989700043360187,1.0,7.0,2.0,6.0,1.0,1.0,7.0,1.0,1.6989700043360187,5.0,4.0,6.698970004336019,6.0,6.0,5.698970004336019,7.0,4.0,4.698970004336019,5.0,7.0,2.6989700043360187,4.0,4.698970004336019,4.0,2.0,2.0,1.0,6.698970004336019,3.6989700043360187,3.0,3.6989700043360187,2.6989700043360187,1.6989700043360187,3.6989700043360187,6.0,1.0,2.0,1.0,3.0,5.0,3.6989700043360187,3.0,1.0,2.0,4.698970004336019,1.0,1.0,6.698970004336019,3.0,4.0,7.0,6.0,4.0,1.0,0.6989700043360189,4.0,5.0,5.0,5.0,3.0,4.0,7.698970004336019,2.0,1.0,1.0,1.0,3.0,3.6989700043360187,5.698970004336019,5.0,5.698970004336019,3.0,3.0,4.0,3.6989700043360187,7.698970004336019,4.0,2.0,3.0,7.0,6.698970004336019,0.0,0.0,2.0,2.6989700043360187,7.0,0.6989700043360189,3.6989700043360187,1.0,1.0,4.0,1.0,2.0,2.0,1.6989700043360187,2.0,8.698970004336019,8.0,5.0,8.0,7.698970004336019,6.0,7.0,6.698970004336019,6.698970004336019,5.0,5.0,5.698970004336019,6.698970004336019,5.0,8.0,5.0,6.0,7.698970004336019,6.0,4.0,5.0,5.0,5.0,4.0,5.0,4.698970004336019,5.0,5.0,5.698970004336019,2.6989700043360187,4.0,5.698970004336019,4.0,4.0,6.0,4.0,7.0,4.0,5.0,5.0,5.698970004336019,6.0,4.0,3.6989700043360187,2.0,1.0,7.0,5.0,4.0,5.0,5.0,4.0,6.0,7.0,5.0,5.698970004336019,6.0,7.0,6.698970004336019,6.0,6.698970004336019,6.0,7.0,6.698970004336019,5.698970004336019,6.0,6.0,6.698970004336019,7.0,6.0,6.0,6.0,6.0,6.0,5.0,5.698970004336019,5.0,6.698970004336019,4.0,6.698970004336019,6.0,4.0,4.698970004336019,4.0,4.0,6.0,3.0,2.0,6.0,4.0,4.0,3.6989700043360187,2.0,6.0,4.0,5.0,3.0,4.0,3.6989700043360187,3.0,3.6989700043360187,3.0,4.0,6.0,4.0,3.0,5.0,4.0,4.0,3.0,4.698970004336019,4.698970004336019,3.0,5.698970004336019,3.0,2.6989700043360187,4.0,6.0,3.6989700043360187,3.0,4.0,2.0,2.6989700043360187,6.698970004336019,4.0,6.0,2.0,3.0,3.0,3.0,3.0,6.0,5.0,4.698970004336019,4.0,5.0,2.6989700043360187,4.0,5.698970004336019,4.0,3.0,3.0,3.0,5.0,1.0,3.0,3.6989700043360187,3.6989700043360187,6.0,4.0,4.698970004336019,4.0,5.0,6.0,2.6989700043360187,2.6989700043360187,6.0,1.0,3.0,2.0,2.0,2.0,3.0,5.0,4.0,2.0,2.0,6.0,2.6989700043360187,2.0,2.6989700043360187,6.0,2.6989700043360187,2.0,4.0,0.6989700043360189,3.6989700043360187,2.0,6.698970004336019,4.0,3.0,6.0,3.0,2.0,5.0,3.0,5.0,2.6989700043360187,2.6989700043360187,1.0,1.0,2.6989700043360187,3.6989700043360187,0.6989700043360189,0.6989700043360189,5.0,5.0,1.0,4.0,0.0,2.0,5.0,5.698970004336019,4.0,3.0,4.0,7.0,1.0,4.0,2.0,1.0,5.0,4.698970004336019,6.698970004336019,6.698970004336019,5.0,1.6989700043360187,3.0,2.0,1.6989700043360187,5.0,2.0,5.0,3.0,4.0,6.0,6.698970004336019,7.0,5.698970004336019,5.0,5.0,2.6989700043360187,5.0,4.0,6.0,5.698970004336019,2.6989700043360187,2.0,2.0,6.0,3.6989700043360187,4.0,6.0,5.698970004336019,4.698970004336019,4.0,5.698970004336019,3.6989700043360187,4.0,2.0,3.0,3.0,0.6989700043360189,3.6989700043360187,2.0,4.0,5.0,4.698970004336019,3.6989700043360187,6.698970004336019,2.0,2.0,2.0,2.6989700043360187,4.698970004336019,3.6989700043360187,3.0,1.6989700043360187,2.0,6.0,8.0,6.0,5.698970004336019,6.0,7.0,6.698970004336019,3.0,5.0,4.0,5.0,5.0,4.698970004336019,4.0,4.698970004336019,2.0,3.6989700043360187,5.0,5.698970004336019,4.0,2.0,3.0,5.0,4.0,4.0,1.0,6.0,5.698970004336019,3.0,6.0,2.0,4.0,3.6989700043360187,4.0,4.698970004336019,3.0,1.6989700043360187,4.698970004336019,4.0,5.698970004336019,3.6989700043360187,5.0,4.0,4.698970004336019,4.0,3.6989700043360187,4.698970004336019,2.0,4.698970004336019,4.698970004336019,3.0,3.6989700043360187,4.0,3.0,3.0,1.0,3.0,3.0,2.6989700043360187,3.0,3.6989700043360187,4.0,4.0,5.0,3.6989700043360187,3.0,2.0,2.0,3.6989700043360187,4.698970004336019,4.0,2.0,3.0,4.0,3.0,3.0,4.0,2.0,6.0,2.0,1.6989700043360187,5.0,4.0,2.0,3.6989700043360187,2.0,3.0,3.0,1.6989700043360187,1.6989700043360187,2.0,2.0,4.0,1.6989700043360187,5.0,4.0,4.0,3.0,5.0,4.698970004336019,4.0,4.0,4.0,4.0,4.0,4.0,4.0,4.0,4.698970004336019,4.698970004336019,4.698970004336019,4.0,4.0,4.0,4.698970004336019,5.0,4.698970004336019,4.0,3.0,4.698970004336019,4.0,3.6989700043360187,2.0,6.698970004336019,4.698970004336019,6.0,6.698970004336019,7.0,7.0,8.0,7.0,5.698970004336019,6.0,4.0,5.0,6.0,6.0,5.0,4.0,5.698970004336019,3.6989700043360187,5.0,5.0,4.0,4.0,4.698970004336019,5.0,5.0,5.0,3.0,6.0,4.698970004336019,6.0,5.0,3.0,3.6989700043360187,6.0,4.0,4.0,5.0,3.6989700043360187,4.0,3.6989700043360187,5.0,4.0,4.0,4.0,4.0,4.698970004336019,3.0,3.0,5.0,4.0,3.6989700043360187,4.698970004336019,4.0,5.0,3.6989700043360187,3.6989700043360187,6.698970004336019,5.698970004336019,3.6989700043360187,4.698970004336019,4.0,5.0,2.0,1.0,6.698970004336019,5.0,2.0,4.698970004336019,3.6989700043360187,2.0,6.0,2.6989700043360187,2.0,2.0,2.0,4.0,1.0,2.0,1.6989700043360187,6.0,2.6989700043360187,3.6989700043360187,3.6989700043360187,2.0,6.0,2.0,1.0,1.0,0.0,5.698970004336019,3.0,5.0,3.0,5.0,3.0,5.698970004336019,4.698970004336019,4.698970004336019,7.0,3.6989700043360187,5.698970004336019,3.0,6.0,6.698970004336019,6.698970004336019,3.6989700043360187,5.0,3.0,4.0,4.0,6.0,4.0,4.0,4.0,3.0,4.698970004336019,2.6989700043360187,3.0,3.0,3.0,2.6989700043360187,5.0,2.6989700043360187,3.6989700043360187,2.6989700043360187,4.0,1.0,3.6989700043360187,2.0,2.0,4.0,2.6989700043360187,1.6989700043360187,2.6989700043360187,1.0,2.0,1.6989700043360187,1.6989700043360187,2.0,2.6989700043360187,3.0,1.6989700043360187,5.698970004336019,4.0,5.0,1.6989700043360187,3.0,3.0,0.6989700043360189,1.6989700043360187,null,8.0,6.0,4.698970004336019,5.0,2.0,3.6989700043360187,6.698970004336019,2.6989700043360187,3.0,2.0,4.0,2.0,3.0,3.0,2.0,2.0,4.698970004336019,3.0,3.6989700043360187,2.0,2.0,2.0,2.0,1.0,1.0,6.0,2.6989700043360187,0.6989700043360189,2.0,6.0,2.0,1.0,1.0,7.0,6.0,3.6989700043360187,6.0,0.6989700043360189,5.0,5.698970004336019,4.0,4.0,4.0,6.0,7.0,5.0,4.0,4.0,3.0,6.0,4.0,4.0,5.698970004336019,5.0,5.0,1.0,6.0,1.0,1.0,3.0,4.698970004336019,4.698970004336019,4.698970004336019,1.0,0.6989700043360189,1.0,3.0,3.0,0.0,0.6989700043360189,4.0,5.0,1.0,3.0,5.0,2.0,5.0,1.0,2.6989700043360187,1.0,3.6989700043360187,2.6989700043360187,5.0,2.0,4.0,5.698970004336019,6.0,3.0,4.0,5.0,7.0,6.698970004336019,7.0,7.698970004336019,4.0,6.698970004336019,6.0,6.698970004336019,7.0,6.0,7.0,6.0,6.698970004336019,7.0,7.0,7.0,4.698970004336019,7.0,6.698970004336019,4.0,7.0,7.0,7.0,7.0,6.698970004336019,7.0,7.0,4.698970004336019,4.698970004336019,7.0,6.698970004336019,3.6989700043360187,5.698970004336019,3.6989700043360187,3.0,4.0,4.0,4.0,2.0,2.6989700043360187,1.6989700043360187,5.698970004336019,3.0,4.0,2.6989700043360187,2.6989700043360187,3.0,2.6989700043360187,4.0,4.0,3.0,3.0,4.0,1.0,4.0,4.0,3.6989700043360187,3.6989700043360187,2.0,4.0,1.0,4.0,2.0,5.0,1.0,3.6989700043360187,3.0,3.0,3.0,2.0,0.0,3.0,4.0,7.0,6.0,6.698970004336019,7.0,5.698970004336019,6.698970004336019,4.698970004336019,4.0,7.0,6.0,4.0,3.0,6.698970004336019,3.0,6.0,3.6989700043360187,7.698970004336019,2.0,7.0,2.6989700043360187,3.6989700043360187,4.698970004336019,3.0,6.698970004336019,3.0,4.0,4.698970004336019,7.0,7.698970004336019,5.698970004336019,2.0,3.6989700043360187,5.0,1.6989700043360187,3.6989700043360187,2.6989700043360187,2.6989700043360187,1.6989700043360187,3.0,4.0,3.6989700043360187,3.6989700043360187,1.0,3.6989700043360187,7.0,7.0,7.0,6.698970004336019,7.0,7.0,6.698970004336019,6.0,7.0,7.0,7.698970004336019,6.0,7.0,6.0,7.0,6.698970004336019,7.0,6.0,8.0,7.698970004336019,7.698970004336019,6.698970004336019,7.698970004336019,7.0,7.0,6.698970004336019,7.0,7.0,5.0,3.0,2.0,7.0,4.0,2.6989700043360187,3.0,4.0,2.0,4.698970004336019,3.0,1.0,2.6989700043360187,2.0,2.0,2.0,3.0,3.0,1.0,2.0,2.0,2.6989700043360187,2.6989700043360187,4.0,2.0,1.0,5.698970004336019,1.6989700043360187,0.6989700043360189,1.0,7.0,1.0,1.0,2.0,2.0,5.698970004336019,3.0,0.6989700043360189,0.0,1.0,6.698970004336019,2.6989700043360187,2.0,6.698970004336019,5.0,4.0,4.0,1.6989700043360187,3.0,6.0,4.0,3.0,3.0,3.0,2.0,7.0,2.6989700043360187,4.0,4.0,1.0,3.0,6.0,2.6989700043360187,4.0,3.0,2.0,5.698970004336019,2.0,2.0,2.0,4.0,2.0,1.0,2.0,1.0,4.0,2.0,4.0,2.0,7.0,6.698970004336019,7.0,7.698970004336019,6.698970004336019,5.0,3.0,6.698970004336019,7.0,6.0,6.0,7.0,5.0,4.0,4.698970004336019,2.0,6.0,5.698970004336019,3.0,6.0,4.0,3.0,6.698970004336019,5.0,5.698970004336019,7.0,4.0,6.698970004336019,6.0,1.6989700043360187,6.0,5.0,7.0,5.0,5.0,3.0,7.0,7.0,3.0,2.0,7.0,6.0,6.0,8.0,7.0,7.698970004336019,7.0,7.0,5.698970004336019,8.0,7.0,5.0,6.698970004336019,5.698970004336019,7.0,7.0,8.0,6.0,7.698970004336019,7.0,7.698970004336019,7.0,8.0,7.0,7.0,6.698970004336019,7.0,7.0,6.0,5.0,5.0,5.0,6.0,3.0,3.0,3.0,4.698970004336019,3.0,3.6989700043360187,4.0,4.0,5.0,3.0,4.0,4.698970004336019,4.0,3.0,5.0,2.6989700043360187,6.0,4.698970004336019,5.0,3.0,0.0,2.0,4.698970004336019,4.0,2.0,1.0,1.0,4.0,1.0,6.0,3.0,4.0,2.6989700043360187,3.0,2.6989700043360187,1.6989700043360187,2.0,2.0,2.0,5.0,0.0,1.0,4.698970004336019,7.0,6.698970004336019,7.698970004336019,7.0,5.0,6.0,7.0,6.0,6.0,3.0,6.698970004336019,4.0,3.6989700043360187,6.698970004336019,1.0,5.0,7.0,6.698970004336019,4.0,6.0,6.0,6.0,4.698970004336019,7.0,4.0,7.0,6.0,5.0,6.0,6.0,6.0,4.0,4.0,3.6989700043360187,3.6989700043360187,5.0,3.6989700043360187,3.0,3.0,3.0,3.6989700043360187,4.0,3.0,3.0,1.0,3.0,3.6989700043360187,3.0,3.0,2.0,4.0,3.0,3.6989700043360187,0.6989700043360189,1.0,2.0,2.0,3.6989700043360187,5.698970004336019,1.6989700043360187,2.6989700043360187,2.0,3.6989700043360187,2.0,2.0,1.6989700043360187,0.6989700043360189,1.0,1.0,2.0,2.0,1.0,4.0,4.0,3.0,2.0,1.6989700043360187,4.698970004336019,4.0,1.0,5.0,2.6989700043360187,3.6989700043360187,5.0,1.0,1.0,1.6989700043360187,2.6989700043360187,1.0,2.0,2.0,2.0,3.6989700043360187,0.6989700043360189,1.0,1.0,4.698970004336019,5.0,5.0,6.0,0.0,6.0,null,5.0,3.0,5.698970004336019,4.698970004336019,4.698970004336019,6.0,4.698970004336019,4.698970004336019,4.0,6.698970004336019,6.698970004336019,6.0,6.0,6.0,7.0,6.698970004336019,6.0,5.0,6.698970004336019,7.0,6.0,6.0,5.0,7.0,5.698970004336019,6.0,5.0,6.0,6.0,5.698970004336019,5.0,6.0,5.698970004336019,5.0,6.0,5.0,5.0,4.698970004336019,6.0,5.0,5.0,6.0,7.0,6.0,5.0,7.0,5.698970004336019,4.0,5.0,5.698970004336019,6.0,5.0,3.6989700043360187,5.698970004336019,4.698970004336019,5.0,5.0,4.0,5.698970004336019,5.0,3.6989700043360187,5.0,5.0,3.0,6.0,3.0,3.6989700043360187,3.0,4.0,4.0,5.0,5.0,4.698970004336019,2.0,3.6989700043360187,5.0,4.0,4.0,4.0,3.6989700043360187,3.6989700043360187,3.0,4.0,5.698970004336019,3.6989700043360187,3.0,3.6989700043360187,4.0,4.698970004336019,5.0,5.0,4.0,5.698970004336019,2.0,4.698970004336019,3.0,4.0,4.0,5.0,4.0,6.0,5.0,7.0,2.6989700043360187,0.0,5.0,6.0,6.0,5.0,4.0,5.698970004336019,5.0,5.0,5.0,5.0,5.0,7.0,4.0,5.0,6.0,6.0,6.0,6.0,6.0,6.0,3.0,6.0,2.0,5.0,7.0,3.0,7.698970004336019,7.0,8.0,6.698970004336019,5.0,5.698970004336019,6.0,6.0,6.0,6.0,7.0,5.698970004336019,6.0,7.0,6.0,4.0,5.698970004336019,5.698970004336019,7.0,6.0,6.698970004336019,4.0,2.6989700043360187,4.698970004336019,5.0,5.0,6.0,6.0,4.0,4.698970004336019,5.0,2.0,6.0,5.0,4.0,4.0,3.0,4.0,7.0,4.698970004336019,6.0,6.0,3.0,5.698970004336019,5.0,4.698970004336019,6.0,3.6989700043360187,6.0,6.0,6.0,7.0,5.698970004336019,6.0,5.698970004336019,6.698970004336019,5.698970004336019,6.0,6.0,5.0,5.698970004336019,4.698970004336019,4.698970004336019,5.0,2.6989700043360187,3.0,4.698970004336019,2.0,2.0,1.6989700043360187,2.6989700043360187,5.0,1.6989700043360187,3.0,5.0,1.0,3.0,2.0,2.6989700043360187,6.0,6.0,7.0,3.0,0.6989700043360189,2.6989700043360187,4.0,1.0,2.0,5.0,1.0,6.0,6.698970004336019,4.0,2.0,3.0,2.0,2.6989700043360187,1.6989700043360187,3.0,2.6989700043360187,4.0,3.0,3.6989700043360187,2.6989700043360187,6.0,2.6989700043360187,3.0,6.0,7.0,3.0,2.0,3.0,1.0,1.0,0.0,null,1.0,2.6989700043360187,2.0,1.6989700043360187,0.0,3.0,7.0,5.0,6.698970004336019,3.0,1.0,3.0,2.6989700043360187,2.0,7.0,3.0,2.0,5.0,4.0,4.698970004336019,4.0,5.698970004336019,8.0,6.0,8.0,7.0,7.0,6.0,5.0,7.0,6.0,6.0,6.698970004336019,5.0,4.698970004336019,5.698970004336019,5.698970004336019,6.698970004336019,6.0,4.698970004336019,5.0,4.698970004336019,5.0,5.0,4.698970004336019,5.0,4.698970004336019,4.698970004336019,4.698970004336019,3.6989700043360187,6.698970004336019,5.0,4.698970004336019,7.0,7.0,3.6989700043360187,4.0,7.0,6.0,4.698970004336019,4.0,3.0,3.6989700043360187,4.0,4.0,4.0,3.0,3.0,4.0,1.6989700043360187,3.0,4.698970004336019,4.0,6.0,5.0,2.0,3.6989700043360187,4.698970004336019,4.0,2.0,4.698970004336019,4.0,3.0,2.0,5.0,3.0,3.0,2.0,3.0,4.0,3.6989700043360187,5.698970004336019,5.0,1.6989700043360187,2.0,2.0,2.6989700043360187,1.0,4.0,3.6989700043360187,3.0,3.0,5.0,5.0,5.0,6.0,5.0,4.0,4.0,4.0,5.0,3.0,6.0,4.0,4.698970004336019,2.0,1.0,3.6989700043360187,3.0,4.0,3.0,3.0,3.0,5.698970004336019,4.0,3.0,2.6989700043360187,3.0,4.0,2.0,2.0,3.0,1.0,3.6989700043360187,5.0,4.0,2.0,3.0,2.0,3.0,2.0,4.0,1.0,1.0,2.6989700043360187,3.6989700043360187,4.0,2.0,2.6989700043360187,1.0,5.698970004336019,5.698970004336019,4.0,3.6989700043360187,3.6989700043360187,5.698970004336019,5.0,3.6989700043360187,2.0,3.0,3.6989700043360187,6.0,3.0,4.0,5.0,3.0,5.0,1.0,4.0,4.698970004336019,2.6989700043360187,3.0,4.0,2.6989700043360187,3.6989700043360187,3.6989700043360187,4.0,3.6989700043360187,3.6989700043360187,3.6989700043360187,1.0,2.0,1.6989700043360187,2.6989700043360187,1.6989700043360187,1.6989700043360187,1.0,2.6989700043360187,2.0,2.0,3.6989700043360187,1.6989700043360187,2.6989700043360187,4.0,4.0,4.698970004336019,2.0,3.0,4.0,2.0,3.6989700043360187,2.0,1.0,1.6989700043360187,3.0,2.0,1.0,4.0,4.698970004336019,4.698970004336019,4.0,1.6989700043360187,4.0,5.0,4.0,2.0,7.0,1.6989700043360187,6.0,5.0,5.0,5.0,4.0,4.0,1.0,4.0,4.698970004336019,5.0,4.0,0.0,3.0,4.698970004336019,0.0,5.0,3.6989700043360187,4.698970004336019,4.0,2.0,3.0,6.0,5.0,1.0,5.0,3.0,3.6989700043360187,4.0,2.0,2.0,3.0,3.6989700043360187,2.6989700043360187,3.0,5.0,2.6989700043360187,4.0,4.0,3.0,4.0,4.0,2.6989700043360187,4.0,3.0,4.0,3.6989700043360187,1.0,1.0,4.0,0.0,7.698970004336019,7.698970004336019,7.698970004336019,7.0,7.0,7.0,7.0,7.0,7.0,5.698970004336019,6.0,7.0,6.698970004336019,5.698970004336019,3.0,6.698970004336019,6.0,6.0,7.0,6.698970004336019,6.0,6.698970004336019,7.0,7.0,6.0,8.0,6.0,5.0,5.0,6.0,6.0,6.0,6.0,7.0,2.0,4.0,4.0,1.0,2.0,1.6989700043360187,3.0,5.698970004336019,3.0,5.0,2.0,6.0,3.6989700043360187,1.6989700043360187,3.6989700043360187,1.0,7.0,5.0,3.0,1.6989700043360187,3.0,5.0,3.6989700043360187,1.0,1.0,5.0,0.0,4.0,5.0,3.0,2.0,0.6989700043360189,3.0,4.0,1.0,1.0,3.0,4.0,3.6989700043360187,4.0,4.698970004336019,5.0,5.0,0.6989700043360189,4.0,3.0,6.0,6.0,3.6989700043360187,3.0,5.0,5.0,2.6989700043360187,3.0,4.0,4.0,1.0,4.698970004336019,5.0,2.0,1.6989700043360187,3.0,2.0,3.0,3.0,1.6989700043360187,4.0,3.0,2.0,4.0,2.0,2.6989700043360187,1.0,4.698970004336019,1.6989700043360187,2.0,2.0,1.0,2.6989700043360187,2.6989700043360187,2.0,3.0,4.0,2.0,3.0,2.0,1.0,0.0,3.0,0.0,1.0,2.0,5.0,4.698970004336019,4.0,4.0,3.6989700043360187,5.0,4.698970004336019,5.0,3.6989700043360187,4.0,4.698970004336019,4.698970004336019,3.0,4.0,3.0,2.0,3.0,2.0,3.6989700043360187,3.0,2.6989700043360187,4.0,2.6989700043360187,1.6989700043360187,2.0,3.6989700043360187,2.0,2.0,2.6989700043360187,3.0,1.6989700043360187,2.0,2.6989700043360187,2.0,1.6989700043360187,0.0,4.698970004336019,4.0,3.0,0.6989700043360189,4.0,3.6989700043360187,3.0,2.0,3.0,2.0,6.0,7.0,2.0,4.0,4.698970004336019,3.0,1.6989700043360187,3.0,3.0,2.0,5.0,2.0,3.0,4.0,2.6989700043360187,3.0,1.0,1.6989700043360187,2.0,3.0,1.0,1.6989700043360187,5.0,6.0,null,6.0,5.0,4.0,2.0,4.0,6.0,6.0,7.698970004336019,3.0,5.0,6.0,5.698970004336019,5.698970004336019,4.698970004336019,5.0,6.0,6.0,6.0,5.0,4.698970004336019,6.0,7.0,4.0,7.0,6.0,5.0,4.0,2.0,3.0,2.0,3.0,5.0,1.6989700043360187,2.0,5.698970004336019,2.0,3.6989700043360187,6.698970004336019,4.0,6.0,6.0,7.0,4.698970004336019,4.0,5.698970004336019,6.698970004336019,5.698970004336019,7.0,6.0,5.698970004336019,6.0,5.0,6.698970004336019,7.0,6.698970004336019,6.698970004336019,5.698970004336019,5.698970004336019,7.0,5.0,7.0,5.0,5.0,7.0,7.0,4.0,6.0,5.0,6.698970004336019,4.0,6.0,1.6989700043360187,2.0,2.0,1.0,4.0,2.0,3.0,4.0,0.6989700043360189,1.0,1.0,2.0,1.6989700043360187,3.6989700043360187,4.0,5.698970004336019,6.0,3.6989700043360187,1.0,6.0,6.0,6.698970004336019,1.0,7.0,4.0,4.698970004336019,3.6989700043360187,6.0,3.0,6.698970004336019,7.0,7.0,6.0,3.0,4.698970004336019,2.0,6.0,2.0,6.0,2.6989700043360187,3.0,6.0,3.0,6.0,0.0,7.0,1.0,6.0,6.0,1.6989700043360187,2.0,0.6989700043360189,6.0,6.0,6.698970004336019,6.0,4.0,2.0,5.0,6.0,4.698970004336019,3.0,6.0,5.698970004336019,6.0,4.0,6.0,6.698970004336019,5.698970004336019,5.698970004336019,6.0,3.0,4.0,4.698970004336019,3.6989700043360187,5.698970004336019,4.0,5.0,5.0,5.698970004336019,6.0,5.0,6.0,4.698970004336019,5.0,6.0,4.0,3.0,4.0,2.6989700043360187,4.0,4.0,7.698970004336019,2.0,1.6989700043360187,3.6989700043360187,3.6989700043360187,3.6989700043360187,2.6989700043360187,3.0,1.0,3.0,4.0,1.0,2.0,1.0,2.6989700043360187,3.0,2.6989700043360187,2.0,3.0,7.0,3.0,4.698970004336019,7.0,6.0,6.0,3.0,3.0,3.6989700043360187,6.0,2.0,2.6989700043360187,0.0,6.0,3.0,6.0,2.0,6.698970004336019,7.0,6.0,5.0,4.0,5.0,5.0,5.0,5.0,5.698970004336019,5.0,4.698970004336019,6.0,3.0,6.0,6.0,5.0,4.0,5.0,6.698970004336019,5.0,4.0,5.0,6.0,7.0,7.0,5.0,6.698970004336019,5.0,4.0,5.0,6.698970004336019,5.0,7.0,6.0,6.698970004336019,7.0,5.0,7.0,6.698970004336019,5.698970004336019,5.698970004336019,7.0,5.698970004336019,6.0,5.0,5.698970004336019,5.698970004336019,6.0,3.0,6.698970004336019,5.698970004336019,6.0,6.0,5.698970004336019,3.6989700043360187,5.0,6.698970004336019,5.698970004336019,5.0,6.0,5.698970004336019,7.698970004336019,6.0,7.0,5.698970004336019,6.698970004336019,6.698970004336019,5.0,5.698970004336019,5.698970004336019,5.0,7.0,7.0,7.0,5.0,3.0,7.0,7.0,6.698970004336019,7.0,6.0,6.0,7.0,7.0,6.0,7.0,6.698970004336019,7.0,6.0,5.0,7.0,5.698970004336019,7.0,7.0,7.0,6.0,6.698970004336019,7.0,6.698970004336019,6.698970004336019,6.0,6.0,6.698970004336019,7.698970004336019,7.0,7.0,6.698970004336019,4.0,3.0,4.0,1.0,3.0,2.0,1.0,2.0,1.0,1.6989700043360187,2.0,1.0,3.0,1.0,1.0,1.0,4.0,1.0,1.6989700043360187,0.0,1.6989700043360187,1.0,6.0,6.698970004336019,2.0,2.0,7.0,2.0,7.0,5.698970004336019,2.0,6.0,6.0,6.0,2.6989700043360187,7.698970004336019,6.0,7.0,6.0,7.0,6.0,5.698970004336019,6.0,6.0,7.698970004336019,4.698970004336019,2.0,2.0,2.0,2.6989700043360187,4.698970004336019,2.0,3.0,1.0,2.0,1.6989700043360187,2.0,3.0,2.0,2.0,1.6989700043360187,3.6989700043360187,2.0,5.698970004336019,6.0,5.0,2.6989700043360187,3.0,1.0,1.0,1.6989700043360187,2.0,2.6989700043360187,5.698970004336019,null,4.0,5.0,2.6989700043360187,6.0,3.0,4.0,2.0,2.0,5.0,7.0,1.0,7.0,4.0,6.0,5.0,6.0,5.0,5.0,7.0,2.6989700043360187,3.6989700043360187,6.0,5.0,5.0,4.698970004336019,4.698970004336019,5.698970004336019,4.0,5.698970004336019,4.0,4.698970004336019,3.0,4.0,3.0,5.0,3.0,4.0,3.6989700043360187,3.0,3.6989700043360187,5.698970004336019,6.0,5.0,5.698970004336019,5.0,5.698970004336019,1.0,4.698970004336019,3.6989700043360187,3.6989700043360187,3.0,4.0,2.6989700043360187,5.0,5.0,3.0,4.698970004336019,3.0,3.0,6.698970004336019,7.0,3.6989700043360187,2.6989700043360187,6.0,7.0,5.698970004336019,7.0,5.0,5.0,6.0,6.0,6.0,5.698970004336019,5.0,6.0,6.0,6.0,5.698970004336019,3.0,5.0,3.6989700043360187,4.698970004336019,3.0,4.0,4.698970004336019,4.0,2.6989700043360187,3.6989700043360187,6.0,3.0,2.0,2.0,4.0,7.698970004336019,5.698970004336019,2.0,7.0,4.698970004336019,6.698970004336019,4.0,2.6989700043360187,7.0,5.0,5.0,6.698970004336019,6.0,7.0,4.0,2.6989700043360187,3.6989700043360187,5.0,5.0,5.0,7.698970004336019,4.698970004336019,5.0,5.0,4.698970004336019,6.698970004336019,6.698970004336019,6.0,8.0,7.698970004336019,7.698970004336019,9.0,7.0,6.0,6.698970004336019,4.698970004336019,7.0,6.698970004336019,7.698970004336019,7.0,7.0,7.0,7.0,7.0,6.698970004336019,7.0,6.698970004336019,7.698970004336019,6.698970004336019,7.0,5.0,4.698970004336019,3.0,3.0,5.0,4.698970004336019,3.0,3.6989700043360187,3.0,3.0,3.0,2.0,3.6989700043360187,4.0,4.0,3.0,4.698970004336019,4.0,4.0,2.0,2.0,1.6989700043360187,2.6989700043360187,5.0,4.0,6.0,3.0,3.0,3.0,2.6989700043360187,2.6989700043360187,3.0,4.698970004336019,3.0,3.0,2.0,2.0,3.0,6.698970004336019,1.6989700043360187,3.0,2.6989700043360187,null,1.6989700043360187,1.0,3.0,3.0,1.0,1.6989700043360187,2.0,2.0,2.0,1.0,2.0,null,2.0,3.0,2.0,3.0,4.0,3.0,1.0,1.0,4.698970004336019,1.6989700043360187,1.0,1.0,2.0,0.6989700043360189,4.0,2.0,null,2.0,6.698970004336019,2.0,1.0,6.0,4.0,6.0,5.0,4.698970004336019,5.0,4.698970004336019,4.698970004336019,3.0,4.0,3.0,3.0,3.0,3.6989700043360187,4.0,3.0,3.0,1.0,2.0,3.0,2.0,3.0,3.0,2.0,3.0,0.6989700043360189,3.6989700043360187,3.6989700043360187,3.0,6.0,3.0,5.698970004336019,3.0,2.6989700043360187,5.0,5.0,7.0,6.0,6.0,3.0,6.698970004336019,2.6989700043360187,5.698970004336019,6.0,6.0,6.0,5.0,5.0,5.0,7.0,2.6989700043360187,1.0,5.0,2.0,0.6989700043360189,1.6989700043360187,2.0,5.0,1.0,6.0,2.0,0.6989700043360189,2.0,1.0,4.0,1.0,4.0,5.0,1.0,5.0,1.0,7.698970004336019,5.0,4.0,6.698970004336019,2.6989700043360187,7.0,4.0,4.698970004336019,5.698970004336019,5.0,5.0,7.0,3.6989700043360187,5.0,6.698970004336019,4.698970004336019,6.0,7.0,6.0,6.698970004336019,7.0,6.0,5.0,6.698970004336019,7.0,5.0,5.698970004336019,4.0,6.698970004336019,4.698970004336019,5.698970004336019,3.6989700043360187,5.698970004336019,3.6989700043360187,4.698970004336019,3.6989700043360187,3.0,3.6989700043360187,5.0,3.6989700043360187,3.6989700043360187,3.6989700043360187,1.6989700043360187,6.0,3.0,5.0,6.0,6.0,5.698970004336019,2.0,5.0,5.0,6.698970004336019,3.6989700043360187,4.698970004336019,2.6989700043360187,6.698970004336019,3.0,2.0,6.698970004336019,3.6989700043360187,5.0,2.0,3.6989700043360187,4.698970004336019,4.0,3.0,1.6989700043360187,2.6989700043360187,3.0,2.0,3.0,3.0,2.0,0.6989700043360189,4.0,3.0,3.6989700043360187,2.0,0.6989700043360189,2.6989700043360187,3.0,2.0,0.6989700043360189,2.6989700043360187,4.0,2.6989700043360187,4.0,1.0,7.0,0.0,2.6989700043360187,2.0,0.6989700043360189,1.0,1.0,3.0,1.6989700043360187,4.0,2.0,6.0,6.0,7.0,4.0,5.0,5.0,2.6989700043360187,6.0,2.0,5.698970004336019,6.698970004336019,4.698970004336019,6.0,6.0,5.698970004336019,6.0,5.0,4.0,4.0,3.0,4.698970004336019,5.0,5.0,5.0,6.0,4.0,3.6989700043360187,5.698970004336019,3.0,4.698970004336019,4.0,4.0,4.0,4.698970004336019,6.0,3.0,5.0,6.0,3.6989700043360187,4.0,4.698970004336019,4.0,4.0,3.6989700043360187,5.0,3.6989700043360187,3.0,4.0,5.0,3.0,4.698970004336019,3.6989700043360187,3.6989700043360187,3.0,3.0,2.0,5.0,5.0,0.6989700043360189,7.0,6.0,6.0,3.6989700043360187,3.6989700043360187,3.0,2.6989700043360187,6.0,6.698970004336019,6.698970004336019,3.0,6.0,7.0,3.0,3.0,3.0,8.0,1.0,6.698970004336019,7.0,7.0,6.0,7.0,7.0,7.0,6.0,7.698970004336019,6.0,5.698970004336019,6.0,7.698970004336019,5.0,6.0,6.0,4.0,5.698970004336019,6.0,5.698970004336019,5.0,4.698970004336019,5.698970004336019,7.0,4.0,6.698970004336019,2.6989700043360187,5.0,5.0,4.698970004336019,5.698970004336019,3.6989700043360187,5.0,5.0,3.6989700043360187,3.6989700043360187,6.0,5.0,5.0,3.6989700043360187,3.0,4.0,5.0,4.0,1.6989700043360187,3.6989700043360187,5.0,4.0,2.6989700043360187,4.0,4.0,6.0,5.0,5.698970004336019,4.0,4.0,4.0,4.0,6.0,2.0,4.698970004336019,4.0,4.0,4.698970004336019,5.0,8.0,5.0,4.0,2.6989700043360187,6.0,3.6989700043360187,4.0,4.0,3.6989700043360187,4.0,3.0,4.698970004336019,2.6989700043360187,2.0,4.0,4.0,5.0,2.0,4.698970004336019,5.0,3.0,4.0,5.0,6.698970004336019,2.6989700043360187,4.698970004336019,4.0,2.6989700043360187,4.0,5.0,4.0,5.0,3.6989700043360187,4.0,5.0,3.0,5.0,5.0,4.0,4.0,2.6989700043360187,5.0,3.0,6.0,1.0,3.0,0.0,6.0,3.0,4.0,3.6989700043360187,5.698970004336019,4.0,3.0,4.0,3.0,3.6989700043360187,4.0,2.0,5.0,4.0,1.6989700043360187,4.0,4.0,4.698970004336019,6.0,6.698970004336019,3.0,3.6989700043360187,3.0,4.698970004336019,3.0,1.0,2.6989700043360187,8.0,2.0,1.0,2.6989700043360187,2.0,2.0,3.0,3.0,3.0,3.0,2.0,2.0,2.0,3.0,4.0,2.6989700043360187,2.0,3.0,2.6989700043360187,1.0,2.0,1.6989700043360187,2.0,3.0,2.0,4.0,2.0,3.6989700043360187,1.0,3.0,2.0,2.6989700043360187,3.6989700043360187,3.0,6.0,3.0,1.0,2.0,1.0,1.0,4.0,1.6989700043360187,6.0,6.698970004336019,6.698970004336019,3.0,7.0,4.0,7.0,1.0,7.698970004336019,6.698970004336019,4.0,6.0,6.0,7.0,6.0,6.0,7.0,5.698970004336019,5.0,6.698970004336019,6.0,5.698970004336019,5.698970004336019,6.0,6.0,5.698970004336019,6.698970004336019,4.0,3.6989700043360187,1.0,2.0,4.0,2.6989700043360187,3.0,2.6989700043360187,3.0,3.0,3.0,7.698970004336019,3.6989700043360187,3.0,2.6989700043360187,2.0,2.6989700043360187,2.0,3.0,2.0,0.0,3.0,6.0,2.0,2.6989700043360187,3.0,6.698970004336019,4.0,2.0,6.698970004336019,3.0,4.0,7.698970004336019,4.698970004336019,5.0,2.0,2.6989700043360187,6.0,6.698970004336019,5.0,6.0,5.698970004336019,2.0,5.0,6.0,4.0,4.0,5.0,6.0,4.0,5.698970004336019,4.0,6.0,3.0,4.0,6.0,3.0,3.0,5.698970004336019,3.6989700043360187,3.0,5.0,2.0,3.6989700043360187,4.698970004336019,5.698970004336019,3.6989700043360187,5.0,5.0,4.0,4.0,4.698970004336019,5.698970004336019,4.0,5.0,7.0,3.0,4.698970004336019,4.698970004336019,4.0,3.0,4.698970004336019,5.698970004336019,5.698970004336019,4.0,2.0,3.0,2.0,4.0,3.0,3.6989700043360187,6.0,4.0,2.6989700043360187,3.0,6.698970004336019,2.0,2.0,2.0,1.6989700043360187,4.0,2.0,2.0,2.0,7.0,6.0,7.0,5.0,7.0,7.0,5.698970004336019,7.0,1.0,6.0,5.0,7.698970004336019,6.0,4.698970004336019,2.6989700043360187,2.0,6.0,1.0,4.0,7.0,6.0,5.0,1.0,1.0,6.0,4.0,1.0,1.0,0.0,5.0,2.0,1.0,0.6989700043360189,1.6989700043360187,2.0,1.6989700043360187,2.0,1.0,4.0,0.0,0.6989700043360189,1.6989700043360187,1.0,1.0,1.6989700043360187,1.0,1.0,7.698970004336019,1.0,1.0,4.0,0.6989700043360189,6.698970004336019,0.6989700043360189,3.0,1.0,2.0,0.6989700043360189,1.0,1.0,0.6989700043360189,1.0,2.0,1.0,4.698970004336019,0.6989700043360189,6.698970004336019,5.0,3.0,4.0,4.698970004336019,4.0,5.0,3.6989700043360187,3.0,4.0,3.6989700043360187,5.0,4.698970004336019,4.0,5.0,3.0,3.6989700043360187,3.0,3.6989700043360187,3.6989700043360187,3.0,3.6989700043360187,3.0,2.6989700043360187,3.0,3.0,3.6989700043360187,3.6989700043360187,4.698970004336019,3.0,5.0,2.6989700043360187,4.0,4.0,3.0,4.0,4.698970004336019,1.0,2.0,3.6989700043360187,3.6989700043360187,2.6989700043360187,3.6989700043360187,2.0,1.0,4.0,3.6989700043360187,2.0,6.0,3.6989700043360187,2.0,4.0,4.0,2.0,1.6989700043360187,5.0,4.0,1.0,1.6989700043360187,3.0,3.0,3.0,5.0,3.0,3.6989700043360187,4.0,3.0,3.6989700043360187,7.0,2.6989700043360187,4.0,4.0,3.0,5.0,5.698970004336019,4.0,4.0,5.0,6.0,8.0,4.0,4.0,1.0,1.0,5.0,1.6989700043360187,0.0,3.0,2.0,0.6989700043360189,1.0,1.6989700043360187,1.0,1.0,1.0,2.6989700043360187,1.0,4.0,3.0,3.6989700043360187,1.0,0.6989700043360189,1.0,6.0,1.0,6.0,1.0,1.6989700043360187,2.6989700043360187,2.0,4.0,5.0,5.0,5.0,6.0,6.698970004336019,6.0,4.0,4.0,7.0,5.0,3.0,2.0,2.6989700043360187,2.0,2.0,2.0,2.0,2.0,0.0,2.0,1.6989700043360187,3.0,0.0,2.6989700043360187,1.6989700043360187,2.0,2.0,2.6989700043360187,8.0,0.0,2.0,7.0,6.0,6.0,5.0,6.698970004336019,5.0,7.0,6.0,3.6989700043360187,3.0,6.0,2.0,5.0,7.0,4.0,3.0,6.0,4.698970004336019,7.0,7.0,4.698970004336019,6.698970004336019,5.0,4.0,2.0,2.0,2.0,3.0,3.6989700043360187,5.698970004336019,7.0,6.0,3.0,2.6989700043360187,2.0,0.0,3.0,3.6989700043360187,1.0,3.0,5.0,3.0,3.6989700043360187,6.0,4.0,4.0,3.6989700043360187,4.698970004336019,6.0,3.0,3.0,3.0,1.0,4.698970004336019,0.0,5.0,5.0,2.6989700043360187,2.0,5.0,3.0,2.0,1.0,1.0,0.0,1.0,5.0,4.0,4.0,3.0,7.0,4.0,4.698970004336019,7.0,4.0,4.698970004336019,4.698970004336019,2.6989700043360187,4.698970004336019,4.698970004336019,4.698970004336019,6.0,5.698970004336019,3.0,5.0,6.0,6.0,1.6989700043360187,5.0,3.6989700043360187,3.0,4.0,6.0,5.0,2.0,2.6989700043360187,2.0,4.698970004336019,6.0,2.0,2.0,3.0,4.0,4.698970004336019,5.698970004336019,2.0,5.0,4.0,3.6989700043360187,3.0,1.6989700043360187,1.0,2.0,4.0,2.0,6.698970004336019,3.6989700043360187,4.0,4.0,5.0,3.6989700043360187,5.0,3.0,2.6989700043360187,1.0,3.6989700043360187,2.0,3.0,3.0,7.0],\"yaxis\":\"y\",\"type\":\"scattergl\"}],                        {\"template\":{\"data\":{\"histogram2dcontour\":[{\"type\":\"histogram2dcontour\",\"colorbar\":{\"outlinewidth\":0,\"ticks\":\"\"},\"colorscale\":[[0.0,\"#0d0887\"],[0.1111111111111111,\"#46039f\"],[0.2222222222222222,\"#7201a8\"],[0.3333333333333333,\"#9c179e\"],[0.4444444444444444,\"#bd3786\"],[0.5555555555555556,\"#d8576b\"],[0.6666666666666666,\"#ed7953\"],[0.7777777777777778,\"#fb9f3a\"],[0.8888888888888888,\"#fdca26\"],[1.0,\"#f0f921\"]]}],\"choropleth\":[{\"type\":\"choropleth\",\"colorbar\":{\"outlinewidth\":0,\"ticks\":\"\"}}],\"histogram2d\":[{\"type\":\"histogram2d\",\"colorbar\":{\"outlinewidth\":0,\"ticks\":\"\"},\"colorscale\":[[0.0,\"#0d0887\"],[0.1111111111111111,\"#46039f\"],[0.2222222222222222,\"#7201a8\"],[0.3333333333333333,\"#9c179e\"],[0.4444444444444444,\"#bd3786\"],[0.5555555555555556,\"#d8576b\"],[0.6666666666666666,\"#ed7953\"],[0.7777777777777778,\"#fb9f3a\"],[0.8888888888888888,\"#fdca26\"],[1.0,\"#f0f921\"]]}],\"heatmap\":[{\"type\":\"heatmap\",\"colorbar\":{\"outlinewidth\":0,\"ticks\":\"\"},\"colorscale\":[[0.0,\"#0d0887\"],[0.1111111111111111,\"#46039f\"],[0.2222222222222222,\"#7201a8\"],[0.3333333333333333,\"#9c179e\"],[0.4444444444444444,\"#bd3786\"],[0.5555555555555556,\"#d8576b\"],[0.6666666666666666,\"#ed7953\"],[0.7777777777777778,\"#fb9f3a\"],[0.8888888888888888,\"#fdca26\"],[1.0,\"#f0f921\"]]}],\"heatmapgl\":[{\"type\":\"heatmapgl\",\"colorbar\":{\"outlinewidth\":0,\"ticks\":\"\"},\"colorscale\":[[0.0,\"#0d0887\"],[0.1111111111111111,\"#46039f\"],[0.2222222222222222,\"#7201a8\"],[0.3333333333333333,\"#9c179e\"],[0.4444444444444444,\"#bd3786\"],[0.5555555555555556,\"#d8576b\"],[0.6666666666666666,\"#ed7953\"],[0.7777777777777778,\"#fb9f3a\"],[0.8888888888888888,\"#fdca26\"],[1.0,\"#f0f921\"]]}],\"contourcarpet\":[{\"type\":\"contourcarpet\",\"colorbar\":{\"outlinewidth\":0,\"ticks\":\"\"}}],\"contour\":[{\"type\":\"contour\",\"colorbar\":{\"outlinewidth\":0,\"ticks\":\"\"},\"colorscale\":[[0.0,\"#0d0887\"],[0.1111111111111111,\"#46039f\"],[0.2222222222222222,\"#7201a8\"],[0.3333333333333333,\"#9c179e\"],[0.4444444444444444,\"#bd3786\"],[0.5555555555555556,\"#d8576b\"],[0.6666666666666666,\"#ed7953\"],[0.7777777777777778,\"#fb9f3a\"],[0.8888888888888888,\"#fdca26\"],[1.0,\"#f0f921\"]]}],\"surface\":[{\"type\":\"surface\",\"colorbar\":{\"outlinewidth\":0,\"ticks\":\"\"},\"colorscale\":[[0.0,\"#0d0887\"],[0.1111111111111111,\"#46039f\"],[0.2222222222222222,\"#7201a8\"],[0.3333333333333333,\"#9c179e\"],[0.4444444444444444,\"#bd3786\"],[0.5555555555555556,\"#d8576b\"],[0.6666666666666666,\"#ed7953\"],[0.7777777777777778,\"#fb9f3a\"],[0.8888888888888888,\"#fdca26\"],[1.0,\"#f0f921\"]]}],\"mesh3d\":[{\"type\":\"mesh3d\",\"colorbar\":{\"outlinewidth\":0,\"ticks\":\"\"}}],\"scatter\":[{\"fillpattern\":{\"fillmode\":\"overlay\",\"size\":10,\"solidity\":0.2},\"type\":\"scatter\"}],\"parcoords\":[{\"type\":\"parcoords\",\"line\":{\"colorbar\":{\"outlinewidth\":0,\"ticks\":\"\"}}}],\"scatterpolargl\":[{\"type\":\"scatterpolargl\",\"marker\":{\"colorbar\":{\"outlinewidth\":0,\"ticks\":\"\"}}}],\"bar\":[{\"error_x\":{\"color\":\"#2a3f5f\"},\"error_y\":{\"color\":\"#2a3f5f\"},\"marker\":{\"line\":{\"color\":\"#E5ECF6\",\"width\":0.5},\"pattern\":{\"fillmode\":\"overlay\",\"size\":10,\"solidity\":0.2}},\"type\":\"bar\"}],\"scattergeo\":[{\"type\":\"scattergeo\",\"marker\":{\"colorbar\":{\"outlinewidth\":0,\"ticks\":\"\"}}}],\"scatterpolar\":[{\"type\":\"scatterpolar\",\"marker\":{\"colorbar\":{\"outlinewidth\":0,\"ticks\":\"\"}}}],\"histogram\":[{\"marker\":{\"pattern\":{\"fillmode\":\"overlay\",\"size\":10,\"solidity\":0.2}},\"type\":\"histogram\"}],\"scattergl\":[{\"type\":\"scattergl\",\"marker\":{\"colorbar\":{\"outlinewidth\":0,\"ticks\":\"\"}}}],\"scatter3d\":[{\"type\":\"scatter3d\",\"line\":{\"colorbar\":{\"outlinewidth\":0,\"ticks\":\"\"}},\"marker\":{\"colorbar\":{\"outlinewidth\":0,\"ticks\":\"\"}}}],\"scattermapbox\":[{\"type\":\"scattermapbox\",\"marker\":{\"colorbar\":{\"outlinewidth\":0,\"ticks\":\"\"}}}],\"scatterternary\":[{\"type\":\"scatterternary\",\"marker\":{\"colorbar\":{\"outlinewidth\":0,\"ticks\":\"\"}}}],\"scattercarpet\":[{\"type\":\"scattercarpet\",\"marker\":{\"colorbar\":{\"outlinewidth\":0,\"ticks\":\"\"}}}],\"carpet\":[{\"aaxis\":{\"endlinecolor\":\"#2a3f5f\",\"gridcolor\":\"white\",\"linecolor\":\"white\",\"minorgridcolor\":\"white\",\"startlinecolor\":\"#2a3f5f\"},\"baxis\":{\"endlinecolor\":\"#2a3f5f\",\"gridcolor\":\"white\",\"linecolor\":\"white\",\"minorgridcolor\":\"white\",\"startlinecolor\":\"#2a3f5f\"},\"type\":\"carpet\"}],\"table\":[{\"cells\":{\"fill\":{\"color\":\"#EBF0F8\"},\"line\":{\"color\":\"white\"}},\"header\":{\"fill\":{\"color\":\"#C8D4E3\"},\"line\":{\"color\":\"white\"}},\"type\":\"table\"}],\"barpolar\":[{\"marker\":{\"line\":{\"color\":\"#E5ECF6\",\"width\":0.5},\"pattern\":{\"fillmode\":\"overlay\",\"size\":10,\"solidity\":0.2}},\"type\":\"barpolar\"}],\"pie\":[{\"automargin\":true,\"type\":\"pie\"}]},\"layout\":{\"autotypenumbers\":\"strict\",\"colorway\":[\"#636efa\",\"#EF553B\",\"#00cc96\",\"#ab63fa\",\"#FFA15A\",\"#19d3f3\",\"#FF6692\",\"#B6E880\",\"#FF97FF\",\"#FECB52\"],\"font\":{\"color\":\"#2a3f5f\"},\"hovermode\":\"closest\",\"hoverlabel\":{\"align\":\"left\"},\"paper_bgcolor\":\"white\",\"plot_bgcolor\":\"#E5ECF6\",\"polar\":{\"bgcolor\":\"#E5ECF6\",\"angularaxis\":{\"gridcolor\":\"white\",\"linecolor\":\"white\",\"ticks\":\"\"},\"radialaxis\":{\"gridcolor\":\"white\",\"linecolor\":\"white\",\"ticks\":\"\"}},\"ternary\":{\"bgcolor\":\"#E5ECF6\",\"aaxis\":{\"gridcolor\":\"white\",\"linecolor\":\"white\",\"ticks\":\"\"},\"baxis\":{\"gridcolor\":\"white\",\"linecolor\":\"white\",\"ticks\":\"\"},\"caxis\":{\"gridcolor\":\"white\",\"linecolor\":\"white\",\"ticks\":\"\"}},\"coloraxis\":{\"colorbar\":{\"outlinewidth\":0,\"ticks\":\"\"}},\"colorscale\":{\"sequential\":[[0.0,\"#0d0887\"],[0.1111111111111111,\"#46039f\"],[0.2222222222222222,\"#7201a8\"],[0.3333333333333333,\"#9c179e\"],[0.4444444444444444,\"#bd3786\"],[0.5555555555555556,\"#d8576b\"],[0.6666666666666666,\"#ed7953\"],[0.7777777777777778,\"#fb9f3a\"],[0.8888888888888888,\"#fdca26\"],[1.0,\"#f0f921\"]],\"sequentialminus\":[[0.0,\"#0d0887\"],[0.1111111111111111,\"#46039f\"],[0.2222222222222222,\"#7201a8\"],[0.3333333333333333,\"#9c179e\"],[0.4444444444444444,\"#bd3786\"],[0.5555555555555556,\"#d8576b\"],[0.6666666666666666,\"#ed7953\"],[0.7777777777777778,\"#fb9f3a\"],[0.8888888888888888,\"#fdca26\"],[1.0,\"#f0f921\"]],\"diverging\":[[0,\"#8e0152\"],[0.1,\"#c51b7d\"],[0.2,\"#de77ae\"],[0.3,\"#f1b6da\"],[0.4,\"#fde0ef\"],[0.5,\"#f7f7f7\"],[0.6,\"#e6f5d0\"],[0.7,\"#b8e186\"],[0.8,\"#7fbc41\"],[0.9,\"#4d9221\"],[1,\"#276419\"]]},\"xaxis\":{\"gridcolor\":\"white\",\"linecolor\":\"white\",\"ticks\":\"\",\"title\":{\"standoff\":15},\"zerolinecolor\":\"white\",\"automargin\":true,\"zerolinewidth\":2},\"yaxis\":{\"gridcolor\":\"white\",\"linecolor\":\"white\",\"ticks\":\"\",\"title\":{\"standoff\":15},\"zerolinecolor\":\"white\",\"automargin\":true,\"zerolinewidth\":2},\"scene\":{\"xaxis\":{\"backgroundcolor\":\"#E5ECF6\",\"gridcolor\":\"white\",\"linecolor\":\"white\",\"showbackground\":true,\"ticks\":\"\",\"zerolinecolor\":\"white\",\"gridwidth\":2},\"yaxis\":{\"backgroundcolor\":\"#E5ECF6\",\"gridcolor\":\"white\",\"linecolor\":\"white\",\"showbackground\":true,\"ticks\":\"\",\"zerolinecolor\":\"white\",\"gridwidth\":2},\"zaxis\":{\"backgroundcolor\":\"#E5ECF6\",\"gridcolor\":\"white\",\"linecolor\":\"white\",\"showbackground\":true,\"ticks\":\"\",\"zerolinecolor\":\"white\",\"gridwidth\":2}},\"shapedefaults\":{\"line\":{\"color\":\"#2a3f5f\"}},\"annotationdefaults\":{\"arrowcolor\":\"#2a3f5f\",\"arrowhead\":0,\"arrowwidth\":1},\"geo\":{\"bgcolor\":\"white\",\"landcolor\":\"#E5ECF6\",\"subunitcolor\":\"white\",\"showland\":true,\"showlakes\":true,\"lakecolor\":\"white\"},\"title\":{\"x\":0.05},\"mapbox\":{\"style\":\"light\"}}},\"xaxis\":{\"anchor\":\"y\",\"domain\":[0.0,1.0],\"title\":{\"text\":\"Reviews\"}},\"yaxis\":{\"anchor\":\"x\",\"domain\":[0.0,1.0],\"title\":{\"text\":\"Installs\"}},\"legend\":{\"tracegroupgap\":0},\"margin\":{\"t\":60},\"width\":600,\"height\":400,\"title\":{\"text\":\"Scatter Plot of Reviews vs Installs\"}},                        {\"responsive\": true}                    ).then(function(){\n",
       "                            \n",
       "var gd = document.getElementById('7be40974-721a-4dea-847b-f6b672a1eab3');\n",
       "var x = new MutationObserver(function (mutations, observer) {{\n",
       "        var display = window.getComputedStyle(gd).display;\n",
       "        if (!display || display === 'none') {{\n",
       "            console.log([gd, 'removed!']);\n",
       "            Plotly.purge(gd);\n",
       "            observer.disconnect();\n",
       "        }}\n",
       "}});\n",
       "\n",
       "// Listen for the removal of the full notebook cells\n",
       "var notebookContainer = gd.closest('#notebook-container');\n",
       "if (notebookContainer) {{\n",
       "    x.observe(notebookContainer, {childList: true});\n",
       "}}\n",
       "\n",
       "// Listen for the clearing of the current output cell\n",
       "var outputEl = gd.closest('.output');\n",
       "if (outputEl) {{\n",
       "    x.observe(outputEl, {childList: true});\n",
       "}}\n",
       "\n",
       "                        })                };                });            </script>        </div>"
      ]
     },
     "metadata": {},
     "output_type": "display_data"
    }
   ],
   "source": [
    "fig = px.scatter(df, x=np.log10(df['Reviews']), y=np.log10(df['Installs']))\n",
    "fig.update_layout(width=600, height=400,\n",
    "    title=\"Scatter Plot of Reviews vs Installs\",\n",
    "    xaxis_title=\"Reviews\",\n",
    "    yaxis_title=\"Installs\"\n",
    ")\n",
    "fig.show()"
   ]
  }
 ],
 "metadata": {
  "kernelspec": {
   "display_name": "Python 3",
   "language": "python",
   "name": "python3"
  },
  "language_info": {
   "codemirror_mode": {
    "name": "ipython",
    "version": 3
   },
   "file_extension": ".py",
   "mimetype": "text/x-python",
   "name": "python",
   "nbconvert_exporter": "python",
   "pygments_lexer": "ipython3",
   "version": "3.10.12"
  },
  "papermill": {
   "default_parameters": {},
   "duration": 18.968959,
   "end_time": "2023-11-10T06:02:51.021627",
   "environment_variables": {},
   "exception": null,
   "input_path": "__notebook__.ipynb",
   "output_path": "__notebook__.ipynb",
   "parameters": {},
   "start_time": "2023-11-10T06:02:32.052668",
   "version": "2.4.0"
  }
 },
 "nbformat": 4,
 "nbformat_minor": 5
}
